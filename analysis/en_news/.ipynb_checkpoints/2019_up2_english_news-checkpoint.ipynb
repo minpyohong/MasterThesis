{
 "cells": [
  {
   "cell_type": "code",
   "execution_count": 1,
   "metadata": {},
   "outputs": [],
   "source": [
    "import chardet\n",
    "import pandas as pd\n",
    "import urllib.request\n",
    "\n",
    "    \n",
    "#print(encoding_result)\n",
    "data = pd.read_csv('../../news/scraping_result/en/2019_up2/2019_up2_Coindesk.csv', error_bad_lines=False)\n",
    "data = data.append(pd.read_csv('../../news/scraping_result/en/2019_up2/2019_up2_Cointelegraph.csv',error_bad_lines=False))\n",
    "data = data.append(pd.read_csv('../../news/scraping_result/en/2019_up2/2019_up2_CryptoNews.csv', error_bad_lines=False))\n",
    "data = data.append(pd.read_csv('../../news/scraping_result/en/2019_up2/2019_up2_Forbes.csv', error_bad_lines=False))\n"
   ]
  },
  {
   "cell_type": "code",
   "execution_count": 2,
   "metadata": {},
   "outputs": [
    {
     "name": "stderr",
     "output_type": "stream",
     "text": [
      "/Users/hongminpyo/opt/anaconda3/lib/python3.7/site-packages/ipykernel_launcher.py:2: SettingWithCopyWarning: \n",
      "A value is trying to be set on a copy of a slice from a DataFrame.\n",
      "Try using .loc[row_indexer,col_indexer] = value instead\n",
      "\n",
      "See the caveats in the documentation: http://pandas.pydata.org/pandas-docs/stable/user_guide/indexing.html#returning-a-view-versus-a-copy\n",
      "  \n",
      "/Users/hongminpyo/opt/anaconda3/lib/python3.7/site-packages/ipykernel_launcher.py:3: SettingWithCopyWarning: \n",
      "A value is trying to be set on a copy of a slice from a DataFrame.\n",
      "Try using .loc[row_indexer,col_indexer] = value instead\n",
      "\n",
      "See the caveats in the documentation: http://pandas.pydata.org/pandas-docs/stable/user_guide/indexing.html#returning-a-view-versus-a-copy\n",
      "  This is separate from the ipykernel package so we can avoid doing imports until\n",
      "/Users/hongminpyo/opt/anaconda3/lib/python3.7/site-packages/ipykernel_launcher.py:4: SettingWithCopyWarning: \n",
      "A value is trying to be set on a copy of a slice from a DataFrame.\n",
      "Try using .loc[row_indexer,col_indexer] = value instead\n",
      "\n",
      "See the caveats in the documentation: http://pandas.pydata.org/pandas-docs/stable/user_guide/indexing.html#returning-a-view-versus-a-copy\n",
      "  after removing the cwd from sys.path.\n",
      "/Users/hongminpyo/opt/anaconda3/lib/python3.7/site-packages/ipykernel_launcher.py:5: SettingWithCopyWarning: \n",
      "A value is trying to be set on a copy of a slice from a DataFrame.\n",
      "Try using .loc[row_indexer,col_indexer] = value instead\n",
      "\n",
      "See the caveats in the documentation: http://pandas.pydata.org/pandas-docs/stable/user_guide/indexing.html#returning-a-view-versus-a-copy\n",
      "  \"\"\"\n",
      "/Users/hongminpyo/opt/anaconda3/lib/python3.7/site-packages/ipykernel_launcher.py:7: SettingWithCopyWarning: \n",
      "A value is trying to be set on a copy of a slice from a DataFrame.\n",
      "Try using .loc[row_indexer,col_indexer] = value instead\n",
      "\n",
      "See the caveats in the documentation: http://pandas.pydata.org/pandas-docs/stable/user_guide/indexing.html#returning-a-view-versus-a-copy\n",
      "  import sys\n",
      "/Users/hongminpyo/opt/anaconda3/lib/python3.7/site-packages/ipykernel_launcher.py:8: SettingWithCopyWarning: \n",
      "A value is trying to be set on a copy of a slice from a DataFrame.\n",
      "Try using .loc[row_indexer,col_indexer] = value instead\n",
      "\n",
      "See the caveats in the documentation: http://pandas.pydata.org/pandas-docs/stable/user_guide/indexing.html#returning-a-view-versus-a-copy\n",
      "  \n",
      "/Users/hongminpyo/opt/anaconda3/lib/python3.7/site-packages/ipykernel_launcher.py:9: SettingWithCopyWarning: \n",
      "A value is trying to be set on a copy of a slice from a DataFrame.\n",
      "Try using .loc[row_indexer,col_indexer] = value instead\n",
      "\n",
      "See the caveats in the documentation: http://pandas.pydata.org/pandas-docs/stable/user_guide/indexing.html#returning-a-view-versus-a-copy\n",
      "  if __name__ == '__main__':\n"
     ]
    }
   ],
   "source": [
    "text = data[['main article']]\n",
    "text['main article'] = text['main article'].astype(str)\n",
    "text['main article'] = text.apply(lambda row: row['main article'].replace(\"/\",\" \"), axis=1)\n",
    "text['main article'] = text.apply(lambda row: row['main article'].replace(\"-\",\" \"), axis=1)\n",
    "text['main article'] = text.apply(lambda row: row['main article'].replace(\"—\",\" \"), axis=1)\n",
    "#text['main article'] = text.apply(lambda row: row['main article'].replace(\"\",\"\"), axis=1)\n",
    "text['main article'] = text.apply(lambda row: row['main article'].replace(\"*\",\" \"), axis=1)\n",
    "text['main article'] = text.apply(lambda row: row['main article'].replace(\"…\",\" \"), axis=1)\n",
    "text['main article'] = text.apply(lambda row: row['main article'].replace(\"\\\\\",\" \"), axis=1)\n",
    "\n"
   ]
  },
  {
   "cell_type": "code",
   "execution_count": 3,
   "metadata": {},
   "outputs": [
    {
     "name": "stderr",
     "output_type": "stream",
     "text": [
      "/Users/hongminpyo/opt/anaconda3/lib/python3.7/site-packages/ipykernel_launcher.py:2: SettingWithCopyWarning: \n",
      "A value is trying to be set on a copy of a slice from a DataFrame.\n",
      "Try using .loc[row_indexer,col_indexer] = value instead\n",
      "\n",
      "See the caveats in the documentation: http://pandas.pydata.org/pandas-docs/stable/user_guide/indexing.html#returning-a-view-versus-a-copy\n",
      "  \n"
     ]
    }
   ],
   "source": [
    "import nltk\n",
    "text['main article'] = text.apply(lambda row: nltk.word_tokenize(row['main article']), axis=1)"
   ]
  },
  {
   "cell_type": "code",
   "execution_count": 4,
   "metadata": {},
   "outputs": [
    {
     "name": "stderr",
     "output_type": "stream",
     "text": [
      "/Users/hongminpyo/opt/anaconda3/lib/python3.7/site-packages/ipykernel_launcher.py:2: SettingWithCopyWarning: \n",
      "A value is trying to be set on a copy of a slice from a DataFrame.\n",
      "Try using .loc[row_indexer,col_indexer] = value instead\n",
      "\n",
      "See the caveats in the documentation: http://pandas.pydata.org/pandas-docs/stable/user_guide/indexing.html#returning-a-view-versus-a-copy\n",
      "  \n",
      "/Users/hongminpyo/opt/anaconda3/lib/python3.7/site-packages/ipykernel_launcher.py:4: SettingWithCopyWarning: \n",
      "A value is trying to be set on a copy of a slice from a DataFrame.\n",
      "Try using .loc[row_indexer,col_indexer] = value instead\n",
      "\n",
      "See the caveats in the documentation: http://pandas.pydata.org/pandas-docs/stable/user_guide/indexing.html#returning-a-view-versus-a-copy\n",
      "  after removing the cwd from sys.path.\n"
     ]
    }
   ],
   "source": [
    "# 소문자 적용 , - 문자 삭제\n",
    "text['main article'] = text['main article'].apply(lambda x : [word.lower().replace(\"-\",\"\") for word in x])\n",
    "# 공백문자 삭제\n",
    "text['main article'] = text['main article'].apply(lambda x : [word for word in x if word])"
   ]
  },
  {
   "cell_type": "code",
   "execution_count": 5,
   "metadata": {},
   "outputs": [
    {
     "name": "stderr",
     "output_type": "stream",
     "text": [
      "/Users/hongminpyo/opt/anaconda3/lib/python3.7/site-packages/ipykernel_launcher.py:3: SettingWithCopyWarning: \n",
      "A value is trying to be set on a copy of a slice from a DataFrame.\n",
      "Try using .loc[row_indexer,col_indexer] = value instead\n",
      "\n",
      "See the caveats in the documentation: http://pandas.pydata.org/pandas-docs/stable/user_guide/indexing.html#returning-a-view-versus-a-copy\n",
      "  This is separate from the ipykernel package so we can avoid doing imports until\n"
     ]
    }
   ],
   "source": [
    "from nltk.tag import pos_tag\n",
    "\n",
    "text['pos tag'] = text.apply(lambda row: pos_tag(row['main article']), axis=1)"
   ]
  },
  {
   "cell_type": "code",
   "execution_count": 6,
   "metadata": {},
   "outputs": [
    {
     "name": "stderr",
     "output_type": "stream",
     "text": [
      "/Users/hongminpyo/opt/anaconda3/lib/python3.7/site-packages/ipykernel_launcher.py:2: SettingWithCopyWarning: \n",
      "A value is trying to be set on a copy of a slice from a DataFrame.\n",
      "Try using .loc[row_indexer,col_indexer] = value instead\n",
      "\n",
      "See the caveats in the documentation: http://pandas.pydata.org/pandas-docs/stable/user_guide/indexing.html#returning-a-view-versus-a-copy\n",
      "  \n"
     ]
    }
   ],
   "source": [
    "# 불용어 품사 제거\n",
    "text['main article'] = text['pos tag'].apply(lambda x: [word[0] for word in x if word[1] not in ('CC','CD','DT','EX','IN','LS','MD','PRP','PRP$','RB','TO','UH','WDT','WP','WP$','WRB')])"
   ]
  },
  {
   "cell_type": "code",
   "execution_count": 7,
   "metadata": {},
   "outputs": [
    {
     "name": "stderr",
     "output_type": "stream",
     "text": [
      "/Users/hongminpyo/opt/anaconda3/lib/python3.7/site-packages/ipykernel_launcher.py:3: SettingWithCopyWarning: \n",
      "A value is trying to be set on a copy of a slice from a DataFrame.\n",
      "Try using .loc[row_indexer,col_indexer] = value instead\n",
      "\n",
      "See the caveats in the documentation: http://pandas.pydata.org/pandas-docs/stable/user_guide/indexing.html#returning-a-view-versus-a-copy\n",
      "  This is separate from the ipykernel package so we can avoid doing imports until\n"
     ]
    }
   ],
   "source": [
    "from nltk.corpus import stopwords\n",
    "stop = stopwords.words('english')\n",
    "text['main article'] = text['main article'].apply(lambda x: [word for word in x if word not in (stop)])"
   ]
  },
  {
   "cell_type": "code",
   "execution_count": 8,
   "metadata": {},
   "outputs": [
    {
     "name": "stderr",
     "output_type": "stream",
     "text": [
      "/Users/hongminpyo/opt/anaconda3/lib/python3.7/site-packages/ipykernel_launcher.py:11: SettingWithCopyWarning: \n",
      "A value is trying to be set on a copy of a slice from a DataFrame.\n",
      "Try using .loc[row_indexer,col_indexer] = value instead\n",
      "\n",
      "See the caveats in the documentation: http://pandas.pydata.org/pandas-docs/stable/user_guide/indexing.html#returning-a-view-versus-a-copy\n",
      "  # This is added back by InteractiveShellApp.init_path()\n"
     ]
    }
   ],
   "source": [
    "import csv\n",
    "stopword_list =[]\n",
    "f = open('../../stopword/stop_en.txt', 'r')\n",
    "reader = csv.reader(f)\n",
    "for row in reader:\n",
    "    #print(row[0])\n",
    "    stopword_list.append(row[0])\n",
    "    #pass\n",
    "f.close()\n",
    "\n",
    "text['main article'] = text['main article'].apply(lambda x: [word for word in x if word not in stopword_list])"
   ]
  },
  {
   "cell_type": "code",
   "execution_count": 9,
   "metadata": {},
   "outputs": [
    {
     "name": "stdout",
     "output_type": "stream",
     "text": [
      "<re.Match object; span=(3, 4), match='.'>\n"
     ]
    },
    {
     "name": "stderr",
     "output_type": "stream",
     "text": [
      "/Users/hongminpyo/opt/anaconda3/lib/python3.7/site-packages/ipykernel_launcher.py:5: SettingWithCopyWarning: \n",
      "A value is trying to be set on a copy of a slice from a DataFrame.\n",
      "Try using .loc[row_indexer,col_indexer] = value instead\n",
      "\n",
      "See the caveats in the documentation: http://pandas.pydata.org/pandas-docs/stable/user_guide/indexing.html#returning-a-view-versus-a-copy\n",
      "  \"\"\"\n"
     ]
    }
   ],
   "source": [
    "import re\n",
    "pattern=re.compile(r'\\.')\n",
    "print(pattern.search('abc.de'))\n",
    "\n",
    "text['main article'] = text['main article'].apply(lambda x: [word for word in x if pattern.search(word)== None])"
   ]
  },
  {
   "cell_type": "code",
   "execution_count": 10,
   "metadata": {},
   "outputs": [
    {
     "name": "stderr",
     "output_type": "stream",
     "text": [
      "/Users/hongminpyo/opt/anaconda3/lib/python3.7/site-packages/ipykernel_launcher.py:2: SettingWithCopyWarning: \n",
      "A value is trying to be set on a copy of a slice from a DataFrame.\n",
      "Try using .loc[row_indexer,col_indexer] = value instead\n",
      "\n",
      "See the caveats in the documentation: http://pandas.pydata.org/pandas-docs/stable/user_guide/indexing.html#returning-a-view-versus-a-copy\n",
      "  \n"
     ]
    }
   ],
   "source": [
    "number_pattern=re.compile(r'[0-9]\\,[0-9]')\n",
    "text['main article'] = text['main article'].apply(lambda x: [word for word in x if number_pattern.search(word)== None])"
   ]
  },
  {
   "cell_type": "code",
   "execution_count": 11,
   "metadata": {},
   "outputs": [
    {
     "name": "stderr",
     "output_type": "stream",
     "text": [
      "/Users/hongminpyo/opt/anaconda3/lib/python3.7/site-packages/ipykernel_launcher.py:2: SettingWithCopyWarning: \n",
      "A value is trying to be set on a copy of a slice from a DataFrame.\n",
      "Try using .loc[row_indexer,col_indexer] = value instead\n",
      "\n",
      "See the caveats in the documentation: http://pandas.pydata.org/pandas-docs/stable/user_guide/indexing.html#returning-a-view-versus-a-copy\n",
      "  \n"
     ]
    }
   ],
   "source": [
    "native_number_pattern=re.compile(r'[0-9]')\n",
    "text['main article'] = text['main article'].apply(lambda x: [word for word in x if native_number_pattern.search(word)== None])"
   ]
  },
  {
   "cell_type": "code",
   "execution_count": 12,
   "metadata": {},
   "outputs": [
    {
     "name": "stderr",
     "output_type": "stream",
     "text": [
      "/Users/hongminpyo/opt/anaconda3/lib/python3.7/site-packages/ipykernel_launcher.py:2: SettingWithCopyWarning: \n",
      "A value is trying to be set on a copy of a slice from a DataFrame.\n",
      "Try using .loc[row_indexer,col_indexer] = value instead\n",
      "\n",
      "See the caveats in the documentation: http://pandas.pydata.org/pandas-docs/stable/user_guide/indexing.html#returning-a-view-versus-a-copy\n",
      "  \n"
     ]
    }
   ],
   "source": [
    "star_pattern=re.compile(r'[a-z0-9*]\\*[a-z0-9*]')\n",
    "text['main article'] = text['main article'].apply(lambda x: [word for word in x if star_pattern.search(word)== None])"
   ]
  },
  {
   "cell_type": "code",
   "execution_count": 13,
   "metadata": {},
   "outputs": [
    {
     "name": "stderr",
     "output_type": "stream",
     "text": [
      "/Users/hongminpyo/opt/anaconda3/lib/python3.7/site-packages/ipykernel_launcher.py:2: SettingWithCopyWarning: \n",
      "A value is trying to be set on a copy of a slice from a DataFrame.\n",
      "Try using .loc[row_indexer,col_indexer] = value instead\n",
      "\n",
      "See the caveats in the documentation: http://pandas.pydata.org/pandas-docs/stable/user_guide/indexing.html#returning-a-view-versus-a-copy\n",
      "  \n",
      "/Users/hongminpyo/opt/anaconda3/lib/python3.7/site-packages/ipykernel_launcher.py:3: SettingWithCopyWarning: \n",
      "A value is trying to be set on a copy of a slice from a DataFrame.\n",
      "Try using .loc[row_indexer,col_indexer] = value instead\n",
      "\n",
      "See the caveats in the documentation: http://pandas.pydata.org/pandas-docs/stable/user_guide/indexing.html#returning-a-view-versus-a-copy\n",
      "  This is separate from the ipykernel package so we can avoid doing imports until\n",
      "/Users/hongminpyo/opt/anaconda3/lib/python3.7/site-packages/ipykernel_launcher.py:4: SettingWithCopyWarning: \n",
      "A value is trying to be set on a copy of a slice from a DataFrame.\n",
      "Try using .loc[row_indexer,col_indexer] = value instead\n",
      "\n",
      "See the caveats in the documentation: http://pandas.pydata.org/pandas-docs/stable/user_guide/indexing.html#returning-a-view-versus-a-copy\n",
      "  after removing the cwd from sys.path.\n",
      "/Users/hongminpyo/opt/anaconda3/lib/python3.7/site-packages/ipykernel_launcher.py:5: SettingWithCopyWarning: \n",
      "A value is trying to be set on a copy of a slice from a DataFrame.\n",
      "Try using .loc[row_indexer,col_indexer] = value instead\n",
      "\n",
      "See the caveats in the documentation: http://pandas.pydata.org/pandas-docs/stable/user_guide/indexing.html#returning-a-view-versus-a-copy\n",
      "  \"\"\"\n"
     ]
    }
   ],
   "source": [
    "from nltk.stem import WordNetLemmatizer\n",
    "text['main article'] = text['main article'].apply(lambda x: [WordNetLemmatizer().lemmatize(word, pos='v') for word in x]) # 동사 \n",
    "text['main article'] = text['main article'].apply(lambda x: [WordNetLemmatizer().lemmatize(word, pos='a') for word in x]) # 형용사\n",
    "text['main article'] = text['main article'].apply(lambda x: [WordNetLemmatizer().lemmatize(word, pos='n') for word in x]) # 명사\n",
    "text['main article'] = text['main article'].apply(lambda x: [WordNetLemmatizer().lemmatize(word, pos='r') for word in x]) # 부사\n",
    "#print(text)"
   ]
  },
  {
   "cell_type": "code",
   "execution_count": 14,
   "metadata": {},
   "outputs": [],
   "source": [
    "tokenized_doc = text['main article'].apply(lambda x: [word for word in x if len(word) > 3])\n",
    "#print(tokenized_doc)"
   ]
  },
  {
   "cell_type": "code",
   "execution_count": 15,
   "metadata": {},
   "outputs": [],
   "source": [
    "article_contents = tokenized_doc.values.tolist()"
   ]
  },
  {
   "cell_type": "code",
   "execution_count": 16,
   "metadata": {},
   "outputs": [],
   "source": [
    "from sklearn.feature_extraction.text import TfidfVectorizer\n",
    "from collections import defaultdict"
   ]
  },
  {
   "cell_type": "code",
   "execution_count": 17,
   "metadata": {},
   "outputs": [],
   "source": [
    "tokenized_doc_tfidf = tokenized_doc.apply(lambda x : ' '.join(x))"
   ]
  },
  {
   "cell_type": "code",
   "execution_count": 18,
   "metadata": {},
   "outputs": [],
   "source": [
    "article_contents_tfidf = tokenized_doc_tfidf.values.tolist()"
   ]
  },
  {
   "cell_type": "code",
   "execution_count": 19,
   "metadata": {},
   "outputs": [],
   "source": [
    "vectorizer = TfidfVectorizer()\n",
    "sp_matrix = vectorizer.fit_transform([ \" \".join(article_contents_tfidf) ])"
   ]
  },
  {
   "cell_type": "code",
   "execution_count": 20,
   "metadata": {},
   "outputs": [],
   "source": [
    "word2id = defaultdict(lambda: 0)"
   ]
  },
  {
   "cell_type": "code",
   "execution_count": 21,
   "metadata": {},
   "outputs": [],
   "source": [
    "for idx, feature in enumerate(vectorizer.get_feature_names()):\n",
    "    word2id[feature] = idx"
   ]
  },
  {
   "cell_type": "code",
   "execution_count": 22,
   "metadata": {},
   "outputs": [],
   "source": [
    "tf_idf_result = []\n",
    "token_list = []\n",
    "for i, sent in enumerate([\" \".join(article_contents_tfidf)]):\n",
    "    for token in sent.split() :\n",
    "        if token not in token_list :\n",
    "            temp=[]\n",
    "            temp.append(token)\n",
    "            temp.append(sp_matrix[i, word2id[token]])\n",
    "            token_list.append(token)\n",
    "            tf_idf_result.append(temp)"
   ]
  },
  {
   "cell_type": "code",
   "execution_count": 23,
   "metadata": {},
   "outputs": [
    {
     "data": {
      "text/plain": [
       "6636"
      ]
     },
     "execution_count": 23,
     "metadata": {},
     "output_type": "execute_result"
    }
   ],
   "source": [
    "len(tf_idf_result)"
   ]
  },
  {
   "cell_type": "code",
   "execution_count": 24,
   "metadata": {},
   "outputs": [
    {
     "name": "stdout",
     "output_type": "stream",
     "text": [
      "6636\n"
     ]
    }
   ],
   "source": [
    "tf_idf_value =[]\n",
    "for tf_idf_element in tf_idf_result :\n",
    "    tf_idf_value.append(tf_idf_element[1])\n",
    "print(len(tf_idf_value))  ## tf-idf 값을 배열에 담음"
   ]
  },
  {
   "cell_type": "code",
   "execution_count": 25,
   "metadata": {},
   "outputs": [
    {
     "name": "stdout",
     "output_type": "stream",
     "text": [
      "[(1, 1)]\n"
     ]
    }
   ],
   "source": [
    "from gensim import corpora\n",
    "tokenized_doc = [d.split() for d in token_list]\n",
    "dictionary = corpora.Dictionary(tokenized_doc)\n",
    "corpus = [dictionary.doc2bow(text) for text in tokenized_doc]\n",
    "print(corpus[1]) "
   ]
  },
  {
   "cell_type": "code",
   "execution_count": 26,
   "metadata": {},
   "outputs": [
    {
     "name": "stdout",
     "output_type": "stream",
     "text": [
      "(0, '0.001*\"questionable\" + 0.001*\"rout\" + 0.001*\"blockmedx\" + 0.001*\"scalamed\" + 0.001*\"clinical\" + 0.001*\"panacea\" + 0.001*\"tenure\" + 0.001*\"instantaneous\"')\n",
      "(1, '0.000*\"reconstruct\" + 0.000*\"bitflyer\" + 0.000*\"fraudster\" + 0.000*\"prevail\" + 0.000*\"unalterable\" + 0.000*\"imminent\" + 0.000*\"topline\" + 0.000*\"assertion\"')\n",
      "(2, '0.000*\"hunter\" + 0.000*\"health\" + 0.000*\"giurietto\" + 0.000*\"congress\" + 0.000*\"cheaply\" + 0.000*\"appetite\" + 0.000*\"nonetheless\" + 0.000*\"incredible\"')\n",
      "(3, '0.001*\"deferral\" + 0.001*\"denis\" + 0.001*\"unforgiving\" + 0.001*\"involuntary\" + 0.001*\"pension\" + 0.001*\"relinquish\" + 0.001*\"cardholder\" + 0.001*\"beedon\"')\n"
     ]
    }
   ],
   "source": [
    "import gensim\n",
    "NUM_TOPICS = 4 #20개의 토픽, k=20\n",
    "ldamodel = gensim.models.ldamodel.LdaModel(corpus, num_topics = NUM_TOPICS, id2word=dictionary, passes=50) \n",
    "# passes is similar with epoch , iterarion : loop per document\n",
    "topics = ldamodel.print_topics(num_words=8)\n",
    "for topic in topics:\n",
    "    print(topic)"
   ]
  },
  {
   "cell_type": "code",
   "execution_count": null,
   "metadata": {},
   "outputs": [],
   "source": [
    "import pyLDAvis.gensim\n",
    "pyLDAvis.enable_notebook()\n",
    "vis = pyLDAvis.gensim.prepare(ldamodel, corpus, dictionary)\n",
    "pyLDAvis.display(vis)"
   ]
  },
  {
   "cell_type": "code",
   "execution_count": null,
   "metadata": {},
   "outputs": [],
   "source": [
    "sentences = article_contents"
   ]
  },
  {
   "cell_type": "code",
   "execution_count": null,
   "metadata": {},
   "outputs": [],
   "source": [
    "from gensim.models import Word2Vec"
   ]
  },
  {
   "cell_type": "code",
   "execution_count": null,
   "metadata": {},
   "outputs": [],
   "source": [
    "model = Word2Vec(sentences, min_count=1)"
   ]
  },
  {
   "cell_type": "code",
   "execution_count": null,
   "metadata": {},
   "outputs": [],
   "source": [
    "len(model.wv.vocab)"
   ]
  },
  {
   "cell_type": "code",
   "execution_count": null,
   "metadata": {},
   "outputs": [],
   "source": [
    "X = model[model.wv.vocab]"
   ]
  },
  {
   "cell_type": "code",
   "execution_count": null,
   "metadata": {},
   "outputs": [],
   "source": [
    "from nltk.cluster import KMeansClusterer\n",
    "import nltk\n",
    "NUM_CLUSTERS=4\n",
    "kclusterer = KMeansClusterer(NUM_CLUSTERS, distance=nltk.cluster.util.cosine_distance, repeats=25)\n",
    "#kclusterer = KMeansClusterer(NUM_CLUSTERS, distance=nltk.cluster.util.euclidean_distance, repeats=25)\n",
    "#euclidean_distance\n",
    "assigned_clusters = kclusterer.cluster(X, assign_clusters=True)\n",
    "#print(X)\n",
    "#print(assigned_clusters)"
   ]
  },
  {
   "cell_type": "code",
   "execution_count": null,
   "metadata": {},
   "outputs": [],
   "source": [
    "import pandas as pd\n",
    "import numpy as np\n",
    "temp_heder = ['raw_data','word','cluster','centroid','distance','tfidf','score','closer#']\n",
    "temp_cluster_result = pd.DataFrame(columns=temp_heder)"
   ]
  },
  {
   "cell_type": "code",
   "execution_count": null,
   "metadata": {},
   "outputs": [],
   "source": [
    "temp_cluster_result['word'] = list(model.wv.vocab)"
   ]
  },
  {
   "cell_type": "code",
   "execution_count": null,
   "metadata": {},
   "outputs": [],
   "source": [
    "temp_cluster_result['cluster'] = assigned_clusters"
   ]
  },
  {
   "cell_type": "code",
   "execution_count": null,
   "metadata": {},
   "outputs": [],
   "source": [
    "temp_cluster_result['raw_data'] = X.tolist()"
   ]
  },
  {
   "cell_type": "code",
   "execution_count": null,
   "metadata": {},
   "outputs": [],
   "source": [
    "#temp_cluster_result['raw_data']\n",
    "temp_cluster_result['centroid'] = temp_cluster_result['cluster'].apply(lambda x : kclusterer.means()[x])"
   ]
  },
  {
   "cell_type": "code",
   "execution_count": null,
   "metadata": {},
   "outputs": [],
   "source": [
    "from sklearn.metrics import pairwise_distances"
   ]
  },
  {
   "cell_type": "code",
   "execution_count": null,
   "metadata": {},
   "outputs": [],
   "source": [
    "cosine_centroid_list = []\n",
    "for cosine_centroid in temp_cluster_result['centroid'] :\n",
    "    cosine_centroid_list.append(cosine_centroid.tolist())"
   ]
  },
  {
   "cell_type": "code",
   "execution_count": null,
   "metadata": {},
   "outputs": [],
   "source": [
    "len(cosine_centroid_list)"
   ]
  },
  {
   "cell_type": "code",
   "execution_count": null,
   "metadata": {},
   "outputs": [],
   "source": [
    "temp_distance = pairwise_distances(X,cosine_centroid_list, metric='cosine')"
   ]
  },
  {
   "cell_type": "code",
   "execution_count": null,
   "metadata": {},
   "outputs": [],
   "source": [
    "sum(temp_distance[3])"
   ]
  },
  {
   "cell_type": "code",
   "execution_count": null,
   "metadata": {},
   "outputs": [],
   "source": [
    "import scipy.spatial.distance as dist"
   ]
  },
  {
   "cell_type": "code",
   "execution_count": null,
   "metadata": {},
   "outputs": [],
   "source": [
    "dist.cosine(X[0],cosine_centroid_list[0])"
   ]
  },
  {
   "cell_type": "code",
   "execution_count": null,
   "metadata": {},
   "outputs": [],
   "source": [
    "dist.euclidean(X[0],cosine_centroid_list[0])"
   ]
  },
  {
   "cell_type": "code",
   "execution_count": null,
   "metadata": {},
   "outputs": [],
   "source": [
    "temp_cluster_result['distance'] = temp_cluster_result.apply(lambda x : dist.cosine(x.raw_data,x.centroid),axis=1)"
   ]
  },
  {
   "cell_type": "code",
   "execution_count": null,
   "metadata": {},
   "outputs": [],
   "source": [
    "temp_cluster_result['tfidf'] = tf_idf_value\n",
    "temp_cluster_result['score'] = temp_cluster_result.apply(lambda x : x.distance + (1- x.tfidf),axis=1)\n",
    "#temp_cluster_result"
   ]
  },
  {
   "cell_type": "code",
   "execution_count": null,
   "metadata": {},
   "outputs": [],
   "source": [
    "temp_cluster_result[temp_cluster_result['cluster']==0].sort_values(by=['score']).head(20)  # 가격, 거래소"
   ]
  },
  {
   "cell_type": "code",
   "execution_count": null,
   "metadata": {},
   "outputs": [],
   "source": [
    "temp_cluster_result[temp_cluster_result['cluster']==1].sort_values(by=['score']).head(30)  # 사회 적용"
   ]
  },
  {
   "cell_type": "code",
   "execution_count": null,
   "metadata": {},
   "outputs": [],
   "source": [
    "temp_cluster_result[temp_cluster_result['cluster']==2].sort_values(by=['score']).head(20)   # 사회 협업"
   ]
  },
  {
   "cell_type": "code",
   "execution_count": null,
   "metadata": {},
   "outputs": [],
   "source": [
    "temp_cluster_result[temp_cluster_result['cluster']==3].sort_values(by=['score']).head(20)  # 기타"
   ]
  },
  {
   "cell_type": "code",
   "execution_count": null,
   "metadata": {},
   "outputs": [],
   "source": [
    "y_km = temp_cluster_result['cluster'].values"
   ]
  },
  {
   "cell_type": "code",
   "execution_count": null,
   "metadata": {},
   "outputs": [],
   "source": [
    "import matplotlib\n",
    "import matplotlib.pyplot as plt\n",
    "from matplotlib import style"
   ]
  },
  {
   "cell_type": "code",
   "execution_count": null,
   "metadata": {},
   "outputs": [],
   "source": [
    "plt.scatter(X[y_km==0,0],X[y_km==0,1],c='lightgreen',marker='s',s=10 , label='cluster1')\n",
    "plt.scatter(X[y_km==1,0],X[y_km==1,1],c='orange',marker='o',s=10 , label='cluster2')\n",
    "plt.scatter(X[y_km==2,0],X[y_km==2,1],c='lightblue',marker='v',s=10 , label='cluster3')\n",
    "plt.scatter(X[y_km==3,0],X[y_km==3,1],c='yellow',marker='v',s=10 , label='cluster4')\n",
    "#plt.scatter(X[y_km==4,0],X[y_km==4,1],c='red',marker='v',s=10 , label='cluster5')\n",
    "#plt.scatter(kmeans.cluster_centers_[:,0],kmeans.cluster_centers_[:,1],c='red',marker='*',s=30 , label='center cluster')\n",
    "\n",
    "plt.legend()\n",
    "plt.grid(True)\n",
    "plt.show()"
   ]
  },
  {
   "cell_type": "code",
   "execution_count": 155,
   "metadata": {},
   "outputs": [
    {
     "data": {
      "text/plain": [
       "5193"
      ]
     },
     "execution_count": 155,
     "metadata": {},
     "output_type": "execute_result"
    }
   ],
   "source": [
    "len(temp_cluster_result[temp_cluster_result['cluster']==0]) # 가격 거래소 돈"
   ]
  },
  {
   "cell_type": "code",
   "execution_count": 156,
   "metadata": {},
   "outputs": [
    {
     "data": {
      "text/plain": [
       "752"
      ]
     },
     "execution_count": 156,
     "metadata": {},
     "output_type": "execute_result"
    }
   ],
   "source": [
    "len(temp_cluster_result[temp_cluster_result['cluster']==1]) # 사회적용"
   ]
  },
  {
   "cell_type": "code",
   "execution_count": 157,
   "metadata": {},
   "outputs": [
    {
     "data": {
      "text/plain": [
       "679"
      ]
     },
     "execution_count": 157,
     "metadata": {},
     "output_type": "execute_result"
    }
   ],
   "source": [
    "len(temp_cluster_result[temp_cluster_result['cluster']==2]) # 사회협업"
   ]
  },
  {
   "cell_type": "code",
   "execution_count": 158,
   "metadata": {},
   "outputs": [
    {
     "data": {
      "text/plain": [
       "12"
      ]
     },
     "execution_count": 158,
     "metadata": {},
     "output_type": "execute_result"
    }
   ],
   "source": [
    "len(temp_cluster_result[temp_cluster_result['cluster']==3]) # 기타"
   ]
  },
  {
   "cell_type": "code",
   "execution_count": 159,
   "metadata": {},
   "outputs": [
    {
     "data": {
      "text/plain": [
       "KMeans(algorithm='auto', copy_x=True, init='k-means++', max_iter=300,\n",
       "       n_clusters=4, n_init=10, n_jobs=None, precompute_distances='auto',\n",
       "       random_state=None, tol=0.0001, verbose=0)"
      ]
     },
     "execution_count": 159,
     "metadata": {},
     "output_type": "execute_result"
    }
   ],
   "source": [
    "from sklearn import cluster\n",
    "from sklearn import metrics\n",
    "kmeans = cluster.KMeans(n_clusters=NUM_CLUSTERS)\n",
    "kmeans.fit(X)"
   ]
  },
  {
   "cell_type": "code",
   "execution_count": 160,
   "metadata": {},
   "outputs": [],
   "source": [
    "labels = kmeans.labels_\n",
    "centroids = kmeans.cluster_centers_"
   ]
  },
  {
   "cell_type": "code",
   "execution_count": 161,
   "metadata": {},
   "outputs": [
    {
     "data": {
      "text/plain": [
       "306.3346201935232"
      ]
     },
     "execution_count": 161,
     "metadata": {},
     "output_type": "execute_result"
    }
   ],
   "source": [
    "kmeans.inertia_"
   ]
  },
  {
   "cell_type": "code",
   "execution_count": 162,
   "metadata": {},
   "outputs": [
    {
     "name": "stdout",
     "output_type": "stream",
     "text": [
      "Cluster id labels for inputted data\n",
      "[1 1 1 ... 0 0 0]\n"
     ]
    }
   ],
   "source": [
    "print (\"Cluster id labels for inputted data\")\n",
    "print (labels)"
   ]
  },
  {
   "cell_type": "code",
   "execution_count": 163,
   "metadata": {},
   "outputs": [],
   "source": [
    "cluster_values= list(model.wv.vocab)"
   ]
  },
  {
   "cell_type": "code",
   "execution_count": 164,
   "metadata": {
    "scrolled": true
   },
   "outputs": [
    {
     "name": "stdout",
     "output_type": "stream",
     "text": [
      "Score (Opposite of the value of X on the K-means objective which is Sum of distances of samples to their closest cluster center):\n",
      "-306.3346\n"
     ]
    }
   ],
   "source": [
    "print (\"Score (Opposite of the value of X on the K-means objective which is Sum of distances of samples to their closest cluster center):\")\n",
    "print (kmeans.score(X))"
   ]
  },
  {
   "cell_type": "code",
   "execution_count": 165,
   "metadata": {},
   "outputs": [],
   "source": [
    "silhouette_score = metrics.silhouette_score(X, labels, metric='euclidean')"
   ]
  },
  {
   "cell_type": "code",
   "execution_count": 166,
   "metadata": {},
   "outputs": [
    {
     "name": "stdout",
     "output_type": "stream",
     "text": [
      "Silhouette_score: \n",
      "0.7380137\n"
     ]
    }
   ],
   "source": [
    "print (\"Silhouette_score: \")\n",
    "print (silhouette_score)"
   ]
  },
  {
   "cell_type": "code",
   "execution_count": 167,
   "metadata": {},
   "outputs": [
    {
     "data": {
      "image/png": "[encoded data removed]",
      "text/plain": [
       "<Figure size 432x288 with 1 Axes>"
      ]
     },
     "metadata": {
      "needs_background": "light"
     },
     "output_type": "display_data"
    }
   ],
   "source": [
    "kmeans_label = kmeans.labels_\n",
    "\n",
    "plt.scatter(X[kmeans_label==0,0],X[kmeans_label==0,1],c='lightgreen',marker='s',s=10 , label='cluster1')\n",
    "plt.scatter(X[kmeans_label==1,0],X[kmeans_label==1,1],c='orange',marker='o',s=10 , label='cluster2')\n",
    "plt.scatter(X[kmeans_label==2,0],X[kmeans_label==2,1],c='lightblue',marker='v',s=10 , label='cluster3')\n",
    "plt.scatter(X[kmeans_label==3,0],X[kmeans_label==3,1],c='yellow',marker='v',s=10 , label='cluster4')\n",
    "#plt.scatter(X[kmeans_label==4,0],X[kmeans_label==4,1],c='red',marker='v',s=10 , label='cluster5')\n",
    "\n",
    "plt.legend()\n",
    "plt.grid(True)\n",
    "plt.show()"
   ]
  },
  {
   "cell_type": "code",
   "execution_count": 168,
   "metadata": {},
   "outputs": [],
   "source": [
    "temp_cluster_result1 = pd.DataFrame(columns=temp_heder)\n",
    "temp_cluster_result1['word'] = list(model.wv.vocab)\n",
    "temp_cluster_result1['cluster'] = kmeans_label"
   ]
  },
  {
   "cell_type": "code",
   "execution_count": 169,
   "metadata": {},
   "outputs": [],
   "source": [
    "#temp_cluster_result1[temp_cluster_result1['cluster']==0].head(30) #시도 및 혼돈  # 혼란 부정적 \n",
    "temp_cluster_result1['raw_data'] = X.tolist()"
   ]
  },
  {
   "cell_type": "code",
   "execution_count": 170,
   "metadata": {},
   "outputs": [],
   "source": [
    "temp_cluster_result1['centroid'] = temp_cluster_result1['cluster'].apply(lambda x : centroids[x])"
   ]
  },
  {
   "cell_type": "code",
   "execution_count": 171,
   "metadata": {},
   "outputs": [],
   "source": [
    "euclidean_centroid_list = []\n",
    "for euclidean_centroid in temp_cluster_result1['centroid'] :\n",
    "    euclidean_centroid_list.append(euclidean_centroid.tolist())"
   ]
  },
  {
   "cell_type": "code",
   "execution_count": 172,
   "metadata": {},
   "outputs": [],
   "source": [
    "temp_distance1 = pairwise_distances(X,euclidean_centroid_list, metric='euclidean')"
   ]
  },
  {
   "cell_type": "code",
   "execution_count": 173,
   "metadata": {},
   "outputs": [],
   "source": [
    "import scipy.spatial.distance as dist"
   ]
  },
  {
   "cell_type": "code",
   "execution_count": 174,
   "metadata": {},
   "outputs": [],
   "source": [
    "temp_cluster_result1['distance'] = temp_cluster_result1.apply(lambda x : dist.euclidean(x.raw_data,x.centroid),axis=1)"
   ]
  },
  {
   "cell_type": "code",
   "execution_count": 175,
   "metadata": {
    "scrolled": true
   },
   "outputs": [],
   "source": [
    "temp_cluster_result1['tfidf'] = tf_idf_value\n",
    "temp_cluster_result1['score'] = temp_cluster_result1.apply(lambda x : x.distance + (1- x.tfidf),axis=1)\n",
    "#temp_cluster_result1"
   ]
  },
  {
   "cell_type": "code",
   "execution_count": 176,
   "metadata": {},
   "outputs": [
    {
     "data": {
      "text/html": [
       "<div>\n",
       "<style scoped>\n",
       "    .dataframe tbody tr th:only-of-type {\n",
       "        vertical-align: middle;\n",
       "    }\n",
       "\n",
       "    .dataframe tbody tr th {\n",
       "        vertical-align: top;\n",
       "    }\n",
       "\n",
       "    .dataframe thead th {\n",
       "        text-align: right;\n",
       "    }\n",
       "</style>\n",
       "<table border=\"1\" class=\"dataframe\">\n",
       "  <thead>\n",
       "    <tr style=\"text-align: right;\">\n",
       "      <th></th>\n",
       "      <th>raw_data</th>\n",
       "      <th>word</th>\n",
       "      <th>cluster</th>\n",
       "      <th>centroid</th>\n",
       "      <th>distance</th>\n",
       "      <th>tfidf</th>\n",
       "      <th>score</th>\n",
       "      <th>closer#</th>\n",
       "    </tr>\n",
       "  </thead>\n",
       "  <tbody>\n",
       "    <tr>\n",
       "      <td>2072</td>\n",
       "      <td>[-0.008526680991053581, -0.0004362602485343814...</td>\n",
       "      <td>none</td>\n",
       "      <td>0</td>\n",
       "      <td>[-0.007714047, -0.003925315, -0.011210034, 0.0...</td>\n",
       "      <td>0.025898</td>\n",
       "      <td>0.001345</td>\n",
       "      <td>1.024553</td>\n",
       "      <td>NaN</td>\n",
       "    </tr>\n",
       "    <tr>\n",
       "      <td>4737</td>\n",
       "      <td>[-0.012366005219519138, -0.005672503262758255,...</td>\n",
       "      <td>terminal</td>\n",
       "      <td>0</td>\n",
       "      <td>[-0.007714047, -0.003925315, -0.011210034, 0.0...</td>\n",
       "      <td>0.026315</td>\n",
       "      <td>0.001345</td>\n",
       "      <td>1.024970</td>\n",
       "      <td>NaN</td>\n",
       "    </tr>\n",
       "    <tr>\n",
       "      <td>271</td>\n",
       "      <td>[-0.0074186502024531364, -0.001499586156569421...</td>\n",
       "      <td>confirmation</td>\n",
       "      <td>0</td>\n",
       "      <td>[-0.007714047, -0.003925315, -0.011210034, 0.0...</td>\n",
       "      <td>0.026904</td>\n",
       "      <td>0.001793</td>\n",
       "      <td>1.025111</td>\n",
       "      <td>NaN</td>\n",
       "    </tr>\n",
       "    <tr>\n",
       "      <td>5329</td>\n",
       "      <td>[-0.007316156756132841, -0.005827059969305992,...</td>\n",
       "      <td>baggage</td>\n",
       "      <td>0</td>\n",
       "      <td>[-0.007714047, -0.003925315, -0.011210034, 0.0...</td>\n",
       "      <td>0.026588</td>\n",
       "      <td>0.001345</td>\n",
       "      <td>1.025243</td>\n",
       "      <td>NaN</td>\n",
       "    </tr>\n",
       "    <tr>\n",
       "      <td>1516</td>\n",
       "      <td>[-0.004665361251682043, -0.0042015379294753075...</td>\n",
       "      <td>accordance</td>\n",
       "      <td>0</td>\n",
       "      <td>[-0.007714047, -0.003925315, -0.011210034, 0.0...</td>\n",
       "      <td>0.026727</td>\n",
       "      <td>0.001345</td>\n",
       "      <td>1.025382</td>\n",
       "      <td>NaN</td>\n",
       "    </tr>\n",
       "    <tr>\n",
       "      <td>1506</td>\n",
       "      <td>[-0.006705551408231258, -0.002843875903636217,...</td>\n",
       "      <td>correspondence</td>\n",
       "      <td>0</td>\n",
       "      <td>[-0.007714047, -0.003925315, -0.011210034, 0.0...</td>\n",
       "      <td>0.026555</td>\n",
       "      <td>0.000897</td>\n",
       "      <td>1.025658</td>\n",
       "      <td>NaN</td>\n",
       "    </tr>\n",
       "    <tr>\n",
       "      <td>5800</td>\n",
       "      <td>[-0.006417489144951105, 0.0009549627429805696,...</td>\n",
       "      <td>silicone</td>\n",
       "      <td>0</td>\n",
       "      <td>[-0.007714047, -0.003925315, -0.011210034, 0.0...</td>\n",
       "      <td>0.026117</td>\n",
       "      <td>0.000448</td>\n",
       "      <td>1.025669</td>\n",
       "      <td>NaN</td>\n",
       "    </tr>\n",
       "    <tr>\n",
       "      <td>1519</td>\n",
       "      <td>[-0.011520138010382652, -0.008030320517718792,...</td>\n",
       "      <td>stag</td>\n",
       "      <td>0</td>\n",
       "      <td>[-0.007714047, -0.003925315, -0.011210034, 0.0...</td>\n",
       "      <td>0.027016</td>\n",
       "      <td>0.001345</td>\n",
       "      <td>1.025671</td>\n",
       "      <td>NaN</td>\n",
       "    </tr>\n",
       "    <tr>\n",
       "      <td>1823</td>\n",
       "      <td>[-0.01030189823359251, -0.006126461550593376, ...</td>\n",
       "      <td>hunt</td>\n",
       "      <td>0</td>\n",
       "      <td>[-0.007714047, -0.003925315, -0.011210034, 0.0...</td>\n",
       "      <td>0.026582</td>\n",
       "      <td>0.000897</td>\n",
       "      <td>1.025685</td>\n",
       "      <td>NaN</td>\n",
       "    </tr>\n",
       "    <tr>\n",
       "      <td>1961</td>\n",
       "      <td>[-0.00826119352132082, -0.006345100700855255, ...</td>\n",
       "      <td>refuse</td>\n",
       "      <td>0</td>\n",
       "      <td>[-0.007714047, -0.003925315, -0.011210034, 0.0...</td>\n",
       "      <td>0.027563</td>\n",
       "      <td>0.001793</td>\n",
       "      <td>1.025770</td>\n",
       "      <td>NaN</td>\n",
       "    </tr>\n",
       "    <tr>\n",
       "      <td>4313</td>\n",
       "      <td>[-0.01270852517336607, -0.0057501462288200855,...</td>\n",
       "      <td>aslam</td>\n",
       "      <td>0</td>\n",
       "      <td>[-0.007714047, -0.003925315, -0.011210034, 0.0...</td>\n",
       "      <td>0.026675</td>\n",
       "      <td>0.000897</td>\n",
       "      <td>1.025778</td>\n",
       "      <td>NaN</td>\n",
       "    </tr>\n",
       "    <tr>\n",
       "      <td>6592</td>\n",
       "      <td>[-0.008504371158778667, -0.007983089424669743,...</td>\n",
       "      <td>groupon</td>\n",
       "      <td>0</td>\n",
       "      <td>[-0.007714047, -0.003925315, -0.011210034, 0.0...</td>\n",
       "      <td>0.026976</td>\n",
       "      <td>0.000897</td>\n",
       "      <td>1.026080</td>\n",
       "      <td>NaN</td>\n",
       "    </tr>\n",
       "    <tr>\n",
       "      <td>4326</td>\n",
       "      <td>[-0.01300630159676075, -0.008525090292096138, ...</td>\n",
       "      <td>ample</td>\n",
       "      <td>0</td>\n",
       "      <td>[-0.007714047, -0.003925315, -0.011210034, 0.0...</td>\n",
       "      <td>0.027024</td>\n",
       "      <td>0.000897</td>\n",
       "      <td>1.026128</td>\n",
       "      <td>NaN</td>\n",
       "    </tr>\n",
       "    <tr>\n",
       "      <td>3631</td>\n",
       "      <td>[-0.0074517265893518925, -0.007966374978423119...</td>\n",
       "      <td>noise</td>\n",
       "      <td>0</td>\n",
       "      <td>[-0.007714047, -0.003925315, -0.011210034, 0.0...</td>\n",
       "      <td>0.027067</td>\n",
       "      <td>0.000897</td>\n",
       "      <td>1.026171</td>\n",
       "      <td>NaN</td>\n",
       "    </tr>\n",
       "    <tr>\n",
       "      <td>3725</td>\n",
       "      <td>[-0.011622343212366104, -0.002292685443535447,...</td>\n",
       "      <td>instability</td>\n",
       "      <td>0</td>\n",
       "      <td>[-0.007714047, -0.003925315, -0.011210034, 0.0...</td>\n",
       "      <td>0.028013</td>\n",
       "      <td>0.001793</td>\n",
       "      <td>1.026220</td>\n",
       "      <td>NaN</td>\n",
       "    </tr>\n",
       "    <tr>\n",
       "      <td>6633</td>\n",
       "      <td>[-0.01035371795296669, -0.007962583564221859, ...</td>\n",
       "      <td>ring</td>\n",
       "      <td>0</td>\n",
       "      <td>[-0.007714047, -0.003925315, -0.011210034, 0.0...</td>\n",
       "      <td>0.026751</td>\n",
       "      <td>0.000448</td>\n",
       "      <td>1.026302</td>\n",
       "      <td>NaN</td>\n",
       "    </tr>\n",
       "    <tr>\n",
       "      <td>4585</td>\n",
       "      <td>[-0.002842538058757782, 0.0009170148987323046,...</td>\n",
       "      <td>ellicott</td>\n",
       "      <td>0</td>\n",
       "      <td>[-0.007714047, -0.003925315, -0.011210034, 0.0...</td>\n",
       "      <td>0.027203</td>\n",
       "      <td>0.000897</td>\n",
       "      <td>1.026306</td>\n",
       "      <td>NaN</td>\n",
       "    </tr>\n",
       "    <tr>\n",
       "      <td>3927</td>\n",
       "      <td>[-0.011577892117202282, 0.0007722221198491752,...</td>\n",
       "      <td>grip</td>\n",
       "      <td>0</td>\n",
       "      <td>[-0.007714047, -0.003925315, -0.011210034, 0.0...</td>\n",
       "      <td>0.027228</td>\n",
       "      <td>0.000897</td>\n",
       "      <td>1.026332</td>\n",
       "      <td>NaN</td>\n",
       "    </tr>\n",
       "    <tr>\n",
       "      <td>257</td>\n",
       "      <td>[-0.007485952228307724, -0.0026160147972404957...</td>\n",
       "      <td>slip</td>\n",
       "      <td>0</td>\n",
       "      <td>[-0.007714047, -0.003925315, -0.011210034, 0.0...</td>\n",
       "      <td>0.027700</td>\n",
       "      <td>0.001345</td>\n",
       "      <td>1.026355</td>\n",
       "      <td>NaN</td>\n",
       "    </tr>\n",
       "    <tr>\n",
       "      <td>4567</td>\n",
       "      <td>[-0.007803827058523893, -0.005173675250262022,...</td>\n",
       "      <td>messenger</td>\n",
       "      <td>0</td>\n",
       "      <td>[-0.007714047, -0.003925315, -0.011210034, 0.0...</td>\n",
       "      <td>0.027256</td>\n",
       "      <td>0.000897</td>\n",
       "      <td>1.026359</td>\n",
       "      <td>NaN</td>\n",
       "    </tr>\n",
       "    <tr>\n",
       "      <td>5633</td>\n",
       "      <td>[-0.012393798679113388, 0.000318933860398829, ...</td>\n",
       "      <td>hill</td>\n",
       "      <td>0</td>\n",
       "      <td>[-0.007714047, -0.003925315, -0.011210034, 0.0...</td>\n",
       "      <td>0.027260</td>\n",
       "      <td>0.000897</td>\n",
       "      <td>1.026363</td>\n",
       "      <td>NaN</td>\n",
       "    </tr>\n",
       "    <tr>\n",
       "      <td>1912</td>\n",
       "      <td>[-0.004283418878912926, 0.0008422106620855629,...</td>\n",
       "      <td>makerdao</td>\n",
       "      <td>0</td>\n",
       "      <td>[-0.007714047, -0.003925315, -0.011210034, 0.0...</td>\n",
       "      <td>0.027263</td>\n",
       "      <td>0.000897</td>\n",
       "      <td>1.026366</td>\n",
       "      <td>NaN</td>\n",
       "    </tr>\n",
       "    <tr>\n",
       "      <td>2510</td>\n",
       "      <td>[-0.012573710642755032, -8.312306454172358e-05...</td>\n",
       "      <td>ameen</td>\n",
       "      <td>0</td>\n",
       "      <td>[-0.007714047, -0.003925315, -0.011210034, 0.0...</td>\n",
       "      <td>0.027278</td>\n",
       "      <td>0.000897</td>\n",
       "      <td>1.026381</td>\n",
       "      <td>NaN</td>\n",
       "    </tr>\n",
       "    <tr>\n",
       "      <td>3890</td>\n",
       "      <td>[-0.0039760395884513855, -0.004488900303840637...</td>\n",
       "      <td>sole</td>\n",
       "      <td>0</td>\n",
       "      <td>[-0.007714047, -0.003925315, -0.011210034, 0.0...</td>\n",
       "      <td>0.027729</td>\n",
       "      <td>0.001345</td>\n",
       "      <td>1.026384</td>\n",
       "      <td>NaN</td>\n",
       "    </tr>\n",
       "    <tr>\n",
       "      <td>644</td>\n",
       "      <td>[-0.006462243851274252, -0.0015817818930372596...</td>\n",
       "      <td>scramble</td>\n",
       "      <td>0</td>\n",
       "      <td>[-0.007714047, -0.003925315, -0.011210034, 0.0...</td>\n",
       "      <td>0.027351</td>\n",
       "      <td>0.000897</td>\n",
       "      <td>1.026455</td>\n",
       "      <td>NaN</td>\n",
       "    </tr>\n",
       "    <tr>\n",
       "      <td>5086</td>\n",
       "      <td>[-0.009042310528457165, -0.0040001110173761845...</td>\n",
       "      <td>circulor</td>\n",
       "      <td>0</td>\n",
       "      <td>[-0.007714047, -0.003925315, -0.011210034, 0.0...</td>\n",
       "      <td>0.027356</td>\n",
       "      <td>0.000897</td>\n",
       "      <td>1.026459</td>\n",
       "      <td>NaN</td>\n",
       "    </tr>\n",
       "    <tr>\n",
       "      <td>4665</td>\n",
       "      <td>[-0.009900759905576706, 0.0009484518086537719,...</td>\n",
       "      <td>entail</td>\n",
       "      <td>0</td>\n",
       "      <td>[-0.007714047, -0.003925315, -0.011210034, 0.0...</td>\n",
       "      <td>0.027383</td>\n",
       "      <td>0.000897</td>\n",
       "      <td>1.026487</td>\n",
       "      <td>NaN</td>\n",
       "    </tr>\n",
       "    <tr>\n",
       "      <td>614</td>\n",
       "      <td>[-0.007725163362920284, -0.003390987403690815,...</td>\n",
       "      <td>devalue</td>\n",
       "      <td>0</td>\n",
       "      <td>[-0.007714047, -0.003925315, -0.011210034, 0.0...</td>\n",
       "      <td>0.028294</td>\n",
       "      <td>0.001793</td>\n",
       "      <td>1.026501</td>\n",
       "      <td>NaN</td>\n",
       "    </tr>\n",
       "    <tr>\n",
       "      <td>4803</td>\n",
       "      <td>[-0.006739918142557144, -0.00150455127004534, ...</td>\n",
       "      <td>hello</td>\n",
       "      <td>0</td>\n",
       "      <td>[-0.007714047, -0.003925315, -0.011210034, 0.0...</td>\n",
       "      <td>0.027399</td>\n",
       "      <td>0.000897</td>\n",
       "      <td>1.026503</td>\n",
       "      <td>NaN</td>\n",
       "    </tr>\n",
       "    <tr>\n",
       "      <td>1872</td>\n",
       "      <td>[-0.005268168170005083, -0.0025410521775484085...</td>\n",
       "      <td>programmable</td>\n",
       "      <td>0</td>\n",
       "      <td>[-0.007714047, -0.003925315, -0.011210034, 0.0...</td>\n",
       "      <td>0.027850</td>\n",
       "      <td>0.001345</td>\n",
       "      <td>1.026505</td>\n",
       "      <td>NaN</td>\n",
       "    </tr>\n",
       "  </tbody>\n",
       "</table>\n",
       "</div>"
      ],
      "text/plain": [
       "                                               raw_data            word  \\\n",
       "2072  [-0.008526680991053581, -0.0004362602485343814...            none   \n",
       "4737  [-0.012366005219519138, -0.005672503262758255,...        terminal   \n",
       "271   [-0.0074186502024531364, -0.001499586156569421...    confirmation   \n",
       "5329  [-0.007316156756132841, -0.005827059969305992,...         baggage   \n",
       "1516  [-0.004665361251682043, -0.0042015379294753075...      accordance   \n",
       "1506  [-0.006705551408231258, -0.002843875903636217,...  correspondence   \n",
       "5800  [-0.006417489144951105, 0.0009549627429805696,...        silicone   \n",
       "1519  [-0.011520138010382652, -0.008030320517718792,...            stag   \n",
       "1823  [-0.01030189823359251, -0.006126461550593376, ...            hunt   \n",
       "1961  [-0.00826119352132082, -0.006345100700855255, ...          refuse   \n",
       "4313  [-0.01270852517336607, -0.0057501462288200855,...           aslam   \n",
       "6592  [-0.008504371158778667, -0.007983089424669743,...         groupon   \n",
       "4326  [-0.01300630159676075, -0.008525090292096138, ...           ample   \n",
       "3631  [-0.0074517265893518925, -0.007966374978423119...           noise   \n",
       "3725  [-0.011622343212366104, -0.002292685443535447,...     instability   \n",
       "6633  [-0.01035371795296669, -0.007962583564221859, ...            ring   \n",
       "4585  [-0.002842538058757782, 0.0009170148987323046,...        ellicott   \n",
       "3927  [-0.011577892117202282, 0.0007722221198491752,...            grip   \n",
       "257   [-0.007485952228307724, -0.0026160147972404957...            slip   \n",
       "4567  [-0.007803827058523893, -0.005173675250262022,...       messenger   \n",
       "5633  [-0.012393798679113388, 0.000318933860398829, ...            hill   \n",
       "1912  [-0.004283418878912926, 0.0008422106620855629,...        makerdao   \n",
       "2510  [-0.012573710642755032, -8.312306454172358e-05...           ameen   \n",
       "3890  [-0.0039760395884513855, -0.004488900303840637...            sole   \n",
       "644   [-0.006462243851274252, -0.0015817818930372596...        scramble   \n",
       "5086  [-0.009042310528457165, -0.0040001110173761845...        circulor   \n",
       "4665  [-0.009900759905576706, 0.0009484518086537719,...          entail   \n",
       "614   [-0.007725163362920284, -0.003390987403690815,...         devalue   \n",
       "4803  [-0.006739918142557144, -0.00150455127004534, ...           hello   \n",
       "1872  [-0.005268168170005083, -0.0025410521775484085...    programmable   \n",
       "\n",
       "      cluster                                           centroid  distance  \\\n",
       "2072        0  [-0.007714047, -0.003925315, -0.011210034, 0.0...  0.025898   \n",
       "4737        0  [-0.007714047, -0.003925315, -0.011210034, 0.0...  0.026315   \n",
       "271         0  [-0.007714047, -0.003925315, -0.011210034, 0.0...  0.026904   \n",
       "5329        0  [-0.007714047, -0.003925315, -0.011210034, 0.0...  0.026588   \n",
       "1516        0  [-0.007714047, -0.003925315, -0.011210034, 0.0...  0.026727   \n",
       "1506        0  [-0.007714047, -0.003925315, -0.011210034, 0.0...  0.026555   \n",
       "5800        0  [-0.007714047, -0.003925315, -0.011210034, 0.0...  0.026117   \n",
       "1519        0  [-0.007714047, -0.003925315, -0.011210034, 0.0...  0.027016   \n",
       "1823        0  [-0.007714047, -0.003925315, -0.011210034, 0.0...  0.026582   \n",
       "1961        0  [-0.007714047, -0.003925315, -0.011210034, 0.0...  0.027563   \n",
       "4313        0  [-0.007714047, -0.003925315, -0.011210034, 0.0...  0.026675   \n",
       "6592        0  [-0.007714047, -0.003925315, -0.011210034, 0.0...  0.026976   \n",
       "4326        0  [-0.007714047, -0.003925315, -0.011210034, 0.0...  0.027024   \n",
       "3631        0  [-0.007714047, -0.003925315, -0.011210034, 0.0...  0.027067   \n",
       "3725        0  [-0.007714047, -0.003925315, -0.011210034, 0.0...  0.028013   \n",
       "6633        0  [-0.007714047, -0.003925315, -0.011210034, 0.0...  0.026751   \n",
       "4585        0  [-0.007714047, -0.003925315, -0.011210034, 0.0...  0.027203   \n",
       "3927        0  [-0.007714047, -0.003925315, -0.011210034, 0.0...  0.027228   \n",
       "257         0  [-0.007714047, -0.003925315, -0.011210034, 0.0...  0.027700   \n",
       "4567        0  [-0.007714047, -0.003925315, -0.011210034, 0.0...  0.027256   \n",
       "5633        0  [-0.007714047, -0.003925315, -0.011210034, 0.0...  0.027260   \n",
       "1912        0  [-0.007714047, -0.003925315, -0.011210034, 0.0...  0.027263   \n",
       "2510        0  [-0.007714047, -0.003925315, -0.011210034, 0.0...  0.027278   \n",
       "3890        0  [-0.007714047, -0.003925315, -0.011210034, 0.0...  0.027729   \n",
       "644         0  [-0.007714047, -0.003925315, -0.011210034, 0.0...  0.027351   \n",
       "5086        0  [-0.007714047, -0.003925315, -0.011210034, 0.0...  0.027356   \n",
       "4665        0  [-0.007714047, -0.003925315, -0.011210034, 0.0...  0.027383   \n",
       "614         0  [-0.007714047, -0.003925315, -0.011210034, 0.0...  0.028294   \n",
       "4803        0  [-0.007714047, -0.003925315, -0.011210034, 0.0...  0.027399   \n",
       "1872        0  [-0.007714047, -0.003925315, -0.011210034, 0.0...  0.027850   \n",
       "\n",
       "         tfidf     score closer#  \n",
       "2072  0.001345  1.024553     NaN  \n",
       "4737  0.001345  1.024970     NaN  \n",
       "271   0.001793  1.025111     NaN  \n",
       "5329  0.001345  1.025243     NaN  \n",
       "1516  0.001345  1.025382     NaN  \n",
       "1506  0.000897  1.025658     NaN  \n",
       "5800  0.000448  1.025669     NaN  \n",
       "1519  0.001345  1.025671     NaN  \n",
       "1823  0.000897  1.025685     NaN  \n",
       "1961  0.001793  1.025770     NaN  \n",
       "4313  0.000897  1.025778     NaN  \n",
       "6592  0.000897  1.026080     NaN  \n",
       "4326  0.000897  1.026128     NaN  \n",
       "3631  0.000897  1.026171     NaN  \n",
       "3725  0.001793  1.026220     NaN  \n",
       "6633  0.000448  1.026302     NaN  \n",
       "4585  0.000897  1.026306     NaN  \n",
       "3927  0.000897  1.026332     NaN  \n",
       "257   0.001345  1.026355     NaN  \n",
       "4567  0.000897  1.026359     NaN  \n",
       "5633  0.000897  1.026363     NaN  \n",
       "1912  0.000897  1.026366     NaN  \n",
       "2510  0.000897  1.026381     NaN  \n",
       "3890  0.001345  1.026384     NaN  \n",
       "644   0.000897  1.026455     NaN  \n",
       "5086  0.000897  1.026459     NaN  \n",
       "4665  0.000897  1.026487     NaN  \n",
       "614   0.001793  1.026501     NaN  \n",
       "4803  0.000897  1.026503     NaN  \n",
       "1872  0.001345  1.026505     NaN  "
      ]
     },
     "execution_count": 176,
     "metadata": {},
     "output_type": "execute_result"
    }
   ],
   "source": [
    "temp_cluster_result1[temp_cluster_result1['cluster']==0].sort_values('score',ascending=False).nsmallest(30,'score') # 사회적용"
   ]
  },
  {
   "cell_type": "code",
   "execution_count": 177,
   "metadata": {},
   "outputs": [
    {
     "data": {
      "text/html": [
       "<div>\n",
       "<style scoped>\n",
       "    .dataframe tbody tr th:only-of-type {\n",
       "        vertical-align: middle;\n",
       "    }\n",
       "\n",
       "    .dataframe tbody tr th {\n",
       "        vertical-align: top;\n",
       "    }\n",
       "\n",
       "    .dataframe thead th {\n",
       "        text-align: right;\n",
       "    }\n",
       "</style>\n",
       "<table border=\"1\" class=\"dataframe\">\n",
       "  <thead>\n",
       "    <tr style=\"text-align: right;\">\n",
       "      <th></th>\n",
       "      <th>raw_data</th>\n",
       "      <th>word</th>\n",
       "      <th>cluster</th>\n",
       "      <th>centroid</th>\n",
       "      <th>distance</th>\n",
       "      <th>tfidf</th>\n",
       "      <th>score</th>\n",
       "      <th>closer#</th>\n",
       "    </tr>\n",
       "  </thead>\n",
       "  <tbody>\n",
       "    <tr>\n",
       "      <td>382</td>\n",
       "      <td>[-0.23265236616134644, -0.11793403327465057, -...</td>\n",
       "      <td>issue</td>\n",
       "      <td>1</td>\n",
       "      <td>[-0.23286892, -0.11800928, -0.33796594, 0.2448...</td>\n",
       "      <td>0.032145</td>\n",
       "      <td>0.055585</td>\n",
       "      <td>0.976560</td>\n",
       "      <td>NaN</td>\n",
       "    </tr>\n",
       "    <tr>\n",
       "      <td>491</td>\n",
       "      <td>[-0.23891249299049377, -0.11356505751609802, -...</td>\n",
       "      <td>world</td>\n",
       "      <td>1</td>\n",
       "      <td>[-0.23286892, -0.11800928, -0.33796594, 0.2448...</td>\n",
       "      <td>0.040452</td>\n",
       "      <td>0.056033</td>\n",
       "      <td>0.984419</td>\n",
       "      <td>NaN</td>\n",
       "    </tr>\n",
       "    <tr>\n",
       "      <td>726</td>\n",
       "      <td>[-0.23312193155288696, -0.12263035029172897, -...</td>\n",
       "      <td>build</td>\n",
       "      <td>1</td>\n",
       "      <td>[-0.23286892, -0.11800928, -0.33796594, 0.2448...</td>\n",
       "      <td>0.034247</td>\n",
       "      <td>0.049309</td>\n",
       "      <td>0.984938</td>\n",
       "      <td>NaN</td>\n",
       "    </tr>\n",
       "    <tr>\n",
       "      <td>439</td>\n",
       "      <td>[-0.23516826331615448, -0.12283045053482056, -...</td>\n",
       "      <td>investment</td>\n",
       "      <td>1</td>\n",
       "      <td>[-0.23286892, -0.11800928, -0.33796594, 0.2448...</td>\n",
       "      <td>0.036532</td>\n",
       "      <td>0.051551</td>\n",
       "      <td>0.984981</td>\n",
       "      <td>NaN</td>\n",
       "    </tr>\n",
       "    <tr>\n",
       "      <td>167</td>\n",
       "      <td>[-0.23952312767505646, -0.11495676636695862, -...</td>\n",
       "      <td>note</td>\n",
       "      <td>1</td>\n",
       "      <td>[-0.23286892, -0.11800928, -0.33796594, 0.2448...</td>\n",
       "      <td>0.037595</td>\n",
       "      <td>0.045723</td>\n",
       "      <td>0.991872</td>\n",
       "      <td>NaN</td>\n",
       "    </tr>\n",
       "    <tr>\n",
       "      <td>140</td>\n",
       "      <td>[-0.2336151897907257, -0.12037860602140427, -0...</td>\n",
       "      <td>cryptocurrencies</td>\n",
       "      <td>1</td>\n",
       "      <td>[-0.23286892, -0.11800928, -0.33796594, 0.2448...</td>\n",
       "      <td>0.054577</td>\n",
       "      <td>0.062309</td>\n",
       "      <td>0.992267</td>\n",
       "      <td>NaN</td>\n",
       "    </tr>\n",
       "    <tr>\n",
       "      <td>795</td>\n",
       "      <td>[-0.22931978106498718, -0.11301856487989426, -...</td>\n",
       "      <td>public</td>\n",
       "      <td>1</td>\n",
       "      <td>[-0.23286892, -0.11800928, -0.33796594, 0.2448...</td>\n",
       "      <td>0.044940</td>\n",
       "      <td>0.051999</td>\n",
       "      <td>0.992941</td>\n",
       "      <td>NaN</td>\n",
       "    </tr>\n",
       "    <tr>\n",
       "      <td>451</td>\n",
       "      <td>[-0.2291381061077118, -0.12009841203689575, -0...</td>\n",
       "      <td>product</td>\n",
       "      <td>1</td>\n",
       "      <td>[-0.23286892, -0.11800928, -0.33796594, 0.2448...</td>\n",
       "      <td>0.057352</td>\n",
       "      <td>0.055585</td>\n",
       "      <td>1.001766</td>\n",
       "      <td>NaN</td>\n",
       "    </tr>\n",
       "    <tr>\n",
       "      <td>195</td>\n",
       "      <td>[-0.22523406147956848, -0.11842329055070877, -...</td>\n",
       "      <td>people</td>\n",
       "      <td>1</td>\n",
       "      <td>[-0.23286892, -0.11800928, -0.33796594, 0.2448...</td>\n",
       "      <td>0.068319</td>\n",
       "      <td>0.050654</td>\n",
       "      <td>1.017664</td>\n",
       "      <td>NaN</td>\n",
       "    </tr>\n",
       "    <tr>\n",
       "      <td>202</td>\n",
       "      <td>[-0.24159426987171173, -0.11565225571393967, -...</td>\n",
       "      <td>become</td>\n",
       "      <td>1</td>\n",
       "      <td>[-0.23286892, -0.11800928, -0.33796594, 0.2448...</td>\n",
       "      <td>0.075597</td>\n",
       "      <td>0.045275</td>\n",
       "      <td>1.030322</td>\n",
       "      <td>NaN</td>\n",
       "    </tr>\n",
       "    <tr>\n",
       "      <td>151</td>\n",
       "      <td>[-0.2430562525987625, -0.11667555570602417, -0...</td>\n",
       "      <td>support</td>\n",
       "      <td>1</td>\n",
       "      <td>[-0.23286892, -0.11800928, -0.33796594, 0.2448...</td>\n",
       "      <td>0.090197</td>\n",
       "      <td>0.057378</td>\n",
       "      <td>1.032818</td>\n",
       "      <td>NaN</td>\n",
       "    </tr>\n",
       "    <tr>\n",
       "      <td>2</td>\n",
       "      <td>[-0.2319444715976715, -0.12014148384332657, -0...</td>\n",
       "      <td>value</td>\n",
       "      <td>1</td>\n",
       "      <td>[-0.23286892, -0.11800928, -0.33796594, 0.2448...</td>\n",
       "      <td>0.096979</td>\n",
       "      <td>0.058723</td>\n",
       "      <td>1.038256</td>\n",
       "      <td>NaN</td>\n",
       "    </tr>\n",
       "    <tr>\n",
       "      <td>170</td>\n",
       "      <td>[-0.2282993346452713, -0.12152159959077835, -0...</td>\n",
       "      <td>dollar</td>\n",
       "      <td>1</td>\n",
       "      <td>[-0.23286892, -0.11800928, -0.33796594, 0.2448...</td>\n",
       "      <td>0.088695</td>\n",
       "      <td>0.050206</td>\n",
       "      <td>1.038489</td>\n",
       "      <td>NaN</td>\n",
       "    </tr>\n",
       "    <tr>\n",
       "      <td>454</td>\n",
       "      <td>[-0.23173819482326508, -0.12705379724502563, -...</td>\n",
       "      <td>service</td>\n",
       "      <td>1</td>\n",
       "      <td>[-0.23286892, -0.11800928, -0.33796594, 0.2448...</td>\n",
       "      <td>0.123611</td>\n",
       "      <td>0.068137</td>\n",
       "      <td>1.055474</td>\n",
       "      <td>NaN</td>\n",
       "    </tr>\n",
       "    <tr>\n",
       "      <td>458</td>\n",
       "      <td>[-0.23089835047721863, -0.11551543325185776, -...</td>\n",
       "      <td>wallet</td>\n",
       "      <td>1</td>\n",
       "      <td>[-0.23286892, -0.11800928, -0.33796594, 0.2448...</td>\n",
       "      <td>0.117382</td>\n",
       "      <td>0.056482</td>\n",
       "      <td>1.060900</td>\n",
       "      <td>NaN</td>\n",
       "    </tr>\n",
       "    <tr>\n",
       "      <td>34</td>\n",
       "      <td>[-0.2277466505765915, -0.12015379220247269, -0...</td>\n",
       "      <td>look</td>\n",
       "      <td>1</td>\n",
       "      <td>[-0.23286892, -0.11800928, -0.33796594, 0.2448...</td>\n",
       "      <td>0.119950</td>\n",
       "      <td>0.047516</td>\n",
       "      <td>1.072433</td>\n",
       "      <td>NaN</td>\n",
       "    </tr>\n",
       "    <tr>\n",
       "      <td>253</td>\n",
       "      <td>[-0.2400951236486435, -0.127608984708786, -0.3...</td>\n",
       "      <td>need</td>\n",
       "      <td>1</td>\n",
       "      <td>[-0.23286892, -0.11800928, -0.33796594, 0.2448...</td>\n",
       "      <td>0.123268</td>\n",
       "      <td>0.050206</td>\n",
       "      <td>1.073062</td>\n",
       "      <td>NaN</td>\n",
       "    </tr>\n",
       "    <tr>\n",
       "      <td>121</td>\n",
       "      <td>[-0.22121083736419678, -0.11531900614500046, -...</td>\n",
       "      <td>create</td>\n",
       "      <td>1</td>\n",
       "      <td>[-0.23286892, -0.11800928, -0.33796594, 0.2448...</td>\n",
       "      <td>0.141047</td>\n",
       "      <td>0.046172</td>\n",
       "      <td>1.094876</td>\n",
       "      <td>NaN</td>\n",
       "    </tr>\n",
       "    <tr>\n",
       "      <td>957</td>\n",
       "      <td>[-0.22879931330680847, -0.11202685534954071, -...</td>\n",
       "      <td>tell</td>\n",
       "      <td>1</td>\n",
       "      <td>[-0.23286892, -0.11800928, -0.33796594, 0.2448...</td>\n",
       "      <td>0.147870</td>\n",
       "      <td>0.043482</td>\n",
       "      <td>1.104388</td>\n",
       "      <td>NaN</td>\n",
       "    </tr>\n",
       "    <tr>\n",
       "      <td>659</td>\n",
       "      <td>[-0.24801813066005707, -0.12374748289585114, -...</td>\n",
       "      <td>libra</td>\n",
       "      <td>1</td>\n",
       "      <td>[-0.23286892, -0.11800928, -0.33796594, 0.2448...</td>\n",
       "      <td>0.183689</td>\n",
       "      <td>0.068585</td>\n",
       "      <td>1.115104</td>\n",
       "      <td>NaN</td>\n",
       "    </tr>\n",
       "  </tbody>\n",
       "</table>\n",
       "</div>"
      ],
      "text/plain": [
       "                                              raw_data              word  \\\n",
       "382  [-0.23265236616134644, -0.11793403327465057, -...             issue   \n",
       "491  [-0.23891249299049377, -0.11356505751609802, -...             world   \n",
       "726  [-0.23312193155288696, -0.12263035029172897, -...             build   \n",
       "439  [-0.23516826331615448, -0.12283045053482056, -...        investment   \n",
       "167  [-0.23952312767505646, -0.11495676636695862, -...              note   \n",
       "140  [-0.2336151897907257, -0.12037860602140427, -0...  cryptocurrencies   \n",
       "795  [-0.22931978106498718, -0.11301856487989426, -...            public   \n",
       "451  [-0.2291381061077118, -0.12009841203689575, -0...           product   \n",
       "195  [-0.22523406147956848, -0.11842329055070877, -...            people   \n",
       "202  [-0.24159426987171173, -0.11565225571393967, -...            become   \n",
       "151  [-0.2430562525987625, -0.11667555570602417, -0...           support   \n",
       "2    [-0.2319444715976715, -0.12014148384332657, -0...             value   \n",
       "170  [-0.2282993346452713, -0.12152159959077835, -0...            dollar   \n",
       "454  [-0.23173819482326508, -0.12705379724502563, -...           service   \n",
       "458  [-0.23089835047721863, -0.11551543325185776, -...            wallet   \n",
       "34   [-0.2277466505765915, -0.12015379220247269, -0...              look   \n",
       "253  [-0.2400951236486435, -0.127608984708786, -0.3...              need   \n",
       "121  [-0.22121083736419678, -0.11531900614500046, -...            create   \n",
       "957  [-0.22879931330680847, -0.11202685534954071, -...              tell   \n",
       "659  [-0.24801813066005707, -0.12374748289585114, -...             libra   \n",
       "\n",
       "     cluster                                           centroid  distance  \\\n",
       "382        1  [-0.23286892, -0.11800928, -0.33796594, 0.2448...  0.032145   \n",
       "491        1  [-0.23286892, -0.11800928, -0.33796594, 0.2448...  0.040452   \n",
       "726        1  [-0.23286892, -0.11800928, -0.33796594, 0.2448...  0.034247   \n",
       "439        1  [-0.23286892, -0.11800928, -0.33796594, 0.2448...  0.036532   \n",
       "167        1  [-0.23286892, -0.11800928, -0.33796594, 0.2448...  0.037595   \n",
       "140        1  [-0.23286892, -0.11800928, -0.33796594, 0.2448...  0.054577   \n",
       "795        1  [-0.23286892, -0.11800928, -0.33796594, 0.2448...  0.044940   \n",
       "451        1  [-0.23286892, -0.11800928, -0.33796594, 0.2448...  0.057352   \n",
       "195        1  [-0.23286892, -0.11800928, -0.33796594, 0.2448...  0.068319   \n",
       "202        1  [-0.23286892, -0.11800928, -0.33796594, 0.2448...  0.075597   \n",
       "151        1  [-0.23286892, -0.11800928, -0.33796594, 0.2448...  0.090197   \n",
       "2          1  [-0.23286892, -0.11800928, -0.33796594, 0.2448...  0.096979   \n",
       "170        1  [-0.23286892, -0.11800928, -0.33796594, 0.2448...  0.088695   \n",
       "454        1  [-0.23286892, -0.11800928, -0.33796594, 0.2448...  0.123611   \n",
       "458        1  [-0.23286892, -0.11800928, -0.33796594, 0.2448...  0.117382   \n",
       "34         1  [-0.23286892, -0.11800928, -0.33796594, 0.2448...  0.119950   \n",
       "253        1  [-0.23286892, -0.11800928, -0.33796594, 0.2448...  0.123268   \n",
       "121        1  [-0.23286892, -0.11800928, -0.33796594, 0.2448...  0.141047   \n",
       "957        1  [-0.23286892, -0.11800928, -0.33796594, 0.2448...  0.147870   \n",
       "659        1  [-0.23286892, -0.11800928, -0.33796594, 0.2448...  0.183689   \n",
       "\n",
       "        tfidf     score closer#  \n",
       "382  0.055585  0.976560     NaN  \n",
       "491  0.056033  0.984419     NaN  \n",
       "726  0.049309  0.984938     NaN  \n",
       "439  0.051551  0.984981     NaN  \n",
       "167  0.045723  0.991872     NaN  \n",
       "140  0.062309  0.992267     NaN  \n",
       "795  0.051999  0.992941     NaN  \n",
       "451  0.055585  1.001766     NaN  \n",
       "195  0.050654  1.017664     NaN  \n",
       "202  0.045275  1.030322     NaN  \n",
       "151  0.057378  1.032818     NaN  \n",
       "2    0.058723  1.038256     NaN  \n",
       "170  0.050206  1.038489     NaN  \n",
       "454  0.068137  1.055474     NaN  \n",
       "458  0.056482  1.060900     NaN  \n",
       "34   0.047516  1.072433     NaN  \n",
       "253  0.050206  1.073062     NaN  \n",
       "121  0.046172  1.094876     NaN  \n",
       "957  0.043482  1.104388     NaN  \n",
       "659  0.068585  1.115104     NaN  "
      ]
     },
     "execution_count": 177,
     "metadata": {},
     "output_type": "execute_result"
    }
   ],
   "source": [
    "temp_cluster_result1[temp_cluster_result1['cluster']==1].sort_values('score',ascending=False).nsmallest(20,'score') # 투자, 긍정적 현상"
   ]
  },
  {
   "cell_type": "code",
   "execution_count": 178,
   "metadata": {},
   "outputs": [
    {
     "data": {
      "text/html": [
       "<div>\n",
       "<style scoped>\n",
       "    .dataframe tbody tr th:only-of-type {\n",
       "        vertical-align: middle;\n",
       "    }\n",
       "\n",
       "    .dataframe tbody tr th {\n",
       "        vertical-align: top;\n",
       "    }\n",
       "\n",
       "    .dataframe thead th {\n",
       "        text-align: right;\n",
       "    }\n",
       "</style>\n",
       "<table border=\"1\" class=\"dataframe\">\n",
       "  <thead>\n",
       "    <tr style=\"text-align: right;\">\n",
       "      <th></th>\n",
       "      <th>raw_data</th>\n",
       "      <th>word</th>\n",
       "      <th>cluster</th>\n",
       "      <th>centroid</th>\n",
       "      <th>distance</th>\n",
       "      <th>tfidf</th>\n",
       "      <th>score</th>\n",
       "      <th>closer#</th>\n",
       "    </tr>\n",
       "  </thead>\n",
       "  <tbody>\n",
       "    <tr>\n",
       "      <td>824</td>\n",
       "      <td>[-0.04156344383955002, -0.019480468705296516, ...</td>\n",
       "      <td>infrastructure</td>\n",
       "      <td>2</td>\n",
       "      <td>[-0.04564648, -0.02310624, -0.06661523, 0.0481...</td>\n",
       "      <td>0.028949</td>\n",
       "      <td>0.008965</td>\n",
       "      <td>1.019983</td>\n",
       "      <td>NaN</td>\n",
       "    </tr>\n",
       "    <tr>\n",
       "      <td>1332</td>\n",
       "      <td>[-0.043662942945957184, -0.023272326216101646,...</td>\n",
       "      <td>compliance</td>\n",
       "      <td>2</td>\n",
       "      <td>[-0.04564648, -0.02310624, -0.06661523, 0.0481...</td>\n",
       "      <td>0.028842</td>\n",
       "      <td>0.008517</td>\n",
       "      <td>1.020324</td>\n",
       "      <td>NaN</td>\n",
       "    </tr>\n",
       "    <tr>\n",
       "      <td>1845</td>\n",
       "      <td>[-0.04361949488520622, -0.01823492720723152, -...</td>\n",
       "      <td>donald</td>\n",
       "      <td>2</td>\n",
       "      <td>[-0.04564648, -0.02310624, -0.06661523, 0.0481...</td>\n",
       "      <td>0.027133</td>\n",
       "      <td>0.006724</td>\n",
       "      <td>1.020409</td>\n",
       "      <td>NaN</td>\n",
       "    </tr>\n",
       "    <tr>\n",
       "      <td>3395</td>\n",
       "      <td>[-0.050290029495954514, -0.02065439149737358, ...</td>\n",
       "      <td>direction</td>\n",
       "      <td>2</td>\n",
       "      <td>[-0.04564648, -0.02310624, -0.06661523, 0.0481...</td>\n",
       "      <td>0.027293</td>\n",
       "      <td>0.006724</td>\n",
       "      <td>1.020569</td>\n",
       "      <td>NaN</td>\n",
       "    </tr>\n",
       "    <tr>\n",
       "      <td>56</td>\n",
       "      <td>[-0.04585700109601021, -0.020402364432811737, ...</td>\n",
       "      <td>ongoing</td>\n",
       "      <td>2</td>\n",
       "      <td>[-0.04564648, -0.02310624, -0.06661523, 0.0481...</td>\n",
       "      <td>0.028098</td>\n",
       "      <td>0.007172</td>\n",
       "      <td>1.020925</td>\n",
       "      <td>NaN</td>\n",
       "    </tr>\n",
       "    <tr>\n",
       "      <td>2284</td>\n",
       "      <td>[-0.04117509722709656, -0.021267937496304512, ...</td>\n",
       "      <td>pilot</td>\n",
       "      <td>2</td>\n",
       "      <td>[-0.04564648, -0.02310624, -0.06661523, 0.0481...</td>\n",
       "      <td>0.027563</td>\n",
       "      <td>0.005827</td>\n",
       "      <td>1.021735</td>\n",
       "      <td>NaN</td>\n",
       "    </tr>\n",
       "    <tr>\n",
       "      <td>3710</td>\n",
       "      <td>[-0.04236510023474693, -0.021626094356179237, ...</td>\n",
       "      <td>uptrend</td>\n",
       "      <td>2</td>\n",
       "      <td>[-0.04564648, -0.02310624, -0.06661523, 0.0481...</td>\n",
       "      <td>0.030374</td>\n",
       "      <td>0.008517</td>\n",
       "      <td>1.021857</td>\n",
       "      <td>NaN</td>\n",
       "    </tr>\n",
       "    <tr>\n",
       "      <td>301</td>\n",
       "      <td>[-0.04849468916654587, -0.01866730861365795, -...</td>\n",
       "      <td>quarter</td>\n",
       "      <td>2</td>\n",
       "      <td>[-0.04564648, -0.02310624, -0.06661523, 0.0481...</td>\n",
       "      <td>0.031396</td>\n",
       "      <td>0.009414</td>\n",
       "      <td>1.021983</td>\n",
       "      <td>NaN</td>\n",
       "    </tr>\n",
       "    <tr>\n",
       "      <td>2454</td>\n",
       "      <td>[-0.0456673838198185, -0.023062000051140785, -...</td>\n",
       "      <td>attention</td>\n",
       "      <td>2</td>\n",
       "      <td>[-0.04564648, -0.02310624, -0.06661523, 0.0481...</td>\n",
       "      <td>0.029226</td>\n",
       "      <td>0.007172</td>\n",
       "      <td>1.022053</td>\n",
       "      <td>NaN</td>\n",
       "    </tr>\n",
       "    <tr>\n",
       "      <td>3990</td>\n",
       "      <td>[-0.04187339171767235, -0.02550152689218521, -...</td>\n",
       "      <td>chamber</td>\n",
       "      <td>2</td>\n",
       "      <td>[-0.04564648, -0.02310624, -0.06661523, 0.0481...</td>\n",
       "      <td>0.029364</td>\n",
       "      <td>0.007172</td>\n",
       "      <td>1.022192</td>\n",
       "      <td>NaN</td>\n",
       "    </tr>\n",
       "    <tr>\n",
       "      <td>1625</td>\n",
       "      <td>[-0.046419113874435425, -0.01957509107887745, ...</td>\n",
       "      <td>common</td>\n",
       "      <td>2</td>\n",
       "      <td>[-0.04564648, -0.02310624, -0.06661523, 0.0481...</td>\n",
       "      <td>0.028818</td>\n",
       "      <td>0.006276</td>\n",
       "      <td>1.022542</td>\n",
       "      <td>NaN</td>\n",
       "    </tr>\n",
       "    <tr>\n",
       "      <td>1640</td>\n",
       "      <td>[-0.045753348618745804, -0.021473979577422142,...</td>\n",
       "      <td>independent</td>\n",
       "      <td>2</td>\n",
       "      <td>[-0.04564648, -0.02310624, -0.06661523, 0.0481...</td>\n",
       "      <td>0.029904</td>\n",
       "      <td>0.007172</td>\n",
       "      <td>1.022732</td>\n",
       "      <td>NaN</td>\n",
       "    </tr>\n",
       "    <tr>\n",
       "      <td>482</td>\n",
       "      <td>[-0.04081588238477707, -0.02645310014486313, -...</td>\n",
       "      <td>simple</td>\n",
       "      <td>2</td>\n",
       "      <td>[-0.04564648, -0.02310624, -0.06661523, 0.0481...</td>\n",
       "      <td>0.032142</td>\n",
       "      <td>0.008965</td>\n",
       "      <td>1.023177</td>\n",
       "      <td>NaN</td>\n",
       "    </tr>\n",
       "    <tr>\n",
       "      <td>18</td>\n",
       "      <td>[-0.04269648715853691, -0.020143091678619385, ...</td>\n",
       "      <td>score</td>\n",
       "      <td>2</td>\n",
       "      <td>[-0.04564648, -0.02310624, -0.06661523, 0.0481...</td>\n",
       "      <td>0.028813</td>\n",
       "      <td>0.005379</td>\n",
       "      <td>1.023434</td>\n",
       "      <td>NaN</td>\n",
       "    </tr>\n",
       "    <tr>\n",
       "      <td>2230</td>\n",
       "      <td>[-0.04836362972855568, -0.022666670382022858, ...</td>\n",
       "      <td>health</td>\n",
       "      <td>2</td>\n",
       "      <td>[-0.04564648, -0.02310624, -0.06661523, 0.0481...</td>\n",
       "      <td>0.029489</td>\n",
       "      <td>0.005827</td>\n",
       "      <td>1.023662</td>\n",
       "      <td>NaN</td>\n",
       "    </tr>\n",
       "    <tr>\n",
       "      <td>630</td>\n",
       "      <td>[-0.04019399732351303, -0.023321257904171944, ...</td>\n",
       "      <td>doubt</td>\n",
       "      <td>2</td>\n",
       "      <td>[-0.04564648, -0.02310624, -0.06661523, 0.0481...</td>\n",
       "      <td>0.029589</td>\n",
       "      <td>0.005827</td>\n",
       "      <td>1.023762</td>\n",
       "      <td>NaN</td>\n",
       "    </tr>\n",
       "    <tr>\n",
       "      <td>1235</td>\n",
       "      <td>[-0.04246888309717178, -0.018615206703543663, ...</td>\n",
       "      <td>replacement</td>\n",
       "      <td>2</td>\n",
       "      <td>[-0.04564648, -0.02310624, -0.06661523, 0.0481...</td>\n",
       "      <td>0.029680</td>\n",
       "      <td>0.005827</td>\n",
       "      <td>1.023853</td>\n",
       "      <td>NaN</td>\n",
       "    </tr>\n",
       "    <tr>\n",
       "      <td>1679</td>\n",
       "      <td>[-0.04817643016576767, -0.022579830139875412, ...</td>\n",
       "      <td>employee</td>\n",
       "      <td>2</td>\n",
       "      <td>[-0.04564648, -0.02310624, -0.06661523, 0.0481...</td>\n",
       "      <td>0.030709</td>\n",
       "      <td>0.006724</td>\n",
       "      <td>1.023985</td>\n",
       "      <td>NaN</td>\n",
       "    </tr>\n",
       "    <tr>\n",
       "      <td>1729</td>\n",
       "      <td>[-0.04547489807009697, -0.02691696211695671, -...</td>\n",
       "      <td>investigate</td>\n",
       "      <td>2</td>\n",
       "      <td>[-0.04564648, -0.02310624, -0.06661523, 0.0481...</td>\n",
       "      <td>0.030512</td>\n",
       "      <td>0.006276</td>\n",
       "      <td>1.024236</td>\n",
       "      <td>NaN</td>\n",
       "    </tr>\n",
       "    <tr>\n",
       "      <td>208</td>\n",
       "      <td>[-0.04451264441013336, -0.022555984556674957, ...</td>\n",
       "      <td>tuesday</td>\n",
       "      <td>2</td>\n",
       "      <td>[-0.04564648, -0.02310624, -0.06661523, 0.0481...</td>\n",
       "      <td>0.031436</td>\n",
       "      <td>0.007172</td>\n",
       "      <td>1.024264</td>\n",
       "      <td>NaN</td>\n",
       "    </tr>\n",
       "    <tr>\n",
       "      <td>2063</td>\n",
       "      <td>[-0.04362809658050537, -0.025265593081712723, ...</td>\n",
       "      <td>slow</td>\n",
       "      <td>2</td>\n",
       "      <td>[-0.04564648, -0.02310624, -0.06661523, 0.0481...</td>\n",
       "      <td>0.031477</td>\n",
       "      <td>0.007172</td>\n",
       "      <td>1.024305</td>\n",
       "      <td>NaN</td>\n",
       "    </tr>\n",
       "    <tr>\n",
       "      <td>2627</td>\n",
       "      <td>[-0.047873832285404205, -0.02360619604587555, ...</td>\n",
       "      <td>search</td>\n",
       "      <td>2</td>\n",
       "      <td>[-0.04564648, -0.02310624, -0.06661523, 0.0481...</td>\n",
       "      <td>0.030140</td>\n",
       "      <td>0.005827</td>\n",
       "      <td>1.024312</td>\n",
       "      <td>NaN</td>\n",
       "    </tr>\n",
       "    <tr>\n",
       "      <td>2813</td>\n",
       "      <td>[-0.043355125933885574, -0.027145681902766228,...</td>\n",
       "      <td>brave</td>\n",
       "      <td>2</td>\n",
       "      <td>[-0.04564648, -0.02310624, -0.06661523, 0.0481...</td>\n",
       "      <td>0.030095</td>\n",
       "      <td>0.005379</td>\n",
       "      <td>1.024716</td>\n",
       "      <td>NaN</td>\n",
       "    </tr>\n",
       "    <tr>\n",
       "      <td>1726</td>\n",
       "      <td>[-0.04571526125073433, -0.02491701953113079, -...</td>\n",
       "      <td>prove</td>\n",
       "      <td>2</td>\n",
       "      <td>[-0.04564648, -0.02310624, -0.06661523, 0.0481...</td>\n",
       "      <td>0.030701</td>\n",
       "      <td>0.005827</td>\n",
       "      <td>1.024873</td>\n",
       "      <td>NaN</td>\n",
       "    </tr>\n",
       "    <tr>\n",
       "      <td>2208</td>\n",
       "      <td>[-0.050387077033519745, -0.02629495970904827, ...</td>\n",
       "      <td>skill</td>\n",
       "      <td>2</td>\n",
       "      <td>[-0.04564648, -0.02310624, -0.06661523, 0.0481...</td>\n",
       "      <td>0.030839</td>\n",
       "      <td>0.005827</td>\n",
       "      <td>1.025011</td>\n",
       "      <td>NaN</td>\n",
       "    </tr>\n",
       "    <tr>\n",
       "      <td>2740</td>\n",
       "      <td>[-0.04956195130944252, -0.02405436709523201, -...</td>\n",
       "      <td>efficient</td>\n",
       "      <td>2</td>\n",
       "      <td>[-0.04564648, -0.02310624, -0.06661523, 0.0481...</td>\n",
       "      <td>0.031448</td>\n",
       "      <td>0.006276</td>\n",
       "      <td>1.025172</td>\n",
       "      <td>NaN</td>\n",
       "    </tr>\n",
       "    <tr>\n",
       "      <td>1496</td>\n",
       "      <td>[-0.048911161720752716, -0.019101755693554878,...</td>\n",
       "      <td>approval</td>\n",
       "      <td>2</td>\n",
       "      <td>[-0.04564648, -0.02310624, -0.06661523, 0.0481...</td>\n",
       "      <td>0.032758</td>\n",
       "      <td>0.007172</td>\n",
       "      <td>1.025586</td>\n",
       "      <td>NaN</td>\n",
       "    </tr>\n",
       "    <tr>\n",
       "      <td>980</td>\n",
       "      <td>[-0.04778420925140381, -0.025209752842783928, ...</td>\n",
       "      <td>chip</td>\n",
       "      <td>2</td>\n",
       "      <td>[-0.04564648, -0.02310624, -0.06661523, 0.0481...</td>\n",
       "      <td>0.030608</td>\n",
       "      <td>0.004931</td>\n",
       "      <td>1.025677</td>\n",
       "      <td>NaN</td>\n",
       "    </tr>\n",
       "    <tr>\n",
       "      <td>791</td>\n",
       "      <td>[-0.04821166396141052, -0.02060464397072792, -...</td>\n",
       "      <td>wide</td>\n",
       "      <td>2</td>\n",
       "      <td>[-0.04564648, -0.02310624, -0.06661523, 0.0481...</td>\n",
       "      <td>0.033452</td>\n",
       "      <td>0.007621</td>\n",
       "      <td>1.025831</td>\n",
       "      <td>NaN</td>\n",
       "    </tr>\n",
       "    <tr>\n",
       "      <td>2577</td>\n",
       "      <td>[-0.04181810840964317, -0.026535825803875923, ...</td>\n",
       "      <td>comply</td>\n",
       "      <td>2</td>\n",
       "      <td>[-0.04564648, -0.02310624, -0.06661523, 0.0481...</td>\n",
       "      <td>0.033958</td>\n",
       "      <td>0.008069</td>\n",
       "      <td>1.025889</td>\n",
       "      <td>NaN</td>\n",
       "    </tr>\n",
       "  </tbody>\n",
       "</table>\n",
       "</div>"
      ],
      "text/plain": [
       "                                               raw_data            word  \\\n",
       "824   [-0.04156344383955002, -0.019480468705296516, ...  infrastructure   \n",
       "1332  [-0.043662942945957184, -0.023272326216101646,...      compliance   \n",
       "1845  [-0.04361949488520622, -0.01823492720723152, -...          donald   \n",
       "3395  [-0.050290029495954514, -0.02065439149737358, ...       direction   \n",
       "56    [-0.04585700109601021, -0.020402364432811737, ...         ongoing   \n",
       "2284  [-0.04117509722709656, -0.021267937496304512, ...           pilot   \n",
       "3710  [-0.04236510023474693, -0.021626094356179237, ...         uptrend   \n",
       "301   [-0.04849468916654587, -0.01866730861365795, -...         quarter   \n",
       "2454  [-0.0456673838198185, -0.023062000051140785, -...       attention   \n",
       "3990  [-0.04187339171767235, -0.02550152689218521, -...         chamber   \n",
       "1625  [-0.046419113874435425, -0.01957509107887745, ...          common   \n",
       "1640  [-0.045753348618745804, -0.021473979577422142,...     independent   \n",
       "482   [-0.04081588238477707, -0.02645310014486313, -...          simple   \n",
       "18    [-0.04269648715853691, -0.020143091678619385, ...           score   \n",
       "2230  [-0.04836362972855568, -0.022666670382022858, ...          health   \n",
       "630   [-0.04019399732351303, -0.023321257904171944, ...           doubt   \n",
       "1235  [-0.04246888309717178, -0.018615206703543663, ...     replacement   \n",
       "1679  [-0.04817643016576767, -0.022579830139875412, ...        employee   \n",
       "1729  [-0.04547489807009697, -0.02691696211695671, -...     investigate   \n",
       "208   [-0.04451264441013336, -0.022555984556674957, ...         tuesday   \n",
       "2063  [-0.04362809658050537, -0.025265593081712723, ...            slow   \n",
       "2627  [-0.047873832285404205, -0.02360619604587555, ...          search   \n",
       "2813  [-0.043355125933885574, -0.027145681902766228,...           brave   \n",
       "1726  [-0.04571526125073433, -0.02491701953113079, -...           prove   \n",
       "2208  [-0.050387077033519745, -0.02629495970904827, ...           skill   \n",
       "2740  [-0.04956195130944252, -0.02405436709523201, -...       efficient   \n",
       "1496  [-0.048911161720752716, -0.019101755693554878,...        approval   \n",
       "980   [-0.04778420925140381, -0.025209752842783928, ...            chip   \n",
       "791   [-0.04821166396141052, -0.02060464397072792, -...            wide   \n",
       "2577  [-0.04181810840964317, -0.026535825803875923, ...          comply   \n",
       "\n",
       "      cluster                                           centroid  distance  \\\n",
       "824         2  [-0.04564648, -0.02310624, -0.06661523, 0.0481...  0.028949   \n",
       "1332        2  [-0.04564648, -0.02310624, -0.06661523, 0.0481...  0.028842   \n",
       "1845        2  [-0.04564648, -0.02310624, -0.06661523, 0.0481...  0.027133   \n",
       "3395        2  [-0.04564648, -0.02310624, -0.06661523, 0.0481...  0.027293   \n",
       "56          2  [-0.04564648, -0.02310624, -0.06661523, 0.0481...  0.028098   \n",
       "2284        2  [-0.04564648, -0.02310624, -0.06661523, 0.0481...  0.027563   \n",
       "3710        2  [-0.04564648, -0.02310624, -0.06661523, 0.0481...  0.030374   \n",
       "301         2  [-0.04564648, -0.02310624, -0.06661523, 0.0481...  0.031396   \n",
       "2454        2  [-0.04564648, -0.02310624, -0.06661523, 0.0481...  0.029226   \n",
       "3990        2  [-0.04564648, -0.02310624, -0.06661523, 0.0481...  0.029364   \n",
       "1625        2  [-0.04564648, -0.02310624, -0.06661523, 0.0481...  0.028818   \n",
       "1640        2  [-0.04564648, -0.02310624, -0.06661523, 0.0481...  0.029904   \n",
       "482         2  [-0.04564648, -0.02310624, -0.06661523, 0.0481...  0.032142   \n",
       "18          2  [-0.04564648, -0.02310624, -0.06661523, 0.0481...  0.028813   \n",
       "2230        2  [-0.04564648, -0.02310624, -0.06661523, 0.0481...  0.029489   \n",
       "630         2  [-0.04564648, -0.02310624, -0.06661523, 0.0481...  0.029589   \n",
       "1235        2  [-0.04564648, -0.02310624, -0.06661523, 0.0481...  0.029680   \n",
       "1679        2  [-0.04564648, -0.02310624, -0.06661523, 0.0481...  0.030709   \n",
       "1729        2  [-0.04564648, -0.02310624, -0.06661523, 0.0481...  0.030512   \n",
       "208         2  [-0.04564648, -0.02310624, -0.06661523, 0.0481...  0.031436   \n",
       "2063        2  [-0.04564648, -0.02310624, -0.06661523, 0.0481...  0.031477   \n",
       "2627        2  [-0.04564648, -0.02310624, -0.06661523, 0.0481...  0.030140   \n",
       "2813        2  [-0.04564648, -0.02310624, -0.06661523, 0.0481...  0.030095   \n",
       "1726        2  [-0.04564648, -0.02310624, -0.06661523, 0.0481...  0.030701   \n",
       "2208        2  [-0.04564648, -0.02310624, -0.06661523, 0.0481...  0.030839   \n",
       "2740        2  [-0.04564648, -0.02310624, -0.06661523, 0.0481...  0.031448   \n",
       "1496        2  [-0.04564648, -0.02310624, -0.06661523, 0.0481...  0.032758   \n",
       "980         2  [-0.04564648, -0.02310624, -0.06661523, 0.0481...  0.030608   \n",
       "791         2  [-0.04564648, -0.02310624, -0.06661523, 0.0481...  0.033452   \n",
       "2577        2  [-0.04564648, -0.02310624, -0.06661523, 0.0481...  0.033958   \n",
       "\n",
       "         tfidf     score closer#  \n",
       "824   0.008965  1.019983     NaN  \n",
       "1332  0.008517  1.020324     NaN  \n",
       "1845  0.006724  1.020409     NaN  \n",
       "3395  0.006724  1.020569     NaN  \n",
       "56    0.007172  1.020925     NaN  \n",
       "2284  0.005827  1.021735     NaN  \n",
       "3710  0.008517  1.021857     NaN  \n",
       "301   0.009414  1.021983     NaN  \n",
       "2454  0.007172  1.022053     NaN  \n",
       "3990  0.007172  1.022192     NaN  \n",
       "1625  0.006276  1.022542     NaN  \n",
       "1640  0.007172  1.022732     NaN  \n",
       "482   0.008965  1.023177     NaN  \n",
       "18    0.005379  1.023434     NaN  \n",
       "2230  0.005827  1.023662     NaN  \n",
       "630   0.005827  1.023762     NaN  \n",
       "1235  0.005827  1.023853     NaN  \n",
       "1679  0.006724  1.023985     NaN  \n",
       "1729  0.006276  1.024236     NaN  \n",
       "208   0.007172  1.024264     NaN  \n",
       "2063  0.007172  1.024305     NaN  \n",
       "2627  0.005827  1.024312     NaN  \n",
       "2813  0.005379  1.024716     NaN  \n",
       "1726  0.005827  1.024873     NaN  \n",
       "2208  0.005827  1.025011     NaN  \n",
       "2740  0.006276  1.025172     NaN  \n",
       "1496  0.007172  1.025586     NaN  \n",
       "980   0.004931  1.025677     NaN  \n",
       "791   0.007621  1.025831     NaN  \n",
       "2577  0.008069  1.025889     NaN  "
      ]
     },
     "execution_count": 178,
     "metadata": {},
     "output_type": "execute_result"
    }
   ],
   "source": [
    "temp_cluster_result1[temp_cluster_result1['cluster']==2].sort_values('score',ascending=False).nsmallest(30,'score')  # 제도"
   ]
  },
  {
   "cell_type": "code",
   "execution_count": 179,
   "metadata": {},
   "outputs": [
    {
     "data": {
      "text/html": [
       "<div>\n",
       "<style scoped>\n",
       "    .dataframe tbody tr th:only-of-type {\n",
       "        vertical-align: middle;\n",
       "    }\n",
       "\n",
       "    .dataframe tbody tr th {\n",
       "        vertical-align: top;\n",
       "    }\n",
       "\n",
       "    .dataframe thead th {\n",
       "        text-align: right;\n",
       "    }\n",
       "</style>\n",
       "<table border=\"1\" class=\"dataframe\">\n",
       "  <thead>\n",
       "    <tr style=\"text-align: right;\">\n",
       "      <th></th>\n",
       "      <th>raw_data</th>\n",
       "      <th>word</th>\n",
       "      <th>cluster</th>\n",
       "      <th>centroid</th>\n",
       "      <th>distance</th>\n",
       "      <th>tfidf</th>\n",
       "      <th>score</th>\n",
       "      <th>closer#</th>\n",
       "    </tr>\n",
       "  </thead>\n",
       "  <tbody>\n",
       "    <tr>\n",
       "      <td>405</td>\n",
       "      <td>[-0.12071405351161957, -0.059850431978702545, ...</td>\n",
       "      <td>control</td>\n",
       "      <td>3</td>\n",
       "      <td>[-0.11657912, -0.0595387, -0.1702747, 0.123173...</td>\n",
       "      <td>0.029361</td>\n",
       "      <td>0.020620</td>\n",
       "      <td>1.008741</td>\n",
       "      <td>NaN</td>\n",
       "    </tr>\n",
       "    <tr>\n",
       "      <td>2988</td>\n",
       "      <td>[-0.11983031034469604, -0.061368998140096664, ...</td>\n",
       "      <td>ripple</td>\n",
       "      <td>3</td>\n",
       "      <td>[-0.11657912, -0.0595387, -0.1702747, 0.123173...</td>\n",
       "      <td>0.029033</td>\n",
       "      <td>0.020172</td>\n",
       "      <td>1.008861</td>\n",
       "      <td>NaN</td>\n",
       "    </tr>\n",
       "    <tr>\n",
       "      <td>906</td>\n",
       "      <td>[-0.11399857699871063, -0.056100353598594666, ...</td>\n",
       "      <td>hard</td>\n",
       "      <td>3</td>\n",
       "      <td>[-0.11657912, -0.0595387, -0.1702747, 0.123173...</td>\n",
       "      <td>0.032350</td>\n",
       "      <td>0.020172</td>\n",
       "      <td>1.012178</td>\n",
       "      <td>NaN</td>\n",
       "    </tr>\n",
       "    <tr>\n",
       "      <td>772</td>\n",
       "      <td>[-0.11690408736467361, -0.062063004821538925, ...</td>\n",
       "      <td>tool</td>\n",
       "      <td>3</td>\n",
       "      <td>[-0.11657912, -0.0595387, -0.1702747, 0.123173...</td>\n",
       "      <td>0.030192</td>\n",
       "      <td>0.017931</td>\n",
       "      <td>1.012261</td>\n",
       "      <td>NaN</td>\n",
       "    </tr>\n",
       "    <tr>\n",
       "      <td>934</td>\n",
       "      <td>[-0.11988139152526855, -0.05984397232532501, -...</td>\n",
       "      <td>several</td>\n",
       "      <td>3</td>\n",
       "      <td>[-0.11657912, -0.0595387, -0.1702747, 0.123173...</td>\n",
       "      <td>0.030948</td>\n",
       "      <td>0.017034</td>\n",
       "      <td>1.013913</td>\n",
       "      <td>NaN</td>\n",
       "    </tr>\n",
       "    <tr>\n",
       "      <td>1330</td>\n",
       "      <td>[-0.11311658471822739, -0.05539076775312424, -...</td>\n",
       "      <td>individual</td>\n",
       "      <td>3</td>\n",
       "      <td>[-0.11657912, -0.0595387, -0.1702747, 0.123173...</td>\n",
       "      <td>0.036452</td>\n",
       "      <td>0.022413</td>\n",
       "      <td>1.014039</td>\n",
       "      <td>NaN</td>\n",
       "    </tr>\n",
       "    <tr>\n",
       "      <td>1236</td>\n",
       "      <td>[-0.11933881789445877, -0.062271926552057266, ...</td>\n",
       "      <td>case</td>\n",
       "      <td>3</td>\n",
       "      <td>[-0.11657912, -0.0595387, -0.1702747, 0.123173...</td>\n",
       "      <td>0.032862</td>\n",
       "      <td>0.017931</td>\n",
       "      <td>1.014932</td>\n",
       "      <td>NaN</td>\n",
       "    </tr>\n",
       "    <tr>\n",
       "      <td>319</td>\n",
       "      <td>[-0.11841974407434464, -0.06211477518081665, -...</td>\n",
       "      <td>reduce</td>\n",
       "      <td>3</td>\n",
       "      <td>[-0.11657912, -0.0595387, -0.1702747, 0.123173...</td>\n",
       "      <td>0.034319</td>\n",
       "      <td>0.017931</td>\n",
       "      <td>1.016389</td>\n",
       "      <td>NaN</td>\n",
       "    </tr>\n",
       "    <tr>\n",
       "      <td>273</td>\n",
       "      <td>[-0.11987099051475525, -0.05819709599018097, -...</td>\n",
       "      <td>loss</td>\n",
       "      <td>3</td>\n",
       "      <td>[-0.11657912, -0.0595387, -0.1702747, 0.123173...</td>\n",
       "      <td>0.036938</td>\n",
       "      <td>0.020172</td>\n",
       "      <td>1.016766</td>\n",
       "      <td>NaN</td>\n",
       "    </tr>\n",
       "    <tr>\n",
       "      <td>1916</td>\n",
       "      <td>[-0.11754729598760605, -0.06285585463047028, -...</td>\n",
       "      <td>foundation</td>\n",
       "      <td>3</td>\n",
       "      <td>[-0.11657912, -0.0595387, -0.1702747, 0.123173...</td>\n",
       "      <td>0.035394</td>\n",
       "      <td>0.017931</td>\n",
       "      <td>1.017464</td>\n",
       "      <td>NaN</td>\n",
       "    </tr>\n",
       "    <tr>\n",
       "      <td>89</td>\n",
       "      <td>[-0.12025891989469528, -0.06443396210670471, -...</td>\n",
       "      <td>volume</td>\n",
       "      <td>3</td>\n",
       "      <td>[-0.11657912, -0.0595387, -0.1702747, 0.123173...</td>\n",
       "      <td>0.045332</td>\n",
       "      <td>0.026896</td>\n",
       "      <td>1.018436</td>\n",
       "      <td>NaN</td>\n",
       "    </tr>\n",
       "    <tr>\n",
       "      <td>53</td>\n",
       "      <td>[-0.1125188022851944, -0.0556139312684536, -0....</td>\n",
       "      <td>least</td>\n",
       "      <td>3</td>\n",
       "      <td>[-0.11657912, -0.0595387, -0.1702747, 0.123173...</td>\n",
       "      <td>0.037496</td>\n",
       "      <td>0.017482</td>\n",
       "      <td>1.020014</td>\n",
       "      <td>NaN</td>\n",
       "    </tr>\n",
       "    <tr>\n",
       "      <td>1742</td>\n",
       "      <td>[-0.1192624568939209, -0.0628226026892662, -0....</td>\n",
       "      <td>evidence</td>\n",
       "      <td>3</td>\n",
       "      <td>[-0.11657912, -0.0595387, -0.1702747, 0.123173...</td>\n",
       "      <td>0.037701</td>\n",
       "      <td>0.015689</td>\n",
       "      <td>1.022012</td>\n",
       "      <td>NaN</td>\n",
       "    </tr>\n",
       "    <tr>\n",
       "      <td>2340</td>\n",
       "      <td>[-0.11834348738193512, -0.06413033604621887, -...</td>\n",
       "      <td>transfer</td>\n",
       "      <td>3</td>\n",
       "      <td>[-0.11657912, -0.0595387, -0.1702747, 0.123173...</td>\n",
       "      <td>0.045897</td>\n",
       "      <td>0.023310</td>\n",
       "      <td>1.022587</td>\n",
       "      <td>NaN</td>\n",
       "    </tr>\n",
       "    <tr>\n",
       "      <td>1022</td>\n",
       "      <td>[-0.11120996624231339, -0.053235653787851334, ...</td>\n",
       "      <td>developer</td>\n",
       "      <td>3</td>\n",
       "      <td>[-0.11657912, -0.0595387, -0.1702747, 0.123173...</td>\n",
       "      <td>0.042940</td>\n",
       "      <td>0.019724</td>\n",
       "      <td>1.023216</td>\n",
       "      <td>NaN</td>\n",
       "    </tr>\n",
       "    <tr>\n",
       "      <td>417</td>\n",
       "      <td>[-0.1134752705693245, -0.06513474881649017, -0...</td>\n",
       "      <td>problem</td>\n",
       "      <td>3</td>\n",
       "      <td>[-0.11657912, -0.0595387, -0.1702747, 0.123173...</td>\n",
       "      <td>0.042641</td>\n",
       "      <td>0.019276</td>\n",
       "      <td>1.023365</td>\n",
       "      <td>NaN</td>\n",
       "    </tr>\n",
       "    <tr>\n",
       "      <td>841</td>\n",
       "      <td>[-0.11063051223754883, -0.05736397206783295, -...</td>\n",
       "      <td>authority</td>\n",
       "      <td>3</td>\n",
       "      <td>[-0.11657912, -0.0595387, -0.1702747, 0.123173...</td>\n",
       "      <td>0.042570</td>\n",
       "      <td>0.017482</td>\n",
       "      <td>1.025087</td>\n",
       "      <td>NaN</td>\n",
       "    </tr>\n",
       "    <tr>\n",
       "      <td>1876</td>\n",
       "      <td>[-0.11974391341209412, -0.05932191386818886, -...</td>\n",
       "      <td>ecosystem</td>\n",
       "      <td>3</td>\n",
       "      <td>[-0.11657912, -0.0595387, -0.1702747, 0.123173...</td>\n",
       "      <td>0.047115</td>\n",
       "      <td>0.021069</td>\n",
       "      <td>1.026047</td>\n",
       "      <td>NaN</td>\n",
       "    </tr>\n",
       "    <tr>\n",
       "      <td>331</td>\n",
       "      <td>[-0.11882580816745758, -0.06043264642357826, -...</td>\n",
       "      <td>executive</td>\n",
       "      <td>3</td>\n",
       "      <td>[-0.11657912, -0.0595387, -0.1702747, 0.123173...</td>\n",
       "      <td>0.041875</td>\n",
       "      <td>0.015689</td>\n",
       "      <td>1.026186</td>\n",
       "      <td>NaN</td>\n",
       "    </tr>\n",
       "    <tr>\n",
       "      <td>489</td>\n",
       "      <td>[-0.11704447865486145, -0.05800139904022217, -...</td>\n",
       "      <td>something</td>\n",
       "      <td>3</td>\n",
       "      <td>[-0.11657912, -0.0595387, -0.1702747, 0.123173...</td>\n",
       "      <td>0.045824</td>\n",
       "      <td>0.019276</td>\n",
       "      <td>1.026549</td>\n",
       "      <td>NaN</td>\n",
       "    </tr>\n",
       "  </tbody>\n",
       "</table>\n",
       "</div>"
      ],
      "text/plain": [
       "                                               raw_data        word  cluster  \\\n",
       "405   [-0.12071405351161957, -0.059850431978702545, ...     control        3   \n",
       "2988  [-0.11983031034469604, -0.061368998140096664, ...      ripple        3   \n",
       "906   [-0.11399857699871063, -0.056100353598594666, ...        hard        3   \n",
       "772   [-0.11690408736467361, -0.062063004821538925, ...        tool        3   \n",
       "934   [-0.11988139152526855, -0.05984397232532501, -...     several        3   \n",
       "1330  [-0.11311658471822739, -0.05539076775312424, -...  individual        3   \n",
       "1236  [-0.11933881789445877, -0.062271926552057266, ...        case        3   \n",
       "319   [-0.11841974407434464, -0.06211477518081665, -...      reduce        3   \n",
       "273   [-0.11987099051475525, -0.05819709599018097, -...        loss        3   \n",
       "1916  [-0.11754729598760605, -0.06285585463047028, -...  foundation        3   \n",
       "89    [-0.12025891989469528, -0.06443396210670471, -...      volume        3   \n",
       "53    [-0.1125188022851944, -0.0556139312684536, -0....       least        3   \n",
       "1742  [-0.1192624568939209, -0.0628226026892662, -0....    evidence        3   \n",
       "2340  [-0.11834348738193512, -0.06413033604621887, -...    transfer        3   \n",
       "1022  [-0.11120996624231339, -0.053235653787851334, ...   developer        3   \n",
       "417   [-0.1134752705693245, -0.06513474881649017, -0...     problem        3   \n",
       "841   [-0.11063051223754883, -0.05736397206783295, -...   authority        3   \n",
       "1876  [-0.11974391341209412, -0.05932191386818886, -...   ecosystem        3   \n",
       "331   [-0.11882580816745758, -0.06043264642357826, -...   executive        3   \n",
       "489   [-0.11704447865486145, -0.05800139904022217, -...   something        3   \n",
       "\n",
       "                                               centroid  distance     tfidf  \\\n",
       "405   [-0.11657912, -0.0595387, -0.1702747, 0.123173...  0.029361  0.020620   \n",
       "2988  [-0.11657912, -0.0595387, -0.1702747, 0.123173...  0.029033  0.020172   \n",
       "906   [-0.11657912, -0.0595387, -0.1702747, 0.123173...  0.032350  0.020172   \n",
       "772   [-0.11657912, -0.0595387, -0.1702747, 0.123173...  0.030192  0.017931   \n",
       "934   [-0.11657912, -0.0595387, -0.1702747, 0.123173...  0.030948  0.017034   \n",
       "1330  [-0.11657912, -0.0595387, -0.1702747, 0.123173...  0.036452  0.022413   \n",
       "1236  [-0.11657912, -0.0595387, -0.1702747, 0.123173...  0.032862  0.017931   \n",
       "319   [-0.11657912, -0.0595387, -0.1702747, 0.123173...  0.034319  0.017931   \n",
       "273   [-0.11657912, -0.0595387, -0.1702747, 0.123173...  0.036938  0.020172   \n",
       "1916  [-0.11657912, -0.0595387, -0.1702747, 0.123173...  0.035394  0.017931   \n",
       "89    [-0.11657912, -0.0595387, -0.1702747, 0.123173...  0.045332  0.026896   \n",
       "53    [-0.11657912, -0.0595387, -0.1702747, 0.123173...  0.037496  0.017482   \n",
       "1742  [-0.11657912, -0.0595387, -0.1702747, 0.123173...  0.037701  0.015689   \n",
       "2340  [-0.11657912, -0.0595387, -0.1702747, 0.123173...  0.045897  0.023310   \n",
       "1022  [-0.11657912, -0.0595387, -0.1702747, 0.123173...  0.042940  0.019724   \n",
       "417   [-0.11657912, -0.0595387, -0.1702747, 0.123173...  0.042641  0.019276   \n",
       "841   [-0.11657912, -0.0595387, -0.1702747, 0.123173...  0.042570  0.017482   \n",
       "1876  [-0.11657912, -0.0595387, -0.1702747, 0.123173...  0.047115  0.021069   \n",
       "331   [-0.11657912, -0.0595387, -0.1702747, 0.123173...  0.041875  0.015689   \n",
       "489   [-0.11657912, -0.0595387, -0.1702747, 0.123173...  0.045824  0.019276   \n",
       "\n",
       "         score closer#  \n",
       "405   1.008741     NaN  \n",
       "2988  1.008861     NaN  \n",
       "906   1.012178     NaN  \n",
       "772   1.012261     NaN  \n",
       "934   1.013913     NaN  \n",
       "1330  1.014039     NaN  \n",
       "1236  1.014932     NaN  \n",
       "319   1.016389     NaN  \n",
       "273   1.016766     NaN  \n",
       "1916  1.017464     NaN  \n",
       "89    1.018436     NaN  \n",
       "53    1.020014     NaN  \n",
       "1742  1.022012     NaN  \n",
       "2340  1.022587     NaN  \n",
       "1022  1.023216     NaN  \n",
       "417   1.023365     NaN  \n",
       "841   1.025087     NaN  \n",
       "1876  1.026047     NaN  \n",
       "331   1.026186     NaN  \n",
       "489   1.026549     NaN  "
      ]
     },
     "execution_count": 179,
     "metadata": {},
     "output_type": "execute_result"
    }
   ],
   "source": [
    "temp_cluster_result1[temp_cluster_result1['cluster']==3].sort_values('score',ascending=False).nsmallest(20,'score') # 협업"
   ]
  },
  {
   "cell_type": "code",
   "execution_count": 180,
   "metadata": {},
   "outputs": [
    {
     "data": {
      "text/plain": [
       "5277"
      ]
     },
     "execution_count": 180,
     "metadata": {},
     "output_type": "execute_result"
    }
   ],
   "source": [
    "len(temp_cluster_result1[temp_cluster_result1['cluster']==0]) #사회적용"
   ]
  },
  {
   "cell_type": "code",
   "execution_count": 181,
   "metadata": {},
   "outputs": [
    {
     "data": {
      "text/plain": [
       "138"
      ]
     },
     "execution_count": 181,
     "metadata": {},
     "output_type": "execute_result"
    }
   ],
   "source": [
    "len(temp_cluster_result1[temp_cluster_result1['cluster']==1]) #투자"
   ]
  },
  {
   "cell_type": "code",
   "execution_count": 182,
   "metadata": {},
   "outputs": [
    {
     "data": {
      "text/plain": [
       "882"
      ]
     },
     "execution_count": 182,
     "metadata": {},
     "output_type": "execute_result"
    }
   ],
   "source": [
    "len(temp_cluster_result1[temp_cluster_result1['cluster']==2]) #제도"
   ]
  },
  {
   "cell_type": "code",
   "execution_count": 183,
   "metadata": {},
   "outputs": [
    {
     "data": {
      "text/plain": [
       "339"
      ]
     },
     "execution_count": 183,
     "metadata": {},
     "output_type": "execute_result"
    }
   ],
   "source": [
    "len(temp_cluster_result1[temp_cluster_result1['cluster']==3]) #협업"
   ]
  },
  {
   "cell_type": "code",
   "execution_count": 184,
   "metadata": {},
   "outputs": [],
   "source": [
    "word_vectors = model.wv"
   ]
  },
  {
   "cell_type": "code",
   "execution_count": 185,
   "metadata": {},
   "outputs": [],
   "source": [
    "vocabs = word_vectors.vocab.keys()"
   ]
  },
  {
   "cell_type": "code",
   "execution_count": 186,
   "metadata": {},
   "outputs": [],
   "source": [
    "word_vector_list = [word_vectors[v]for v in vocabs]"
   ]
  },
  {
   "cell_type": "code",
   "execution_count": 187,
   "metadata": {},
   "outputs": [
    {
     "name": "stdout",
     "output_type": "stream",
     "text": [
      "0.99957716\n"
     ]
    }
   ],
   "source": [
    "print(word_vectors.similarity(w1='little',w2='push'))"
   ]
  },
  {
   "cell_type": "code",
   "execution_count": 188,
   "metadata": {},
   "outputs": [],
   "source": [
    "from sklearn.decomposition import PCA\n",
    "pca = PCA(n_components=2)\n",
    "xys = pca.fit_transform(word_vector_list)"
   ]
  },
  {
   "cell_type": "code",
   "execution_count": 189,
   "metadata": {},
   "outputs": [
    {
     "data": {
      "text/plain": [
       "array([[ 4.82830998e+00, -5.81156087e-04],\n",
       "       [ 5.44690528e+00,  5.12157207e-03],\n",
       "       [ 3.97393760e+00,  2.25458445e-03],\n",
       "       ...,\n",
       "       [-2.92814459e-01,  1.59283822e-03],\n",
       "       [-3.21023616e-01, -3.36565739e-03],\n",
       "       [-3.66863217e-01, -1.71454156e-03]])"
      ]
     },
     "execution_count": 189,
     "metadata": {},
     "output_type": "execute_result"
    }
   ],
   "source": [
    "xys"
   ]
  },
  {
   "cell_type": "code",
   "execution_count": 190,
   "metadata": {},
   "outputs": [
    {
     "data": {
      "text/plain": [
       "array([ 4.82830998,  5.44690528,  3.9739376 , ..., -0.29281446,\n",
       "       -0.32102362, -0.36686322])"
      ]
     },
     "execution_count": 190,
     "metadata": {},
     "output_type": "execute_result"
    }
   ],
   "source": [
    "xys[:,0]"
   ]
  },
  {
   "cell_type": "code",
   "execution_count": 191,
   "metadata": {},
   "outputs": [
    {
     "data": {
      "text/plain": [
       "array([-0.00058116,  0.00512157,  0.00225458, ...,  0.00159284,\n",
       "       -0.00336566, -0.00171454])"
      ]
     },
     "execution_count": 191,
     "metadata": {},
     "output_type": "execute_result"
    }
   ],
   "source": [
    "xys[:,1]"
   ]
  },
  {
   "cell_type": "code",
   "execution_count": 192,
   "metadata": {},
   "outputs": [],
   "source": [
    "xs = xys[:,0]\n",
    "ys = xys[:,1]"
   ]
  },
  {
   "cell_type": "code",
   "execution_count": 193,
   "metadata": {},
   "outputs": [],
   "source": [
    "def plot_2d_graph(vocabs,xs,ys) :\n",
    "    plt.figure(figsize=(8,6))\n",
    "    plt.scatter(xs,ys,marker='o')\n",
    "    for i,v in enumerate(vocabs) :\n",
    "        plt.annotate(v,xy=(xs[i],ys[i]))"
   ]
  },
  {
   "cell_type": "code",
   "execution_count": 194,
   "metadata": {},
   "outputs": [
    {
     "name": "stderr",
     "output_type": "stream",
     "text": [
      "/Users/hongminpyo/opt/anaconda3/lib/python3.7/site-packages/matplotlib/backends/backend_agg.py:211: RuntimeWarning: Glyph 9989 missing from current font.\n",
      "  font.set_text(s, 0.0, flags=flags)\n",
      "/Users/hongminpyo/opt/anaconda3/lib/python3.7/site-packages/matplotlib/backends/backend_agg.py:180: RuntimeWarning: Glyph 9989 missing from current font.\n",
      "  font.set_text(s, 0, flags=flags)\n"
     ]
    },
    {
     "data": {
      "image/png": "[encoded data removed]",
      "text/plain": [
       "<Figure size 576x432 with 1 Axes>"
      ]
     },
     "metadata": {
      "needs_background": "light"
     },
     "output_type": "display_data"
    }
   ],
   "source": [
    "plot_2d_graph(vocabs,xs,ys)"
   ]
  },
  {
   "cell_type": "code",
   "execution_count": 195,
   "metadata": {},
   "outputs": [
    {
     "data": {
      "text/plain": [
       "<function nltk.help.upenn_tagset(tagpattern=None)>"
      ]
     },
     "execution_count": 195,
     "metadata": {},
     "output_type": "execute_result"
    }
   ],
   "source": [
    "nltk.help.upenn_tagset"
   ]
  },
  {
   "cell_type": "code",
   "execution_count": null,
   "metadata": {},
   "outputs": [],
   "source": []
  }
 ],
 "metadata": {
  "kernelspec": {
   "display_name": "Python 3",
   "language": "python",
   "name": "python3"
  },
  "language_info": {
   "codemirror_mode": {
    "name": "ipython",
    "version": 3
   },
   "file_extension": ".py",
   "mimetype": "text/x-python",
   "name": "python",
   "nbconvert_exporter": "python",
   "pygments_lexer": "ipython3",
   "version": "3.7.4"
  },
  "pycharm": {
   "stem_cell": {
    "cell_type": "raw",
    "metadata": {
     "collapsed": false
    },
    "source": []
   }
  }
 },
 "nbformat": 4,
 "nbformat_minor": 2
}

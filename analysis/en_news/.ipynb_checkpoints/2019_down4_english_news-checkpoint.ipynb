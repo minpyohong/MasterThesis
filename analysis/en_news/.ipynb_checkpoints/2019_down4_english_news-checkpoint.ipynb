{
 "cells": [
  {
   "cell_type": "code",
   "execution_count": 1,
   "metadata": {},
   "outputs": [],
   "source": [
    "import chardet\n",
    "import pandas as pd\n",
    "import urllib.request\n",
    "\n",
    "    \n",
    "#print(encoding_result)\n",
    "data = pd.read_csv('../../news/scraping_result/en/2019_down4/2019_down4_Coindesk.csv', error_bad_lines=False)\n",
    "data = data.append(pd.read_csv('../../news/scraping_result/en/2019_down4/2019_down4_Cointelegraph.csv',error_bad_lines=False))\n",
    "data = data.append(pd.read_csv('../../news/scraping_result/en/2019_down4/2019_down4_CryptoNews.csv', error_bad_lines=False))\n",
    "data = data.append(pd.read_csv('../../news/scraping_result/en/2019_down4/2019_down4_Forbes.csv', error_bad_lines=False))\n"
   ]
  },
  {
   "cell_type": "code",
   "execution_count": 2,
   "metadata": {},
   "outputs": [],
   "source": [
    "text = data[['main article']]\n",
    "#print(text)\n",
    "\n"
   ]
  },
  {
   "cell_type": "code",
   "execution_count": 3,
   "metadata": {},
   "outputs": [
    {
     "name": "stderr",
     "output_type": "stream",
     "text": [
      "/Users/hongminpyo/opt/anaconda3/lib/python3.7/site-packages/ipykernel_launcher.py:1: SettingWithCopyWarning: \n",
      "A value is trying to be set on a copy of a slice from a DataFrame.\n",
      "Try using .loc[row_indexer,col_indexer] = value instead\n",
      "\n",
      "See the caveats in the documentation: http://pandas.pydata.org/pandas-docs/stable/user_guide/indexing.html#returning-a-view-versus-a-copy\n",
      "  \"\"\"Entry point for launching an IPython kernel.\n",
      "/Users/hongminpyo/opt/anaconda3/lib/python3.7/site-packages/ipykernel_launcher.py:2: SettingWithCopyWarning: \n",
      "A value is trying to be set on a copy of a slice from a DataFrame.\n",
      "Try using .loc[row_indexer,col_indexer] = value instead\n",
      "\n",
      "See the caveats in the documentation: http://pandas.pydata.org/pandas-docs/stable/user_guide/indexing.html#returning-a-view-versus-a-copy\n",
      "  \n",
      "/Users/hongminpyo/opt/anaconda3/lib/python3.7/site-packages/ipykernel_launcher.py:3: SettingWithCopyWarning: \n",
      "A value is trying to be set on a copy of a slice from a DataFrame.\n",
      "Try using .loc[row_indexer,col_indexer] = value instead\n",
      "\n",
      "See the caveats in the documentation: http://pandas.pydata.org/pandas-docs/stable/user_guide/indexing.html#returning-a-view-versus-a-copy\n",
      "  This is separate from the ipykernel package so we can avoid doing imports until\n",
      "/Users/hongminpyo/opt/anaconda3/lib/python3.7/site-packages/ipykernel_launcher.py:4: SettingWithCopyWarning: \n",
      "A value is trying to be set on a copy of a slice from a DataFrame.\n",
      "Try using .loc[row_indexer,col_indexer] = value instead\n",
      "\n",
      "See the caveats in the documentation: http://pandas.pydata.org/pandas-docs/stable/user_guide/indexing.html#returning-a-view-versus-a-copy\n",
      "  after removing the cwd from sys.path.\n",
      "/Users/hongminpyo/opt/anaconda3/lib/python3.7/site-packages/ipykernel_launcher.py:5: SettingWithCopyWarning: \n",
      "A value is trying to be set on a copy of a slice from a DataFrame.\n",
      "Try using .loc[row_indexer,col_indexer] = value instead\n",
      "\n",
      "See the caveats in the documentation: http://pandas.pydata.org/pandas-docs/stable/user_guide/indexing.html#returning-a-view-versus-a-copy\n",
      "  \"\"\"\n",
      "/Users/hongminpyo/opt/anaconda3/lib/python3.7/site-packages/ipykernel_launcher.py:6: SettingWithCopyWarning: \n",
      "A value is trying to be set on a copy of a slice from a DataFrame.\n",
      "Try using .loc[row_indexer,col_indexer] = value instead\n",
      "\n",
      "See the caveats in the documentation: http://pandas.pydata.org/pandas-docs/stable/user_guide/indexing.html#returning-a-view-versus-a-copy\n",
      "  \n",
      "/Users/hongminpyo/opt/anaconda3/lib/python3.7/site-packages/ipykernel_launcher.py:7: SettingWithCopyWarning: \n",
      "A value is trying to be set on a copy of a slice from a DataFrame.\n",
      "Try using .loc[row_indexer,col_indexer] = value instead\n",
      "\n",
      "See the caveats in the documentation: http://pandas.pydata.org/pandas-docs/stable/user_guide/indexing.html#returning-a-view-versus-a-copy\n",
      "  import sys\n"
     ]
    }
   ],
   "source": [
    "text['main article'] = text['main article'].astype(str)\n",
    "text['main article'] = text.apply(lambda row: row['main article'].replace(\"/\",\" \"), axis=1)\n",
    "text['main article'] = text.apply(lambda row: row['main article'].replace(\"—\",\" \"), axis=1)\n",
    "text['main article'] = text.apply(lambda row: row['main article'].replace(\"—\",\" \"), axis=1)\n",
    "text['main article'] = text.apply(lambda row: row['main article'].replace(\"*\",\" \"), axis=1)\n",
    "text['main article'] = text.apply(lambda row: row['main article'].replace(\"…\",\" \"), axis=1)\n",
    "text['main article'] = text.apply(lambda row: row['main article'].replace(\"\\\\\",\" \"), axis=1)"
   ]
  },
  {
   "cell_type": "code",
   "execution_count": 4,
   "metadata": {},
   "outputs": [
    {
     "name": "stderr",
     "output_type": "stream",
     "text": [
      "/Users/hongminpyo/opt/anaconda3/lib/python3.7/site-packages/ipykernel_launcher.py:2: SettingWithCopyWarning: \n",
      "A value is trying to be set on a copy of a slice from a DataFrame.\n",
      "Try using .loc[row_indexer,col_indexer] = value instead\n",
      "\n",
      "See the caveats in the documentation: http://pandas.pydata.org/pandas-docs/stable/user_guide/indexing.html#returning-a-view-versus-a-copy\n",
      "  \n"
     ]
    }
   ],
   "source": [
    "import nltk\n",
    "text['main article'] = text.apply(lambda row: nltk.word_tokenize(row['main article']), axis=1)"
   ]
  },
  {
   "cell_type": "code",
   "execution_count": 5,
   "metadata": {},
   "outputs": [
    {
     "name": "stderr",
     "output_type": "stream",
     "text": [
      "/Users/hongminpyo/opt/anaconda3/lib/python3.7/site-packages/ipykernel_launcher.py:2: SettingWithCopyWarning: \n",
      "A value is trying to be set on a copy of a slice from a DataFrame.\n",
      "Try using .loc[row_indexer,col_indexer] = value instead\n",
      "\n",
      "See the caveats in the documentation: http://pandas.pydata.org/pandas-docs/stable/user_guide/indexing.html#returning-a-view-versus-a-copy\n",
      "  \n",
      "/Users/hongminpyo/opt/anaconda3/lib/python3.7/site-packages/ipykernel_launcher.py:4: SettingWithCopyWarning: \n",
      "A value is trying to be set on a copy of a slice from a DataFrame.\n",
      "Try using .loc[row_indexer,col_indexer] = value instead\n",
      "\n",
      "See the caveats in the documentation: http://pandas.pydata.org/pandas-docs/stable/user_guide/indexing.html#returning-a-view-versus-a-copy\n",
      "  after removing the cwd from sys.path.\n"
     ]
    }
   ],
   "source": [
    "# 소문자 적용 , - 문자 삭제\n",
    "text['main article'] = text['main article'].apply(lambda x : [word.lower().replace(\"-\",\"\") for word in x])\n",
    "# 공백문자 삭제\n",
    "text['main article'] = text['main article'].apply(lambda x : [word for word in x if word])"
   ]
  },
  {
   "cell_type": "code",
   "execution_count": 6,
   "metadata": {},
   "outputs": [
    {
     "name": "stderr",
     "output_type": "stream",
     "text": [
      "/Users/hongminpyo/opt/anaconda3/lib/python3.7/site-packages/ipykernel_launcher.py:3: SettingWithCopyWarning: \n",
      "A value is trying to be set on a copy of a slice from a DataFrame.\n",
      "Try using .loc[row_indexer,col_indexer] = value instead\n",
      "\n",
      "See the caveats in the documentation: http://pandas.pydata.org/pandas-docs/stable/user_guide/indexing.html#returning-a-view-versus-a-copy\n",
      "  This is separate from the ipykernel package so we can avoid doing imports until\n"
     ]
    }
   ],
   "source": [
    "from nltk.tag import pos_tag\n",
    "\n",
    "text['pos tag'] = text.apply(lambda row: pos_tag(row['main article']), axis=1)"
   ]
  },
  {
   "cell_type": "code",
   "execution_count": 7,
   "metadata": {},
   "outputs": [
    {
     "name": "stderr",
     "output_type": "stream",
     "text": [
      "/Users/hongminpyo/opt/anaconda3/lib/python3.7/site-packages/ipykernel_launcher.py:2: SettingWithCopyWarning: \n",
      "A value is trying to be set on a copy of a slice from a DataFrame.\n",
      "Try using .loc[row_indexer,col_indexer] = value instead\n",
      "\n",
      "See the caveats in the documentation: http://pandas.pydata.org/pandas-docs/stable/user_guide/indexing.html#returning-a-view-versus-a-copy\n",
      "  \n"
     ]
    }
   ],
   "source": [
    "# 불용어 품사 제거\n",
    "text['main article'] = text['pos tag'].apply(lambda x: [word[0] for word in x if word[1] not in ('CC','CD','DT','EX','IN','LS','MD','PRP','PRP$','RB','TO','UH','WDT','WP','WP$','WRB')])"
   ]
  },
  {
   "cell_type": "code",
   "execution_count": 8,
   "metadata": {},
   "outputs": [
    {
     "name": "stderr",
     "output_type": "stream",
     "text": [
      "/Users/hongminpyo/opt/anaconda3/lib/python3.7/site-packages/ipykernel_launcher.py:3: SettingWithCopyWarning: \n",
      "A value is trying to be set on a copy of a slice from a DataFrame.\n",
      "Try using .loc[row_indexer,col_indexer] = value instead\n",
      "\n",
      "See the caveats in the documentation: http://pandas.pydata.org/pandas-docs/stable/user_guide/indexing.html#returning-a-view-versus-a-copy\n",
      "  This is separate from the ipykernel package so we can avoid doing imports until\n"
     ]
    }
   ],
   "source": [
    "from nltk.corpus import stopwords\n",
    "stop = stopwords.words('english')\n",
    "text['main article'] = text['main article'].apply(lambda x: [word for word in x if word not in (stop)])"
   ]
  },
  {
   "cell_type": "code",
   "execution_count": 9,
   "metadata": {},
   "outputs": [
    {
     "name": "stderr",
     "output_type": "stream",
     "text": [
      "/Users/hongminpyo/opt/anaconda3/lib/python3.7/site-packages/ipykernel_launcher.py:11: SettingWithCopyWarning: \n",
      "A value is trying to be set on a copy of a slice from a DataFrame.\n",
      "Try using .loc[row_indexer,col_indexer] = value instead\n",
      "\n",
      "See the caveats in the documentation: http://pandas.pydata.org/pandas-docs/stable/user_guide/indexing.html#returning-a-view-versus-a-copy\n",
      "  # This is added back by InteractiveShellApp.init_path()\n"
     ]
    }
   ],
   "source": [
    "import csv\n",
    "stopword_list =[]\n",
    "f = open('../../stopword/stop_en.txt', 'r')\n",
    "reader = csv.reader(f)\n",
    "for row in reader:\n",
    "    #print(row[0])\n",
    "    stopword_list.append(row[0])\n",
    "    #pass\n",
    "f.close()\n",
    "\n",
    "text['main article'] = text['main article'].apply(lambda x: [word for word in x if word not in stopword_list])"
   ]
  },
  {
   "cell_type": "code",
   "execution_count": 10,
   "metadata": {},
   "outputs": [
    {
     "name": "stdout",
     "output_type": "stream",
     "text": [
      "<re.Match object; span=(3, 4), match='.'>\n"
     ]
    },
    {
     "name": "stderr",
     "output_type": "stream",
     "text": [
      "/Users/hongminpyo/opt/anaconda3/lib/python3.7/site-packages/ipykernel_launcher.py:5: SettingWithCopyWarning: \n",
      "A value is trying to be set on a copy of a slice from a DataFrame.\n",
      "Try using .loc[row_indexer,col_indexer] = value instead\n",
      "\n",
      "See the caveats in the documentation: http://pandas.pydata.org/pandas-docs/stable/user_guide/indexing.html#returning-a-view-versus-a-copy\n",
      "  \"\"\"\n"
     ]
    }
   ],
   "source": [
    "import re\n",
    "pattern=re.compile(r'\\.')\n",
    "print(pattern.search('abc.de'))\n",
    "\n",
    "text['main article'] = text['main article'].apply(lambda x: [word for word in x if pattern.search(word)== None])"
   ]
  },
  {
   "cell_type": "code",
   "execution_count": 11,
   "metadata": {},
   "outputs": [
    {
     "name": "stderr",
     "output_type": "stream",
     "text": [
      "/Users/hongminpyo/opt/anaconda3/lib/python3.7/site-packages/ipykernel_launcher.py:2: SettingWithCopyWarning: \n",
      "A value is trying to be set on a copy of a slice from a DataFrame.\n",
      "Try using .loc[row_indexer,col_indexer] = value instead\n",
      "\n",
      "See the caveats in the documentation: http://pandas.pydata.org/pandas-docs/stable/user_guide/indexing.html#returning-a-view-versus-a-copy\n",
      "  \n"
     ]
    }
   ],
   "source": [
    "number_pattern=re.compile(r'[0-9]\\,[0-9]')\n",
    "text['main article'] = text['main article'].apply(lambda x: [word for word in x if number_pattern.search(word)== None])"
   ]
  },
  {
   "cell_type": "code",
   "execution_count": 12,
   "metadata": {},
   "outputs": [
    {
     "name": "stderr",
     "output_type": "stream",
     "text": [
      "/Users/hongminpyo/opt/anaconda3/lib/python3.7/site-packages/ipykernel_launcher.py:2: SettingWithCopyWarning: \n",
      "A value is trying to be set on a copy of a slice from a DataFrame.\n",
      "Try using .loc[row_indexer,col_indexer] = value instead\n",
      "\n",
      "See the caveats in the documentation: http://pandas.pydata.org/pandas-docs/stable/user_guide/indexing.html#returning-a-view-versus-a-copy\n",
      "  \n"
     ]
    }
   ],
   "source": [
    "native_number_pattern=re.compile(r'[0-9]')\n",
    "text['main article'] = text['main article'].apply(lambda x: [word for word in x if native_number_pattern.search(word)== None])"
   ]
  },
  {
   "cell_type": "code",
   "execution_count": 13,
   "metadata": {},
   "outputs": [
    {
     "name": "stderr",
     "output_type": "stream",
     "text": [
      "/Users/hongminpyo/opt/anaconda3/lib/python3.7/site-packages/ipykernel_launcher.py:2: SettingWithCopyWarning: \n",
      "A value is trying to be set on a copy of a slice from a DataFrame.\n",
      "Try using .loc[row_indexer,col_indexer] = value instead\n",
      "\n",
      "See the caveats in the documentation: http://pandas.pydata.org/pandas-docs/stable/user_guide/indexing.html#returning-a-view-versus-a-copy\n",
      "  \n"
     ]
    }
   ],
   "source": [
    "star_pattern=re.compile(r'[a-z0-9*]\\*[a-z0-9*]')\n",
    "text['main article'] = text['main article'].apply(lambda x: [word for word in x if star_pattern.search(word)== None])"
   ]
  },
  {
   "cell_type": "code",
   "execution_count": 14,
   "metadata": {},
   "outputs": [
    {
     "name": "stderr",
     "output_type": "stream",
     "text": [
      "/Users/hongminpyo/opt/anaconda3/lib/python3.7/site-packages/ipykernel_launcher.py:2: SettingWithCopyWarning: \n",
      "A value is trying to be set on a copy of a slice from a DataFrame.\n",
      "Try using .loc[row_indexer,col_indexer] = value instead\n",
      "\n",
      "See the caveats in the documentation: http://pandas.pydata.org/pandas-docs/stable/user_guide/indexing.html#returning-a-view-versus-a-copy\n",
      "  \n",
      "/Users/hongminpyo/opt/anaconda3/lib/python3.7/site-packages/ipykernel_launcher.py:3: SettingWithCopyWarning: \n",
      "A value is trying to be set on a copy of a slice from a DataFrame.\n",
      "Try using .loc[row_indexer,col_indexer] = value instead\n",
      "\n",
      "See the caveats in the documentation: http://pandas.pydata.org/pandas-docs/stable/user_guide/indexing.html#returning-a-view-versus-a-copy\n",
      "  This is separate from the ipykernel package so we can avoid doing imports until\n",
      "/Users/hongminpyo/opt/anaconda3/lib/python3.7/site-packages/ipykernel_launcher.py:4: SettingWithCopyWarning: \n",
      "A value is trying to be set on a copy of a slice from a DataFrame.\n",
      "Try using .loc[row_indexer,col_indexer] = value instead\n",
      "\n",
      "See the caveats in the documentation: http://pandas.pydata.org/pandas-docs/stable/user_guide/indexing.html#returning-a-view-versus-a-copy\n",
      "  after removing the cwd from sys.path.\n",
      "/Users/hongminpyo/opt/anaconda3/lib/python3.7/site-packages/ipykernel_launcher.py:5: SettingWithCopyWarning: \n",
      "A value is trying to be set on a copy of a slice from a DataFrame.\n",
      "Try using .loc[row_indexer,col_indexer] = value instead\n",
      "\n",
      "See the caveats in the documentation: http://pandas.pydata.org/pandas-docs/stable/user_guide/indexing.html#returning-a-view-versus-a-copy\n",
      "  \"\"\"\n"
     ]
    }
   ],
   "source": [
    "from nltk.stem import WordNetLemmatizer\n",
    "text['main article'] = text['main article'].apply(lambda x: [WordNetLemmatizer().lemmatize(word, pos='v') for word in x]) # 동사 \n",
    "text['main article'] = text['main article'].apply(lambda x: [WordNetLemmatizer().lemmatize(word, pos='a') for word in x]) # 형용사\n",
    "text['main article'] = text['main article'].apply(lambda x: [WordNetLemmatizer().lemmatize(word, pos='n') for word in x]) # 명사\n",
    "text['main article'] = text['main article'].apply(lambda x: [WordNetLemmatizer().lemmatize(word, pos='r') for word in x]) # 부사\n",
    "#print(text)"
   ]
  },
  {
   "cell_type": "code",
   "execution_count": 15,
   "metadata": {},
   "outputs": [],
   "source": [
    "tokenized_doc = text['main article'].apply(lambda x: [word for word in x if len(word) > 3])\n",
    "#print(tokenized_doc)"
   ]
  },
  {
   "cell_type": "code",
   "execution_count": 16,
   "metadata": {},
   "outputs": [],
   "source": [
    "article_contents = tokenized_doc.values.tolist()"
   ]
  },
  {
   "cell_type": "code",
   "execution_count": 17,
   "metadata": {},
   "outputs": [],
   "source": [
    "from sklearn.feature_extraction.text import TfidfVectorizer\n",
    "from collections import defaultdict"
   ]
  },
  {
   "cell_type": "code",
   "execution_count": 18,
   "metadata": {},
   "outputs": [],
   "source": [
    "tokenized_doc_tfidf = tokenized_doc.apply(lambda x : ' '.join(x))"
   ]
  },
  {
   "cell_type": "code",
   "execution_count": 19,
   "metadata": {},
   "outputs": [],
   "source": [
    "article_contents_tfidf = tokenized_doc_tfidf.values.tolist()"
   ]
  },
  {
   "cell_type": "code",
   "execution_count": 20,
   "metadata": {},
   "outputs": [],
   "source": [
    "vectorizer = TfidfVectorizer()\n",
    "sp_matrix = vectorizer.fit_transform([ \" \".join(article_contents_tfidf) ])"
   ]
  },
  {
   "cell_type": "code",
   "execution_count": 21,
   "metadata": {},
   "outputs": [],
   "source": [
    "word2id = defaultdict(lambda: 0)"
   ]
  },
  {
   "cell_type": "code",
   "execution_count": 22,
   "metadata": {},
   "outputs": [],
   "source": [
    "for idx, feature in enumerate(vectorizer.get_feature_names()):\n",
    "    word2id[feature] = idx"
   ]
  },
  {
   "cell_type": "code",
   "execution_count": 23,
   "metadata": {},
   "outputs": [],
   "source": [
    "tf_idf_result = []\n",
    "token_list = []\n",
    "for i, sent in enumerate([\" \".join(article_contents_tfidf)]):\n",
    "    for token in sent.split() :\n",
    "        if token not in token_list :\n",
    "            temp=[]\n",
    "            temp.append(token)\n",
    "            temp.append(sp_matrix[i, word2id[token]])\n",
    "            token_list.append(token)\n",
    "            tf_idf_result.append(temp)"
   ]
  },
  {
   "cell_type": "code",
   "execution_count": 24,
   "metadata": {},
   "outputs": [
    {
     "data": {
      "text/plain": [
       "9930"
      ]
     },
     "execution_count": 24,
     "metadata": {},
     "output_type": "execute_result"
    }
   ],
   "source": [
    "len(tf_idf_result)"
   ]
  },
  {
   "cell_type": "code",
   "execution_count": 25,
   "metadata": {},
   "outputs": [
    {
     "name": "stdout",
     "output_type": "stream",
     "text": [
      "9930\n"
     ]
    }
   ],
   "source": [
    "tf_idf_value =[]\n",
    "for tf_idf_element in tf_idf_result :\n",
    "    tf_idf_value.append(tf_idf_element[1])\n",
    "print(len(tf_idf_value))  ## tf-idf 값을 배열에 담음"
   ]
  },
  {
   "cell_type": "code",
   "execution_count": 26,
   "metadata": {},
   "outputs": [
    {
     "name": "stdout",
     "output_type": "stream",
     "text": [
      "[(1, 1)]\n"
     ]
    }
   ],
   "source": [
    "from gensim import corpora\n",
    "tokenized_doc = [d.split() for d in token_list]\n",
    "dictionary = corpora.Dictionary(tokenized_doc)\n",
    "corpus = [dictionary.doc2bow(text) for text in tokenized_doc]\n",
    "print(corpus[1]) "
   ]
  },
  {
   "cell_type": "code",
   "execution_count": 27,
   "metadata": {},
   "outputs": [
    {
     "name": "stdout",
     "output_type": "stream",
     "text": [
      "(0, '0.000*\"reformation\" + 0.000*\"parallel\" + 0.000*\"threshold\" + 0.000*\"motivation\" + 0.000*\"shiraz\" + 0.000*\"probitcoin\" + 0.000*\"staterun\" + 0.000*\"peso–dollar\"')\n",
      "(1, '0.000*\"unwary\" + 0.000*\"twotier\" + 0.000*\"caixin\" + 0.000*\"utter\" + 0.000*\"longestserving\" + 0.000*\"praxxis\" + 0.000*\"strawman\" + 0.000*\"quantumsecure\"')\n",
      "(2, '0.000*\"jedling\" + 0.000*\"yevhen\" + 0.000*\"gigawatts\" + 0.000*\"ransom\" + 0.000*\"kanto\" + 0.000*\"wanderer\" + 0.000*\"subtle\" + 0.000*\"cryptomine\"')\n",
      "(3, '0.000*\"pity\" + 0.000*\"elevation\" + 0.000*\"traceable\" + 0.000*\"escalate\" + 0.000*\"negotiation\" + 0.000*\"herve\" + 0.000*\"churchill\" + 0.000*\"proindustry\"')\n"
     ]
    }
   ],
   "source": [
    "import gensim\n",
    "NUM_TOPICS = 4 #20개의 토픽, k=20\n",
    "ldamodel = gensim.models.ldamodel.LdaModel(corpus, num_topics = NUM_TOPICS, id2word=dictionary, passes=50) \n",
    "# passes is similar with epoch , iterarion : loop per document\n",
    "topics = ldamodel.print_topics(num_words=8)\n",
    "for topic in topics:\n",
    "    print(topic)"
   ]
  },
  {
   "cell_type": "code",
   "execution_count": null,
   "metadata": {},
   "outputs": [],
   "source": [
    "import pyLDAvis.gensim\n",
    "pyLDAvis.enable_notebook()\n",
    "vis = pyLDAvis.gensim.prepare(ldamodel, corpus, dictionary)\n",
    "pyLDAvis.display(vis)"
   ]
  },
  {
   "cell_type": "code",
   "execution_count": null,
   "metadata": {},
   "outputs": [],
   "source": [
    "sentences = article_contents"
   ]
  },
  {
   "cell_type": "code",
   "execution_count": null,
   "metadata": {},
   "outputs": [],
   "source": [
    "from gensim.models import Word2Vec"
   ]
  },
  {
   "cell_type": "code",
   "execution_count": null,
   "metadata": {},
   "outputs": [],
   "source": [
    "model = Word2Vec(sentences, min_count=1)"
   ]
  },
  {
   "cell_type": "code",
   "execution_count": null,
   "metadata": {},
   "outputs": [],
   "source": [
    "len(model.wv.vocab)"
   ]
  },
  {
   "cell_type": "code",
   "execution_count": null,
   "metadata": {},
   "outputs": [],
   "source": [
    "X = model[model.wv.vocab]"
   ]
  },
  {
   "cell_type": "code",
   "execution_count": null,
   "metadata": {},
   "outputs": [],
   "source": [
    "from nltk.cluster import KMeansClusterer\n",
    "import nltk\n",
    "NUM_CLUSTERS=4\n",
    "kclusterer = KMeansClusterer(NUM_CLUSTERS, distance=nltk.cluster.util.cosine_distance, repeats=25)\n",
    "#kclusterer = KMeansClusterer(NUM_CLUSTERS, distance=nltk.cluster.util.euclidean_distance, repeats=25)\n",
    "#euclidean_distance\n",
    "assigned_clusters = kclusterer.cluster(X, assign_clusters=True)\n",
    "#print(X)\n",
    "#print(assigned_clusters)"
   ]
  },
  {
   "cell_type": "code",
   "execution_count": null,
   "metadata": {},
   "outputs": [],
   "source": [
    "import pandas as pd\n",
    "import numpy as np\n",
    "temp_heder = ['raw_data','word','cluster','centroid','distance','tfidf','score','closer#']\n",
    "temp_cluster_result = pd.DataFrame(columns=temp_heder)"
   ]
  },
  {
   "cell_type": "code",
   "execution_count": null,
   "metadata": {},
   "outputs": [],
   "source": [
    "temp_cluster_result['word'] = list(model.wv.vocab)"
   ]
  },
  {
   "cell_type": "code",
   "execution_count": null,
   "metadata": {},
   "outputs": [],
   "source": [
    "temp_cluster_result['cluster'] = assigned_clusters"
   ]
  },
  {
   "cell_type": "code",
   "execution_count": null,
   "metadata": {},
   "outputs": [],
   "source": [
    "temp_cluster_result['raw_data'] = X.tolist()"
   ]
  },
  {
   "cell_type": "code",
   "execution_count": null,
   "metadata": {},
   "outputs": [],
   "source": [
    "#temp_cluster_result['raw_data']\n",
    "temp_cluster_result['centroid'] = temp_cluster_result['cluster'].apply(lambda x : kclusterer.means()[x])"
   ]
  },
  {
   "cell_type": "code",
   "execution_count": null,
   "metadata": {},
   "outputs": [],
   "source": [
    "from sklearn.metrics import pairwise_distances"
   ]
  },
  {
   "cell_type": "code",
   "execution_count": null,
   "metadata": {},
   "outputs": [],
   "source": [
    "cosine_centroid_list = []\n",
    "for cosine_centroid in temp_cluster_result['centroid'] :\n",
    "    cosine_centroid_list.append(cosine_centroid.tolist())"
   ]
  },
  {
   "cell_type": "code",
   "execution_count": null,
   "metadata": {},
   "outputs": [],
   "source": [
    "len(cosine_centroid_list)"
   ]
  },
  {
   "cell_type": "code",
   "execution_count": null,
   "metadata": {},
   "outputs": [],
   "source": [
    "temp_distance = pairwise_distances(X,cosine_centroid_list, metric='cosine')"
   ]
  },
  {
   "cell_type": "code",
   "execution_count": null,
   "metadata": {},
   "outputs": [],
   "source": [
    "sum(temp_distance[3])"
   ]
  },
  {
   "cell_type": "code",
   "execution_count": null,
   "metadata": {},
   "outputs": [],
   "source": [
    "import scipy.spatial.distance as dist"
   ]
  },
  {
   "cell_type": "code",
   "execution_count": null,
   "metadata": {},
   "outputs": [],
   "source": [
    "dist.cosine(X[0],cosine_centroid_list[0])"
   ]
  },
  {
   "cell_type": "code",
   "execution_count": null,
   "metadata": {},
   "outputs": [],
   "source": [
    "dist.euclidean(X[0],cosine_centroid_list[0])"
   ]
  },
  {
   "cell_type": "code",
   "execution_count": null,
   "metadata": {},
   "outputs": [],
   "source": [
    "temp_cluster_result['distance'] = temp_cluster_result.apply(lambda x : dist.cosine(x.raw_data,x.centroid),axis=1)"
   ]
  },
  {
   "cell_type": "code",
   "execution_count": null,
   "metadata": {},
   "outputs": [],
   "source": [
    "temp_cluster_result['tfidf'] = tf_idf_value\n",
    "temp_cluster_result['score'] = temp_cluster_result.apply(lambda x : x.distance + (1- x.tfidf),axis=1)\n",
    "#temp_cluster_result"
   ]
  },
  {
   "cell_type": "code",
   "execution_count": null,
   "metadata": {},
   "outputs": [],
   "source": [
    "temp_cluster_result[temp_cluster_result['cluster']==0].sort_values(by=['score']).head(20)  # 사회적 이슈"
   ]
  },
  {
   "cell_type": "code",
   "execution_count": null,
   "metadata": {},
   "outputs": [],
   "source": [
    "temp_cluster_result[temp_cluster_result['cluster']==1].sort_values(by=['score']).head(30)  # 부정적 "
   ]
  },
  {
   "cell_type": "code",
   "execution_count": null,
   "metadata": {},
   "outputs": [],
   "source": [
    "temp_cluster_result[temp_cluster_result['cluster']==2].sort_values(by=['score']).head(20)   # 기타"
   ]
  },
  {
   "cell_type": "code",
   "execution_count": null,
   "metadata": {},
   "outputs": [],
   "source": [
    "temp_cluster_result[temp_cluster_result['cluster']==3].sort_values(by=['score']).head(20)  # 가격, 거래소, 돈"
   ]
  },
  {
   "cell_type": "code",
   "execution_count": null,
   "metadata": {},
   "outputs": [],
   "source": [
    "y_km = temp_cluster_result['cluster'].values"
   ]
  },
  {
   "cell_type": "code",
   "execution_count": null,
   "metadata": {},
   "outputs": [],
   "source": [
    "import matplotlib\n",
    "import matplotlib.pyplot as plt\n",
    "from matplotlib import style"
   ]
  },
  {
   "cell_type": "code",
   "execution_count": null,
   "metadata": {},
   "outputs": [],
   "source": [
    "plt.scatter(X[y_km==0,0],X[y_km==0,1],c='lightgreen',marker='s',s=10 , label='cluster1')\n",
    "plt.scatter(X[y_km==1,0],X[y_km==1,1],c='orange',marker='o',s=10 , label='cluster2')\n",
    "plt.scatter(X[y_km==2,0],X[y_km==2,1],c='lightblue',marker='v',s=10 , label='cluster3')\n",
    "plt.scatter(X[y_km==3,0],X[y_km==3,1],c='yellow',marker='v',s=10 , label='cluster4')\n",
    "#plt.scatter(X[y_km==4,0],X[y_km==4,1],c='red',marker='v',s=10 , label='cluster5')\n",
    "#plt.scatter(kmeans.cluster_centers_[:,0],kmeans.cluster_centers_[:,1],c='red',marker='*',s=30 , label='center cluster')\n",
    "\n",
    "plt.legend()\n",
    "plt.grid(True)\n",
    "plt.show()"
   ]
  },
  {
   "cell_type": "code",
   "execution_count": 57,
   "metadata": {},
   "outputs": [
    {
     "data": {
      "text/plain": [
       "42"
      ]
     },
     "execution_count": 57,
     "metadata": {},
     "output_type": "execute_result"
    }
   ],
   "source": [
    "len(temp_cluster_result[temp_cluster_result['cluster']==0]) # 이슈"
   ]
  },
  {
   "cell_type": "code",
   "execution_count": 58,
   "metadata": {},
   "outputs": [
    {
     "data": {
      "text/plain": [
       "1083"
      ]
     },
     "execution_count": 58,
     "metadata": {},
     "output_type": "execute_result"
    }
   ],
   "source": [
    "len(temp_cluster_result[temp_cluster_result['cluster']==1]) # 부정단어"
   ]
  },
  {
   "cell_type": "code",
   "execution_count": 59,
   "metadata": {},
   "outputs": [
    {
     "data": {
      "text/plain": [
       "244"
      ]
     },
     "execution_count": 59,
     "metadata": {},
     "output_type": "execute_result"
    }
   ],
   "source": [
    "len(temp_cluster_result[temp_cluster_result['cluster']==2]) # 기타"
   ]
  },
  {
   "cell_type": "code",
   "execution_count": 60,
   "metadata": {},
   "outputs": [
    {
     "data": {
      "text/plain": [
       "8561"
      ]
     },
     "execution_count": 60,
     "metadata": {},
     "output_type": "execute_result"
    }
   ],
   "source": [
    "len(temp_cluster_result[temp_cluster_result['cluster']==3]) # 가격,거래소,암호화폐"
   ]
  },
  {
   "cell_type": "code",
   "execution_count": 61,
   "metadata": {},
   "outputs": [
    {
     "data": {
      "text/plain": [
       "KMeans(algorithm='auto', copy_x=True, init='k-means++', max_iter=300,\n",
       "       n_clusters=4, n_init=10, n_jobs=None, precompute_distances='auto',\n",
       "       random_state=None, tol=0.0001, verbose=0)"
      ]
     },
     "execution_count": 61,
     "metadata": {},
     "output_type": "execute_result"
    }
   ],
   "source": [
    "from sklearn import cluster\n",
    "from sklearn import metrics\n",
    "kmeans = cluster.KMeans(n_clusters=NUM_CLUSTERS)\n",
    "kmeans.fit(X)"
   ]
  },
  {
   "cell_type": "code",
   "execution_count": 62,
   "metadata": {},
   "outputs": [],
   "source": [
    "labels = kmeans.labels_\n",
    "centroids = kmeans.cluster_centers_"
   ]
  },
  {
   "cell_type": "code",
   "execution_count": 63,
   "metadata": {},
   "outputs": [
    {
     "data": {
      "text/plain": [
       "621.0889411754197"
      ]
     },
     "execution_count": 63,
     "metadata": {},
     "output_type": "execute_result"
    }
   ],
   "source": [
    "kmeans.inertia_"
   ]
  },
  {
   "cell_type": "code",
   "execution_count": 64,
   "metadata": {},
   "outputs": [
    {
     "name": "stdout",
     "output_type": "stream",
     "text": [
      "Cluster id labels for inputted data\n",
      "[3 3 3 ... 0 0 0]\n"
     ]
    }
   ],
   "source": [
    "print (\"Cluster id labels for inputted data\")\n",
    "print (labels)"
   ]
  },
  {
   "cell_type": "code",
   "execution_count": 65,
   "metadata": {},
   "outputs": [],
   "source": [
    "cluster_values= list(model.wv.vocab)"
   ]
  },
  {
   "cell_type": "code",
   "execution_count": 66,
   "metadata": {
    "scrolled": true
   },
   "outputs": [
    {
     "name": "stdout",
     "output_type": "stream",
     "text": [
      "Score (Opposite of the value of X on the K-means objective which is Sum of distances of samples to their closest cluster center):\n",
      "-621.0889\n"
     ]
    }
   ],
   "source": [
    "print (\"Score (Opposite of the value of X on the K-means objective which is Sum of distances of samples to their closest cluster center):\")\n",
    "print (kmeans.score(X))"
   ]
  },
  {
   "cell_type": "code",
   "execution_count": 67,
   "metadata": {},
   "outputs": [],
   "source": [
    "silhouette_score = metrics.silhouette_score(X, labels, metric='euclidean')"
   ]
  },
  {
   "cell_type": "code",
   "execution_count": 68,
   "metadata": {},
   "outputs": [
    {
     "name": "stdout",
     "output_type": "stream",
     "text": [
      "Silhouette_score: \n",
      "0.74534273\n"
     ]
    }
   ],
   "source": [
    "print (\"Silhouette_score: \")\n",
    "print (silhouette_score)"
   ]
  },
  {
   "cell_type": "code",
   "execution_count": 69,
   "metadata": {},
   "outputs": [
    {
     "data": {
      "image/png": "[encoded data removed]",
      "text/plain": [
       "<Figure size 432x288 with 1 Axes>"
      ]
     },
     "metadata": {
      "needs_background": "light"
     },
     "output_type": "display_data"
    }
   ],
   "source": [
    "kmeans_label = kmeans.labels_\n",
    "\n",
    "plt.scatter(X[kmeans_label==0,0],X[kmeans_label==0,1],c='lightgreen',marker='s',s=10 , label='cluster1')\n",
    "plt.scatter(X[kmeans_label==1,0],X[kmeans_label==1,1],c='orange',marker='o',s=10 , label='cluster2')\n",
    "plt.scatter(X[kmeans_label==2,0],X[kmeans_label==2,1],c='lightblue',marker='v',s=10 , label='cluster3')\n",
    "plt.scatter(X[kmeans_label==3,0],X[kmeans_label==3,1],c='yellow',marker='v',s=10 , label='cluster4')\n",
    "#plt.scatter(X[kmeans_label==4,0],X[kmeans_label==4,1],c='red',marker='v',s=10 , label='cluster5')\n",
    "\n",
    "plt.legend()\n",
    "plt.grid(True)\n",
    "plt.show()"
   ]
  },
  {
   "cell_type": "code",
   "execution_count": 70,
   "metadata": {},
   "outputs": [],
   "source": [
    "temp_cluster_result1 = pd.DataFrame(columns=temp_heder)\n",
    "temp_cluster_result1['word'] = list(model.wv.vocab)\n",
    "temp_cluster_result1['cluster'] = kmeans_label"
   ]
  },
  {
   "cell_type": "code",
   "execution_count": 71,
   "metadata": {},
   "outputs": [],
   "source": [
    "#temp_cluster_result1[temp_cluster_result1['cluster']==0].head(30) #시도 및 혼돈  # 혼란 부정적 \n",
    "temp_cluster_result1['raw_data'] = X.tolist()"
   ]
  },
  {
   "cell_type": "code",
   "execution_count": 72,
   "metadata": {},
   "outputs": [],
   "source": [
    "temp_cluster_result1['centroid'] = temp_cluster_result1['cluster'].apply(lambda x : centroids[x])"
   ]
  },
  {
   "cell_type": "code",
   "execution_count": 73,
   "metadata": {},
   "outputs": [],
   "source": [
    "euclidean_centroid_list = []\n",
    "for euclidean_centroid in temp_cluster_result1['centroid'] :\n",
    "    euclidean_centroid_list.append(euclidean_centroid.tolist())"
   ]
  },
  {
   "cell_type": "code",
   "execution_count": 74,
   "metadata": {},
   "outputs": [],
   "source": [
    "temp_distance1 = pairwise_distances(X,euclidean_centroid_list, metric='euclidean')"
   ]
  },
  {
   "cell_type": "code",
   "execution_count": 75,
   "metadata": {},
   "outputs": [],
   "source": [
    "import scipy.spatial.distance as dist"
   ]
  },
  {
   "cell_type": "code",
   "execution_count": 76,
   "metadata": {},
   "outputs": [],
   "source": [
    "temp_cluster_result1['distance'] = temp_cluster_result1.apply(lambda x : dist.euclidean(x.raw_data,x.centroid),axis=1)"
   ]
  },
  {
   "cell_type": "code",
   "execution_count": 77,
   "metadata": {
    "scrolled": true
   },
   "outputs": [],
   "source": [
    "temp_cluster_result1['tfidf'] = tf_idf_value\n",
    "temp_cluster_result1['score'] = temp_cluster_result1.apply(lambda x : x.distance + (1- x.tfidf),axis=1)\n",
    "#temp_cluster_result1"
   ]
  },
  {
   "cell_type": "code",
   "execution_count": 78,
   "metadata": {},
   "outputs": [
    {
     "data": {
      "text/html": [
       "<div>\n",
       "<style scoped>\n",
       "    .dataframe tbody tr th:only-of-type {\n",
       "        vertical-align: middle;\n",
       "    }\n",
       "\n",
       "    .dataframe tbody tr th {\n",
       "        vertical-align: top;\n",
       "    }\n",
       "\n",
       "    .dataframe thead th {\n",
       "        text-align: right;\n",
       "    }\n",
       "</style>\n",
       "<table border=\"1\" class=\"dataframe\">\n",
       "  <thead>\n",
       "    <tr style=\"text-align: right;\">\n",
       "      <th></th>\n",
       "      <th>raw_data</th>\n",
       "      <th>word</th>\n",
       "      <th>cluster</th>\n",
       "      <th>centroid</th>\n",
       "      <th>distance</th>\n",
       "      <th>tfidf</th>\n",
       "      <th>score</th>\n",
       "      <th>closer#</th>\n",
       "    </tr>\n",
       "  </thead>\n",
       "  <tbody>\n",
       "    <tr>\n",
       "      <td>4139</td>\n",
       "      <td>[0.014564828015863895, 0.0063640219159424305, ...</td>\n",
       "      <td>pocket</td>\n",
       "      <td>0</td>\n",
       "      <td>[0.012378819, 0.0053802524, -0.004520422, 0.01...</td>\n",
       "      <td>0.024095</td>\n",
       "      <td>0.000485</td>\n",
       "      <td>1.023610</td>\n",
       "      <td>NaN</td>\n",
       "    </tr>\n",
       "    <tr>\n",
       "      <td>9329</td>\n",
       "      <td>[0.012272313237190247, 0.003927374724298716, -...</td>\n",
       "      <td>jenhsun</td>\n",
       "      <td>0</td>\n",
       "      <td>[0.012378819, 0.0053802524, -0.004520422, 0.01...</td>\n",
       "      <td>0.024731</td>\n",
       "      <td>0.000243</td>\n",
       "      <td>1.024488</td>\n",
       "      <td>NaN</td>\n",
       "    </tr>\n",
       "    <tr>\n",
       "      <td>5542</td>\n",
       "      <td>[0.013455528765916824, 0.004338350612670183, -...</td>\n",
       "      <td>versa</td>\n",
       "      <td>0</td>\n",
       "      <td>[0.012378819, 0.0053802524, -0.004520422, 0.01...</td>\n",
       "      <td>0.026340</td>\n",
       "      <td>0.000970</td>\n",
       "      <td>1.025370</td>\n",
       "      <td>NaN</td>\n",
       "    </tr>\n",
       "    <tr>\n",
       "      <td>4911</td>\n",
       "      <td>[0.011927571147680283, 0.005111339967697859, -...</td>\n",
       "      <td>lifetime</td>\n",
       "      <td>0</td>\n",
       "      <td>[0.012378819, 0.0053802524, -0.004520422, 0.01...</td>\n",
       "      <td>0.026517</td>\n",
       "      <td>0.000970</td>\n",
       "      <td>1.025546</td>\n",
       "      <td>NaN</td>\n",
       "    </tr>\n",
       "    <tr>\n",
       "      <td>5487</td>\n",
       "      <td>[0.014847766607999802, 0.0020892382599413395, ...</td>\n",
       "      <td>advisory</td>\n",
       "      <td>0</td>\n",
       "      <td>[0.012378819, 0.0053802524, -0.004520422, 0.01...</td>\n",
       "      <td>0.026298</td>\n",
       "      <td>0.000728</td>\n",
       "      <td>1.025570</td>\n",
       "      <td>NaN</td>\n",
       "    </tr>\n",
       "    <tr>\n",
       "      <td>9794</td>\n",
       "      <td>[0.008066031150519848, 0.008815023116767406, -...</td>\n",
       "      <td>deodato</td>\n",
       "      <td>0</td>\n",
       "      <td>[0.012378819, 0.0053802524, -0.004520422, 0.01...</td>\n",
       "      <td>0.025968</td>\n",
       "      <td>0.000243</td>\n",
       "      <td>1.025725</td>\n",
       "      <td>NaN</td>\n",
       "    </tr>\n",
       "    <tr>\n",
       "      <td>8113</td>\n",
       "      <td>[0.008397528901696205, 0.005047919228672981, -...</td>\n",
       "      <td>preview</td>\n",
       "      <td>0</td>\n",
       "      <td>[0.012378819, 0.0053802524, -0.004520422, 0.01...</td>\n",
       "      <td>0.026309</td>\n",
       "      <td>0.000485</td>\n",
       "      <td>1.025824</td>\n",
       "      <td>NaN</td>\n",
       "    </tr>\n",
       "    <tr>\n",
       "      <td>7814</td>\n",
       "      <td>[0.013695663772523403, 0.00925070233643055, -0...</td>\n",
       "      <td>joshua</td>\n",
       "      <td>0</td>\n",
       "      <td>[0.012378819, 0.0053802524, -0.004520422, 0.01...</td>\n",
       "      <td>0.026486</td>\n",
       "      <td>0.000485</td>\n",
       "      <td>1.026001</td>\n",
       "      <td>NaN</td>\n",
       "    </tr>\n",
       "    <tr>\n",
       "      <td>7066</td>\n",
       "      <td>[0.01013206783682108, 0.002058338141068816, -0...</td>\n",
       "      <td>lessen</td>\n",
       "      <td>0</td>\n",
       "      <td>[0.012378819, 0.0053802524, -0.004520422, 0.01...</td>\n",
       "      <td>0.026567</td>\n",
       "      <td>0.000485</td>\n",
       "      <td>1.026082</td>\n",
       "      <td>NaN</td>\n",
       "    </tr>\n",
       "    <tr>\n",
       "      <td>4239</td>\n",
       "      <td>[0.008293925784528255, 0.010030089877545834, -...</td>\n",
       "      <td>clavier</td>\n",
       "      <td>0</td>\n",
       "      <td>[0.012378819, 0.0053802524, -0.004520422, 0.01...</td>\n",
       "      <td>0.026375</td>\n",
       "      <td>0.000243</td>\n",
       "      <td>1.026133</td>\n",
       "      <td>NaN</td>\n",
       "    </tr>\n",
       "    <tr>\n",
       "      <td>9320</td>\n",
       "      <td>[0.014786997810006142, 0.003283261088654399, -...</td>\n",
       "      <td>estonia</td>\n",
       "      <td>0</td>\n",
       "      <td>[0.012378819, 0.0053802524, -0.004520422, 0.01...</td>\n",
       "      <td>0.026485</td>\n",
       "      <td>0.000243</td>\n",
       "      <td>1.026243</td>\n",
       "      <td>NaN</td>\n",
       "    </tr>\n",
       "    <tr>\n",
       "      <td>6252</td>\n",
       "      <td>[0.009107834659516811, 0.001253969268873334, -...</td>\n",
       "      <td>ridyard</td>\n",
       "      <td>0</td>\n",
       "      <td>[0.012378819, 0.0053802524, -0.004520422, 0.01...</td>\n",
       "      <td>0.026789</td>\n",
       "      <td>0.000485</td>\n",
       "      <td>1.026304</td>\n",
       "      <td>NaN</td>\n",
       "    </tr>\n",
       "    <tr>\n",
       "      <td>8408</td>\n",
       "      <td>[0.010202107951045036, 0.0033587515354156494, ...</td>\n",
       "      <td>comingetf</td>\n",
       "      <td>0</td>\n",
       "      <td>[0.012378819, 0.0053802524, -0.004520422, 0.01...</td>\n",
       "      <td>0.026556</td>\n",
       "      <td>0.000243</td>\n",
       "      <td>1.026313</td>\n",
       "      <td>NaN</td>\n",
       "    </tr>\n",
       "    <tr>\n",
       "      <td>9915</td>\n",
       "      <td>[0.014165864326059818, 0.004445638041943312, -...</td>\n",
       "      <td>facsimile</td>\n",
       "      <td>0</td>\n",
       "      <td>[0.012378819, 0.0053802524, -0.004520422, 0.01...</td>\n",
       "      <td>0.026866</td>\n",
       "      <td>0.000485</td>\n",
       "      <td>1.026381</td>\n",
       "      <td>NaN</td>\n",
       "    </tr>\n",
       "    <tr>\n",
       "      <td>9637</td>\n",
       "      <td>[0.00838836096227169, 0.002515798434615135, -0...</td>\n",
       "      <td>longform</td>\n",
       "      <td>0</td>\n",
       "      <td>[0.012378819, 0.0053802524, -0.004520422, 0.01...</td>\n",
       "      <td>0.026889</td>\n",
       "      <td>0.000485</td>\n",
       "      <td>1.026403</td>\n",
       "      <td>NaN</td>\n",
       "    </tr>\n",
       "    <tr>\n",
       "      <td>1548</td>\n",
       "      <td>[0.01060960441827774, 0.006720918696373701, -0...</td>\n",
       "      <td>wrap</td>\n",
       "      <td>0</td>\n",
       "      <td>[0.012378819, 0.0053802524, -0.004520422, 0.01...</td>\n",
       "      <td>0.027160</td>\n",
       "      <td>0.000728</td>\n",
       "      <td>1.026433</td>\n",
       "      <td>NaN</td>\n",
       "    </tr>\n",
       "    <tr>\n",
       "      <td>3442</td>\n",
       "      <td>[0.017059434205293655, 0.008125386200845242, -...</td>\n",
       "      <td>harald</td>\n",
       "      <td>0</td>\n",
       "      <td>[0.012378819, 0.0053802524, -0.004520422, 0.01...</td>\n",
       "      <td>0.026954</td>\n",
       "      <td>0.000485</td>\n",
       "      <td>1.026469</td>\n",
       "      <td>NaN</td>\n",
       "    </tr>\n",
       "    <tr>\n",
       "      <td>7385</td>\n",
       "      <td>[0.010937622748315334, 0.0032742510084062815, ...</td>\n",
       "      <td>julian</td>\n",
       "      <td>0</td>\n",
       "      <td>[0.012378819, 0.0053802524, -0.004520422, 0.01...</td>\n",
       "      <td>0.027028</td>\n",
       "      <td>0.000485</td>\n",
       "      <td>1.026543</td>\n",
       "      <td>NaN</td>\n",
       "    </tr>\n",
       "    <tr>\n",
       "      <td>2936</td>\n",
       "      <td>[0.01000826433300972, 0.0047585261054337025, -...</td>\n",
       "      <td>croatia</td>\n",
       "      <td>0</td>\n",
       "      <td>[0.012378819, 0.0053802524, -0.004520422, 0.01...</td>\n",
       "      <td>0.026824</td>\n",
       "      <td>0.000243</td>\n",
       "      <td>1.026581</td>\n",
       "      <td>NaN</td>\n",
       "    </tr>\n",
       "    <tr>\n",
       "      <td>6605</td>\n",
       "      <td>[0.011185425333678722, 0.004096447490155697, -...</td>\n",
       "      <td>silent</td>\n",
       "      <td>0</td>\n",
       "      <td>[0.012378819, 0.0053802524, -0.004520422, 0.01...</td>\n",
       "      <td>0.026866</td>\n",
       "      <td>0.000243</td>\n",
       "      <td>1.026623</td>\n",
       "      <td>NaN</td>\n",
       "    </tr>\n",
       "    <tr>\n",
       "      <td>2939</td>\n",
       "      <td>[0.00844169594347477, 0.004690021276473999, -0...</td>\n",
       "      <td>iceland</td>\n",
       "      <td>0</td>\n",
       "      <td>[0.012378819, 0.0053802524, -0.004520422, 0.01...</td>\n",
       "      <td>0.026869</td>\n",
       "      <td>0.000243</td>\n",
       "      <td>1.026626</td>\n",
       "      <td>NaN</td>\n",
       "    </tr>\n",
       "    <tr>\n",
       "      <td>200</td>\n",
       "      <td>[0.016308439895510674, 0.0007499279454350471, ...</td>\n",
       "      <td>dismal</td>\n",
       "      <td>0</td>\n",
       "      <td>[0.012378819, 0.0053802524, -0.004520422, 0.01...</td>\n",
       "      <td>0.027144</td>\n",
       "      <td>0.000485</td>\n",
       "      <td>1.026659</td>\n",
       "      <td>NaN</td>\n",
       "    </tr>\n",
       "    <tr>\n",
       "      <td>1769</td>\n",
       "      <td>[0.013509156182408333, 0.005370423197746277, -...</td>\n",
       "      <td>squeeze</td>\n",
       "      <td>0</td>\n",
       "      <td>[0.012378819, 0.0053802524, -0.004520422, 0.01...</td>\n",
       "      <td>0.027427</td>\n",
       "      <td>0.000728</td>\n",
       "      <td>1.026699</td>\n",
       "      <td>NaN</td>\n",
       "    </tr>\n",
       "    <tr>\n",
       "      <td>9429</td>\n",
       "      <td>[0.008769967593252659, 0.006471009459346533, -...</td>\n",
       "      <td>horrendous</td>\n",
       "      <td>0</td>\n",
       "      <td>[0.012378819, 0.0053802524, -0.004520422, 0.01...</td>\n",
       "      <td>0.027199</td>\n",
       "      <td>0.000485</td>\n",
       "      <td>1.026714</td>\n",
       "      <td>NaN</td>\n",
       "    </tr>\n",
       "    <tr>\n",
       "      <td>2027</td>\n",
       "      <td>[0.014630655758082867, 0.007697880733758211, -...</td>\n",
       "      <td>dwarf</td>\n",
       "      <td>0</td>\n",
       "      <td>[0.012378819, 0.0053802524, -0.004520422, 0.01...</td>\n",
       "      <td>0.027214</td>\n",
       "      <td>0.000485</td>\n",
       "      <td>1.026729</td>\n",
       "      <td>NaN</td>\n",
       "    </tr>\n",
       "    <tr>\n",
       "      <td>4128</td>\n",
       "      <td>[0.016404828056693077, 0.004402958322316408, -...</td>\n",
       "      <td>multilevel</td>\n",
       "      <td>0</td>\n",
       "      <td>[0.012378819, 0.0053802524, -0.004520422, 0.01...</td>\n",
       "      <td>0.027329</td>\n",
       "      <td>0.000485</td>\n",
       "      <td>1.026844</td>\n",
       "      <td>NaN</td>\n",
       "    </tr>\n",
       "    <tr>\n",
       "      <td>4277</td>\n",
       "      <td>[0.011532486416399479, 0.005351949483156204, -...</td>\n",
       "      <td>assetbacked</td>\n",
       "      <td>0</td>\n",
       "      <td>[0.012378819, 0.0053802524, -0.004520422, 0.01...</td>\n",
       "      <td>0.027334</td>\n",
       "      <td>0.000485</td>\n",
       "      <td>1.026849</td>\n",
       "      <td>NaN</td>\n",
       "    </tr>\n",
       "    <tr>\n",
       "      <td>9283</td>\n",
       "      <td>[0.010212971828877926, 0.0013874939177185297, ...</td>\n",
       "      <td>refine</td>\n",
       "      <td>0</td>\n",
       "      <td>[0.012378819, 0.0053802524, -0.004520422, 0.01...</td>\n",
       "      <td>0.027112</td>\n",
       "      <td>0.000243</td>\n",
       "      <td>1.026869</td>\n",
       "      <td>NaN</td>\n",
       "    </tr>\n",
       "    <tr>\n",
       "      <td>5675</td>\n",
       "      <td>[0.011928664520382881, 0.009233123622834682, -...</td>\n",
       "      <td>quip</td>\n",
       "      <td>0</td>\n",
       "      <td>[0.012378819, 0.0053802524, -0.004520422, 0.01...</td>\n",
       "      <td>0.027382</td>\n",
       "      <td>0.000485</td>\n",
       "      <td>1.026897</td>\n",
       "      <td>NaN</td>\n",
       "    </tr>\n",
       "    <tr>\n",
       "      <td>3080</td>\n",
       "      <td>[0.010687131434679031, 0.008682302199304104, -...</td>\n",
       "      <td>trialed</td>\n",
       "      <td>0</td>\n",
       "      <td>[0.012378819, 0.0053802524, -0.004520422, 0.01...</td>\n",
       "      <td>0.027415</td>\n",
       "      <td>0.000485</td>\n",
       "      <td>1.026930</td>\n",
       "      <td>NaN</td>\n",
       "    </tr>\n",
       "  </tbody>\n",
       "</table>\n",
       "</div>"
      ],
      "text/plain": [
       "                                               raw_data         word  cluster  \\\n",
       "4139  [0.014564828015863895, 0.0063640219159424305, ...       pocket        0   \n",
       "9329  [0.012272313237190247, 0.003927374724298716, -...      jenhsun        0   \n",
       "5542  [0.013455528765916824, 0.004338350612670183, -...        versa        0   \n",
       "4911  [0.011927571147680283, 0.005111339967697859, -...     lifetime        0   \n",
       "5487  [0.014847766607999802, 0.0020892382599413395, ...     advisory        0   \n",
       "9794  [0.008066031150519848, 0.008815023116767406, -...      deodato        0   \n",
       "8113  [0.008397528901696205, 0.005047919228672981, -...      preview        0   \n",
       "7814  [0.013695663772523403, 0.00925070233643055, -0...       joshua        0   \n",
       "7066  [0.01013206783682108, 0.002058338141068816, -0...       lessen        0   \n",
       "4239  [0.008293925784528255, 0.010030089877545834, -...      clavier        0   \n",
       "9320  [0.014786997810006142, 0.003283261088654399, -...      estonia        0   \n",
       "6252  [0.009107834659516811, 0.001253969268873334, -...      ridyard        0   \n",
       "8408  [0.010202107951045036, 0.0033587515354156494, ...    comingetf        0   \n",
       "9915  [0.014165864326059818, 0.004445638041943312, -...    facsimile        0   \n",
       "9637  [0.00838836096227169, 0.002515798434615135, -0...     longform        0   \n",
       "1548  [0.01060960441827774, 0.006720918696373701, -0...         wrap        0   \n",
       "3442  [0.017059434205293655, 0.008125386200845242, -...       harald        0   \n",
       "7385  [0.010937622748315334, 0.0032742510084062815, ...       julian        0   \n",
       "2936  [0.01000826433300972, 0.0047585261054337025, -...      croatia        0   \n",
       "6605  [0.011185425333678722, 0.004096447490155697, -...       silent        0   \n",
       "2939  [0.00844169594347477, 0.004690021276473999, -0...      iceland        0   \n",
       "200   [0.016308439895510674, 0.0007499279454350471, ...       dismal        0   \n",
       "1769  [0.013509156182408333, 0.005370423197746277, -...      squeeze        0   \n",
       "9429  [0.008769967593252659, 0.006471009459346533, -...   horrendous        0   \n",
       "2027  [0.014630655758082867, 0.007697880733758211, -...        dwarf        0   \n",
       "4128  [0.016404828056693077, 0.004402958322316408, -...   multilevel        0   \n",
       "4277  [0.011532486416399479, 0.005351949483156204, -...  assetbacked        0   \n",
       "9283  [0.010212971828877926, 0.0013874939177185297, ...       refine        0   \n",
       "5675  [0.011928664520382881, 0.009233123622834682, -...         quip        0   \n",
       "3080  [0.010687131434679031, 0.008682302199304104, -...      trialed        0   \n",
       "\n",
       "                                               centroid  distance     tfidf  \\\n",
       "4139  [0.012378819, 0.0053802524, -0.004520422, 0.01...  0.024095  0.000485   \n",
       "9329  [0.012378819, 0.0053802524, -0.004520422, 0.01...  0.024731  0.000243   \n",
       "5542  [0.012378819, 0.0053802524, -0.004520422, 0.01...  0.026340  0.000970   \n",
       "4911  [0.012378819, 0.0053802524, -0.004520422, 0.01...  0.026517  0.000970   \n",
       "5487  [0.012378819, 0.0053802524, -0.004520422, 0.01...  0.026298  0.000728   \n",
       "9794  [0.012378819, 0.0053802524, -0.004520422, 0.01...  0.025968  0.000243   \n",
       "8113  [0.012378819, 0.0053802524, -0.004520422, 0.01...  0.026309  0.000485   \n",
       "7814  [0.012378819, 0.0053802524, -0.004520422, 0.01...  0.026486  0.000485   \n",
       "7066  [0.012378819, 0.0053802524, -0.004520422, 0.01...  0.026567  0.000485   \n",
       "4239  [0.012378819, 0.0053802524, -0.004520422, 0.01...  0.026375  0.000243   \n",
       "9320  [0.012378819, 0.0053802524, -0.004520422, 0.01...  0.026485  0.000243   \n",
       "6252  [0.012378819, 0.0053802524, -0.004520422, 0.01...  0.026789  0.000485   \n",
       "8408  [0.012378819, 0.0053802524, -0.004520422, 0.01...  0.026556  0.000243   \n",
       "9915  [0.012378819, 0.0053802524, -0.004520422, 0.01...  0.026866  0.000485   \n",
       "9637  [0.012378819, 0.0053802524, -0.004520422, 0.01...  0.026889  0.000485   \n",
       "1548  [0.012378819, 0.0053802524, -0.004520422, 0.01...  0.027160  0.000728   \n",
       "3442  [0.012378819, 0.0053802524, -0.004520422, 0.01...  0.026954  0.000485   \n",
       "7385  [0.012378819, 0.0053802524, -0.004520422, 0.01...  0.027028  0.000485   \n",
       "2936  [0.012378819, 0.0053802524, -0.004520422, 0.01...  0.026824  0.000243   \n",
       "6605  [0.012378819, 0.0053802524, -0.004520422, 0.01...  0.026866  0.000243   \n",
       "2939  [0.012378819, 0.0053802524, -0.004520422, 0.01...  0.026869  0.000243   \n",
       "200   [0.012378819, 0.0053802524, -0.004520422, 0.01...  0.027144  0.000485   \n",
       "1769  [0.012378819, 0.0053802524, -0.004520422, 0.01...  0.027427  0.000728   \n",
       "9429  [0.012378819, 0.0053802524, -0.004520422, 0.01...  0.027199  0.000485   \n",
       "2027  [0.012378819, 0.0053802524, -0.004520422, 0.01...  0.027214  0.000485   \n",
       "4128  [0.012378819, 0.0053802524, -0.004520422, 0.01...  0.027329  0.000485   \n",
       "4277  [0.012378819, 0.0053802524, -0.004520422, 0.01...  0.027334  0.000485   \n",
       "9283  [0.012378819, 0.0053802524, -0.004520422, 0.01...  0.027112  0.000243   \n",
       "5675  [0.012378819, 0.0053802524, -0.004520422, 0.01...  0.027382  0.000485   \n",
       "3080  [0.012378819, 0.0053802524, -0.004520422, 0.01...  0.027415  0.000485   \n",
       "\n",
       "         score closer#  \n",
       "4139  1.023610     NaN  \n",
       "9329  1.024488     NaN  \n",
       "5542  1.025370     NaN  \n",
       "4911  1.025546     NaN  \n",
       "5487  1.025570     NaN  \n",
       "9794  1.025725     NaN  \n",
       "8113  1.025824     NaN  \n",
       "7814  1.026001     NaN  \n",
       "7066  1.026082     NaN  \n",
       "4239  1.026133     NaN  \n",
       "9320  1.026243     NaN  \n",
       "6252  1.026304     NaN  \n",
       "8408  1.026313     NaN  \n",
       "9915  1.026381     NaN  \n",
       "9637  1.026403     NaN  \n",
       "1548  1.026433     NaN  \n",
       "3442  1.026469     NaN  \n",
       "7385  1.026543     NaN  \n",
       "2936  1.026581     NaN  \n",
       "6605  1.026623     NaN  \n",
       "2939  1.026626     NaN  \n",
       "200   1.026659     NaN  \n",
       "1769  1.026699     NaN  \n",
       "9429  1.026714     NaN  \n",
       "2027  1.026729     NaN  \n",
       "4128  1.026844     NaN  \n",
       "4277  1.026849     NaN  \n",
       "9283  1.026869     NaN  \n",
       "5675  1.026897     NaN  \n",
       "3080  1.026930     NaN  "
      ]
     },
     "execution_count": 78,
     "metadata": {},
     "output_type": "execute_result"
    }
   ],
   "source": [
    "temp_cluster_result1[temp_cluster_result1['cluster']==0].sort_values('score',ascending=False).nsmallest(30,'score') # Influencer"
   ]
  },
  {
   "cell_type": "code",
   "execution_count": 79,
   "metadata": {},
   "outputs": [
    {
     "data": {
      "text/html": [
       "<div>\n",
       "<style scoped>\n",
       "    .dataframe tbody tr th:only-of-type {\n",
       "        vertical-align: middle;\n",
       "    }\n",
       "\n",
       "    .dataframe tbody tr th {\n",
       "        vertical-align: top;\n",
       "    }\n",
       "\n",
       "    .dataframe thead th {\n",
       "        text-align: right;\n",
       "    }\n",
       "</style>\n",
       "<table border=\"1\" class=\"dataframe\">\n",
       "  <thead>\n",
       "    <tr style=\"text-align: right;\">\n",
       "      <th></th>\n",
       "      <th>raw_data</th>\n",
       "      <th>word</th>\n",
       "      <th>cluster</th>\n",
       "      <th>centroid</th>\n",
       "      <th>distance</th>\n",
       "      <th>tfidf</th>\n",
       "      <th>score</th>\n",
       "      <th>closer#</th>\n",
       "    </tr>\n",
       "  </thead>\n",
       "  <tbody>\n",
       "    <tr>\n",
       "      <td>66</td>\n",
       "      <td>[0.20240381360054016, 0.08432459831237793, -0....</td>\n",
       "      <td>produce</td>\n",
       "      <td>1</td>\n",
       "      <td>[0.20041546, 0.08583302, -0.07173923, 0.247784...</td>\n",
       "      <td>0.029200</td>\n",
       "      <td>0.010188</td>\n",
       "      <td>1.019012</td>\n",
       "      <td>NaN</td>\n",
       "    </tr>\n",
       "    <tr>\n",
       "      <td>134</td>\n",
       "      <td>[0.19954536855220795, 0.08471758663654327, -0....</td>\n",
       "      <td>right</td>\n",
       "      <td>1</td>\n",
       "      <td>[0.20041546, 0.08583302, -0.07173923, 0.247784...</td>\n",
       "      <td>0.031228</td>\n",
       "      <td>0.012129</td>\n",
       "      <td>1.019099</td>\n",
       "      <td>NaN</td>\n",
       "    </tr>\n",
       "    <tr>\n",
       "      <td>138</td>\n",
       "      <td>[0.2007298767566681, 0.0870455875992775, -0.07...</td>\n",
       "      <td>july</td>\n",
       "      <td>1</td>\n",
       "      <td>[0.20041546, 0.08583302, -0.07173923, 0.247784...</td>\n",
       "      <td>0.033429</td>\n",
       "      <td>0.011158</td>\n",
       "      <td>1.022271</td>\n",
       "      <td>NaN</td>\n",
       "    </tr>\n",
       "    <tr>\n",
       "      <td>676</td>\n",
       "      <td>[0.20056596398353577, 0.08626965433359146, -0....</td>\n",
       "      <td>purpose</td>\n",
       "      <td>1</td>\n",
       "      <td>[0.20041546, 0.08583302, -0.07173923, 0.247784...</td>\n",
       "      <td>0.034417</td>\n",
       "      <td>0.010916</td>\n",
       "      <td>1.023501</td>\n",
       "      <td>NaN</td>\n",
       "    </tr>\n",
       "    <tr>\n",
       "      <td>1959</td>\n",
       "      <td>[0.20414851605892181, 0.08356093615293503, -0....</td>\n",
       "      <td>scheme</td>\n",
       "      <td>1</td>\n",
       "      <td>[0.20041546, 0.08583302, -0.07173923, 0.247784...</td>\n",
       "      <td>0.038523</td>\n",
       "      <td>0.009946</td>\n",
       "      <td>1.028578</td>\n",
       "      <td>NaN</td>\n",
       "    </tr>\n",
       "    <tr>\n",
       "      <td>1679</td>\n",
       "      <td>[0.19865559041500092, 0.08236470073461533, -0....</td>\n",
       "      <td>scale</td>\n",
       "      <td>1</td>\n",
       "      <td>[0.20041546, 0.08583302, -0.07173923, 0.247784...</td>\n",
       "      <td>0.041723</td>\n",
       "      <td>0.011158</td>\n",
       "      <td>1.030565</td>\n",
       "      <td>NaN</td>\n",
       "    </tr>\n",
       "    <tr>\n",
       "      <td>1788</td>\n",
       "      <td>[0.1932782679796219, 0.08960367739200592, -0.0...</td>\n",
       "      <td>fast</td>\n",
       "      <td>1</td>\n",
       "      <td>[0.20041546, 0.08583302, -0.07173923, 0.247784...</td>\n",
       "      <td>0.042281</td>\n",
       "      <td>0.011401</td>\n",
       "      <td>1.030880</td>\n",
       "      <td>NaN</td>\n",
       "    </tr>\n",
       "    <tr>\n",
       "      <td>403</td>\n",
       "      <td>[0.19301021099090576, 0.08187882602214813, -0....</td>\n",
       "      <td>code</td>\n",
       "      <td>1</td>\n",
       "      <td>[0.20041546, 0.08583302, -0.07173923, 0.247784...</td>\n",
       "      <td>0.040145</td>\n",
       "      <td>0.008975</td>\n",
       "      <td>1.031170</td>\n",
       "      <td>NaN</td>\n",
       "    </tr>\n",
       "    <tr>\n",
       "      <td>1320</td>\n",
       "      <td>[0.2004600614309311, 0.08487897366285324, -0.0...</td>\n",
       "      <td>hardware</td>\n",
       "      <td>1</td>\n",
       "      <td>[0.20041546, 0.08583302, -0.07173923, 0.247784...</td>\n",
       "      <td>0.043447</td>\n",
       "      <td>0.011158</td>\n",
       "      <td>1.032288</td>\n",
       "      <td>NaN</td>\n",
       "    </tr>\n",
       "    <tr>\n",
       "      <td>2401</td>\n",
       "      <td>[0.20516052842140198, 0.08453556895256042, -0....</td>\n",
       "      <td>warn</td>\n",
       "      <td>1</td>\n",
       "      <td>[0.20041546, 0.08583302, -0.07173923, 0.247784...</td>\n",
       "      <td>0.045169</td>\n",
       "      <td>0.011644</td>\n",
       "      <td>1.033525</td>\n",
       "      <td>NaN</td>\n",
       "    </tr>\n",
       "    <tr>\n",
       "      <td>57</td>\n",
       "      <td>[0.20215286314487457, 0.085167296230793, -0.07...</td>\n",
       "      <td>august</td>\n",
       "      <td>1</td>\n",
       "      <td>[0.20041546, 0.08583302, -0.07173923, 0.247784...</td>\n",
       "      <td>0.048218</td>\n",
       "      <td>0.010916</td>\n",
       "      <td>1.037302</td>\n",
       "      <td>NaN</td>\n",
       "    </tr>\n",
       "    <tr>\n",
       "      <td>986</td>\n",
       "      <td>[0.2046784609556198, 0.09099116176366806, -0.0...</td>\n",
       "      <td>tweet</td>\n",
       "      <td>1</td>\n",
       "      <td>[0.20041546, 0.08583302, -0.07173923, 0.247784...</td>\n",
       "      <td>0.047520</td>\n",
       "      <td>0.009703</td>\n",
       "      <td>1.037817</td>\n",
       "      <td>NaN</td>\n",
       "    </tr>\n",
       "    <tr>\n",
       "      <td>1028</td>\n",
       "      <td>[0.19745394587516785, 0.08339833468198776, -0....</td>\n",
       "      <td>figure</td>\n",
       "      <td>1</td>\n",
       "      <td>[0.20041546, 0.08583302, -0.07173923, 0.247784...</td>\n",
       "      <td>0.050947</td>\n",
       "      <td>0.010916</td>\n",
       "      <td>1.040031</td>\n",
       "      <td>NaN</td>\n",
       "    </tr>\n",
       "    <tr>\n",
       "      <td>1006</td>\n",
       "      <td>[0.19669069349765778, 0.08621805161237717, -0....</td>\n",
       "      <td>singapore</td>\n",
       "      <td>1</td>\n",
       "      <td>[0.20041546, 0.08583302, -0.07173923, 0.247784...</td>\n",
       "      <td>0.053030</td>\n",
       "      <td>0.012614</td>\n",
       "      <td>1.040416</td>\n",
       "      <td>NaN</td>\n",
       "    </tr>\n",
       "    <tr>\n",
       "      <td>559</td>\n",
       "      <td>[0.1993522047996521, 0.08288092166185379, -0.0...</td>\n",
       "      <td>executive</td>\n",
       "      <td>1</td>\n",
       "      <td>[0.20041546, 0.08583302, -0.07173923, 0.247784...</td>\n",
       "      <td>0.051746</td>\n",
       "      <td>0.010916</td>\n",
       "      <td>1.040830</td>\n",
       "      <td>NaN</td>\n",
       "    </tr>\n",
       "    <tr>\n",
       "      <td>815</td>\n",
       "      <td>[0.19238074123859406, 0.08774767816066742, -0....</td>\n",
       "      <td>history</td>\n",
       "      <td>1</td>\n",
       "      <td>[0.20041546, 0.08583302, -0.07173923, 0.247784...</td>\n",
       "      <td>0.052451</td>\n",
       "      <td>0.011401</td>\n",
       "      <td>1.041050</td>\n",
       "      <td>NaN</td>\n",
       "    </tr>\n",
       "    <tr>\n",
       "      <td>1741</td>\n",
       "      <td>[0.19709402322769165, 0.08569113910198212, -0....</td>\n",
       "      <td>generate</td>\n",
       "      <td>1</td>\n",
       "      <td>[0.20041546, 0.08583302, -0.07173923, 0.247784...</td>\n",
       "      <td>0.054054</td>\n",
       "      <td>0.011886</td>\n",
       "      <td>1.042168</td>\n",
       "      <td>NaN</td>\n",
       "    </tr>\n",
       "    <tr>\n",
       "      <td>816</td>\n",
       "      <td>[0.18944914638996124, 0.0871473103761673, -0.0...</td>\n",
       "      <td>emerge</td>\n",
       "      <td>1</td>\n",
       "      <td>[0.20041546, 0.08583302, -0.07173923, 0.247784...</td>\n",
       "      <td>0.054252</td>\n",
       "      <td>0.011401</td>\n",
       "      <td>1.042851</td>\n",
       "      <td>NaN</td>\n",
       "    </tr>\n",
       "    <tr>\n",
       "      <td>55</td>\n",
       "      <td>[0.2048667073249817, 0.08613668382167816, -0.0...</td>\n",
       "      <td>connect</td>\n",
       "      <td>1</td>\n",
       "      <td>[0.20041546, 0.08583302, -0.07173923, 0.247784...</td>\n",
       "      <td>0.056866</td>\n",
       "      <td>0.013584</td>\n",
       "      <td>1.043282</td>\n",
       "      <td>NaN</td>\n",
       "    </tr>\n",
       "    <tr>\n",
       "      <td>587</td>\n",
       "      <td>[0.20198369026184082, 0.08925633132457733, -0....</td>\n",
       "      <td>transfer</td>\n",
       "      <td>1</td>\n",
       "      <td>[0.20041546, 0.08583302, -0.07173923, 0.247784...</td>\n",
       "      <td>0.061012</td>\n",
       "      <td>0.015525</td>\n",
       "      <td>1.045488</td>\n",
       "      <td>NaN</td>\n",
       "    </tr>\n",
       "  </tbody>\n",
       "</table>\n",
       "</div>"
      ],
      "text/plain": [
       "                                               raw_data       word  cluster  \\\n",
       "66    [0.20240381360054016, 0.08432459831237793, -0....    produce        1   \n",
       "134   [0.19954536855220795, 0.08471758663654327, -0....      right        1   \n",
       "138   [0.2007298767566681, 0.0870455875992775, -0.07...       july        1   \n",
       "676   [0.20056596398353577, 0.08626965433359146, -0....    purpose        1   \n",
       "1959  [0.20414851605892181, 0.08356093615293503, -0....     scheme        1   \n",
       "1679  [0.19865559041500092, 0.08236470073461533, -0....      scale        1   \n",
       "1788  [0.1932782679796219, 0.08960367739200592, -0.0...       fast        1   \n",
       "403   [0.19301021099090576, 0.08187882602214813, -0....       code        1   \n",
       "1320  [0.2004600614309311, 0.08487897366285324, -0.0...   hardware        1   \n",
       "2401  [0.20516052842140198, 0.08453556895256042, -0....       warn        1   \n",
       "57    [0.20215286314487457, 0.085167296230793, -0.07...     august        1   \n",
       "986   [0.2046784609556198, 0.09099116176366806, -0.0...      tweet        1   \n",
       "1028  [0.19745394587516785, 0.08339833468198776, -0....     figure        1   \n",
       "1006  [0.19669069349765778, 0.08621805161237717, -0....  singapore        1   \n",
       "559   [0.1993522047996521, 0.08288092166185379, -0.0...  executive        1   \n",
       "815   [0.19238074123859406, 0.08774767816066742, -0....    history        1   \n",
       "1741  [0.19709402322769165, 0.08569113910198212, -0....   generate        1   \n",
       "816   [0.18944914638996124, 0.0871473103761673, -0.0...     emerge        1   \n",
       "55    [0.2048667073249817, 0.08613668382167816, -0.0...    connect        1   \n",
       "587   [0.20198369026184082, 0.08925633132457733, -0....   transfer        1   \n",
       "\n",
       "                                               centroid  distance     tfidf  \\\n",
       "66    [0.20041546, 0.08583302, -0.07173923, 0.247784...  0.029200  0.010188   \n",
       "134   [0.20041546, 0.08583302, -0.07173923, 0.247784...  0.031228  0.012129   \n",
       "138   [0.20041546, 0.08583302, -0.07173923, 0.247784...  0.033429  0.011158   \n",
       "676   [0.20041546, 0.08583302, -0.07173923, 0.247784...  0.034417  0.010916   \n",
       "1959  [0.20041546, 0.08583302, -0.07173923, 0.247784...  0.038523  0.009946   \n",
       "1679  [0.20041546, 0.08583302, -0.07173923, 0.247784...  0.041723  0.011158   \n",
       "1788  [0.20041546, 0.08583302, -0.07173923, 0.247784...  0.042281  0.011401   \n",
       "403   [0.20041546, 0.08583302, -0.07173923, 0.247784...  0.040145  0.008975   \n",
       "1320  [0.20041546, 0.08583302, -0.07173923, 0.247784...  0.043447  0.011158   \n",
       "2401  [0.20041546, 0.08583302, -0.07173923, 0.247784...  0.045169  0.011644   \n",
       "57    [0.20041546, 0.08583302, -0.07173923, 0.247784...  0.048218  0.010916   \n",
       "986   [0.20041546, 0.08583302, -0.07173923, 0.247784...  0.047520  0.009703   \n",
       "1028  [0.20041546, 0.08583302, -0.07173923, 0.247784...  0.050947  0.010916   \n",
       "1006  [0.20041546, 0.08583302, -0.07173923, 0.247784...  0.053030  0.012614   \n",
       "559   [0.20041546, 0.08583302, -0.07173923, 0.247784...  0.051746  0.010916   \n",
       "815   [0.20041546, 0.08583302, -0.07173923, 0.247784...  0.052451  0.011401   \n",
       "1741  [0.20041546, 0.08583302, -0.07173923, 0.247784...  0.054054  0.011886   \n",
       "816   [0.20041546, 0.08583302, -0.07173923, 0.247784...  0.054252  0.011401   \n",
       "55    [0.20041546, 0.08583302, -0.07173923, 0.247784...  0.056866  0.013584   \n",
       "587   [0.20041546, 0.08583302, -0.07173923, 0.247784...  0.061012  0.015525   \n",
       "\n",
       "         score closer#  \n",
       "66    1.019012     NaN  \n",
       "134   1.019099     NaN  \n",
       "138   1.022271     NaN  \n",
       "676   1.023501     NaN  \n",
       "1959  1.028578     NaN  \n",
       "1679  1.030565     NaN  \n",
       "1788  1.030880     NaN  \n",
       "403   1.031170     NaN  \n",
       "1320  1.032288     NaN  \n",
       "2401  1.033525     NaN  \n",
       "57    1.037302     NaN  \n",
       "986   1.037817     NaN  \n",
       "1028  1.040031     NaN  \n",
       "1006  1.040416     NaN  \n",
       "559   1.040830     NaN  \n",
       "815   1.041050     NaN  \n",
       "1741  1.042168     NaN  \n",
       "816   1.042851     NaN  \n",
       "55    1.043282     NaN  \n",
       "587   1.045488     NaN  "
      ]
     },
     "execution_count": 79,
     "metadata": {},
     "output_type": "execute_result"
    }
   ],
   "source": [
    "temp_cluster_result1[temp_cluster_result1['cluster']==1].sort_values('score',ascending=False).nsmallest(20,'score') # 기타"
   ]
  },
  {
   "cell_type": "code",
   "execution_count": 80,
   "metadata": {},
   "outputs": [
    {
     "data": {
      "text/html": [
       "<div>\n",
       "<style scoped>\n",
       "    .dataframe tbody tr th:only-of-type {\n",
       "        vertical-align: middle;\n",
       "    }\n",
       "\n",
       "    .dataframe tbody tr th {\n",
       "        vertical-align: top;\n",
       "    }\n",
       "\n",
       "    .dataframe thead th {\n",
       "        text-align: right;\n",
       "    }\n",
       "</style>\n",
       "<table border=\"1\" class=\"dataframe\">\n",
       "  <thead>\n",
       "    <tr style=\"text-align: right;\">\n",
       "      <th></th>\n",
       "      <th>raw_data</th>\n",
       "      <th>word</th>\n",
       "      <th>cluster</th>\n",
       "      <th>centroid</th>\n",
       "      <th>distance</th>\n",
       "      <th>tfidf</th>\n",
       "      <th>score</th>\n",
       "      <th>closer#</th>\n",
       "    </tr>\n",
       "  </thead>\n",
       "  <tbody>\n",
       "    <tr>\n",
       "      <td>2400</td>\n",
       "      <td>[0.07368317246437073, 0.029517976567149162, -0...</td>\n",
       "      <td>broke</td>\n",
       "      <td>2</td>\n",
       "      <td>[0.077554956, 0.03367837, -0.028410543, 0.0971...</td>\n",
       "      <td>0.028010</td>\n",
       "      <td>0.003639</td>\n",
       "      <td>1.024371</td>\n",
       "      <td>NaN</td>\n",
       "    </tr>\n",
       "    <tr>\n",
       "      <td>1731</td>\n",
       "      <td>[0.07776583731174469, 0.037074826657772064, -0...</td>\n",
       "      <td>recession</td>\n",
       "      <td>2</td>\n",
       "      <td>[0.077554956, 0.03367837, -0.028410543, 0.0971...</td>\n",
       "      <td>0.028972</td>\n",
       "      <td>0.004124</td>\n",
       "      <td>1.024848</td>\n",
       "      <td>NaN</td>\n",
       "    </tr>\n",
       "    <tr>\n",
       "      <td>4057</td>\n",
       "      <td>[0.07150555402040482, 0.03437351435422897, -0....</td>\n",
       "      <td>finality</td>\n",
       "      <td>2</td>\n",
       "      <td>[0.077554956, 0.03367837, -0.028410543, 0.0971...</td>\n",
       "      <td>0.028488</td>\n",
       "      <td>0.003396</td>\n",
       "      <td>1.025092</td>\n",
       "      <td>NaN</td>\n",
       "    </tr>\n",
       "    <tr>\n",
       "      <td>1711</td>\n",
       "      <td>[0.0816832110285759, 0.030006567016243935, -0....</td>\n",
       "      <td>speculation</td>\n",
       "      <td>2</td>\n",
       "      <td>[0.077554956, 0.03367837, -0.028410543, 0.0971...</td>\n",
       "      <td>0.029508</td>\n",
       "      <td>0.004366</td>\n",
       "      <td>1.025142</td>\n",
       "      <td>NaN</td>\n",
       "    </tr>\n",
       "    <tr>\n",
       "      <td>826</td>\n",
       "      <td>[0.07507480680942535, 0.03499605879187584, -0....</td>\n",
       "      <td>incentive</td>\n",
       "      <td>2</td>\n",
       "      <td>[0.077554956, 0.03367837, -0.028410543, 0.0971...</td>\n",
       "      <td>0.029968</td>\n",
       "      <td>0.004609</td>\n",
       "      <td>1.025359</td>\n",
       "      <td>NaN</td>\n",
       "    </tr>\n",
       "    <tr>\n",
       "      <td>679</td>\n",
       "      <td>[0.07876920700073242, 0.032308198511600494, -0...</td>\n",
       "      <td>metal</td>\n",
       "      <td>2</td>\n",
       "      <td>[0.077554956, 0.03367837, -0.028410543, 0.0971...</td>\n",
       "      <td>0.028286</td>\n",
       "      <td>0.002911</td>\n",
       "      <td>1.025375</td>\n",
       "      <td>NaN</td>\n",
       "    </tr>\n",
       "    <tr>\n",
       "      <td>4144</td>\n",
       "      <td>[0.07797947525978088, 0.03269219398498535, -0....</td>\n",
       "      <td>north</td>\n",
       "      <td>2</td>\n",
       "      <td>[0.077554956, 0.03367837, -0.028410543, 0.0971...</td>\n",
       "      <td>0.028817</td>\n",
       "      <td>0.003153</td>\n",
       "      <td>1.025664</td>\n",
       "      <td>NaN</td>\n",
       "    </tr>\n",
       "    <tr>\n",
       "      <td>1464</td>\n",
       "      <td>[0.0793657898902893, 0.0345279723405838, -0.03...</td>\n",
       "      <td>mission</td>\n",
       "      <td>2</td>\n",
       "      <td>[0.077554956, 0.03367837, -0.028410543, 0.0971...</td>\n",
       "      <td>0.030074</td>\n",
       "      <td>0.004366</td>\n",
       "      <td>1.025708</td>\n",
       "      <td>NaN</td>\n",
       "    </tr>\n",
       "    <tr>\n",
       "      <td>1279</td>\n",
       "      <td>[0.0812978446483612, 0.03328072279691696, -0.0...</td>\n",
       "      <td>desire</td>\n",
       "      <td>2</td>\n",
       "      <td>[0.077554956, 0.03367837, -0.028410543, 0.0971...</td>\n",
       "      <td>0.029263</td>\n",
       "      <td>0.003153</td>\n",
       "      <td>1.026109</td>\n",
       "      <td>NaN</td>\n",
       "    </tr>\n",
       "    <tr>\n",
       "      <td>165</td>\n",
       "      <td>[0.07343022525310516, 0.03426635265350342, -0....</td>\n",
       "      <td>january</td>\n",
       "      <td>2</td>\n",
       "      <td>[0.077554956, 0.03367837, -0.028410543, 0.0971...</td>\n",
       "      <td>0.030983</td>\n",
       "      <td>0.004851</td>\n",
       "      <td>1.026131</td>\n",
       "      <td>NaN</td>\n",
       "    </tr>\n",
       "    <tr>\n",
       "      <td>707</td>\n",
       "      <td>[0.07909517735242844, 0.03409240394830704, -0....</td>\n",
       "      <td>contrast</td>\n",
       "      <td>2</td>\n",
       "      <td>[0.077554956, 0.03367837, -0.028410543, 0.0971...</td>\n",
       "      <td>0.029558</td>\n",
       "      <td>0.003396</td>\n",
       "      <td>1.026162</td>\n",
       "      <td>NaN</td>\n",
       "    </tr>\n",
       "    <tr>\n",
       "      <td>2487</td>\n",
       "      <td>[0.0779174193739891, 0.03431914374232292, -0.0...</td>\n",
       "      <td>konstantin</td>\n",
       "      <td>2</td>\n",
       "      <td>[0.077554956, 0.03367837, -0.028410543, 0.0971...</td>\n",
       "      <td>0.028879</td>\n",
       "      <td>0.002426</td>\n",
       "      <td>1.026453</td>\n",
       "      <td>NaN</td>\n",
       "    </tr>\n",
       "    <tr>\n",
       "      <td>1381</td>\n",
       "      <td>[0.07805928587913513, 0.03869762644171715, -0....</td>\n",
       "      <td>division</td>\n",
       "      <td>2</td>\n",
       "      <td>[0.077554956, 0.03367837, -0.028410543, 0.0971...</td>\n",
       "      <td>0.029473</td>\n",
       "      <td>0.002911</td>\n",
       "      <td>1.026562</td>\n",
       "      <td>NaN</td>\n",
       "    </tr>\n",
       "    <tr>\n",
       "      <td>2097</td>\n",
       "      <td>[0.0757598727941513, 0.03370604291558266, -0.0...</td>\n",
       "      <td>zcash</td>\n",
       "      <td>2</td>\n",
       "      <td>[0.077554956, 0.03367837, -0.028410543, 0.0971...</td>\n",
       "      <td>0.030759</td>\n",
       "      <td>0.003881</td>\n",
       "      <td>1.026878</td>\n",
       "      <td>NaN</td>\n",
       "    </tr>\n",
       "    <tr>\n",
       "      <td>1102</td>\n",
       "      <td>[0.07532817870378494, 0.03864636272192001, -0....</td>\n",
       "      <td>protester</td>\n",
       "      <td>2</td>\n",
       "      <td>[0.077554956, 0.03367837, -0.028410543, 0.0971...</td>\n",
       "      <td>0.029667</td>\n",
       "      <td>0.002668</td>\n",
       "      <td>1.026999</td>\n",
       "      <td>NaN</td>\n",
       "    </tr>\n",
       "    <tr>\n",
       "      <td>8129</td>\n",
       "      <td>[0.07338408380746841, 0.038166992366313934, -0...</td>\n",
       "      <td>volvo</td>\n",
       "      <td>2</td>\n",
       "      <td>[0.077554956, 0.03367837, -0.028410543, 0.0971...</td>\n",
       "      <td>0.030579</td>\n",
       "      <td>0.003396</td>\n",
       "      <td>1.027183</td>\n",
       "      <td>NaN</td>\n",
       "    </tr>\n",
       "    <tr>\n",
       "      <td>2403</td>\n",
       "      <td>[0.08261223137378693, 0.03071216307580471, -0....</td>\n",
       "      <td>brokerage</td>\n",
       "      <td>2</td>\n",
       "      <td>[0.077554956, 0.03367837, -0.028410543, 0.0971...</td>\n",
       "      <td>0.032695</td>\n",
       "      <td>0.005094</td>\n",
       "      <td>1.027601</td>\n",
       "      <td>NaN</td>\n",
       "    </tr>\n",
       "    <tr>\n",
       "      <td>1856</td>\n",
       "      <td>[0.07731052488088608, 0.034697771072387695, -0...</td>\n",
       "      <td>complex</td>\n",
       "      <td>2</td>\n",
       "      <td>[0.077554956, 0.03367837, -0.028410543, 0.0971...</td>\n",
       "      <td>0.030840</td>\n",
       "      <td>0.003153</td>\n",
       "      <td>1.027686</td>\n",
       "      <td>NaN</td>\n",
       "    </tr>\n",
       "    <tr>\n",
       "      <td>3982</td>\n",
       "      <td>[0.08129633218050003, 0.0325513519346714, -0.0...</td>\n",
       "      <td>lamborghini</td>\n",
       "      <td>2</td>\n",
       "      <td>[0.077554956, 0.03367837, -0.028410543, 0.0971...</td>\n",
       "      <td>0.030884</td>\n",
       "      <td>0.003153</td>\n",
       "      <td>1.027730</td>\n",
       "      <td>NaN</td>\n",
       "    </tr>\n",
       "    <tr>\n",
       "      <td>862</td>\n",
       "      <td>[0.07598672807216644, 0.038948655128479004, -0...</td>\n",
       "      <td>degree</td>\n",
       "      <td>2</td>\n",
       "      <td>[0.077554956, 0.03367837, -0.028410543, 0.0971...</td>\n",
       "      <td>0.031767</td>\n",
       "      <td>0.003881</td>\n",
       "      <td>1.027886</td>\n",
       "      <td>NaN</td>\n",
       "    </tr>\n",
       "    <tr>\n",
       "      <td>976</td>\n",
       "      <td>[0.08138900995254517, 0.03239534795284271, -0....</td>\n",
       "      <td>unknown</td>\n",
       "      <td>2</td>\n",
       "      <td>[0.077554956, 0.03367837, -0.028410543, 0.0971...</td>\n",
       "      <td>0.032025</td>\n",
       "      <td>0.004124</td>\n",
       "      <td>1.027902</td>\n",
       "      <td>NaN</td>\n",
       "    </tr>\n",
       "    <tr>\n",
       "      <td>619</td>\n",
       "      <td>[0.07517828792333603, 0.039548177272081375, -0...</td>\n",
       "      <td>submit</td>\n",
       "      <td>2</td>\n",
       "      <td>[0.077554956, 0.03367837, -0.028410543, 0.0971...</td>\n",
       "      <td>0.032171</td>\n",
       "      <td>0.003881</td>\n",
       "      <td>1.028289</td>\n",
       "      <td>NaN</td>\n",
       "    </tr>\n",
       "    <tr>\n",
       "      <td>5677</td>\n",
       "      <td>[0.07659205794334412, 0.03517179563641548, -0....</td>\n",
       "      <td>quantum</td>\n",
       "      <td>2</td>\n",
       "      <td>[0.077554956, 0.03367837, -0.028410543, 0.0971...</td>\n",
       "      <td>0.032067</td>\n",
       "      <td>0.003639</td>\n",
       "      <td>1.028429</td>\n",
       "      <td>NaN</td>\n",
       "    </tr>\n",
       "    <tr>\n",
       "      <td>887</td>\n",
       "      <td>[0.07687549293041229, 0.030977917835116386, -0...</td>\n",
       "      <td>efficient</td>\n",
       "      <td>2</td>\n",
       "      <td>[0.077554956, 0.03367837, -0.028410543, 0.0971...</td>\n",
       "      <td>0.033371</td>\n",
       "      <td>0.004851</td>\n",
       "      <td>1.028520</td>\n",
       "      <td>NaN</td>\n",
       "    </tr>\n",
       "    <tr>\n",
       "      <td>1308</td>\n",
       "      <td>[0.07738522440195084, 0.03375452011823654, -0....</td>\n",
       "      <td>illegal</td>\n",
       "      <td>2</td>\n",
       "      <td>[0.077554956, 0.03367837, -0.028410543, 0.0971...</td>\n",
       "      <td>0.031759</td>\n",
       "      <td>0.003153</td>\n",
       "      <td>1.028606</td>\n",
       "      <td>NaN</td>\n",
       "    </tr>\n",
       "    <tr>\n",
       "      <td>2141</td>\n",
       "      <td>[0.07843928784132004, 0.03677434101700783, -0....</td>\n",
       "      <td>unable</td>\n",
       "      <td>2</td>\n",
       "      <td>[0.077554956, 0.03367837, -0.028410543, 0.0971...</td>\n",
       "      <td>0.032495</td>\n",
       "      <td>0.003639</td>\n",
       "      <td>1.028857</td>\n",
       "      <td>NaN</td>\n",
       "    </tr>\n",
       "    <tr>\n",
       "      <td>1708</td>\n",
       "      <td>[0.07999066263437271, 0.03515865281224251, -0....</td>\n",
       "      <td>speculative</td>\n",
       "      <td>2</td>\n",
       "      <td>[0.077554956, 0.03367837, -0.028410543, 0.0971...</td>\n",
       "      <td>0.033155</td>\n",
       "      <td>0.003881</td>\n",
       "      <td>1.029274</td>\n",
       "      <td>NaN</td>\n",
       "    </tr>\n",
       "    <tr>\n",
       "      <td>313</td>\n",
       "      <td>[0.07938405126333237, 0.030192526057362556, -0...</td>\n",
       "      <td>favor</td>\n",
       "      <td>2</td>\n",
       "      <td>[0.077554956, 0.03367837, -0.028410543, 0.0971...</td>\n",
       "      <td>0.033186</td>\n",
       "      <td>0.003881</td>\n",
       "      <td>1.029305</td>\n",
       "      <td>NaN</td>\n",
       "    </tr>\n",
       "    <tr>\n",
       "      <td>807</td>\n",
       "      <td>[0.07492714375257492, 0.03434327617287636, -0....</td>\n",
       "      <td>download</td>\n",
       "      <td>2</td>\n",
       "      <td>[0.077554956, 0.03367837, -0.028410543, 0.0971...</td>\n",
       "      <td>0.032801</td>\n",
       "      <td>0.003396</td>\n",
       "      <td>1.029405</td>\n",
       "      <td>NaN</td>\n",
       "    </tr>\n",
       "    <tr>\n",
       "      <td>3044</td>\n",
       "      <td>[0.08172611147165298, 0.03641926497220993, -0....</td>\n",
       "      <td>loan</td>\n",
       "      <td>2</td>\n",
       "      <td>[0.077554956, 0.03367837, -0.028410543, 0.0971...</td>\n",
       "      <td>0.033830</td>\n",
       "      <td>0.003881</td>\n",
       "      <td>1.029949</td>\n",
       "      <td>NaN</td>\n",
       "    </tr>\n",
       "  </tbody>\n",
       "</table>\n",
       "</div>"
      ],
      "text/plain": [
       "                                               raw_data         word  cluster  \\\n",
       "2400  [0.07368317246437073, 0.029517976567149162, -0...        broke        2   \n",
       "1731  [0.07776583731174469, 0.037074826657772064, -0...    recession        2   \n",
       "4057  [0.07150555402040482, 0.03437351435422897, -0....     finality        2   \n",
       "1711  [0.0816832110285759, 0.030006567016243935, -0....  speculation        2   \n",
       "826   [0.07507480680942535, 0.03499605879187584, -0....    incentive        2   \n",
       "679   [0.07876920700073242, 0.032308198511600494, -0...        metal        2   \n",
       "4144  [0.07797947525978088, 0.03269219398498535, -0....        north        2   \n",
       "1464  [0.0793657898902893, 0.0345279723405838, -0.03...      mission        2   \n",
       "1279  [0.0812978446483612, 0.03328072279691696, -0.0...       desire        2   \n",
       "165   [0.07343022525310516, 0.03426635265350342, -0....      january        2   \n",
       "707   [0.07909517735242844, 0.03409240394830704, -0....     contrast        2   \n",
       "2487  [0.0779174193739891, 0.03431914374232292, -0.0...   konstantin        2   \n",
       "1381  [0.07805928587913513, 0.03869762644171715, -0....     division        2   \n",
       "2097  [0.0757598727941513, 0.03370604291558266, -0.0...        zcash        2   \n",
       "1102  [0.07532817870378494, 0.03864636272192001, -0....    protester        2   \n",
       "8129  [0.07338408380746841, 0.038166992366313934, -0...        volvo        2   \n",
       "2403  [0.08261223137378693, 0.03071216307580471, -0....    brokerage        2   \n",
       "1856  [0.07731052488088608, 0.034697771072387695, -0...      complex        2   \n",
       "3982  [0.08129633218050003, 0.0325513519346714, -0.0...  lamborghini        2   \n",
       "862   [0.07598672807216644, 0.038948655128479004, -0...       degree        2   \n",
       "976   [0.08138900995254517, 0.03239534795284271, -0....      unknown        2   \n",
       "619   [0.07517828792333603, 0.039548177272081375, -0...       submit        2   \n",
       "5677  [0.07659205794334412, 0.03517179563641548, -0....      quantum        2   \n",
       "887   [0.07687549293041229, 0.030977917835116386, -0...    efficient        2   \n",
       "1308  [0.07738522440195084, 0.03375452011823654, -0....      illegal        2   \n",
       "2141  [0.07843928784132004, 0.03677434101700783, -0....       unable        2   \n",
       "1708  [0.07999066263437271, 0.03515865281224251, -0....  speculative        2   \n",
       "313   [0.07938405126333237, 0.030192526057362556, -0...        favor        2   \n",
       "807   [0.07492714375257492, 0.03434327617287636, -0....     download        2   \n",
       "3044  [0.08172611147165298, 0.03641926497220993, -0....         loan        2   \n",
       "\n",
       "                                               centroid  distance     tfidf  \\\n",
       "2400  [0.077554956, 0.03367837, -0.028410543, 0.0971...  0.028010  0.003639   \n",
       "1731  [0.077554956, 0.03367837, -0.028410543, 0.0971...  0.028972  0.004124   \n",
       "4057  [0.077554956, 0.03367837, -0.028410543, 0.0971...  0.028488  0.003396   \n",
       "1711  [0.077554956, 0.03367837, -0.028410543, 0.0971...  0.029508  0.004366   \n",
       "826   [0.077554956, 0.03367837, -0.028410543, 0.0971...  0.029968  0.004609   \n",
       "679   [0.077554956, 0.03367837, -0.028410543, 0.0971...  0.028286  0.002911   \n",
       "4144  [0.077554956, 0.03367837, -0.028410543, 0.0971...  0.028817  0.003153   \n",
       "1464  [0.077554956, 0.03367837, -0.028410543, 0.0971...  0.030074  0.004366   \n",
       "1279  [0.077554956, 0.03367837, -0.028410543, 0.0971...  0.029263  0.003153   \n",
       "165   [0.077554956, 0.03367837, -0.028410543, 0.0971...  0.030983  0.004851   \n",
       "707   [0.077554956, 0.03367837, -0.028410543, 0.0971...  0.029558  0.003396   \n",
       "2487  [0.077554956, 0.03367837, -0.028410543, 0.0971...  0.028879  0.002426   \n",
       "1381  [0.077554956, 0.03367837, -0.028410543, 0.0971...  0.029473  0.002911   \n",
       "2097  [0.077554956, 0.03367837, -0.028410543, 0.0971...  0.030759  0.003881   \n",
       "1102  [0.077554956, 0.03367837, -0.028410543, 0.0971...  0.029667  0.002668   \n",
       "8129  [0.077554956, 0.03367837, -0.028410543, 0.0971...  0.030579  0.003396   \n",
       "2403  [0.077554956, 0.03367837, -0.028410543, 0.0971...  0.032695  0.005094   \n",
       "1856  [0.077554956, 0.03367837, -0.028410543, 0.0971...  0.030840  0.003153   \n",
       "3982  [0.077554956, 0.03367837, -0.028410543, 0.0971...  0.030884  0.003153   \n",
       "862   [0.077554956, 0.03367837, -0.028410543, 0.0971...  0.031767  0.003881   \n",
       "976   [0.077554956, 0.03367837, -0.028410543, 0.0971...  0.032025  0.004124   \n",
       "619   [0.077554956, 0.03367837, -0.028410543, 0.0971...  0.032171  0.003881   \n",
       "5677  [0.077554956, 0.03367837, -0.028410543, 0.0971...  0.032067  0.003639   \n",
       "887   [0.077554956, 0.03367837, -0.028410543, 0.0971...  0.033371  0.004851   \n",
       "1308  [0.077554956, 0.03367837, -0.028410543, 0.0971...  0.031759  0.003153   \n",
       "2141  [0.077554956, 0.03367837, -0.028410543, 0.0971...  0.032495  0.003639   \n",
       "1708  [0.077554956, 0.03367837, -0.028410543, 0.0971...  0.033155  0.003881   \n",
       "313   [0.077554956, 0.03367837, -0.028410543, 0.0971...  0.033186  0.003881   \n",
       "807   [0.077554956, 0.03367837, -0.028410543, 0.0971...  0.032801  0.003396   \n",
       "3044  [0.077554956, 0.03367837, -0.028410543, 0.0971...  0.033830  0.003881   \n",
       "\n",
       "         score closer#  \n",
       "2400  1.024371     NaN  \n",
       "1731  1.024848     NaN  \n",
       "4057  1.025092     NaN  \n",
       "1711  1.025142     NaN  \n",
       "826   1.025359     NaN  \n",
       "679   1.025375     NaN  \n",
       "4144  1.025664     NaN  \n",
       "1464  1.025708     NaN  \n",
       "1279  1.026109     NaN  \n",
       "165   1.026131     NaN  \n",
       "707   1.026162     NaN  \n",
       "2487  1.026453     NaN  \n",
       "1381  1.026562     NaN  \n",
       "2097  1.026878     NaN  \n",
       "1102  1.026999     NaN  \n",
       "8129  1.027183     NaN  \n",
       "2403  1.027601     NaN  \n",
       "1856  1.027686     NaN  \n",
       "3982  1.027730     NaN  \n",
       "862   1.027886     NaN  \n",
       "976   1.027902     NaN  \n",
       "619   1.028289     NaN  \n",
       "5677  1.028429     NaN  \n",
       "887   1.028520     NaN  \n",
       "1308  1.028606     NaN  \n",
       "2141  1.028857     NaN  \n",
       "1708  1.029274     NaN  \n",
       "313   1.029305     NaN  \n",
       "807   1.029405     NaN  \n",
       "3044  1.029949     NaN  "
      ]
     },
     "execution_count": 80,
     "metadata": {},
     "output_type": "execute_result"
    }
   ],
   "source": [
    "temp_cluster_result1[temp_cluster_result1['cluster']==2].sort_values('score',ascending=False).nsmallest(30,'score')  # 사회 이슈 "
   ]
  },
  {
   "cell_type": "code",
   "execution_count": 81,
   "metadata": {},
   "outputs": [
    {
     "data": {
      "text/html": [
       "<div>\n",
       "<style scoped>\n",
       "    .dataframe tbody tr th:only-of-type {\n",
       "        vertical-align: middle;\n",
       "    }\n",
       "\n",
       "    .dataframe tbody tr th {\n",
       "        vertical-align: top;\n",
       "    }\n",
       "\n",
       "    .dataframe thead th {\n",
       "        text-align: right;\n",
       "    }\n",
       "</style>\n",
       "<table border=\"1\" class=\"dataframe\">\n",
       "  <thead>\n",
       "    <tr style=\"text-align: right;\">\n",
       "      <th></th>\n",
       "      <th>raw_data</th>\n",
       "      <th>word</th>\n",
       "      <th>cluster</th>\n",
       "      <th>centroid</th>\n",
       "      <th>distance</th>\n",
       "      <th>tfidf</th>\n",
       "      <th>score</th>\n",
       "      <th>closer#</th>\n",
       "    </tr>\n",
       "  </thead>\n",
       "  <tbody>\n",
       "    <tr>\n",
       "      <td>569</td>\n",
       "      <td>[0.3704968988895416, 0.1590716391801834, -0.14...</td>\n",
       "      <td>interest</td>\n",
       "      <td>3</td>\n",
       "      <td>[0.37639531, 0.16212268, -0.13920303, 0.471389...</td>\n",
       "      <td>0.063293</td>\n",
       "      <td>0.044876</td>\n",
       "      <td>1.018417</td>\n",
       "      <td>NaN</td>\n",
       "    </tr>\n",
       "    <tr>\n",
       "      <td>666</td>\n",
       "      <td>[0.3801504075527191, 0.15767382085323334, -0.1...</td>\n",
       "      <td>regulation</td>\n",
       "      <td>3</td>\n",
       "      <td>[0.37639531, 0.16212268, -0.13920303, 0.471389...</td>\n",
       "      <td>0.064361</td>\n",
       "      <td>0.033475</td>\n",
       "      <td>1.030886</td>\n",
       "      <td>NaN</td>\n",
       "    </tr>\n",
       "    <tr>\n",
       "      <td>395</td>\n",
       "      <td>[0.36844462156295776, 0.15977665781974792, -0....</td>\n",
       "      <td>public</td>\n",
       "      <td>3</td>\n",
       "      <td>[0.37639531, 0.16212268, -0.13920303, 0.471389...</td>\n",
       "      <td>0.064954</td>\n",
       "      <td>0.032748</td>\n",
       "      <td>1.032206</td>\n",
       "      <td>NaN</td>\n",
       "    </tr>\n",
       "    <tr>\n",
       "      <td>584</td>\n",
       "      <td>[0.36758899688720703, 0.15329374372959137, -0....</td>\n",
       "      <td>plan</td>\n",
       "      <td>3</td>\n",
       "      <td>[0.37639531, 0.16212268, -0.13920303, 0.471389...</td>\n",
       "      <td>0.075914</td>\n",
       "      <td>0.040753</td>\n",
       "      <td>1.035162</td>\n",
       "      <td>NaN</td>\n",
       "    </tr>\n",
       "    <tr>\n",
       "      <td>1520</td>\n",
       "      <td>[0.3693567216396332, 0.15590600669384003, -0.1...</td>\n",
       "      <td>finance</td>\n",
       "      <td>3</td>\n",
       "      <td>[0.37639531, 0.16212268, -0.13920303, 0.471389...</td>\n",
       "      <td>0.066751</td>\n",
       "      <td>0.029837</td>\n",
       "      <td>1.036915</td>\n",
       "      <td>NaN</td>\n",
       "    </tr>\n",
       "    <tr>\n",
       "      <td>1211</td>\n",
       "      <td>[0.3818497955799103, 0.16265933215618134, -0.1...</td>\n",
       "      <td>wallet</td>\n",
       "      <td>3</td>\n",
       "      <td>[0.37639531, 0.16212268, -0.13920303, 0.471389...</td>\n",
       "      <td>0.078124</td>\n",
       "      <td>0.033960</td>\n",
       "      <td>1.044163</td>\n",
       "      <td>NaN</td>\n",
       "    </tr>\n",
       "    <tr>\n",
       "      <td>158</td>\n",
       "      <td>[0.3789671063423157, 0.16207648813724518, -0.1...</td>\n",
       "      <td>remain</td>\n",
       "      <td>3</td>\n",
       "      <td>[0.37639531, 0.16212268, -0.13920303, 0.471389...</td>\n",
       "      <td>0.077417</td>\n",
       "      <td>0.030079</td>\n",
       "      <td>1.047338</td>\n",
       "      <td>NaN</td>\n",
       "    </tr>\n",
       "    <tr>\n",
       "      <td>592</td>\n",
       "      <td>[0.3774106502532959, 0.16177698969841003, -0.1...</td>\n",
       "      <td>capital</td>\n",
       "      <td>3</td>\n",
       "      <td>[0.37639531, 0.16212268, -0.13920303, 0.471389...</td>\n",
       "      <td>0.093732</td>\n",
       "      <td>0.033475</td>\n",
       "      <td>1.060256</td>\n",
       "      <td>NaN</td>\n",
       "    </tr>\n",
       "    <tr>\n",
       "      <td>1956</td>\n",
       "      <td>[0.3794340491294861, 0.16539272665977478, -0.1...</td>\n",
       "      <td>partner</td>\n",
       "      <td>3</td>\n",
       "      <td>[0.37639531, 0.16212268, -0.13920303, 0.471389...</td>\n",
       "      <td>0.087487</td>\n",
       "      <td>0.026441</td>\n",
       "      <td>1.061046</td>\n",
       "      <td>NaN</td>\n",
       "    </tr>\n",
       "    <tr>\n",
       "      <td>1908</td>\n",
       "      <td>[0.3647843301296234, 0.1576896458864212, -0.13...</td>\n",
       "      <td>statement</td>\n",
       "      <td>3</td>\n",
       "      <td>[0.37639531, 0.16212268, -0.13920303, 0.471389...</td>\n",
       "      <td>0.133386</td>\n",
       "      <td>0.025713</td>\n",
       "      <td>1.107673</td>\n",
       "      <td>NaN</td>\n",
       "    </tr>\n",
       "    <tr>\n",
       "      <td>52</td>\n",
       "      <td>[0.37082532048225403, 0.16097478568553925, -0....</td>\n",
       "      <td>view</td>\n",
       "      <td>3</td>\n",
       "      <td>[0.37639531, 0.16212268, -0.13920303, 0.471389...</td>\n",
       "      <td>0.144654</td>\n",
       "      <td>0.035173</td>\n",
       "      <td>1.109481</td>\n",
       "      <td>NaN</td>\n",
       "    </tr>\n",
       "    <tr>\n",
       "      <td>564</td>\n",
       "      <td>[0.37199166417121887, 0.17201359570026398, -0....</td>\n",
       "      <td>position</td>\n",
       "      <td>3</td>\n",
       "      <td>[0.37639531, 0.16212268, -0.13920303, 0.471389...</td>\n",
       "      <td>0.138011</td>\n",
       "      <td>0.027896</td>\n",
       "      <td>1.110115</td>\n",
       "      <td>NaN</td>\n",
       "    </tr>\n",
       "    <tr>\n",
       "      <td>757</td>\n",
       "      <td>[0.37212297320365906, 0.16164089739322662, -0....</td>\n",
       "      <td>information</td>\n",
       "      <td>3</td>\n",
       "      <td>[0.37639531, 0.16212268, -0.13920303, 0.471389...</td>\n",
       "      <td>0.149367</td>\n",
       "      <td>0.029352</td>\n",
       "      <td>1.120016</td>\n",
       "      <td>NaN</td>\n",
       "    </tr>\n",
       "    <tr>\n",
       "      <td>405</td>\n",
       "      <td>[0.3672849237918854, 0.16051870584487915, -0.1...</td>\n",
       "      <td>process</td>\n",
       "      <td>3</td>\n",
       "      <td>[0.37639531, 0.16212268, -0.13920303, 0.471389...</td>\n",
       "      <td>0.149645</td>\n",
       "      <td>0.029352</td>\n",
       "      <td>1.120294</td>\n",
       "      <td>NaN</td>\n",
       "    </tr>\n",
       "    <tr>\n",
       "      <td>31</td>\n",
       "      <td>[0.3698297441005707, 0.15311746299266815, -0.1...</td>\n",
       "      <td>base</td>\n",
       "      <td>3</td>\n",
       "      <td>[0.37639531, 0.16212268, -0.13920303, 0.471389...</td>\n",
       "      <td>0.157275</td>\n",
       "      <td>0.035901</td>\n",
       "      <td>1.121374</td>\n",
       "      <td>NaN</td>\n",
       "    </tr>\n",
       "    <tr>\n",
       "      <td>1075</td>\n",
       "      <td>[0.37005889415740967, 0.1613367199897766, -0.1...</td>\n",
       "      <td>community</td>\n",
       "      <td>3</td>\n",
       "      <td>[0.37639531, 0.16212268, -0.13920303, 0.471389...</td>\n",
       "      <td>0.152236</td>\n",
       "      <td>0.028866</td>\n",
       "      <td>1.123370</td>\n",
       "      <td>NaN</td>\n",
       "    </tr>\n",
       "    <tr>\n",
       "      <td>97</td>\n",
       "      <td>[0.3921995162963867, 0.17121274769306183, -0.1...</td>\n",
       "      <td>good</td>\n",
       "      <td>3</td>\n",
       "      <td>[0.37639531, 0.16212268, -0.13920303, 0.471389...</td>\n",
       "      <td>0.167667</td>\n",
       "      <td>0.043421</td>\n",
       "      <td>1.124246</td>\n",
       "      <td>NaN</td>\n",
       "    </tr>\n",
       "    <tr>\n",
       "      <td>76</td>\n",
       "      <td>[0.36711370944976807, 0.1569519191980362, -0.1...</td>\n",
       "      <td>order</td>\n",
       "      <td>3</td>\n",
       "      <td>[0.37639531, 0.16212268, -0.13920303, 0.471389...</td>\n",
       "      <td>0.160753</td>\n",
       "      <td>0.031535</td>\n",
       "      <td>1.129218</td>\n",
       "      <td>NaN</td>\n",
       "    </tr>\n",
       "    <tr>\n",
       "      <td>2</td>\n",
       "      <td>[0.38573238253593445, 0.17309577763080597, -0....</td>\n",
       "      <td>value</td>\n",
       "      <td>3</td>\n",
       "      <td>[0.37639531, 0.16212268, -0.13920303, 0.471389...</td>\n",
       "      <td>0.188259</td>\n",
       "      <td>0.052639</td>\n",
       "      <td>1.135620</td>\n",
       "      <td>NaN</td>\n",
       "    </tr>\n",
       "    <tr>\n",
       "      <td>725</td>\n",
       "      <td>[0.3864356279373169, 0.16754719614982605, -0.1...</td>\n",
       "      <td>create</td>\n",
       "      <td>3</td>\n",
       "      <td>[0.37639531, 0.16212268, -0.13920303, 0.471389...</td>\n",
       "      <td>0.182965</td>\n",
       "      <td>0.042208</td>\n",
       "      <td>1.140757</td>\n",
       "      <td>NaN</td>\n",
       "    </tr>\n",
       "  </tbody>\n",
       "</table>\n",
       "</div>"
      ],
      "text/plain": [
       "                                               raw_data         word  cluster  \\\n",
       "569   [0.3704968988895416, 0.1590716391801834, -0.14...     interest        3   \n",
       "666   [0.3801504075527191, 0.15767382085323334, -0.1...   regulation        3   \n",
       "395   [0.36844462156295776, 0.15977665781974792, -0....       public        3   \n",
       "584   [0.36758899688720703, 0.15329374372959137, -0....         plan        3   \n",
       "1520  [0.3693567216396332, 0.15590600669384003, -0.1...      finance        3   \n",
       "1211  [0.3818497955799103, 0.16265933215618134, -0.1...       wallet        3   \n",
       "158   [0.3789671063423157, 0.16207648813724518, -0.1...       remain        3   \n",
       "592   [0.3774106502532959, 0.16177698969841003, -0.1...      capital        3   \n",
       "1956  [0.3794340491294861, 0.16539272665977478, -0.1...      partner        3   \n",
       "1908  [0.3647843301296234, 0.1576896458864212, -0.13...    statement        3   \n",
       "52    [0.37082532048225403, 0.16097478568553925, -0....         view        3   \n",
       "564   [0.37199166417121887, 0.17201359570026398, -0....     position        3   \n",
       "757   [0.37212297320365906, 0.16164089739322662, -0....  information        3   \n",
       "405   [0.3672849237918854, 0.16051870584487915, -0.1...      process        3   \n",
       "31    [0.3698297441005707, 0.15311746299266815, -0.1...         base        3   \n",
       "1075  [0.37005889415740967, 0.1613367199897766, -0.1...    community        3   \n",
       "97    [0.3921995162963867, 0.17121274769306183, -0.1...         good        3   \n",
       "76    [0.36711370944976807, 0.1569519191980362, -0.1...        order        3   \n",
       "2     [0.38573238253593445, 0.17309577763080597, -0....        value        3   \n",
       "725   [0.3864356279373169, 0.16754719614982605, -0.1...       create        3   \n",
       "\n",
       "                                               centroid  distance     tfidf  \\\n",
       "569   [0.37639531, 0.16212268, -0.13920303, 0.471389...  0.063293  0.044876   \n",
       "666   [0.37639531, 0.16212268, -0.13920303, 0.471389...  0.064361  0.033475   \n",
       "395   [0.37639531, 0.16212268, -0.13920303, 0.471389...  0.064954  0.032748   \n",
       "584   [0.37639531, 0.16212268, -0.13920303, 0.471389...  0.075914  0.040753   \n",
       "1520  [0.37639531, 0.16212268, -0.13920303, 0.471389...  0.066751  0.029837   \n",
       "1211  [0.37639531, 0.16212268, -0.13920303, 0.471389...  0.078124  0.033960   \n",
       "158   [0.37639531, 0.16212268, -0.13920303, 0.471389...  0.077417  0.030079   \n",
       "592   [0.37639531, 0.16212268, -0.13920303, 0.471389...  0.093732  0.033475   \n",
       "1956  [0.37639531, 0.16212268, -0.13920303, 0.471389...  0.087487  0.026441   \n",
       "1908  [0.37639531, 0.16212268, -0.13920303, 0.471389...  0.133386  0.025713   \n",
       "52    [0.37639531, 0.16212268, -0.13920303, 0.471389...  0.144654  0.035173   \n",
       "564   [0.37639531, 0.16212268, -0.13920303, 0.471389...  0.138011  0.027896   \n",
       "757   [0.37639531, 0.16212268, -0.13920303, 0.471389...  0.149367  0.029352   \n",
       "405   [0.37639531, 0.16212268, -0.13920303, 0.471389...  0.149645  0.029352   \n",
       "31    [0.37639531, 0.16212268, -0.13920303, 0.471389...  0.157275  0.035901   \n",
       "1075  [0.37639531, 0.16212268, -0.13920303, 0.471389...  0.152236  0.028866   \n",
       "97    [0.37639531, 0.16212268, -0.13920303, 0.471389...  0.167667  0.043421   \n",
       "76    [0.37639531, 0.16212268, -0.13920303, 0.471389...  0.160753  0.031535   \n",
       "2     [0.37639531, 0.16212268, -0.13920303, 0.471389...  0.188259  0.052639   \n",
       "725   [0.37639531, 0.16212268, -0.13920303, 0.471389...  0.182965  0.042208   \n",
       "\n",
       "         score closer#  \n",
       "569   1.018417     NaN  \n",
       "666   1.030886     NaN  \n",
       "395   1.032206     NaN  \n",
       "584   1.035162     NaN  \n",
       "1520  1.036915     NaN  \n",
       "1211  1.044163     NaN  \n",
       "158   1.047338     NaN  \n",
       "592   1.060256     NaN  \n",
       "1956  1.061046     NaN  \n",
       "1908  1.107673     NaN  \n",
       "52    1.109481     NaN  \n",
       "564   1.110115     NaN  \n",
       "757   1.120016     NaN  \n",
       "405   1.120294     NaN  \n",
       "31    1.121374     NaN  \n",
       "1075  1.123370     NaN  \n",
       "97    1.124246     NaN  \n",
       "76    1.129218     NaN  \n",
       "2     1.135620     NaN  \n",
       "725   1.140757     NaN  "
      ]
     },
     "execution_count": 81,
     "metadata": {},
     "output_type": "execute_result"
    }
   ],
   "source": [
    "temp_cluster_result1[temp_cluster_result1['cluster']==3].sort_values('score',ascending=False).nsmallest(20,'score') # 투자"
   ]
  },
  {
   "cell_type": "code",
   "execution_count": 82,
   "metadata": {},
   "outputs": [
    {
     "data": {
      "text/plain": [
       "7915"
      ]
     },
     "execution_count": 82,
     "metadata": {},
     "output_type": "execute_result"
    }
   ],
   "source": [
    "len(temp_cluster_result1[temp_cluster_result1['cluster']==0]) #Influencer - 사회이슈"
   ]
  },
  {
   "cell_type": "code",
   "execution_count": 83,
   "metadata": {},
   "outputs": [
    {
     "data": {
      "text/plain": [
       "501"
      ]
     },
     "execution_count": 83,
     "metadata": {},
     "output_type": "execute_result"
    }
   ],
   "source": [
    "len(temp_cluster_result1[temp_cluster_result1['cluster']==1]) #기타 "
   ]
  },
  {
   "cell_type": "code",
   "execution_count": 84,
   "metadata": {},
   "outputs": [
    {
     "data": {
      "text/plain": [
       "1254"
      ]
     },
     "execution_count": 84,
     "metadata": {},
     "output_type": "execute_result"
    }
   ],
   "source": [
    "len(temp_cluster_result1[temp_cluster_result1['cluster']==2]) #사회이슈 "
   ]
  },
  {
   "cell_type": "code",
   "execution_count": 85,
   "metadata": {},
   "outputs": [
    {
     "data": {
      "text/plain": [
       "260"
      ]
     },
     "execution_count": 85,
     "metadata": {},
     "output_type": "execute_result"
    }
   ],
   "source": [
    "len(temp_cluster_result1[temp_cluster_result1['cluster']==3]) #투자"
   ]
  },
  {
   "cell_type": "code",
   "execution_count": 86,
   "metadata": {},
   "outputs": [],
   "source": [
    "word_vectors = model.wv"
   ]
  },
  {
   "cell_type": "code",
   "execution_count": 87,
   "metadata": {},
   "outputs": [],
   "source": [
    "vocabs = word_vectors.vocab.keys()"
   ]
  },
  {
   "cell_type": "code",
   "execution_count": 88,
   "metadata": {},
   "outputs": [],
   "source": [
    "word_vector_list = [word_vectors[v]for v in vocabs]"
   ]
  },
  {
   "cell_type": "code",
   "execution_count": 89,
   "metadata": {},
   "outputs": [
    {
     "name": "stdout",
     "output_type": "stream",
     "text": [
      "0.99983716\n"
     ]
    }
   ],
   "source": [
    "print(word_vectors.similarity(w1='little',w2='push'))"
   ]
  },
  {
   "cell_type": "code",
   "execution_count": 90,
   "metadata": {},
   "outputs": [],
   "source": [
    "from sklearn.decomposition import PCA\n",
    "pca = PCA(n_components=2)\n",
    "xys = pca.fit_transform(word_vector_list)"
   ]
  },
  {
   "cell_type": "code",
   "execution_count": 91,
   "metadata": {},
   "outputs": [
    {
     "data": {
      "text/plain": [
       "array([[ 5.24881791e+00, -1.26302607e-02],\n",
       "       [ 5.78282454e+00, -1.47231508e-01],\n",
       "       [ 4.57849794e+00, -2.44094413e-02],\n",
       "       ...,\n",
       "       [-4.86083795e-01,  1.10294861e-03],\n",
       "       [-4.42888858e-01, -6.69516784e-04],\n",
       "       [-3.72977577e-01,  4.76761584e-03]])"
      ]
     },
     "execution_count": 91,
     "metadata": {},
     "output_type": "execute_result"
    }
   ],
   "source": [
    "xys"
   ]
  },
  {
   "cell_type": "code",
   "execution_count": 92,
   "metadata": {},
   "outputs": [
    {
     "data": {
      "text/plain": [
       "array([ 5.24881791,  5.78282454,  4.57849794, ..., -0.4860838 ,\n",
       "       -0.44288886, -0.37297758])"
      ]
     },
     "execution_count": 92,
     "metadata": {},
     "output_type": "execute_result"
    }
   ],
   "source": [
    "xys[:,0]"
   ]
  },
  {
   "cell_type": "code",
   "execution_count": 93,
   "metadata": {},
   "outputs": [
    {
     "data": {
      "text/plain": [
       "array([-0.01263026, -0.14723151, -0.02440944, ...,  0.00110295,\n",
       "       -0.00066952,  0.00476762])"
      ]
     },
     "execution_count": 93,
     "metadata": {},
     "output_type": "execute_result"
    }
   ],
   "source": [
    "xys[:,1]"
   ]
  },
  {
   "cell_type": "code",
   "execution_count": 94,
   "metadata": {},
   "outputs": [],
   "source": [
    "xs = xys[:,0]\n",
    "ys = xys[:,1]"
   ]
  },
  {
   "cell_type": "code",
   "execution_count": 95,
   "metadata": {},
   "outputs": [],
   "source": [
    "def plot_2d_graph(vocabs,xs,ys) :\n",
    "    plt.figure(figsize=(8,6))\n",
    "    plt.scatter(xs,ys,marker='o')\n",
    "    for i,v in enumerate(vocabs) :\n",
    "        plt.annotate(v,xy=(xs[i],ys[i]))"
   ]
  },
  {
   "cell_type": "code",
   "execution_count": 96,
   "metadata": {},
   "outputs": [
    {
     "name": "stderr",
     "output_type": "stream",
     "text": [
      "/Users/hongminpyo/opt/anaconda3/lib/python3.7/site-packages/matplotlib/backends/backend_agg.py:211: RuntimeWarning: Glyph 8383 missing from current font.\n",
      "  font.set_text(s, 0.0, flags=flags)\n",
      "/Users/hongminpyo/opt/anaconda3/lib/python3.7/site-packages/matplotlib/backends/backend_agg.py:180: RuntimeWarning: Glyph 8383 missing from current font.\n",
      "  font.set_text(s, 0, flags=flags)\n",
      "/Users/hongminpyo/opt/anaconda3/lib/python3.7/site-packages/matplotlib/backends/backend_agg.py:211: RuntimeWarning: Glyph 128640 missing from current font.\n",
      "  font.set_text(s, 0.0, flags=flags)\n",
      "/Users/hongminpyo/opt/anaconda3/lib/python3.7/site-packages/matplotlib/backends/backend_agg.py:180: RuntimeWarning: Glyph 128640 missing from current font.\n",
      "  font.set_text(s, 0, flags=flags)\n",
      "/Users/hongminpyo/opt/anaconda3/lib/python3.7/site-packages/matplotlib/backends/backend_agg.py:211: RuntimeWarning: Glyph 129300 missing from current font.\n",
      "  font.set_text(s, 0.0, flags=flags)\n",
      "/Users/hongminpyo/opt/anaconda3/lib/python3.7/site-packages/matplotlib/backends/backend_agg.py:180: RuntimeWarning: Glyph 129300 missing from current font.\n",
      "  font.set_text(s, 0, flags=flags)\n"
     ]
    },
    {
     "data": {
      "image/png": "[encoded data removed]",
      "text/plain": [
       "<Figure size 576x432 with 1 Axes>"
      ]
     },
     "metadata": {
      "needs_background": "light"
     },
     "output_type": "display_data"
    }
   ],
   "source": [
    "plot_2d_graph(vocabs,xs,ys)"
   ]
  },
  {
   "cell_type": "code",
   "execution_count": 97,
   "metadata": {},
   "outputs": [
    {
     "data": {
      "text/plain": [
       "<function nltk.help.upenn_tagset(tagpattern=None)>"
      ]
     },
     "execution_count": 97,
     "metadata": {},
     "output_type": "execute_result"
    }
   ],
   "source": [
    "nltk.help.upenn_tagset"
   ]
  }
 ],
 "metadata": {
  "kernelspec": {
   "display_name": "Python 3",
   "language": "python",
   "name": "python3"
  },
  "language_info": {
   "codemirror_mode": {
    "name": "ipython",
    "version": 3
   },
   "file_extension": ".py",
   "mimetype": "text/x-python",
   "name": "python",
   "nbconvert_exporter": "python",
   "pygments_lexer": "ipython3",
   "version": "3.7.4"
  },
  "pycharm": {
   "stem_cell": {
    "cell_type": "raw",
    "metadata": {
     "collapsed": false
    },
    "source": []
   }
  }
 },
 "nbformat": 4,
 "nbformat_minor": 2
}

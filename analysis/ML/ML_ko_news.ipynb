{
 "cells": [
  {
   "cell_type": "code",
   "execution_count": 65,
   "metadata": {},
   "outputs": [],
   "source": [
    "import re\n",
    "import math\n",
    "import numpy as np\n",
    "import pandas as pd\n",
    "from datetime import datetime\n",
    "from sklearn.preprocessing import StandardScaler\n",
    "from sklearn.model_selection import train_test_split\n",
    "from sklearn.tree import DecisionTreeClassifier\n",
    "from sklearn.ensemble import RandomForestClassifier\n",
    "from sklearn.ensemble import GradientBoostingClassifier\n",
    "from sklearn.linear_model import LogisticRegression\n",
    "from sklearn.metrics import accuracy_score ,precision_score , recall_score , confusion_matrix , f1_score\n",
    "from sklearn.model_selection import GridSearchCV\n",
    "from ast import literal_eval\n",
    "from gensim.models.keyedvectors import KeyedVectors\n",
    "from sklearn.decomposition import PCA\n",
    "pca = PCA(n_components=40)"
   ]
  },
  {
   "cell_type": "code",
   "execution_count": 66,
   "metadata": {},
   "outputs": [],
   "source": [
    "eucl_data = pd.read_csv('../../analysis/cluster/ko_news/2020_up1/ko_news_2020_up1_euclidean.csv', error_bad_lines=False)\n",
    "eucl_data['closer#'] = 2 # cosine 1 , euclidean 2\n",
    "\n",
    "cosine_data = pd.read_csv('../../analysis/cluster/ko_news/2020_up1/ko_news_2020_up1_cosine.csv', error_bad_lines=False)\n",
    "cosine_data['closer#'] = 1 # cosine 1 , euclidean 2\n",
    "\n",
    "data_2020U1 = eucl_data\n",
    "data_2020U1.append(cosine_data)\n",
    "\n",
    "data_2020U1['period'] = 202011 # 2020년의 up 1 , 첫번째 1\n",
    "\n"
   ]
  },
  {
   "cell_type": "code",
   "execution_count": 67,
   "metadata": {},
   "outputs": [],
   "source": [
    "eucl_data = pd.read_csv('../../analysis/cluster/ko_news/2020_down1/ko_news_2020_down1_euclidean.csv', error_bad_lines=False)\n",
    "eucl_data['closer#'] = 2 # cosine 1 , euclidean 2\n",
    "\n",
    "cosine_data = pd.read_csv('../../analysis/cluster/ko_news/2020_down1/ko_news_2020_down1_cosine.csv', error_bad_lines=False)\n",
    "cosine_data['closer#'] = 1 # cosine 1 , euclidean 2\n",
    "\n",
    "data_2020D1 = eucl_data\n",
    "data_2020D1.append(cosine_data)\n",
    "\n",
    "data_2020D1['period'] = 202021 # 2020년의 down 2 , 첫번째 1\n",
    "\n"
   ]
  },
  {
   "cell_type": "code",
   "execution_count": 68,
   "metadata": {},
   "outputs": [],
   "source": [
    "\n",
    "eucl_data = pd.read_csv('../../analysis/cluster/ko_news/2017_up1/ko_news_2017_up1_euclidean.csv', error_bad_lines=False)\n",
    "eucl_data['closer#'] = 2 # cosine 1 , euclidean 2\n",
    "\n",
    "cosine_data = pd.read_csv('../../analysis/cluster/ko_news/2017_up1/ko_news_2017_up1_cosine.csv', error_bad_lines=False)\n",
    "cosine_data['closer#'] = 1 # cosine 1 , euclidean 2\n",
    "\n",
    "data_2017U1 = eucl_data\n",
    "data_2017U1.append(cosine_data)\n",
    "\n",
    "data_2017U1['period'] = 201711 # 2020년의 up 1 , 첫번째 1\n",
    "\n",
    "\n"
   ]
  },
  {
   "cell_type": "code",
   "execution_count": 69,
   "metadata": {},
   "outputs": [],
   "source": [
    "eucl_data = pd.read_csv('../../analysis/cluster/ko_news/2017_up2/ko_news_2017_up2_euclidean.csv', error_bad_lines=False)\n",
    "eucl_data['closer#'] = 2 # cosine 1 , euclidean 2\n",
    "\n",
    "cosine_data = pd.read_csv('../../analysis/cluster/ko_news/2017_up2/ko_news_2017_up2_cosine.csv', error_bad_lines=False)\n",
    "cosine_data['closer#'] = 1 # cosine 1 , euclidean 2\n",
    "\n",
    "data_2017U2 = eucl_data\n",
    "data_2017U2.append(cosine_data)\n",
    "\n",
    "data_2017U2['period'] = 201712 # 2020년의 up 1 , 첫번째 1\n",
    "\n",
    "\n",
    "\n"
   ]
  },
  {
   "cell_type": "code",
   "execution_count": 70,
   "metadata": {},
   "outputs": [
    {
     "name": "stderr",
     "output_type": "stream",
     "text": [
      "/Users/hongminpyo/opt/anaconda3/lib/python3.7/site-packages/pandas/core/frame.py:7123: FutureWarning: Sorting because non-concatenation axis is not aligned. A future version\n",
      "of pandas will change to not sort by default.\n",
      "\n",
      "To accept the future behavior, pass 'sort=False'.\n",
      "\n",
      "To retain the current behavior and silence the warning, pass 'sort=True'.\n",
      "\n",
      "  sort=sort,\n"
     ]
    }
   ],
   "source": [
    "eucl_data = pd.read_csv('../../analysis/cluster/ko_news/2018_down1/ko_news_2018_down1_euclidean.csv', error_bad_lines=False)\n",
    "eucl_data['closer#'] = 2 # cosine 1 , euclidean 2\n",
    "\n",
    "cosine_data = pd.read_csv('../../analysis/cluster/ko_news/2018_down1/ko_news_2018_down1_cosine.csv', error_bad_lines=False)\n",
    "cosine_data['closer#'] = 1 # cosine 1 , euclidean 2\n",
    "\n",
    "data_2018D1 = eucl_data\n",
    "data_2018D1.append(cosine_data)\n",
    "\n",
    "data_2018D1['period'] = 201821 # 2020년의 up 1 , 첫번째 1\n",
    "\n"
   ]
  },
  {
   "cell_type": "code",
   "execution_count": 71,
   "metadata": {},
   "outputs": [],
   "source": [
    "eucl_data = pd.read_csv('../../analysis/cluster/ko_news/2018_complement1/ko_news_2018_complement1_euclidean.csv', error_bad_lines=False)\n",
    "eucl_data['closer#'] = 2 # cosine 1 , euclidean 2\n",
    "\n",
    "cosine_data = pd.read_csv('../../analysis/cluster/ko_news/2018_complement1/ko_news_2018_complement1_cosine.csv', error_bad_lines=False)\n",
    "cosine_data['closer#'] = 1 # cosine 1 , euclidean 2\n",
    "\n",
    "data_2018C1 = eucl_data\n",
    "data_2018C1.append(cosine_data)\n",
    "\n",
    "data_2018C1['period'] = 201831 # 2020년의 up 1 , down 2 , complement 3 첫번째 1"
   ]
  },
  {
   "cell_type": "code",
   "execution_count": 72,
   "metadata": {},
   "outputs": [],
   "source": [
    "eucl_data = pd.read_csv('../../analysis/cluster/ko_news/2018_down2/ko_news_2018_down2_euclidean.csv', error_bad_lines=False)\n",
    "eucl_data['closer#'] = 2 # cosine 1 , euclidean 2\n",
    "\n",
    "cosine_data = pd.read_csv('../../analysis/cluster/ko_news/2018_down2/ko_news_2018_down2_cosine.csv', error_bad_lines=False)\n",
    "cosine_data['closer#'] = 1 # cosine 1 , euclidean 2\n",
    "\n",
    "data_2018D2 = eucl_data\n",
    "data_2018D2.append(cosine_data)\n",
    "\n",
    "data_2018D2['period'] = 201822 # 2020년의 up 1 , down 2 , complement 3 첫번째 1"
   ]
  },
  {
   "cell_type": "code",
   "execution_count": 73,
   "metadata": {},
   "outputs": [],
   "source": [
    "eucl_data = pd.read_csv('../../analysis/cluster/ko_news/2019_up1/ko_news_2019_up1_euclidean.csv', error_bad_lines=False)\n",
    "eucl_data['closer#'] = 2 # cosine 1 , euclidean 2\n",
    "\n",
    "cosine_data = pd.read_csv('../../analysis/cluster/ko_news/2019_up1/ko_news_2019_up1_cosine.csv', error_bad_lines=False)\n",
    "cosine_data['closer#'] = 1 # cosine 1 , euclidean 2\n",
    "\n",
    "data_2019U1 = eucl_data\n",
    "data_2019U1.append(cosine_data)\n",
    "\n",
    "data_2019U1['period'] = 201911 # 2020년의 up 1 , down 2 , complement 3 첫번째 1"
   ]
  },
  {
   "cell_type": "code",
   "execution_count": 74,
   "metadata": {},
   "outputs": [],
   "source": [
    "eucl_data = pd.read_csv('../../analysis/cluster/ko_news/2019_up2/ko_news_2019_up2_euclidean.csv', error_bad_lines=False)\n",
    "eucl_data['closer#'] = 2 # cosine 1 , euclidean 2\n",
    "\n",
    "cosine_data = pd.read_csv('../../analysis/cluster/ko_news/2019_up2/ko_news_2019_up2_cosine.csv', error_bad_lines=False)\n",
    "cosine_data['closer#'] = 1 # cosine 1 , euclidean 2\n",
    "\n",
    "data_2019U2 = eucl_data\n",
    "data_2019U2.append(cosine_data)\n",
    "\n",
    "data_2019U2['period'] = 201912 # 2020년의 up 1 , down 2 , complement 3 첫번째 1"
   ]
  },
  {
   "cell_type": "code",
   "execution_count": 75,
   "metadata": {},
   "outputs": [],
   "source": [
    "eucl_data = pd.read_csv('../../analysis/cluster/ko_news/2019_up3/ko_news_2019_up3_euclidean.csv', error_bad_lines=False)\n",
    "eucl_data['closer#'] = 2 # cosine 1 , euclidean 2\n",
    "\n",
    "cosine_data = pd.read_csv('../../analysis/cluster/ko_news/2019_up3/ko_news_2019_up3_cosine.csv', error_bad_lines=False)\n",
    "cosine_data['closer#'] = 1 # cosine 1 , euclidean 2\n",
    "\n",
    "data_2019U3 = eucl_data\n",
    "data_2019U3.append(cosine_data)\n",
    "\n",
    "data_2019U3['period'] = 201913 # 2020년의 up 1 , down 2 , complement 3 첫번째 1"
   ]
  },
  {
   "cell_type": "code",
   "execution_count": 76,
   "metadata": {},
   "outputs": [],
   "source": [
    "eucl_data = pd.read_csv('../../analysis/cluster/ko_news/2019_down1/ko_news_2019_down1_euclidean.csv', error_bad_lines=False)\n",
    "eucl_data['closer#'] = 2 # cosine 1 , euclidean 2\n",
    "\n",
    "cosine_data = pd.read_csv('../../analysis/cluster/ko_news/2019_down1/ko_news_2019_down1_cosine.csv', error_bad_lines=False)\n",
    "cosine_data['closer#'] = 1 # cosine 1 , euclidean 2\n",
    "\n",
    "data_2019D1 = eucl_data\n",
    "data_2019D1.append(cosine_data)\n",
    "\n",
    "data_2019D1['period'] = 201921 # 2020년의 up 1 , down 2 , complement 3 첫번째 1"
   ]
  },
  {
   "cell_type": "code",
   "execution_count": 77,
   "metadata": {},
   "outputs": [],
   "source": [
    "eucl_data = pd.read_csv('../../analysis/cluster/ko_news/2019_down2/ko_news_2019_down2_euclidean.csv', error_bad_lines=False)\n",
    "eucl_data['closer#'] = 2 # cosine 1 , euclidean 2\n",
    "\n",
    "cosine_data = pd.read_csv('../../analysis/cluster/ko_news/2019_down2/ko_news_2019_down2_cosine.csv', error_bad_lines=False)\n",
    "cosine_data['closer#'] = 1 # cosine 1 , euclidean 2\n",
    "\n",
    "data_2019D2 = eucl_data\n",
    "data_2019D2.append(cosine_data)\n",
    "\n",
    "data_2019D2['period'] = 201922 # 2020년의 up 1 , down 2 , complement 3 첫번째 1"
   ]
  },
  {
   "cell_type": "code",
   "execution_count": 78,
   "metadata": {},
   "outputs": [],
   "source": [
    "eucl_data = pd.read_csv('../../analysis/cluster/ko_news/2019_down3/ko_news_2019_down3_euclidean.csv', error_bad_lines=False)\n",
    "eucl_data['closer#'] = 2 # cosine 1 , euclidean 2\n",
    "\n",
    "cosine_data = pd.read_csv('../../analysis/cluster/ko_news/2019_down3/ko_news_2019_down3_cosine.csv', error_bad_lines=False)\n",
    "cosine_data['closer#'] = 1 # cosine 1 , euclidean 2\n",
    "\n",
    "data_2019D3 = eucl_data\n",
    "data_2019D3.append(cosine_data)\n",
    "\n",
    "data_2019D3['period'] = 201923 # 2020년의 up 1 , down 2 , complement 3 첫번째 1"
   ]
  },
  {
   "cell_type": "code",
   "execution_count": 79,
   "metadata": {},
   "outputs": [],
   "source": [
    "eucl_data = pd.read_csv('../../analysis/cluster/ko_news/2019_down4/ko_news_2019_down4_euclidean.csv', error_bad_lines=False)\n",
    "eucl_data['closer#'] = 2 # cosine 1 , euclidean 2\n",
    "\n",
    "cosine_data = pd.read_csv('../../analysis/cluster/ko_news/2019_down4/ko_news_2019_down4_cosine.csv', error_bad_lines=False)\n",
    "cosine_data['closer#'] = 1 # cosine 1 , euclidean 2\n",
    "\n",
    "data_2019D4 = eucl_data\n",
    "data_2019D4.append(cosine_data)\n",
    "\n",
    "data_2019D4['period'] = 201924 # 2020년의 up 1 , down 2 , complement 3 첫번째 1"
   ]
  },
  {
   "cell_type": "code",
   "execution_count": 80,
   "metadata": {},
   "outputs": [
    {
     "name": "stderr",
     "output_type": "stream",
     "text": [
      "/Users/hongminpyo/opt/anaconda3/lib/python3.7/site-packages/ipykernel_launcher.py:1: FutureWarning: Sorting because non-concatenation axis is not aligned. A future version\n",
      "of pandas will change to not sort by default.\n",
      "\n",
      "To accept the future behavior, pass 'sort=False'.\n",
      "\n",
      "To retain the current behavior and silence the warning, pass 'sort=True'.\n",
      "\n",
      "  \"\"\"Entry point for launching an IPython kernel.\n"
     ]
    }
   ],
   "source": [
    "data_train = pd.concat([data_2020U1,data_2020D1,data_2017U1,data_2018D1,data_2018C1,data_2018D2,data_2019U1,data_2019U2,data_2019U3,data_2019D1,data_2019D2,data_2019D3,data_2019D4],ignore_index=True)"
   ]
  },
  {
   "cell_type": "code",
   "execution_count": 81,
   "metadata": {},
   "outputs": [],
   "source": [
    "data_train['period'] = pd.to_numeric(data_train['period'], errors='coerce')\n",
    "data_train['category'] = pd.to_numeric(data_train['category'], errors='coerce')\n",
    "data_train['label'] = pd.to_numeric(data_train['label'], errors='coerce')\n",
    "data_train['Silhouette'] = pd.to_numeric(data_train['Silhouette'], errors='coerce')"
   ]
  },
  {
   "cell_type": "code",
   "execution_count": 82,
   "metadata": {},
   "outputs": [],
   "source": [
    "header = []\n",
    "for i in range(1,101) :\n",
    "    header.append('C'+str(i))\n",
    "\n",
    "#header.append('period')"
   ]
  },
  {
   "cell_type": "code",
   "execution_count": 83,
   "metadata": {},
   "outputs": [],
   "source": [
    "#x_data_df[['period','raw_data','closer#','category','label','Silhouette']] = data_train[['period','raw_data','closer#','category','label','Silhouette']]\n",
    "x_data_df = data_train[['period','raw_data','closer#','category','label','Silhouette']]"
   ]
  },
  {
   "cell_type": "code",
   "execution_count": 84,
   "metadata": {},
   "outputs": [
    {
     "data": {
      "text/html": [
       "<div>\n",
       "<style scoped>\n",
       "    .dataframe tbody tr th:only-of-type {\n",
       "        vertical-align: middle;\n",
       "    }\n",
       "\n",
       "    .dataframe tbody tr th {\n",
       "        vertical-align: top;\n",
       "    }\n",
       "\n",
       "    .dataframe thead th {\n",
       "        text-align: right;\n",
       "    }\n",
       "</style>\n",
       "<table border=\"1\" class=\"dataframe\">\n",
       "  <thead>\n",
       "    <tr style=\"text-align: right;\">\n",
       "      <th></th>\n",
       "      <th>period</th>\n",
       "      <th>raw_data</th>\n",
       "      <th>closer#</th>\n",
       "      <th>category</th>\n",
       "      <th>label</th>\n",
       "      <th>Silhouette</th>\n",
       "    </tr>\n",
       "  </thead>\n",
       "  <tbody>\n",
       "    <tr>\n",
       "      <td>0</td>\n",
       "      <td>202011</td>\n",
       "      <td>[0.008278771303594112, -0.019323358312249184, ...</td>\n",
       "      <td>2</td>\n",
       "      <td>2.0</td>\n",
       "      <td>6.0</td>\n",
       "      <td>0.696935</td>\n",
       "    </tr>\n",
       "    <tr>\n",
       "      <td>1</td>\n",
       "      <td>202011</td>\n",
       "      <td>[-0.0017453839536756277, -0.005309186410158873...</td>\n",
       "      <td>2</td>\n",
       "      <td>2.0</td>\n",
       "      <td>6.0</td>\n",
       "      <td>0.696935</td>\n",
       "    </tr>\n",
       "    <tr>\n",
       "      <td>2</td>\n",
       "      <td>202011</td>\n",
       "      <td>[0.12349174171686172, -0.4359639585018158, -0....</td>\n",
       "      <td>2</td>\n",
       "      <td>2.0</td>\n",
       "      <td>11.0</td>\n",
       "      <td>0.696935</td>\n",
       "    </tr>\n",
       "    <tr>\n",
       "      <td>3</td>\n",
       "      <td>202011</td>\n",
       "      <td>[0.006030668970197439, -0.02718167193233967, -...</td>\n",
       "      <td>2</td>\n",
       "      <td>2.0</td>\n",
       "      <td>1.0</td>\n",
       "      <td>0.696935</td>\n",
       "    </tr>\n",
       "    <tr>\n",
       "      <td>4</td>\n",
       "      <td>202011</td>\n",
       "      <td>[0.014498122036457062, -0.04683591052889824, -...</td>\n",
       "      <td>2</td>\n",
       "      <td>2.0</td>\n",
       "      <td>1.0</td>\n",
       "      <td>0.696935</td>\n",
       "    </tr>\n",
       "    <tr>\n",
       "      <td>...</td>\n",
       "      <td>...</td>\n",
       "      <td>...</td>\n",
       "      <td>...</td>\n",
       "      <td>...</td>\n",
       "      <td>...</td>\n",
       "      <td>...</td>\n",
       "    </tr>\n",
       "    <tr>\n",
       "      <td>45406</td>\n",
       "      <td>201924</td>\n",
       "      <td>[-0.0007523947861045599, -0.003918581642210483...</td>\n",
       "      <td>2</td>\n",
       "      <td>2.0</td>\n",
       "      <td>5.0</td>\n",
       "      <td>0.088164</td>\n",
       "    </tr>\n",
       "    <tr>\n",
       "      <td>45407</td>\n",
       "      <td>201924</td>\n",
       "      <td>[-0.0038386916276067495, 0.001768233603797853,...</td>\n",
       "      <td>2</td>\n",
       "      <td>2.0</td>\n",
       "      <td>5.0</td>\n",
       "      <td>0.088164</td>\n",
       "    </tr>\n",
       "    <tr>\n",
       "      <td>45408</td>\n",
       "      <td>201924</td>\n",
       "      <td>[-0.002513427985832095, 0.0020578622352331877,...</td>\n",
       "      <td>2</td>\n",
       "      <td>2.0</td>\n",
       "      <td>5.0</td>\n",
       "      <td>0.088164</td>\n",
       "    </tr>\n",
       "    <tr>\n",
       "      <td>45409</td>\n",
       "      <td>201924</td>\n",
       "      <td>[0.0025853770785033703, 0.00038733662222512066...</td>\n",
       "      <td>2</td>\n",
       "      <td>2.0</td>\n",
       "      <td>5.0</td>\n",
       "      <td>0.088164</td>\n",
       "    </tr>\n",
       "    <tr>\n",
       "      <td>45410</td>\n",
       "      <td>201924</td>\n",
       "      <td>[0.002720627700909972, 0.000777204055339098, -...</td>\n",
       "      <td>2</td>\n",
       "      <td>2.0</td>\n",
       "      <td>5.0</td>\n",
       "      <td>0.088164</td>\n",
       "    </tr>\n",
       "  </tbody>\n",
       "</table>\n",
       "<p>45411 rows × 6 columns</p>\n",
       "</div>"
      ],
      "text/plain": [
       "       period                                           raw_data  closer#  \\\n",
       "0      202011  [0.008278771303594112, -0.019323358312249184, ...        2   \n",
       "1      202011  [-0.0017453839536756277, -0.005309186410158873...        2   \n",
       "2      202011  [0.12349174171686172, -0.4359639585018158, -0....        2   \n",
       "3      202011  [0.006030668970197439, -0.02718167193233967, -...        2   \n",
       "4      202011  [0.014498122036457062, -0.04683591052889824, -...        2   \n",
       "...       ...                                                ...      ...   \n",
       "45406  201924  [-0.0007523947861045599, -0.003918581642210483...        2   \n",
       "45407  201924  [-0.0038386916276067495, 0.001768233603797853,...        2   \n",
       "45408  201924  [-0.002513427985832095, 0.0020578622352331877,...        2   \n",
       "45409  201924  [0.0025853770785033703, 0.00038733662222512066...        2   \n",
       "45410  201924  [0.002720627700909972, 0.000777204055339098, -...        2   \n",
       "\n",
       "       category  label  Silhouette  \n",
       "0           2.0    6.0    0.696935  \n",
       "1           2.0    6.0    0.696935  \n",
       "2           2.0   11.0    0.696935  \n",
       "3           2.0    1.0    0.696935  \n",
       "4           2.0    1.0    0.696935  \n",
       "...         ...    ...         ...  \n",
       "45406       2.0    5.0    0.088164  \n",
       "45407       2.0    5.0    0.088164  \n",
       "45408       2.0    5.0    0.088164  \n",
       "45409       2.0    5.0    0.088164  \n",
       "45410       2.0    5.0    0.088164  \n",
       "\n",
       "[45411 rows x 6 columns]"
      ]
     },
     "execution_count": 84,
     "metadata": {},
     "output_type": "execute_result"
    }
   ],
   "source": [
    "x_data_df"
   ]
  },
  {
   "cell_type": "code",
   "execution_count": 85,
   "metadata": {},
   "outputs": [],
   "source": [
    "#x_data_df = data_train[['period','raw_data','closer#','category','label','Silhouette']]\n",
    "y_data_df = data_train['result']"
   ]
  },
  {
   "cell_type": "code",
   "execution_count": 86,
   "metadata": {},
   "outputs": [
    {
     "name": "stdout",
     "output_type": "stream",
     "text": [
      "45411\n"
     ]
    },
    {
     "name": "stderr",
     "output_type": "stream",
     "text": [
      "/Users/hongminpyo/opt/anaconda3/lib/python3.7/site-packages/ipykernel_launcher.py:1: SettingWithCopyWarning: \n",
      "A value is trying to be set on a copy of a slice from a DataFrame.\n",
      "Try using .loc[row_indexer,col_indexer] = value instead\n",
      "\n",
      "See the caveats in the documentation: http://pandas.pydata.org/pandas-docs/stable/user_guide/indexing.html#returning-a-view-versus-a-copy\n",
      "  \"\"\"Entry point for launching an IPython kernel.\n"
     ]
    }
   ],
   "source": [
    "x_data_df['raw_data'] = x_data_df['raw_data'].apply(lambda x: x[1:len(x)-1].split(','))\n",
    "print(len(x_data_df)) "
   ]
  },
  {
   "cell_type": "code",
   "execution_count": 87,
   "metadata": {},
   "outputs": [
    {
     "name": "stderr",
     "output_type": "stream",
     "text": [
      "/Users/hongminpyo/opt/anaconda3/lib/python3.7/site-packages/ipykernel_launcher.py:1: SettingWithCopyWarning: \n",
      "A value is trying to be set on a copy of a slice from a DataFrame.\n",
      "Try using .loc[row_indexer,col_indexer] = value instead\n",
      "\n",
      "See the caveats in the documentation: http://pandas.pydata.org/pandas-docs/stable/user_guide/indexing.html#returning-a-view-versus-a-copy\n",
      "  \"\"\"Entry point for launching an IPython kernel.\n",
      "/Users/hongminpyo/opt/anaconda3/lib/python3.7/site-packages/ipykernel_launcher.py:2: SettingWithCopyWarning: \n",
      "A value is trying to be set on a copy of a slice from a DataFrame.\n",
      "Try using .loc[row_indexer,col_indexer] = value instead\n",
      "\n",
      "See the caveats in the documentation: http://pandas.pydata.org/pandas-docs/stable/user_guide/indexing.html#returning-a-view-versus-a-copy\n",
      "  \n"
     ]
    }
   ],
   "source": [
    "x_data_df['category'] = x_data_df['category'].fillna(2)\n",
    "x_data_df['Silhouette'] = x_data_df['Silhouette'].fillna(0.009903253)"
   ]
  },
  {
   "cell_type": "code",
   "execution_count": 88,
   "metadata": {},
   "outputs": [],
   "source": [
    "# raw_data_list1 = [float(i.replace(\" \",\"\")) for i in raw_data_list]\n",
    "# len(raw_data_list1)\n",
    "\n",
    "tempFrame = pd.DataFrame(columns = header )"
   ]
  },
  {
   "cell_type": "code",
   "execution_count": 89,
   "metadata": {},
   "outputs": [
    {
     "data": {
      "text/html": [
       "<div>\n",
       "<style scoped>\n",
       "    .dataframe tbody tr th:only-of-type {\n",
       "        vertical-align: middle;\n",
       "    }\n",
       "\n",
       "    .dataframe tbody tr th {\n",
       "        vertical-align: top;\n",
       "    }\n",
       "\n",
       "    .dataframe thead th {\n",
       "        text-align: right;\n",
       "    }\n",
       "</style>\n",
       "<table border=\"1\" class=\"dataframe\">\n",
       "  <thead>\n",
       "    <tr style=\"text-align: right;\">\n",
       "      <th></th>\n",
       "      <th>C1</th>\n",
       "      <th>C2</th>\n",
       "      <th>C3</th>\n",
       "      <th>C4</th>\n",
       "      <th>C5</th>\n",
       "      <th>C6</th>\n",
       "      <th>C7</th>\n",
       "      <th>C8</th>\n",
       "      <th>C9</th>\n",
       "      <th>C10</th>\n",
       "      <th>...</th>\n",
       "      <th>C91</th>\n",
       "      <th>C92</th>\n",
       "      <th>C93</th>\n",
       "      <th>C94</th>\n",
       "      <th>C95</th>\n",
       "      <th>C96</th>\n",
       "      <th>C97</th>\n",
       "      <th>C98</th>\n",
       "      <th>C99</th>\n",
       "      <th>C100</th>\n",
       "    </tr>\n",
       "  </thead>\n",
       "  <tbody>\n",
       "  </tbody>\n",
       "</table>\n",
       "<p>0 rows × 100 columns</p>\n",
       "</div>"
      ],
      "text/plain": [
       "Empty DataFrame\n",
       "Columns: [C1, C2, C3, C4, C5, C6, C7, C8, C9, C10, C11, C12, C13, C14, C15, C16, C17, C18, C19, C20, C21, C22, C23, C24, C25, C26, C27, C28, C29, C30, C31, C32, C33, C34, C35, C36, C37, C38, C39, C40, C41, C42, C43, C44, C45, C46, C47, C48, C49, C50, C51, C52, C53, C54, C55, C56, C57, C58, C59, C60, C61, C62, C63, C64, C65, C66, C67, C68, C69, C70, C71, C72, C73, C74, C75, C76, C77, C78, C79, C80, C81, C82, C83, C84, C85, C86, C87, C88, C89, C90, C91, C92, C93, C94, C95, C96, C97, C98, C99, C100]\n",
       "Index: []\n",
       "\n",
       "[0 rows x 100 columns]"
      ]
     },
     "execution_count": 89,
     "metadata": {},
     "output_type": "execute_result"
    }
   ],
   "source": [
    "tempFrame"
   ]
  },
  {
   "cell_type": "code",
   "execution_count": 90,
   "metadata": {},
   "outputs": [
    {
     "name": "stdout",
     "output_type": "stream",
     "text": [
      "0\n",
      "1000\n",
      "2000\n",
      "3000\n",
      "4000\n",
      "5000\n",
      "6000\n",
      "7000\n",
      "8000\n",
      "9000\n",
      "10000\n",
      "11000\n",
      "12000\n",
      "13000\n",
      "14000\n",
      "15000\n",
      "16000\n",
      "17000\n",
      "18000\n",
      "19000\n",
      "20000\n",
      "21000\n",
      "22000\n",
      "23000\n",
      "24000\n",
      "25000\n",
      "26000\n",
      "27000\n",
      "28000\n",
      "29000\n",
      "30000\n",
      "31000\n",
      "32000\n",
      "33000\n",
      "34000\n",
      "35000\n",
      "36000\n",
      "37000\n",
      "38000\n",
      "39000\n",
      "40000\n",
      "41000\n",
      "42000\n",
      "43000\n",
      "44000\n",
      "45000\n"
     ]
    }
   ],
   "source": [
    "for index,row in x_data_df.iterrows() :\n",
    "\n",
    "    raw_data_list = [float(i.replace(\" \",\"\")) for i in row['raw_data']]\n",
    "    \n",
    "    \n",
    "    tempSeries = pd.Series(raw_data_list , index = header)\n",
    "    \n",
    "    tempFrame = tempFrame.append(tempSeries , ignore_index=True)\n",
    "    \n",
    "    if( (index%1000)==0 ) :\n",
    "        print(index)\n",
    "    "
   ]
  },
  {
   "cell_type": "code",
   "execution_count": 91,
   "metadata": {},
   "outputs": [
    {
     "data": {
      "text/html": [
       "<div>\n",
       "<style scoped>\n",
       "    .dataframe tbody tr th:only-of-type {\n",
       "        vertical-align: middle;\n",
       "    }\n",
       "\n",
       "    .dataframe tbody tr th {\n",
       "        vertical-align: top;\n",
       "    }\n",
       "\n",
       "    .dataframe thead th {\n",
       "        text-align: right;\n",
       "    }\n",
       "</style>\n",
       "<table border=\"1\" class=\"dataframe\">\n",
       "  <thead>\n",
       "    <tr style=\"text-align: right;\">\n",
       "      <th></th>\n",
       "      <th>C1</th>\n",
       "      <th>C2</th>\n",
       "      <th>C3</th>\n",
       "      <th>C4</th>\n",
       "      <th>C5</th>\n",
       "      <th>C6</th>\n",
       "      <th>C7</th>\n",
       "      <th>C8</th>\n",
       "      <th>C9</th>\n",
       "      <th>C10</th>\n",
       "      <th>...</th>\n",
       "      <th>C91</th>\n",
       "      <th>C92</th>\n",
       "      <th>C93</th>\n",
       "      <th>C94</th>\n",
       "      <th>C95</th>\n",
       "      <th>C96</th>\n",
       "      <th>C97</th>\n",
       "      <th>C98</th>\n",
       "      <th>C99</th>\n",
       "      <th>C100</th>\n",
       "    </tr>\n",
       "  </thead>\n",
       "  <tbody>\n",
       "    <tr>\n",
       "      <td>0</td>\n",
       "      <td>0.008279</td>\n",
       "      <td>-0.019323</td>\n",
       "      <td>-0.024759</td>\n",
       "      <td>0.015607</td>\n",
       "      <td>0.018987</td>\n",
       "      <td>0.012409</td>\n",
       "      <td>0.001278</td>\n",
       "      <td>-0.009069</td>\n",
       "      <td>-0.006546</td>\n",
       "      <td>-0.007690</td>\n",
       "      <td>...</td>\n",
       "      <td>0.006612</td>\n",
       "      <td>0.007914</td>\n",
       "      <td>-0.015864</td>\n",
       "      <td>-0.010062</td>\n",
       "      <td>-0.005607</td>\n",
       "      <td>0.004446</td>\n",
       "      <td>0.013952</td>\n",
       "      <td>0.019387</td>\n",
       "      <td>0.007268</td>\n",
       "      <td>0.013787</td>\n",
       "    </tr>\n",
       "    <tr>\n",
       "      <td>1</td>\n",
       "      <td>-0.001745</td>\n",
       "      <td>-0.005309</td>\n",
       "      <td>-0.005578</td>\n",
       "      <td>0.000604</td>\n",
       "      <td>0.007048</td>\n",
       "      <td>-0.000653</td>\n",
       "      <td>0.001865</td>\n",
       "      <td>0.000745</td>\n",
       "      <td>-0.003253</td>\n",
       "      <td>-0.005374</td>\n",
       "      <td>...</td>\n",
       "      <td>0.005414</td>\n",
       "      <td>0.005048</td>\n",
       "      <td>0.002546</td>\n",
       "      <td>-0.000651</td>\n",
       "      <td>-0.001756</td>\n",
       "      <td>0.003051</td>\n",
       "      <td>-0.002597</td>\n",
       "      <td>0.006880</td>\n",
       "      <td>0.005124</td>\n",
       "      <td>-0.002551</td>\n",
       "    </tr>\n",
       "    <tr>\n",
       "      <td>2</td>\n",
       "      <td>0.123492</td>\n",
       "      <td>-0.435964</td>\n",
       "      <td>-0.683755</td>\n",
       "      <td>0.354296</td>\n",
       "      <td>0.503765</td>\n",
       "      <td>0.250730</td>\n",
       "      <td>-0.040622</td>\n",
       "      <td>-0.134782</td>\n",
       "      <td>-0.198846</td>\n",
       "      <td>-0.145596</td>\n",
       "      <td>...</td>\n",
       "      <td>0.294291</td>\n",
       "      <td>0.144933</td>\n",
       "      <td>-0.437745</td>\n",
       "      <td>-0.224505</td>\n",
       "      <td>-0.257553</td>\n",
       "      <td>0.136538</td>\n",
       "      <td>0.468998</td>\n",
       "      <td>0.630512</td>\n",
       "      <td>0.068127</td>\n",
       "      <td>0.296438</td>\n",
       "    </tr>\n",
       "    <tr>\n",
       "      <td>3</td>\n",
       "      <td>0.006031</td>\n",
       "      <td>-0.027182</td>\n",
       "      <td>-0.043770</td>\n",
       "      <td>0.024795</td>\n",
       "      <td>0.031406</td>\n",
       "      <td>0.019628</td>\n",
       "      <td>-0.004359</td>\n",
       "      <td>-0.006815</td>\n",
       "      <td>-0.009566</td>\n",
       "      <td>-0.009410</td>\n",
       "      <td>...</td>\n",
       "      <td>0.017926</td>\n",
       "      <td>0.005632</td>\n",
       "      <td>-0.028526</td>\n",
       "      <td>-0.010263</td>\n",
       "      <td>-0.012663</td>\n",
       "      <td>0.012327</td>\n",
       "      <td>0.028295</td>\n",
       "      <td>0.039753</td>\n",
       "      <td>0.000870</td>\n",
       "      <td>0.022822</td>\n",
       "    </tr>\n",
       "    <tr>\n",
       "      <td>4</td>\n",
       "      <td>0.014498</td>\n",
       "      <td>-0.046836</td>\n",
       "      <td>-0.078903</td>\n",
       "      <td>0.038485</td>\n",
       "      <td>0.056210</td>\n",
       "      <td>0.027119</td>\n",
       "      <td>-0.003704</td>\n",
       "      <td>-0.017322</td>\n",
       "      <td>-0.019097</td>\n",
       "      <td>-0.020541</td>\n",
       "      <td>...</td>\n",
       "      <td>0.028553</td>\n",
       "      <td>0.015920</td>\n",
       "      <td>-0.044935</td>\n",
       "      <td>-0.021942</td>\n",
       "      <td>-0.027614</td>\n",
       "      <td>0.016719</td>\n",
       "      <td>0.051703</td>\n",
       "      <td>0.065338</td>\n",
       "      <td>0.008258</td>\n",
       "      <td>0.029488</td>\n",
       "    </tr>\n",
       "    <tr>\n",
       "      <td>...</td>\n",
       "      <td>...</td>\n",
       "      <td>...</td>\n",
       "      <td>...</td>\n",
       "      <td>...</td>\n",
       "      <td>...</td>\n",
       "      <td>...</td>\n",
       "      <td>...</td>\n",
       "      <td>...</td>\n",
       "      <td>...</td>\n",
       "      <td>...</td>\n",
       "      <td>...</td>\n",
       "      <td>...</td>\n",
       "      <td>...</td>\n",
       "      <td>...</td>\n",
       "      <td>...</td>\n",
       "      <td>...</td>\n",
       "      <td>...</td>\n",
       "      <td>...</td>\n",
       "      <td>...</td>\n",
       "      <td>...</td>\n",
       "      <td>...</td>\n",
       "    </tr>\n",
       "    <tr>\n",
       "      <td>45406</td>\n",
       "      <td>-0.000752</td>\n",
       "      <td>-0.003919</td>\n",
       "      <td>0.000377</td>\n",
       "      <td>-0.002208</td>\n",
       "      <td>-0.003545</td>\n",
       "      <td>-0.001475</td>\n",
       "      <td>-0.004574</td>\n",
       "      <td>0.003389</td>\n",
       "      <td>-0.004141</td>\n",
       "      <td>0.002684</td>\n",
       "      <td>...</td>\n",
       "      <td>-0.003042</td>\n",
       "      <td>-0.002576</td>\n",
       "      <td>-0.002572</td>\n",
       "      <td>0.001242</td>\n",
       "      <td>-0.001118</td>\n",
       "      <td>-0.000450</td>\n",
       "      <td>0.005139</td>\n",
       "      <td>0.003105</td>\n",
       "      <td>-0.000300</td>\n",
       "      <td>-0.001993</td>\n",
       "    </tr>\n",
       "    <tr>\n",
       "      <td>45407</td>\n",
       "      <td>-0.003839</td>\n",
       "      <td>0.001768</td>\n",
       "      <td>0.004457</td>\n",
       "      <td>-0.001716</td>\n",
       "      <td>0.002265</td>\n",
       "      <td>0.000042</td>\n",
       "      <td>-0.004263</td>\n",
       "      <td>0.002849</td>\n",
       "      <td>-0.001915</td>\n",
       "      <td>0.001510</td>\n",
       "      <td>...</td>\n",
       "      <td>0.000937</td>\n",
       "      <td>0.004535</td>\n",
       "      <td>0.002182</td>\n",
       "      <td>0.001893</td>\n",
       "      <td>0.005020</td>\n",
       "      <td>-0.003419</td>\n",
       "      <td>-0.001777</td>\n",
       "      <td>-0.000239</td>\n",
       "      <td>0.003254</td>\n",
       "      <td>-0.004163</td>\n",
       "    </tr>\n",
       "    <tr>\n",
       "      <td>45408</td>\n",
       "      <td>-0.002513</td>\n",
       "      <td>0.002058</td>\n",
       "      <td>0.000556</td>\n",
       "      <td>0.000798</td>\n",
       "      <td>-0.001823</td>\n",
       "      <td>-0.001557</td>\n",
       "      <td>-0.001208</td>\n",
       "      <td>0.003184</td>\n",
       "      <td>-0.000437</td>\n",
       "      <td>-0.002195</td>\n",
       "      <td>...</td>\n",
       "      <td>-0.003965</td>\n",
       "      <td>0.002966</td>\n",
       "      <td>0.003497</td>\n",
       "      <td>-0.000482</td>\n",
       "      <td>-0.002932</td>\n",
       "      <td>-0.000199</td>\n",
       "      <td>-0.001598</td>\n",
       "      <td>0.000969</td>\n",
       "      <td>0.002511</td>\n",
       "      <td>-0.002169</td>\n",
       "    </tr>\n",
       "    <tr>\n",
       "      <td>45409</td>\n",
       "      <td>0.002585</td>\n",
       "      <td>0.000387</td>\n",
       "      <td>-0.003202</td>\n",
       "      <td>-0.004831</td>\n",
       "      <td>0.002981</td>\n",
       "      <td>-0.000449</td>\n",
       "      <td>-0.001696</td>\n",
       "      <td>-0.001006</td>\n",
       "      <td>-0.002312</td>\n",
       "      <td>-0.004155</td>\n",
       "      <td>...</td>\n",
       "      <td>0.005171</td>\n",
       "      <td>-0.001892</td>\n",
       "      <td>-0.001833</td>\n",
       "      <td>0.001843</td>\n",
       "      <td>-0.000772</td>\n",
       "      <td>0.002378</td>\n",
       "      <td>0.000025</td>\n",
       "      <td>-0.004056</td>\n",
       "      <td>-0.004636</td>\n",
       "      <td>-0.000387</td>\n",
       "    </tr>\n",
       "    <tr>\n",
       "      <td>45410</td>\n",
       "      <td>0.002721</td>\n",
       "      <td>0.000777</td>\n",
       "      <td>-0.002579</td>\n",
       "      <td>0.002086</td>\n",
       "      <td>0.002176</td>\n",
       "      <td>-0.003935</td>\n",
       "      <td>-0.004283</td>\n",
       "      <td>0.000587</td>\n",
       "      <td>0.000411</td>\n",
       "      <td>0.003141</td>\n",
       "      <td>...</td>\n",
       "      <td>-0.000704</td>\n",
       "      <td>-0.001906</td>\n",
       "      <td>0.004763</td>\n",
       "      <td>0.001962</td>\n",
       "      <td>-0.001718</td>\n",
       "      <td>-0.005110</td>\n",
       "      <td>-0.003943</td>\n",
       "      <td>0.004986</td>\n",
       "      <td>0.003526</td>\n",
       "      <td>0.001373</td>\n",
       "    </tr>\n",
       "  </tbody>\n",
       "</table>\n",
       "<p>45411 rows × 100 columns</p>\n",
       "</div>"
      ],
      "text/plain": [
       "             C1        C2        C3        C4        C5        C6        C7  \\\n",
       "0      0.008279 -0.019323 -0.024759  0.015607  0.018987  0.012409  0.001278   \n",
       "1     -0.001745 -0.005309 -0.005578  0.000604  0.007048 -0.000653  0.001865   \n",
       "2      0.123492 -0.435964 -0.683755  0.354296  0.503765  0.250730 -0.040622   \n",
       "3      0.006031 -0.027182 -0.043770  0.024795  0.031406  0.019628 -0.004359   \n",
       "4      0.014498 -0.046836 -0.078903  0.038485  0.056210  0.027119 -0.003704   \n",
       "...         ...       ...       ...       ...       ...       ...       ...   \n",
       "45406 -0.000752 -0.003919  0.000377 -0.002208 -0.003545 -0.001475 -0.004574   \n",
       "45407 -0.003839  0.001768  0.004457 -0.001716  0.002265  0.000042 -0.004263   \n",
       "45408 -0.002513  0.002058  0.000556  0.000798 -0.001823 -0.001557 -0.001208   \n",
       "45409  0.002585  0.000387 -0.003202 -0.004831  0.002981 -0.000449 -0.001696   \n",
       "45410  0.002721  0.000777 -0.002579  0.002086  0.002176 -0.003935 -0.004283   \n",
       "\n",
       "             C8        C9       C10  ...       C91       C92       C93  \\\n",
       "0     -0.009069 -0.006546 -0.007690  ...  0.006612  0.007914 -0.015864   \n",
       "1      0.000745 -0.003253 -0.005374  ...  0.005414  0.005048  0.002546   \n",
       "2     -0.134782 -0.198846 -0.145596  ...  0.294291  0.144933 -0.437745   \n",
       "3     -0.006815 -0.009566 -0.009410  ...  0.017926  0.005632 -0.028526   \n",
       "4     -0.017322 -0.019097 -0.020541  ...  0.028553  0.015920 -0.044935   \n",
       "...         ...       ...       ...  ...       ...       ...       ...   \n",
       "45406  0.003389 -0.004141  0.002684  ... -0.003042 -0.002576 -0.002572   \n",
       "45407  0.002849 -0.001915  0.001510  ...  0.000937  0.004535  0.002182   \n",
       "45408  0.003184 -0.000437 -0.002195  ... -0.003965  0.002966  0.003497   \n",
       "45409 -0.001006 -0.002312 -0.004155  ...  0.005171 -0.001892 -0.001833   \n",
       "45410  0.000587  0.000411  0.003141  ... -0.000704 -0.001906  0.004763   \n",
       "\n",
       "            C94       C95       C96       C97       C98       C99      C100  \n",
       "0     -0.010062 -0.005607  0.004446  0.013952  0.019387  0.007268  0.013787  \n",
       "1     -0.000651 -0.001756  0.003051 -0.002597  0.006880  0.005124 -0.002551  \n",
       "2     -0.224505 -0.257553  0.136538  0.468998  0.630512  0.068127  0.296438  \n",
       "3     -0.010263 -0.012663  0.012327  0.028295  0.039753  0.000870  0.022822  \n",
       "4     -0.021942 -0.027614  0.016719  0.051703  0.065338  0.008258  0.029488  \n",
       "...         ...       ...       ...       ...       ...       ...       ...  \n",
       "45406  0.001242 -0.001118 -0.000450  0.005139  0.003105 -0.000300 -0.001993  \n",
       "45407  0.001893  0.005020 -0.003419 -0.001777 -0.000239  0.003254 -0.004163  \n",
       "45408 -0.000482 -0.002932 -0.000199 -0.001598  0.000969  0.002511 -0.002169  \n",
       "45409  0.001843 -0.000772  0.002378  0.000025 -0.004056 -0.004636 -0.000387  \n",
       "45410  0.001962 -0.001718 -0.005110 -0.003943  0.004986  0.003526  0.001373  \n",
       "\n",
       "[45411 rows x 100 columns]"
      ]
     },
     "execution_count": 91,
     "metadata": {},
     "output_type": "execute_result"
    }
   ],
   "source": [
    "tempFrame"
   ]
  },
  {
   "cell_type": "code",
   "execution_count": 92,
   "metadata": {},
   "outputs": [],
   "source": [
    "x_data_df = pd.concat([x_data_df,tempFrame],axis=1,ignore_index=False)"
   ]
  },
  {
   "cell_type": "code",
   "execution_count": 104,
   "metadata": {},
   "outputs": [],
   "source": [
    "x_data_df = x_data_df.drop('raw_data',axis=1)\n",
    "#x_data_df['raw_data'] = x_data_df['raw_data'].apply(lambda x : np.mean(np.array([i for i in x],dtype=float)) )"
   ]
  },
  {
   "cell_type": "code",
   "execution_count": null,
   "metadata": {},
   "outputs": [],
   "source": []
  },
  {
   "cell_type": "code",
   "execution_count": 105,
   "metadata": {},
   "outputs": [],
   "source": [
    "X_train,X_test, y_train, y_test = train_test_split(x_data_df,y_data_df,test_size=0.2,random_state=11)"
   ]
  },
  {
   "cell_type": "code",
   "execution_count": 106,
   "metadata": {},
   "outputs": [],
   "source": [
    "rf_clf = RandomForestClassifier(random_state = 11 ,n_jobs=-1) # random forest"
   ]
  },
  {
   "cell_type": "code",
   "execution_count": 107,
   "metadata": {},
   "outputs": [
    {
     "name": "stderr",
     "output_type": "stream",
     "text": [
      "/Users/hongminpyo/opt/anaconda3/lib/python3.7/site-packages/sklearn/ensemble/forest.py:245: FutureWarning: The default value of n_estimators will change from 10 in version 0.20 to 100 in 0.22.\n",
      "  \"10 in version 0.20 to 100 in 0.22.\", FutureWarning)\n"
     ]
    },
    {
     "data": {
      "text/plain": [
       "RandomForestClassifier(bootstrap=True, class_weight=None, criterion='gini',\n",
       "                       max_depth=None, max_features='auto', max_leaf_nodes=None,\n",
       "                       min_impurity_decrease=0.0, min_impurity_split=None,\n",
       "                       min_samples_leaf=1, min_samples_split=2,\n",
       "                       min_weight_fraction_leaf=0.0, n_estimators=10, n_jobs=-1,\n",
       "                       oob_score=False, random_state=11, verbose=0,\n",
       "                       warm_start=False)"
      ]
     },
     "execution_count": 107,
     "metadata": {},
     "output_type": "execute_result"
    }
   ],
   "source": [
    "rf_clf.fit(X_train,y_train) "
   ]
  },
  {
   "cell_type": "code",
   "execution_count": 108,
   "metadata": {},
   "outputs": [],
   "source": [
    "rf_pred = rf_clf.predict(X_test)  # random forest predict"
   ]
  },
  {
   "cell_type": "code",
   "execution_count": 109,
   "metadata": {},
   "outputs": [
    {
     "name": "stdout",
     "output_type": "stream",
     "text": [
      "Random Forest Accuracy :   0.9998899042166685\n",
      "Random Forest Precision :   0.9998899300123065\n",
      "Random Forest Recall :   0.9998899042166685\n",
      "Random Forest f1 :   0.9998899035734472\n"
     ]
    },
    {
     "name": "stderr",
     "output_type": "stream",
     "text": [
      "/Users/hongminpyo/opt/anaconda3/lib/python3.7/site-packages/sklearn/metrics/classification.py:1259: UserWarning: Note that pos_label (set to 'positive') is ignored when average != 'binary' (got 'weighted'). You may use labels=[pos_label] to specify a single positive class.\n",
      "  % (pos_label, average), UserWarning)\n"
     ]
    }
   ],
   "source": [
    "print('Random Forest Accuracy :  ',accuracy_score(y_test,rf_pred))\n",
    "print('Random Forest Precision :  ',precision_score(y_test,rf_pred,pos_label='positive',average='weighted'))\n",
    "print('Random Forest Recall :  ',recall_score(y_test,rf_pred,pos_label='positive',average='weighted'))\n",
    "print('Random Forest f1 :  ',f1_score(y_test,rf_pred,pos_label='positive',average='weighted'))"
   ]
  },
  {
   "cell_type": "code",
   "execution_count": 110,
   "metadata": {},
   "outputs": [],
   "source": [
    "dt_clf = DecisionTreeClassifier(random_state = 11)\n",
    "dt_clf.fit(X_train,y_train)\n",
    "dt_pred = dt_clf.predict(X_test)"
   ]
  },
  {
   "cell_type": "code",
   "execution_count": 111,
   "metadata": {},
   "outputs": [
    {
     "name": "stdout",
     "output_type": "stream",
     "text": [
      "Decision Tree Accuracy :   1.0\n",
      "Decision Tree Precision :   1.0\n",
      "Decision Tree Recall :   1.0\n",
      "Decision Tree f1 :   1.0\n"
     ]
    },
    {
     "name": "stderr",
     "output_type": "stream",
     "text": [
      "/Users/hongminpyo/opt/anaconda3/lib/python3.7/site-packages/sklearn/metrics/classification.py:1259: UserWarning: Note that pos_label (set to 'positive') is ignored when average != 'binary' (got 'weighted'). You may use labels=[pos_label] to specify a single positive class.\n",
      "  % (pos_label, average), UserWarning)\n"
     ]
    }
   ],
   "source": [
    "print('Decision Tree Accuracy :  ',accuracy_score(y_test,dt_pred))\n",
    "print('Decision Tree Precision :  ',precision_score(y_test,dt_pred,pos_label='positive',average='weighted'))\n",
    "print('Decision Tree Recall :  ',recall_score(y_test,dt_pred,pos_label='positive',average='weighted'))\n",
    "print('Decision Tree f1 :  ',f1_score(y_test,dt_pred,pos_label='positive',average='weighted'))"
   ]
  },
  {
   "cell_type": "code",
   "execution_count": 112,
   "metadata": {},
   "outputs": [],
   "source": [
    "gb_clf = GradientBoostingClassifier(random_state = 11) # random forest"
   ]
  },
  {
   "cell_type": "code",
   "execution_count": 113,
   "metadata": {},
   "outputs": [],
   "source": [
    "gb_clf.fit(X_train,y_train)\n",
    "gb_pred = gb_clf.predict(X_test)"
   ]
  },
  {
   "cell_type": "code",
   "execution_count": 114,
   "metadata": {},
   "outputs": [
    {
     "name": "stdout",
     "output_type": "stream",
     "text": [
      "Gredient Boosting Accuracy :   1.0\n",
      "Gredient Boosting Precision :   1.0\n",
      "Gredient Boosting Recall :   1.0\n",
      "Gredient Boosting f1 :   1.0\n"
     ]
    },
    {
     "name": "stderr",
     "output_type": "stream",
     "text": [
      "/Users/hongminpyo/opt/anaconda3/lib/python3.7/site-packages/sklearn/metrics/classification.py:1259: UserWarning: Note that pos_label (set to 'positive') is ignored when average != 'binary' (got 'weighted'). You may use labels=[pos_label] to specify a single positive class.\n",
      "  % (pos_label, average), UserWarning)\n"
     ]
    }
   ],
   "source": [
    "print('Gredient Boosting Accuracy :  ',accuracy_score(y_test,gb_pred))\n",
    "print('Gredient Boosting Precision :  ',precision_score(y_test,gb_pred,pos_label='positive',average='weighted'))\n",
    "print('Gredient Boosting Recall :  ',recall_score(y_test,gb_pred,pos_label='positive',average='weighted'))\n",
    "print('Gredient Boosting f1 :  ',f1_score(y_test,gb_pred,pos_label='positive',average='weighted'))"
   ]
  },
  {
   "cell_type": "code",
   "execution_count": 115,
   "metadata": {},
   "outputs": [],
   "source": [
    "lr_clf = LogisticRegression(random_state = 11)"
   ]
  },
  {
   "cell_type": "code",
   "execution_count": 116,
   "metadata": {},
   "outputs": [
    {
     "name": "stderr",
     "output_type": "stream",
     "text": [
      "/Users/hongminpyo/opt/anaconda3/lib/python3.7/site-packages/sklearn/linear_model/logistic.py:432: FutureWarning: Default solver will be changed to 'lbfgs' in 0.22. Specify a solver to silence this warning.\n",
      "  FutureWarning)\n",
      "/Users/hongminpyo/opt/anaconda3/lib/python3.7/site-packages/sklearn/linear_model/logistic.py:469: FutureWarning: Default multi_class will be changed to 'auto' in 0.22. Specify the multi_class option to silence this warning.\n",
      "  \"this warning.\", FutureWarning)\n"
     ]
    }
   ],
   "source": [
    "lr_clf.fit(X_train,y_train)\n",
    "lr_pred = lr_clf.predict(X_test)"
   ]
  },
  {
   "cell_type": "code",
   "execution_count": 117,
   "metadata": {},
   "outputs": [
    {
     "name": "stdout",
     "output_type": "stream",
     "text": [
      "Logistic Regression Accuracy :   0.4697787074755037\n",
      "Logistic Regression  Precision :   0.22069203399735488\n",
      "Logistic Regression  Recall :   0.4697787074755037\n",
      "Logistic Regression  f1 :   0.3003064786214193\n"
     ]
    },
    {
     "name": "stderr",
     "output_type": "stream",
     "text": [
      "/Users/hongminpyo/opt/anaconda3/lib/python3.7/site-packages/sklearn/metrics/classification.py:1259: UserWarning: Note that pos_label (set to 'positive') is ignored when average != 'binary' (got 'weighted'). You may use labels=[pos_label] to specify a single positive class.\n",
      "  % (pos_label, average), UserWarning)\n",
      "/Users/hongminpyo/opt/anaconda3/lib/python3.7/site-packages/sklearn/metrics/classification.py:1437: UndefinedMetricWarning: Precision is ill-defined and being set to 0.0 in labels with no predicted samples.\n",
      "  'precision', 'predicted', average, warn_for)\n",
      "/Users/hongminpyo/opt/anaconda3/lib/python3.7/site-packages/sklearn/metrics/classification.py:1437: UndefinedMetricWarning: F-score is ill-defined and being set to 0.0 in labels with no predicted samples.\n",
      "  'precision', 'predicted', average, warn_for)\n"
     ]
    }
   ],
   "source": [
    "print('Logistic Regression Accuracy :  ',accuracy_score(y_test,lr_pred))\n",
    "print('Logistic Regression  Precision :  ',precision_score(y_test,lr_pred,pos_label='positive',average='weighted'))\n",
    "print('Logistic Regression  Recall :  ',recall_score(y_test,lr_pred,pos_label='positive',average='weighted'))\n",
    "print('Logistic Regression  f1 :  ',f1_score(y_test,lr_pred,pos_label='positive',average='weighted'))"
   ]
  },
  {
   "cell_type": "code",
   "execution_count": 119,
   "metadata": {},
   "outputs": [],
   "source": [
    "# x_data_df.to_csv(\"./testdata/en_news_analysis.csv\")\n",
    "data_df = pd.merge(x_data_df,y_data_df,left_index=True,right_index=True)"
   ]
  },
  {
   "cell_type": "code",
   "execution_count": 120,
   "metadata": {},
   "outputs": [],
   "source": [
    "data_df.to_csv(\"./data/ko_news_data_before_analysis.csv\")"
   ]
  }
 ],
 "metadata": {
  "kernelspec": {
   "display_name": "Python 3",
   "language": "python",
   "name": "python3"
  },
  "language_info": {
   "codemirror_mode": {
    "name": "ipython",
    "version": 3
   },
   "file_extension": ".py",
   "mimetype": "text/x-python",
   "name": "python",
   "nbconvert_exporter": "python",
   "pygments_lexer": "ipython3",
   "version": "3.7.4"
  },
  "pycharm": {
   "stem_cell": {
    "cell_type": "raw",
    "source": [],
    "metadata": {
     "collapsed": false
    }
   }
  }
 },
 "nbformat": 4,
 "nbformat_minor": 2
}
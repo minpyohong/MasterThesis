{
 "cells": [
  {
   "cell_type": "code",
   "execution_count": 1,
   "metadata": {
    "pycharm": {
     "name": "#%%\n"
    }
   },
   "outputs": [
    {
     "name": "stderr",
     "output_type": "stream",
     "text": [
      "/Users/hongminpyo/opt/anaconda3/lib/python3.7/site-packages/lightgbm/__init__.py:48: UserWarning: Starting from version 2.2.1, the library file in distribution wheels for macOS is built by the Apple Clang (Xcode_8.3.3) compiler.\n",
      "This means that in case of installing LightGBM from PyPI via the ``pip install lightgbm`` command, you don't need to install the gcc compiler anymore.\n",
      "Instead of that, you need to install the OpenMP library, which is required for running LightGBM on the system with the Apple Clang compiler.\n",
      "You can install the OpenMP library by the following command: ``brew install libomp``.\n",
      "  \"You can install the OpenMP library by the following command: ``brew install libomp``.\", UserWarning)\n"
     ]
    }
   ],
   "source": [
    "import re\n",
    "import math\n",
    "import numpy as np\n",
    "import pandas as pd\n",
    "from datetime import datetime\n",
    "from sklearn.preprocessing import StandardScaler\n",
    "from sklearn.model_selection import train_test_split\n",
    "from sklearn.tree import DecisionTreeClassifier\n",
    "from sklearn.ensemble import RandomForestClassifier\n",
    "from sklearn.ensemble import GradientBoostingClassifier\n",
    "from lightgbm import LGBMClassifier\n",
    "from sklearn.linear_model import LogisticRegression\n",
    "from sklearn.metrics import accuracy_score ,precision_score , recall_score , confusion_matrix , f1_score\n",
    "from sklearn.model_selection import GridSearchCV\n",
    "from ast import literal_eval\n",
    "from gensim.models.keyedvectors import KeyedVectors\n",
    "from sklearn.decomposition import PCA\n",
    "pca = PCA(n_components=40)\n",
    "from sklearn import datasets, metrics, model_selection\n",
    "import matplotlib.pyplot as plt\n",
    "from sklearn.metrics import roc_curve, auc\n",
    "from sklearn.metrics import roc_auc_score"
   ]
  },
  {
   "cell_type": "code",
   "execution_count": 2,
   "metadata": {
    "pycharm": {
     "name": "#%%\n"
    }
   },
   "outputs": [],
   "source": [
    "#data_train = pd.read_csv('./data/twitter_data_before_analysis.csv', error_bad_lines=False)\n",
    "data_train = pd.read_csv('./data/twitter_data_before_analysis1.csv', error_bad_lines=False)\n",
    "data_train = data_train.append(pd.read_csv('./data/ko_news_data_before_analysis.csv', error_bad_lines=False))\n",
    "data_train = data_train.append(pd.read_csv('./data/en_news_data_before_analysis.csv', error_bad_lines=False))"
   ]
  },
  {
   "cell_type": "code",
   "execution_count": 3,
   "metadata": {
    "pycharm": {
     "name": "#%%\n"
    }
   },
   "outputs": [],
   "source": [
    "data_train['period'] = pd.to_numeric(data_train['period'], errors='coerce')\n",
    "data_train['category'] = pd.to_numeric(data_train['category'], errors='coerce')\n",
    "data_train['label'] = pd.to_numeric(data_train['label'], errors='coerce')\n",
    "data_train['Silhouette'] = pd.to_numeric(data_train['Silhouette'], errors='coerce')"
   ]
  },
  {
   "cell_type": "code",
   "execution_count": 4,
   "metadata": {},
   "outputs": [
    {
     "name": "stdout",
     "output_type": "stream",
     "text": [
      "187533\n"
     ]
    }
   ],
   "source": [
    "print(len(data_train))"
   ]
  },
  {
   "cell_type": "code",
   "execution_count": 5,
   "metadata": {
    "pycharm": {
     "name": "#%%\n"
    }
   },
   "outputs": [],
   "source": [
    "X_train = data_train[data_train.columns.difference(['result'])]"
   ]
  },
  {
   "cell_type": "code",
   "execution_count": 6,
   "metadata": {
    "pycharm": {
     "name": "#%%\n"
    }
   },
   "outputs": [],
   "source": [
    "#x_data_df = data_train[['period','raw_data','closer#','category','label','Silhouette']]\n",
    "y_train = data_train['result']"
   ]
  },
  {
   "cell_type": "code",
   "execution_count": 7,
   "metadata": {
    "pycharm": {
     "name": "#%%\n"
    }
   },
   "outputs": [],
   "source": [
    "X_train = X_train.drop('Unnamed: 0', axis=1)"
   ]
  },
  {
   "cell_type": "code",
   "execution_count": 8,
   "metadata": {},
   "outputs": [],
   "source": [
    "eucl_data = pd.read_csv('../../analysis/cluster/causeanalysis/BTC/before_down_BTC0_euclidean.csv', error_bad_lines=False)\n",
    "eucl_data['closer#'] = 2 # cosine 1 , euclidean 2\n",
    "\n",
    "cosine_data = pd.read_csv('../../analysis/cluster/causeanalysis/BTC/before_down_BTC0_cosine.csv', error_bad_lines=False)\n",
    "cosine_data['closer#'] = 1 # cosine 1 , euclidean 2\n",
    "\n",
    "data_BTC0DB = eucl_data\n",
    "data_BTC0DB.append(cosine_data)\n",
    "\n",
    "data_BTC0DB['period'] = 201712 #  2017년 의 상반기 1 , 하반기 2 down 2, up 1"
   ]
  },
  {
   "cell_type": "code",
   "execution_count": 9,
   "metadata": {},
   "outputs": [],
   "source": [
    "eucl_data = pd.read_csv('../../analysis/cluster/causeanalysis/BTC/before_up_BTC0_euclidean.csv', error_bad_lines=False)\n",
    "eucl_data['closer#'] = 2 # cosine 1 , euclidean 2\n",
    "\n",
    "cosine_data = pd.read_csv('../../analysis/cluster/causeanalysis/BTC/before_up_BTC0_cosine.csv', error_bad_lines=False)\n",
    "cosine_data['closer#'] = 1 # cosine 1 , euclidean 2\n",
    "\n",
    "data_BTC0UB = eucl_data\n",
    "data_BTC0UB.append(cosine_data)\n",
    "\n",
    "data_BTC0UB['period'] = 201711 # 2017년의 상반기 01 , 하반기 02"
   ]
  },
  {
   "cell_type": "code",
   "execution_count": 10,
   "metadata": {},
   "outputs": [],
   "source": [
    "eucl_data = pd.read_csv('../../analysis/cluster/causeanalysis/BTC/before_down_BTC1_euclidean.csv', error_bad_lines=False)\n",
    "eucl_data['closer#'] = 2 # cosine 1 , euclidean 2\n",
    "\n",
    "cosine_data = pd.read_csv('../../analysis/cluster/causeanalysis/BTC/before_down_BTC1_cosine.csv', error_bad_lines=False)\n",
    "cosine_data['closer#'] = 1 # cosine 1 , euclidean 2\n",
    "\n",
    "data_BTC1DB = eucl_data\n",
    "data_BTC1DB.append(cosine_data)\n",
    "\n",
    "data_BTC1DB['period'] = 201722 #  2017년 의 상반기 1 , 하반기 2 down 2, up 1"
   ]
  },
  {
   "cell_type": "code",
   "execution_count": 11,
   "metadata": {},
   "outputs": [],
   "source": [
    "eucl_data = pd.read_csv('../../analysis/cluster/causeanalysis/BTC/before_up_BTC1_euclidean.csv', error_bad_lines=False)\n",
    "eucl_data['closer#'] = 2 # cosine 1 , euclidean 2\n",
    "\n",
    "cosine_data = pd.read_csv('../../analysis/cluster/causeanalysis/BTC/before_up_BTC1_cosine.csv', error_bad_lines=False)\n",
    "cosine_data['closer#'] = 1 # cosine 1 , euclidean 2\n",
    "\n",
    "data_BTC1UB = eucl_data\n",
    "data_BTC1UB.append(cosine_data)\n",
    "\n",
    "data_BTC1UB['period'] = 201721 # 2017년의 상반기 01 , 하반기 02"
   ]
  },
  {
   "cell_type": "code",
   "execution_count": 12,
   "metadata": {},
   "outputs": [],
   "source": [
    "eucl_data = pd.read_csv('../../analysis/cluster/causeanalysis/BTC/before_down_BTC3_euclidean.csv', error_bad_lines=False)\n",
    "eucl_data['closer#'] = 2 # cosine 1 , euclidean 2\n",
    "\n",
    "cosine_data = pd.read_csv('../../analysis/cluster/causeanalysis/BTC/before_down_BTC3_cosine.csv', error_bad_lines=False)\n",
    "cosine_data['closer#'] = 1 # cosine 1 , euclidean 2\n",
    "\n",
    "data_BTC3DB = eucl_data\n",
    "data_BTC3DB.append(cosine_data)\n",
    "\n",
    "data_BTC3DB['period'] = 201822 #  2017년 의 상반기 1 , 하반기 2 down 2, up 1"
   ]
  },
  {
   "cell_type": "code",
   "execution_count": 13,
   "metadata": {},
   "outputs": [],
   "source": [
    "eucl_data = pd.read_csv('../../analysis/cluster/causeanalysis/BTC/before_up_BTC3_euclidean.csv', error_bad_lines=False)\n",
    "eucl_data['closer#'] = 2 # cosine 1 , euclidean 2\n",
    "\n",
    "cosine_data = pd.read_csv('../../analysis/cluster/causeanalysis/BTC/before_up_BTC3_cosine.csv', error_bad_lines=False)\n",
    "cosine_data['closer#'] = 1 # cosine 1 , euclidean 2\n",
    "\n",
    "data_BTC3UB = eucl_data\n",
    "data_BTC3UB.append(cosine_data)\n",
    "\n",
    "data_BTC3UB['period'] = 201821 # 2017년의 상반기 01 , 하반기 02"
   ]
  },
  {
   "cell_type": "code",
   "execution_count": 14,
   "metadata": {},
   "outputs": [],
   "source": [
    "data_test = pd.concat([data_BTC0DB,data_BTC0UB,data_BTC1DB,data_BTC1UB,data_BTC3DB,data_BTC3UB],ignore_index=True)"
   ]
  },
  {
   "cell_type": "code",
   "execution_count": 15,
   "metadata": {
    "pycharm": {
     "name": "#%%\n"
    }
   },
   "outputs": [],
   "source": [
    "data_test['period'] = pd.to_numeric(data_test['period'], errors='coerce')\n",
    "data_test['category'] = pd.to_numeric(data_test['category'], errors='coerce')\n",
    "data_test['label'] = pd.to_numeric(data_test['label'], errors='coerce')\n",
    "data_test['Silhouette'] = pd.to_numeric(data_test['Silhouette'], errors='coerce')"
   ]
  },
  {
   "cell_type": "code",
   "execution_count": 16,
   "metadata": {},
   "outputs": [
    {
     "name": "stdout",
     "output_type": "stream",
     "text": [
      "67765\n"
     ]
    }
   ],
   "source": [
    "print(len(data_test))\n",
    "\n",
    "header = []\n",
    "for i in range(1,101) :\n",
    "    header.append('C'+str(i))"
   ]
  },
  {
   "cell_type": "code",
   "execution_count": 17,
   "metadata": {
    "pycharm": {
     "name": "#%%\n"
    }
   },
   "outputs": [],
   "source": [
    "X_test = data_test[['period','raw_data','closer#','category','label','Silhouette']]"
   ]
  },
  {
   "cell_type": "code",
   "execution_count": 18,
   "metadata": {
    "pycharm": {
     "name": "#%%\n"
    }
   },
   "outputs": [],
   "source": [
    "y_test = data_test['result']"
   ]
  },
  {
   "cell_type": "code",
   "execution_count": 19,
   "metadata": {},
   "outputs": [
    {
     "name": "stderr",
     "output_type": "stream",
     "text": [
      "/Users/hongminpyo/opt/anaconda3/lib/python3.7/site-packages/ipykernel_launcher.py:1: SettingWithCopyWarning: \n",
      "A value is trying to be set on a copy of a slice from a DataFrame.\n",
      "Try using .loc[row_indexer,col_indexer] = value instead\n",
      "\n",
      "See the caveats in the documentation: http://pandas.pydata.org/pandas-docs/stable/user_guide/indexing.html#returning-a-view-versus-a-copy\n",
      "  \"\"\"Entry point for launching an IPython kernel.\n"
     ]
    }
   ],
   "source": [
    "X_test['raw_data'] = X_test['raw_data'].apply(lambda x: x[1:len(x)-1].split(','))"
   ]
  },
  {
   "cell_type": "code",
   "execution_count": 20,
   "metadata": {},
   "outputs": [],
   "source": [
    "tempFrame = pd.DataFrame(columns = header )"
   ]
  },
  {
   "cell_type": "code",
   "execution_count": 21,
   "metadata": {},
   "outputs": [
    {
     "name": "stdout",
     "output_type": "stream",
     "text": [
      "0\n",
      "1000\n",
      "2000\n",
      "3000\n",
      "4000\n",
      "5000\n",
      "6000\n",
      "7000\n",
      "8000\n",
      "9000\n",
      "10000\n",
      "11000\n",
      "12000\n",
      "13000\n",
      "14000\n",
      "15000\n",
      "16000\n",
      "17000\n",
      "18000\n",
      "19000\n",
      "20000\n",
      "21000\n",
      "22000\n",
      "23000\n",
      "24000\n",
      "25000\n",
      "26000\n",
      "27000\n",
      "28000\n",
      "29000\n",
      "30000\n",
      "31000\n",
      "32000\n",
      "33000\n",
      "34000\n",
      "35000\n",
      "36000\n",
      "37000\n",
      "38000\n",
      "39000\n",
      "40000\n",
      "41000\n",
      "42000\n",
      "43000\n",
      "44000\n",
      "45000\n",
      "46000\n",
      "47000\n",
      "48000\n",
      "49000\n",
      "50000\n",
      "51000\n",
      "52000\n",
      "53000\n",
      "54000\n",
      "55000\n",
      "56000\n",
      "57000\n",
      "58000\n",
      "59000\n",
      "60000\n",
      "61000\n",
      "62000\n",
      "63000\n",
      "64000\n",
      "65000\n",
      "66000\n",
      "67000\n"
     ]
    }
   ],
   "source": [
    "for index,row in X_test.iterrows() :\n",
    "\n",
    "    raw_data_list = [float(i.replace(\" \",\"\")) for i in row['raw_data']]\n",
    "    \n",
    "    \n",
    "    tempSeries = pd.Series(raw_data_list , index = header)\n",
    "    \n",
    "    tempFrame = tempFrame.append(tempSeries , ignore_index=True)\n",
    "    \n",
    "    if( (index%1000)==0 ) :\n",
    "        print(index)"
   ]
  },
  {
   "cell_type": "code",
   "execution_count": 22,
   "metadata": {},
   "outputs": [
    {
     "data": {
      "text/html": [
       "<div>\n",
       "<style scoped>\n",
       "    .dataframe tbody tr th:only-of-type {\n",
       "        vertical-align: middle;\n",
       "    }\n",
       "\n",
       "    .dataframe tbody tr th {\n",
       "        vertical-align: top;\n",
       "    }\n",
       "\n",
       "    .dataframe thead th {\n",
       "        text-align: right;\n",
       "    }\n",
       "</style>\n",
       "<table border=\"1\" class=\"dataframe\">\n",
       "  <thead>\n",
       "    <tr style=\"text-align: right;\">\n",
       "      <th></th>\n",
       "      <th>C1</th>\n",
       "      <th>C2</th>\n",
       "      <th>C3</th>\n",
       "      <th>C4</th>\n",
       "      <th>C5</th>\n",
       "      <th>C6</th>\n",
       "      <th>C7</th>\n",
       "      <th>C8</th>\n",
       "      <th>C9</th>\n",
       "      <th>C10</th>\n",
       "      <th>...</th>\n",
       "      <th>C91</th>\n",
       "      <th>C92</th>\n",
       "      <th>C93</th>\n",
       "      <th>C94</th>\n",
       "      <th>C95</th>\n",
       "      <th>C96</th>\n",
       "      <th>C97</th>\n",
       "      <th>C98</th>\n",
       "      <th>C99</th>\n",
       "      <th>C100</th>\n",
       "    </tr>\n",
       "  </thead>\n",
       "  <tbody>\n",
       "    <tr>\n",
       "      <td>0</td>\n",
       "      <td>0.193276</td>\n",
       "      <td>-0.704265</td>\n",
       "      <td>-0.058637</td>\n",
       "      <td>-0.526841</td>\n",
       "      <td>-0.093432</td>\n",
       "      <td>0.640591</td>\n",
       "      <td>0.530594</td>\n",
       "      <td>-0.231643</td>\n",
       "      <td>0.710645</td>\n",
       "      <td>0.354861</td>\n",
       "      <td>...</td>\n",
       "      <td>0.241372</td>\n",
       "      <td>-0.396862</td>\n",
       "      <td>-0.257912</td>\n",
       "      <td>-0.317559</td>\n",
       "      <td>-1.047442</td>\n",
       "      <td>1.066586</td>\n",
       "      <td>-0.492452</td>\n",
       "      <td>0.110801</td>\n",
       "      <td>1.513927</td>\n",
       "      <td>0.483434</td>\n",
       "    </tr>\n",
       "    <tr>\n",
       "      <td>1</td>\n",
       "      <td>0.053015</td>\n",
       "      <td>-0.168041</td>\n",
       "      <td>-0.046956</td>\n",
       "      <td>-0.195397</td>\n",
       "      <td>-0.033421</td>\n",
       "      <td>0.189001</td>\n",
       "      <td>0.173464</td>\n",
       "      <td>-0.048425</td>\n",
       "      <td>0.236529</td>\n",
       "      <td>0.145954</td>\n",
       "      <td>...</td>\n",
       "      <td>0.062879</td>\n",
       "      <td>-0.130606</td>\n",
       "      <td>-0.054467</td>\n",
       "      <td>-0.102093</td>\n",
       "      <td>-0.245267</td>\n",
       "      <td>0.345119</td>\n",
       "      <td>-0.146398</td>\n",
       "      <td>-0.047513</td>\n",
       "      <td>0.443642</td>\n",
       "      <td>0.169772</td>\n",
       "    </tr>\n",
       "    <tr>\n",
       "      <td>2</td>\n",
       "      <td>0.187034</td>\n",
       "      <td>-0.385396</td>\n",
       "      <td>-0.092749</td>\n",
       "      <td>-0.584313</td>\n",
       "      <td>-0.192518</td>\n",
       "      <td>0.383262</td>\n",
       "      <td>0.536007</td>\n",
       "      <td>-0.128646</td>\n",
       "      <td>0.693914</td>\n",
       "      <td>0.571300</td>\n",
       "      <td>...</td>\n",
       "      <td>0.217527</td>\n",
       "      <td>-0.527368</td>\n",
       "      <td>-0.258570</td>\n",
       "      <td>-0.153019</td>\n",
       "      <td>-0.487128</td>\n",
       "      <td>0.952153</td>\n",
       "      <td>-0.561850</td>\n",
       "      <td>-0.430627</td>\n",
       "      <td>0.990200</td>\n",
       "      <td>0.525449</td>\n",
       "    </tr>\n",
       "    <tr>\n",
       "      <td>3</td>\n",
       "      <td>0.006207</td>\n",
       "      <td>-0.004175</td>\n",
       "      <td>0.002687</td>\n",
       "      <td>-0.011512</td>\n",
       "      <td>0.002024</td>\n",
       "      <td>0.011322</td>\n",
       "      <td>0.011873</td>\n",
       "      <td>-0.003935</td>\n",
       "      <td>0.008462</td>\n",
       "      <td>0.006518</td>\n",
       "      <td>...</td>\n",
       "      <td>0.004809</td>\n",
       "      <td>-0.005366</td>\n",
       "      <td>-0.007392</td>\n",
       "      <td>0.001200</td>\n",
       "      <td>-0.010893</td>\n",
       "      <td>0.012300</td>\n",
       "      <td>-0.005470</td>\n",
       "      <td>0.000625</td>\n",
       "      <td>0.017307</td>\n",
       "      <td>0.006009</td>\n",
       "    </tr>\n",
       "    <tr>\n",
       "      <td>4</td>\n",
       "      <td>0.007514</td>\n",
       "      <td>-0.026640</td>\n",
       "      <td>-0.010339</td>\n",
       "      <td>-0.032414</td>\n",
       "      <td>-0.008747</td>\n",
       "      <td>0.030333</td>\n",
       "      <td>0.029958</td>\n",
       "      <td>-0.013449</td>\n",
       "      <td>0.038326</td>\n",
       "      <td>0.024106</td>\n",
       "      <td>...</td>\n",
       "      <td>0.009362</td>\n",
       "      <td>-0.024542</td>\n",
       "      <td>-0.008683</td>\n",
       "      <td>-0.013471</td>\n",
       "      <td>-0.038619</td>\n",
       "      <td>0.063352</td>\n",
       "      <td>-0.025889</td>\n",
       "      <td>-0.009849</td>\n",
       "      <td>0.080098</td>\n",
       "      <td>0.028550</td>\n",
       "    </tr>\n",
       "    <tr>\n",
       "      <td>...</td>\n",
       "      <td>...</td>\n",
       "      <td>...</td>\n",
       "      <td>...</td>\n",
       "      <td>...</td>\n",
       "      <td>...</td>\n",
       "      <td>...</td>\n",
       "      <td>...</td>\n",
       "      <td>...</td>\n",
       "      <td>...</td>\n",
       "      <td>...</td>\n",
       "      <td>...</td>\n",
       "      <td>...</td>\n",
       "      <td>...</td>\n",
       "      <td>...</td>\n",
       "      <td>...</td>\n",
       "      <td>...</td>\n",
       "      <td>...</td>\n",
       "      <td>...</td>\n",
       "      <td>...</td>\n",
       "      <td>...</td>\n",
       "      <td>...</td>\n",
       "    </tr>\n",
       "    <tr>\n",
       "      <td>67760</td>\n",
       "      <td>-0.014014</td>\n",
       "      <td>0.021627</td>\n",
       "      <td>0.016127</td>\n",
       "      <td>0.008295</td>\n",
       "      <td>0.015609</td>\n",
       "      <td>-0.014095</td>\n",
       "      <td>0.029989</td>\n",
       "      <td>0.006034</td>\n",
       "      <td>0.010235</td>\n",
       "      <td>0.010937</td>\n",
       "      <td>...</td>\n",
       "      <td>-0.002857</td>\n",
       "      <td>0.006059</td>\n",
       "      <td>-0.010845</td>\n",
       "      <td>-0.000891</td>\n",
       "      <td>0.017134</td>\n",
       "      <td>0.013051</td>\n",
       "      <td>-0.019628</td>\n",
       "      <td>0.002326</td>\n",
       "      <td>-0.010531</td>\n",
       "      <td>0.001661</td>\n",
       "    </tr>\n",
       "    <tr>\n",
       "      <td>67761</td>\n",
       "      <td>-0.014876</td>\n",
       "      <td>0.028154</td>\n",
       "      <td>0.017737</td>\n",
       "      <td>0.004379</td>\n",
       "      <td>0.018459</td>\n",
       "      <td>-0.021002</td>\n",
       "      <td>0.030579</td>\n",
       "      <td>0.002764</td>\n",
       "      <td>0.009578</td>\n",
       "      <td>0.019444</td>\n",
       "      <td>...</td>\n",
       "      <td>-0.000552</td>\n",
       "      <td>0.004169</td>\n",
       "      <td>-0.012990</td>\n",
       "      <td>0.000361</td>\n",
       "      <td>0.022310</td>\n",
       "      <td>0.012821</td>\n",
       "      <td>-0.026994</td>\n",
       "      <td>0.001646</td>\n",
       "      <td>-0.005891</td>\n",
       "      <td>0.000023</td>\n",
       "    </tr>\n",
       "    <tr>\n",
       "      <td>67762</td>\n",
       "      <td>-0.017387</td>\n",
       "      <td>0.024935</td>\n",
       "      <td>0.015646</td>\n",
       "      <td>0.009288</td>\n",
       "      <td>0.029313</td>\n",
       "      <td>-0.020477</td>\n",
       "      <td>0.037860</td>\n",
       "      <td>0.004750</td>\n",
       "      <td>0.006998</td>\n",
       "      <td>0.022420</td>\n",
       "      <td>...</td>\n",
       "      <td>0.003880</td>\n",
       "      <td>0.000870</td>\n",
       "      <td>-0.019415</td>\n",
       "      <td>0.002093</td>\n",
       "      <td>0.023157</td>\n",
       "      <td>0.016014</td>\n",
       "      <td>-0.029438</td>\n",
       "      <td>0.001944</td>\n",
       "      <td>-0.008216</td>\n",
       "      <td>-0.006010</td>\n",
       "    </tr>\n",
       "    <tr>\n",
       "      <td>67763</td>\n",
       "      <td>-0.022239</td>\n",
       "      <td>0.027148</td>\n",
       "      <td>0.015270</td>\n",
       "      <td>0.007224</td>\n",
       "      <td>0.022871</td>\n",
       "      <td>-0.018405</td>\n",
       "      <td>0.034523</td>\n",
       "      <td>0.006758</td>\n",
       "      <td>0.012146</td>\n",
       "      <td>0.016828</td>\n",
       "      <td>...</td>\n",
       "      <td>0.003927</td>\n",
       "      <td>0.004405</td>\n",
       "      <td>-0.021505</td>\n",
       "      <td>0.007175</td>\n",
       "      <td>0.028821</td>\n",
       "      <td>0.014560</td>\n",
       "      <td>-0.027060</td>\n",
       "      <td>0.004125</td>\n",
       "      <td>-0.007462</td>\n",
       "      <td>-0.003877</td>\n",
       "    </tr>\n",
       "    <tr>\n",
       "      <td>67764</td>\n",
       "      <td>-0.004979</td>\n",
       "      <td>0.004534</td>\n",
       "      <td>0.008296</td>\n",
       "      <td>0.000975</td>\n",
       "      <td>0.003701</td>\n",
       "      <td>-0.005433</td>\n",
       "      <td>0.007634</td>\n",
       "      <td>0.001302</td>\n",
       "      <td>-0.000018</td>\n",
       "      <td>0.008159</td>\n",
       "      <td>...</td>\n",
       "      <td>0.006078</td>\n",
       "      <td>-0.001634</td>\n",
       "      <td>-0.007355</td>\n",
       "      <td>0.001234</td>\n",
       "      <td>0.001982</td>\n",
       "      <td>-0.001003</td>\n",
       "      <td>-0.003138</td>\n",
       "      <td>-0.002980</td>\n",
       "      <td>0.001237</td>\n",
       "      <td>-0.002532</td>\n",
       "    </tr>\n",
       "  </tbody>\n",
       "</table>\n",
       "<p>67765 rows × 100 columns</p>\n",
       "</div>"
      ],
      "text/plain": [
       "             C1        C2        C3        C4        C5        C6        C7  \\\n",
       "0      0.193276 -0.704265 -0.058637 -0.526841 -0.093432  0.640591  0.530594   \n",
       "1      0.053015 -0.168041 -0.046956 -0.195397 -0.033421  0.189001  0.173464   \n",
       "2      0.187034 -0.385396 -0.092749 -0.584313 -0.192518  0.383262  0.536007   \n",
       "3      0.006207 -0.004175  0.002687 -0.011512  0.002024  0.011322  0.011873   \n",
       "4      0.007514 -0.026640 -0.010339 -0.032414 -0.008747  0.030333  0.029958   \n",
       "...         ...       ...       ...       ...       ...       ...       ...   \n",
       "67760 -0.014014  0.021627  0.016127  0.008295  0.015609 -0.014095  0.029989   \n",
       "67761 -0.014876  0.028154  0.017737  0.004379  0.018459 -0.021002  0.030579   \n",
       "67762 -0.017387  0.024935  0.015646  0.009288  0.029313 -0.020477  0.037860   \n",
       "67763 -0.022239  0.027148  0.015270  0.007224  0.022871 -0.018405  0.034523   \n",
       "67764 -0.004979  0.004534  0.008296  0.000975  0.003701 -0.005433  0.007634   \n",
       "\n",
       "             C8        C9       C10  ...       C91       C92       C93  \\\n",
       "0     -0.231643  0.710645  0.354861  ...  0.241372 -0.396862 -0.257912   \n",
       "1     -0.048425  0.236529  0.145954  ...  0.062879 -0.130606 -0.054467   \n",
       "2     -0.128646  0.693914  0.571300  ...  0.217527 -0.527368 -0.258570   \n",
       "3     -0.003935  0.008462  0.006518  ...  0.004809 -0.005366 -0.007392   \n",
       "4     -0.013449  0.038326  0.024106  ...  0.009362 -0.024542 -0.008683   \n",
       "...         ...       ...       ...  ...       ...       ...       ...   \n",
       "67760  0.006034  0.010235  0.010937  ... -0.002857  0.006059 -0.010845   \n",
       "67761  0.002764  0.009578  0.019444  ... -0.000552  0.004169 -0.012990   \n",
       "67762  0.004750  0.006998  0.022420  ...  0.003880  0.000870 -0.019415   \n",
       "67763  0.006758  0.012146  0.016828  ...  0.003927  0.004405 -0.021505   \n",
       "67764  0.001302 -0.000018  0.008159  ...  0.006078 -0.001634 -0.007355   \n",
       "\n",
       "            C94       C95       C96       C97       C98       C99      C100  \n",
       "0     -0.317559 -1.047442  1.066586 -0.492452  0.110801  1.513927  0.483434  \n",
       "1     -0.102093 -0.245267  0.345119 -0.146398 -0.047513  0.443642  0.169772  \n",
       "2     -0.153019 -0.487128  0.952153 -0.561850 -0.430627  0.990200  0.525449  \n",
       "3      0.001200 -0.010893  0.012300 -0.005470  0.000625  0.017307  0.006009  \n",
       "4     -0.013471 -0.038619  0.063352 -0.025889 -0.009849  0.080098  0.028550  \n",
       "...         ...       ...       ...       ...       ...       ...       ...  \n",
       "67760 -0.000891  0.017134  0.013051 -0.019628  0.002326 -0.010531  0.001661  \n",
       "67761  0.000361  0.022310  0.012821 -0.026994  0.001646 -0.005891  0.000023  \n",
       "67762  0.002093  0.023157  0.016014 -0.029438  0.001944 -0.008216 -0.006010  \n",
       "67763  0.007175  0.028821  0.014560 -0.027060  0.004125 -0.007462 -0.003877  \n",
       "67764  0.001234  0.001982 -0.001003 -0.003138 -0.002980  0.001237 -0.002532  \n",
       "\n",
       "[67765 rows x 100 columns]"
      ]
     },
     "execution_count": 22,
     "metadata": {},
     "output_type": "execute_result"
    }
   ],
   "source": [
    "tempFrame"
   ]
  },
  {
   "cell_type": "code",
   "execution_count": 23,
   "metadata": {},
   "outputs": [],
   "source": [
    "X_test = pd.concat([tempFrame,X_test],axis=1,ignore_index=False)"
   ]
  },
  {
   "cell_type": "code",
   "execution_count": 24,
   "metadata": {
    "pycharm": {
     "name": "#%%\n"
    }
   },
   "outputs": [],
   "source": [
    "X_test = X_test.drop('raw_data', axis=1)"
   ]
  },
  {
   "cell_type": "code",
   "execution_count": 25,
   "metadata": {},
   "outputs": [
    {
     "data": {
      "text/html": [
       "<div>\n",
       "<style scoped>\n",
       "    .dataframe tbody tr th:only-of-type {\n",
       "        vertical-align: middle;\n",
       "    }\n",
       "\n",
       "    .dataframe tbody tr th {\n",
       "        vertical-align: top;\n",
       "    }\n",
       "\n",
       "    .dataframe thead th {\n",
       "        text-align: right;\n",
       "    }\n",
       "</style>\n",
       "<table border=\"1\" class=\"dataframe\">\n",
       "  <thead>\n",
       "    <tr style=\"text-align: right;\">\n",
       "      <th></th>\n",
       "      <th>C1</th>\n",
       "      <th>C2</th>\n",
       "      <th>C3</th>\n",
       "      <th>C4</th>\n",
       "      <th>C5</th>\n",
       "      <th>C6</th>\n",
       "      <th>C7</th>\n",
       "      <th>C8</th>\n",
       "      <th>C9</th>\n",
       "      <th>C10</th>\n",
       "      <th>...</th>\n",
       "      <th>C96</th>\n",
       "      <th>C97</th>\n",
       "      <th>C98</th>\n",
       "      <th>C99</th>\n",
       "      <th>C100</th>\n",
       "      <th>period</th>\n",
       "      <th>closer#</th>\n",
       "      <th>category</th>\n",
       "      <th>label</th>\n",
       "      <th>Silhouette</th>\n",
       "    </tr>\n",
       "  </thead>\n",
       "  <tbody>\n",
       "    <tr>\n",
       "      <td>0</td>\n",
       "      <td>0.193276</td>\n",
       "      <td>-0.704265</td>\n",
       "      <td>-0.058637</td>\n",
       "      <td>-0.526841</td>\n",
       "      <td>-0.093432</td>\n",
       "      <td>0.640591</td>\n",
       "      <td>0.530594</td>\n",
       "      <td>-0.231643</td>\n",
       "      <td>0.710645</td>\n",
       "      <td>0.354861</td>\n",
       "      <td>...</td>\n",
       "      <td>1.066586</td>\n",
       "      <td>-0.492452</td>\n",
       "      <td>0.110801</td>\n",
       "      <td>1.513927</td>\n",
       "      <td>0.483434</td>\n",
       "      <td>201712</td>\n",
       "      <td>2</td>\n",
       "      <td>3</td>\n",
       "      <td>13.0</td>\n",
       "      <td>0.769844</td>\n",
       "    </tr>\n",
       "    <tr>\n",
       "      <td>1</td>\n",
       "      <td>0.053015</td>\n",
       "      <td>-0.168041</td>\n",
       "      <td>-0.046956</td>\n",
       "      <td>-0.195397</td>\n",
       "      <td>-0.033421</td>\n",
       "      <td>0.189001</td>\n",
       "      <td>0.173464</td>\n",
       "      <td>-0.048425</td>\n",
       "      <td>0.236529</td>\n",
       "      <td>0.145954</td>\n",
       "      <td>...</td>\n",
       "      <td>0.345119</td>\n",
       "      <td>-0.146398</td>\n",
       "      <td>-0.047513</td>\n",
       "      <td>0.443642</td>\n",
       "      <td>0.169772</td>\n",
       "      <td>201712</td>\n",
       "      <td>2</td>\n",
       "      <td>3</td>\n",
       "      <td>7.0</td>\n",
       "      <td>0.769844</td>\n",
       "    </tr>\n",
       "    <tr>\n",
       "      <td>2</td>\n",
       "      <td>0.187034</td>\n",
       "      <td>-0.385396</td>\n",
       "      <td>-0.092749</td>\n",
       "      <td>-0.584313</td>\n",
       "      <td>-0.192518</td>\n",
       "      <td>0.383262</td>\n",
       "      <td>0.536007</td>\n",
       "      <td>-0.128646</td>\n",
       "      <td>0.693914</td>\n",
       "      <td>0.571300</td>\n",
       "      <td>...</td>\n",
       "      <td>0.952153</td>\n",
       "      <td>-0.561850</td>\n",
       "      <td>-0.430627</td>\n",
       "      <td>0.990200</td>\n",
       "      <td>0.525449</td>\n",
       "      <td>201712</td>\n",
       "      <td>2</td>\n",
       "      <td>3</td>\n",
       "      <td>11.0</td>\n",
       "      <td>0.769844</td>\n",
       "    </tr>\n",
       "    <tr>\n",
       "      <td>3</td>\n",
       "      <td>0.006207</td>\n",
       "      <td>-0.004175</td>\n",
       "      <td>0.002687</td>\n",
       "      <td>-0.011512</td>\n",
       "      <td>0.002024</td>\n",
       "      <td>0.011322</td>\n",
       "      <td>0.011873</td>\n",
       "      <td>-0.003935</td>\n",
       "      <td>0.008462</td>\n",
       "      <td>0.006518</td>\n",
       "      <td>...</td>\n",
       "      <td>0.012300</td>\n",
       "      <td>-0.005470</td>\n",
       "      <td>0.000625</td>\n",
       "      <td>0.017307</td>\n",
       "      <td>0.006009</td>\n",
       "      <td>201712</td>\n",
       "      <td>2</td>\n",
       "      <td>3</td>\n",
       "      <td>5.0</td>\n",
       "      <td>0.769844</td>\n",
       "    </tr>\n",
       "    <tr>\n",
       "      <td>4</td>\n",
       "      <td>0.007514</td>\n",
       "      <td>-0.026640</td>\n",
       "      <td>-0.010339</td>\n",
       "      <td>-0.032414</td>\n",
       "      <td>-0.008747</td>\n",
       "      <td>0.030333</td>\n",
       "      <td>0.029958</td>\n",
       "      <td>-0.013449</td>\n",
       "      <td>0.038326</td>\n",
       "      <td>0.024106</td>\n",
       "      <td>...</td>\n",
       "      <td>0.063352</td>\n",
       "      <td>-0.025889</td>\n",
       "      <td>-0.009849</td>\n",
       "      <td>0.080098</td>\n",
       "      <td>0.028550</td>\n",
       "      <td>201712</td>\n",
       "      <td>2</td>\n",
       "      <td>3</td>\n",
       "      <td>5.0</td>\n",
       "      <td>0.769844</td>\n",
       "    </tr>\n",
       "    <tr>\n",
       "      <td>...</td>\n",
       "      <td>...</td>\n",
       "      <td>...</td>\n",
       "      <td>...</td>\n",
       "      <td>...</td>\n",
       "      <td>...</td>\n",
       "      <td>...</td>\n",
       "      <td>...</td>\n",
       "      <td>...</td>\n",
       "      <td>...</td>\n",
       "      <td>...</td>\n",
       "      <td>...</td>\n",
       "      <td>...</td>\n",
       "      <td>...</td>\n",
       "      <td>...</td>\n",
       "      <td>...</td>\n",
       "      <td>...</td>\n",
       "      <td>...</td>\n",
       "      <td>...</td>\n",
       "      <td>...</td>\n",
       "      <td>...</td>\n",
       "      <td>...</td>\n",
       "    </tr>\n",
       "    <tr>\n",
       "      <td>67760</td>\n",
       "      <td>-0.014014</td>\n",
       "      <td>0.021627</td>\n",
       "      <td>0.016127</td>\n",
       "      <td>0.008295</td>\n",
       "      <td>0.015609</td>\n",
       "      <td>-0.014095</td>\n",
       "      <td>0.029989</td>\n",
       "      <td>0.006034</td>\n",
       "      <td>0.010235</td>\n",
       "      <td>0.010937</td>\n",
       "      <td>...</td>\n",
       "      <td>0.013051</td>\n",
       "      <td>-0.019628</td>\n",
       "      <td>0.002326</td>\n",
       "      <td>-0.010531</td>\n",
       "      <td>0.001661</td>\n",
       "      <td>201821</td>\n",
       "      <td>2</td>\n",
       "      <td>3</td>\n",
       "      <td>6.0</td>\n",
       "      <td>0.783332</td>\n",
       "    </tr>\n",
       "    <tr>\n",
       "      <td>67761</td>\n",
       "      <td>-0.014876</td>\n",
       "      <td>0.028154</td>\n",
       "      <td>0.017737</td>\n",
       "      <td>0.004379</td>\n",
       "      <td>0.018459</td>\n",
       "      <td>-0.021002</td>\n",
       "      <td>0.030579</td>\n",
       "      <td>0.002764</td>\n",
       "      <td>0.009578</td>\n",
       "      <td>0.019444</td>\n",
       "      <td>...</td>\n",
       "      <td>0.012821</td>\n",
       "      <td>-0.026994</td>\n",
       "      <td>0.001646</td>\n",
       "      <td>-0.005891</td>\n",
       "      <td>0.000023</td>\n",
       "      <td>201821</td>\n",
       "      <td>2</td>\n",
       "      <td>3</td>\n",
       "      <td>6.0</td>\n",
       "      <td>0.783332</td>\n",
       "    </tr>\n",
       "    <tr>\n",
       "      <td>67762</td>\n",
       "      <td>-0.017387</td>\n",
       "      <td>0.024935</td>\n",
       "      <td>0.015646</td>\n",
       "      <td>0.009288</td>\n",
       "      <td>0.029313</td>\n",
       "      <td>-0.020477</td>\n",
       "      <td>0.037860</td>\n",
       "      <td>0.004750</td>\n",
       "      <td>0.006998</td>\n",
       "      <td>0.022420</td>\n",
       "      <td>...</td>\n",
       "      <td>0.016014</td>\n",
       "      <td>-0.029438</td>\n",
       "      <td>0.001944</td>\n",
       "      <td>-0.008216</td>\n",
       "      <td>-0.006010</td>\n",
       "      <td>201821</td>\n",
       "      <td>2</td>\n",
       "      <td>3</td>\n",
       "      <td>6.0</td>\n",
       "      <td>0.783332</td>\n",
       "    </tr>\n",
       "    <tr>\n",
       "      <td>67763</td>\n",
       "      <td>-0.022239</td>\n",
       "      <td>0.027148</td>\n",
       "      <td>0.015270</td>\n",
       "      <td>0.007224</td>\n",
       "      <td>0.022871</td>\n",
       "      <td>-0.018405</td>\n",
       "      <td>0.034523</td>\n",
       "      <td>0.006758</td>\n",
       "      <td>0.012146</td>\n",
       "      <td>0.016828</td>\n",
       "      <td>...</td>\n",
       "      <td>0.014560</td>\n",
       "      <td>-0.027060</td>\n",
       "      <td>0.004125</td>\n",
       "      <td>-0.007462</td>\n",
       "      <td>-0.003877</td>\n",
       "      <td>201821</td>\n",
       "      <td>2</td>\n",
       "      <td>3</td>\n",
       "      <td>6.0</td>\n",
       "      <td>0.783332</td>\n",
       "    </tr>\n",
       "    <tr>\n",
       "      <td>67764</td>\n",
       "      <td>-0.004979</td>\n",
       "      <td>0.004534</td>\n",
       "      <td>0.008296</td>\n",
       "      <td>0.000975</td>\n",
       "      <td>0.003701</td>\n",
       "      <td>-0.005433</td>\n",
       "      <td>0.007634</td>\n",
       "      <td>0.001302</td>\n",
       "      <td>-0.000018</td>\n",
       "      <td>0.008159</td>\n",
       "      <td>...</td>\n",
       "      <td>-0.001003</td>\n",
       "      <td>-0.003138</td>\n",
       "      <td>-0.002980</td>\n",
       "      <td>0.001237</td>\n",
       "      <td>-0.002532</td>\n",
       "      <td>201821</td>\n",
       "      <td>2</td>\n",
       "      <td>3</td>\n",
       "      <td>6.0</td>\n",
       "      <td>0.783332</td>\n",
       "    </tr>\n",
       "  </tbody>\n",
       "</table>\n",
       "<p>67765 rows × 105 columns</p>\n",
       "</div>"
      ],
      "text/plain": [
       "             C1        C2        C3        C4        C5        C6        C7  \\\n",
       "0      0.193276 -0.704265 -0.058637 -0.526841 -0.093432  0.640591  0.530594   \n",
       "1      0.053015 -0.168041 -0.046956 -0.195397 -0.033421  0.189001  0.173464   \n",
       "2      0.187034 -0.385396 -0.092749 -0.584313 -0.192518  0.383262  0.536007   \n",
       "3      0.006207 -0.004175  0.002687 -0.011512  0.002024  0.011322  0.011873   \n",
       "4      0.007514 -0.026640 -0.010339 -0.032414 -0.008747  0.030333  0.029958   \n",
       "...         ...       ...       ...       ...       ...       ...       ...   \n",
       "67760 -0.014014  0.021627  0.016127  0.008295  0.015609 -0.014095  0.029989   \n",
       "67761 -0.014876  0.028154  0.017737  0.004379  0.018459 -0.021002  0.030579   \n",
       "67762 -0.017387  0.024935  0.015646  0.009288  0.029313 -0.020477  0.037860   \n",
       "67763 -0.022239  0.027148  0.015270  0.007224  0.022871 -0.018405  0.034523   \n",
       "67764 -0.004979  0.004534  0.008296  0.000975  0.003701 -0.005433  0.007634   \n",
       "\n",
       "             C8        C9       C10  ...       C96       C97       C98  \\\n",
       "0     -0.231643  0.710645  0.354861  ...  1.066586 -0.492452  0.110801   \n",
       "1     -0.048425  0.236529  0.145954  ...  0.345119 -0.146398 -0.047513   \n",
       "2     -0.128646  0.693914  0.571300  ...  0.952153 -0.561850 -0.430627   \n",
       "3     -0.003935  0.008462  0.006518  ...  0.012300 -0.005470  0.000625   \n",
       "4     -0.013449  0.038326  0.024106  ...  0.063352 -0.025889 -0.009849   \n",
       "...         ...       ...       ...  ...       ...       ...       ...   \n",
       "67760  0.006034  0.010235  0.010937  ...  0.013051 -0.019628  0.002326   \n",
       "67761  0.002764  0.009578  0.019444  ...  0.012821 -0.026994  0.001646   \n",
       "67762  0.004750  0.006998  0.022420  ...  0.016014 -0.029438  0.001944   \n",
       "67763  0.006758  0.012146  0.016828  ...  0.014560 -0.027060  0.004125   \n",
       "67764  0.001302 -0.000018  0.008159  ... -0.001003 -0.003138 -0.002980   \n",
       "\n",
       "            C99      C100  period  closer#  category  label  Silhouette  \n",
       "0      1.513927  0.483434  201712        2         3   13.0    0.769844  \n",
       "1      0.443642  0.169772  201712        2         3    7.0    0.769844  \n",
       "2      0.990200  0.525449  201712        2         3   11.0    0.769844  \n",
       "3      0.017307  0.006009  201712        2         3    5.0    0.769844  \n",
       "4      0.080098  0.028550  201712        2         3    5.0    0.769844  \n",
       "...         ...       ...     ...      ...       ...    ...         ...  \n",
       "67760 -0.010531  0.001661  201821        2         3    6.0    0.783332  \n",
       "67761 -0.005891  0.000023  201821        2         3    6.0    0.783332  \n",
       "67762 -0.008216 -0.006010  201821        2         3    6.0    0.783332  \n",
       "67763 -0.007462 -0.003877  201821        2         3    6.0    0.783332  \n",
       "67764  0.001237 -0.002532  201821        2         3    6.0    0.783332  \n",
       "\n",
       "[67765 rows x 105 columns]"
      ]
     },
     "execution_count": 25,
     "metadata": {},
     "output_type": "execute_result"
    }
   ],
   "source": [
    "X_test"
   ]
  },
  {
   "cell_type": "code",
   "execution_count": 26,
   "metadata": {
    "pycharm": {
     "name": "#%%\n"
    }
   },
   "outputs": [],
   "source": [
    "rf_clf = RandomForestClassifier(random_state = 11 ,n_jobs=-1) # random forest"
   ]
  },
  {
   "cell_type": "code",
   "execution_count": 27,
   "metadata": {
    "pycharm": {
     "name": "#%%\n"
    }
   },
   "outputs": [],
   "source": [
    "rf_clf.fit(X_train, y_train)\n",
    "\n",
    "y_score = rf_clf.predict_proba(X_test)\n",
    "\n"
   ]
  },
  {
   "cell_type": "code",
   "execution_count": 28,
   "metadata": {
    "pycharm": {
     "name": "#%%\n"
    }
   },
   "outputs": [],
   "source": [
    "rf_pred = rf_clf.predict(X_test)  # random forest predict"
   ]
  },
  {
   "cell_type": "code",
   "execution_count": 29,
   "metadata": {
    "pycharm": {
     "name": "#%%\n"
    }
   },
   "outputs": [
    {
     "name": "stdout",
     "output_type": "stream",
     "text": [
      "Random Forest Accuracy :   0.4349590496569025\n",
      "Random Forest Precision :   0.1891893748784358\n",
      "Random Forest Recall :   0.4349590496569025\n",
      "Random Forest f1 :   0.2636860960229782\n"
     ]
    },
    {
     "name": "stderr",
     "output_type": "stream",
     "text": [
      "/Users/hongminpyo/opt/anaconda3/lib/python3.7/site-packages/sklearn/metrics/_classification.py:1270: UserWarning: Note that pos_label (set to 'positive') is ignored when average != 'binary' (got 'weighted'). You may use labels=[pos_label] to specify a single positive class.\n",
      "  % (pos_label, average), UserWarning)\n",
      "/Users/hongminpyo/opt/anaconda3/lib/python3.7/site-packages/sklearn/metrics/_classification.py:1221: UndefinedMetricWarning: Precision is ill-defined and being set to 0.0 in labels with no predicted samples. Use `zero_division` parameter to control this behavior.\n",
      "  _warn_prf(average, modifier, msg_start, len(result))\n"
     ]
    }
   ],
   "source": [
    "print('Random Forest Accuracy :  ',accuracy_score(y_test,rf_pred))\n",
    "print('Random Forest Precision :  ',precision_score(y_test,rf_pred,pos_label='positive',average='weighted'))\n",
    "print('Random Forest Recall :  ',recall_score(y_test,rf_pred,pos_label='positive',average='weighted'))\n",
    "print('Random Forest f1 :  ',f1_score(y_test,rf_pred,pos_label='positive',average='weighted'))"
   ]
  },
  {
   "cell_type": "code",
   "execution_count": 30,
   "metadata": {
    "pycharm": {
     "name": "#%%\n"
    }
   },
   "outputs": [
    {
     "data": {
      "text/plain": [
       "array([[0.59, 0.25, 0.16],\n",
       "       [0.65, 0.26, 0.09],\n",
       "       [0.55, 0.15, 0.3 ],\n",
       "       ...,\n",
       "       [0.58, 0.09, 0.33],\n",
       "       [0.56, 0.2 , 0.24],\n",
       "       [0.59, 0.18, 0.23]])"
      ]
     },
     "execution_count": 30,
     "metadata": {},
     "output_type": "execute_result"
    }
   ],
   "source": [
    "y_score"
   ]
  },
  {
   "cell_type": "code",
   "execution_count": 31,
   "metadata": {
    "pycharm": {
     "name": "#%%\n"
    }
   },
   "outputs": [
    {
     "name": "stdout",
     "output_type": "stream",
     "text": [
      "0        2\n",
      "1        2\n",
      "2        2\n",
      "3        2\n",
      "4        2\n",
      "        ..\n",
      "67760    1\n",
      "67761    1\n",
      "67762    1\n",
      "67763    1\n",
      "67764    1\n",
      "Name: result, Length: 67765, dtype: int64\n",
      "[[0 1 0]\n",
      " [0 1 0]\n",
      " [0 1 0]\n",
      " ...\n",
      " [1 0 0]\n",
      " [1 0 0]\n",
      " [1 0 0]]\n",
      "class :  0 == 0.22347445890265152\n",
      "class :  1 == 0.674213253127609\n",
      "class :  2 == nan\n"
     ]
    },
    {
     "name": "stderr",
     "output_type": "stream",
     "text": [
      "/Users/hongminpyo/opt/anaconda3/lib/python3.7/site-packages/sklearn/metrics/_ranking.py:813: UndefinedMetricWarning: No positive samples in y_true, true positive value should be meaningless\n",
      "  UndefinedMetricWarning)\n"
     ]
    }
   ],
   "source": [
    "from sklearn.preprocessing import label_binarize\n",
    "\n",
    "# Compute ROC curve and ROC area for each class\n",
    "fpr = dict()\n",
    "tpr = dict()\n",
    "roc_auc = dict()\n",
    "\n",
    "y_test_roc =label_binarize(y_test, classes=[1, 2, 3])\n",
    "\n",
    "print(y_test)\n",
    "print(y_test_roc)\n",
    "\n",
    "for i in range(3):\n",
    "    fpr[i], tpr[i], _ = roc_curve(y_test_roc[:, i], y_score[:, i])\n",
    "    roc_auc[i] = auc(fpr[i], tpr[i])\n",
    "    print('class : ',i,'==',roc_auc[i])\n",
    "\n"
   ]
  },
  {
   "cell_type": "code",
   "execution_count": 32,
   "metadata": {
    "pycharm": {
     "name": "#%%\n"
    }
   },
   "outputs": [],
   "source": [
    "# Compute micro-average ROC curve and ROC area\n",
    "fpr[\"micro\"], tpr[\"micro\"], _ = roc_curve(y_test_roc.ravel(), y_score.ravel())\n",
    "roc_auc[\"micro\"] = auc(fpr[\"micro\"], tpr[\"micro\"])"
   ]
  },
  {
   "cell_type": "code",
   "execution_count": 33,
   "metadata": {
    "pycharm": {
     "name": "#%%\n"
    }
   },
   "outputs": [
    {
     "data": {
      "image/png": "[encoded data removed]",
      "text/plain": [
       "<Figure size 432x288 with 1 Axes>"
      ]
     },
     "metadata": {
      "needs_background": "light"
     },
     "output_type": "display_data"
    }
   ],
   "source": [
    "plt.figure()\n",
    "lw = 2\n",
    "plt.plot(fpr[0], tpr[0], color='darkorange',\n",
    "         lw=lw, label='ROC curve (area = %0.2f)' % roc_auc[2])\n",
    "plt.plot([0, 1], [0, 1], color='navy', lw=lw, linestyle='--')\n",
    "plt.xlim([0.0, 1.0])\n",
    "plt.ylim([0.0, 1.05])\n",
    "plt.xlabel('False Positive Rate')\n",
    "plt.ylabel('True Positive Rate')\n",
    "plt.title('Receiver operating characteristic example')\n",
    "plt.legend(loc=\"lower right\")\n",
    "plt.show()"
   ]
  },
  {
   "cell_type": "code",
   "execution_count": 34,
   "metadata": {
    "pycharm": {
     "name": "#%%\n"
    }
   },
   "outputs": [
    {
     "data": {
      "image/png": "[encoded data removed]",
      "text/plain": [
       "<Figure size 432x288 with 1 Axes>"
      ]
     },
     "metadata": {
      "needs_background": "light"
     },
     "output_type": "display_data"
    }
   ],
   "source": [
    "from scipy import interp\n",
    "from itertools import cycle\n",
    "\n",
    "# First aggregate all false positive rates\n",
    "all_fpr = np.unique(np.concatenate([fpr[i] for i in range(3)]))\n",
    "\n",
    "# Then interpolate all ROC curves at this points\n",
    "mean_tpr = np.zeros_like(all_fpr)\n",
    "for i in range(3):\n",
    "    mean_tpr += interp(all_fpr, fpr[i], tpr[i])\n",
    "\n",
    "# Finally average it and compute AUC\n",
    "mean_tpr /= 3\n",
    "\n",
    "fpr[\"macro\"] = all_fpr\n",
    "tpr[\"macro\"] = mean_tpr\n",
    "roc_auc[\"macro\"] = auc(fpr[\"macro\"], tpr[\"macro\"])\n",
    "\n",
    "# Plot all ROC curves\n",
    "plt.figure()\n",
    "plt.plot(fpr[\"micro\"], tpr[\"micro\"],\n",
    "         label='micro-average ROC curve (area = {0:0.2f})'\n",
    "               ''.format(roc_auc[\"micro\"]),\n",
    "         color='deeppink', linestyle=':', linewidth=4)\n",
    "\n",
    "plt.plot(fpr[\"macro\"], tpr[\"macro\"],\n",
    "         label='macro-average ROC curve (area = {0:0.2f})'\n",
    "               ''.format(roc_auc[\"macro\"]),\n",
    "         color='navy', linestyle=':', linewidth=4)\n",
    "\n",
    "colors = cycle(['aqua', 'darkorange', 'cornflowerblue'])\n",
    "for i, color in zip(range(3), colors):\n",
    "    plt.plot(fpr[i], tpr[i], color=color, lw=lw,\n",
    "             label='ROC curve of class {0} (area = {1:0.2f})'\n",
    "             ''.format(i, roc_auc[i]))\n",
    "\n",
    "plt.plot([0, 1], [0, 1], 'k--', lw=lw)\n",
    "plt.xlim([0.0, 1.0])\n",
    "plt.ylim([0.0, 1.05])\n",
    "plt.xlabel('False Positive Rate')\n",
    "plt.ylabel('True Positive Rate')\n",
    "plt.title('Some extension of Receiver operating characteristic to multi-class')\n",
    "plt.legend(loc=\"lower right\")\n",
    "plt.show()"
   ]
  },
  {
   "cell_type": "code",
   "execution_count": 35,
   "metadata": {
    "pycharm": {
     "name": "#%%\n"
    }
   },
   "outputs": [],
   "source": [
    "dt_clf = DecisionTreeClassifier(random_state = 11)\n",
    "dt_clf.fit(X_train,y_train)\n",
    "dt_pred = dt_clf.predict(X_test)"
   ]
  },
  {
   "cell_type": "code",
   "execution_count": 36,
   "metadata": {
    "pycharm": {
     "name": "#%%\n"
    }
   },
   "outputs": [
    {
     "name": "stdout",
     "output_type": "stream",
     "text": [
      "Decision Tree Accuracy :   0.4349590496569025\n",
      "Decision Tree Precision :   0.1891893748784358\n",
      "Decision Tree Recall :   0.4349590496569025\n",
      "Decision Tree f1 :   0.2636860960229782\n"
     ]
    },
    {
     "name": "stderr",
     "output_type": "stream",
     "text": [
      "/Users/hongminpyo/opt/anaconda3/lib/python3.7/site-packages/sklearn/metrics/_classification.py:1270: UserWarning: Note that pos_label (set to 'positive') is ignored when average != 'binary' (got 'weighted'). You may use labels=[pos_label] to specify a single positive class.\n",
      "  % (pos_label, average), UserWarning)\n",
      "/Users/hongminpyo/opt/anaconda3/lib/python3.7/site-packages/sklearn/metrics/_classification.py:1221: UndefinedMetricWarning: Precision is ill-defined and being set to 0.0 in labels with no predicted samples. Use `zero_division` parameter to control this behavior.\n",
      "  _warn_prf(average, modifier, msg_start, len(result))\n"
     ]
    }
   ],
   "source": [
    "print('Decision Tree Accuracy :  ',accuracy_score(y_test,dt_pred))\n",
    "print('Decision Tree Precision :  ',precision_score(y_test,dt_pred,pos_label='positive',average='weighted'))\n",
    "print('Decision Tree Recall :  ',recall_score(y_test,dt_pred,pos_label='positive',average='weighted'))\n",
    "print('Decision Tree f1 :  ',f1_score(y_test,dt_pred,pos_label='positive',average='weighted'))"
   ]
  },
  {
   "cell_type": "code",
   "execution_count": 37,
   "metadata": {},
   "outputs": [],
   "source": [
    "y_score = dt_clf.predict_proba(X_test)"
   ]
  },
  {
   "cell_type": "code",
   "execution_count": 38,
   "metadata": {},
   "outputs": [],
   "source": [
    "fpr = dict()\n",
    "tpr = dict()\n",
    "roc_auc = dict()"
   ]
  },
  {
   "cell_type": "code",
   "execution_count": 39,
   "metadata": {},
   "outputs": [
    {
     "name": "stdout",
     "output_type": "stream",
     "text": [
      "class :  0 == 0.5\n",
      "class :  1 == 0.5\n",
      "class :  2 == nan\n"
     ]
    },
    {
     "name": "stderr",
     "output_type": "stream",
     "text": [
      "/Users/hongminpyo/opt/anaconda3/lib/python3.7/site-packages/sklearn/metrics/_ranking.py:813: UndefinedMetricWarning: No positive samples in y_true, true positive value should be meaningless\n",
      "  UndefinedMetricWarning)\n"
     ]
    }
   ],
   "source": [
    "for i in range(3):\n",
    "    fpr[i], tpr[i], _ = roc_curve(y_test_roc[:, i], y_score[:, i])\n",
    "    roc_auc[i] = auc(fpr[i], tpr[i])\n",
    "    print('class : ',i,'==',roc_auc[i])"
   ]
  },
  {
   "cell_type": "code",
   "execution_count": 40,
   "metadata": {},
   "outputs": [],
   "source": [
    "# Compute micro-average ROC curve and ROC area\n",
    "fpr[\"micro\"], tpr[\"micro\"], _ = roc_curve(y_test_roc.ravel(), y_score.ravel())\n",
    "roc_auc[\"micro\"] = auc(fpr[\"micro\"], tpr[\"micro\"])"
   ]
  },
  {
   "cell_type": "code",
   "execution_count": 41,
   "metadata": {},
   "outputs": [
    {
     "data": {
      "image/png": "[encoded data removed]",
      "text/plain": [
       "<Figure size 432x288 with 1 Axes>"
      ]
     },
     "metadata": {
      "needs_background": "light"
     },
     "output_type": "display_data"
    }
   ],
   "source": [
    "# First aggregate all false positive rates\n",
    "all_fpr = np.unique(np.concatenate([fpr[i] for i in range(3)]))\n",
    "\n",
    "# Then interpolate all ROC curves at this points\n",
    "mean_tpr = np.zeros_like(all_fpr)\n",
    "for i in range(3):\n",
    "    mean_tpr += interp(all_fpr, fpr[i], tpr[i])\n",
    "\n",
    "# Finally average it and compute AUC\n",
    "mean_tpr /= 3\n",
    "\n",
    "fpr[\"macro\"] = all_fpr\n",
    "tpr[\"macro\"] = mean_tpr\n",
    "roc_auc[\"macro\"] = auc(fpr[\"macro\"], tpr[\"macro\"])\n",
    "\n",
    "# Plot all ROC curves\n",
    "plt.figure()\n",
    "plt.plot(fpr[\"micro\"], tpr[\"micro\"],\n",
    "         label='micro-average ROC curve (area = {0:0.2f})'\n",
    "               ''.format(roc_auc[\"micro\"]),\n",
    "         color='deeppink', linestyle=':', linewidth=4)\n",
    "\n",
    "plt.plot(fpr[\"macro\"], tpr[\"macro\"],\n",
    "         label='macro-average ROC curve (area = {0:0.2f})'\n",
    "               ''.format(roc_auc[\"macro\"]),\n",
    "         color='navy', linestyle=':', linewidth=4)\n",
    "\n",
    "colors = cycle(['aqua', 'darkorange', 'cornflowerblue'])\n",
    "for i, color in zip(range(3), colors):\n",
    "    plt.plot(fpr[i], tpr[i], color=color, lw=lw,\n",
    "             label='ROC curve of class {0} (area = {1:0.2f})'\n",
    "             ''.format(i, roc_auc[i]))\n",
    "\n",
    "plt.plot([0, 1], [0, 1], 'k--', lw=lw)\n",
    "plt.xlim([0.0, 1.0])\n",
    "plt.ylim([0.0, 1.05])\n",
    "plt.xlabel('False Positive Rate')\n",
    "plt.ylabel('True Positive Rate')\n",
    "plt.title('Some extension of Receiver operating characteristic to multi-class')\n",
    "plt.legend(loc=\"lower right\")\n",
    "plt.show()"
   ]
  },
  {
   "cell_type": "code",
   "execution_count": 42,
   "metadata": {
    "pycharm": {
     "name": "#%%\n"
    }
   },
   "outputs": [],
   "source": [
    "#gb_clf = GradientBoostingClassifier(random_state = 11) # random forest\n",
    "lgbm_clf =  LGBMClassifier(random_state = 11)"
   ]
  },
  {
   "cell_type": "code",
   "execution_count": 43,
   "metadata": {
    "pycharm": {
     "name": "#%%\n"
    }
   },
   "outputs": [],
   "source": [
    "#gb_clf.fit(X_train,y_train)\n",
    "#gb_pred = gb_clf.predict(X_test)\n",
    "\n",
    "lgbm_clf.fit(X_train,y_train)\n",
    "lgbm_pred = lgbm_clf.predict(X_test)"
   ]
  },
  {
   "cell_type": "code",
   "execution_count": 44,
   "metadata": {
    "pycharm": {
     "name": "#%%\n"
    }
   },
   "outputs": [
    {
     "name": "stdout",
     "output_type": "stream",
     "text": [
      "Light GBM Accuracy :   0.4349590496569025\n",
      "Light GBM Precision :   0.1891893748784358\n",
      "Light GBM Recall :   0.4349590496569025\n",
      "Light GBM f1 :   0.2636860960229782\n"
     ]
    },
    {
     "name": "stderr",
     "output_type": "stream",
     "text": [
      "/Users/hongminpyo/opt/anaconda3/lib/python3.7/site-packages/sklearn/metrics/_classification.py:1270: UserWarning: Note that pos_label (set to 'positive') is ignored when average != 'binary' (got 'weighted'). You may use labels=[pos_label] to specify a single positive class.\n",
      "  % (pos_label, average), UserWarning)\n",
      "/Users/hongminpyo/opt/anaconda3/lib/python3.7/site-packages/sklearn/metrics/_classification.py:1221: UndefinedMetricWarning: Precision is ill-defined and being set to 0.0 in labels with no predicted samples. Use `zero_division` parameter to control this behavior.\n",
      "  _warn_prf(average, modifier, msg_start, len(result))\n"
     ]
    }
   ],
   "source": [
    "#print('Gredient Boosting Accuracy :  ',accuracy_score(y_test,gb_pred))\n",
    "#print('Gredient Boosting Precision :  ',precision_score(y_test,gb_pred,pos_label='positive',average='weighted'))\n",
    "#print('Gredient Boosting Recall :  ',recall_score(y_test,gb_pred,pos_label='positive',average='weighted'))\n",
    "#print('Gredient Boosting f1 :  ',f1_score(y_test,gb_pred,pos_label='positive',average='weighted'))\n",
    "print('Light GBM Accuracy :  ',accuracy_score(y_test,lgbm_pred))\n",
    "print('Light GBM Precision :  ',precision_score(y_test,lgbm_pred,pos_label='positive',average='weighted'))\n",
    "print('Light GBM Recall :  ',recall_score(y_test,lgbm_pred,pos_label='positive',average='weighted'))\n",
    "print('Light GBM f1 :  ',f1_score(y_test,lgbm_pred,pos_label='positive',average='weighted'))"
   ]
  },
  {
   "cell_type": "code",
   "execution_count": 45,
   "metadata": {},
   "outputs": [],
   "source": [
    "y_score = lgbm_clf.predict_proba(X_test)\n",
    "\n",
    "fpr = dict()\n",
    "tpr = dict()\n",
    "roc_auc = dict()"
   ]
  },
  {
   "cell_type": "code",
   "execution_count": 46,
   "metadata": {},
   "outputs": [
    {
     "name": "stdout",
     "output_type": "stream",
     "text": [
      "class :  0 == 0.2517365124110871\n",
      "class :  1 == 0.6361081364020086\n",
      "class :  2 == nan\n"
     ]
    }
   ],
   "source": [
    "for i in range(3):\n",
    "    fpr[i], tpr[i], _ = roc_curve(y_test_roc[:, i], y_score[:, i])\n",
    "    roc_auc[i] = auc(fpr[i], tpr[i])\n",
    "    print('class : ',i,'==',roc_auc[i])"
   ]
  },
  {
   "cell_type": "code",
   "execution_count": 47,
   "metadata": {},
   "outputs": [],
   "source": [
    "# Compute micro-average ROC curve and ROC area\n",
    "fpr[\"micro\"], tpr[\"micro\"], _ = roc_curve(y_test_roc.ravel(), y_score.ravel())\n",
    "roc_auc[\"micro\"] = auc(fpr[\"micro\"], tpr[\"micro\"])"
   ]
  },
  {
   "cell_type": "code",
   "execution_count": 48,
   "metadata": {},
   "outputs": [
    {
     "data": {
      "image/png": "[encoded data removed]",
      "text/plain": [
       "<Figure size 432x288 with 1 Axes>"
      ]
     },
     "metadata": {
      "needs_background": "light"
     },
     "output_type": "display_data"
    }
   ],
   "source": [
    "# First aggregate all false positive rates\n",
    "all_fpr = np.unique(np.concatenate([fpr[i] for i in range(3)]))\n",
    "\n",
    "# Then interpolate all ROC curves at this points\n",
    "mean_tpr = np.zeros_like(all_fpr)\n",
    "for i in range(3):\n",
    "    mean_tpr += interp(all_fpr, fpr[i], tpr[i])\n",
    "\n",
    "# Finally average it and compute AUC\n",
    "mean_tpr /= 3\n",
    "\n",
    "fpr[\"macro\"] = all_fpr\n",
    "tpr[\"macro\"] = mean_tpr\n",
    "roc_auc[\"macro\"] = auc(fpr[\"macro\"], tpr[\"macro\"])\n",
    "\n",
    "# Plot all ROC curves\n",
    "plt.figure()\n",
    "plt.plot(fpr[\"micro\"], tpr[\"micro\"],\n",
    "         label='micro-average ROC curve (area = {0:0.2f})'\n",
    "               ''.format(roc_auc[\"micro\"]),\n",
    "         color='deeppink', linestyle=':', linewidth=4)\n",
    "\n",
    "plt.plot(fpr[\"macro\"], tpr[\"macro\"],\n",
    "         label='macro-average ROC curve (area = {0:0.2f})'\n",
    "               ''.format(roc_auc[\"macro\"]),\n",
    "         color='navy', linestyle=':', linewidth=4)\n",
    "\n",
    "colors = cycle(['aqua', 'darkorange', 'cornflowerblue'])\n",
    "for i, color in zip(range(3), colors):\n",
    "    plt.plot(fpr[i], tpr[i], color=color, lw=lw,\n",
    "             label='ROC curve of class {0} (area = {1:0.2f})'\n",
    "             ''.format(i, roc_auc[i]))\n",
    "\n",
    "plt.plot([0, 1], [0, 1], 'k--', lw=lw)\n",
    "plt.xlim([0.0, 1.0])\n",
    "plt.ylim([0.0, 1.05])\n",
    "plt.xlabel('False Positive Rate')\n",
    "plt.ylabel('True Positive Rate')\n",
    "plt.title('Some extension of Receiver operating characteristic to multi-class')\n",
    "plt.legend(loc=\"lower right\")\n",
    "plt.show()"
   ]
  },
  {
   "cell_type": "code",
   "execution_count": 49,
   "metadata": {
    "pycharm": {
     "name": "#%%\n"
    }
   },
   "outputs": [],
   "source": [
    "lr_clf = LogisticRegression(random_state = 11)"
   ]
  },
  {
   "cell_type": "code",
   "execution_count": 50,
   "metadata": {
    "pycharm": {
     "name": "#%%\n"
    }
   },
   "outputs": [],
   "source": [
    "lr_clf.fit(X_train,y_train)\n",
    "lr_pred = lr_clf.predict(X_test)"
   ]
  },
  {
   "cell_type": "code",
   "execution_count": 51,
   "metadata": {
    "pycharm": {
     "name": "#%%\n"
    }
   },
   "outputs": [
    {
     "name": "stdout",
     "output_type": "stream",
     "text": [
      "Logistic Regression Accuracy :   0.4349590496569025\n",
      "Logistic Regression  Precision :   0.1891893748784358\n",
      "Logistic Regression  Recall :   0.4349590496569025\n",
      "Logistic Regression  f1 :   0.2636860960229782\n"
     ]
    },
    {
     "name": "stderr",
     "output_type": "stream",
     "text": [
      "/Users/hongminpyo/opt/anaconda3/lib/python3.7/site-packages/sklearn/metrics/_classification.py:1270: UserWarning: Note that pos_label (set to 'positive') is ignored when average != 'binary' (got 'weighted'). You may use labels=[pos_label] to specify a single positive class.\n",
      "  % (pos_label, average), UserWarning)\n",
      "/Users/hongminpyo/opt/anaconda3/lib/python3.7/site-packages/sklearn/metrics/_classification.py:1221: UndefinedMetricWarning: Precision is ill-defined and being set to 0.0 in labels with no predicted samples. Use `zero_division` parameter to control this behavior.\n",
      "  _warn_prf(average, modifier, msg_start, len(result))\n"
     ]
    }
   ],
   "source": [
    "print('Logistic Regression Accuracy :  ',accuracy_score(y_test,lr_pred))\n",
    "print('Logistic Regression  Precision :  ',precision_score(y_test,lr_pred,pos_label='positive',average='weighted'))\n",
    "print('Logistic Regression  Recall :  ',recall_score(y_test,lr_pred,pos_label='positive',average='weighted'))\n",
    "print('Logistic Regression  f1 :  ',f1_score(y_test,lr_pred,pos_label='positive',average='weighted'))"
   ]
  },
  {
   "cell_type": "code",
   "execution_count": 52,
   "metadata": {
    "pycharm": {
     "name": "#%%\n"
    }
   },
   "outputs": [],
   "source": [
    "y_score = lr_clf.predict_proba(X_test)\n",
    "\n",
    "y_score = np.round(y_score,5)\n",
    "\n",
    "fpr = dict()\n",
    "tpr = dict()\n",
    "roc_auc = dict()"
   ]
  },
  {
   "cell_type": "code",
   "execution_count": 53,
   "metadata": {
    "pycharm": {
     "name": "#%%\n"
    }
   },
   "outputs": [
    {
     "name": "stdout",
     "output_type": "stream",
     "text": [
      "class :  0 == 0.5\n",
      "class :  1 == 0.5\n",
      "class :  2 == nan\n"
     ]
    },
    {
     "name": "stderr",
     "output_type": "stream",
     "text": [
      "/Users/hongminpyo/opt/anaconda3/lib/python3.7/site-packages/sklearn/metrics/_ranking.py:813: UndefinedMetricWarning: No positive samples in y_true, true positive value should be meaningless\n",
      "  UndefinedMetricWarning)\n"
     ]
    }
   ],
   "source": [
    "for i in range(3):\n",
    "    fpr[i], tpr[i], _ = roc_curve(y_test_roc[:, i], y_score[:, i])\n",
    "    roc_auc[i] = auc(fpr[i], tpr[i])\n",
    "    print('class : ',i,'==',roc_auc[i])"
   ]
  },
  {
   "cell_type": "code",
   "execution_count": 54,
   "metadata": {
    "pycharm": {
     "name": "#%%\n"
    }
   },
   "outputs": [],
   "source": [
    "# Compute micro-average ROC curve and ROC area\n",
    "fpr[\"micro\"], tpr[\"micro\"], _ = roc_curve(y_test_roc.ravel(), y_score.ravel())\n",
    "roc_auc[\"micro\"] = auc(fpr[\"micro\"], tpr[\"micro\"])"
   ]
  },
  {
   "cell_type": "code",
   "execution_count": 55,
   "metadata": {
    "pycharm": {
     "name": "#%%\n"
    }
   },
   "outputs": [
    {
     "data": {
      "image/png": "[encoded data removed]",
      "text/plain": [
       "<Figure size 432x288 with 1 Axes>"
      ]
     },
     "metadata": {
      "needs_background": "light"
     },
     "output_type": "display_data"
    }
   ],
   "source": [
    "# First aggregate all false positive rates\n",
    "all_fpr = np.unique(np.concatenate([fpr[i] for i in range(3)]))\n",
    "\n",
    "# Then interpolate all ROC curves at this points\n",
    "mean_tpr = np.zeros_like(all_fpr)\n",
    "for i in range(3):\n",
    "    mean_tpr += interp(all_fpr, fpr[i], tpr[i])\n",
    "\n",
    "# Finally average it and compute AUC\n",
    "mean_tpr /= 3\n",
    "\n",
    "fpr[\"macro\"] = all_fpr\n",
    "tpr[\"macro\"] = mean_tpr\n",
    "roc_auc[\"macro\"] = auc(fpr[\"macro\"], tpr[\"macro\"])\n",
    "\n",
    "# Plot all ROC curves\n",
    "plt.figure()\n",
    "plt.plot(fpr[\"micro\"], tpr[\"micro\"],\n",
    "         label='micro-average ROC curve (area = {0:0.2f})'\n",
    "               ''.format(roc_auc[\"micro\"]),\n",
    "         color='deeppink', linestyle=':', linewidth=4)\n",
    "\n",
    "plt.plot(fpr[\"macro\"], tpr[\"macro\"],\n",
    "         label='macro-average ROC curve (area = {0:0.2f})'\n",
    "               ''.format(roc_auc[\"macro\"]),\n",
    "         color='navy', linestyle=':', linewidth=4)\n",
    "\n",
    "colors = cycle(['aqua', 'darkorange', 'cornflowerblue'])\n",
    "for i, color in zip(range(3), colors):\n",
    "    plt.plot(fpr[i], tpr[i], color=color, lw=lw,\n",
    "             label='ROC curve of class {0} (area = {1:0.2f})'\n",
    "             ''.format(i, roc_auc[i]))\n",
    "\n",
    "plt.plot([0, 1], [0, 1], 'k--', lw=lw)\n",
    "plt.xlim([0.0, 1.0])\n",
    "plt.ylim([0.0, 1.05])\n",
    "plt.xlabel('False Positive Rate')\n",
    "plt.ylabel('True Positive Rate')\n",
    "plt.title('Some extension of Receiver operating characteristic to multi-class')\n",
    "plt.legend(loc=\"lower right\")\n",
    "plt.show()"
   ]
  },
  {
   "cell_type": "code",
   "execution_count": 56,
   "metadata": {
    "pycharm": {
     "name": "#%%\n"
    }
   },
   "outputs": [
    {
     "name": "stderr",
     "output_type": "stream",
     "text": [
      "Using TensorFlow backend.\n"
     ]
    }
   ],
   "source": [
    "from numpy import loadtxt\n",
    "from keras.models import Sequential\n",
    "from keras.layers import Dense"
   ]
  },
  {
   "cell_type": "code",
   "execution_count": 57,
   "metadata": {
    "pycharm": {
     "name": "#%%\n"
    }
   },
   "outputs": [
    {
     "data": {
      "text/html": [
       "<div>\n",
       "<style scoped>\n",
       "    .dataframe tbody tr th:only-of-type {\n",
       "        vertical-align: middle;\n",
       "    }\n",
       "\n",
       "    .dataframe tbody tr th {\n",
       "        vertical-align: top;\n",
       "    }\n",
       "\n",
       "    .dataframe thead th {\n",
       "        text-align: right;\n",
       "    }\n",
       "</style>\n",
       "<table border=\"1\" class=\"dataframe\">\n",
       "  <thead>\n",
       "    <tr style=\"text-align: right;\">\n",
       "      <th></th>\n",
       "      <th>C1</th>\n",
       "      <th>C10</th>\n",
       "      <th>C100</th>\n",
       "      <th>C11</th>\n",
       "      <th>C12</th>\n",
       "      <th>C13</th>\n",
       "      <th>C14</th>\n",
       "      <th>C15</th>\n",
       "      <th>C16</th>\n",
       "      <th>C17</th>\n",
       "      <th>...</th>\n",
       "      <th>C95</th>\n",
       "      <th>C96</th>\n",
       "      <th>C97</th>\n",
       "      <th>C98</th>\n",
       "      <th>C99</th>\n",
       "      <th>Silhouette</th>\n",
       "      <th>category</th>\n",
       "      <th>closer#</th>\n",
       "      <th>label</th>\n",
       "      <th>period</th>\n",
       "    </tr>\n",
       "  </thead>\n",
       "  <tbody>\n",
       "    <tr>\n",
       "      <td>0</td>\n",
       "      <td>-0.001495</td>\n",
       "      <td>0.002059</td>\n",
       "      <td>-0.003641</td>\n",
       "      <td>0.002519</td>\n",
       "      <td>-0.000030</td>\n",
       "      <td>-0.000061</td>\n",
       "      <td>0.000266</td>\n",
       "      <td>-0.001268</td>\n",
       "      <td>-0.005870</td>\n",
       "      <td>0.004812</td>\n",
       "      <td>...</td>\n",
       "      <td>-0.001215</td>\n",
       "      <td>-0.005617</td>\n",
       "      <td>-0.000767</td>\n",
       "      <td>0.003659</td>\n",
       "      <td>-0.001297</td>\n",
       "      <td>0.126229</td>\n",
       "      <td>3.0</td>\n",
       "      <td>2</td>\n",
       "      <td>1.0</td>\n",
       "      <td>202011</td>\n",
       "    </tr>\n",
       "    <tr>\n",
       "      <td>1</td>\n",
       "      <td>-0.021860</td>\n",
       "      <td>0.025023</td>\n",
       "      <td>-0.030539</td>\n",
       "      <td>-0.053737</td>\n",
       "      <td>-0.034043</td>\n",
       "      <td>-0.106272</td>\n",
       "      <td>0.101318</td>\n",
       "      <td>0.046353</td>\n",
       "      <td>-0.032074</td>\n",
       "      <td>0.056494</td>\n",
       "      <td>...</td>\n",
       "      <td>-0.085919</td>\n",
       "      <td>-0.086635</td>\n",
       "      <td>-0.032728</td>\n",
       "      <td>0.003305</td>\n",
       "      <td>0.029844</td>\n",
       "      <td>0.126229</td>\n",
       "      <td>3.0</td>\n",
       "      <td>2</td>\n",
       "      <td>12.0</td>\n",
       "      <td>202011</td>\n",
       "    </tr>\n",
       "    <tr>\n",
       "      <td>2</td>\n",
       "      <td>-0.006153</td>\n",
       "      <td>0.000252</td>\n",
       "      <td>-0.000431</td>\n",
       "      <td>-0.007744</td>\n",
       "      <td>-0.001371</td>\n",
       "      <td>-0.012007</td>\n",
       "      <td>0.004584</td>\n",
       "      <td>-0.001146</td>\n",
       "      <td>-0.006225</td>\n",
       "      <td>0.003439</td>\n",
       "      <td>...</td>\n",
       "      <td>-0.002505</td>\n",
       "      <td>-0.002000</td>\n",
       "      <td>-0.006141</td>\n",
       "      <td>-0.000919</td>\n",
       "      <td>0.005992</td>\n",
       "      <td>0.126229</td>\n",
       "      <td>3.0</td>\n",
       "      <td>2</td>\n",
       "      <td>13.0</td>\n",
       "      <td>202011</td>\n",
       "    </tr>\n",
       "    <tr>\n",
       "      <td>3</td>\n",
       "      <td>-0.011715</td>\n",
       "      <td>0.010112</td>\n",
       "      <td>-0.014666</td>\n",
       "      <td>-0.018584</td>\n",
       "      <td>-0.010574</td>\n",
       "      <td>-0.035928</td>\n",
       "      <td>0.037478</td>\n",
       "      <td>0.020299</td>\n",
       "      <td>-0.011364</td>\n",
       "      <td>0.024920</td>\n",
       "      <td>...</td>\n",
       "      <td>-0.035902</td>\n",
       "      <td>-0.030800</td>\n",
       "      <td>-0.010657</td>\n",
       "      <td>0.002631</td>\n",
       "      <td>0.007532</td>\n",
       "      <td>0.126229</td>\n",
       "      <td>3.0</td>\n",
       "      <td>2</td>\n",
       "      <td>12.0</td>\n",
       "      <td>202011</td>\n",
       "    </tr>\n",
       "    <tr>\n",
       "      <td>4</td>\n",
       "      <td>-0.004312</td>\n",
       "      <td>0.010082</td>\n",
       "      <td>-0.009291</td>\n",
       "      <td>-0.017374</td>\n",
       "      <td>-0.011016</td>\n",
       "      <td>-0.033451</td>\n",
       "      <td>0.031159</td>\n",
       "      <td>0.015416</td>\n",
       "      <td>-0.016344</td>\n",
       "      <td>0.022197</td>\n",
       "      <td>...</td>\n",
       "      <td>-0.027211</td>\n",
       "      <td>-0.024827</td>\n",
       "      <td>-0.013575</td>\n",
       "      <td>-0.000735</td>\n",
       "      <td>0.013313</td>\n",
       "      <td>0.126229</td>\n",
       "      <td>3.0</td>\n",
       "      <td>2</td>\n",
       "      <td>12.0</td>\n",
       "      <td>202011</td>\n",
       "    </tr>\n",
       "    <tr>\n",
       "      <td>...</td>\n",
       "      <td>...</td>\n",
       "      <td>...</td>\n",
       "      <td>...</td>\n",
       "      <td>...</td>\n",
       "      <td>...</td>\n",
       "      <td>...</td>\n",
       "      <td>...</td>\n",
       "      <td>...</td>\n",
       "      <td>...</td>\n",
       "      <td>...</td>\n",
       "      <td>...</td>\n",
       "      <td>...</td>\n",
       "      <td>...</td>\n",
       "      <td>...</td>\n",
       "      <td>...</td>\n",
       "      <td>...</td>\n",
       "      <td>...</td>\n",
       "      <td>...</td>\n",
       "      <td>...</td>\n",
       "      <td>...</td>\n",
       "      <td>...</td>\n",
       "    </tr>\n",
       "    <tr>\n",
       "      <td>112261</td>\n",
       "      <td>0.002639</td>\n",
       "      <td>-0.007745</td>\n",
       "      <td>0.015926</td>\n",
       "      <td>-0.011952</td>\n",
       "      <td>-0.002111</td>\n",
       "      <td>-0.004357</td>\n",
       "      <td>-0.000599</td>\n",
       "      <td>-0.012847</td>\n",
       "      <td>-0.000155</td>\n",
       "      <td>-0.024394</td>\n",
       "      <td>...</td>\n",
       "      <td>0.005706</td>\n",
       "      <td>0.015451</td>\n",
       "      <td>0.006023</td>\n",
       "      <td>0.001769</td>\n",
       "      <td>0.004318</td>\n",
       "      <td>0.746625</td>\n",
       "      <td>1.0</td>\n",
       "      <td>2</td>\n",
       "      <td>5.0</td>\n",
       "      <td>201924</td>\n",
       "    </tr>\n",
       "    <tr>\n",
       "      <td>112262</td>\n",
       "      <td>-0.000535</td>\n",
       "      <td>-0.008106</td>\n",
       "      <td>0.016009</td>\n",
       "      <td>-0.012102</td>\n",
       "      <td>0.005943</td>\n",
       "      <td>-0.004983</td>\n",
       "      <td>-0.004764</td>\n",
       "      <td>-0.011634</td>\n",
       "      <td>0.001370</td>\n",
       "      <td>-0.025071</td>\n",
       "      <td>...</td>\n",
       "      <td>0.004042</td>\n",
       "      <td>0.014530</td>\n",
       "      <td>-0.000182</td>\n",
       "      <td>0.002224</td>\n",
       "      <td>-0.003322</td>\n",
       "      <td>0.746625</td>\n",
       "      <td>1.0</td>\n",
       "      <td>2</td>\n",
       "      <td>5.0</td>\n",
       "      <td>201924</td>\n",
       "    </tr>\n",
       "    <tr>\n",
       "      <td>112263</td>\n",
       "      <td>0.004187</td>\n",
       "      <td>0.000229</td>\n",
       "      <td>0.007715</td>\n",
       "      <td>-0.005602</td>\n",
       "      <td>0.004873</td>\n",
       "      <td>-0.005352</td>\n",
       "      <td>-0.002468</td>\n",
       "      <td>-0.003581</td>\n",
       "      <td>0.005097</td>\n",
       "      <td>-0.003656</td>\n",
       "      <td>...</td>\n",
       "      <td>-0.003402</td>\n",
       "      <td>0.004426</td>\n",
       "      <td>-0.001443</td>\n",
       "      <td>0.001934</td>\n",
       "      <td>-0.000474</td>\n",
       "      <td>0.746625</td>\n",
       "      <td>1.0</td>\n",
       "      <td>2</td>\n",
       "      <td>5.0</td>\n",
       "      <td>201924</td>\n",
       "    </tr>\n",
       "    <tr>\n",
       "      <td>112264</td>\n",
       "      <td>-0.002951</td>\n",
       "      <td>-0.006462</td>\n",
       "      <td>0.012489</td>\n",
       "      <td>-0.003590</td>\n",
       "      <td>-0.002220</td>\n",
       "      <td>-0.002896</td>\n",
       "      <td>-0.001683</td>\n",
       "      <td>-0.016026</td>\n",
       "      <td>0.004791</td>\n",
       "      <td>-0.019189</td>\n",
       "      <td>...</td>\n",
       "      <td>0.003951</td>\n",
       "      <td>0.013484</td>\n",
       "      <td>0.002950</td>\n",
       "      <td>0.001749</td>\n",
       "      <td>0.001292</td>\n",
       "      <td>0.746625</td>\n",
       "      <td>1.0</td>\n",
       "      <td>2</td>\n",
       "      <td>5.0</td>\n",
       "      <td>201924</td>\n",
       "    </tr>\n",
       "    <tr>\n",
       "      <td>112265</td>\n",
       "      <td>-0.003125</td>\n",
       "      <td>-0.012663</td>\n",
       "      <td>0.022918</td>\n",
       "      <td>-0.014270</td>\n",
       "      <td>0.005402</td>\n",
       "      <td>-0.007583</td>\n",
       "      <td>-0.005225</td>\n",
       "      <td>-0.018943</td>\n",
       "      <td>0.003991</td>\n",
       "      <td>-0.025114</td>\n",
       "      <td>...</td>\n",
       "      <td>0.005500</td>\n",
       "      <td>0.020814</td>\n",
       "      <td>0.005761</td>\n",
       "      <td>0.011722</td>\n",
       "      <td>0.000175</td>\n",
       "      <td>0.746625</td>\n",
       "      <td>1.0</td>\n",
       "      <td>2</td>\n",
       "      <td>5.0</td>\n",
       "      <td>201924</td>\n",
       "    </tr>\n",
       "  </tbody>\n",
       "</table>\n",
       "<p>187533 rows × 105 columns</p>\n",
       "</div>"
      ],
      "text/plain": [
       "              C1       C10      C100       C11       C12       C13       C14  \\\n",
       "0      -0.001495  0.002059 -0.003641  0.002519 -0.000030 -0.000061  0.000266   \n",
       "1      -0.021860  0.025023 -0.030539 -0.053737 -0.034043 -0.106272  0.101318   \n",
       "2      -0.006153  0.000252 -0.000431 -0.007744 -0.001371 -0.012007  0.004584   \n",
       "3      -0.011715  0.010112 -0.014666 -0.018584 -0.010574 -0.035928  0.037478   \n",
       "4      -0.004312  0.010082 -0.009291 -0.017374 -0.011016 -0.033451  0.031159   \n",
       "...          ...       ...       ...       ...       ...       ...       ...   \n",
       "112261  0.002639 -0.007745  0.015926 -0.011952 -0.002111 -0.004357 -0.000599   \n",
       "112262 -0.000535 -0.008106  0.016009 -0.012102  0.005943 -0.004983 -0.004764   \n",
       "112263  0.004187  0.000229  0.007715 -0.005602  0.004873 -0.005352 -0.002468   \n",
       "112264 -0.002951 -0.006462  0.012489 -0.003590 -0.002220 -0.002896 -0.001683   \n",
       "112265 -0.003125 -0.012663  0.022918 -0.014270  0.005402 -0.007583 -0.005225   \n",
       "\n",
       "             C15       C16       C17  ...       C95       C96       C97  \\\n",
       "0      -0.001268 -0.005870  0.004812  ... -0.001215 -0.005617 -0.000767   \n",
       "1       0.046353 -0.032074  0.056494  ... -0.085919 -0.086635 -0.032728   \n",
       "2      -0.001146 -0.006225  0.003439  ... -0.002505 -0.002000 -0.006141   \n",
       "3       0.020299 -0.011364  0.024920  ... -0.035902 -0.030800 -0.010657   \n",
       "4       0.015416 -0.016344  0.022197  ... -0.027211 -0.024827 -0.013575   \n",
       "...          ...       ...       ...  ...       ...       ...       ...   \n",
       "112261 -0.012847 -0.000155 -0.024394  ...  0.005706  0.015451  0.006023   \n",
       "112262 -0.011634  0.001370 -0.025071  ...  0.004042  0.014530 -0.000182   \n",
       "112263 -0.003581  0.005097 -0.003656  ... -0.003402  0.004426 -0.001443   \n",
       "112264 -0.016026  0.004791 -0.019189  ...  0.003951  0.013484  0.002950   \n",
       "112265 -0.018943  0.003991 -0.025114  ...  0.005500  0.020814  0.005761   \n",
       "\n",
       "             C98       C99  Silhouette  category  closer#  label  period  \n",
       "0       0.003659 -0.001297    0.126229       3.0        2    1.0  202011  \n",
       "1       0.003305  0.029844    0.126229       3.0        2   12.0  202011  \n",
       "2      -0.000919  0.005992    0.126229       3.0        2   13.0  202011  \n",
       "3       0.002631  0.007532    0.126229       3.0        2   12.0  202011  \n",
       "4      -0.000735  0.013313    0.126229       3.0        2   12.0  202011  \n",
       "...          ...       ...         ...       ...      ...    ...     ...  \n",
       "112261  0.001769  0.004318    0.746625       1.0        2    5.0  201924  \n",
       "112262  0.002224 -0.003322    0.746625       1.0        2    5.0  201924  \n",
       "112263  0.001934 -0.000474    0.746625       1.0        2    5.0  201924  \n",
       "112264  0.001749  0.001292    0.746625       1.0        2    5.0  201924  \n",
       "112265  0.011722  0.000175    0.746625       1.0        2    5.0  201924  \n",
       "\n",
       "[187533 rows x 105 columns]"
      ]
     },
     "execution_count": 57,
     "metadata": {},
     "output_type": "execute_result"
    }
   ],
   "source": [
    "X_train"
   ]
  },
  {
   "cell_type": "code",
   "execution_count": 58,
   "metadata": {
    "pycharm": {
     "name": "#%%\n"
    }
   },
   "outputs": [],
   "source": [
    "model = Sequential()\n",
    "model.add(Dense(120, input_dim=105, activation='relu'))\n",
    "model.add(Dense(80, activation='relu'))\n",
    "model.add(Dense(60, activation='relu'))\n",
    "model.add(Dense(40, activation='relu'))\n",
    "model.add(Dense(20, activation='relu'))\n",
    "model.add(Dense(3, activation='softmax'))"
   ]
  },
  {
   "cell_type": "code",
   "execution_count": 59,
   "metadata": {
    "pycharm": {
     "name": "#%%\n"
    }
   },
   "outputs": [],
   "source": [
    "# compile the keras model\n",
    "#model.compile(loss='binary_crossentropy', optimizer='adam', metrics=['accuracy'])\n",
    "model.compile(loss='categorical_crossentropy', optimizer='adam', metrics=['accuracy'])"
   ]
  },
  {
   "cell_type": "code",
   "execution_count": 60,
   "metadata": {
    "pycharm": {
     "name": "#%%\n"
    }
   },
   "outputs": [],
   "source": [
    "from keras.utils import to_categorical\n",
    "\n",
    "y_train = y_train.apply(lambda x : x-1)"
   ]
  },
  {
   "cell_type": "code",
   "execution_count": 61,
   "metadata": {
    "pycharm": {
     "name": "#%%\n"
    }
   },
   "outputs": [],
   "source": [
    "y_cate_train = to_categorical(y_train , num_classes=3)\n",
    "#y_cate_train = y_train"
   ]
  },
  {
   "cell_type": "code",
   "execution_count": 62,
   "metadata": {},
   "outputs": [
    {
     "data": {
      "text/plain": [
       "array([[1., 0., 0.],\n",
       "       [1., 0., 0.],\n",
       "       [1., 0., 0.],\n",
       "       ...,\n",
       "       [0., 1., 0.],\n",
       "       [0., 1., 0.],\n",
       "       [0., 1., 0.]], dtype=float32)"
      ]
     },
     "execution_count": 62,
     "metadata": {},
     "output_type": "execute_result"
    }
   ],
   "source": [
    "y_cate_train"
   ]
  },
  {
   "cell_type": "code",
   "execution_count": 63,
   "metadata": {
    "pycharm": {
     "name": "#%%\n"
    }
   },
   "outputs": [],
   "source": [
    "#y_cate_train = list(y_train)"
   ]
  },
  {
   "cell_type": "code",
   "execution_count": 64,
   "metadata": {
    "pycharm": {
     "name": "#%%\n"
    }
   },
   "outputs": [],
   "source": [
    "#X_train"
   ]
  },
  {
   "cell_type": "code",
   "execution_count": 65,
   "metadata": {
    "pycharm": {
     "name": "#%%\n"
    }
   },
   "outputs": [
    {
     "name": "stdout",
     "output_type": "stream",
     "text": [
      "Epoch 1/30\n",
      "187533/187533 [==============================] - 1s 7us/step - loss: 205.3191 - accuracy: 0.3960\n",
      "Epoch 2/30\n",
      "187533/187533 [==============================] - 1s 6us/step - loss: 52.3989 - accuracy: 0.3929\n",
      "Epoch 3/30\n",
      "187533/187533 [==============================] - 1s 6us/step - loss: 21.1064 - accuracy: 0.4007\n",
      "Epoch 4/30\n",
      "187533/187533 [==============================] - 1s 6us/step - loss: 18.5043 - accuracy: 0.3974\n",
      "Epoch 5/30\n",
      "187533/187533 [==============================] - 1s 6us/step - loss: 8.7844 - accuracy: 0.4017\n",
      "Epoch 6/30\n",
      "187533/187533 [==============================] - 1s 6us/step - loss: 4.9594 - accuracy: 0.4165\n",
      "Epoch 7/30\n",
      "187533/187533 [==============================] - 1s 6us/step - loss: 3.8424 - accuracy: 0.4143\n",
      "Epoch 8/30\n",
      "187533/187533 [==============================] - 1s 6us/step - loss: 2.8218 - accuracy: 0.4243\n",
      "Epoch 9/30\n",
      "187533/187533 [==============================] - 1s 6us/step - loss: 4.6666 - accuracy: 0.4166\n",
      "Epoch 10/30\n",
      "187533/187533 [==============================] - 1s 6us/step - loss: 1.2008 - accuracy: 0.4412\n",
      "Epoch 11/30\n",
      "187533/187533 [==============================] - 1s 6us/step - loss: 1.4501 - accuracy: 0.4362\n",
      "Epoch 12/30\n",
      "187533/187533 [==============================] - 1s 6us/step - loss: 1.0243 - accuracy: 0.4488\n",
      "Epoch 13/30\n",
      "187533/187533 [==============================] - 1s 6us/step - loss: 1.0195 - accuracy: 0.4507\n",
      "Epoch 14/30\n",
      "187533/187533 [==============================] - 1s 6us/step - loss: 1.0227 - accuracy: 0.4513\n",
      "Epoch 15/30\n",
      "187533/187533 [==============================] - 1s 6us/step - loss: 1.0055 - accuracy: 0.4533\n",
      "Epoch 16/30\n",
      "187533/187533 [==============================] - 1s 6us/step - loss: 1.0013 - accuracy: 0.4549\n",
      "Epoch 17/30\n",
      "187533/187533 [==============================] - 1s 6us/step - loss: 0.9979 - accuracy: 0.4601\n",
      "Epoch 18/30\n",
      "187533/187533 [==============================] - 1s 6us/step - loss: 6.8358 - accuracy: 0.4348\n",
      "Epoch 19/30\n",
      "187533/187533 [==============================] - 1s 6us/step - loss: 1.7658 - accuracy: 0.4335\n",
      "Epoch 20/30\n",
      "187533/187533 [==============================] - 1s 6us/step - loss: 1.0879 - accuracy: 0.4476\n",
      "Epoch 21/30\n",
      "187533/187533 [==============================] - 1s 6us/step - loss: 1.0300 - accuracy: 0.4476\n",
      "Epoch 22/30\n",
      "187533/187533 [==============================] - 1s 6us/step - loss: 1.0143 - accuracy: 0.4559\n",
      "Epoch 23/30\n",
      "187533/187533 [==============================] - 1s 6us/step - loss: 1.0367 - accuracy: 0.4506\n",
      "Epoch 24/30\n",
      "187533/187533 [==============================] - 1s 6us/step - loss: 1.0060 - accuracy: 0.4575\n",
      "Epoch 25/30\n",
      "187533/187533 [==============================] - 1s 6us/step - loss: 1.0268 - accuracy: 0.4492\n",
      "Epoch 26/30\n",
      "187533/187533 [==============================] - 1s 6us/step - loss: 0.9957 - accuracy: 0.4529\n",
      "Epoch 27/30\n",
      "187533/187533 [==============================] - 1s 6us/step - loss: 3.3851 - accuracy: 0.4452\n",
      "Epoch 28/30\n",
      "187533/187533 [==============================] - 1s 6us/step - loss: 1.1649 - accuracy: 0.4323\n",
      "Epoch 29/30\n",
      "187533/187533 [==============================] - 1s 6us/step - loss: 1.0197 - accuracy: 0.4361\n",
      "Epoch 30/30\n",
      "187533/187533 [==============================] - 1s 6us/step - loss: 1.0014 - accuracy: 0.4399\n"
     ]
    },
    {
     "data": {
      "text/plain": [
       "<keras.callbacks.callbacks.History at 0x7f9095d6cdd0>"
      ]
     },
     "execution_count": 65,
     "metadata": {},
     "output_type": "execute_result"
    }
   ],
   "source": [
    "model.fit(X_train,y_cate_train, epochs=30, batch_size=500)"
   ]
  },
  {
   "cell_type": "code",
   "execution_count": 66,
   "metadata": {
    "pycharm": {
     "name": "#%%\n"
    }
   },
   "outputs": [
    {
     "data": {
      "text/html": [
       "<div>\n",
       "<style scoped>\n",
       "    .dataframe tbody tr th:only-of-type {\n",
       "        vertical-align: middle;\n",
       "    }\n",
       "\n",
       "    .dataframe tbody tr th {\n",
       "        vertical-align: top;\n",
       "    }\n",
       "\n",
       "    .dataframe thead th {\n",
       "        text-align: right;\n",
       "    }\n",
       "</style>\n",
       "<table border=\"1\" class=\"dataframe\">\n",
       "  <thead>\n",
       "    <tr style=\"text-align: right;\">\n",
       "      <th></th>\n",
       "      <th>C1</th>\n",
       "      <th>C2</th>\n",
       "      <th>C3</th>\n",
       "      <th>C4</th>\n",
       "      <th>C5</th>\n",
       "      <th>C6</th>\n",
       "      <th>C7</th>\n",
       "      <th>C8</th>\n",
       "      <th>C9</th>\n",
       "      <th>C10</th>\n",
       "      <th>...</th>\n",
       "      <th>C96</th>\n",
       "      <th>C97</th>\n",
       "      <th>C98</th>\n",
       "      <th>C99</th>\n",
       "      <th>C100</th>\n",
       "      <th>period</th>\n",
       "      <th>closer#</th>\n",
       "      <th>category</th>\n",
       "      <th>label</th>\n",
       "      <th>Silhouette</th>\n",
       "    </tr>\n",
       "  </thead>\n",
       "  <tbody>\n",
       "    <tr>\n",
       "      <td>0</td>\n",
       "      <td>0.193276</td>\n",
       "      <td>-0.704265</td>\n",
       "      <td>-0.058637</td>\n",
       "      <td>-0.526841</td>\n",
       "      <td>-0.093432</td>\n",
       "      <td>0.640591</td>\n",
       "      <td>0.530594</td>\n",
       "      <td>-0.231643</td>\n",
       "      <td>0.710645</td>\n",
       "      <td>0.354861</td>\n",
       "      <td>...</td>\n",
       "      <td>1.066586</td>\n",
       "      <td>-0.492452</td>\n",
       "      <td>0.110801</td>\n",
       "      <td>1.513927</td>\n",
       "      <td>0.483434</td>\n",
       "      <td>201712</td>\n",
       "      <td>2</td>\n",
       "      <td>3</td>\n",
       "      <td>13.0</td>\n",
       "      <td>0.769844</td>\n",
       "    </tr>\n",
       "    <tr>\n",
       "      <td>1</td>\n",
       "      <td>0.053015</td>\n",
       "      <td>-0.168041</td>\n",
       "      <td>-0.046956</td>\n",
       "      <td>-0.195397</td>\n",
       "      <td>-0.033421</td>\n",
       "      <td>0.189001</td>\n",
       "      <td>0.173464</td>\n",
       "      <td>-0.048425</td>\n",
       "      <td>0.236529</td>\n",
       "      <td>0.145954</td>\n",
       "      <td>...</td>\n",
       "      <td>0.345119</td>\n",
       "      <td>-0.146398</td>\n",
       "      <td>-0.047513</td>\n",
       "      <td>0.443642</td>\n",
       "      <td>0.169772</td>\n",
       "      <td>201712</td>\n",
       "      <td>2</td>\n",
       "      <td>3</td>\n",
       "      <td>7.0</td>\n",
       "      <td>0.769844</td>\n",
       "    </tr>\n",
       "    <tr>\n",
       "      <td>2</td>\n",
       "      <td>0.187034</td>\n",
       "      <td>-0.385396</td>\n",
       "      <td>-0.092749</td>\n",
       "      <td>-0.584313</td>\n",
       "      <td>-0.192518</td>\n",
       "      <td>0.383262</td>\n",
       "      <td>0.536007</td>\n",
       "      <td>-0.128646</td>\n",
       "      <td>0.693914</td>\n",
       "      <td>0.571300</td>\n",
       "      <td>...</td>\n",
       "      <td>0.952153</td>\n",
       "      <td>-0.561850</td>\n",
       "      <td>-0.430627</td>\n",
       "      <td>0.990200</td>\n",
       "      <td>0.525449</td>\n",
       "      <td>201712</td>\n",
       "      <td>2</td>\n",
       "      <td>3</td>\n",
       "      <td>11.0</td>\n",
       "      <td>0.769844</td>\n",
       "    </tr>\n",
       "    <tr>\n",
       "      <td>3</td>\n",
       "      <td>0.006207</td>\n",
       "      <td>-0.004175</td>\n",
       "      <td>0.002687</td>\n",
       "      <td>-0.011512</td>\n",
       "      <td>0.002024</td>\n",
       "      <td>0.011322</td>\n",
       "      <td>0.011873</td>\n",
       "      <td>-0.003935</td>\n",
       "      <td>0.008462</td>\n",
       "      <td>0.006518</td>\n",
       "      <td>...</td>\n",
       "      <td>0.012300</td>\n",
       "      <td>-0.005470</td>\n",
       "      <td>0.000625</td>\n",
       "      <td>0.017307</td>\n",
       "      <td>0.006009</td>\n",
       "      <td>201712</td>\n",
       "      <td>2</td>\n",
       "      <td>3</td>\n",
       "      <td>5.0</td>\n",
       "      <td>0.769844</td>\n",
       "    </tr>\n",
       "    <tr>\n",
       "      <td>4</td>\n",
       "      <td>0.007514</td>\n",
       "      <td>-0.026640</td>\n",
       "      <td>-0.010339</td>\n",
       "      <td>-0.032414</td>\n",
       "      <td>-0.008747</td>\n",
       "      <td>0.030333</td>\n",
       "      <td>0.029958</td>\n",
       "      <td>-0.013449</td>\n",
       "      <td>0.038326</td>\n",
       "      <td>0.024106</td>\n",
       "      <td>...</td>\n",
       "      <td>0.063352</td>\n",
       "      <td>-0.025889</td>\n",
       "      <td>-0.009849</td>\n",
       "      <td>0.080098</td>\n",
       "      <td>0.028550</td>\n",
       "      <td>201712</td>\n",
       "      <td>2</td>\n",
       "      <td>3</td>\n",
       "      <td>5.0</td>\n",
       "      <td>0.769844</td>\n",
       "    </tr>\n",
       "    <tr>\n",
       "      <td>...</td>\n",
       "      <td>...</td>\n",
       "      <td>...</td>\n",
       "      <td>...</td>\n",
       "      <td>...</td>\n",
       "      <td>...</td>\n",
       "      <td>...</td>\n",
       "      <td>...</td>\n",
       "      <td>...</td>\n",
       "      <td>...</td>\n",
       "      <td>...</td>\n",
       "      <td>...</td>\n",
       "      <td>...</td>\n",
       "      <td>...</td>\n",
       "      <td>...</td>\n",
       "      <td>...</td>\n",
       "      <td>...</td>\n",
       "      <td>...</td>\n",
       "      <td>...</td>\n",
       "      <td>...</td>\n",
       "      <td>...</td>\n",
       "      <td>...</td>\n",
       "    </tr>\n",
       "    <tr>\n",
       "      <td>67760</td>\n",
       "      <td>-0.014014</td>\n",
       "      <td>0.021627</td>\n",
       "      <td>0.016127</td>\n",
       "      <td>0.008295</td>\n",
       "      <td>0.015609</td>\n",
       "      <td>-0.014095</td>\n",
       "      <td>0.029989</td>\n",
       "      <td>0.006034</td>\n",
       "      <td>0.010235</td>\n",
       "      <td>0.010937</td>\n",
       "      <td>...</td>\n",
       "      <td>0.013051</td>\n",
       "      <td>-0.019628</td>\n",
       "      <td>0.002326</td>\n",
       "      <td>-0.010531</td>\n",
       "      <td>0.001661</td>\n",
       "      <td>201821</td>\n",
       "      <td>2</td>\n",
       "      <td>3</td>\n",
       "      <td>6.0</td>\n",
       "      <td>0.783332</td>\n",
       "    </tr>\n",
       "    <tr>\n",
       "      <td>67761</td>\n",
       "      <td>-0.014876</td>\n",
       "      <td>0.028154</td>\n",
       "      <td>0.017737</td>\n",
       "      <td>0.004379</td>\n",
       "      <td>0.018459</td>\n",
       "      <td>-0.021002</td>\n",
       "      <td>0.030579</td>\n",
       "      <td>0.002764</td>\n",
       "      <td>0.009578</td>\n",
       "      <td>0.019444</td>\n",
       "      <td>...</td>\n",
       "      <td>0.012821</td>\n",
       "      <td>-0.026994</td>\n",
       "      <td>0.001646</td>\n",
       "      <td>-0.005891</td>\n",
       "      <td>0.000023</td>\n",
       "      <td>201821</td>\n",
       "      <td>2</td>\n",
       "      <td>3</td>\n",
       "      <td>6.0</td>\n",
       "      <td>0.783332</td>\n",
       "    </tr>\n",
       "    <tr>\n",
       "      <td>67762</td>\n",
       "      <td>-0.017387</td>\n",
       "      <td>0.024935</td>\n",
       "      <td>0.015646</td>\n",
       "      <td>0.009288</td>\n",
       "      <td>0.029313</td>\n",
       "      <td>-0.020477</td>\n",
       "      <td>0.037860</td>\n",
       "      <td>0.004750</td>\n",
       "      <td>0.006998</td>\n",
       "      <td>0.022420</td>\n",
       "      <td>...</td>\n",
       "      <td>0.016014</td>\n",
       "      <td>-0.029438</td>\n",
       "      <td>0.001944</td>\n",
       "      <td>-0.008216</td>\n",
       "      <td>-0.006010</td>\n",
       "      <td>201821</td>\n",
       "      <td>2</td>\n",
       "      <td>3</td>\n",
       "      <td>6.0</td>\n",
       "      <td>0.783332</td>\n",
       "    </tr>\n",
       "    <tr>\n",
       "      <td>67763</td>\n",
       "      <td>-0.022239</td>\n",
       "      <td>0.027148</td>\n",
       "      <td>0.015270</td>\n",
       "      <td>0.007224</td>\n",
       "      <td>0.022871</td>\n",
       "      <td>-0.018405</td>\n",
       "      <td>0.034523</td>\n",
       "      <td>0.006758</td>\n",
       "      <td>0.012146</td>\n",
       "      <td>0.016828</td>\n",
       "      <td>...</td>\n",
       "      <td>0.014560</td>\n",
       "      <td>-0.027060</td>\n",
       "      <td>0.004125</td>\n",
       "      <td>-0.007462</td>\n",
       "      <td>-0.003877</td>\n",
       "      <td>201821</td>\n",
       "      <td>2</td>\n",
       "      <td>3</td>\n",
       "      <td>6.0</td>\n",
       "      <td>0.783332</td>\n",
       "    </tr>\n",
       "    <tr>\n",
       "      <td>67764</td>\n",
       "      <td>-0.004979</td>\n",
       "      <td>0.004534</td>\n",
       "      <td>0.008296</td>\n",
       "      <td>0.000975</td>\n",
       "      <td>0.003701</td>\n",
       "      <td>-0.005433</td>\n",
       "      <td>0.007634</td>\n",
       "      <td>0.001302</td>\n",
       "      <td>-0.000018</td>\n",
       "      <td>0.008159</td>\n",
       "      <td>...</td>\n",
       "      <td>-0.001003</td>\n",
       "      <td>-0.003138</td>\n",
       "      <td>-0.002980</td>\n",
       "      <td>0.001237</td>\n",
       "      <td>-0.002532</td>\n",
       "      <td>201821</td>\n",
       "      <td>2</td>\n",
       "      <td>3</td>\n",
       "      <td>6.0</td>\n",
       "      <td>0.783332</td>\n",
       "    </tr>\n",
       "  </tbody>\n",
       "</table>\n",
       "<p>67765 rows × 105 columns</p>\n",
       "</div>"
      ],
      "text/plain": [
       "             C1        C2        C3        C4        C5        C6        C7  \\\n",
       "0      0.193276 -0.704265 -0.058637 -0.526841 -0.093432  0.640591  0.530594   \n",
       "1      0.053015 -0.168041 -0.046956 -0.195397 -0.033421  0.189001  0.173464   \n",
       "2      0.187034 -0.385396 -0.092749 -0.584313 -0.192518  0.383262  0.536007   \n",
       "3      0.006207 -0.004175  0.002687 -0.011512  0.002024  0.011322  0.011873   \n",
       "4      0.007514 -0.026640 -0.010339 -0.032414 -0.008747  0.030333  0.029958   \n",
       "...         ...       ...       ...       ...       ...       ...       ...   \n",
       "67760 -0.014014  0.021627  0.016127  0.008295  0.015609 -0.014095  0.029989   \n",
       "67761 -0.014876  0.028154  0.017737  0.004379  0.018459 -0.021002  0.030579   \n",
       "67762 -0.017387  0.024935  0.015646  0.009288  0.029313 -0.020477  0.037860   \n",
       "67763 -0.022239  0.027148  0.015270  0.007224  0.022871 -0.018405  0.034523   \n",
       "67764 -0.004979  0.004534  0.008296  0.000975  0.003701 -0.005433  0.007634   \n",
       "\n",
       "             C8        C9       C10  ...       C96       C97       C98  \\\n",
       "0     -0.231643  0.710645  0.354861  ...  1.066586 -0.492452  0.110801   \n",
       "1     -0.048425  0.236529  0.145954  ...  0.345119 -0.146398 -0.047513   \n",
       "2     -0.128646  0.693914  0.571300  ...  0.952153 -0.561850 -0.430627   \n",
       "3     -0.003935  0.008462  0.006518  ...  0.012300 -0.005470  0.000625   \n",
       "4     -0.013449  0.038326  0.024106  ...  0.063352 -0.025889 -0.009849   \n",
       "...         ...       ...       ...  ...       ...       ...       ...   \n",
       "67760  0.006034  0.010235  0.010937  ...  0.013051 -0.019628  0.002326   \n",
       "67761  0.002764  0.009578  0.019444  ...  0.012821 -0.026994  0.001646   \n",
       "67762  0.004750  0.006998  0.022420  ...  0.016014 -0.029438  0.001944   \n",
       "67763  0.006758  0.012146  0.016828  ...  0.014560 -0.027060  0.004125   \n",
       "67764  0.001302 -0.000018  0.008159  ... -0.001003 -0.003138 -0.002980   \n",
       "\n",
       "            C99      C100  period  closer#  category  label  Silhouette  \n",
       "0      1.513927  0.483434  201712        2         3   13.0    0.769844  \n",
       "1      0.443642  0.169772  201712        2         3    7.0    0.769844  \n",
       "2      0.990200  0.525449  201712        2         3   11.0    0.769844  \n",
       "3      0.017307  0.006009  201712        2         3    5.0    0.769844  \n",
       "4      0.080098  0.028550  201712        2         3    5.0    0.769844  \n",
       "...         ...       ...     ...      ...       ...    ...         ...  \n",
       "67760 -0.010531  0.001661  201821        2         3    6.0    0.783332  \n",
       "67761 -0.005891  0.000023  201821        2         3    6.0    0.783332  \n",
       "67762 -0.008216 -0.006010  201821        2         3    6.0    0.783332  \n",
       "67763 -0.007462 -0.003877  201821        2         3    6.0    0.783332  \n",
       "67764  0.001237 -0.002532  201821        2         3    6.0    0.783332  \n",
       "\n",
       "[67765 rows x 105 columns]"
      ]
     },
     "execution_count": 66,
     "metadata": {},
     "output_type": "execute_result"
    }
   ],
   "source": [
    "X_test"
   ]
  },
  {
   "cell_type": "code",
   "execution_count": 67,
   "metadata": {
    "pycharm": {
     "name": "#%%\n"
    }
   },
   "outputs": [],
   "source": [
    "y_test = y_test.apply(lambda x : x-1)"
   ]
  },
  {
   "cell_type": "code",
   "execution_count": 68,
   "metadata": {
    "pycharm": {
     "name": "#%%\n"
    }
   },
   "outputs": [],
   "source": [
    "y_cate_test = to_categorical(y_test , num_classes=3)"
   ]
  },
  {
   "cell_type": "code",
   "execution_count": 69,
   "metadata": {
    "pycharm": {
     "name": "#%%\n"
    }
   },
   "outputs": [
    {
     "data": {
      "text/plain": [
       "array([[0., 1., 0.],\n",
       "       [0., 1., 0.],\n",
       "       [0., 1., 0.],\n",
       "       ...,\n",
       "       [1., 0., 0.],\n",
       "       [1., 0., 0.],\n",
       "       [1., 0., 0.]], dtype=float32)"
      ]
     },
     "execution_count": 69,
     "metadata": {},
     "output_type": "execute_result"
    }
   ],
   "source": [
    "y_cate_test"
   ]
  },
  {
   "cell_type": "code",
   "execution_count": 70,
   "metadata": {},
   "outputs": [
    {
     "name": "stdout",
     "output_type": "stream",
     "text": [
      "67765/67765 [==============================] - 0s 3us/step\n"
     ]
    }
   ],
   "source": [
    "score = model.evaluate(X_test, y_cate_test, batch_size=500)"
   ]
  },
  {
   "cell_type": "code",
   "execution_count": 71,
   "metadata": {
    "pycharm": {
     "name": "#%%\n"
    }
   },
   "outputs": [],
   "source": [
    "#score = model.evaluate(X_test, y_cate_test, batch_size=500)"
   ]
  },
  {
   "cell_type": "code",
   "execution_count": 72,
   "metadata": {
    "pycharm": {
     "name": "#%%\n"
    }
   },
   "outputs": [
    {
     "data": {
      "text/plain": [
       "[2147.2825589345707, 0.0]"
      ]
     },
     "execution_count": 72,
     "metadata": {},
     "output_type": "execute_result"
    }
   ],
   "source": [
    "score"
   ]
  },
  {
   "cell_type": "code",
   "execution_count": 73,
   "metadata": {
    "pycharm": {
     "name": "#%%\n"
    }
   },
   "outputs": [],
   "source": [
    "yhat_probs = model.predict(X_test ,batch_size=500 )\n",
    "\n",
    "yhat_classes = model.predict_classes(X_test ,batch_size=500 )\n",
    "\n",
    "# reduce to 1d array\n",
    "#yhat_probs = yhat_probs[:, 0]\n",
    "#yhat_classes = yhat_classes[:, 0]"
   ]
  },
  {
   "cell_type": "code",
   "execution_count": 74,
   "metadata": {},
   "outputs": [
    {
     "data": {
      "text/plain": [
       "array([[0., 0., 1.],\n",
       "       [0., 0., 1.],\n",
       "       [0., 0., 1.],\n",
       "       ...,\n",
       "       [0., 0., 1.],\n",
       "       [0., 0., 1.],\n",
       "       [0., 0., 1.]], dtype=float32)"
      ]
     },
     "execution_count": 74,
     "metadata": {},
     "output_type": "execute_result"
    }
   ],
   "source": [
    "yhat_probs"
   ]
  },
  {
   "cell_type": "code",
   "execution_count": 75,
   "metadata": {
    "pycharm": {
     "name": "#%%\n"
    }
   },
   "outputs": [
    {
     "data": {
      "text/plain": [
       "array([2, 2, 2, ..., 2, 2, 2])"
      ]
     },
     "execution_count": 75,
     "metadata": {},
     "output_type": "execute_result"
    }
   ],
   "source": [
    "yhat_classes"
   ]
  },
  {
   "cell_type": "code",
   "execution_count": 76,
   "metadata": {
    "pycharm": {
     "name": "#%%\n"
    }
   },
   "outputs": [
    {
     "data": {
      "text/plain": [
       "array([[0., 1., 0.],\n",
       "       [0., 1., 0.],\n",
       "       [0., 1., 0.],\n",
       "       ...,\n",
       "       [1., 0., 0.],\n",
       "       [1., 0., 0.],\n",
       "       [1., 0., 0.]], dtype=float32)"
      ]
     },
     "execution_count": 76,
     "metadata": {},
     "output_type": "execute_result"
    }
   ],
   "source": [
    "y_cate_test"
   ]
  },
  {
   "cell_type": "code",
   "execution_count": 77,
   "metadata": {
    "pycharm": {
     "name": "#%%\n"
    }
   },
   "outputs": [
    {
     "name": "stdout",
     "output_type": "stream",
     "text": [
      "Accuracy: 0.000000\n",
      "Precision: 0.000000\n",
      "Recall: 0.000000\n",
      "F1 score: 0.000000\n"
     ]
    }
   ],
   "source": [
    "# accuracy: (tp + tn) / (p + n)\n",
    "accuracy = accuracy_score(y_test, yhat_classes )\n",
    "print('Accuracy: %f' % accuracy)\n",
    "# precision tp / (tp + fp)\n",
    "precision = precision_score(y_test, yhat_classes , average='micro')\n",
    "print('Precision: %f' % precision)\n",
    "# recall: tp / (tp + fn)\n",
    "recall = recall_score(y_test, yhat_classes , average='micro')\n",
    "print('Recall: %f' % recall)\n",
    "# f1: 2 tp / (2 tp + fp + fn)\n",
    "f1 = f1_score(y_test, yhat_classes,average='micro')\n",
    "print('F1 score: %f' % f1)"
   ]
  },
  {
   "cell_type": "code",
   "execution_count": 78,
   "metadata": {
    "pycharm": {
     "name": "#%%\n"
    }
   },
   "outputs": [
    {
     "name": "stdout",
     "output_type": "stream",
     "text": [
      "0        1\n",
      "1        1\n",
      "2        1\n",
      "3        1\n",
      "4        1\n",
      "        ..\n",
      "67760    0\n",
      "67761    0\n",
      "67762    0\n",
      "67763    0\n",
      "67764    0\n",
      "Name: result, Length: 67765, dtype: int64\n",
      "[[0 1 0]\n",
      " [0 1 0]\n",
      " [0 1 0]\n",
      " ...\n",
      " [1 0 0]\n",
      " [1 0 0]\n",
      " [1 0 0]]\n",
      "class :  0 == 0.5\n",
      "class :  1 == 0.5\n",
      "class :  2 == nan\n"
     ]
    },
    {
     "name": "stderr",
     "output_type": "stream",
     "text": [
      "/Users/hongminpyo/opt/anaconda3/lib/python3.7/site-packages/sklearn/metrics/_ranking.py:813: UndefinedMetricWarning: No positive samples in y_true, true positive value should be meaningless\n",
      "  UndefinedMetricWarning)\n"
     ]
    }
   ],
   "source": [
    "# Compute ROC curve and ROC area for each class\n",
    "fpr = dict()\n",
    "tpr = dict()\n",
    "roc_auc = dict()\n",
    "\n",
    "y_test_roc =label_binarize(y_test, classes=[0, 1, 2])\n",
    "\n",
    "print(y_test)\n",
    "print(y_test_roc)\n",
    "\n",
    "for i in range(3):\n",
    "    fpr[i], tpr[i], _ = roc_curve(y_test_roc[:, i], yhat_probs[:, i])\n",
    "    roc_auc[i] = auc(fpr[i], tpr[i])\n",
    "    print('class : ',i,'==',roc_auc[i])"
   ]
  },
  {
   "cell_type": "code",
   "execution_count": 79,
   "metadata": {
    "pycharm": {
     "name": "#%%\n"
    }
   },
   "outputs": [],
   "source": [
    "# Compute micro-average ROC curve and ROC area\n",
    "fpr[\"micro\"], tpr[\"micro\"], _ = roc_curve(y_test_roc.ravel(), yhat_probs.ravel())\n",
    "roc_auc[\"micro\"] = auc(fpr[\"micro\"], tpr[\"micro\"])"
   ]
  },
  {
   "cell_type": "code",
   "execution_count": 80,
   "metadata": {
    "pycharm": {
     "name": "#%%\n"
    }
   },
   "outputs": [
    {
     "data": {
      "image/png": "[encoded data removed]",
      "text/plain": [
       "<Figure size 432x288 with 1 Axes>"
      ]
     },
     "metadata": {
      "needs_background": "light"
     },
     "output_type": "display_data"
    }
   ],
   "source": [
    "plt.figure()\n",
    "lw = 2\n",
    "plt.plot(fpr[1], tpr[1], color='darkorange',\n",
    "         lw=lw, label='ROC curve (area = %0.2f)' % roc_auc[2])\n",
    "plt.plot([0, 1], [0, 1], color='navy', lw=lw, linestyle='--')\n",
    "plt.xlim([0.0, 1.0])\n",
    "plt.ylim([0.0, 1.05])\n",
    "plt.xlabel('False Positive Rate')\n",
    "plt.ylabel('True Positive Rate')\n",
    "plt.title('Receiver operating characteristic example')\n",
    "plt.legend(loc=\"lower right\")\n",
    "plt.show()\n"
   ]
  },
  {
   "cell_type": "code",
   "execution_count": 81,
   "metadata": {
    "pycharm": {
     "name": "#%%\n"
    }
   },
   "outputs": [
    {
     "data": {
      "image/png": "[encoded data removed]",
      "text/plain": [
       "<Figure size 432x288 with 1 Axes>"
      ]
     },
     "metadata": {
      "needs_background": "light"
     },
     "output_type": "display_data"
    }
   ],
   "source": [
    "# First aggregate all false positive rates\n",
    "all_fpr = np.unique(np.concatenate([fpr[i] for i in range(3)]))\n",
    "\n",
    "# Then interpolate all ROC curves at this points\n",
    "mean_tpr = np.zeros_like(all_fpr)\n",
    "for i in range(3):\n",
    "    mean_tpr += interp(all_fpr, fpr[i], tpr[i])\n",
    "\n",
    "# Finally average it and compute AUC\n",
    "mean_tpr /= 3\n",
    "\n",
    "fpr[\"macro\"] = all_fpr\n",
    "tpr[\"macro\"] = mean_tpr\n",
    "roc_auc[\"macro\"] = auc(fpr[\"macro\"], tpr[\"macro\"])\n",
    "\n",
    "# Plot all ROC curves\n",
    "plt.figure()\n",
    "plt.plot(fpr[\"micro\"], tpr[\"micro\"],\n",
    "         label='micro-average ROC curve (area = {0:0.2f})'\n",
    "               ''.format(roc_auc[\"micro\"]),\n",
    "         color='deeppink', linestyle=':', linewidth=4)\n",
    "\n",
    "plt.plot(fpr[\"macro\"], tpr[\"macro\"],\n",
    "         label='macro-average ROC curve (area = {0:0.2f})'\n",
    "               ''.format(roc_auc[\"macro\"]),\n",
    "         color='navy', linestyle=':', linewidth=4)\n",
    "\n",
    "colors = cycle(['aqua', 'darkorange', 'cornflowerblue'])\n",
    "for i, color in zip(range(3), colors):\n",
    "    plt.plot(fpr[i], tpr[i], color=color, lw=lw,\n",
    "             label='ROC curve of class {0} (area = {1:0.2f})'\n",
    "             ''.format(i, roc_auc[i]))\n",
    "\n",
    "plt.plot([0, 1], [0, 1], 'k--', lw=lw)\n",
    "plt.xlim([0.0, 1.0])\n",
    "plt.ylim([0.0, 1.05])\n",
    "plt.xlabel('False Positive Rate')\n",
    "plt.ylabel('True Positive Rate')\n",
    "plt.title('Some extension of Receiver operating characteristic to multi-class')\n",
    "plt.legend(loc=\"lower right\")\n",
    "plt.show()"
   ]
  },
  {
   "cell_type": "code",
   "execution_count": 82,
   "metadata": {
    "pycharm": {
     "name": "#%%\n"
    }
   },
   "outputs": [
    {
     "name": "stdout",
     "output_type": "stream",
     "text": [
      "Accuracy: 0.000000\n",
      "Precision: 0.000000\n",
      "Recall: 0.000000\n",
      "F1 score: 0.000000\n"
     ]
    }
   ],
   "source": [
    "# accuracy: (tp + tn) / (p + n)\n",
    "accuracy = accuracy_score(y_test, yhat_classes )\n",
    "print('Accuracy: %f' % accuracy)\n",
    "# precision tp / (tp + fp)\n",
    "precision = precision_score(y_test, yhat_classes , average='micro')\n",
    "print('Precision: %f' % precision)\n",
    "# recall: tp / (tp + fn)\n",
    "recall = recall_score(y_test, yhat_classes , average='micro')\n",
    "print('Recall: %f' % recall)\n",
    "# f1: 2 tp / (2 tp + fp + fn)\n",
    "f1 = f1_score(y_test, yhat_classes,average='micro')\n",
    "print('F1 score: %f' % f1)"
   ]
  },
  {
   "cell_type": "code",
   "execution_count": 83,
   "metadata": {
    "pycharm": {
     "name": "#%%\n"
    }
   },
   "outputs": [
    {
     "name": "stdout",
     "output_type": "stream",
     "text": [
      "0        1\n",
      "1        1\n",
      "2        1\n",
      "3        1\n",
      "4        1\n",
      "        ..\n",
      "67760    0\n",
      "67761    0\n",
      "67762    0\n",
      "67763    0\n",
      "67764    0\n",
      "Name: result, Length: 67765, dtype: int64\n",
      "[[0 1 0]\n",
      " [0 1 0]\n",
      " [0 1 0]\n",
      " ...\n",
      " [1 0 0]\n",
      " [1 0 0]\n",
      " [1 0 0]]\n",
      "class :  0 == 0.5\n",
      "class :  1 == 0.5\n",
      "class :  2 == nan\n"
     ]
    },
    {
     "name": "stderr",
     "output_type": "stream",
     "text": [
      "/Users/hongminpyo/opt/anaconda3/lib/python3.7/site-packages/sklearn/metrics/_ranking.py:813: UndefinedMetricWarning: No positive samples in y_true, true positive value should be meaningless\n",
      "  UndefinedMetricWarning)\n"
     ]
    }
   ],
   "source": [
    "# Compute ROC curve and ROC area for each class\n",
    "fpr = dict()\n",
    "tpr = dict()\n",
    "roc_auc = dict()\n",
    "\n",
    "y_test_roc =label_binarize(y_test, classes=[0, 1, 2])\n",
    "\n",
    "print(y_test)\n",
    "print(y_test_roc)\n",
    "\n",
    "for i in range(3):\n",
    "    fpr[i], tpr[i], _ = roc_curve(y_test_roc[:, i], yhat_probs[:, i])\n",
    "    roc_auc[i] = auc(fpr[i], tpr[i])\n",
    "    print('class : ',i,'==',roc_auc[i])"
   ]
  },
  {
   "cell_type": "code",
   "execution_count": 84,
   "metadata": {
    "pycharm": {
     "name": "#%%\n"
    }
   },
   "outputs": [],
   "source": [
    "# Compute micro-average ROC curve and ROC area\n",
    "fpr[\"micro\"], tpr[\"micro\"], _ = roc_curve(y_test_roc.ravel(), yhat_probs.ravel())\n",
    "roc_auc[\"micro\"] = auc(fpr[\"micro\"], tpr[\"micro\"])"
   ]
  },
  {
   "cell_type": "code",
   "execution_count": 85,
   "metadata": {
    "pycharm": {
     "name": "#%%\n"
    }
   },
   "outputs": [
    {
     "data": {
      "image/png": "[encoded data removed]",
      "text/plain": [
       "<Figure size 432x288 with 1 Axes>"
      ]
     },
     "metadata": {
      "needs_background": "light"
     },
     "output_type": "display_data"
    }
   ],
   "source": [
    "plt.figure()\n",
    "lw = 2\n",
    "plt.plot(fpr[1], tpr[1], color='darkorange',\n",
    "         lw=lw, label='ROC curve (area = %0.2f)' % roc_auc[2])\n",
    "plt.plot([0, 1], [0, 1], color='navy', lw=lw, linestyle='--')\n",
    "plt.xlim([0.0, 1.0])\n",
    "plt.ylim([0.0, 1.05])\n",
    "plt.xlabel('False Positive Rate')\n",
    "plt.ylabel('True Positive Rate')\n",
    "plt.title('Receiver operating characteristic example')\n",
    "plt.legend(loc=\"lower right\")\n",
    "plt.show()\n"
   ]
  },
  {
   "cell_type": "code",
   "execution_count": 86,
   "metadata": {
    "pycharm": {
     "name": "#%%\n"
    }
   },
   "outputs": [
    {
     "data": {
      "image/png": "[encoded data removed]",
      "text/plain": [
       "<Figure size 432x288 with 1 Axes>"
      ]
     },
     "metadata": {
      "needs_background": "light"
     },
     "output_type": "display_data"
    }
   ],
   "source": [
    "# First aggregate all false positive rates\n",
    "all_fpr = np.unique(np.concatenate([fpr[i] for i in range(3)]))\n",
    "\n",
    "# Then interpolate all ROC curves at this points\n",
    "mean_tpr = np.zeros_like(all_fpr)\n",
    "for i in range(3):\n",
    "    mean_tpr += interp(all_fpr, fpr[i], tpr[i])\n",
    "\n",
    "# Finally average it and compute AUC\n",
    "mean_tpr /= 3\n",
    "\n",
    "fpr[\"macro\"] = all_fpr\n",
    "tpr[\"macro\"] = mean_tpr\n",
    "roc_auc[\"macro\"] = auc(fpr[\"macro\"], tpr[\"macro\"])\n",
    "\n",
    "# Plot all ROC curves\n",
    "plt.figure()\n",
    "plt.plot(fpr[\"micro\"], tpr[\"micro\"],\n",
    "         label='micro-average ROC curve (area = {0:0.2f})'\n",
    "               ''.format(roc_auc[\"micro\"]),\n",
    "         color='deeppink', linestyle=':', linewidth=4)\n",
    "\n",
    "plt.plot(fpr[\"macro\"], tpr[\"macro\"],\n",
    "         label='macro-average ROC curve (area = {0:0.2f})'\n",
    "               ''.format(roc_auc[\"macro\"]),\n",
    "         color='navy', linestyle=':', linewidth=4)\n",
    "\n",
    "colors = cycle(['aqua', 'darkorange', 'cornflowerblue'])\n",
    "for i, color in zip(range(3), colors):\n",
    "    plt.plot(fpr[i], tpr[i], color=color, lw=lw,\n",
    "             label='ROC curve of class {0} (area = {1:0.2f})'\n",
    "             ''.format(i, roc_auc[i]))\n",
    "\n",
    "plt.plot([0, 1], [0, 1], 'k--', lw=lw)\n",
    "plt.xlim([0.0, 1.0])\n",
    "plt.ylim([0.0, 1.05])\n",
    "plt.xlabel('False Positive Rate')\n",
    "plt.ylabel('True Positive Rate')\n",
    "plt.title('Some extension of Receiver operating characteristic to multi-class')\n",
    "plt.legend(loc=\"lower right\")\n",
    "plt.show()"
   ]
  },
  {
   "cell_type": "code",
   "execution_count": 87,
   "metadata": {
    "pycharm": {
     "name": "#%%\n"
    }
   },
   "outputs": [],
   "source": [
    "btc_beforeset = pd.concat([X_test,y_test],axis=1)"
   ]
  },
  {
   "cell_type": "code",
   "execution_count": 91,
   "metadata": {},
   "outputs": [
    {
     "data": {
      "text/html": [
       "<div>\n",
       "<style scoped>\n",
       "    .dataframe tbody tr th:only-of-type {\n",
       "        vertical-align: middle;\n",
       "    }\n",
       "\n",
       "    .dataframe tbody tr th {\n",
       "        vertical-align: top;\n",
       "    }\n",
       "\n",
       "    .dataframe thead th {\n",
       "        text-align: right;\n",
       "    }\n",
       "</style>\n",
       "<table border=\"1\" class=\"dataframe\">\n",
       "  <thead>\n",
       "    <tr style=\"text-align: right;\">\n",
       "      <th></th>\n",
       "      <th>C1</th>\n",
       "      <th>C2</th>\n",
       "      <th>C3</th>\n",
       "      <th>C4</th>\n",
       "      <th>C5</th>\n",
       "      <th>C6</th>\n",
       "      <th>C7</th>\n",
       "      <th>C8</th>\n",
       "      <th>C9</th>\n",
       "      <th>C10</th>\n",
       "      <th>...</th>\n",
       "      <th>C97</th>\n",
       "      <th>C98</th>\n",
       "      <th>C99</th>\n",
       "      <th>C100</th>\n",
       "      <th>period</th>\n",
       "      <th>closer#</th>\n",
       "      <th>category</th>\n",
       "      <th>label</th>\n",
       "      <th>Silhouette</th>\n",
       "      <th>result</th>\n",
       "    </tr>\n",
       "  </thead>\n",
       "  <tbody>\n",
       "    <tr>\n",
       "      <td>6548</td>\n",
       "      <td>0.021244</td>\n",
       "      <td>-0.179155</td>\n",
       "      <td>0.043439</td>\n",
       "      <td>0.067042</td>\n",
       "      <td>-0.044138</td>\n",
       "      <td>-0.054896</td>\n",
       "      <td>-0.019389</td>\n",
       "      <td>0.021577</td>\n",
       "      <td>-0.136345</td>\n",
       "      <td>-0.001217</td>\n",
       "      <td>...</td>\n",
       "      <td>-0.048500</td>\n",
       "      <td>-0.058492</td>\n",
       "      <td>0.069750</td>\n",
       "      <td>0.135522</td>\n",
       "      <td>201711</td>\n",
       "      <td>2</td>\n",
       "      <td>3</td>\n",
       "      <td>1.0</td>\n",
       "      <td>0.712854</td>\n",
       "      <td>0</td>\n",
       "    </tr>\n",
       "    <tr>\n",
       "      <td>6549</td>\n",
       "      <td>0.078436</td>\n",
       "      <td>-0.538095</td>\n",
       "      <td>0.139564</td>\n",
       "      <td>0.198362</td>\n",
       "      <td>-0.129789</td>\n",
       "      <td>-0.186088</td>\n",
       "      <td>-0.052689</td>\n",
       "      <td>0.056239</td>\n",
       "      <td>-0.431282</td>\n",
       "      <td>0.025009</td>\n",
       "      <td>...</td>\n",
       "      <td>-0.162715</td>\n",
       "      <td>-0.169626</td>\n",
       "      <td>0.214345</td>\n",
       "      <td>0.440217</td>\n",
       "      <td>201711</td>\n",
       "      <td>2</td>\n",
       "      <td>3</td>\n",
       "      <td>12.0</td>\n",
       "      <td>0.712854</td>\n",
       "      <td>0</td>\n",
       "    </tr>\n",
       "    <tr>\n",
       "      <td>6550</td>\n",
       "      <td>0.350952</td>\n",
       "      <td>-1.754065</td>\n",
       "      <td>0.545141</td>\n",
       "      <td>0.794947</td>\n",
       "      <td>-0.475780</td>\n",
       "      <td>-0.559535</td>\n",
       "      <td>-0.166760</td>\n",
       "      <td>0.167425</td>\n",
       "      <td>-1.195238</td>\n",
       "      <td>0.029990</td>\n",
       "      <td>...</td>\n",
       "      <td>-0.232876</td>\n",
       "      <td>-0.576267</td>\n",
       "      <td>0.706697</td>\n",
       "      <td>1.382859</td>\n",
       "      <td>201711</td>\n",
       "      <td>2</td>\n",
       "      <td>3</td>\n",
       "      <td>7.0</td>\n",
       "      <td>0.712854</td>\n",
       "      <td>0</td>\n",
       "    </tr>\n",
       "    <tr>\n",
       "      <td>6551</td>\n",
       "      <td>0.105909</td>\n",
       "      <td>-0.912752</td>\n",
       "      <td>0.227865</td>\n",
       "      <td>0.343053</td>\n",
       "      <td>-0.259714</td>\n",
       "      <td>-0.312867</td>\n",
       "      <td>-0.020590</td>\n",
       "      <td>0.069270</td>\n",
       "      <td>-0.679923</td>\n",
       "      <td>0.045645</td>\n",
       "      <td>...</td>\n",
       "      <td>-0.238533</td>\n",
       "      <td>-0.283906</td>\n",
       "      <td>0.346277</td>\n",
       "      <td>0.670604</td>\n",
       "      <td>201711</td>\n",
       "      <td>2</td>\n",
       "      <td>3</td>\n",
       "      <td>7.0</td>\n",
       "      <td>0.712854</td>\n",
       "      <td>0</td>\n",
       "    </tr>\n",
       "    <tr>\n",
       "      <td>6552</td>\n",
       "      <td>0.210822</td>\n",
       "      <td>-1.151064</td>\n",
       "      <td>0.371772</td>\n",
       "      <td>0.448834</td>\n",
       "      <td>-0.283896</td>\n",
       "      <td>-0.400904</td>\n",
       "      <td>-0.119898</td>\n",
       "      <td>0.114186</td>\n",
       "      <td>-0.890742</td>\n",
       "      <td>-0.001728</td>\n",
       "      <td>...</td>\n",
       "      <td>-0.244364</td>\n",
       "      <td>-0.394999</td>\n",
       "      <td>0.447838</td>\n",
       "      <td>0.882310</td>\n",
       "      <td>201711</td>\n",
       "      <td>2</td>\n",
       "      <td>3</td>\n",
       "      <td>7.0</td>\n",
       "      <td>0.712854</td>\n",
       "      <td>0</td>\n",
       "    </tr>\n",
       "    <tr>\n",
       "      <td>...</td>\n",
       "      <td>...</td>\n",
       "      <td>...</td>\n",
       "      <td>...</td>\n",
       "      <td>...</td>\n",
       "      <td>...</td>\n",
       "      <td>...</td>\n",
       "      <td>...</td>\n",
       "      <td>...</td>\n",
       "      <td>...</td>\n",
       "      <td>...</td>\n",
       "      <td>...</td>\n",
       "      <td>...</td>\n",
       "      <td>...</td>\n",
       "      <td>...</td>\n",
       "      <td>...</td>\n",
       "      <td>...</td>\n",
       "      <td>...</td>\n",
       "      <td>...</td>\n",
       "      <td>...</td>\n",
       "      <td>...</td>\n",
       "      <td>...</td>\n",
       "    </tr>\n",
       "    <tr>\n",
       "      <td>67760</td>\n",
       "      <td>-0.014014</td>\n",
       "      <td>0.021627</td>\n",
       "      <td>0.016127</td>\n",
       "      <td>0.008295</td>\n",
       "      <td>0.015609</td>\n",
       "      <td>-0.014095</td>\n",
       "      <td>0.029989</td>\n",
       "      <td>0.006034</td>\n",
       "      <td>0.010235</td>\n",
       "      <td>0.010937</td>\n",
       "      <td>...</td>\n",
       "      <td>-0.019628</td>\n",
       "      <td>0.002326</td>\n",
       "      <td>-0.010531</td>\n",
       "      <td>0.001661</td>\n",
       "      <td>201821</td>\n",
       "      <td>2</td>\n",
       "      <td>3</td>\n",
       "      <td>6.0</td>\n",
       "      <td>0.783332</td>\n",
       "      <td>0</td>\n",
       "    </tr>\n",
       "    <tr>\n",
       "      <td>67761</td>\n",
       "      <td>-0.014876</td>\n",
       "      <td>0.028154</td>\n",
       "      <td>0.017737</td>\n",
       "      <td>0.004379</td>\n",
       "      <td>0.018459</td>\n",
       "      <td>-0.021002</td>\n",
       "      <td>0.030579</td>\n",
       "      <td>0.002764</td>\n",
       "      <td>0.009578</td>\n",
       "      <td>0.019444</td>\n",
       "      <td>...</td>\n",
       "      <td>-0.026994</td>\n",
       "      <td>0.001646</td>\n",
       "      <td>-0.005891</td>\n",
       "      <td>0.000023</td>\n",
       "      <td>201821</td>\n",
       "      <td>2</td>\n",
       "      <td>3</td>\n",
       "      <td>6.0</td>\n",
       "      <td>0.783332</td>\n",
       "      <td>0</td>\n",
       "    </tr>\n",
       "    <tr>\n",
       "      <td>67762</td>\n",
       "      <td>-0.017387</td>\n",
       "      <td>0.024935</td>\n",
       "      <td>0.015646</td>\n",
       "      <td>0.009288</td>\n",
       "      <td>0.029313</td>\n",
       "      <td>-0.020477</td>\n",
       "      <td>0.037860</td>\n",
       "      <td>0.004750</td>\n",
       "      <td>0.006998</td>\n",
       "      <td>0.022420</td>\n",
       "      <td>...</td>\n",
       "      <td>-0.029438</td>\n",
       "      <td>0.001944</td>\n",
       "      <td>-0.008216</td>\n",
       "      <td>-0.006010</td>\n",
       "      <td>201821</td>\n",
       "      <td>2</td>\n",
       "      <td>3</td>\n",
       "      <td>6.0</td>\n",
       "      <td>0.783332</td>\n",
       "      <td>0</td>\n",
       "    </tr>\n",
       "    <tr>\n",
       "      <td>67763</td>\n",
       "      <td>-0.022239</td>\n",
       "      <td>0.027148</td>\n",
       "      <td>0.015270</td>\n",
       "      <td>0.007224</td>\n",
       "      <td>0.022871</td>\n",
       "      <td>-0.018405</td>\n",
       "      <td>0.034523</td>\n",
       "      <td>0.006758</td>\n",
       "      <td>0.012146</td>\n",
       "      <td>0.016828</td>\n",
       "      <td>...</td>\n",
       "      <td>-0.027060</td>\n",
       "      <td>0.004125</td>\n",
       "      <td>-0.007462</td>\n",
       "      <td>-0.003877</td>\n",
       "      <td>201821</td>\n",
       "      <td>2</td>\n",
       "      <td>3</td>\n",
       "      <td>6.0</td>\n",
       "      <td>0.783332</td>\n",
       "      <td>0</td>\n",
       "    </tr>\n",
       "    <tr>\n",
       "      <td>67764</td>\n",
       "      <td>-0.004979</td>\n",
       "      <td>0.004534</td>\n",
       "      <td>0.008296</td>\n",
       "      <td>0.000975</td>\n",
       "      <td>0.003701</td>\n",
       "      <td>-0.005433</td>\n",
       "      <td>0.007634</td>\n",
       "      <td>0.001302</td>\n",
       "      <td>-0.000018</td>\n",
       "      <td>0.008159</td>\n",
       "      <td>...</td>\n",
       "      <td>-0.003138</td>\n",
       "      <td>-0.002980</td>\n",
       "      <td>0.001237</td>\n",
       "      <td>-0.002532</td>\n",
       "      <td>201821</td>\n",
       "      <td>2</td>\n",
       "      <td>3</td>\n",
       "      <td>6.0</td>\n",
       "      <td>0.783332</td>\n",
       "      <td>0</td>\n",
       "    </tr>\n",
       "  </tbody>\n",
       "</table>\n",
       "<p>29475 rows × 106 columns</p>\n",
       "</div>"
      ],
      "text/plain": [
       "             C1        C2        C3        C4        C5        C6        C7  \\\n",
       "6548   0.021244 -0.179155  0.043439  0.067042 -0.044138 -0.054896 -0.019389   \n",
       "6549   0.078436 -0.538095  0.139564  0.198362 -0.129789 -0.186088 -0.052689   \n",
       "6550   0.350952 -1.754065  0.545141  0.794947 -0.475780 -0.559535 -0.166760   \n",
       "6551   0.105909 -0.912752  0.227865  0.343053 -0.259714 -0.312867 -0.020590   \n",
       "6552   0.210822 -1.151064  0.371772  0.448834 -0.283896 -0.400904 -0.119898   \n",
       "...         ...       ...       ...       ...       ...       ...       ...   \n",
       "67760 -0.014014  0.021627  0.016127  0.008295  0.015609 -0.014095  0.029989   \n",
       "67761 -0.014876  0.028154  0.017737  0.004379  0.018459 -0.021002  0.030579   \n",
       "67762 -0.017387  0.024935  0.015646  0.009288  0.029313 -0.020477  0.037860   \n",
       "67763 -0.022239  0.027148  0.015270  0.007224  0.022871 -0.018405  0.034523   \n",
       "67764 -0.004979  0.004534  0.008296  0.000975  0.003701 -0.005433  0.007634   \n",
       "\n",
       "             C8        C9       C10  ...       C97       C98       C99  \\\n",
       "6548   0.021577 -0.136345 -0.001217  ... -0.048500 -0.058492  0.069750   \n",
       "6549   0.056239 -0.431282  0.025009  ... -0.162715 -0.169626  0.214345   \n",
       "6550   0.167425 -1.195238  0.029990  ... -0.232876 -0.576267  0.706697   \n",
       "6551   0.069270 -0.679923  0.045645  ... -0.238533 -0.283906  0.346277   \n",
       "6552   0.114186 -0.890742 -0.001728  ... -0.244364 -0.394999  0.447838   \n",
       "...         ...       ...       ...  ...       ...       ...       ...   \n",
       "67760  0.006034  0.010235  0.010937  ... -0.019628  0.002326 -0.010531   \n",
       "67761  0.002764  0.009578  0.019444  ... -0.026994  0.001646 -0.005891   \n",
       "67762  0.004750  0.006998  0.022420  ... -0.029438  0.001944 -0.008216   \n",
       "67763  0.006758  0.012146  0.016828  ... -0.027060  0.004125 -0.007462   \n",
       "67764  0.001302 -0.000018  0.008159  ... -0.003138 -0.002980  0.001237   \n",
       "\n",
       "           C100  period  closer#  category  label  Silhouette  result  \n",
       "6548   0.135522  201711        2         3    1.0    0.712854       0  \n",
       "6549   0.440217  201711        2         3   12.0    0.712854       0  \n",
       "6550   1.382859  201711        2         3    7.0    0.712854       0  \n",
       "6551   0.670604  201711        2         3    7.0    0.712854       0  \n",
       "6552   0.882310  201711        2         3    7.0    0.712854       0  \n",
       "...         ...     ...      ...       ...    ...         ...     ...  \n",
       "67760  0.001661  201821        2         3    6.0    0.783332       0  \n",
       "67761  0.000023  201821        2         3    6.0    0.783332       0  \n",
       "67762 -0.006010  201821        2         3    6.0    0.783332       0  \n",
       "67763 -0.003877  201821        2         3    6.0    0.783332       0  \n",
       "67764 -0.002532  201821        2         3    6.0    0.783332       0  \n",
       "\n",
       "[29475 rows x 106 columns]"
      ]
     },
     "execution_count": 91,
     "metadata": {},
     "output_type": "execute_result"
    }
   ],
   "source": [
    "btc_beforeset[btc_beforeset['result']==0]"
   ]
  },
  {
   "cell_type": "code",
   "execution_count": 88,
   "metadata": {},
   "outputs": [],
   "source": [
    "#btc_beforeset.to_csv('../../analysis/cluster/causeanalysis/BTC/before_BTC_total.csv')"
   ]
  },
  {
   "cell_type": "code",
   "execution_count": null,
   "metadata": {},
   "outputs": [],
   "source": []
  }
 ],
 "metadata": {
  "kernelspec": {
   "display_name": "Python 3",
   "language": "python",
   "name": "python3"
  },
  "language_info": {
   "codemirror_mode": {
    "name": "ipython",
    "version": 3
   },
   "file_extension": ".py",
   "mimetype": "text/x-python",
   "name": "python",
   "nbconvert_exporter": "python",
   "pygments_lexer": "ipython3",
   "version": "3.7.4"
  },
  "pycharm": {
   "stem_cell": {
    "cell_type": "raw",
    "metadata": {
     "collapsed": false
    },
    "source": []
   }
  }
 },
 "nbformat": 4,
 "nbformat_minor": 2
}

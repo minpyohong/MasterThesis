{
 "cells": [
  {
   "cell_type": "code",
   "execution_count": 35,
   "metadata": {
    "pycharm": {
     "name": "#%%\n"
    }
   },
   "outputs": [],
   "source": [
    "import re\n",
    "import math\n",
    "import numpy as np\n",
    "import pandas as pd\n",
    "from datetime import datetime\n",
    "from sklearn.preprocessing import StandardScaler\n",
    "from sklearn.model_selection import train_test_split\n",
    "from sklearn.tree import DecisionTreeClassifier\n",
    "from sklearn.ensemble import RandomForestClassifier\n",
    "from sklearn.ensemble import GradientBoostingClassifier\n",
    "from lightgbm import LGBMClassifier\n",
    "from sklearn.linear_model import LogisticRegression\n",
    "from sklearn.metrics import accuracy_score ,precision_score , recall_score , confusion_matrix , f1_score\n",
    "from sklearn.model_selection import GridSearchCV\n",
    "from ast import literal_eval\n",
    "from gensim.models.keyedvectors import KeyedVectors\n",
    "from sklearn.decomposition import PCA\n",
    "pca = PCA(n_components=40)\n",
    "from sklearn import datasets, metrics, model_selection\n",
    "import matplotlib.pyplot as plt\n",
    "from sklearn.metrics import roc_curve, auc\n",
    "from sklearn.metrics import roc_auc_score"
   ]
  },
  {
   "cell_type": "code",
   "execution_count": 36,
   "metadata": {
    "pycharm": {
     "name": "#%%\n"
    }
   },
   "outputs": [],
   "source": [
    "#pip install scikit-learn\n",
    "#data_train"
   ]
  },
  {
   "cell_type": "code",
   "execution_count": 37,
   "metadata": {
    "pycharm": {
     "name": "#%%\n"
    }
   },
   "outputs": [],
   "source": [
    "#data_train = pd.read_csv('./data/twitter_data_before_analysis.csv', error_bad_lines=False)\n",
    "data_train = pd.read_csv('./data/twitter_data_before_analysis1.csv', error_bad_lines=False)\n",
    "data_train = data_train.append(pd.read_csv('./data/ko_news_data_before_analysis.csv', error_bad_lines=False))\n",
    "data_train = data_train.append(pd.read_csv('./data/en_news_data_before_analysis.csv', error_bad_lines=False))"
   ]
  },
  {
   "cell_type": "code",
   "execution_count": 38,
   "metadata": {},
   "outputs": [
    {
     "data": {
      "text/html": [
       "<div>\n",
       "<style scoped>\n",
       "    .dataframe tbody tr th:only-of-type {\n",
       "        vertical-align: middle;\n",
       "    }\n",
       "\n",
       "    .dataframe tbody tr th {\n",
       "        vertical-align: top;\n",
       "    }\n",
       "\n",
       "    .dataframe thead th {\n",
       "        text-align: right;\n",
       "    }\n",
       "</style>\n",
       "<table border=\"1\" class=\"dataframe\">\n",
       "  <thead>\n",
       "    <tr style=\"text-align: right;\">\n",
       "      <th></th>\n",
       "      <th>Unnamed: 0</th>\n",
       "      <th>period</th>\n",
       "      <th>closer#</th>\n",
       "      <th>category</th>\n",
       "      <th>label</th>\n",
       "      <th>Silhouette</th>\n",
       "      <th>C1</th>\n",
       "      <th>C2</th>\n",
       "      <th>C3</th>\n",
       "      <th>C4</th>\n",
       "      <th>...</th>\n",
       "      <th>C92</th>\n",
       "      <th>C93</th>\n",
       "      <th>C94</th>\n",
       "      <th>C95</th>\n",
       "      <th>C96</th>\n",
       "      <th>C97</th>\n",
       "      <th>C98</th>\n",
       "      <th>C99</th>\n",
       "      <th>C100</th>\n",
       "      <th>result</th>\n",
       "    </tr>\n",
       "  </thead>\n",
       "  <tbody>\n",
       "    <tr>\n",
       "      <td>0</td>\n",
       "      <td>0</td>\n",
       "      <td>202011</td>\n",
       "      <td>2</td>\n",
       "      <td>3.0</td>\n",
       "      <td>1.0</td>\n",
       "      <td>0.126229</td>\n",
       "      <td>-0.001495</td>\n",
       "      <td>0.003309</td>\n",
       "      <td>0.006705</td>\n",
       "      <td>0.003787</td>\n",
       "      <td>...</td>\n",
       "      <td>-0.003025</td>\n",
       "      <td>0.002794</td>\n",
       "      <td>-0.000103</td>\n",
       "      <td>-0.001215</td>\n",
       "      <td>-0.005617</td>\n",
       "      <td>-0.000767</td>\n",
       "      <td>0.003659</td>\n",
       "      <td>-0.001297</td>\n",
       "      <td>-0.003641</td>\n",
       "      <td>1</td>\n",
       "    </tr>\n",
       "    <tr>\n",
       "      <td>1</td>\n",
       "      <td>1</td>\n",
       "      <td>202011</td>\n",
       "      <td>2</td>\n",
       "      <td>3.0</td>\n",
       "      <td>12.0</td>\n",
       "      <td>0.126229</td>\n",
       "      <td>-0.021860</td>\n",
       "      <td>-0.026092</td>\n",
       "      <td>0.073803</td>\n",
       "      <td>-0.043048</td>\n",
       "      <td>...</td>\n",
       "      <td>-0.018356</td>\n",
       "      <td>0.030260</td>\n",
       "      <td>-0.009593</td>\n",
       "      <td>-0.085919</td>\n",
       "      <td>-0.086635</td>\n",
       "      <td>-0.032728</td>\n",
       "      <td>0.003305</td>\n",
       "      <td>0.029844</td>\n",
       "      <td>-0.030539</td>\n",
       "      <td>1</td>\n",
       "    </tr>\n",
       "    <tr>\n",
       "      <td>2</td>\n",
       "      <td>2</td>\n",
       "      <td>202011</td>\n",
       "      <td>2</td>\n",
       "      <td>3.0</td>\n",
       "      <td>13.0</td>\n",
       "      <td>0.126229</td>\n",
       "      <td>-0.006153</td>\n",
       "      <td>-0.002951</td>\n",
       "      <td>0.007688</td>\n",
       "      <td>-0.006929</td>\n",
       "      <td>...</td>\n",
       "      <td>-0.002736</td>\n",
       "      <td>0.001071</td>\n",
       "      <td>-0.000826</td>\n",
       "      <td>-0.002505</td>\n",
       "      <td>-0.002000</td>\n",
       "      <td>-0.006141</td>\n",
       "      <td>-0.000919</td>\n",
       "      <td>0.005992</td>\n",
       "      <td>-0.000431</td>\n",
       "      <td>1</td>\n",
       "    </tr>\n",
       "    <tr>\n",
       "      <td>3</td>\n",
       "      <td>3</td>\n",
       "      <td>202011</td>\n",
       "      <td>2</td>\n",
       "      <td>3.0</td>\n",
       "      <td>12.0</td>\n",
       "      <td>0.126229</td>\n",
       "      <td>-0.011715</td>\n",
       "      <td>-0.012549</td>\n",
       "      <td>0.026318</td>\n",
       "      <td>-0.014970</td>\n",
       "      <td>...</td>\n",
       "      <td>-0.010255</td>\n",
       "      <td>0.013182</td>\n",
       "      <td>-0.005682</td>\n",
       "      <td>-0.035902</td>\n",
       "      <td>-0.030800</td>\n",
       "      <td>-0.010657</td>\n",
       "      <td>0.002631</td>\n",
       "      <td>0.007532</td>\n",
       "      <td>-0.014666</td>\n",
       "      <td>1</td>\n",
       "    </tr>\n",
       "    <tr>\n",
       "      <td>4</td>\n",
       "      <td>4</td>\n",
       "      <td>202011</td>\n",
       "      <td>2</td>\n",
       "      <td>3.0</td>\n",
       "      <td>12.0</td>\n",
       "      <td>0.126229</td>\n",
       "      <td>-0.004312</td>\n",
       "      <td>-0.008192</td>\n",
       "      <td>0.024495</td>\n",
       "      <td>-0.017751</td>\n",
       "      <td>...</td>\n",
       "      <td>-0.000795</td>\n",
       "      <td>0.011308</td>\n",
       "      <td>-0.005071</td>\n",
       "      <td>-0.027211</td>\n",
       "      <td>-0.024827</td>\n",
       "      <td>-0.013575</td>\n",
       "      <td>-0.000735</td>\n",
       "      <td>0.013313</td>\n",
       "      <td>-0.009291</td>\n",
       "      <td>1</td>\n",
       "    </tr>\n",
       "    <tr>\n",
       "      <td>...</td>\n",
       "      <td>...</td>\n",
       "      <td>...</td>\n",
       "      <td>...</td>\n",
       "      <td>...</td>\n",
       "      <td>...</td>\n",
       "      <td>...</td>\n",
       "      <td>...</td>\n",
       "      <td>...</td>\n",
       "      <td>...</td>\n",
       "      <td>...</td>\n",
       "      <td>...</td>\n",
       "      <td>...</td>\n",
       "      <td>...</td>\n",
       "      <td>...</td>\n",
       "      <td>...</td>\n",
       "      <td>...</td>\n",
       "      <td>...</td>\n",
       "      <td>...</td>\n",
       "      <td>...</td>\n",
       "      <td>...</td>\n",
       "      <td>...</td>\n",
       "    </tr>\n",
       "    <tr>\n",
       "      <td>112261</td>\n",
       "      <td>112261</td>\n",
       "      <td>201924</td>\n",
       "      <td>2</td>\n",
       "      <td>1.0</td>\n",
       "      <td>5.0</td>\n",
       "      <td>0.746625</td>\n",
       "      <td>0.002639</td>\n",
       "      <td>-0.017651</td>\n",
       "      <td>0.005692</td>\n",
       "      <td>0.013071</td>\n",
       "      <td>...</td>\n",
       "      <td>-0.018755</td>\n",
       "      <td>-0.004214</td>\n",
       "      <td>-0.011068</td>\n",
       "      <td>0.005706</td>\n",
       "      <td>0.015451</td>\n",
       "      <td>0.006023</td>\n",
       "      <td>0.001769</td>\n",
       "      <td>0.004318</td>\n",
       "      <td>0.015926</td>\n",
       "      <td>2</td>\n",
       "    </tr>\n",
       "    <tr>\n",
       "      <td>112262</td>\n",
       "      <td>112262</td>\n",
       "      <td>201924</td>\n",
       "      <td>2</td>\n",
       "      <td>1.0</td>\n",
       "      <td>5.0</td>\n",
       "      <td>0.746625</td>\n",
       "      <td>-0.000535</td>\n",
       "      <td>-0.016673</td>\n",
       "      <td>0.003547</td>\n",
       "      <td>0.007739</td>\n",
       "      <td>...</td>\n",
       "      <td>-0.030073</td>\n",
       "      <td>0.001249</td>\n",
       "      <td>-0.008988</td>\n",
       "      <td>0.004042</td>\n",
       "      <td>0.014530</td>\n",
       "      <td>-0.000182</td>\n",
       "      <td>0.002224</td>\n",
       "      <td>-0.003322</td>\n",
       "      <td>0.016009</td>\n",
       "      <td>2</td>\n",
       "    </tr>\n",
       "    <tr>\n",
       "      <td>112263</td>\n",
       "      <td>112263</td>\n",
       "      <td>201924</td>\n",
       "      <td>2</td>\n",
       "      <td>1.0</td>\n",
       "      <td>5.0</td>\n",
       "      <td>0.746625</td>\n",
       "      <td>0.004187</td>\n",
       "      <td>-0.007702</td>\n",
       "      <td>-0.000028</td>\n",
       "      <td>0.002341</td>\n",
       "      <td>...</td>\n",
       "      <td>-0.001273</td>\n",
       "      <td>0.000613</td>\n",
       "      <td>-0.004343</td>\n",
       "      <td>-0.003402</td>\n",
       "      <td>0.004426</td>\n",
       "      <td>-0.001443</td>\n",
       "      <td>0.001934</td>\n",
       "      <td>-0.000474</td>\n",
       "      <td>0.007715</td>\n",
       "      <td>2</td>\n",
       "    </tr>\n",
       "    <tr>\n",
       "      <td>112264</td>\n",
       "      <td>112264</td>\n",
       "      <td>201924</td>\n",
       "      <td>2</td>\n",
       "      <td>1.0</td>\n",
       "      <td>5.0</td>\n",
       "      <td>0.746625</td>\n",
       "      <td>-0.002951</td>\n",
       "      <td>-0.012826</td>\n",
       "      <td>-0.000484</td>\n",
       "      <td>0.004241</td>\n",
       "      <td>...</td>\n",
       "      <td>-0.015236</td>\n",
       "      <td>0.000469</td>\n",
       "      <td>-0.011737</td>\n",
       "      <td>0.003951</td>\n",
       "      <td>0.013484</td>\n",
       "      <td>0.002950</td>\n",
       "      <td>0.001749</td>\n",
       "      <td>0.001292</td>\n",
       "      <td>0.012489</td>\n",
       "      <td>2</td>\n",
       "    </tr>\n",
       "    <tr>\n",
       "      <td>112265</td>\n",
       "      <td>112265</td>\n",
       "      <td>201924</td>\n",
       "      <td>2</td>\n",
       "      <td>1.0</td>\n",
       "      <td>5.0</td>\n",
       "      <td>0.746625</td>\n",
       "      <td>-0.003125</td>\n",
       "      <td>-0.016755</td>\n",
       "      <td>0.001142</td>\n",
       "      <td>0.008396</td>\n",
       "      <td>...</td>\n",
       "      <td>-0.027135</td>\n",
       "      <td>0.001745</td>\n",
       "      <td>-0.015272</td>\n",
       "      <td>0.005500</td>\n",
       "      <td>0.020814</td>\n",
       "      <td>0.005761</td>\n",
       "      <td>0.011722</td>\n",
       "      <td>0.000175</td>\n",
       "      <td>0.022918</td>\n",
       "      <td>2</td>\n",
       "    </tr>\n",
       "  </tbody>\n",
       "</table>\n",
       "<p>187533 rows × 107 columns</p>\n",
       "</div>"
      ],
      "text/plain": [
       "        Unnamed: 0  period  closer#  category  label  Silhouette        C1  \\\n",
       "0                0  202011        2       3.0    1.0    0.126229 -0.001495   \n",
       "1                1  202011        2       3.0   12.0    0.126229 -0.021860   \n",
       "2                2  202011        2       3.0   13.0    0.126229 -0.006153   \n",
       "3                3  202011        2       3.0   12.0    0.126229 -0.011715   \n",
       "4                4  202011        2       3.0   12.0    0.126229 -0.004312   \n",
       "...            ...     ...      ...       ...    ...         ...       ...   \n",
       "112261      112261  201924        2       1.0    5.0    0.746625  0.002639   \n",
       "112262      112262  201924        2       1.0    5.0    0.746625 -0.000535   \n",
       "112263      112263  201924        2       1.0    5.0    0.746625  0.004187   \n",
       "112264      112264  201924        2       1.0    5.0    0.746625 -0.002951   \n",
       "112265      112265  201924        2       1.0    5.0    0.746625 -0.003125   \n",
       "\n",
       "              C2        C3        C4  ...       C92       C93       C94  \\\n",
       "0       0.003309  0.006705  0.003787  ... -0.003025  0.002794 -0.000103   \n",
       "1      -0.026092  0.073803 -0.043048  ... -0.018356  0.030260 -0.009593   \n",
       "2      -0.002951  0.007688 -0.006929  ... -0.002736  0.001071 -0.000826   \n",
       "3      -0.012549  0.026318 -0.014970  ... -0.010255  0.013182 -0.005682   \n",
       "4      -0.008192  0.024495 -0.017751  ... -0.000795  0.011308 -0.005071   \n",
       "...          ...       ...       ...  ...       ...       ...       ...   \n",
       "112261 -0.017651  0.005692  0.013071  ... -0.018755 -0.004214 -0.011068   \n",
       "112262 -0.016673  0.003547  0.007739  ... -0.030073  0.001249 -0.008988   \n",
       "112263 -0.007702 -0.000028  0.002341  ... -0.001273  0.000613 -0.004343   \n",
       "112264 -0.012826 -0.000484  0.004241  ... -0.015236  0.000469 -0.011737   \n",
       "112265 -0.016755  0.001142  0.008396  ... -0.027135  0.001745 -0.015272   \n",
       "\n",
       "             C95       C96       C97       C98       C99      C100  result  \n",
       "0      -0.001215 -0.005617 -0.000767  0.003659 -0.001297 -0.003641       1  \n",
       "1      -0.085919 -0.086635 -0.032728  0.003305  0.029844 -0.030539       1  \n",
       "2      -0.002505 -0.002000 -0.006141 -0.000919  0.005992 -0.000431       1  \n",
       "3      -0.035902 -0.030800 -0.010657  0.002631  0.007532 -0.014666       1  \n",
       "4      -0.027211 -0.024827 -0.013575 -0.000735  0.013313 -0.009291       1  \n",
       "...          ...       ...       ...       ...       ...       ...     ...  \n",
       "112261  0.005706  0.015451  0.006023  0.001769  0.004318  0.015926       2  \n",
       "112262  0.004042  0.014530 -0.000182  0.002224 -0.003322  0.016009       2  \n",
       "112263 -0.003402  0.004426 -0.001443  0.001934 -0.000474  0.007715       2  \n",
       "112264  0.003951  0.013484  0.002950  0.001749  0.001292  0.012489       2  \n",
       "112265  0.005500  0.020814  0.005761  0.011722  0.000175  0.022918       2  \n",
       "\n",
       "[187533 rows x 107 columns]"
      ]
     },
     "execution_count": 38,
     "metadata": {},
     "output_type": "execute_result"
    }
   ],
   "source": [
    "data_train"
   ]
  },
  {
   "cell_type": "code",
   "execution_count": 39,
   "metadata": {
    "pycharm": {
     "name": "#%%\n"
    }
   },
   "outputs": [],
   "source": [
    "data_train['period'] = pd.to_numeric(data_train['period'], errors='coerce')\n",
    "data_train['category'] = pd.to_numeric(data_train['category'], errors='coerce')\n",
    "data_train['label'] = pd.to_numeric(data_train['label'], errors='coerce')\n",
    "data_train['Silhouette'] = pd.to_numeric(data_train['Silhouette'], errors='coerce')"
   ]
  },
  {
   "cell_type": "code",
   "execution_count": 40,
   "metadata": {
    "pycharm": {
     "name": "#%%\n"
    }
   },
   "outputs": [],
   "source": [
    "x_data_df = data_train[data_train.columns.difference(['result'])]"
   ]
  },
  {
   "cell_type": "code",
   "execution_count": 41,
   "metadata": {
    "pycharm": {
     "name": "#%%\n"
    }
   },
   "outputs": [],
   "source": [
    "#x_data_df = data_train[['period','raw_data','closer#','category','label','Silhouette']]\n",
    "y_data_df = data_train['result']"
   ]
  },
  {
   "cell_type": "code",
   "execution_count": 42,
   "metadata": {
    "pycharm": {
     "name": "#%%\n"
    }
   },
   "outputs": [],
   "source": [
    "x_data_df = x_data_df.drop('Unnamed: 0', axis=1)"
   ]
  },
  {
   "cell_type": "code",
   "execution_count": 43,
   "metadata": {
    "pycharm": {
     "name": "#%%\n"
    }
   },
   "outputs": [
    {
     "name": "stdout",
     "output_type": "stream",
     "text": [
      "187533\n"
     ]
    }
   ],
   "source": [
    "#x_data_df['raw_data'] = x_data_df['raw_data'].apply(lambda x: x[1:len(x)-1].split(','))\n",
    "print(len(x_data_df)) "
   ]
  },
  {
   "cell_type": "code",
   "execution_count": 44,
   "metadata": {
    "pycharm": {
     "name": "#%%\n"
    }
   },
   "outputs": [],
   "source": [
    "X_train,X_test, y_train, y_test = train_test_split(x_data_df,y_data_df,test_size=0.2,random_state=11)"
   ]
  },
  {
   "cell_type": "code",
   "execution_count": 45,
   "metadata": {
    "pycharm": {
     "name": "#%%\n"
    }
   },
   "outputs": [],
   "source": [
    "rf_clf = RandomForestClassifier(random_state = 11 ,n_jobs=-1) # random forest"
   ]
  },
  {
   "cell_type": "code",
   "execution_count": 46,
   "metadata": {},
   "outputs": [
    {
     "data": {
      "text/plain": [
       "C1            0\n",
       "C10           0\n",
       "C100          0\n",
       "C11           0\n",
       "C12           0\n",
       "             ..\n",
       "Silhouette    0\n",
       "category      0\n",
       "closer#       0\n",
       "label         0\n",
       "period        0\n",
       "Length: 105, dtype: int64"
      ]
     },
     "execution_count": 46,
     "metadata": {},
     "output_type": "execute_result"
    }
   ],
   "source": [
    "X_train.isnull().sum()"
   ]
  },
  {
   "cell_type": "code",
   "execution_count": 47,
   "metadata": {
    "pycharm": {
     "name": "#%%\n"
    }
   },
   "outputs": [],
   "source": [
    "rf_clf.fit(X_train, y_train)\n",
    "\n",
    "y_score = rf_clf.predict_proba(X_test)\n",
    "\n"
   ]
  },
  {
   "cell_type": "code",
   "execution_count": 48,
   "metadata": {
    "pycharm": {
     "name": "#%%\n"
    }
   },
   "outputs": [],
   "source": [
    "rf_pred = rf_clf.predict(X_test)  # random forest predict"
   ]
  },
  {
   "cell_type": "code",
   "execution_count": 49,
   "metadata": {
    "pycharm": {
     "name": "#%%\n"
    }
   },
   "outputs": [
    {
     "name": "stdout",
     "output_type": "stream",
     "text": [
      "Random Forest Accuracy :   0.9999733383101821\n",
      "Random Forest Precision :   0.9999733436996484\n",
      "Random Forest Recall :   0.9999733383101821\n",
      "Random Forest f1 :   0.9999733392647576\n"
     ]
    },
    {
     "name": "stderr",
     "output_type": "stream",
     "text": [
      "/Users/hongminpyo/opt/anaconda3/lib/python3.7/site-packages/sklearn/metrics/_classification.py:1270: UserWarning: Note that pos_label (set to 'positive') is ignored when average != 'binary' (got 'weighted'). You may use labels=[pos_label] to specify a single positive class.\n",
      "  % (pos_label, average), UserWarning)\n"
     ]
    }
   ],
   "source": [
    "print('Random Forest Accuracy :  ',accuracy_score(y_test,rf_pred))\n",
    "print('Random Forest Precision :  ',precision_score(y_test,rf_pred,pos_label='positive',average='weighted'))\n",
    "print('Random Forest Recall :  ',recall_score(y_test,rf_pred,pos_label='positive',average='weighted'))\n",
    "print('Random Forest f1 :  ',f1_score(y_test,rf_pred,pos_label='positive',average='weighted'))"
   ]
  },
  {
   "cell_type": "code",
   "execution_count": 50,
   "metadata": {
    "pycharm": {
     "name": "#%%\n"
    }
   },
   "outputs": [
    {
     "data": {
      "text/plain": [
       "array([[0.98, 0.02, 0.  ],\n",
       "       [0.01, 0.99, 0.  ],\n",
       "       [1.  , 0.  , 0.  ],\n",
       "       ...,\n",
       "       [0.  , 1.  , 0.  ],\n",
       "       [0.01, 0.99, 0.  ],\n",
       "       [0.  , 1.  , 0.  ]])"
      ]
     },
     "execution_count": 50,
     "metadata": {},
     "output_type": "execute_result"
    }
   ],
   "source": [
    "y_score"
   ]
  },
  {
   "cell_type": "code",
   "execution_count": 51,
   "metadata": {
    "pycharm": {
     "name": "#%%\n"
    }
   },
   "outputs": [],
   "source": [
    "#conda update sklearn"
   ]
  },
  {
   "cell_type": "code",
   "execution_count": 52,
   "metadata": {
    "pycharm": {
     "name": "#%%\n"
    }
   },
   "outputs": [
    {
     "name": "stdout",
     "output_type": "stream",
     "text": [
      "251       1\n",
      "21274     2\n",
      "2408      1\n",
      "42364     2\n",
      "10786     2\n",
      "         ..\n",
      "62404     2\n",
      "94958     2\n",
      "101547    2\n",
      "64945     2\n",
      "16938     2\n",
      "Name: result, Length: 37507, dtype: int64\n",
      "[[1 0 0]\n",
      " [0 1 0]\n",
      " [1 0 0]\n",
      " ...\n",
      " [0 1 0]\n",
      " [0 1 0]\n",
      " [0 1 0]]\n",
      "class :  0 == 1.0\n",
      "class :  1 == 1.0\n",
      "class :  2 == 1.0\n"
     ]
    }
   ],
   "source": [
    "from sklearn.preprocessing import label_binarize\n",
    "\n",
    "# Compute ROC curve and ROC area for each class\n",
    "fpr = dict()\n",
    "tpr = dict()\n",
    "roc_auc = dict()\n",
    "\n",
    "y_test_roc =label_binarize(y_test, classes=[1, 2, 3])\n",
    "\n",
    "print(y_test)\n",
    "print(y_test_roc)\n",
    "\n",
    "for i in range(3):\n",
    "    fpr[i], tpr[i], _ = roc_curve(y_test_roc[:, i], y_score[:, i])\n",
    "    roc_auc[i] = auc(fpr[i], tpr[i])\n",
    "    print('class : ',i,'==',roc_auc[i])\n",
    "\n"
   ]
  },
  {
   "cell_type": "code",
   "execution_count": 53,
   "metadata": {
    "pycharm": {
     "name": "#%%\n"
    }
   },
   "outputs": [],
   "source": [
    "# Compute micro-average ROC curve and ROC area\n",
    "fpr[\"micro\"], tpr[\"micro\"], _ = roc_curve(y_test_roc.ravel(), y_score.ravel())\n",
    "roc_auc[\"micro\"] = auc(fpr[\"micro\"], tpr[\"micro\"])"
   ]
  },
  {
   "cell_type": "code",
   "execution_count": 54,
   "metadata": {
    "pycharm": {
     "name": "#%%\n"
    }
   },
   "outputs": [
    {
     "data": {
      "image/png": "[encoded data removed]",
      "text/plain": [
       "<Figure size 432x288 with 1 Axes>"
      ]
     },
     "metadata": {
      "needs_background": "light"
     },
     "output_type": "display_data"
    }
   ],
   "source": [
    "plt.figure()\n",
    "lw = 2\n",
    "plt.plot(fpr[2], tpr[2], color='darkorange',\n",
    "         lw=lw, label='ROC curve (area = %0.2f)' % roc_auc[2])\n",
    "plt.plot([0, 1], [0, 1], color='navy', lw=lw, linestyle='--')\n",
    "plt.xlim([0.0, 1.0])\n",
    "plt.ylim([0.0, 1.05])\n",
    "plt.xlabel('False Positive Rate')\n",
    "plt.ylabel('True Positive Rate')\n",
    "plt.title('Receiver operating characteristic example')\n",
    "plt.legend(loc=\"lower right\")\n",
    "plt.show()"
   ]
  },
  {
   "cell_type": "code",
   "execution_count": 55,
   "metadata": {
    "pycharm": {
     "name": "#%%\n"
    }
   },
   "outputs": [
    {
     "data": {
      "image/png": "[encoded data removed]",
      "text/plain": [
       "<Figure size 432x288 with 1 Axes>"
      ]
     },
     "metadata": {
      "needs_background": "light"
     },
     "output_type": "display_data"
    }
   ],
   "source": [
    "from scipy import interp\n",
    "from itertools import cycle\n",
    "\n",
    "# First aggregate all false positive rates\n",
    "all_fpr = np.unique(np.concatenate([fpr[i] for i in range(3)]))\n",
    "\n",
    "# Then interpolate all ROC curves at this points\n",
    "mean_tpr = np.zeros_like(all_fpr)\n",
    "for i in range(3):\n",
    "    mean_tpr += interp(all_fpr, fpr[i], tpr[i])\n",
    "\n",
    "# Finally average it and compute AUC\n",
    "mean_tpr /= 3\n",
    "\n",
    "fpr[\"macro\"] = all_fpr\n",
    "tpr[\"macro\"] = mean_tpr\n",
    "roc_auc[\"macro\"] = auc(fpr[\"macro\"], tpr[\"macro\"])\n",
    "\n",
    "# Plot all ROC curves\n",
    "plt.figure()\n",
    "plt.plot(fpr[\"micro\"], tpr[\"micro\"],\n",
    "         label='micro-average ROC curve (area = {0:0.2f})'\n",
    "               ''.format(roc_auc[\"micro\"]),\n",
    "         color='deeppink', linestyle=':', linewidth=4)\n",
    "\n",
    "plt.plot(fpr[\"macro\"], tpr[\"macro\"],\n",
    "         label='macro-average ROC curve (area = {0:0.2f})'\n",
    "               ''.format(roc_auc[\"macro\"]),\n",
    "         color='navy', linestyle=':', linewidth=4)\n",
    "\n",
    "colors = cycle(['aqua', 'darkorange', 'cornflowerblue'])\n",
    "for i, color in zip(range(3), colors):\n",
    "    plt.plot(fpr[i], tpr[i], color=color, lw=lw,\n",
    "             label='ROC curve of class {0} (area = {1:0.2f})'\n",
    "             ''.format(i, roc_auc[i]))\n",
    "\n",
    "plt.plot([0, 1], [0, 1], 'k--', lw=lw)\n",
    "plt.xlim([0.0, 1.0])\n",
    "plt.ylim([0.0, 1.05])\n",
    "plt.xlabel('False Positive Rate')\n",
    "plt.ylabel('True Positive Rate')\n",
    "plt.title('Some extension of Receiver operating characteristic to multi-class')\n",
    "plt.legend(loc=\"lower right\")\n",
    "plt.show()"
   ]
  },
  {
   "cell_type": "code",
   "execution_count": 56,
   "metadata": {
    "pycharm": {
     "name": "#%%\n"
    }
   },
   "outputs": [],
   "source": [
    "dt_clf = DecisionTreeClassifier(random_state = 11)\n",
    "dt_clf.fit(X_train,y_train)\n",
    "dt_pred = dt_clf.predict(X_test)"
   ]
  },
  {
   "cell_type": "code",
   "execution_count": 57,
   "metadata": {
    "pycharm": {
     "name": "#%%\n"
    }
   },
   "outputs": [
    {
     "name": "stdout",
     "output_type": "stream",
     "text": [
      "Decision Tree Accuracy :   1.0\n",
      "Decision Tree Precision :   1.0\n",
      "Decision Tree Recall :   1.0\n",
      "Decision Tree f1 :   1.0\n"
     ]
    },
    {
     "name": "stderr",
     "output_type": "stream",
     "text": [
      "/Users/hongminpyo/opt/anaconda3/lib/python3.7/site-packages/sklearn/metrics/_classification.py:1270: UserWarning: Note that pos_label (set to 'positive') is ignored when average != 'binary' (got 'weighted'). You may use labels=[pos_label] to specify a single positive class.\n",
      "  % (pos_label, average), UserWarning)\n"
     ]
    }
   ],
   "source": [
    "print('Decision Tree Accuracy :  ',accuracy_score(y_test,dt_pred))\n",
    "print('Decision Tree Precision :  ',precision_score(y_test,dt_pred,pos_label='positive',average='weighted'))\n",
    "print('Decision Tree Recall :  ',recall_score(y_test,dt_pred,pos_label='positive',average='weighted'))\n",
    "print('Decision Tree f1 :  ',f1_score(y_test,dt_pred,pos_label='positive',average='weighted'))"
   ]
  },
  {
   "cell_type": "code",
   "execution_count": 58,
   "metadata": {
    "pycharm": {
     "name": "#%%\n"
    }
   },
   "outputs": [],
   "source": [
    "#gb_clf = GradientBoostingClassifier(random_state = 11) # random forest\n",
    "lgbm_clf =  LGBMClassifier(n_estimators=400,random_state = 11)"
   ]
  },
  {
   "cell_type": "code",
   "execution_count": 59,
   "metadata": {
    "pycharm": {
     "name": "#%%\n"
    }
   },
   "outputs": [],
   "source": [
    "#gb_clf.fit(X_train,y_train)\n",
    "#gb_pred = gb_clf.predict(X_test)\n",
    "\n",
    "lgbm_clf.fit(X_train,y_train)\n",
    "lgbm_pred = dt_clf.predict(X_test)"
   ]
  },
  {
   "cell_type": "code",
   "execution_count": 60,
   "metadata": {
    "pycharm": {
     "name": "#%%\n"
    }
   },
   "outputs": [
    {
     "name": "stdout",
     "output_type": "stream",
     "text": [
      "Gredient Boosting Accuracy :   1.0\n",
      "Gredient Boosting Precision :   1.0\n",
      "Gredient Boosting Recall :   1.0\n",
      "Gredient Boosting f1 :   1.0\n"
     ]
    },
    {
     "name": "stderr",
     "output_type": "stream",
     "text": [
      "/Users/hongminpyo/opt/anaconda3/lib/python3.7/site-packages/sklearn/metrics/_classification.py:1270: UserWarning: Note that pos_label (set to 'positive') is ignored when average != 'binary' (got 'weighted'). You may use labels=[pos_label] to specify a single positive class.\n",
      "  % (pos_label, average), UserWarning)\n"
     ]
    }
   ],
   "source": [
    "#print('Gredient Boosting Accuracy :  ',accuracy_score(y_test,gb_pred))\n",
    "#print('Gredient Boosting Precision :  ',precision_score(y_test,gb_pred,pos_label='positive',average='weighted'))\n",
    "#print('Gredient Boosting Recall :  ',recall_score(y_test,gb_pred,pos_label='positive',average='weighted'))\n",
    "#print('Gredient Boosting f1 :  ',f1_score(y_test,gb_pred,pos_label='positive',average='weighted'))\n",
    "print('Light GBM Accuracy :  ',accuracy_score(y_test,lgbm_pred))\n",
    "print('Light GBM Precision :  ',precision_score(y_test,lgbm_pred,pos_label='positive',average='weighted'))\n",
    "print('Light GBM Recall :  ',recall_score(y_test,lgbm_pred,pos_label='positive',average='weighted'))\n",
    "print('Light GBM f1 :  ',f1_score(y_test,lgbm_pred,pos_label='positive',average='weighted'))"
   ]
  },
  {
   "cell_type": "code",
   "execution_count": 61,
   "metadata": {
    "pycharm": {
     "name": "#%%\n"
    }
   },
   "outputs": [],
   "source": [
    "lr_clf = LogisticRegression(random_state = 11)"
   ]
  },
  {
   "cell_type": "code",
   "execution_count": 62,
   "metadata": {
    "pycharm": {
     "name": "#%%\n"
    }
   },
   "outputs": [],
   "source": [
    "lr_clf.fit(X_train,y_train)\n",
    "lr_pred = lr_clf.predict(X_test)"
   ]
  },
  {
   "cell_type": "code",
   "execution_count": 63,
   "metadata": {
    "pycharm": {
     "name": "#%%\n"
    }
   },
   "outputs": [
    {
     "name": "stdout",
     "output_type": "stream",
     "text": [
      "Logistic Regression Accuracy :   0.45228890607086675\n",
      "Logistic Regression  Precision :   0.20456525455478133\n",
      "Logistic Regression  Recall :   0.45228890607086675\n",
      "Logistic Regression  f1 :   0.281714270073477\n"
     ]
    },
    {
     "name": "stderr",
     "output_type": "stream",
     "text": [
      "/Users/hongminpyo/opt/anaconda3/lib/python3.7/site-packages/sklearn/metrics/_classification.py:1270: UserWarning: Note that pos_label (set to 'positive') is ignored when average != 'binary' (got 'weighted'). You may use labels=[pos_label] to specify a single positive class.\n",
      "  % (pos_label, average), UserWarning)\n",
      "/Users/hongminpyo/opt/anaconda3/lib/python3.7/site-packages/sklearn/metrics/_classification.py:1221: UndefinedMetricWarning: Precision is ill-defined and being set to 0.0 in labels with no predicted samples. Use `zero_division` parameter to control this behavior.\n",
      "  _warn_prf(average, modifier, msg_start, len(result))\n"
     ]
    }
   ],
   "source": [
    "print('Logistic Regression Accuracy :  ',accuracy_score(y_test,lr_pred))\n",
    "print('Logistic Regression  Precision :  ',precision_score(y_test,lr_pred,pos_label='positive',average='weighted'))\n",
    "print('Logistic Regression  Recall :  ',recall_score(y_test,lr_pred,pos_label='positive',average='weighted'))\n",
    "print('Logistic Regression  f1 :  ',f1_score(y_test,lr_pred,pos_label='positive',average='weighted'))"
   ]
  },
  {
   "cell_type": "code",
   "execution_count": 64,
   "metadata": {
    "pycharm": {
     "name": "#%%\n"
    }
   },
   "outputs": [],
   "source": [
    "y_score = lr_clf.predict_proba(X_test)"
   ]
  },
  {
   "cell_type": "code",
   "execution_count": 65,
   "metadata": {
    "pycharm": {
     "name": "#%%\n"
    }
   },
   "outputs": [
    {
     "name": "stdout",
     "output_type": "stream",
     "text": [
      "251       1\n",
      "21274     2\n",
      "2408      1\n",
      "42364     2\n",
      "10786     2\n",
      "         ..\n",
      "62404     2\n",
      "94958     2\n",
      "101547    2\n",
      "64945     2\n",
      "16938     2\n",
      "Name: result, Length: 37507, dtype: int64\n",
      "[[1 0 0]\n",
      " [0 1 0]\n",
      " [1 0 0]\n",
      " ...\n",
      " [0 1 0]\n",
      " [0 1 0]\n",
      " [0 1 0]]\n",
      "class :  0 == 0.47776487578931776\n",
      "class :  1 == 0.6182921295871555\n",
      "class :  2 == 0.7087927274960844\n"
     ]
    }
   ],
   "source": [
    "# Compute ROC curve and ROC area for each class\n",
    "fpr = dict()\n",
    "tpr = dict()\n",
    "roc_auc = dict()\n",
    "\n",
    "y_test_roc =label_binarize(y_test, classes=[1, 2, 3])\n",
    "\n",
    "print(y_test)\n",
    "print(y_test_roc)\n",
    "\n",
    "for i in range(3):\n",
    "    fpr[i], tpr[i], _ = roc_curve(y_test_roc[:, i], y_score[:, i])\n",
    "    roc_auc[i] = auc(fpr[i], tpr[i])\n",
    "    print('class : ',i,'==',roc_auc[i])"
   ]
  },
  {
   "cell_type": "code",
   "execution_count": 66,
   "metadata": {
    "pycharm": {
     "name": "#%%\n"
    }
   },
   "outputs": [],
   "source": [
    "# Compute micro-average ROC curve and ROC area\n",
    "fpr[\"micro\"], tpr[\"micro\"], _ = roc_curve(y_test_roc.ravel(), y_score.ravel())\n",
    "roc_auc[\"micro\"] = auc(fpr[\"micro\"], tpr[\"micro\"])"
   ]
  },
  {
   "cell_type": "code",
   "execution_count": 67,
   "metadata": {
    "pycharm": {
     "name": "#%%\n"
    }
   },
   "outputs": [
    {
     "data": {
      "image/png": "[encoded data removed]",
      "text/plain": [
       "<Figure size 432x288 with 1 Axes>"
      ]
     },
     "metadata": {
      "needs_background": "light"
     },
     "output_type": "display_data"
    }
   ],
   "source": [
    "plt.figure()\n",
    "lw = 2\n",
    "plt.plot(fpr[2], tpr[2], color='darkorange',\n",
    "         lw=lw, label='ROC curve (area = %0.2f)' % roc_auc[2])\n",
    "plt.plot([0, 1], [0, 1], color='navy', lw=lw, linestyle='--')\n",
    "plt.xlim([0.0, 1.0])\n",
    "plt.ylim([0.0, 1.05])\n",
    "plt.xlabel('False Positive Rate')\n",
    "plt.ylabel('True Positive Rate')\n",
    "plt.title('Receiver operating characteristic example')\n",
    "plt.legend(loc=\"lower right\")\n",
    "plt.show()"
   ]
  },
  {
   "cell_type": "code",
   "execution_count": 68,
   "metadata": {
    "pycharm": {
     "name": "#%%\n"
    }
   },
   "outputs": [
    {
     "data": {
      "image/png": "[encoded data removed]",
      "text/plain": [
       "<Figure size 432x288 with 1 Axes>"
      ]
     },
     "metadata": {
      "needs_background": "light"
     },
     "output_type": "display_data"
    }
   ],
   "source": [
    "# First aggregate all false positive rates\n",
    "all_fpr = np.unique(np.concatenate([fpr[i] for i in range(3)]))\n",
    "\n",
    "# Then interpolate all ROC curves at this points\n",
    "mean_tpr = np.zeros_like(all_fpr)\n",
    "for i in range(3):\n",
    "    mean_tpr += interp(all_fpr, fpr[i], tpr[i])\n",
    "\n",
    "# Finally average it and compute AUC\n",
    "mean_tpr /= 3\n",
    "\n",
    "fpr[\"macro\"] = all_fpr\n",
    "tpr[\"macro\"] = mean_tpr\n",
    "roc_auc[\"macro\"] = auc(fpr[\"macro\"], tpr[\"macro\"])\n",
    "\n",
    "# Plot all ROC curves\n",
    "plt.figure()\n",
    "plt.plot(fpr[\"micro\"], tpr[\"micro\"],\n",
    "         label='micro-average ROC curve (area = {0:0.2f})'\n",
    "               ''.format(roc_auc[\"micro\"]),\n",
    "         color='deeppink', linestyle=':', linewidth=4)\n",
    "\n",
    "plt.plot(fpr[\"macro\"], tpr[\"macro\"],\n",
    "         label='macro-average ROC curve (area = {0:0.2f})'\n",
    "               ''.format(roc_auc[\"macro\"]),\n",
    "         color='navy', linestyle=':', linewidth=4)\n",
    "\n",
    "colors = cycle(['aqua', 'darkorange', 'cornflowerblue'])\n",
    "for i, color in zip(range(3), colors):\n",
    "    plt.plot(fpr[i], tpr[i], color=color, lw=lw,\n",
    "             label='ROC curve of class {0} (area = {1:0.2f})'\n",
    "             ''.format(i, roc_auc[i]))\n",
    "\n",
    "plt.plot([0, 1], [0, 1], 'k--', lw=lw)\n",
    "plt.xlim([0.0, 1.0])\n",
    "plt.ylim([0.0, 1.05])\n",
    "plt.xlabel('False Positive Rate')\n",
    "plt.ylabel('True Positive Rate')\n",
    "plt.title('Some extension of Receiver operating characteristic to multi-class')\n",
    "plt.legend(loc=\"lower right\")\n",
    "plt.show()"
   ]
  },
  {
   "cell_type": "code",
   "execution_count": 69,
   "metadata": {
    "pycharm": {
     "name": "#%%\n"
    }
   },
   "outputs": [],
   "source": [
    "from numpy import loadtxt\n",
    "from keras.models import Sequential\n",
    "from keras.layers import Dense"
   ]
  },
  {
   "cell_type": "code",
   "execution_count": 70,
   "metadata": {
    "pycharm": {
     "name": "#%%\n"
    }
   },
   "outputs": [
    {
     "data": {
      "text/html": [
       "<div>\n",
       "<style scoped>\n",
       "    .dataframe tbody tr th:only-of-type {\n",
       "        vertical-align: middle;\n",
       "    }\n",
       "\n",
       "    .dataframe tbody tr th {\n",
       "        vertical-align: top;\n",
       "    }\n",
       "\n",
       "    .dataframe thead th {\n",
       "        text-align: right;\n",
       "    }\n",
       "</style>\n",
       "<table border=\"1\" class=\"dataframe\">\n",
       "  <thead>\n",
       "    <tr style=\"text-align: right;\">\n",
       "      <th></th>\n",
       "      <th>C1</th>\n",
       "      <th>C10</th>\n",
       "      <th>C100</th>\n",
       "      <th>C11</th>\n",
       "      <th>C12</th>\n",
       "      <th>C13</th>\n",
       "      <th>C14</th>\n",
       "      <th>C15</th>\n",
       "      <th>C16</th>\n",
       "      <th>C17</th>\n",
       "      <th>...</th>\n",
       "      <th>C95</th>\n",
       "      <th>C96</th>\n",
       "      <th>C97</th>\n",
       "      <th>C98</th>\n",
       "      <th>C99</th>\n",
       "      <th>Silhouette</th>\n",
       "      <th>category</th>\n",
       "      <th>closer#</th>\n",
       "      <th>label</th>\n",
       "      <th>period</th>\n",
       "    </tr>\n",
       "  </thead>\n",
       "  <tbody>\n",
       "    <tr>\n",
       "      <td>3819</td>\n",
       "      <td>-0.001065</td>\n",
       "      <td>-0.001344</td>\n",
       "      <td>0.001918</td>\n",
       "      <td>0.000592</td>\n",
       "      <td>-0.004610</td>\n",
       "      <td>-0.002905</td>\n",
       "      <td>-0.000087</td>\n",
       "      <td>-0.003956</td>\n",
       "      <td>-0.003297</td>\n",
       "      <td>-0.005316</td>\n",
       "      <td>...</td>\n",
       "      <td>0.004083</td>\n",
       "      <td>0.001433</td>\n",
       "      <td>-0.000216</td>\n",
       "      <td>0.001440</td>\n",
       "      <td>-0.003674</td>\n",
       "      <td>0.696935</td>\n",
       "      <td>2.0</td>\n",
       "      <td>2</td>\n",
       "      <td>6.0</td>\n",
       "      <td>202011</td>\n",
       "    </tr>\n",
       "    <tr>\n",
       "      <td>40667</td>\n",
       "      <td>0.004591</td>\n",
       "      <td>0.000229</td>\n",
       "      <td>-0.002036</td>\n",
       "      <td>-0.002419</td>\n",
       "      <td>0.001004</td>\n",
       "      <td>0.003154</td>\n",
       "      <td>0.001899</td>\n",
       "      <td>-0.003817</td>\n",
       "      <td>0.000912</td>\n",
       "      <td>-0.000545</td>\n",
       "      <td>...</td>\n",
       "      <td>0.000687</td>\n",
       "      <td>0.000774</td>\n",
       "      <td>0.004442</td>\n",
       "      <td>-0.000648</td>\n",
       "      <td>-0.002980</td>\n",
       "      <td>0.009741</td>\n",
       "      <td>2.0</td>\n",
       "      <td>2</td>\n",
       "      <td>12.0</td>\n",
       "      <td>201923</td>\n",
       "    </tr>\n",
       "    <tr>\n",
       "      <td>994</td>\n",
       "      <td>-0.003196</td>\n",
       "      <td>0.004062</td>\n",
       "      <td>-0.002566</td>\n",
       "      <td>-0.004181</td>\n",
       "      <td>0.002056</td>\n",
       "      <td>-0.002748</td>\n",
       "      <td>0.003787</td>\n",
       "      <td>0.002265</td>\n",
       "      <td>-0.002280</td>\n",
       "      <td>0.001659</td>\n",
       "      <td>...</td>\n",
       "      <td>0.000141</td>\n",
       "      <td>0.000338</td>\n",
       "      <td>-0.002144</td>\n",
       "      <td>0.001788</td>\n",
       "      <td>-0.000269</td>\n",
       "      <td>0.126229</td>\n",
       "      <td>3.0</td>\n",
       "      <td>2</td>\n",
       "      <td>13.0</td>\n",
       "      <td>202011</td>\n",
       "    </tr>\n",
       "    <tr>\n",
       "      <td>81522</td>\n",
       "      <td>-0.007798</td>\n",
       "      <td>-0.029958</td>\n",
       "      <td>-0.003762</td>\n",
       "      <td>0.019341</td>\n",
       "      <td>-0.009424</td>\n",
       "      <td>-0.000633</td>\n",
       "      <td>0.020104</td>\n",
       "      <td>0.008388</td>\n",
       "      <td>-0.013617</td>\n",
       "      <td>-0.020365</td>\n",
       "      <td>...</td>\n",
       "      <td>-0.004999</td>\n",
       "      <td>-0.011506</td>\n",
       "      <td>0.024091</td>\n",
       "      <td>-0.015833</td>\n",
       "      <td>0.001982</td>\n",
       "      <td>0.737198</td>\n",
       "      <td>1.0</td>\n",
       "      <td>2</td>\n",
       "      <td>7.0</td>\n",
       "      <td>201912</td>\n",
       "    </tr>\n",
       "    <tr>\n",
       "      <td>80624</td>\n",
       "      <td>-0.085756</td>\n",
       "      <td>-0.228203</td>\n",
       "      <td>-0.043884</td>\n",
       "      <td>0.212829</td>\n",
       "      <td>-0.071506</td>\n",
       "      <td>0.035740</td>\n",
       "      <td>0.193018</td>\n",
       "      <td>0.062508</td>\n",
       "      <td>-0.138530</td>\n",
       "      <td>-0.174180</td>\n",
       "      <td>...</td>\n",
       "      <td>-0.026984</td>\n",
       "      <td>-0.101138</td>\n",
       "      <td>0.222024</td>\n",
       "      <td>-0.117305</td>\n",
       "      <td>0.040608</td>\n",
       "      <td>0.737198</td>\n",
       "      <td>1.0</td>\n",
       "      <td>2</td>\n",
       "      <td>8.0</td>\n",
       "      <td>201912</td>\n",
       "    </tr>\n",
       "    <tr>\n",
       "      <td>...</td>\n",
       "      <td>...</td>\n",
       "      <td>...</td>\n",
       "      <td>...</td>\n",
       "      <td>...</td>\n",
       "      <td>...</td>\n",
       "      <td>...</td>\n",
       "      <td>...</td>\n",
       "      <td>...</td>\n",
       "      <td>...</td>\n",
       "      <td>...</td>\n",
       "      <td>...</td>\n",
       "      <td>...</td>\n",
       "      <td>...</td>\n",
       "      <td>...</td>\n",
       "      <td>...</td>\n",
       "      <td>...</td>\n",
       "      <td>...</td>\n",
       "      <td>...</td>\n",
       "      <td>...</td>\n",
       "      <td>...</td>\n",
       "      <td>...</td>\n",
       "    </tr>\n",
       "    <tr>\n",
       "      <td>27060</td>\n",
       "      <td>-0.009905</td>\n",
       "      <td>-0.019656</td>\n",
       "      <td>-0.013295</td>\n",
       "      <td>0.009479</td>\n",
       "      <td>0.003376</td>\n",
       "      <td>0.013583</td>\n",
       "      <td>0.005138</td>\n",
       "      <td>-0.015896</td>\n",
       "      <td>0.001607</td>\n",
       "      <td>0.005390</td>\n",
       "      <td>...</td>\n",
       "      <td>-0.010030</td>\n",
       "      <td>-0.013547</td>\n",
       "      <td>-0.006398</td>\n",
       "      <td>-0.007302</td>\n",
       "      <td>0.007872</td>\n",
       "      <td>0.738239</td>\n",
       "      <td>1.0</td>\n",
       "      <td>2</td>\n",
       "      <td>6.0</td>\n",
       "      <td>201711</td>\n",
       "    </tr>\n",
       "    <tr>\n",
       "      <td>22350</td>\n",
       "      <td>-0.006707</td>\n",
       "      <td>-0.001204</td>\n",
       "      <td>0.004745</td>\n",
       "      <td>-0.001618</td>\n",
       "      <td>0.003204</td>\n",
       "      <td>0.002872</td>\n",
       "      <td>-0.007491</td>\n",
       "      <td>-0.003652</td>\n",
       "      <td>-0.009565</td>\n",
       "      <td>-0.002143</td>\n",
       "      <td>...</td>\n",
       "      <td>0.002199</td>\n",
       "      <td>-0.000288</td>\n",
       "      <td>0.003603</td>\n",
       "      <td>0.003144</td>\n",
       "      <td>-0.005077</td>\n",
       "      <td>0.711584</td>\n",
       "      <td>1.0</td>\n",
       "      <td>2</td>\n",
       "      <td>5.0</td>\n",
       "      <td>202021</td>\n",
       "    </tr>\n",
       "    <tr>\n",
       "      <td>21584</td>\n",
       "      <td>-0.011310</td>\n",
       "      <td>-0.006785</td>\n",
       "      <td>-0.003580</td>\n",
       "      <td>0.005423</td>\n",
       "      <td>-0.005037</td>\n",
       "      <td>-0.003407</td>\n",
       "      <td>-0.001252</td>\n",
       "      <td>0.011018</td>\n",
       "      <td>-0.002606</td>\n",
       "      <td>-0.013081</td>\n",
       "      <td>...</td>\n",
       "      <td>0.002442</td>\n",
       "      <td>0.002440</td>\n",
       "      <td>-0.004818</td>\n",
       "      <td>0.003340</td>\n",
       "      <td>-0.004840</td>\n",
       "      <td>0.726900</td>\n",
       "      <td>3.0</td>\n",
       "      <td>2</td>\n",
       "      <td>6.0</td>\n",
       "      <td>201911</td>\n",
       "    </tr>\n",
       "    <tr>\n",
       "      <td>6687</td>\n",
       "      <td>-0.002570</td>\n",
       "      <td>0.000177</td>\n",
       "      <td>0.004565</td>\n",
       "      <td>-0.000599</td>\n",
       "      <td>-0.005442</td>\n",
       "      <td>-0.001149</td>\n",
       "      <td>0.009258</td>\n",
       "      <td>-0.001158</td>\n",
       "      <td>-0.009031</td>\n",
       "      <td>-0.004377</td>\n",
       "      <td>...</td>\n",
       "      <td>-0.003596</td>\n",
       "      <td>-0.002028</td>\n",
       "      <td>0.000881</td>\n",
       "      <td>-0.004645</td>\n",
       "      <td>-0.008040</td>\n",
       "      <td>0.369699</td>\n",
       "      <td>2.0</td>\n",
       "      <td>2</td>\n",
       "      <td>13.0</td>\n",
       "      <td>202021</td>\n",
       "    </tr>\n",
       "    <tr>\n",
       "      <td>65942</td>\n",
       "      <td>0.015866</td>\n",
       "      <td>0.073380</td>\n",
       "      <td>0.028379</td>\n",
       "      <td>0.006918</td>\n",
       "      <td>0.000500</td>\n",
       "      <td>-0.022922</td>\n",
       "      <td>-0.009748</td>\n",
       "      <td>-0.003921</td>\n",
       "      <td>-0.021593</td>\n",
       "      <td>-0.012774</td>\n",
       "      <td>...</td>\n",
       "      <td>-0.018226</td>\n",
       "      <td>-0.019449</td>\n",
       "      <td>-0.028441</td>\n",
       "      <td>-0.026618</td>\n",
       "      <td>0.007723</td>\n",
       "      <td>0.747330</td>\n",
       "      <td>1.0</td>\n",
       "      <td>2</td>\n",
       "      <td>6.0</td>\n",
       "      <td>201822</td>\n",
       "    </tr>\n",
       "  </tbody>\n",
       "</table>\n",
       "<p>150026 rows × 105 columns</p>\n",
       "</div>"
      ],
      "text/plain": [
       "             C1       C10      C100       C11       C12       C13       C14  \\\n",
       "3819  -0.001065 -0.001344  0.001918  0.000592 -0.004610 -0.002905 -0.000087   \n",
       "40667  0.004591  0.000229 -0.002036 -0.002419  0.001004  0.003154  0.001899   \n",
       "994   -0.003196  0.004062 -0.002566 -0.004181  0.002056 -0.002748  0.003787   \n",
       "81522 -0.007798 -0.029958 -0.003762  0.019341 -0.009424 -0.000633  0.020104   \n",
       "80624 -0.085756 -0.228203 -0.043884  0.212829 -0.071506  0.035740  0.193018   \n",
       "...         ...       ...       ...       ...       ...       ...       ...   \n",
       "27060 -0.009905 -0.019656 -0.013295  0.009479  0.003376  0.013583  0.005138   \n",
       "22350 -0.006707 -0.001204  0.004745 -0.001618  0.003204  0.002872 -0.007491   \n",
       "21584 -0.011310 -0.006785 -0.003580  0.005423 -0.005037 -0.003407 -0.001252   \n",
       "6687  -0.002570  0.000177  0.004565 -0.000599 -0.005442 -0.001149  0.009258   \n",
       "65942  0.015866  0.073380  0.028379  0.006918  0.000500 -0.022922 -0.009748   \n",
       "\n",
       "            C15       C16       C17  ...       C95       C96       C97  \\\n",
       "3819  -0.003956 -0.003297 -0.005316  ...  0.004083  0.001433 -0.000216   \n",
       "40667 -0.003817  0.000912 -0.000545  ...  0.000687  0.000774  0.004442   \n",
       "994    0.002265 -0.002280  0.001659  ...  0.000141  0.000338 -0.002144   \n",
       "81522  0.008388 -0.013617 -0.020365  ... -0.004999 -0.011506  0.024091   \n",
       "80624  0.062508 -0.138530 -0.174180  ... -0.026984 -0.101138  0.222024   \n",
       "...         ...       ...       ...  ...       ...       ...       ...   \n",
       "27060 -0.015896  0.001607  0.005390  ... -0.010030 -0.013547 -0.006398   \n",
       "22350 -0.003652 -0.009565 -0.002143  ...  0.002199 -0.000288  0.003603   \n",
       "21584  0.011018 -0.002606 -0.013081  ...  0.002442  0.002440 -0.004818   \n",
       "6687  -0.001158 -0.009031 -0.004377  ... -0.003596 -0.002028  0.000881   \n",
       "65942 -0.003921 -0.021593 -0.012774  ... -0.018226 -0.019449 -0.028441   \n",
       "\n",
       "            C98       C99  Silhouette  category  closer#  label  period  \n",
       "3819   0.001440 -0.003674    0.696935       2.0        2    6.0  202011  \n",
       "40667 -0.000648 -0.002980    0.009741       2.0        2   12.0  201923  \n",
       "994    0.001788 -0.000269    0.126229       3.0        2   13.0  202011  \n",
       "81522 -0.015833  0.001982    0.737198       1.0        2    7.0  201912  \n",
       "80624 -0.117305  0.040608    0.737198       1.0        2    8.0  201912  \n",
       "...         ...       ...         ...       ...      ...    ...     ...  \n",
       "27060 -0.007302  0.007872    0.738239       1.0        2    6.0  201711  \n",
       "22350  0.003144 -0.005077    0.711584       1.0        2    5.0  202021  \n",
       "21584  0.003340 -0.004840    0.726900       3.0        2    6.0  201911  \n",
       "6687  -0.004645 -0.008040    0.369699       2.0        2   13.0  202021  \n",
       "65942 -0.026618  0.007723    0.747330       1.0        2    6.0  201822  \n",
       "\n",
       "[150026 rows x 105 columns]"
      ]
     },
     "execution_count": 70,
     "metadata": {},
     "output_type": "execute_result"
    }
   ],
   "source": [
    "X_train"
   ]
  },
  {
   "cell_type": "code",
   "execution_count": 71,
   "metadata": {
    "pycharm": {
     "name": "#%%\n"
    }
   },
   "outputs": [],
   "source": [
    "model = Sequential()\n",
    "model.add(Dense(120, input_dim=105, activation='relu'))\n",
    "model.add(Dense(80, activation='relu'))\n",
    "model.add(Dense(60, activation='relu'))\n",
    "model.add(Dense(40, activation='relu'))\n",
    "model.add(Dense(20, activation='relu'))\n",
    "model.add(Dense(3, activation='softmax'))"
   ]
  },
  {
   "cell_type": "code",
   "execution_count": 72,
   "metadata": {
    "pycharm": {
     "name": "#%%\n"
    }
   },
   "outputs": [],
   "source": [
    "# compile the keras model\n",
    "#model.compile(loss='binary_crossentropy', optimizer='adam', metrics=['accuracy'])\n",
    "model.compile(loss='categorical_crossentropy', optimizer='adam', metrics=['accuracy'])"
   ]
  },
  {
   "cell_type": "code",
   "execution_count": 73,
   "metadata": {
    "pycharm": {
     "name": "#%%\n"
    }
   },
   "outputs": [],
   "source": [
    "from keras.utils import to_categorical\n",
    "\n",
    "y_train = y_train.apply(lambda x : x-1)"
   ]
  },
  {
   "cell_type": "code",
   "execution_count": 74,
   "metadata": {
    "pycharm": {
     "name": "#%%\n"
    }
   },
   "outputs": [],
   "source": [
    "y_cate_train = to_categorical(y_train , num_classes=3)\n",
    "#y_cate_train = y_train"
   ]
  },
  {
   "cell_type": "code",
   "execution_count": 75,
   "metadata": {
    "pycharm": {
     "name": "#%%\n"
    }
   },
   "outputs": [],
   "source": [
    "#y_cate_train = list(y_train)"
   ]
  },
  {
   "cell_type": "code",
   "execution_count": 76,
   "metadata": {
    "pycharm": {
     "name": "#%%\n"
    }
   },
   "outputs": [],
   "source": [
    "#X_train"
   ]
  },
  {
   "cell_type": "code",
   "execution_count": 77,
   "metadata": {
    "pycharm": {
     "name": "#%%\n"
    }
   },
   "outputs": [
    {
     "name": "stdout",
     "output_type": "stream",
     "text": [
      "Epoch 1/30\n",
      "150026/150026 [==============================] - 1s 7us/step - loss: 238.1537 - accuracy: 0.3953\n",
      "Epoch 2/30\n",
      "150026/150026 [==============================] - 1s 6us/step - loss: 89.6493 - accuracy: 0.3946\n",
      "Epoch 3/30\n",
      "150026/150026 [==============================] - 1s 6us/step - loss: 39.5952 - accuracy: 0.3982\n",
      "Epoch 4/30\n",
      "150026/150026 [==============================] - 1s 6us/step - loss: 23.7727 - accuracy: 0.3954\n",
      "Epoch 5/30\n",
      "150026/150026 [==============================] - 1s 6us/step - loss: 10.6916 - accuracy: 0.3949\n",
      "Epoch 6/30\n",
      "150026/150026 [==============================] - 1s 6us/step - loss: 5.5970 - accuracy: 0.3972\n",
      "Epoch 7/30\n",
      "150026/150026 [==============================] - 1s 6us/step - loss: 4.9561 - accuracy: 0.4009\n",
      "Epoch 8/30\n",
      "150026/150026 [==============================] - 1s 6us/step - loss: 5.5879 - accuracy: 0.4000\n",
      "Epoch 9/30\n",
      "150026/150026 [==============================] - 1s 6us/step - loss: 3.3933 - accuracy: 0.3997\n",
      "Epoch 10/30\n",
      "150026/150026 [==============================] - 1s 6us/step - loss: 1.0106 - accuracy: 0.4638\n",
      "Epoch 11/30\n",
      "150026/150026 [==============================] - 1s 6us/step - loss: 1.7511 - accuracy: 0.4344\n",
      "Epoch 12/30\n",
      "150026/150026 [==============================] - 1s 6us/step - loss: 1.1775 - accuracy: 0.4559\n",
      "Epoch 13/30\n",
      "150026/150026 [==============================] - 1s 6us/step - loss: 1.2836 - accuracy: 0.4576\n",
      "Epoch 14/30\n",
      "150026/150026 [==============================] - 1s 6us/step - loss: 1.3937 - accuracy: 0.4502\n",
      "Epoch 15/30\n",
      "150026/150026 [==============================] - 1s 6us/step - loss: 4.2881 - accuracy: 0.4420\n",
      "Epoch 16/30\n",
      "150026/150026 [==============================] - 1s 6us/step - loss: 3.1032 - accuracy: 0.4098\n",
      "Epoch 17/30\n",
      "150026/150026 [==============================] - 1s 6us/step - loss: 1.3997 - accuracy: 0.4265\n",
      "Epoch 18/30\n",
      "150026/150026 [==============================] - 1s 6us/step - loss: 0.9959 - accuracy: 0.4537\n",
      "Epoch 19/30\n",
      "150026/150026 [==============================] - 1s 6us/step - loss: 1.0050 - accuracy: 0.4496\n",
      "Epoch 20/30\n",
      "150026/150026 [==============================] - 1s 6us/step - loss: 1.2404 - accuracy: 0.4369\n",
      "Epoch 21/30\n",
      "150026/150026 [==============================] - 1s 6us/step - loss: 0.9823 - accuracy: 0.4612\n",
      "Epoch 22/30\n",
      "150026/150026 [==============================] - 1s 6us/step - loss: 0.9988 - accuracy: 0.4628\n",
      "Epoch 23/30\n",
      "150026/150026 [==============================] - 1s 6us/step - loss: 0.9943 - accuracy: 0.4636\n",
      "Epoch 24/30\n",
      "150026/150026 [==============================] - 1s 6us/step - loss: 20.2438 - accuracy: 0.4037\n",
      "Epoch 25/30\n",
      "150026/150026 [==============================] - 1s 6us/step - loss: 1.0347 - accuracy: 0.4452\n",
      "Epoch 26/30\n",
      "150026/150026 [==============================] - 1s 6us/step - loss: 1.0539 - accuracy: 0.4489\n",
      "Epoch 27/30\n",
      "150026/150026 [==============================] - 1s 6us/step - loss: 1.0116 - accuracy: 0.4501\n",
      "Epoch 28/30\n",
      "150026/150026 [==============================] - 1s 6us/step - loss: 1.0165 - accuracy: 0.4508\n",
      "Epoch 29/30\n",
      "150026/150026 [==============================] - 1s 6us/step - loss: 1.0232 - accuracy: 0.4514\n",
      "Epoch 30/30\n",
      "150026/150026 [==============================] - 1s 6us/step - loss: 1.0174 - accuracy: 0.4508\n"
     ]
    },
    {
     "data": {
      "text/plain": [
       "<keras.callbacks.callbacks.History at 0x7f9430fd1050>"
      ]
     },
     "execution_count": 77,
     "metadata": {},
     "output_type": "execute_result"
    }
   ],
   "source": [
    "model.fit(X_train,y_cate_train, epochs=30, batch_size=500)"
   ]
  },
  {
   "cell_type": "code",
   "execution_count": 78,
   "metadata": {
    "pycharm": {
     "name": "#%%\n"
    }
   },
   "outputs": [
    {
     "data": {
      "text/html": [
       "<div>\n",
       "<style scoped>\n",
       "    .dataframe tbody tr th:only-of-type {\n",
       "        vertical-align: middle;\n",
       "    }\n",
       "\n",
       "    .dataframe tbody tr th {\n",
       "        vertical-align: top;\n",
       "    }\n",
       "\n",
       "    .dataframe thead th {\n",
       "        text-align: right;\n",
       "    }\n",
       "</style>\n",
       "<table border=\"1\" class=\"dataframe\">\n",
       "  <thead>\n",
       "    <tr style=\"text-align: right;\">\n",
       "      <th></th>\n",
       "      <th>C1</th>\n",
       "      <th>C10</th>\n",
       "      <th>C100</th>\n",
       "      <th>C11</th>\n",
       "      <th>C12</th>\n",
       "      <th>C13</th>\n",
       "      <th>C14</th>\n",
       "      <th>C15</th>\n",
       "      <th>C16</th>\n",
       "      <th>C17</th>\n",
       "      <th>...</th>\n",
       "      <th>C95</th>\n",
       "      <th>C96</th>\n",
       "      <th>C97</th>\n",
       "      <th>C98</th>\n",
       "      <th>C99</th>\n",
       "      <th>Silhouette</th>\n",
       "      <th>category</th>\n",
       "      <th>closer#</th>\n",
       "      <th>label</th>\n",
       "      <th>period</th>\n",
       "    </tr>\n",
       "  </thead>\n",
       "  <tbody>\n",
       "    <tr>\n",
       "      <td>251</td>\n",
       "      <td>0.003609</td>\n",
       "      <td>0.005405</td>\n",
       "      <td>-0.003673</td>\n",
       "      <td>0.002230</td>\n",
       "      <td>-0.005533</td>\n",
       "      <td>0.002248</td>\n",
       "      <td>-0.002091</td>\n",
       "      <td>0.003875</td>\n",
       "      <td>-0.003366</td>\n",
       "      <td>0.006010</td>\n",
       "      <td>...</td>\n",
       "      <td>-0.005088</td>\n",
       "      <td>0.002435</td>\n",
       "      <td>-0.001425</td>\n",
       "      <td>0.001564</td>\n",
       "      <td>0.004732</td>\n",
       "      <td>0.126229</td>\n",
       "      <td>3.0</td>\n",
       "      <td>2</td>\n",
       "      <td>1.0</td>\n",
       "      <td>202011</td>\n",
       "    </tr>\n",
       "    <tr>\n",
       "      <td>21274</td>\n",
       "      <td>-0.004946</td>\n",
       "      <td>0.002248</td>\n",
       "      <td>-0.001245</td>\n",
       "      <td>0.004582</td>\n",
       "      <td>-0.005341</td>\n",
       "      <td>-0.001849</td>\n",
       "      <td>-0.001053</td>\n",
       "      <td>0.001715</td>\n",
       "      <td>-0.007273</td>\n",
       "      <td>-0.005314</td>\n",
       "      <td>...</td>\n",
       "      <td>0.004164</td>\n",
       "      <td>-0.001582</td>\n",
       "      <td>-0.000197</td>\n",
       "      <td>0.007651</td>\n",
       "      <td>-0.006374</td>\n",
       "      <td>0.711584</td>\n",
       "      <td>1.0</td>\n",
       "      <td>2</td>\n",
       "      <td>5.0</td>\n",
       "      <td>202021</td>\n",
       "    </tr>\n",
       "    <tr>\n",
       "      <td>2408</td>\n",
       "      <td>-0.004942</td>\n",
       "      <td>-0.000757</td>\n",
       "      <td>0.004087</td>\n",
       "      <td>0.002646</td>\n",
       "      <td>-0.002901</td>\n",
       "      <td>-0.001663</td>\n",
       "      <td>0.001977</td>\n",
       "      <td>0.003490</td>\n",
       "      <td>0.003709</td>\n",
       "      <td>-0.001759</td>\n",
       "      <td>...</td>\n",
       "      <td>-0.004506</td>\n",
       "      <td>-0.003069</td>\n",
       "      <td>-0.002461</td>\n",
       "      <td>0.003005</td>\n",
       "      <td>-0.001954</td>\n",
       "      <td>0.126229</td>\n",
       "      <td>3.0</td>\n",
       "      <td>2</td>\n",
       "      <td>1.0</td>\n",
       "      <td>202011</td>\n",
       "    </tr>\n",
       "    <tr>\n",
       "      <td>42364</td>\n",
       "      <td>-0.114611</td>\n",
       "      <td>-0.014224</td>\n",
       "      <td>-0.048490</td>\n",
       "      <td>-0.154150</td>\n",
       "      <td>0.022153</td>\n",
       "      <td>0.013070</td>\n",
       "      <td>-0.049324</td>\n",
       "      <td>-0.069129</td>\n",
       "      <td>-0.090181</td>\n",
       "      <td>-0.037355</td>\n",
       "      <td>...</td>\n",
       "      <td>-0.058670</td>\n",
       "      <td>-0.024119</td>\n",
       "      <td>-0.034482</td>\n",
       "      <td>0.006286</td>\n",
       "      <td>-0.063955</td>\n",
       "      <td>0.743554</td>\n",
       "      <td>1.0</td>\n",
       "      <td>2</td>\n",
       "      <td>5.0</td>\n",
       "      <td>201821</td>\n",
       "    </tr>\n",
       "    <tr>\n",
       "      <td>10786</td>\n",
       "      <td>0.000631</td>\n",
       "      <td>0.004780</td>\n",
       "      <td>-0.004805</td>\n",
       "      <td>0.004262</td>\n",
       "      <td>0.004554</td>\n",
       "      <td>0.003390</td>\n",
       "      <td>0.001349</td>\n",
       "      <td>-0.001896</td>\n",
       "      <td>-0.002344</td>\n",
       "      <td>0.002621</td>\n",
       "      <td>...</td>\n",
       "      <td>-0.003721</td>\n",
       "      <td>0.004324</td>\n",
       "      <td>0.003704</td>\n",
       "      <td>-0.000757</td>\n",
       "      <td>0.003579</td>\n",
       "      <td>0.021864</td>\n",
       "      <td>3.0</td>\n",
       "      <td>2</td>\n",
       "      <td>13.0</td>\n",
       "      <td>201821</td>\n",
       "    </tr>\n",
       "    <tr>\n",
       "      <td>...</td>\n",
       "      <td>...</td>\n",
       "      <td>...</td>\n",
       "      <td>...</td>\n",
       "      <td>...</td>\n",
       "      <td>...</td>\n",
       "      <td>...</td>\n",
       "      <td>...</td>\n",
       "      <td>...</td>\n",
       "      <td>...</td>\n",
       "      <td>...</td>\n",
       "      <td>...</td>\n",
       "      <td>...</td>\n",
       "      <td>...</td>\n",
       "      <td>...</td>\n",
       "      <td>...</td>\n",
       "      <td>...</td>\n",
       "      <td>...</td>\n",
       "      <td>...</td>\n",
       "      <td>...</td>\n",
       "      <td>...</td>\n",
       "      <td>...</td>\n",
       "    </tr>\n",
       "    <tr>\n",
       "      <td>62404</td>\n",
       "      <td>0.037720</td>\n",
       "      <td>0.137368</td>\n",
       "      <td>0.051904</td>\n",
       "      <td>0.007077</td>\n",
       "      <td>0.006938</td>\n",
       "      <td>-0.032546</td>\n",
       "      <td>-0.021295</td>\n",
       "      <td>-0.001213</td>\n",
       "      <td>-0.042519</td>\n",
       "      <td>-0.020242</td>\n",
       "      <td>...</td>\n",
       "      <td>-0.031918</td>\n",
       "      <td>-0.032604</td>\n",
       "      <td>-0.052763</td>\n",
       "      <td>-0.041888</td>\n",
       "      <td>0.007271</td>\n",
       "      <td>0.747330</td>\n",
       "      <td>1.0</td>\n",
       "      <td>2</td>\n",
       "      <td>6.0</td>\n",
       "      <td>201822</td>\n",
       "    </tr>\n",
       "    <tr>\n",
       "      <td>94958</td>\n",
       "      <td>-0.008250</td>\n",
       "      <td>-0.002128</td>\n",
       "      <td>0.001364</td>\n",
       "      <td>0.003818</td>\n",
       "      <td>0.007931</td>\n",
       "      <td>0.003512</td>\n",
       "      <td>-0.007718</td>\n",
       "      <td>-0.001669</td>\n",
       "      <td>0.004897</td>\n",
       "      <td>0.004999</td>\n",
       "      <td>...</td>\n",
       "      <td>0.003342</td>\n",
       "      <td>0.002829</td>\n",
       "      <td>0.000611</td>\n",
       "      <td>0.003464</td>\n",
       "      <td>-0.002295</td>\n",
       "      <td>0.541101</td>\n",
       "      <td>1.0</td>\n",
       "      <td>2</td>\n",
       "      <td>5.0</td>\n",
       "      <td>201922</td>\n",
       "    </tr>\n",
       "    <tr>\n",
       "      <td>101547</td>\n",
       "      <td>-0.000976</td>\n",
       "      <td>0.002546</td>\n",
       "      <td>0.002833</td>\n",
       "      <td>-0.000036</td>\n",
       "      <td>-0.003748</td>\n",
       "      <td>0.002285</td>\n",
       "      <td>0.000196</td>\n",
       "      <td>0.003761</td>\n",
       "      <td>-0.003174</td>\n",
       "      <td>-0.001097</td>\n",
       "      <td>...</td>\n",
       "      <td>-0.004305</td>\n",
       "      <td>0.001707</td>\n",
       "      <td>0.005043</td>\n",
       "      <td>0.000580</td>\n",
       "      <td>-0.002656</td>\n",
       "      <td>0.497163</td>\n",
       "      <td>1.0</td>\n",
       "      <td>2</td>\n",
       "      <td>2.0</td>\n",
       "      <td>201923</td>\n",
       "    </tr>\n",
       "    <tr>\n",
       "      <td>64945</td>\n",
       "      <td>0.002289</td>\n",
       "      <td>0.016442</td>\n",
       "      <td>0.004574</td>\n",
       "      <td>0.004354</td>\n",
       "      <td>0.000818</td>\n",
       "      <td>-0.002578</td>\n",
       "      <td>-0.006279</td>\n",
       "      <td>-0.000923</td>\n",
       "      <td>-0.000443</td>\n",
       "      <td>-0.002263</td>\n",
       "      <td>...</td>\n",
       "      <td>-0.007277</td>\n",
       "      <td>0.000503</td>\n",
       "      <td>-0.007573</td>\n",
       "      <td>-0.010123</td>\n",
       "      <td>0.002521</td>\n",
       "      <td>0.747330</td>\n",
       "      <td>1.0</td>\n",
       "      <td>2</td>\n",
       "      <td>6.0</td>\n",
       "      <td>201822</td>\n",
       "    </tr>\n",
       "    <tr>\n",
       "      <td>16938</td>\n",
       "      <td>-0.015646</td>\n",
       "      <td>0.020146</td>\n",
       "      <td>0.013169</td>\n",
       "      <td>0.005731</td>\n",
       "      <td>-0.012299</td>\n",
       "      <td>0.006907</td>\n",
       "      <td>-0.010290</td>\n",
       "      <td>0.004269</td>\n",
       "      <td>-0.026524</td>\n",
       "      <td>-0.012350</td>\n",
       "      <td>...</td>\n",
       "      <td>0.014992</td>\n",
       "      <td>-0.007561</td>\n",
       "      <td>0.000324</td>\n",
       "      <td>0.008595</td>\n",
       "      <td>0.003778</td>\n",
       "      <td>0.711584</td>\n",
       "      <td>1.0</td>\n",
       "      <td>2</td>\n",
       "      <td>5.0</td>\n",
       "      <td>202021</td>\n",
       "    </tr>\n",
       "  </tbody>\n",
       "</table>\n",
       "<p>37507 rows × 105 columns</p>\n",
       "</div>"
      ],
      "text/plain": [
       "              C1       C10      C100       C11       C12       C13       C14  \\\n",
       "251     0.003609  0.005405 -0.003673  0.002230 -0.005533  0.002248 -0.002091   \n",
       "21274  -0.004946  0.002248 -0.001245  0.004582 -0.005341 -0.001849 -0.001053   \n",
       "2408   -0.004942 -0.000757  0.004087  0.002646 -0.002901 -0.001663  0.001977   \n",
       "42364  -0.114611 -0.014224 -0.048490 -0.154150  0.022153  0.013070 -0.049324   \n",
       "10786   0.000631  0.004780 -0.004805  0.004262  0.004554  0.003390  0.001349   \n",
       "...          ...       ...       ...       ...       ...       ...       ...   \n",
       "62404   0.037720  0.137368  0.051904  0.007077  0.006938 -0.032546 -0.021295   \n",
       "94958  -0.008250 -0.002128  0.001364  0.003818  0.007931  0.003512 -0.007718   \n",
       "101547 -0.000976  0.002546  0.002833 -0.000036 -0.003748  0.002285  0.000196   \n",
       "64945   0.002289  0.016442  0.004574  0.004354  0.000818 -0.002578 -0.006279   \n",
       "16938  -0.015646  0.020146  0.013169  0.005731 -0.012299  0.006907 -0.010290   \n",
       "\n",
       "             C15       C16       C17  ...       C95       C96       C97  \\\n",
       "251     0.003875 -0.003366  0.006010  ... -0.005088  0.002435 -0.001425   \n",
       "21274   0.001715 -0.007273 -0.005314  ...  0.004164 -0.001582 -0.000197   \n",
       "2408    0.003490  0.003709 -0.001759  ... -0.004506 -0.003069 -0.002461   \n",
       "42364  -0.069129 -0.090181 -0.037355  ... -0.058670 -0.024119 -0.034482   \n",
       "10786  -0.001896 -0.002344  0.002621  ... -0.003721  0.004324  0.003704   \n",
       "...          ...       ...       ...  ...       ...       ...       ...   \n",
       "62404  -0.001213 -0.042519 -0.020242  ... -0.031918 -0.032604 -0.052763   \n",
       "94958  -0.001669  0.004897  0.004999  ...  0.003342  0.002829  0.000611   \n",
       "101547  0.003761 -0.003174 -0.001097  ... -0.004305  0.001707  0.005043   \n",
       "64945  -0.000923 -0.000443 -0.002263  ... -0.007277  0.000503 -0.007573   \n",
       "16938   0.004269 -0.026524 -0.012350  ...  0.014992 -0.007561  0.000324   \n",
       "\n",
       "             C98       C99  Silhouette  category  closer#  label  period  \n",
       "251     0.001564  0.004732    0.126229       3.0        2    1.0  202011  \n",
       "21274   0.007651 -0.006374    0.711584       1.0        2    5.0  202021  \n",
       "2408    0.003005 -0.001954    0.126229       3.0        2    1.0  202011  \n",
       "42364   0.006286 -0.063955    0.743554       1.0        2    5.0  201821  \n",
       "10786  -0.000757  0.003579    0.021864       3.0        2   13.0  201821  \n",
       "...          ...       ...         ...       ...      ...    ...     ...  \n",
       "62404  -0.041888  0.007271    0.747330       1.0        2    6.0  201822  \n",
       "94958   0.003464 -0.002295    0.541101       1.0        2    5.0  201922  \n",
       "101547  0.000580 -0.002656    0.497163       1.0        2    2.0  201923  \n",
       "64945  -0.010123  0.002521    0.747330       1.0        2    6.0  201822  \n",
       "16938   0.008595  0.003778    0.711584       1.0        2    5.0  202021  \n",
       "\n",
       "[37507 rows x 105 columns]"
      ]
     },
     "execution_count": 78,
     "metadata": {},
     "output_type": "execute_result"
    }
   ],
   "source": [
    "X_test"
   ]
  },
  {
   "cell_type": "code",
   "execution_count": 79,
   "metadata": {
    "pycharm": {
     "name": "#%%\n"
    }
   },
   "outputs": [],
   "source": [
    "y_test = y_test.apply(lambda x : x-1)"
   ]
  },
  {
   "cell_type": "code",
   "execution_count": 80,
   "metadata": {
    "pycharm": {
     "name": "#%%\n"
    }
   },
   "outputs": [],
   "source": [
    "y_cate_test = to_categorical(y_test , num_classes=3)"
   ]
  },
  {
   "cell_type": "code",
   "execution_count": 81,
   "metadata": {
    "pycharm": {
     "name": "#%%\n"
    }
   },
   "outputs": [
    {
     "name": "stdout",
     "output_type": "stream",
     "text": [
      "37507/37507 [==============================] - 0s 3us/step\n"
     ]
    }
   ],
   "source": [
    "score = model.evaluate(X_test, y_cate_test, batch_size=500)"
   ]
  },
  {
   "cell_type": "code",
   "execution_count": 82,
   "metadata": {
    "pycharm": {
     "name": "#%%\n"
    }
   },
   "outputs": [
    {
     "data": {
      "text/plain": [
       "[1.0452024222221226, 0.43653184175491333]"
      ]
     },
     "execution_count": 82,
     "metadata": {},
     "output_type": "execute_result"
    }
   ],
   "source": [
    "score"
   ]
  },
  {
   "cell_type": "code",
   "execution_count": 83,
   "metadata": {
    "pycharm": {
     "name": "#%%\n"
    }
   },
   "outputs": [],
   "source": [
    "yhat_probs = model.predict(X_test ,batch_size=500 )\n",
    "\n",
    "yhat_classes = model.predict_classes(X_test ,batch_size=500 )\n",
    "\n",
    "# reduce to 1d array\n",
    "#yhat_probs = yhat_probs[:, 0]\n",
    "#yhat_classes = yhat_classes[:, 0]"
   ]
  },
  {
   "cell_type": "code",
   "execution_count": 84,
   "metadata": {
    "pycharm": {
     "name": "#%%\n"
    }
   },
   "outputs": [
    {
     "data": {
      "text/plain": [
       "array([0, 0, 0, ..., 0, 0, 0])"
      ]
     },
     "execution_count": 84,
     "metadata": {},
     "output_type": "execute_result"
    }
   ],
   "source": [
    "yhat_classes"
   ]
  },
  {
   "cell_type": "code",
   "execution_count": 85,
   "metadata": {
    "pycharm": {
     "name": "#%%\n"
    }
   },
   "outputs": [
    {
     "data": {
      "text/plain": [
       "array([[1., 0., 0.],\n",
       "       [0., 1., 0.],\n",
       "       [1., 0., 0.],\n",
       "       ...,\n",
       "       [0., 1., 0.],\n",
       "       [0., 1., 0.],\n",
       "       [0., 1., 0.]], dtype=float32)"
      ]
     },
     "execution_count": 85,
     "metadata": {},
     "output_type": "execute_result"
    }
   ],
   "source": [
    "y_cate_test"
   ]
  },
  {
   "cell_type": "code",
   "execution_count": 86,
   "metadata": {
    "pycharm": {
     "name": "#%%\n"
    }
   },
   "outputs": [
    {
     "name": "stdout",
     "output_type": "stream",
     "text": [
      "Accuracy: 0.436532\n",
      "Precision: 0.436532\n",
      "Recall: 0.436532\n",
      "F1 score: 0.436532\n"
     ]
    }
   ],
   "source": [
    "# accuracy: (tp + tn) / (p + n)\n",
    "accuracy = accuracy_score(y_test, yhat_classes )\n",
    "print('Accuracy: %f' % accuracy)\n",
    "# precision tp / (tp + fp)\n",
    "precision = precision_score(y_test, yhat_classes , average='micro')\n",
    "print('Precision: %f' % precision)\n",
    "# recall: tp / (tp + fn)\n",
    "recall = recall_score(y_test, yhat_classes , average='micro')\n",
    "print('Recall: %f' % recall)\n",
    "# f1: 2 tp / (2 tp + fp + fn)\n",
    "f1 = f1_score(y_test, yhat_classes,average='micro')\n",
    "print('F1 score: %f' % f1)"
   ]
  },
  {
   "cell_type": "code",
   "execution_count": 87,
   "metadata": {
    "pycharm": {
     "name": "#%%\n"
    }
   },
   "outputs": [
    {
     "name": "stdout",
     "output_type": "stream",
     "text": [
      "251       0\n",
      "21274     1\n",
      "2408      0\n",
      "42364     1\n",
      "10786     1\n",
      "         ..\n",
      "62404     1\n",
      "94958     1\n",
      "101547    1\n",
      "64945     1\n",
      "16938     1\n",
      "Name: result, Length: 37507, dtype: int64\n",
      "[[1 0 0]\n",
      " [0 1 0]\n",
      " [1 0 0]\n",
      " ...\n",
      " [0 1 0]\n",
      " [0 1 0]\n",
      " [0 1 0]]\n",
      "class :  0 == 0.8206475212160749\n",
      "class :  1 == 0.9358842437260124\n",
      "class :  2 == 0.867764237289026\n"
     ]
    }
   ],
   "source": [
    "# Compute ROC curve and ROC area for each class\n",
    "fpr = dict()\n",
    "tpr = dict()\n",
    "roc_auc = dict()\n",
    "\n",
    "y_test_roc =label_binarize(y_test, classes=[0, 1, 2])\n",
    "\n",
    "print(y_test)\n",
    "print(y_test_roc)\n",
    "\n",
    "for i in range(3):\n",
    "    fpr[i], tpr[i], _ = roc_curve(y_test_roc[:, i], yhat_probs[:, i])\n",
    "    roc_auc[i] = auc(fpr[i], tpr[i])\n",
    "    print('class : ',i,'==',roc_auc[i])"
   ]
  },
  {
   "cell_type": "code",
   "execution_count": 88,
   "metadata": {
    "pycharm": {
     "name": "#%%\n"
    }
   },
   "outputs": [],
   "source": [
    "# Compute micro-average ROC curve and ROC area\n",
    "fpr[\"micro\"], tpr[\"micro\"], _ = roc_curve(y_test_roc.ravel(), yhat_probs.ravel())\n",
    "roc_auc[\"micro\"] = auc(fpr[\"micro\"], tpr[\"micro\"])"
   ]
  },
  {
   "cell_type": "code",
   "execution_count": 89,
   "metadata": {
    "pycharm": {
     "name": "#%%\n"
    }
   },
   "outputs": [
    {
     "data": {
      "image/png": "[encoded data removed]",
      "text/plain": [
       "<Figure size 432x288 with 1 Axes>"
      ]
     },
     "metadata": {
      "needs_background": "light"
     },
     "output_type": "display_data"
    }
   ],
   "source": [
    "plt.figure()\n",
    "lw = 2\n",
    "plt.plot(fpr[2], tpr[2], color='darkorange',\n",
    "         lw=lw, label='ROC curve (area = %0.2f)' % roc_auc[2])\n",
    "plt.plot([0, 1], [0, 1], color='navy', lw=lw, linestyle='--')\n",
    "plt.xlim([0.0, 1.0])\n",
    "plt.ylim([0.0, 1.05])\n",
    "plt.xlabel('False Positive Rate')\n",
    "plt.ylabel('True Positive Rate')\n",
    "plt.title('Receiver operating characteristic example')\n",
    "plt.legend(loc=\"lower right\")\n",
    "plt.show()\n"
   ]
  },
  {
   "cell_type": "code",
   "execution_count": 90,
   "metadata": {
    "pycharm": {
     "name": "#%%\n"
    }
   },
   "outputs": [
    {
     "data": {
      "image/png": "[encoded data removed]",
      "text/plain": [
       "<Figure size 432x288 with 1 Axes>"
      ]
     },
     "metadata": {
      "needs_background": "light"
     },
     "output_type": "display_data"
    }
   ],
   "source": [
    "# First aggregate all false positive rates\n",
    "all_fpr = np.unique(np.concatenate([fpr[i] for i in range(3)]))\n",
    "\n",
    "# Then interpolate all ROC curves at this points\n",
    "mean_tpr = np.zeros_like(all_fpr)\n",
    "for i in range(3):\n",
    "    mean_tpr += interp(all_fpr, fpr[i], tpr[i])\n",
    "\n",
    "# Finally average it and compute AUC\n",
    "mean_tpr /= 3\n",
    "\n",
    "fpr[\"macro\"] = all_fpr\n",
    "tpr[\"macro\"] = mean_tpr\n",
    "roc_auc[\"macro\"] = auc(fpr[\"macro\"], tpr[\"macro\"])\n",
    "\n",
    "# Plot all ROC curves\n",
    "plt.figure()\n",
    "plt.plot(fpr[\"micro\"], tpr[\"micro\"],\n",
    "         label='micro-average ROC curve (area = {0:0.2f})'\n",
    "               ''.format(roc_auc[\"micro\"]),\n",
    "         color='deeppink', linestyle=':', linewidth=4)\n",
    "\n",
    "plt.plot(fpr[\"macro\"], tpr[\"macro\"],\n",
    "         label='macro-average ROC curve (area = {0:0.2f})'\n",
    "               ''.format(roc_auc[\"macro\"]),\n",
    "         color='navy', linestyle=':', linewidth=4)\n",
    "\n",
    "colors = cycle(['aqua', 'darkorange', 'cornflowerblue'])\n",
    "for i, color in zip(range(3), colors):\n",
    "    plt.plot(fpr[i], tpr[i], color=color, lw=lw,\n",
    "             label='ROC curve of class {0} (area = {1:0.2f})'\n",
    "             ''.format(i, roc_auc[i]))\n",
    "\n",
    "plt.plot([0, 1], [0, 1], 'k--', lw=lw)\n",
    "plt.xlim([0.0, 1.0])\n",
    "plt.ylim([0.0, 1.05])\n",
    "plt.xlabel('False Positive Rate')\n",
    "plt.ylabel('True Positive Rate')\n",
    "plt.title('Some extension of Receiver operating characteristic to multi-class')\n",
    "plt.legend(loc=\"lower right\")\n",
    "plt.show()"
   ]
  },
  {
   "cell_type": "code",
   "execution_count": null,
   "metadata": {
    "pycharm": {
     "name": "#%%\n"
    }
   },
   "outputs": [],
   "source": []
  }
 ],
 "metadata": {
  "kernelspec": {
   "display_name": "Python 3",
   "language": "python",
   "name": "python3"
  },
  "language_info": {
   "codemirror_mode": {
    "name": "ipython",
    "version": 3
   },
   "file_extension": ".py",
   "mimetype": "text/x-python",
   "name": "python",
   "nbconvert_exporter": "python",
   "pygments_lexer": "ipython3",
   "version": "3.7.4"
  },
  "pycharm": {
   "stem_cell": {
    "cell_type": "raw",
    "metadata": {
     "collapsed": false
    },
    "source": []
   }
  }
 },
 "nbformat": 4,
 "nbformat_minor": 2
}

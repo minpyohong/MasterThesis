{
 "cells": [
  {
   "cell_type": "code",
   "execution_count": 132,
   "metadata": {
    "pycharm": {
     "name": "#%%\n"
    }
   },
   "outputs": [],
   "source": [
    "import re\n",
    "import math\n",
    "import numpy as np\n",
    "import pandas as pd\n",
    "from datetime import datetime\n",
    "from sklearn.preprocessing import StandardScaler\n",
    "from sklearn.model_selection import train_test_split\n",
    "from sklearn.tree import DecisionTreeClassifier\n",
    "from sklearn.ensemble import RandomForestClassifier\n",
    "from sklearn.ensemble import GradientBoostingClassifier\n",
    "from lightgbm import LGBMClassifier\n",
    "from sklearn.linear_model import LogisticRegression\n",
    "from sklearn.metrics import accuracy_score ,precision_score , recall_score , confusion_matrix , f1_score\n",
    "from sklearn.model_selection import GridSearchCV\n",
    "from ast import literal_eval\n",
    "from gensim.models.keyedvectors import KeyedVectors\n",
    "from sklearn.decomposition import PCA\n",
    "pca = PCA(n_components=40)\n",
    "from sklearn import datasets, metrics, model_selection\n",
    "import matplotlib.pyplot as plt\n",
    "from sklearn.metrics import roc_curve, auc\n",
    "from sklearn.metrics import roc_auc_score"
   ]
  },
  {
   "cell_type": "code",
   "execution_count": 133,
   "metadata": {
    "pycharm": {
     "name": "#%%\n"
    }
   },
   "outputs": [],
   "source": [
    "#data_train = pd.read_csv('./data/twitter_data_before_analysis.csv', error_bad_lines=False)\n",
    "data_train = pd.read_csv('./data/twitter_data_before_analysis1.csv', error_bad_lines=False)\n",
    "data_train = data_train.append(pd.read_csv('./data/ko_news_data_before_analysis.csv', error_bad_lines=False))\n",
    "data_train = data_train.append(pd.read_csv('./data/en_news_data_before_analysis.csv', error_bad_lines=False))"
   ]
  },
  {
   "cell_type": "code",
   "execution_count": 134,
   "metadata": {
    "pycharm": {
     "name": "#%%\n"
    }
   },
   "outputs": [],
   "source": [
    "data_train['period'] = pd.to_numeric(data_train['period'], errors='coerce')\n",
    "data_train['category'] = pd.to_numeric(data_train['category'], errors='coerce')\n",
    "data_train['label'] = pd.to_numeric(data_train['label'], errors='coerce')\n",
    "data_train['Silhouette'] = pd.to_numeric(data_train['Silhouette'], errors='coerce')"
   ]
  },
  {
   "cell_type": "code",
   "execution_count": 135,
   "metadata": {},
   "outputs": [
    {
     "name": "stdout",
     "output_type": "stream",
     "text": [
      "187533\n"
     ]
    }
   ],
   "source": [
    "print(len(data_train))"
   ]
  },
  {
   "cell_type": "code",
   "execution_count": 136,
   "metadata": {
    "pycharm": {
     "name": "#%%\n"
    }
   },
   "outputs": [],
   "source": [
    "X_train = data_train[data_train.columns.difference(['result'])]"
   ]
  },
  {
   "cell_type": "code",
   "execution_count": 137,
   "metadata": {
    "pycharm": {
     "name": "#%%\n"
    }
   },
   "outputs": [],
   "source": [
    "#x_data_df = data_train[['period','raw_data','closer#','category','label','Silhouette']]\n",
    "y_train = data_train['result']"
   ]
  },
  {
   "cell_type": "code",
   "execution_count": 138,
   "metadata": {
    "pycharm": {
     "name": "#%%\n"
    }
   },
   "outputs": [],
   "source": [
    "X_train = X_train.drop('Unnamed: 0', axis=1)"
   ]
  },
  {
   "cell_type": "code",
   "execution_count": 139,
   "metadata": {},
   "outputs": [
    {
     "data": {
      "text/html": [
       "<div>\n",
       "<style scoped>\n",
       "    .dataframe tbody tr th:only-of-type {\n",
       "        vertical-align: middle;\n",
       "    }\n",
       "\n",
       "    .dataframe tbody tr th {\n",
       "        vertical-align: top;\n",
       "    }\n",
       "\n",
       "    .dataframe thead th {\n",
       "        text-align: right;\n",
       "    }\n",
       "</style>\n",
       "<table border=\"1\" class=\"dataframe\">\n",
       "  <thead>\n",
       "    <tr style=\"text-align: right;\">\n",
       "      <th></th>\n",
       "      <th>C1</th>\n",
       "      <th>C10</th>\n",
       "      <th>C100</th>\n",
       "      <th>C11</th>\n",
       "      <th>C12</th>\n",
       "      <th>C13</th>\n",
       "      <th>C14</th>\n",
       "      <th>C15</th>\n",
       "      <th>C16</th>\n",
       "      <th>C17</th>\n",
       "      <th>...</th>\n",
       "      <th>C95</th>\n",
       "      <th>C96</th>\n",
       "      <th>C97</th>\n",
       "      <th>C98</th>\n",
       "      <th>C99</th>\n",
       "      <th>Silhouette</th>\n",
       "      <th>category</th>\n",
       "      <th>closer#</th>\n",
       "      <th>label</th>\n",
       "      <th>period</th>\n",
       "    </tr>\n",
       "  </thead>\n",
       "  <tbody>\n",
       "    <tr>\n",
       "      <td>0</td>\n",
       "      <td>-0.001495</td>\n",
       "      <td>0.002059</td>\n",
       "      <td>-0.003641</td>\n",
       "      <td>0.002519</td>\n",
       "      <td>-0.000030</td>\n",
       "      <td>-0.000061</td>\n",
       "      <td>0.000266</td>\n",
       "      <td>-0.001268</td>\n",
       "      <td>-0.005870</td>\n",
       "      <td>0.004812</td>\n",
       "      <td>...</td>\n",
       "      <td>-0.001215</td>\n",
       "      <td>-0.005617</td>\n",
       "      <td>-0.000767</td>\n",
       "      <td>0.003659</td>\n",
       "      <td>-0.001297</td>\n",
       "      <td>0.126229</td>\n",
       "      <td>3.0</td>\n",
       "      <td>2</td>\n",
       "      <td>1.0</td>\n",
       "      <td>202011</td>\n",
       "    </tr>\n",
       "    <tr>\n",
       "      <td>1</td>\n",
       "      <td>-0.021860</td>\n",
       "      <td>0.025023</td>\n",
       "      <td>-0.030539</td>\n",
       "      <td>-0.053737</td>\n",
       "      <td>-0.034043</td>\n",
       "      <td>-0.106272</td>\n",
       "      <td>0.101318</td>\n",
       "      <td>0.046353</td>\n",
       "      <td>-0.032074</td>\n",
       "      <td>0.056494</td>\n",
       "      <td>...</td>\n",
       "      <td>-0.085919</td>\n",
       "      <td>-0.086635</td>\n",
       "      <td>-0.032728</td>\n",
       "      <td>0.003305</td>\n",
       "      <td>0.029844</td>\n",
       "      <td>0.126229</td>\n",
       "      <td>3.0</td>\n",
       "      <td>2</td>\n",
       "      <td>12.0</td>\n",
       "      <td>202011</td>\n",
       "    </tr>\n",
       "    <tr>\n",
       "      <td>2</td>\n",
       "      <td>-0.006153</td>\n",
       "      <td>0.000252</td>\n",
       "      <td>-0.000431</td>\n",
       "      <td>-0.007744</td>\n",
       "      <td>-0.001371</td>\n",
       "      <td>-0.012007</td>\n",
       "      <td>0.004584</td>\n",
       "      <td>-0.001146</td>\n",
       "      <td>-0.006225</td>\n",
       "      <td>0.003439</td>\n",
       "      <td>...</td>\n",
       "      <td>-0.002505</td>\n",
       "      <td>-0.002000</td>\n",
       "      <td>-0.006141</td>\n",
       "      <td>-0.000919</td>\n",
       "      <td>0.005992</td>\n",
       "      <td>0.126229</td>\n",
       "      <td>3.0</td>\n",
       "      <td>2</td>\n",
       "      <td>13.0</td>\n",
       "      <td>202011</td>\n",
       "    </tr>\n",
       "    <tr>\n",
       "      <td>3</td>\n",
       "      <td>-0.011715</td>\n",
       "      <td>0.010112</td>\n",
       "      <td>-0.014666</td>\n",
       "      <td>-0.018584</td>\n",
       "      <td>-0.010574</td>\n",
       "      <td>-0.035928</td>\n",
       "      <td>0.037478</td>\n",
       "      <td>0.020299</td>\n",
       "      <td>-0.011364</td>\n",
       "      <td>0.024920</td>\n",
       "      <td>...</td>\n",
       "      <td>-0.035902</td>\n",
       "      <td>-0.030800</td>\n",
       "      <td>-0.010657</td>\n",
       "      <td>0.002631</td>\n",
       "      <td>0.007532</td>\n",
       "      <td>0.126229</td>\n",
       "      <td>3.0</td>\n",
       "      <td>2</td>\n",
       "      <td>12.0</td>\n",
       "      <td>202011</td>\n",
       "    </tr>\n",
       "    <tr>\n",
       "      <td>4</td>\n",
       "      <td>-0.004312</td>\n",
       "      <td>0.010082</td>\n",
       "      <td>-0.009291</td>\n",
       "      <td>-0.017374</td>\n",
       "      <td>-0.011016</td>\n",
       "      <td>-0.033451</td>\n",
       "      <td>0.031159</td>\n",
       "      <td>0.015416</td>\n",
       "      <td>-0.016344</td>\n",
       "      <td>0.022197</td>\n",
       "      <td>...</td>\n",
       "      <td>-0.027211</td>\n",
       "      <td>-0.024827</td>\n",
       "      <td>-0.013575</td>\n",
       "      <td>-0.000735</td>\n",
       "      <td>0.013313</td>\n",
       "      <td>0.126229</td>\n",
       "      <td>3.0</td>\n",
       "      <td>2</td>\n",
       "      <td>12.0</td>\n",
       "      <td>202011</td>\n",
       "    </tr>\n",
       "    <tr>\n",
       "      <td>...</td>\n",
       "      <td>...</td>\n",
       "      <td>...</td>\n",
       "      <td>...</td>\n",
       "      <td>...</td>\n",
       "      <td>...</td>\n",
       "      <td>...</td>\n",
       "      <td>...</td>\n",
       "      <td>...</td>\n",
       "      <td>...</td>\n",
       "      <td>...</td>\n",
       "      <td>...</td>\n",
       "      <td>...</td>\n",
       "      <td>...</td>\n",
       "      <td>...</td>\n",
       "      <td>...</td>\n",
       "      <td>...</td>\n",
       "      <td>...</td>\n",
       "      <td>...</td>\n",
       "      <td>...</td>\n",
       "      <td>...</td>\n",
       "      <td>...</td>\n",
       "    </tr>\n",
       "    <tr>\n",
       "      <td>112261</td>\n",
       "      <td>0.002639</td>\n",
       "      <td>-0.007745</td>\n",
       "      <td>0.015926</td>\n",
       "      <td>-0.011952</td>\n",
       "      <td>-0.002111</td>\n",
       "      <td>-0.004357</td>\n",
       "      <td>-0.000599</td>\n",
       "      <td>-0.012847</td>\n",
       "      <td>-0.000155</td>\n",
       "      <td>-0.024394</td>\n",
       "      <td>...</td>\n",
       "      <td>0.005706</td>\n",
       "      <td>0.015451</td>\n",
       "      <td>0.006023</td>\n",
       "      <td>0.001769</td>\n",
       "      <td>0.004318</td>\n",
       "      <td>0.746625</td>\n",
       "      <td>1.0</td>\n",
       "      <td>2</td>\n",
       "      <td>5.0</td>\n",
       "      <td>201924</td>\n",
       "    </tr>\n",
       "    <tr>\n",
       "      <td>112262</td>\n",
       "      <td>-0.000535</td>\n",
       "      <td>-0.008106</td>\n",
       "      <td>0.016009</td>\n",
       "      <td>-0.012102</td>\n",
       "      <td>0.005943</td>\n",
       "      <td>-0.004983</td>\n",
       "      <td>-0.004764</td>\n",
       "      <td>-0.011634</td>\n",
       "      <td>0.001370</td>\n",
       "      <td>-0.025071</td>\n",
       "      <td>...</td>\n",
       "      <td>0.004042</td>\n",
       "      <td>0.014530</td>\n",
       "      <td>-0.000182</td>\n",
       "      <td>0.002224</td>\n",
       "      <td>-0.003322</td>\n",
       "      <td>0.746625</td>\n",
       "      <td>1.0</td>\n",
       "      <td>2</td>\n",
       "      <td>5.0</td>\n",
       "      <td>201924</td>\n",
       "    </tr>\n",
       "    <tr>\n",
       "      <td>112263</td>\n",
       "      <td>0.004187</td>\n",
       "      <td>0.000229</td>\n",
       "      <td>0.007715</td>\n",
       "      <td>-0.005602</td>\n",
       "      <td>0.004873</td>\n",
       "      <td>-0.005352</td>\n",
       "      <td>-0.002468</td>\n",
       "      <td>-0.003581</td>\n",
       "      <td>0.005097</td>\n",
       "      <td>-0.003656</td>\n",
       "      <td>...</td>\n",
       "      <td>-0.003402</td>\n",
       "      <td>0.004426</td>\n",
       "      <td>-0.001443</td>\n",
       "      <td>0.001934</td>\n",
       "      <td>-0.000474</td>\n",
       "      <td>0.746625</td>\n",
       "      <td>1.0</td>\n",
       "      <td>2</td>\n",
       "      <td>5.0</td>\n",
       "      <td>201924</td>\n",
       "    </tr>\n",
       "    <tr>\n",
       "      <td>112264</td>\n",
       "      <td>-0.002951</td>\n",
       "      <td>-0.006462</td>\n",
       "      <td>0.012489</td>\n",
       "      <td>-0.003590</td>\n",
       "      <td>-0.002220</td>\n",
       "      <td>-0.002896</td>\n",
       "      <td>-0.001683</td>\n",
       "      <td>-0.016026</td>\n",
       "      <td>0.004791</td>\n",
       "      <td>-0.019189</td>\n",
       "      <td>...</td>\n",
       "      <td>0.003951</td>\n",
       "      <td>0.013484</td>\n",
       "      <td>0.002950</td>\n",
       "      <td>0.001749</td>\n",
       "      <td>0.001292</td>\n",
       "      <td>0.746625</td>\n",
       "      <td>1.0</td>\n",
       "      <td>2</td>\n",
       "      <td>5.0</td>\n",
       "      <td>201924</td>\n",
       "    </tr>\n",
       "    <tr>\n",
       "      <td>112265</td>\n",
       "      <td>-0.003125</td>\n",
       "      <td>-0.012663</td>\n",
       "      <td>0.022918</td>\n",
       "      <td>-0.014270</td>\n",
       "      <td>0.005402</td>\n",
       "      <td>-0.007583</td>\n",
       "      <td>-0.005225</td>\n",
       "      <td>-0.018943</td>\n",
       "      <td>0.003991</td>\n",
       "      <td>-0.025114</td>\n",
       "      <td>...</td>\n",
       "      <td>0.005500</td>\n",
       "      <td>0.020814</td>\n",
       "      <td>0.005761</td>\n",
       "      <td>0.011722</td>\n",
       "      <td>0.000175</td>\n",
       "      <td>0.746625</td>\n",
       "      <td>1.0</td>\n",
       "      <td>2</td>\n",
       "      <td>5.0</td>\n",
       "      <td>201924</td>\n",
       "    </tr>\n",
       "  </tbody>\n",
       "</table>\n",
       "<p>187533 rows × 105 columns</p>\n",
       "</div>"
      ],
      "text/plain": [
       "              C1       C10      C100       C11       C12       C13       C14  \\\n",
       "0      -0.001495  0.002059 -0.003641  0.002519 -0.000030 -0.000061  0.000266   \n",
       "1      -0.021860  0.025023 -0.030539 -0.053737 -0.034043 -0.106272  0.101318   \n",
       "2      -0.006153  0.000252 -0.000431 -0.007744 -0.001371 -0.012007  0.004584   \n",
       "3      -0.011715  0.010112 -0.014666 -0.018584 -0.010574 -0.035928  0.037478   \n",
       "4      -0.004312  0.010082 -0.009291 -0.017374 -0.011016 -0.033451  0.031159   \n",
       "...          ...       ...       ...       ...       ...       ...       ...   \n",
       "112261  0.002639 -0.007745  0.015926 -0.011952 -0.002111 -0.004357 -0.000599   \n",
       "112262 -0.000535 -0.008106  0.016009 -0.012102  0.005943 -0.004983 -0.004764   \n",
       "112263  0.004187  0.000229  0.007715 -0.005602  0.004873 -0.005352 -0.002468   \n",
       "112264 -0.002951 -0.006462  0.012489 -0.003590 -0.002220 -0.002896 -0.001683   \n",
       "112265 -0.003125 -0.012663  0.022918 -0.014270  0.005402 -0.007583 -0.005225   \n",
       "\n",
       "             C15       C16       C17  ...       C95       C96       C97  \\\n",
       "0      -0.001268 -0.005870  0.004812  ... -0.001215 -0.005617 -0.000767   \n",
       "1       0.046353 -0.032074  0.056494  ... -0.085919 -0.086635 -0.032728   \n",
       "2      -0.001146 -0.006225  0.003439  ... -0.002505 -0.002000 -0.006141   \n",
       "3       0.020299 -0.011364  0.024920  ... -0.035902 -0.030800 -0.010657   \n",
       "4       0.015416 -0.016344  0.022197  ... -0.027211 -0.024827 -0.013575   \n",
       "...          ...       ...       ...  ...       ...       ...       ...   \n",
       "112261 -0.012847 -0.000155 -0.024394  ...  0.005706  0.015451  0.006023   \n",
       "112262 -0.011634  0.001370 -0.025071  ...  0.004042  0.014530 -0.000182   \n",
       "112263 -0.003581  0.005097 -0.003656  ... -0.003402  0.004426 -0.001443   \n",
       "112264 -0.016026  0.004791 -0.019189  ...  0.003951  0.013484  0.002950   \n",
       "112265 -0.018943  0.003991 -0.025114  ...  0.005500  0.020814  0.005761   \n",
       "\n",
       "             C98       C99  Silhouette  category  closer#  label  period  \n",
       "0       0.003659 -0.001297    0.126229       3.0        2    1.0  202011  \n",
       "1       0.003305  0.029844    0.126229       3.0        2   12.0  202011  \n",
       "2      -0.000919  0.005992    0.126229       3.0        2   13.0  202011  \n",
       "3       0.002631  0.007532    0.126229       3.0        2   12.0  202011  \n",
       "4      -0.000735  0.013313    0.126229       3.0        2   12.0  202011  \n",
       "...          ...       ...         ...       ...      ...    ...     ...  \n",
       "112261  0.001769  0.004318    0.746625       1.0        2    5.0  201924  \n",
       "112262  0.002224 -0.003322    0.746625       1.0        2    5.0  201924  \n",
       "112263  0.001934 -0.000474    0.746625       1.0        2    5.0  201924  \n",
       "112264  0.001749  0.001292    0.746625       1.0        2    5.0  201924  \n",
       "112265  0.011722  0.000175    0.746625       1.0        2    5.0  201924  \n",
       "\n",
       "[187533 rows x 105 columns]"
      ]
     },
     "execution_count": 139,
     "metadata": {},
     "output_type": "execute_result"
    }
   ],
   "source": [
    "X_train"
   ]
  },
  {
   "cell_type": "code",
   "execution_count": 140,
   "metadata": {},
   "outputs": [],
   "source": [
    "btc_data = pd.read_csv('../../analysis/cluster/causeanalysis/BTC/before_BTC_total.csv', error_bad_lines=False)\n",
    "bch_data = pd.read_csv('../../analysis/cluster/causeanalysis/BCH/before_BCH_total.csv', error_bad_lines=False)\n",
    "eth_data = pd.read_csv('../../analysis/cluster/causeanalysis/ETH/before_ETH_total.csv', error_bad_lines=False)\n",
    "\n"
   ]
  },
  {
   "cell_type": "code",
   "execution_count": 141,
   "metadata": {},
   "outputs": [],
   "source": [
    "data_test = pd.concat([btc_data,bch_data,eth_data],ignore_index=True)"
   ]
  },
  {
   "cell_type": "code",
   "execution_count": 142,
   "metadata": {
    "pycharm": {
     "name": "#%%\n"
    }
   },
   "outputs": [],
   "source": [
    "data_test['period'] = pd.to_numeric(data_test['period'], errors='coerce')\n",
    "data_test['category'] = pd.to_numeric(data_test['category'], errors='coerce')\n",
    "data_test['label'] = pd.to_numeric(data_test['label'], errors='coerce')\n",
    "data_test['Silhouette'] = pd.to_numeric(data_test['Silhouette'], errors='coerce')"
   ]
  },
  {
   "cell_type": "code",
   "execution_count": 143,
   "metadata": {},
   "outputs": [],
   "source": [
    "def trans_result(x) :\n",
    "    if x==0 :\n",
    "        return 1\n",
    "    if x==1 :\n",
    "        return 2"
   ]
  },
  {
   "cell_type": "code",
   "execution_count": 144,
   "metadata": {},
   "outputs": [
    {
     "data": {
      "text/plain": [
       "0        1\n",
       "1        1\n",
       "2        1\n",
       "3        1\n",
       "4        1\n",
       "        ..\n",
       "91066    0\n",
       "91067    0\n",
       "91068    0\n",
       "91069    0\n",
       "91070    0\n",
       "Name: result, Length: 91071, dtype: int64"
      ]
     },
     "execution_count": 144,
     "metadata": {},
     "output_type": "execute_result"
    }
   ],
   "source": [
    "data_test['result']"
   ]
  },
  {
   "cell_type": "code",
   "execution_count": 146,
   "metadata": {},
   "outputs": [],
   "source": [
    "data_test['result']=data_test['result'].apply(trans_result)"
   ]
  },
  {
   "cell_type": "code",
   "execution_count": 149,
   "metadata": {},
   "outputs": [
    {
     "data": {
      "text/html": [
       "<div>\n",
       "<style scoped>\n",
       "    .dataframe tbody tr th:only-of-type {\n",
       "        vertical-align: middle;\n",
       "    }\n",
       "\n",
       "    .dataframe tbody tr th {\n",
       "        vertical-align: top;\n",
       "    }\n",
       "\n",
       "    .dataframe thead th {\n",
       "        text-align: right;\n",
       "    }\n",
       "</style>\n",
       "<table border=\"1\" class=\"dataframe\">\n",
       "  <thead>\n",
       "    <tr style=\"text-align: right;\">\n",
       "      <th></th>\n",
       "      <th>Unnamed: 0</th>\n",
       "      <th>C1</th>\n",
       "      <th>C2</th>\n",
       "      <th>C3</th>\n",
       "      <th>C4</th>\n",
       "      <th>C5</th>\n",
       "      <th>C6</th>\n",
       "      <th>C7</th>\n",
       "      <th>C8</th>\n",
       "      <th>C9</th>\n",
       "      <th>...</th>\n",
       "      <th>C97</th>\n",
       "      <th>C98</th>\n",
       "      <th>C99</th>\n",
       "      <th>C100</th>\n",
       "      <th>period</th>\n",
       "      <th>closer#</th>\n",
       "      <th>category</th>\n",
       "      <th>label</th>\n",
       "      <th>Silhouette</th>\n",
       "      <th>result</th>\n",
       "    </tr>\n",
       "  </thead>\n",
       "  <tbody>\n",
       "  </tbody>\n",
       "</table>\n",
       "<p>0 rows × 107 columns</p>\n",
       "</div>"
      ],
      "text/plain": [
       "Empty DataFrame\n",
       "Columns: [Unnamed: 0, C1, C2, C3, C4, C5, C6, C7, C8, C9, C10, C11, C12, C13, C14, C15, C16, C17, C18, C19, C20, C21, C22, C23, C24, C25, C26, C27, C28, C29, C30, C31, C32, C33, C34, C35, C36, C37, C38, C39, C40, C41, C42, C43, C44, C45, C46, C47, C48, C49, C50, C51, C52, C53, C54, C55, C56, C57, C58, C59, C60, C61, C62, C63, C64, C65, C66, C67, C68, C69, C70, C71, C72, C73, C74, C75, C76, C77, C78, C79, C80, C81, C82, C83, C84, C85, C86, C87, C88, C89, C90, C91, C92, C93, C94, C95, C96, C97, C98, C99, ...]\n",
       "Index: []\n",
       "\n",
       "[0 rows x 107 columns]"
      ]
     },
     "execution_count": 149,
     "metadata": {},
     "output_type": "execute_result"
    }
   ],
   "source": [
    "data_test[data_test['result']==0]"
   ]
  },
  {
   "cell_type": "code",
   "execution_count": 150,
   "metadata": {},
   "outputs": [
    {
     "name": "stdout",
     "output_type": "stream",
     "text": [
      "91071\n"
     ]
    }
   ],
   "source": [
    "print(len(data_test))\n",
    "\n",
    "header = []\n",
    "for i in range(1,101) :\n",
    "    header.append('C'+str(i))"
   ]
  },
  {
   "cell_type": "code",
   "execution_count": 151,
   "metadata": {
    "pycharm": {
     "name": "#%%\n"
    }
   },
   "outputs": [],
   "source": [
    "y_test = data_test['result']"
   ]
  },
  {
   "cell_type": "code",
   "execution_count": 152,
   "metadata": {},
   "outputs": [],
   "source": [
    "X_test = data_test[data_test.columns.difference(['result'])]"
   ]
  },
  {
   "cell_type": "code",
   "execution_count": 153,
   "metadata": {},
   "outputs": [],
   "source": [
    "X_test = X_test.drop('Unnamed: 0', axis=1)"
   ]
  },
  {
   "cell_type": "code",
   "execution_count": 154,
   "metadata": {
    "pycharm": {
     "name": "#%%\n"
    }
   },
   "outputs": [],
   "source": [
    "rf_clf = RandomForestClassifier(random_state = 11 ,n_jobs=-1) # random forest"
   ]
  },
  {
   "cell_type": "code",
   "execution_count": 155,
   "metadata": {
    "pycharm": {
     "name": "#%%\n"
    }
   },
   "outputs": [],
   "source": [
    "rf_clf.fit(X_train, y_train)\n",
    "\n",
    "y_score = rf_clf.predict_proba(X_test)\n",
    "\n"
   ]
  },
  {
   "cell_type": "code",
   "execution_count": 156,
   "metadata": {
    "pycharm": {
     "name": "#%%\n"
    }
   },
   "outputs": [],
   "source": [
    "rf_pred = rf_clf.predict(X_test)  # random forest predict"
   ]
  },
  {
   "cell_type": "code",
   "execution_count": 157,
   "metadata": {
    "pycharm": {
     "name": "#%%\n"
    }
   },
   "outputs": [
    {
     "name": "stdout",
     "output_type": "stream",
     "text": [
      "Random Forest Accuracy :   0.4285777031107597\n",
      "Random Forest Precision :   0.6034224432867474\n",
      "Random Forest Recall :   0.4285777031107597\n",
      "Random Forest f1 :   0.3678140361898463\n"
     ]
    },
    {
     "name": "stderr",
     "output_type": "stream",
     "text": [
      "/Users/hongminpyo/opt/anaconda3/lib/python3.7/site-packages/sklearn/metrics/_classification.py:1270: UserWarning: Note that pos_label (set to 'positive') is ignored when average != 'binary' (got 'weighted'). You may use labels=[pos_label] to specify a single positive class.\n",
      "  % (pos_label, average), UserWarning)\n",
      "/Users/hongminpyo/opt/anaconda3/lib/python3.7/site-packages/sklearn/metrics/_classification.py:1221: UndefinedMetricWarning: Recall is ill-defined and being set to 0.0 in labels with no true samples. Use `zero_division` parameter to control this behavior.\n",
      "  _warn_prf(average, modifier, msg_start, len(result))\n"
     ]
    }
   ],
   "source": [
    "print('Random Forest Accuracy :  ',accuracy_score(y_test,rf_pred))\n",
    "print('Random Forest Precision :  ',precision_score(y_test,rf_pred,pos_label='positive',average='weighted'))\n",
    "print('Random Forest Recall :  ',recall_score(y_test,rf_pred,pos_label='positive',average='weighted'))\n",
    "print('Random Forest f1 :  ',f1_score(y_test,rf_pred,pos_label='positive',average='weighted'))"
   ]
  },
  {
   "cell_type": "code",
   "execution_count": 158,
   "metadata": {
    "pycharm": {
     "name": "#%%\n"
    }
   },
   "outputs": [
    {
     "data": {
      "text/plain": [
       "array([[0.6 , 0.16, 0.24],\n",
       "       [0.63, 0.16, 0.21],\n",
       "       [0.59, 0.12, 0.29],\n",
       "       ...,\n",
       "       [0.51, 0.32, 0.17],\n",
       "       [0.38, 0.43, 0.19],\n",
       "       [0.52, 0.35, 0.13]])"
      ]
     },
     "execution_count": 158,
     "metadata": {},
     "output_type": "execute_result"
    }
   ],
   "source": [
    "y_score"
   ]
  },
  {
   "cell_type": "code",
   "execution_count": 159,
   "metadata": {
    "pycharm": {
     "name": "#%%\n"
    }
   },
   "outputs": [
    {
     "name": "stdout",
     "output_type": "stream",
     "text": [
      "0        2\n",
      "1        2\n",
      "2        2\n",
      "3        2\n",
      "4        2\n",
      "        ..\n",
      "91066    1\n",
      "91067    1\n",
      "91068    1\n",
      "91069    1\n",
      "91070    1\n",
      "Name: result, Length: 91071, dtype: int64\n",
      "[[0 1 0]\n",
      " [0 1 0]\n",
      " [0 1 0]\n",
      " ...\n",
      " [1 0 0]\n",
      " [1 0 0]\n",
      " [1 0 0]]\n",
      "class :  0 == 0.44857356361411344\n",
      "class :  1 == 0.4516007926649819\n",
      "class :  2 == nan\n"
     ]
    },
    {
     "name": "stderr",
     "output_type": "stream",
     "text": [
      "/Users/hongminpyo/opt/anaconda3/lib/python3.7/site-packages/sklearn/metrics/_ranking.py:813: UndefinedMetricWarning: No positive samples in y_true, true positive value should be meaningless\n",
      "  UndefinedMetricWarning)\n"
     ]
    }
   ],
   "source": [
    "from sklearn.preprocessing import label_binarize\n",
    "\n",
    "# Compute ROC curve and ROC area for each class\n",
    "fpr = dict()\n",
    "tpr = dict()\n",
    "roc_auc = dict()\n",
    "\n",
    "y_test_roc =label_binarize(y_test, classes=[1, 2, 3])\n",
    "\n",
    "print(y_test)\n",
    "print(y_test_roc)\n",
    "\n",
    "for i in range(3):\n",
    "    fpr[i], tpr[i], _ = roc_curve(y_test_roc[:, i], y_score[:, i])\n",
    "    roc_auc[i] = auc(fpr[i], tpr[i])\n",
    "    print('class : ',i,'==',roc_auc[i])\n",
    "\n"
   ]
  },
  {
   "cell_type": "code",
   "execution_count": 160,
   "metadata": {
    "pycharm": {
     "name": "#%%\n"
    }
   },
   "outputs": [],
   "source": [
    "# Compute micro-average ROC curve and ROC area\n",
    "fpr[\"micro\"], tpr[\"micro\"], _ = roc_curve(y_test_roc.ravel(), y_score.ravel())\n",
    "roc_auc[\"micro\"] = auc(fpr[\"micro\"], tpr[\"micro\"])"
   ]
  },
  {
   "cell_type": "code",
   "execution_count": 161,
   "metadata": {
    "pycharm": {
     "name": "#%%\n"
    }
   },
   "outputs": [
    {
     "data": {
      "image/png": "[encoded data removed]",
      "text/plain": [
       "<Figure size 432x288 with 1 Axes>"
      ]
     },
     "metadata": {
      "needs_background": "light"
     },
     "output_type": "display_data"
    }
   ],
   "source": [
    "plt.figure()\n",
    "lw = 2\n",
    "plt.plot(fpr[0], tpr[0], color='darkorange',\n",
    "         lw=lw, label='ROC curve (area = %0.2f)' % roc_auc[2])\n",
    "plt.plot([0, 1], [0, 1], color='navy', lw=lw, linestyle='--')\n",
    "plt.xlim([0.0, 1.0])\n",
    "plt.ylim([0.0, 1.05])\n",
    "plt.xlabel('False Positive Rate')\n",
    "plt.ylabel('True Positive Rate')\n",
    "plt.title('Receiver operating characteristic example')\n",
    "plt.legend(loc=\"lower right\")\n",
    "plt.show()"
   ]
  },
  {
   "cell_type": "code",
   "execution_count": 162,
   "metadata": {
    "pycharm": {
     "name": "#%%\n"
    }
   },
   "outputs": [
    {
     "data": {
      "image/png": "[encoded data removed]",
      "text/plain": [
       "<Figure size 432x288 with 1 Axes>"
      ]
     },
     "metadata": {
      "needs_background": "light"
     },
     "output_type": "display_data"
    }
   ],
   "source": [
    "from scipy import interp\n",
    "from itertools import cycle\n",
    "\n",
    "# First aggregate all false positive rates\n",
    "all_fpr = np.unique(np.concatenate([fpr[i] for i in range(3)]))\n",
    "\n",
    "# Then interpolate all ROC curves at this points\n",
    "mean_tpr = np.zeros_like(all_fpr)\n",
    "for i in range(3):\n",
    "    mean_tpr += interp(all_fpr, fpr[i], tpr[i])\n",
    "\n",
    "# Finally average it and compute AUC\n",
    "mean_tpr /= 3\n",
    "\n",
    "fpr[\"macro\"] = all_fpr\n",
    "tpr[\"macro\"] = mean_tpr\n",
    "roc_auc[\"macro\"] = auc(fpr[\"macro\"], tpr[\"macro\"])\n",
    "\n",
    "# Plot all ROC curves\n",
    "plt.figure()\n",
    "plt.plot(fpr[\"micro\"], tpr[\"micro\"],\n",
    "         label='micro-average ROC curve (area = {0:0.2f})'\n",
    "               ''.format(roc_auc[\"micro\"]),\n",
    "         color='deeppink', linestyle=':', linewidth=4)\n",
    "\n",
    "plt.plot(fpr[\"macro\"], tpr[\"macro\"],\n",
    "         label='macro-average ROC curve (area = {0:0.2f})'\n",
    "               ''.format(roc_auc[\"macro\"]),\n",
    "         color='navy', linestyle=':', linewidth=4)\n",
    "\n",
    "colors = cycle(['aqua', 'darkorange', 'cornflowerblue'])\n",
    "for i, color in zip(range(3), colors):\n",
    "    plt.plot(fpr[i], tpr[i], color=color, lw=lw,\n",
    "             label='ROC curve of class {0} (area = {1:0.2f})'\n",
    "             ''.format(i, roc_auc[i]))\n",
    "\n",
    "plt.plot([0, 1], [0, 1], 'k--', lw=lw)\n",
    "plt.xlim([0.0, 1.0])\n",
    "plt.ylim([0.0, 1.05])\n",
    "plt.xlabel('False Positive Rate')\n",
    "plt.ylabel('True Positive Rate')\n",
    "plt.title('Some extension of Receiver operating characteristic to multi-class')\n",
    "plt.legend(loc=\"lower right\")\n",
    "plt.show()"
   ]
  },
  {
   "cell_type": "code",
   "execution_count": 163,
   "metadata": {
    "pycharm": {
     "name": "#%%\n"
    }
   },
   "outputs": [],
   "source": [
    "dt_clf = DecisionTreeClassifier(random_state = 11)\n",
    "dt_clf.fit(X_train,y_train)\n",
    "dt_pred = dt_clf.predict(X_test)"
   ]
  },
  {
   "cell_type": "code",
   "execution_count": 164,
   "metadata": {
    "pycharm": {
     "name": "#%%\n"
    }
   },
   "outputs": [
    {
     "name": "stdout",
     "output_type": "stream",
     "text": [
      "Decision Tree Accuracy :   0.46225472433595766\n",
      "Decision Tree Precision :   0.7583292176128613\n",
      "Decision Tree Recall :   0.46225472433595766\n",
      "Decision Tree f1 :   0.3421329933960325\n"
     ]
    },
    {
     "name": "stderr",
     "output_type": "stream",
     "text": [
      "/Users/hongminpyo/opt/anaconda3/lib/python3.7/site-packages/sklearn/metrics/_classification.py:1270: UserWarning: Note that pos_label (set to 'positive') is ignored when average != 'binary' (got 'weighted'). You may use labels=[pos_label] to specify a single positive class.\n",
      "  % (pos_label, average), UserWarning)\n",
      "/Users/hongminpyo/opt/anaconda3/lib/python3.7/site-packages/sklearn/metrics/_classification.py:1221: UndefinedMetricWarning: Recall is ill-defined and being set to 0.0 in labels with no true samples. Use `zero_division` parameter to control this behavior.\n",
      "  _warn_prf(average, modifier, msg_start, len(result))\n"
     ]
    }
   ],
   "source": [
    "print('Decision Tree Accuracy :  ',accuracy_score(y_test,dt_pred))\n",
    "print('Decision Tree Precision :  ',precision_score(y_test,dt_pred,pos_label='positive',average='weighted'))\n",
    "print('Decision Tree Recall :  ',recall_score(y_test,dt_pred,pos_label='positive',average='weighted'))\n",
    "print('Decision Tree f1 :  ',f1_score(y_test,dt_pred,pos_label='positive',average='weighted'))"
   ]
  },
  {
   "cell_type": "code",
   "execution_count": 165,
   "metadata": {},
   "outputs": [],
   "source": [
    "y_score = dt_clf.predict_proba(X_test)"
   ]
  },
  {
   "cell_type": "code",
   "execution_count": 166,
   "metadata": {},
   "outputs": [],
   "source": [
    "fpr = dict()\n",
    "tpr = dict()\n",
    "roc_auc = dict()"
   ]
  },
  {
   "cell_type": "code",
   "execution_count": 167,
   "metadata": {},
   "outputs": [
    {
     "name": "stdout",
     "output_type": "stream",
     "text": [
      "class :  0 == 0.5193908363168221\n",
      "class :  1 == 0.536032745730453\n",
      "class :  2 == nan\n"
     ]
    },
    {
     "name": "stderr",
     "output_type": "stream",
     "text": [
      "/Users/hongminpyo/opt/anaconda3/lib/python3.7/site-packages/sklearn/metrics/_ranking.py:813: UndefinedMetricWarning: No positive samples in y_true, true positive value should be meaningless\n",
      "  UndefinedMetricWarning)\n"
     ]
    }
   ],
   "source": [
    "for i in range(3):\n",
    "    fpr[i], tpr[i], _ = roc_curve(y_test_roc[:, i], y_score[:, i])\n",
    "    roc_auc[i] = auc(fpr[i], tpr[i])\n",
    "    print('class : ',i,'==',roc_auc[i])"
   ]
  },
  {
   "cell_type": "code",
   "execution_count": 168,
   "metadata": {},
   "outputs": [],
   "source": [
    "# Compute micro-average ROC curve and ROC area\n",
    "fpr[\"micro\"], tpr[\"micro\"], _ = roc_curve(y_test_roc.ravel(), y_score.ravel())\n",
    "roc_auc[\"micro\"] = auc(fpr[\"micro\"], tpr[\"micro\"])"
   ]
  },
  {
   "cell_type": "code",
   "execution_count": 169,
   "metadata": {},
   "outputs": [
    {
     "data": {
      "image/png": "[encoded data removed]",
      "text/plain": [
       "<Figure size 432x288 with 1 Axes>"
      ]
     },
     "metadata": {
      "needs_background": "light"
     },
     "output_type": "display_data"
    }
   ],
   "source": [
    "# First aggregate all false positive rates\n",
    "all_fpr = np.unique(np.concatenate([fpr[i] for i in range(3)]))\n",
    "\n",
    "# Then interpolate all ROC curves at this points\n",
    "mean_tpr = np.zeros_like(all_fpr)\n",
    "for i in range(3):\n",
    "    mean_tpr += interp(all_fpr, fpr[i], tpr[i])\n",
    "\n",
    "# Finally average it and compute AUC\n",
    "mean_tpr /= 3\n",
    "\n",
    "fpr[\"macro\"] = all_fpr\n",
    "tpr[\"macro\"] = mean_tpr\n",
    "roc_auc[\"macro\"] = auc(fpr[\"macro\"], tpr[\"macro\"])\n",
    "\n",
    "# Plot all ROC curves\n",
    "plt.figure()\n",
    "plt.plot(fpr[\"micro\"], tpr[\"micro\"],\n",
    "         label='micro-average ROC curve (area = {0:0.2f})'\n",
    "               ''.format(roc_auc[\"micro\"]),\n",
    "         color='deeppink', linestyle=':', linewidth=4)\n",
    "\n",
    "plt.plot(fpr[\"macro\"], tpr[\"macro\"],\n",
    "         label='macro-average ROC curve (area = {0:0.2f})'\n",
    "               ''.format(roc_auc[\"macro\"]),\n",
    "         color='navy', linestyle=':', linewidth=4)\n",
    "\n",
    "colors = cycle(['aqua', 'darkorange', 'cornflowerblue'])\n",
    "for i, color in zip(range(3), colors):\n",
    "    plt.plot(fpr[i], tpr[i], color=color, lw=lw,\n",
    "             label='ROC curve of class {0} (area = {1:0.2f})'\n",
    "             ''.format(i, roc_auc[i]))\n",
    "\n",
    "plt.plot([0, 1], [0, 1], 'k--', lw=lw)\n",
    "plt.xlim([0.0, 1.0])\n",
    "plt.ylim([0.0, 1.05])\n",
    "plt.xlabel('False Positive Rate')\n",
    "plt.ylabel('True Positive Rate')\n",
    "plt.title('Some extension of Receiver operating characteristic to multi-class')\n",
    "plt.legend(loc=\"lower right\")\n",
    "plt.show()"
   ]
  },
  {
   "cell_type": "code",
   "execution_count": 170,
   "metadata": {
    "pycharm": {
     "name": "#%%\n"
    }
   },
   "outputs": [],
   "source": [
    "#gb_clf = GradientBoostingClassifier(random_state = 11) # random forest\n",
    "lgbm_clf =  LGBMClassifier(random_state = 11)"
   ]
  },
  {
   "cell_type": "code",
   "execution_count": 171,
   "metadata": {
    "pycharm": {
     "name": "#%%\n"
    }
   },
   "outputs": [],
   "source": [
    "#gb_clf.fit(X_train,y_train)\n",
    "#gb_pred = gb_clf.predict(X_test)\n",
    "\n",
    "lgbm_clf.fit(X_train,y_train)\n",
    "lgbm_pred = lgbm_clf.predict(X_test)"
   ]
  },
  {
   "cell_type": "code",
   "execution_count": 172,
   "metadata": {
    "pycharm": {
     "name": "#%%\n"
    }
   },
   "outputs": [
    {
     "name": "stdout",
     "output_type": "stream",
     "text": [
      "Light GBM Accuracy :   0.4574452899386193\n",
      "Light GBM Precision :   0.5240133036924055\n",
      "Light GBM Recall :   0.4574452899386193\n",
      "Light GBM f1 :   0.37467980349549257\n"
     ]
    },
    {
     "name": "stderr",
     "output_type": "stream",
     "text": [
      "/Users/hongminpyo/opt/anaconda3/lib/python3.7/site-packages/sklearn/metrics/_classification.py:1270: UserWarning: Note that pos_label (set to 'positive') is ignored when average != 'binary' (got 'weighted'). You may use labels=[pos_label] to specify a single positive class.\n",
      "  % (pos_label, average), UserWarning)\n",
      "/Users/hongminpyo/opt/anaconda3/lib/python3.7/site-packages/sklearn/metrics/_classification.py:1221: UndefinedMetricWarning: Recall is ill-defined and being set to 0.0 in labels with no true samples. Use `zero_division` parameter to control this behavior.\n",
      "  _warn_prf(average, modifier, msg_start, len(result))\n"
     ]
    }
   ],
   "source": [
    "#print('Gredient Boosting Accuracy :  ',accuracy_score(y_test,gb_pred))\n",
    "#print('Gredient Boosting Precision :  ',precision_score(y_test,gb_pred,pos_label='positive',average='weighted'))\n",
    "#print('Gredient Boosting Recall :  ',recall_score(y_test,gb_pred,pos_label='positive',average='weighted'))\n",
    "#print('Gredient Boosting f1 :  ',f1_score(y_test,gb_pred,pos_label='positive',average='weighted'))\n",
    "print('Light GBM Accuracy :  ',accuracy_score(y_test,lgbm_pred))\n",
    "print('Light GBM Precision :  ',precision_score(y_test,lgbm_pred,pos_label='positive',average='weighted'))\n",
    "print('Light GBM Recall :  ',recall_score(y_test,lgbm_pred,pos_label='positive',average='weighted'))\n",
    "print('Light GBM f1 :  ',f1_score(y_test,lgbm_pred,pos_label='positive',average='weighted'))"
   ]
  },
  {
   "cell_type": "code",
   "execution_count": 173,
   "metadata": {},
   "outputs": [],
   "source": [
    "y_score = lgbm_clf.predict_proba(X_test)\n",
    "\n",
    "fpr = dict()\n",
    "tpr = dict()\n",
    "roc_auc = dict()"
   ]
  },
  {
   "cell_type": "code",
   "execution_count": 174,
   "metadata": {},
   "outputs": [
    {
     "name": "stdout",
     "output_type": "stream",
     "text": [
      "class :  0 == 0.4453051640296843\n",
      "class :  1 == 0.43106291425806564\n",
      "class :  2 == nan\n"
     ]
    }
   ],
   "source": [
    "for i in range(3):\n",
    "    fpr[i], tpr[i], _ = roc_curve(y_test_roc[:, i], y_score[:, i])\n",
    "    roc_auc[i] = auc(fpr[i], tpr[i])\n",
    "    print('class : ',i,'==',roc_auc[i])"
   ]
  },
  {
   "cell_type": "code",
   "execution_count": 175,
   "metadata": {},
   "outputs": [],
   "source": [
    "# Compute micro-average ROC curve and ROC area\n",
    "fpr[\"micro\"], tpr[\"micro\"], _ = roc_curve(y_test_roc.ravel(), y_score.ravel())\n",
    "roc_auc[\"micro\"] = auc(fpr[\"micro\"], tpr[\"micro\"])"
   ]
  },
  {
   "cell_type": "code",
   "execution_count": 176,
   "metadata": {},
   "outputs": [
    {
     "data": {
      "image/png": "[encoded data removed]",
      "text/plain": [
       "<Figure size 432x288 with 1 Axes>"
      ]
     },
     "metadata": {
      "needs_background": "light"
     },
     "output_type": "display_data"
    }
   ],
   "source": [
    "# First aggregate all false positive rates\n",
    "all_fpr = np.unique(np.concatenate([fpr[i] for i in range(3)]))\n",
    "\n",
    "# Then interpolate all ROC curves at this points\n",
    "mean_tpr = np.zeros_like(all_fpr)\n",
    "for i in range(3):\n",
    "    mean_tpr += interp(all_fpr, fpr[i], tpr[i])\n",
    "\n",
    "# Finally average it and compute AUC\n",
    "mean_tpr /= 3\n",
    "\n",
    "fpr[\"macro\"] = all_fpr\n",
    "tpr[\"macro\"] = mean_tpr\n",
    "roc_auc[\"macro\"] = auc(fpr[\"macro\"], tpr[\"macro\"])\n",
    "\n",
    "# Plot all ROC curves\n",
    "plt.figure()\n",
    "plt.plot(fpr[\"micro\"], tpr[\"micro\"],\n",
    "         label='micro-average ROC curve (area = {0:0.2f})'\n",
    "               ''.format(roc_auc[\"micro\"]),\n",
    "         color='deeppink', linestyle=':', linewidth=4)\n",
    "\n",
    "plt.plot(fpr[\"macro\"], tpr[\"macro\"],\n",
    "         label='macro-average ROC curve (area = {0:0.2f})'\n",
    "               ''.format(roc_auc[\"macro\"]),\n",
    "         color='navy', linestyle=':', linewidth=4)\n",
    "\n",
    "colors = cycle(['aqua', 'darkorange', 'cornflowerblue'])\n",
    "for i, color in zip(range(3), colors):\n",
    "    plt.plot(fpr[i], tpr[i], color=color, lw=lw,\n",
    "             label='ROC curve of class {0} (area = {1:0.2f})'\n",
    "             ''.format(i, roc_auc[i]))\n",
    "\n",
    "plt.plot([0, 1], [0, 1], 'k--', lw=lw)\n",
    "plt.xlim([0.0, 1.0])\n",
    "plt.ylim([0.0, 1.05])\n",
    "plt.xlabel('False Positive Rate')\n",
    "plt.ylabel('True Positive Rate')\n",
    "plt.title('Some extension of Receiver operating characteristic to multi-class')\n",
    "plt.legend(loc=\"lower right\")\n",
    "plt.show()"
   ]
  },
  {
   "cell_type": "code",
   "execution_count": 177,
   "metadata": {
    "pycharm": {
     "name": "#%%\n"
    }
   },
   "outputs": [],
   "source": [
    "lr_clf = LogisticRegression(random_state = 11)"
   ]
  },
  {
   "cell_type": "code",
   "execution_count": 178,
   "metadata": {
    "pycharm": {
     "name": "#%%\n"
    }
   },
   "outputs": [],
   "source": [
    "lr_clf.fit(X_train,y_train)\n",
    "lr_pred = lr_clf.predict(X_test)"
   ]
  },
  {
   "cell_type": "code",
   "execution_count": 179,
   "metadata": {
    "pycharm": {
     "name": "#%%\n"
    }
   },
   "outputs": [
    {
     "name": "stdout",
     "output_type": "stream",
     "text": [
      "Logistic Regression Accuracy :   0.5638677515345171\n",
      "Logistic Regression  Precision :   0.31794684122059186\n",
      "Logistic Regression  Recall :   0.5638677515345171\n",
      "Logistic Regression  f1 :   0.40661602096291355\n"
     ]
    },
    {
     "name": "stderr",
     "output_type": "stream",
     "text": [
      "/Users/hongminpyo/opt/anaconda3/lib/python3.7/site-packages/sklearn/metrics/_classification.py:1270: UserWarning: Note that pos_label (set to 'positive') is ignored when average != 'binary' (got 'weighted'). You may use labels=[pos_label] to specify a single positive class.\n",
      "  % (pos_label, average), UserWarning)\n",
      "/Users/hongminpyo/opt/anaconda3/lib/python3.7/site-packages/sklearn/metrics/_classification.py:1221: UndefinedMetricWarning: Precision is ill-defined and being set to 0.0 in labels with no predicted samples. Use `zero_division` parameter to control this behavior.\n",
      "  _warn_prf(average, modifier, msg_start, len(result))\n"
     ]
    }
   ],
   "source": [
    "print('Logistic Regression Accuracy :  ',accuracy_score(y_test,lr_pred))\n",
    "print('Logistic Regression  Precision :  ',precision_score(y_test,lr_pred,pos_label='positive',average='weighted'))\n",
    "print('Logistic Regression  Recall :  ',recall_score(y_test,lr_pred,pos_label='positive',average='weighted'))\n",
    "print('Logistic Regression  f1 :  ',f1_score(y_test,lr_pred,pos_label='positive',average='weighted'))"
   ]
  },
  {
   "cell_type": "code",
   "execution_count": 180,
   "metadata": {
    "pycharm": {
     "name": "#%%\n"
    }
   },
   "outputs": [],
   "source": [
    "y_score = lr_clf.predict_proba(X_test)\n",
    "\n",
    "y_score = np.round(y_score,5)\n",
    "\n",
    "fpr = dict()\n",
    "tpr = dict()\n",
    "roc_auc = dict()"
   ]
  },
  {
   "cell_type": "code",
   "execution_count": 181,
   "metadata": {
    "pycharm": {
     "name": "#%%\n"
    }
   },
   "outputs": [
    {
     "name": "stdout",
     "output_type": "stream",
     "text": [
      "class :  0 == 0.3811662856163395\n",
      "class :  1 == 0.520422921188823\n",
      "class :  2 == nan\n"
     ]
    },
    {
     "name": "stderr",
     "output_type": "stream",
     "text": [
      "/Users/hongminpyo/opt/anaconda3/lib/python3.7/site-packages/sklearn/metrics/_ranking.py:813: UndefinedMetricWarning: No positive samples in y_true, true positive value should be meaningless\n",
      "  UndefinedMetricWarning)\n"
     ]
    }
   ],
   "source": [
    "for i in range(3):\n",
    "    fpr[i], tpr[i], _ = roc_curve(y_test_roc[:, i], y_score[:, i])\n",
    "    roc_auc[i] = auc(fpr[i], tpr[i])\n",
    "    print('class : ',i,'==',roc_auc[i])"
   ]
  },
  {
   "cell_type": "code",
   "execution_count": 182,
   "metadata": {
    "pycharm": {
     "name": "#%%\n"
    }
   },
   "outputs": [],
   "source": [
    "# Compute micro-average ROC curve and ROC area\n",
    "fpr[\"micro\"], tpr[\"micro\"], _ = roc_curve(y_test_roc.ravel(), y_score.ravel())\n",
    "roc_auc[\"micro\"] = auc(fpr[\"micro\"], tpr[\"micro\"])"
   ]
  },
  {
   "cell_type": "code",
   "execution_count": 183,
   "metadata": {
    "pycharm": {
     "name": "#%%\n"
    }
   },
   "outputs": [
    {
     "data": {
      "image/png": "[encoded data removed]",
      "text/plain": [
       "<Figure size 432x288 with 1 Axes>"
      ]
     },
     "metadata": {
      "needs_background": "light"
     },
     "output_type": "display_data"
    }
   ],
   "source": [
    "# First aggregate all false positive rates\n",
    "all_fpr = np.unique(np.concatenate([fpr[i] for i in range(3)]))\n",
    "\n",
    "# Then interpolate all ROC curves at this points\n",
    "mean_tpr = np.zeros_like(all_fpr)\n",
    "for i in range(3):\n",
    "    mean_tpr += interp(all_fpr, fpr[i], tpr[i])\n",
    "\n",
    "# Finally average it and compute AUC\n",
    "mean_tpr /= 3\n",
    "\n",
    "fpr[\"macro\"] = all_fpr\n",
    "tpr[\"macro\"] = mean_tpr\n",
    "roc_auc[\"macro\"] = auc(fpr[\"macro\"], tpr[\"macro\"])\n",
    "\n",
    "# Plot all ROC curves\n",
    "plt.figure()\n",
    "plt.plot(fpr[\"micro\"], tpr[\"micro\"],\n",
    "         label='micro-average ROC curve (area = {0:0.2f})'\n",
    "               ''.format(roc_auc[\"micro\"]),\n",
    "         color='deeppink', linestyle=':', linewidth=4)\n",
    "\n",
    "plt.plot(fpr[\"macro\"], tpr[\"macro\"],\n",
    "         label='macro-average ROC curve (area = {0:0.2f})'\n",
    "               ''.format(roc_auc[\"macro\"]),\n",
    "         color='navy', linestyle=':', linewidth=4)\n",
    "\n",
    "colors = cycle(['aqua', 'darkorange', 'cornflowerblue'])\n",
    "for i, color in zip(range(3), colors):\n",
    "    plt.plot(fpr[i], tpr[i], color=color, lw=lw,\n",
    "             label='ROC curve of class {0} (area = {1:0.2f})'\n",
    "             ''.format(i, roc_auc[i]))\n",
    "\n",
    "plt.plot([0, 1], [0, 1], 'k--', lw=lw)\n",
    "plt.xlim([0.0, 1.0])\n",
    "plt.ylim([0.0, 1.05])\n",
    "plt.xlabel('False Positive Rate')\n",
    "plt.ylabel('True Positive Rate')\n",
    "plt.title('Some extension of Receiver operating characteristic to multi-class')\n",
    "plt.legend(loc=\"lower right\")\n",
    "plt.show()"
   ]
  },
  {
   "cell_type": "code",
   "execution_count": 184,
   "metadata": {
    "pycharm": {
     "name": "#%%\n"
    }
   },
   "outputs": [],
   "source": [
    "from numpy import loadtxt\n",
    "from keras.models import Sequential\n",
    "from keras.layers import Dense"
   ]
  },
  {
   "cell_type": "code",
   "execution_count": 185,
   "metadata": {
    "pycharm": {
     "name": "#%%\n"
    }
   },
   "outputs": [
    {
     "data": {
      "text/html": [
       "<div>\n",
       "<style scoped>\n",
       "    .dataframe tbody tr th:only-of-type {\n",
       "        vertical-align: middle;\n",
       "    }\n",
       "\n",
       "    .dataframe tbody tr th {\n",
       "        vertical-align: top;\n",
       "    }\n",
       "\n",
       "    .dataframe thead th {\n",
       "        text-align: right;\n",
       "    }\n",
       "</style>\n",
       "<table border=\"1\" class=\"dataframe\">\n",
       "  <thead>\n",
       "    <tr style=\"text-align: right;\">\n",
       "      <th></th>\n",
       "      <th>C1</th>\n",
       "      <th>C10</th>\n",
       "      <th>C100</th>\n",
       "      <th>C11</th>\n",
       "      <th>C12</th>\n",
       "      <th>C13</th>\n",
       "      <th>C14</th>\n",
       "      <th>C15</th>\n",
       "      <th>C16</th>\n",
       "      <th>C17</th>\n",
       "      <th>...</th>\n",
       "      <th>C95</th>\n",
       "      <th>C96</th>\n",
       "      <th>C97</th>\n",
       "      <th>C98</th>\n",
       "      <th>C99</th>\n",
       "      <th>Silhouette</th>\n",
       "      <th>category</th>\n",
       "      <th>closer#</th>\n",
       "      <th>label</th>\n",
       "      <th>period</th>\n",
       "    </tr>\n",
       "  </thead>\n",
       "  <tbody>\n",
       "    <tr>\n",
       "      <td>0</td>\n",
       "      <td>-0.001495</td>\n",
       "      <td>0.002059</td>\n",
       "      <td>-0.003641</td>\n",
       "      <td>0.002519</td>\n",
       "      <td>-0.000030</td>\n",
       "      <td>-0.000061</td>\n",
       "      <td>0.000266</td>\n",
       "      <td>-0.001268</td>\n",
       "      <td>-0.005870</td>\n",
       "      <td>0.004812</td>\n",
       "      <td>...</td>\n",
       "      <td>-0.001215</td>\n",
       "      <td>-0.005617</td>\n",
       "      <td>-0.000767</td>\n",
       "      <td>0.003659</td>\n",
       "      <td>-0.001297</td>\n",
       "      <td>0.126229</td>\n",
       "      <td>3.0</td>\n",
       "      <td>2</td>\n",
       "      <td>1.0</td>\n",
       "      <td>202011</td>\n",
       "    </tr>\n",
       "    <tr>\n",
       "      <td>1</td>\n",
       "      <td>-0.021860</td>\n",
       "      <td>0.025023</td>\n",
       "      <td>-0.030539</td>\n",
       "      <td>-0.053737</td>\n",
       "      <td>-0.034043</td>\n",
       "      <td>-0.106272</td>\n",
       "      <td>0.101318</td>\n",
       "      <td>0.046353</td>\n",
       "      <td>-0.032074</td>\n",
       "      <td>0.056494</td>\n",
       "      <td>...</td>\n",
       "      <td>-0.085919</td>\n",
       "      <td>-0.086635</td>\n",
       "      <td>-0.032728</td>\n",
       "      <td>0.003305</td>\n",
       "      <td>0.029844</td>\n",
       "      <td>0.126229</td>\n",
       "      <td>3.0</td>\n",
       "      <td>2</td>\n",
       "      <td>12.0</td>\n",
       "      <td>202011</td>\n",
       "    </tr>\n",
       "    <tr>\n",
       "      <td>2</td>\n",
       "      <td>-0.006153</td>\n",
       "      <td>0.000252</td>\n",
       "      <td>-0.000431</td>\n",
       "      <td>-0.007744</td>\n",
       "      <td>-0.001371</td>\n",
       "      <td>-0.012007</td>\n",
       "      <td>0.004584</td>\n",
       "      <td>-0.001146</td>\n",
       "      <td>-0.006225</td>\n",
       "      <td>0.003439</td>\n",
       "      <td>...</td>\n",
       "      <td>-0.002505</td>\n",
       "      <td>-0.002000</td>\n",
       "      <td>-0.006141</td>\n",
       "      <td>-0.000919</td>\n",
       "      <td>0.005992</td>\n",
       "      <td>0.126229</td>\n",
       "      <td>3.0</td>\n",
       "      <td>2</td>\n",
       "      <td>13.0</td>\n",
       "      <td>202011</td>\n",
       "    </tr>\n",
       "    <tr>\n",
       "      <td>3</td>\n",
       "      <td>-0.011715</td>\n",
       "      <td>0.010112</td>\n",
       "      <td>-0.014666</td>\n",
       "      <td>-0.018584</td>\n",
       "      <td>-0.010574</td>\n",
       "      <td>-0.035928</td>\n",
       "      <td>0.037478</td>\n",
       "      <td>0.020299</td>\n",
       "      <td>-0.011364</td>\n",
       "      <td>0.024920</td>\n",
       "      <td>...</td>\n",
       "      <td>-0.035902</td>\n",
       "      <td>-0.030800</td>\n",
       "      <td>-0.010657</td>\n",
       "      <td>0.002631</td>\n",
       "      <td>0.007532</td>\n",
       "      <td>0.126229</td>\n",
       "      <td>3.0</td>\n",
       "      <td>2</td>\n",
       "      <td>12.0</td>\n",
       "      <td>202011</td>\n",
       "    </tr>\n",
       "    <tr>\n",
       "      <td>4</td>\n",
       "      <td>-0.004312</td>\n",
       "      <td>0.010082</td>\n",
       "      <td>-0.009291</td>\n",
       "      <td>-0.017374</td>\n",
       "      <td>-0.011016</td>\n",
       "      <td>-0.033451</td>\n",
       "      <td>0.031159</td>\n",
       "      <td>0.015416</td>\n",
       "      <td>-0.016344</td>\n",
       "      <td>0.022197</td>\n",
       "      <td>...</td>\n",
       "      <td>-0.027211</td>\n",
       "      <td>-0.024827</td>\n",
       "      <td>-0.013575</td>\n",
       "      <td>-0.000735</td>\n",
       "      <td>0.013313</td>\n",
       "      <td>0.126229</td>\n",
       "      <td>3.0</td>\n",
       "      <td>2</td>\n",
       "      <td>12.0</td>\n",
       "      <td>202011</td>\n",
       "    </tr>\n",
       "    <tr>\n",
       "      <td>...</td>\n",
       "      <td>...</td>\n",
       "      <td>...</td>\n",
       "      <td>...</td>\n",
       "      <td>...</td>\n",
       "      <td>...</td>\n",
       "      <td>...</td>\n",
       "      <td>...</td>\n",
       "      <td>...</td>\n",
       "      <td>...</td>\n",
       "      <td>...</td>\n",
       "      <td>...</td>\n",
       "      <td>...</td>\n",
       "      <td>...</td>\n",
       "      <td>...</td>\n",
       "      <td>...</td>\n",
       "      <td>...</td>\n",
       "      <td>...</td>\n",
       "      <td>...</td>\n",
       "      <td>...</td>\n",
       "      <td>...</td>\n",
       "      <td>...</td>\n",
       "    </tr>\n",
       "    <tr>\n",
       "      <td>112261</td>\n",
       "      <td>0.002639</td>\n",
       "      <td>-0.007745</td>\n",
       "      <td>0.015926</td>\n",
       "      <td>-0.011952</td>\n",
       "      <td>-0.002111</td>\n",
       "      <td>-0.004357</td>\n",
       "      <td>-0.000599</td>\n",
       "      <td>-0.012847</td>\n",
       "      <td>-0.000155</td>\n",
       "      <td>-0.024394</td>\n",
       "      <td>...</td>\n",
       "      <td>0.005706</td>\n",
       "      <td>0.015451</td>\n",
       "      <td>0.006023</td>\n",
       "      <td>0.001769</td>\n",
       "      <td>0.004318</td>\n",
       "      <td>0.746625</td>\n",
       "      <td>1.0</td>\n",
       "      <td>2</td>\n",
       "      <td>5.0</td>\n",
       "      <td>201924</td>\n",
       "    </tr>\n",
       "    <tr>\n",
       "      <td>112262</td>\n",
       "      <td>-0.000535</td>\n",
       "      <td>-0.008106</td>\n",
       "      <td>0.016009</td>\n",
       "      <td>-0.012102</td>\n",
       "      <td>0.005943</td>\n",
       "      <td>-0.004983</td>\n",
       "      <td>-0.004764</td>\n",
       "      <td>-0.011634</td>\n",
       "      <td>0.001370</td>\n",
       "      <td>-0.025071</td>\n",
       "      <td>...</td>\n",
       "      <td>0.004042</td>\n",
       "      <td>0.014530</td>\n",
       "      <td>-0.000182</td>\n",
       "      <td>0.002224</td>\n",
       "      <td>-0.003322</td>\n",
       "      <td>0.746625</td>\n",
       "      <td>1.0</td>\n",
       "      <td>2</td>\n",
       "      <td>5.0</td>\n",
       "      <td>201924</td>\n",
       "    </tr>\n",
       "    <tr>\n",
       "      <td>112263</td>\n",
       "      <td>0.004187</td>\n",
       "      <td>0.000229</td>\n",
       "      <td>0.007715</td>\n",
       "      <td>-0.005602</td>\n",
       "      <td>0.004873</td>\n",
       "      <td>-0.005352</td>\n",
       "      <td>-0.002468</td>\n",
       "      <td>-0.003581</td>\n",
       "      <td>0.005097</td>\n",
       "      <td>-0.003656</td>\n",
       "      <td>...</td>\n",
       "      <td>-0.003402</td>\n",
       "      <td>0.004426</td>\n",
       "      <td>-0.001443</td>\n",
       "      <td>0.001934</td>\n",
       "      <td>-0.000474</td>\n",
       "      <td>0.746625</td>\n",
       "      <td>1.0</td>\n",
       "      <td>2</td>\n",
       "      <td>5.0</td>\n",
       "      <td>201924</td>\n",
       "    </tr>\n",
       "    <tr>\n",
       "      <td>112264</td>\n",
       "      <td>-0.002951</td>\n",
       "      <td>-0.006462</td>\n",
       "      <td>0.012489</td>\n",
       "      <td>-0.003590</td>\n",
       "      <td>-0.002220</td>\n",
       "      <td>-0.002896</td>\n",
       "      <td>-0.001683</td>\n",
       "      <td>-0.016026</td>\n",
       "      <td>0.004791</td>\n",
       "      <td>-0.019189</td>\n",
       "      <td>...</td>\n",
       "      <td>0.003951</td>\n",
       "      <td>0.013484</td>\n",
       "      <td>0.002950</td>\n",
       "      <td>0.001749</td>\n",
       "      <td>0.001292</td>\n",
       "      <td>0.746625</td>\n",
       "      <td>1.0</td>\n",
       "      <td>2</td>\n",
       "      <td>5.0</td>\n",
       "      <td>201924</td>\n",
       "    </tr>\n",
       "    <tr>\n",
       "      <td>112265</td>\n",
       "      <td>-0.003125</td>\n",
       "      <td>-0.012663</td>\n",
       "      <td>0.022918</td>\n",
       "      <td>-0.014270</td>\n",
       "      <td>0.005402</td>\n",
       "      <td>-0.007583</td>\n",
       "      <td>-0.005225</td>\n",
       "      <td>-0.018943</td>\n",
       "      <td>0.003991</td>\n",
       "      <td>-0.025114</td>\n",
       "      <td>...</td>\n",
       "      <td>0.005500</td>\n",
       "      <td>0.020814</td>\n",
       "      <td>0.005761</td>\n",
       "      <td>0.011722</td>\n",
       "      <td>0.000175</td>\n",
       "      <td>0.746625</td>\n",
       "      <td>1.0</td>\n",
       "      <td>2</td>\n",
       "      <td>5.0</td>\n",
       "      <td>201924</td>\n",
       "    </tr>\n",
       "  </tbody>\n",
       "</table>\n",
       "<p>187533 rows × 105 columns</p>\n",
       "</div>"
      ],
      "text/plain": [
       "              C1       C10      C100       C11       C12       C13       C14  \\\n",
       "0      -0.001495  0.002059 -0.003641  0.002519 -0.000030 -0.000061  0.000266   \n",
       "1      -0.021860  0.025023 -0.030539 -0.053737 -0.034043 -0.106272  0.101318   \n",
       "2      -0.006153  0.000252 -0.000431 -0.007744 -0.001371 -0.012007  0.004584   \n",
       "3      -0.011715  0.010112 -0.014666 -0.018584 -0.010574 -0.035928  0.037478   \n",
       "4      -0.004312  0.010082 -0.009291 -0.017374 -0.011016 -0.033451  0.031159   \n",
       "...          ...       ...       ...       ...       ...       ...       ...   \n",
       "112261  0.002639 -0.007745  0.015926 -0.011952 -0.002111 -0.004357 -0.000599   \n",
       "112262 -0.000535 -0.008106  0.016009 -0.012102  0.005943 -0.004983 -0.004764   \n",
       "112263  0.004187  0.000229  0.007715 -0.005602  0.004873 -0.005352 -0.002468   \n",
       "112264 -0.002951 -0.006462  0.012489 -0.003590 -0.002220 -0.002896 -0.001683   \n",
       "112265 -0.003125 -0.012663  0.022918 -0.014270  0.005402 -0.007583 -0.005225   \n",
       "\n",
       "             C15       C16       C17  ...       C95       C96       C97  \\\n",
       "0      -0.001268 -0.005870  0.004812  ... -0.001215 -0.005617 -0.000767   \n",
       "1       0.046353 -0.032074  0.056494  ... -0.085919 -0.086635 -0.032728   \n",
       "2      -0.001146 -0.006225  0.003439  ... -0.002505 -0.002000 -0.006141   \n",
       "3       0.020299 -0.011364  0.024920  ... -0.035902 -0.030800 -0.010657   \n",
       "4       0.015416 -0.016344  0.022197  ... -0.027211 -0.024827 -0.013575   \n",
       "...          ...       ...       ...  ...       ...       ...       ...   \n",
       "112261 -0.012847 -0.000155 -0.024394  ...  0.005706  0.015451  0.006023   \n",
       "112262 -0.011634  0.001370 -0.025071  ...  0.004042  0.014530 -0.000182   \n",
       "112263 -0.003581  0.005097 -0.003656  ... -0.003402  0.004426 -0.001443   \n",
       "112264 -0.016026  0.004791 -0.019189  ...  0.003951  0.013484  0.002950   \n",
       "112265 -0.018943  0.003991 -0.025114  ...  0.005500  0.020814  0.005761   \n",
       "\n",
       "             C98       C99  Silhouette  category  closer#  label  period  \n",
       "0       0.003659 -0.001297    0.126229       3.0        2    1.0  202011  \n",
       "1       0.003305  0.029844    0.126229       3.0        2   12.0  202011  \n",
       "2      -0.000919  0.005992    0.126229       3.0        2   13.0  202011  \n",
       "3       0.002631  0.007532    0.126229       3.0        2   12.0  202011  \n",
       "4      -0.000735  0.013313    0.126229       3.0        2   12.0  202011  \n",
       "...          ...       ...         ...       ...      ...    ...     ...  \n",
       "112261  0.001769  0.004318    0.746625       1.0        2    5.0  201924  \n",
       "112262  0.002224 -0.003322    0.746625       1.0        2    5.0  201924  \n",
       "112263  0.001934 -0.000474    0.746625       1.0        2    5.0  201924  \n",
       "112264  0.001749  0.001292    0.746625       1.0        2    5.0  201924  \n",
       "112265  0.011722  0.000175    0.746625       1.0        2    5.0  201924  \n",
       "\n",
       "[187533 rows x 105 columns]"
      ]
     },
     "execution_count": 185,
     "metadata": {},
     "output_type": "execute_result"
    }
   ],
   "source": [
    "X_train"
   ]
  },
  {
   "cell_type": "code",
   "execution_count": 186,
   "metadata": {
    "pycharm": {
     "name": "#%%\n"
    }
   },
   "outputs": [],
   "source": [
    "model = Sequential()\n",
    "model.add(Dense(120, input_dim=105, activation='relu'))\n",
    "model.add(Dense(80, activation='relu'))\n",
    "model.add(Dense(60, activation='relu'))\n",
    "model.add(Dense(40, activation='relu'))\n",
    "model.add(Dense(20, activation='relu'))\n",
    "model.add(Dense(3, activation='softmax'))"
   ]
  },
  {
   "cell_type": "code",
   "execution_count": 187,
   "metadata": {
    "pycharm": {
     "name": "#%%\n"
    }
   },
   "outputs": [],
   "source": [
    "# compile the keras model\n",
    "#model.compile(loss='binary_crossentropy', optimizer='adam', metrics=['accuracy'])\n",
    "model.compile(loss='categorical_crossentropy', optimizer='adam', metrics=['accuracy'])"
   ]
  },
  {
   "cell_type": "code",
   "execution_count": 188,
   "metadata": {
    "pycharm": {
     "name": "#%%\n"
    }
   },
   "outputs": [],
   "source": [
    "from keras.utils import to_categorical\n",
    "\n",
    "y_train = y_train.apply(lambda x : x-1)"
   ]
  },
  {
   "cell_type": "code",
   "execution_count": 189,
   "metadata": {
    "pycharm": {
     "name": "#%%\n"
    }
   },
   "outputs": [],
   "source": [
    "y_cate_train = to_categorical(y_train , num_classes=3)\n",
    "#y_cate_train = y_train"
   ]
  },
  {
   "cell_type": "code",
   "execution_count": 190,
   "metadata": {},
   "outputs": [
    {
     "data": {
      "text/plain": [
       "array([[1., 0., 0.],\n",
       "       [1., 0., 0.],\n",
       "       [1., 0., 0.],\n",
       "       ...,\n",
       "       [0., 1., 0.],\n",
       "       [0., 1., 0.],\n",
       "       [0., 1., 0.]], dtype=float32)"
      ]
     },
     "execution_count": 190,
     "metadata": {},
     "output_type": "execute_result"
    }
   ],
   "source": [
    "y_cate_train"
   ]
  },
  {
   "cell_type": "code",
   "execution_count": 191,
   "metadata": {
    "pycharm": {
     "name": "#%%\n"
    }
   },
   "outputs": [],
   "source": [
    "#y_cate_train = list(y_train)"
   ]
  },
  {
   "cell_type": "code",
   "execution_count": 192,
   "metadata": {
    "pycharm": {
     "name": "#%%\n"
    }
   },
   "outputs": [],
   "source": [
    "#X_train"
   ]
  },
  {
   "cell_type": "code",
   "execution_count": 193,
   "metadata": {
    "pycharm": {
     "name": "#%%\n"
    }
   },
   "outputs": [
    {
     "name": "stdout",
     "output_type": "stream",
     "text": [
      "Epoch 1/30\n",
      "187533/187533 [==============================] - 1s 7us/step - loss: 227.5398 - accuracy: 0.3948\n",
      "Epoch 2/30\n",
      "187533/187533 [==============================] - 1s 6us/step - loss: 58.3714 - accuracy: 0.3948\n",
      "Epoch 3/30\n",
      "187533/187533 [==============================] - 1s 6us/step - loss: 46.0092 - accuracy: 0.3941\n",
      "Epoch 4/30\n",
      "187533/187533 [==============================] - 1s 6us/step - loss: 26.2185 - accuracy: 0.3937\n",
      "Epoch 5/30\n",
      "187533/187533 [==============================] - 1s 6us/step - loss: 15.8957 - accuracy: 0.3989\n",
      "Epoch 6/30\n",
      "187533/187533 [==============================] - 1s 6us/step - loss: 10.4896 - accuracy: 0.4013\n",
      "Epoch 7/30\n",
      "187533/187533 [==============================] - 1s 6us/step - loss: 6.4947 - accuracy: 0.4075\n",
      "Epoch 8/30\n",
      "187533/187533 [==============================] - 1s 6us/step - loss: 1.1329 - accuracy: 0.4473\n",
      "Epoch 9/30\n",
      "187533/187533 [==============================] - 1s 6us/step - loss: 1.3715 - accuracy: 0.4327\n",
      "Epoch 10/30\n",
      "187533/187533 [==============================] - 1s 6us/step - loss: 1.3405 - accuracy: 0.4390\n",
      "Epoch 11/30\n",
      "187533/187533 [==============================] - 1s 6us/step - loss: 1.5695 - accuracy: 0.4454\n",
      "Epoch 12/30\n",
      "187533/187533 [==============================] - 1s 6us/step - loss: 1.0253 - accuracy: 0.4681\n",
      "Epoch 13/30\n",
      "187533/187533 [==============================] - 1s 6us/step - loss: 1.0840 - accuracy: 0.4570\n",
      "Epoch 14/30\n",
      "187533/187533 [==============================] - 1s 6us/step - loss: 18.9704 - accuracy: 0.4103\n",
      "Epoch 15/30\n",
      "187533/187533 [==============================] - 1s 6us/step - loss: 1.1467 - accuracy: 0.4270\n",
      "Epoch 16/30\n",
      "187533/187533 [==============================] - 1s 6us/step - loss: 1.1363 - accuracy: 0.4339\n",
      "Epoch 17/30\n",
      "187533/187533 [==============================] - 1s 6us/step - loss: 1.1108 - accuracy: 0.4345\n",
      "Epoch 18/30\n",
      "187533/187533 [==============================] - 1s 6us/step - loss: 1.0550 - accuracy: 0.4467\n",
      "Epoch 19/30\n",
      "187533/187533 [==============================] - 1s 6us/step - loss: 1.0201 - accuracy: 0.4510\n",
      "Epoch 20/30\n",
      "187533/187533 [==============================] - 1s 6us/step - loss: 1.0238 - accuracy: 0.4526\n",
      "Epoch 21/30\n",
      "187533/187533 [==============================] - 1s 6us/step - loss: 1.0148 - accuracy: 0.4574\n",
      "Epoch 22/30\n",
      "187533/187533 [==============================] - 1s 6us/step - loss: 4.0801 - accuracy: 0.4402\n",
      "Epoch 23/30\n",
      "187533/187533 [==============================] - 1s 6us/step - loss: 1.0703 - accuracy: 0.4549\n",
      "Epoch 24/30\n",
      "187533/187533 [==============================] - 1s 6us/step - loss: 1.0191 - accuracy: 0.4676\n",
      "Epoch 25/30\n",
      "187533/187533 [==============================] - 1s 6us/step - loss: 1.0134 - accuracy: 0.4650\n",
      "Epoch 26/30\n",
      "187533/187533 [==============================] - 1s 6us/step - loss: 1.0254 - accuracy: 0.4616\n",
      "Epoch 27/30\n",
      "187533/187533 [==============================] - 1s 6us/step - loss: 1.0137 - accuracy: 0.4666\n",
      "Epoch 28/30\n",
      "187533/187533 [==============================] - 1s 6us/step - loss: 9.7692 - accuracy: 0.4432\n",
      "Epoch 29/30\n",
      "187533/187533 [==============================] - 1s 6us/step - loss: 0.9993 - accuracy: 0.4451\n",
      "Epoch 30/30\n",
      "187533/187533 [==============================] - 1s 6us/step - loss: 0.9897 - accuracy: 0.4549\n"
     ]
    },
    {
     "data": {
      "text/plain": [
       "<keras.callbacks.callbacks.History at 0x7f8bca324f50>"
      ]
     },
     "execution_count": 193,
     "metadata": {},
     "output_type": "execute_result"
    }
   ],
   "source": [
    "model.fit(X_train,y_cate_train, epochs=30, batch_size=500)"
   ]
  },
  {
   "cell_type": "code",
   "execution_count": 194,
   "metadata": {
    "pycharm": {
     "name": "#%%\n"
    }
   },
   "outputs": [
    {
     "data": {
      "text/html": [
       "<div>\n",
       "<style scoped>\n",
       "    .dataframe tbody tr th:only-of-type {\n",
       "        vertical-align: middle;\n",
       "    }\n",
       "\n",
       "    .dataframe tbody tr th {\n",
       "        vertical-align: top;\n",
       "    }\n",
       "\n",
       "    .dataframe thead th {\n",
       "        text-align: right;\n",
       "    }\n",
       "</style>\n",
       "<table border=\"1\" class=\"dataframe\">\n",
       "  <thead>\n",
       "    <tr style=\"text-align: right;\">\n",
       "      <th></th>\n",
       "      <th>C1</th>\n",
       "      <th>C10</th>\n",
       "      <th>C100</th>\n",
       "      <th>C11</th>\n",
       "      <th>C12</th>\n",
       "      <th>C13</th>\n",
       "      <th>C14</th>\n",
       "      <th>C15</th>\n",
       "      <th>C16</th>\n",
       "      <th>C17</th>\n",
       "      <th>...</th>\n",
       "      <th>C95</th>\n",
       "      <th>C96</th>\n",
       "      <th>C97</th>\n",
       "      <th>C98</th>\n",
       "      <th>C99</th>\n",
       "      <th>Silhouette</th>\n",
       "      <th>category</th>\n",
       "      <th>closer#</th>\n",
       "      <th>label</th>\n",
       "      <th>period</th>\n",
       "    </tr>\n",
       "  </thead>\n",
       "  <tbody>\n",
       "    <tr>\n",
       "      <td>0</td>\n",
       "      <td>0.193276</td>\n",
       "      <td>0.354861</td>\n",
       "      <td>0.483434</td>\n",
       "      <td>0.597638</td>\n",
       "      <td>-0.398804</td>\n",
       "      <td>1.133262</td>\n",
       "      <td>0.731398</td>\n",
       "      <td>-0.646659</td>\n",
       "      <td>-0.445156</td>\n",
       "      <td>0.258329</td>\n",
       "      <td>...</td>\n",
       "      <td>-1.047442</td>\n",
       "      <td>1.066586</td>\n",
       "      <td>-0.492452</td>\n",
       "      <td>0.110801</td>\n",
       "      <td>1.513927</td>\n",
       "      <td>0.769844</td>\n",
       "      <td>3</td>\n",
       "      <td>2</td>\n",
       "      <td>13.0</td>\n",
       "      <td>201712</td>\n",
       "    </tr>\n",
       "    <tr>\n",
       "      <td>1</td>\n",
       "      <td>0.053015</td>\n",
       "      <td>0.145954</td>\n",
       "      <td>0.169772</td>\n",
       "      <td>0.120207</td>\n",
       "      <td>-0.169421</td>\n",
       "      <td>0.229082</td>\n",
       "      <td>0.260403</td>\n",
       "      <td>-0.147198</td>\n",
       "      <td>-0.103073</td>\n",
       "      <td>0.047900</td>\n",
       "      <td>...</td>\n",
       "      <td>-0.245267</td>\n",
       "      <td>0.345119</td>\n",
       "      <td>-0.146398</td>\n",
       "      <td>-0.047513</td>\n",
       "      <td>0.443642</td>\n",
       "      <td>0.769844</td>\n",
       "      <td>3</td>\n",
       "      <td>2</td>\n",
       "      <td>7.0</td>\n",
       "      <td>201712</td>\n",
       "    </tr>\n",
       "    <tr>\n",
       "      <td>2</td>\n",
       "      <td>0.187034</td>\n",
       "      <td>0.571300</td>\n",
       "      <td>0.525449</td>\n",
       "      <td>0.168223</td>\n",
       "      <td>-0.355162</td>\n",
       "      <td>0.298243</td>\n",
       "      <td>0.894928</td>\n",
       "      <td>-0.192993</td>\n",
       "      <td>-0.046484</td>\n",
       "      <td>0.072364</td>\n",
       "      <td>...</td>\n",
       "      <td>-0.487128</td>\n",
       "      <td>0.952153</td>\n",
       "      <td>-0.561850</td>\n",
       "      <td>-0.430627</td>\n",
       "      <td>0.990200</td>\n",
       "      <td>0.769844</td>\n",
       "      <td>3</td>\n",
       "      <td>2</td>\n",
       "      <td>11.0</td>\n",
       "      <td>201712</td>\n",
       "    </tr>\n",
       "    <tr>\n",
       "      <td>3</td>\n",
       "      <td>0.006207</td>\n",
       "      <td>0.006518</td>\n",
       "      <td>0.006009</td>\n",
       "      <td>0.000881</td>\n",
       "      <td>-0.009848</td>\n",
       "      <td>0.008558</td>\n",
       "      <td>0.007732</td>\n",
       "      <td>-0.008319</td>\n",
       "      <td>-0.009147</td>\n",
       "      <td>0.006904</td>\n",
       "      <td>...</td>\n",
       "      <td>-0.010893</td>\n",
       "      <td>0.012300</td>\n",
       "      <td>-0.005470</td>\n",
       "      <td>0.000625</td>\n",
       "      <td>0.017307</td>\n",
       "      <td>0.769844</td>\n",
       "      <td>3</td>\n",
       "      <td>2</td>\n",
       "      <td>5.0</td>\n",
       "      <td>201712</td>\n",
       "    </tr>\n",
       "    <tr>\n",
       "      <td>4</td>\n",
       "      <td>0.007514</td>\n",
       "      <td>0.024106</td>\n",
       "      <td>0.028550</td>\n",
       "      <td>0.014306</td>\n",
       "      <td>-0.029238</td>\n",
       "      <td>0.029883</td>\n",
       "      <td>0.046465</td>\n",
       "      <td>-0.022211</td>\n",
       "      <td>-0.016634</td>\n",
       "      <td>0.008236</td>\n",
       "      <td>...</td>\n",
       "      <td>-0.038619</td>\n",
       "      <td>0.063352</td>\n",
       "      <td>-0.025889</td>\n",
       "      <td>-0.009849</td>\n",
       "      <td>0.080098</td>\n",
       "      <td>0.769844</td>\n",
       "      <td>3</td>\n",
       "      <td>2</td>\n",
       "      <td>5.0</td>\n",
       "      <td>201712</td>\n",
       "    </tr>\n",
       "    <tr>\n",
       "      <td>...</td>\n",
       "      <td>...</td>\n",
       "      <td>...</td>\n",
       "      <td>...</td>\n",
       "      <td>...</td>\n",
       "      <td>...</td>\n",
       "      <td>...</td>\n",
       "      <td>...</td>\n",
       "      <td>...</td>\n",
       "      <td>...</td>\n",
       "      <td>...</td>\n",
       "      <td>...</td>\n",
       "      <td>...</td>\n",
       "      <td>...</td>\n",
       "      <td>...</td>\n",
       "      <td>...</td>\n",
       "      <td>...</td>\n",
       "      <td>...</td>\n",
       "      <td>...</td>\n",
       "      <td>...</td>\n",
       "      <td>...</td>\n",
       "      <td>...</td>\n",
       "    </tr>\n",
       "    <tr>\n",
       "      <td>91066</td>\n",
       "      <td>-0.001493</td>\n",
       "      <td>0.004432</td>\n",
       "      <td>-0.000019</td>\n",
       "      <td>0.001152</td>\n",
       "      <td>0.003272</td>\n",
       "      <td>0.001117</td>\n",
       "      <td>-0.001494</td>\n",
       "      <td>-0.001195</td>\n",
       "      <td>-0.005070</td>\n",
       "      <td>0.004332</td>\n",
       "      <td>...</td>\n",
       "      <td>0.007560</td>\n",
       "      <td>0.002509</td>\n",
       "      <td>0.001765</td>\n",
       "      <td>0.003142</td>\n",
       "      <td>-0.002148</td>\n",
       "      <td>0.663485</td>\n",
       "      <td>3</td>\n",
       "      <td>2</td>\n",
       "      <td>7.0</td>\n",
       "      <td>201821</td>\n",
       "    </tr>\n",
       "    <tr>\n",
       "      <td>91067</td>\n",
       "      <td>0.003200</td>\n",
       "      <td>-0.004519</td>\n",
       "      <td>0.001402</td>\n",
       "      <td>0.003263</td>\n",
       "      <td>0.010584</td>\n",
       "      <td>0.003593</td>\n",
       "      <td>-0.001943</td>\n",
       "      <td>0.005533</td>\n",
       "      <td>-0.006149</td>\n",
       "      <td>0.006796</td>\n",
       "      <td>...</td>\n",
       "      <td>-0.000815</td>\n",
       "      <td>0.003557</td>\n",
       "      <td>0.000739</td>\n",
       "      <td>0.003576</td>\n",
       "      <td>-0.001527</td>\n",
       "      <td>0.663485</td>\n",
       "      <td>3</td>\n",
       "      <td>2</td>\n",
       "      <td>7.0</td>\n",
       "      <td>201821</td>\n",
       "    </tr>\n",
       "    <tr>\n",
       "      <td>91068</td>\n",
       "      <td>-0.001963</td>\n",
       "      <td>-0.003939</td>\n",
       "      <td>0.005902</td>\n",
       "      <td>0.004080</td>\n",
       "      <td>0.005144</td>\n",
       "      <td>0.004452</td>\n",
       "      <td>-0.009509</td>\n",
       "      <td>-0.000890</td>\n",
       "      <td>-0.001717</td>\n",
       "      <td>0.007926</td>\n",
       "      <td>...</td>\n",
       "      <td>0.001187</td>\n",
       "      <td>-0.001515</td>\n",
       "      <td>0.002502</td>\n",
       "      <td>0.009324</td>\n",
       "      <td>-0.002506</td>\n",
       "      <td>0.663485</td>\n",
       "      <td>3</td>\n",
       "      <td>2</td>\n",
       "      <td>7.0</td>\n",
       "      <td>201821</td>\n",
       "    </tr>\n",
       "    <tr>\n",
       "      <td>91069</td>\n",
       "      <td>0.003757</td>\n",
       "      <td>-0.005068</td>\n",
       "      <td>0.008903</td>\n",
       "      <td>0.005964</td>\n",
       "      <td>0.002714</td>\n",
       "      <td>0.005146</td>\n",
       "      <td>-0.005615</td>\n",
       "      <td>0.005638</td>\n",
       "      <td>-0.004838</td>\n",
       "      <td>0.008487</td>\n",
       "      <td>...</td>\n",
       "      <td>0.005496</td>\n",
       "      <td>-0.000107</td>\n",
       "      <td>-0.002414</td>\n",
       "      <td>0.001925</td>\n",
       "      <td>-0.008984</td>\n",
       "      <td>0.663485</td>\n",
       "      <td>3</td>\n",
       "      <td>2</td>\n",
       "      <td>7.0</td>\n",
       "      <td>201821</td>\n",
       "    </tr>\n",
       "    <tr>\n",
       "      <td>91070</td>\n",
       "      <td>0.003444</td>\n",
       "      <td>-0.003017</td>\n",
       "      <td>0.006477</td>\n",
       "      <td>0.004069</td>\n",
       "      <td>0.010147</td>\n",
       "      <td>0.002354</td>\n",
       "      <td>-0.008835</td>\n",
       "      <td>0.002309</td>\n",
       "      <td>-0.004462</td>\n",
       "      <td>0.009104</td>\n",
       "      <td>...</td>\n",
       "      <td>0.008672</td>\n",
       "      <td>0.000993</td>\n",
       "      <td>-0.004936</td>\n",
       "      <td>0.002334</td>\n",
       "      <td>-0.007891</td>\n",
       "      <td>0.663485</td>\n",
       "      <td>3</td>\n",
       "      <td>2</td>\n",
       "      <td>7.0</td>\n",
       "      <td>201821</td>\n",
       "    </tr>\n",
       "  </tbody>\n",
       "</table>\n",
       "<p>91071 rows × 105 columns</p>\n",
       "</div>"
      ],
      "text/plain": [
       "             C1       C10      C100       C11       C12       C13       C14  \\\n",
       "0      0.193276  0.354861  0.483434  0.597638 -0.398804  1.133262  0.731398   \n",
       "1      0.053015  0.145954  0.169772  0.120207 -0.169421  0.229082  0.260403   \n",
       "2      0.187034  0.571300  0.525449  0.168223 -0.355162  0.298243  0.894928   \n",
       "3      0.006207  0.006518  0.006009  0.000881 -0.009848  0.008558  0.007732   \n",
       "4      0.007514  0.024106  0.028550  0.014306 -0.029238  0.029883  0.046465   \n",
       "...         ...       ...       ...       ...       ...       ...       ...   \n",
       "91066 -0.001493  0.004432 -0.000019  0.001152  0.003272  0.001117 -0.001494   \n",
       "91067  0.003200 -0.004519  0.001402  0.003263  0.010584  0.003593 -0.001943   \n",
       "91068 -0.001963 -0.003939  0.005902  0.004080  0.005144  0.004452 -0.009509   \n",
       "91069  0.003757 -0.005068  0.008903  0.005964  0.002714  0.005146 -0.005615   \n",
       "91070  0.003444 -0.003017  0.006477  0.004069  0.010147  0.002354 -0.008835   \n",
       "\n",
       "            C15       C16       C17  ...       C95       C96       C97  \\\n",
       "0     -0.646659 -0.445156  0.258329  ... -1.047442  1.066586 -0.492452   \n",
       "1     -0.147198 -0.103073  0.047900  ... -0.245267  0.345119 -0.146398   \n",
       "2     -0.192993 -0.046484  0.072364  ... -0.487128  0.952153 -0.561850   \n",
       "3     -0.008319 -0.009147  0.006904  ... -0.010893  0.012300 -0.005470   \n",
       "4     -0.022211 -0.016634  0.008236  ... -0.038619  0.063352 -0.025889   \n",
       "...         ...       ...       ...  ...       ...       ...       ...   \n",
       "91066 -0.001195 -0.005070  0.004332  ...  0.007560  0.002509  0.001765   \n",
       "91067  0.005533 -0.006149  0.006796  ... -0.000815  0.003557  0.000739   \n",
       "91068 -0.000890 -0.001717  0.007926  ...  0.001187 -0.001515  0.002502   \n",
       "91069  0.005638 -0.004838  0.008487  ...  0.005496 -0.000107 -0.002414   \n",
       "91070  0.002309 -0.004462  0.009104  ...  0.008672  0.000993 -0.004936   \n",
       "\n",
       "            C98       C99  Silhouette  category  closer#  label  period  \n",
       "0      0.110801  1.513927    0.769844         3        2   13.0  201712  \n",
       "1     -0.047513  0.443642    0.769844         3        2    7.0  201712  \n",
       "2     -0.430627  0.990200    0.769844         3        2   11.0  201712  \n",
       "3      0.000625  0.017307    0.769844         3        2    5.0  201712  \n",
       "4     -0.009849  0.080098    0.769844         3        2    5.0  201712  \n",
       "...         ...       ...         ...       ...      ...    ...     ...  \n",
       "91066  0.003142 -0.002148    0.663485         3        2    7.0  201821  \n",
       "91067  0.003576 -0.001527    0.663485         3        2    7.0  201821  \n",
       "91068  0.009324 -0.002506    0.663485         3        2    7.0  201821  \n",
       "91069  0.001925 -0.008984    0.663485         3        2    7.0  201821  \n",
       "91070  0.002334 -0.007891    0.663485         3        2    7.0  201821  \n",
       "\n",
       "[91071 rows x 105 columns]"
      ]
     },
     "execution_count": 194,
     "metadata": {},
     "output_type": "execute_result"
    }
   ],
   "source": [
    "X_test"
   ]
  },
  {
   "cell_type": "code",
   "execution_count": 195,
   "metadata": {
    "pycharm": {
     "name": "#%%\n"
    }
   },
   "outputs": [],
   "source": [
    "y_test = y_test.apply(lambda x : x-1)"
   ]
  },
  {
   "cell_type": "code",
   "execution_count": 196,
   "metadata": {
    "pycharm": {
     "name": "#%%\n"
    }
   },
   "outputs": [],
   "source": [
    "y_cate_test = to_categorical(y_test , num_classes=3)"
   ]
  },
  {
   "cell_type": "code",
   "execution_count": 197,
   "metadata": {
    "pycharm": {
     "name": "#%%\n"
    }
   },
   "outputs": [
    {
     "data": {
      "text/plain": [
       "array([[0., 1., 0.],\n",
       "       [0., 1., 0.],\n",
       "       [0., 1., 0.],\n",
       "       ...,\n",
       "       [1., 0., 0.],\n",
       "       [1., 0., 0.],\n",
       "       [1., 0., 0.]], dtype=float32)"
      ]
     },
     "execution_count": 197,
     "metadata": {},
     "output_type": "execute_result"
    }
   ],
   "source": [
    "y_cate_test"
   ]
  },
  {
   "cell_type": "code",
   "execution_count": 198,
   "metadata": {},
   "outputs": [
    {
     "name": "stdout",
     "output_type": "stream",
     "text": [
      "91071/91071 [==============================] - 0s 3us/step\n"
     ]
    }
   ],
   "source": [
    "score = model.evaluate(X_test, y_cate_test, batch_size=500)"
   ]
  },
  {
   "cell_type": "code",
   "execution_count": 199,
   "metadata": {
    "pycharm": {
     "name": "#%%\n"
    }
   },
   "outputs": [],
   "source": [
    "#score = model.evaluate(X_test, y_cate_test, batch_size=500)"
   ]
  },
  {
   "cell_type": "code",
   "execution_count": 200,
   "metadata": {
    "pycharm": {
     "name": "#%%\n"
    }
   },
   "outputs": [
    {
     "data": {
      "text/plain": [
       "[0.8296755333287947, 0.5638677477836609]"
      ]
     },
     "execution_count": 200,
     "metadata": {},
     "output_type": "execute_result"
    }
   ],
   "source": [
    "score"
   ]
  },
  {
   "cell_type": "code",
   "execution_count": 201,
   "metadata": {
    "pycharm": {
     "name": "#%%\n"
    }
   },
   "outputs": [],
   "source": [
    "yhat_probs = model.predict(X_test ,batch_size=500 )\n",
    "\n",
    "yhat_classes = model.predict_classes(X_test ,batch_size=500 )\n",
    "\n",
    "# reduce to 1d array\n",
    "#yhat_probs = yhat_probs[:, 0]\n",
    "#yhat_classes = yhat_classes[:, 0]"
   ]
  },
  {
   "cell_type": "code",
   "execution_count": 202,
   "metadata": {},
   "outputs": [
    {
     "data": {
      "text/plain": [
       "array([[0.41383773, 0.45430493, 0.13185729],\n",
       "       [0.41383773, 0.45430493, 0.13185729],\n",
       "       [0.41383773, 0.45430493, 0.13185729],\n",
       "       ...,\n",
       "       [0.41383773, 0.45430493, 0.13185729],\n",
       "       [0.41383773, 0.45430493, 0.13185729],\n",
       "       [0.41383773, 0.45430493, 0.13185729]], dtype=float32)"
      ]
     },
     "execution_count": 202,
     "metadata": {},
     "output_type": "execute_result"
    }
   ],
   "source": [
    "yhat_probs"
   ]
  },
  {
   "cell_type": "code",
   "execution_count": 203,
   "metadata": {
    "pycharm": {
     "name": "#%%\n"
    }
   },
   "outputs": [
    {
     "data": {
      "text/plain": [
       "array([1, 1, 1, ..., 1, 1, 1])"
      ]
     },
     "execution_count": 203,
     "metadata": {},
     "output_type": "execute_result"
    }
   ],
   "source": [
    "yhat_classes"
   ]
  },
  {
   "cell_type": "code",
   "execution_count": 204,
   "metadata": {
    "pycharm": {
     "name": "#%%\n"
    }
   },
   "outputs": [
    {
     "data": {
      "text/plain": [
       "array([[0., 1., 0.],\n",
       "       [0., 1., 0.],\n",
       "       [0., 1., 0.],\n",
       "       ...,\n",
       "       [1., 0., 0.],\n",
       "       [1., 0., 0.],\n",
       "       [1., 0., 0.]], dtype=float32)"
      ]
     },
     "execution_count": 204,
     "metadata": {},
     "output_type": "execute_result"
    }
   ],
   "source": [
    "y_cate_test"
   ]
  },
  {
   "cell_type": "code",
   "execution_count": 205,
   "metadata": {
    "pycharm": {
     "name": "#%%\n"
    }
   },
   "outputs": [
    {
     "name": "stdout",
     "output_type": "stream",
     "text": [
      "Accuracy: 0.563868\n",
      "Precision: 0.563868\n",
      "Recall: 0.563868\n",
      "F1 score: 0.563868\n"
     ]
    }
   ],
   "source": [
    "# accuracy: (tp + tn) / (p + n)\n",
    "accuracy = accuracy_score(y_test, yhat_classes )\n",
    "print('Accuracy: %f' % accuracy)\n",
    "# precision tp / (tp + fp)\n",
    "precision = precision_score(y_test, yhat_classes , average='micro')\n",
    "print('Precision: %f' % precision)\n",
    "# recall: tp / (tp + fn)\n",
    "recall = recall_score(y_test, yhat_classes , average='micro')\n",
    "print('Recall: %f' % recall)\n",
    "# f1: 2 tp / (2 tp + fp + fn)\n",
    "f1 = f1_score(y_test, yhat_classes,average='micro')\n",
    "print('F1 score: %f' % f1)"
   ]
  },
  {
   "cell_type": "code",
   "execution_count": 206,
   "metadata": {
    "pycharm": {
     "name": "#%%\n"
    }
   },
   "outputs": [
    {
     "name": "stdout",
     "output_type": "stream",
     "text": [
      "0        1\n",
      "1        1\n",
      "2        1\n",
      "3        1\n",
      "4        1\n",
      "        ..\n",
      "91066    0\n",
      "91067    0\n",
      "91068    0\n",
      "91069    0\n",
      "91070    0\n",
      "Name: result, Length: 91071, dtype: int64\n",
      "[[0 1 0]\n",
      " [0 1 0]\n",
      " [0 1 0]\n",
      " ...\n",
      " [1 0 0]\n",
      " [1 0 0]\n",
      " [1 0 0]]\n",
      "class :  0 == 0.5\n",
      "class :  1 == 0.5\n",
      "class :  2 == nan\n"
     ]
    },
    {
     "name": "stderr",
     "output_type": "stream",
     "text": [
      "/Users/hongminpyo/opt/anaconda3/lib/python3.7/site-packages/sklearn/metrics/_ranking.py:813: UndefinedMetricWarning: No positive samples in y_true, true positive value should be meaningless\n",
      "  UndefinedMetricWarning)\n"
     ]
    }
   ],
   "source": [
    "# Compute ROC curve and ROC area for each class\n",
    "fpr = dict()\n",
    "tpr = dict()\n",
    "roc_auc = dict()\n",
    "\n",
    "y_test_roc =label_binarize(y_test, classes=[0, 1, 2])\n",
    "\n",
    "print(y_test)\n",
    "print(y_test_roc)\n",
    "\n",
    "for i in range(3):\n",
    "    fpr[i], tpr[i], _ = roc_curve(y_test_roc[:, i], yhat_probs[:, i])\n",
    "    roc_auc[i] = auc(fpr[i], tpr[i])\n",
    "    print('class : ',i,'==',roc_auc[i])"
   ]
  },
  {
   "cell_type": "code",
   "execution_count": 207,
   "metadata": {
    "pycharm": {
     "name": "#%%\n"
    }
   },
   "outputs": [],
   "source": [
    "# Compute micro-average ROC curve and ROC area\n",
    "fpr[\"micro\"], tpr[\"micro\"], _ = roc_curve(y_test_roc.ravel(), yhat_probs.ravel())\n",
    "roc_auc[\"micro\"] = auc(fpr[\"micro\"], tpr[\"micro\"])"
   ]
  },
  {
   "cell_type": "code",
   "execution_count": 208,
   "metadata": {
    "pycharm": {
     "name": "#%%\n"
    }
   },
   "outputs": [
    {
     "data": {
      "image/png": "[encoded data removed]",
      "text/plain": [
       "<Figure size 432x288 with 1 Axes>"
      ]
     },
     "metadata": {
      "needs_background": "light"
     },
     "output_type": "display_data"
    }
   ],
   "source": [
    "plt.figure()\n",
    "lw = 2\n",
    "plt.plot(fpr[1], tpr[1], color='darkorange',\n",
    "         lw=lw, label='ROC curve (area = %0.2f)' % roc_auc[2])\n",
    "plt.plot([0, 1], [0, 1], color='navy', lw=lw, linestyle='--')\n",
    "plt.xlim([0.0, 1.0])\n",
    "plt.ylim([0.0, 1.05])\n",
    "plt.xlabel('False Positive Rate')\n",
    "plt.ylabel('True Positive Rate')\n",
    "plt.title('Receiver operating characteristic example')\n",
    "plt.legend(loc=\"lower right\")\n",
    "plt.show()\n"
   ]
  },
  {
   "cell_type": "code",
   "execution_count": 209,
   "metadata": {
    "pycharm": {
     "name": "#%%\n"
    }
   },
   "outputs": [
    {
     "data": {
      "image/png": "[encoded data removed]",
      "text/plain": [
       "<Figure size 432x288 with 1 Axes>"
      ]
     },
     "metadata": {
      "needs_background": "light"
     },
     "output_type": "display_data"
    }
   ],
   "source": [
    "# First aggregate all false positive rates\n",
    "all_fpr = np.unique(np.concatenate([fpr[i] for i in range(3)]))\n",
    "\n",
    "# Then interpolate all ROC curves at this points\n",
    "mean_tpr = np.zeros_like(all_fpr)\n",
    "for i in range(3):\n",
    "    mean_tpr += interp(all_fpr, fpr[i], tpr[i])\n",
    "\n",
    "# Finally average it and compute AUC\n",
    "mean_tpr /= 3\n",
    "\n",
    "fpr[\"macro\"] = all_fpr\n",
    "tpr[\"macro\"] = mean_tpr\n",
    "roc_auc[\"macro\"] = auc(fpr[\"macro\"], tpr[\"macro\"])\n",
    "\n",
    "# Plot all ROC curves\n",
    "plt.figure()\n",
    "plt.plot(fpr[\"micro\"], tpr[\"micro\"],\n",
    "         label='micro-average ROC curve (area = {0:0.2f})'\n",
    "               ''.format(roc_auc[\"micro\"]),\n",
    "         color='deeppink', linestyle=':', linewidth=4)\n",
    "\n",
    "plt.plot(fpr[\"macro\"], tpr[\"macro\"],\n",
    "         label='macro-average ROC curve (area = {0:0.2f})'\n",
    "               ''.format(roc_auc[\"macro\"]),\n",
    "         color='navy', linestyle=':', linewidth=4)\n",
    "\n",
    "colors = cycle(['aqua', 'darkorange', 'cornflowerblue'])\n",
    "for i, color in zip(range(3), colors):\n",
    "    plt.plot(fpr[i], tpr[i], color=color, lw=lw,\n",
    "             label='ROC curve of class {0} (area = {1:0.2f})'\n",
    "             ''.format(i, roc_auc[i]))\n",
    "\n",
    "plt.plot([0, 1], [0, 1], 'k--', lw=lw)\n",
    "plt.xlim([0.0, 1.0])\n",
    "plt.ylim([0.0, 1.05])\n",
    "plt.xlabel('False Positive Rate')\n",
    "plt.ylabel('True Positive Rate')\n",
    "plt.title('Some extension of Receiver operating characteristic to multi-class')\n",
    "plt.legend(loc=\"lower right\")\n",
    "plt.show()"
   ]
  },
  {
   "cell_type": "code",
   "execution_count": 210,
   "metadata": {
    "pycharm": {
     "name": "#%%\n"
    }
   },
   "outputs": [
    {
     "name": "stdout",
     "output_type": "stream",
     "text": [
      "Accuracy: 0.563868\n",
      "Precision: 0.563868\n",
      "Recall: 0.563868\n",
      "F1 score: 0.563868\n"
     ]
    }
   ],
   "source": [
    "# accuracy: (tp + tn) / (p + n)\n",
    "accuracy = accuracy_score(y_test, yhat_classes )\n",
    "print('Accuracy: %f' % accuracy)\n",
    "# precision tp / (tp + fp)\n",
    "precision = precision_score(y_test, yhat_classes , average='micro')\n",
    "print('Precision: %f' % precision)\n",
    "# recall: tp / (tp + fn)\n",
    "recall = recall_score(y_test, yhat_classes , average='micro')\n",
    "print('Recall: %f' % recall)\n",
    "# f1: 2 tp / (2 tp + fp + fn)\n",
    "f1 = f1_score(y_test, yhat_classes,average='micro')\n",
    "print('F1 score: %f' % f1)"
   ]
  },
  {
   "cell_type": "code",
   "execution_count": 211,
   "metadata": {
    "pycharm": {
     "name": "#%%\n"
    }
   },
   "outputs": [
    {
     "name": "stdout",
     "output_type": "stream",
     "text": [
      "0        1\n",
      "1        1\n",
      "2        1\n",
      "3        1\n",
      "4        1\n",
      "        ..\n",
      "91066    0\n",
      "91067    0\n",
      "91068    0\n",
      "91069    0\n",
      "91070    0\n",
      "Name: result, Length: 91071, dtype: int64\n",
      "[[0 1 0]\n",
      " [0 1 0]\n",
      " [0 1 0]\n",
      " ...\n",
      " [1 0 0]\n",
      " [1 0 0]\n",
      " [1 0 0]]\n",
      "class :  0 == 0.5\n",
      "class :  1 == 0.5\n",
      "class :  2 == nan\n"
     ]
    },
    {
     "name": "stderr",
     "output_type": "stream",
     "text": [
      "/Users/hongminpyo/opt/anaconda3/lib/python3.7/site-packages/sklearn/metrics/_ranking.py:813: UndefinedMetricWarning: No positive samples in y_true, true positive value should be meaningless\n",
      "  UndefinedMetricWarning)\n"
     ]
    }
   ],
   "source": [
    "# Compute ROC curve and ROC area for each class\n",
    "fpr = dict()\n",
    "tpr = dict()\n",
    "roc_auc = dict()\n",
    "\n",
    "y_test_roc =label_binarize(y_test, classes=[0, 1, 2])\n",
    "\n",
    "print(y_test)\n",
    "print(y_test_roc)\n",
    "\n",
    "for i in range(3):\n",
    "    fpr[i], tpr[i], _ = roc_curve(y_test_roc[:, i], yhat_probs[:, i])\n",
    "    roc_auc[i] = auc(fpr[i], tpr[i])\n",
    "    print('class : ',i,'==',roc_auc[i])"
   ]
  },
  {
   "cell_type": "code",
   "execution_count": 212,
   "metadata": {
    "pycharm": {
     "name": "#%%\n"
    }
   },
   "outputs": [],
   "source": [
    "# Compute micro-average ROC curve and ROC area\n",
    "fpr[\"micro\"], tpr[\"micro\"], _ = roc_curve(y_test_roc.ravel(), yhat_probs.ravel())\n",
    "roc_auc[\"micro\"] = auc(fpr[\"micro\"], tpr[\"micro\"])"
   ]
  },
  {
   "cell_type": "code",
   "execution_count": 213,
   "metadata": {
    "pycharm": {
     "name": "#%%\n"
    }
   },
   "outputs": [
    {
     "data": {
      "image/png": "[encoded data removed]",
      "text/plain": [
       "<Figure size 432x288 with 1 Axes>"
      ]
     },
     "metadata": {
      "needs_background": "light"
     },
     "output_type": "display_data"
    }
   ],
   "source": [
    "plt.figure()\n",
    "lw = 2\n",
    "plt.plot(fpr[1], tpr[1], color='darkorange',\n",
    "         lw=lw, label='ROC curve (area = %0.2f)' % roc_auc[2])\n",
    "plt.plot([0, 1], [0, 1], color='navy', lw=lw, linestyle='--')\n",
    "plt.xlim([0.0, 1.0])\n",
    "plt.ylim([0.0, 1.05])\n",
    "plt.xlabel('False Positive Rate')\n",
    "plt.ylabel('True Positive Rate')\n",
    "plt.title('Receiver operating characteristic example')\n",
    "plt.legend(loc=\"lower right\")\n",
    "plt.show()\n"
   ]
  },
  {
   "cell_type": "code",
   "execution_count": 214,
   "metadata": {
    "pycharm": {
     "name": "#%%\n"
    }
   },
   "outputs": [
    {
     "data": {
      "image/png": "[encoded data removed]",
      "text/plain": [
       "<Figure size 432x288 with 1 Axes>"
      ]
     },
     "metadata": {
      "needs_background": "light"
     },
     "output_type": "display_data"
    }
   ],
   "source": [
    "# First aggregate all false positive rates\n",
    "all_fpr = np.unique(np.concatenate([fpr[i] for i in range(3)]))\n",
    "\n",
    "# Then interpolate all ROC curves at this points\n",
    "mean_tpr = np.zeros_like(all_fpr)\n",
    "for i in range(3):\n",
    "    mean_tpr += interp(all_fpr, fpr[i], tpr[i])\n",
    "\n",
    "# Finally average it and compute AUC\n",
    "mean_tpr /= 3\n",
    "\n",
    "fpr[\"macro\"] = all_fpr\n",
    "tpr[\"macro\"] = mean_tpr\n",
    "roc_auc[\"macro\"] = auc(fpr[\"macro\"], tpr[\"macro\"])\n",
    "\n",
    "# Plot all ROC curves\n",
    "plt.figure()\n",
    "plt.plot(fpr[\"micro\"], tpr[\"micro\"],\n",
    "         label='micro-average ROC curve (area = {0:0.2f})'\n",
    "               ''.format(roc_auc[\"micro\"]),\n",
    "         color='deeppink', linestyle=':', linewidth=4)\n",
    "\n",
    "plt.plot(fpr[\"macro\"], tpr[\"macro\"],\n",
    "         label='macro-average ROC curve (area = {0:0.2f})'\n",
    "               ''.format(roc_auc[\"macro\"]),\n",
    "         color='navy', linestyle=':', linewidth=4)\n",
    "\n",
    "colors = cycle(['aqua', 'darkorange', 'cornflowerblue'])\n",
    "for i, color in zip(range(3), colors):\n",
    "    plt.plot(fpr[i], tpr[i], color=color, lw=lw,\n",
    "             label='ROC curve of class {0} (area = {1:0.2f})'\n",
    "             ''.format(i, roc_auc[i]))\n",
    "\n",
    "plt.plot([0, 1], [0, 1], 'k--', lw=lw)\n",
    "plt.xlim([0.0, 1.0])\n",
    "plt.ylim([0.0, 1.05])\n",
    "plt.xlabel('False Positive Rate')\n",
    "plt.ylabel('True Positive Rate')\n",
    "plt.title('Some extension of Receiver operating characteristic to multi-class')\n",
    "plt.legend(loc=\"lower right\")\n",
    "plt.show()"
   ]
  },
  {
   "cell_type": "code",
   "execution_count": null,
   "metadata": {
    "pycharm": {
     "name": "#%%\n"
    }
   },
   "outputs": [],
   "source": []
  },
  {
   "cell_type": "code",
   "execution_count": null,
   "metadata": {},
   "outputs": [],
   "source": []
  },
  {
   "cell_type": "code",
   "execution_count": null,
   "metadata": {},
   "outputs": [],
   "source": []
  },
  {
   "cell_type": "code",
   "execution_count": null,
   "metadata": {},
   "outputs": [],
   "source": []
  },
  {
   "cell_type": "code",
   "execution_count": null,
   "metadata": {},
   "outputs": [],
   "source": []
  },
  {
   "cell_type": "code",
   "execution_count": null,
   "metadata": {},
   "outputs": [],
   "source": []
  },
  {
   "cell_type": "code",
   "execution_count": null,
   "metadata": {},
   "outputs": [],
   "source": []
  }
 ],
 "metadata": {
  "kernelspec": {
   "display_name": "Python 3",
   "language": "python",
   "name": "python3"
  },
  "language_info": {
   "codemirror_mode": {
    "name": "ipython",
    "version": 3
   },
   "file_extension": ".py",
   "mimetype": "text/x-python",
   "name": "python",
   "nbconvert_exporter": "python",
   "pygments_lexer": "ipython3",
   "version": "3.7.4"
  },
  "pycharm": {
   "stem_cell": {
    "cell_type": "raw",
    "metadata": {
     "collapsed": false
    },
    "source": []
   }
  }
 },
 "nbformat": 4,
 "nbformat_minor": 2
}

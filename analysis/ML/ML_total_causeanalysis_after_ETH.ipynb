{
 "cells": [
  {
   "cell_type": "code",
   "execution_count": 1,
   "metadata": {
    "pycharm": {
     "name": "#%%\n"
    }
   },
   "outputs": [
    {
     "name": "stderr",
     "output_type": "stream",
     "text": [
      "/Users/hongminpyo/opt/anaconda3/lib/python3.7/site-packages/lightgbm/__init__.py:48: UserWarning: Starting from version 2.2.1, the library file in distribution wheels for macOS is built by the Apple Clang (Xcode_8.3.3) compiler.\n",
      "This means that in case of installing LightGBM from PyPI via the ``pip install lightgbm`` command, you don't need to install the gcc compiler anymore.\n",
      "Instead of that, you need to install the OpenMP library, which is required for running LightGBM on the system with the Apple Clang compiler.\n",
      "You can install the OpenMP library by the following command: ``brew install libomp``.\n",
      "  \"You can install the OpenMP library by the following command: ``brew install libomp``.\", UserWarning)\n"
     ]
    }
   ],
   "source": [
    "import re\n",
    "import math\n",
    "import numpy as np\n",
    "import pandas as pd\n",
    "from datetime import datetime\n",
    "from sklearn.preprocessing import StandardScaler\n",
    "from sklearn.model_selection import train_test_split\n",
    "from sklearn.tree import DecisionTreeClassifier\n",
    "from sklearn.ensemble import RandomForestClassifier\n",
    "from sklearn.ensemble import GradientBoostingClassifier\n",
    "from lightgbm import LGBMClassifier\n",
    "from sklearn.linear_model import LogisticRegression\n",
    "from sklearn.metrics import accuracy_score ,precision_score , recall_score , confusion_matrix , f1_score\n",
    "from sklearn.model_selection import GridSearchCV\n",
    "from ast import literal_eval\n",
    "from gensim.models.keyedvectors import KeyedVectors\n",
    "from sklearn.decomposition import PCA\n",
    "pca = PCA(n_components=40)\n",
    "from sklearn import datasets, metrics, model_selection\n",
    "import matplotlib.pyplot as plt\n",
    "from sklearn.metrics import roc_curve, auc\n",
    "from sklearn.metrics import roc_auc_score"
   ]
  },
  {
   "cell_type": "code",
   "execution_count": 2,
   "metadata": {
    "pycharm": {
     "name": "#%%\n"
    }
   },
   "outputs": [],
   "source": [
    "#data_train = pd.read_csv('./data/twitter_data_before_analysis.csv', error_bad_lines=False)\n",
    "data_train = pd.read_csv('./data/twitter_data_before_analysis1.csv', error_bad_lines=False)\n",
    "data_train = data_train.append(pd.read_csv('./data/ko_news_data_before_analysis.csv', error_bad_lines=False))\n",
    "data_train = data_train.append(pd.read_csv('./data/en_news_data_before_analysis.csv', error_bad_lines=False))"
   ]
  },
  {
   "cell_type": "code",
   "execution_count": 3,
   "metadata": {
    "pycharm": {
     "name": "#%%\n"
    }
   },
   "outputs": [],
   "source": [
    "data_train['period'] = pd.to_numeric(data_train['period'], errors='coerce')\n",
    "data_train['category'] = pd.to_numeric(data_train['category'], errors='coerce')\n",
    "data_train['label'] = pd.to_numeric(data_train['label'], errors='coerce')\n",
    "data_train['Silhouette'] = pd.to_numeric(data_train['Silhouette'], errors='coerce')"
   ]
  },
  {
   "cell_type": "code",
   "execution_count": 4,
   "metadata": {},
   "outputs": [
    {
     "name": "stdout",
     "output_type": "stream",
     "text": [
      "187533\n"
     ]
    }
   ],
   "source": [
    "print(len(data_train))"
   ]
  },
  {
   "cell_type": "code",
   "execution_count": 5,
   "metadata": {
    "pycharm": {
     "name": "#%%\n"
    }
   },
   "outputs": [],
   "source": [
    "X_train = data_train[data_train.columns.difference(['result'])]"
   ]
  },
  {
   "cell_type": "code",
   "execution_count": 6,
   "metadata": {
    "pycharm": {
     "name": "#%%\n"
    }
   },
   "outputs": [],
   "source": [
    "#x_data_df = data_train[['period','raw_data','closer#','category','label','Silhouette']]\n",
    "y_train = data_train['result']"
   ]
  },
  {
   "cell_type": "code",
   "execution_count": 7,
   "metadata": {
    "pycharm": {
     "name": "#%%\n"
    }
   },
   "outputs": [],
   "source": [
    "X_train = X_train.drop('Unnamed: 0', axis=1)"
   ]
  },
  {
   "cell_type": "code",
   "execution_count": 9,
   "metadata": {},
   "outputs": [],
   "source": [
    "eucl_data = pd.read_csv('../../analysis/cluster/causeanalysis/ETH/after_down_ETH1_euclidean.csv', error_bad_lines=False)\n",
    "eucl_data['closer#'] = 2 # cosine 1 , euclidean 2\n",
    "\n",
    "cosine_data = pd.read_csv('../../analysis/cluster/causeanalysis/ETH/after_down_ETH1_cosine.csv', error_bad_lines=False)\n",
    "cosine_data['closer#'] = 1 # cosine 1 , euclidean 2\n",
    "\n",
    "data_ETH1DA = eucl_data\n",
    "data_ETH1DA.append(cosine_data)\n",
    "\n",
    "data_ETH1DA['period'] = 201812 #  2017년 의 상반기 1 , 하반기 2 down 2, up 1"
   ]
  },
  {
   "cell_type": "code",
   "execution_count": 11,
   "metadata": {},
   "outputs": [],
   "source": [
    "eucl_data = pd.read_csv('../../analysis/cluster/causeanalysis/ETH/after_up_ETH1_euclidean.csv', error_bad_lines=False)\n",
    "eucl_data['closer#'] = 2 # cosine 1 , euclidean 2\n",
    "\n",
    "cosine_data = pd.read_csv('../../analysis/cluster/causeanalysis/ETH/after_up_ETH1_cosine.csv', error_bad_lines=False)\n",
    "cosine_data['closer#'] = 1 # cosine 1 , euclidean 2\n",
    "\n",
    "data_ETH1UA = eucl_data\n",
    "data_ETH1UA.append(cosine_data)\n",
    "\n",
    "data_ETH1UA['period'] = 201811 # 2017년의 상반기 01 , 하반기 02"
   ]
  },
  {
   "cell_type": "code",
   "execution_count": null,
   "metadata": {},
   "outputs": [],
   "source": []
  },
  {
   "cell_type": "code",
   "execution_count": 12,
   "metadata": {},
   "outputs": [],
   "source": [
    "data_test = pd.concat([data_ETH1DA,data_ETH1UA],ignore_index=True)"
   ]
  },
  {
   "cell_type": "code",
   "execution_count": 13,
   "metadata": {},
   "outputs": [],
   "source": [
    "#data_test = pd.read_csv('./data/(test)_twitter_data_before_analysis.csv', error_bad_lines=False)\n",
    "#data_test = data_test.append(pd.read_csv('./data/(test)_ko_news_data_before_analysis.csv', error_bad_lines=False))\n",
    "#data_test = data_test.append(pd.read_csv('./data/(test)_en_news_data_before_analysis.csv', error_bad_lines=False))"
   ]
  },
  {
   "cell_type": "code",
   "execution_count": 14,
   "metadata": {
    "pycharm": {
     "name": "#%%\n"
    }
   },
   "outputs": [],
   "source": [
    "data_test['period'] = pd.to_numeric(data_test['period'], errors='coerce')\n",
    "data_test['category'] = pd.to_numeric(data_test['category'], errors='coerce')\n",
    "data_test['label'] = pd.to_numeric(data_test['label'], errors='coerce')\n",
    "data_test['Silhouette'] = pd.to_numeric(data_test['Silhouette'], errors='coerce')"
   ]
  },
  {
   "cell_type": "code",
   "execution_count": 15,
   "metadata": {},
   "outputs": [
    {
     "name": "stdout",
     "output_type": "stream",
     "text": [
      "6827\n"
     ]
    }
   ],
   "source": [
    "print(len(data_test))\n",
    "\n",
    "header = []\n",
    "for i in range(1,101) :\n",
    "    header.append('C'+str(i))"
   ]
  },
  {
   "cell_type": "code",
   "execution_count": 16,
   "metadata": {
    "pycharm": {
     "name": "#%%\n"
    }
   },
   "outputs": [],
   "source": [
    "X_test = data_test[['period','raw_data','closer#','category','label','Silhouette']]"
   ]
  },
  {
   "cell_type": "code",
   "execution_count": 17,
   "metadata": {
    "pycharm": {
     "name": "#%%\n"
    }
   },
   "outputs": [],
   "source": [
    "y_test = data_test['result']"
   ]
  },
  {
   "cell_type": "code",
   "execution_count": 18,
   "metadata": {},
   "outputs": [
    {
     "name": "stderr",
     "output_type": "stream",
     "text": [
      "/Users/hongminpyo/opt/anaconda3/lib/python3.7/site-packages/ipykernel_launcher.py:1: SettingWithCopyWarning: \n",
      "A value is trying to be set on a copy of a slice from a DataFrame.\n",
      "Try using .loc[row_indexer,col_indexer] = value instead\n",
      "\n",
      "See the caveats in the documentation: http://pandas.pydata.org/pandas-docs/stable/user_guide/indexing.html#returning-a-view-versus-a-copy\n",
      "  \"\"\"Entry point for launching an IPython kernel.\n"
     ]
    }
   ],
   "source": [
    "X_test['raw_data'] = X_test['raw_data'].apply(lambda x: x[1:len(x)-1].split(','))"
   ]
  },
  {
   "cell_type": "code",
   "execution_count": 19,
   "metadata": {},
   "outputs": [],
   "source": [
    "tempFrame = pd.DataFrame(columns = header )"
   ]
  },
  {
   "cell_type": "code",
   "execution_count": 20,
   "metadata": {},
   "outputs": [
    {
     "name": "stdout",
     "output_type": "stream",
     "text": [
      "0\n",
      "1000\n",
      "2000\n",
      "3000\n",
      "4000\n",
      "5000\n",
      "6000\n"
     ]
    }
   ],
   "source": [
    "for index,row in X_test.iterrows() :\n",
    "\n",
    "    raw_data_list = [float(i.replace(\" \",\"\")) for i in row['raw_data']]\n",
    "    \n",
    "    \n",
    "    tempSeries = pd.Series(raw_data_list , index = header)\n",
    "    \n",
    "    tempFrame = tempFrame.append(tempSeries , ignore_index=True)\n",
    "    \n",
    "    if( (index%1000)==0 ) :\n",
    "        print(index)"
   ]
  },
  {
   "cell_type": "code",
   "execution_count": 21,
   "metadata": {},
   "outputs": [
    {
     "data": {
      "text/html": [
       "<div>\n",
       "<style scoped>\n",
       "    .dataframe tbody tr th:only-of-type {\n",
       "        vertical-align: middle;\n",
       "    }\n",
       "\n",
       "    .dataframe tbody tr th {\n",
       "        vertical-align: top;\n",
       "    }\n",
       "\n",
       "    .dataframe thead th {\n",
       "        text-align: right;\n",
       "    }\n",
       "</style>\n",
       "<table border=\"1\" class=\"dataframe\">\n",
       "  <thead>\n",
       "    <tr style=\"text-align: right;\">\n",
       "      <th></th>\n",
       "      <th>C1</th>\n",
       "      <th>C2</th>\n",
       "      <th>C3</th>\n",
       "      <th>C4</th>\n",
       "      <th>C5</th>\n",
       "      <th>C6</th>\n",
       "      <th>C7</th>\n",
       "      <th>C8</th>\n",
       "      <th>C9</th>\n",
       "      <th>C10</th>\n",
       "      <th>...</th>\n",
       "      <th>C91</th>\n",
       "      <th>C92</th>\n",
       "      <th>C93</th>\n",
       "      <th>C94</th>\n",
       "      <th>C95</th>\n",
       "      <th>C96</th>\n",
       "      <th>C97</th>\n",
       "      <th>C98</th>\n",
       "      <th>C99</th>\n",
       "      <th>C100</th>\n",
       "    </tr>\n",
       "  </thead>\n",
       "  <tbody>\n",
       "    <tr>\n",
       "      <td>0</td>\n",
       "      <td>-0.254655</td>\n",
       "      <td>-0.180008</td>\n",
       "      <td>0.079563</td>\n",
       "      <td>0.070877</td>\n",
       "      <td>-0.192541</td>\n",
       "      <td>0.077792</td>\n",
       "      <td>-0.448351</td>\n",
       "      <td>-0.005136</td>\n",
       "      <td>-0.045940</td>\n",
       "      <td>0.086399</td>\n",
       "      <td>...</td>\n",
       "      <td>-0.047916</td>\n",
       "      <td>0.190063</td>\n",
       "      <td>0.362996</td>\n",
       "      <td>0.197608</td>\n",
       "      <td>-0.130111</td>\n",
       "      <td>-0.156364</td>\n",
       "      <td>0.134341</td>\n",
       "      <td>0.130209</td>\n",
       "      <td>0.255739</td>\n",
       "      <td>0.099466</td>\n",
       "    </tr>\n",
       "    <tr>\n",
       "      <td>1</td>\n",
       "      <td>-0.004634</td>\n",
       "      <td>-0.000451</td>\n",
       "      <td>-0.002377</td>\n",
       "      <td>0.001738</td>\n",
       "      <td>0.002353</td>\n",
       "      <td>-0.002076</td>\n",
       "      <td>-0.001646</td>\n",
       "      <td>0.000074</td>\n",
       "      <td>-0.002536</td>\n",
       "      <td>-0.003283</td>\n",
       "      <td>...</td>\n",
       "      <td>0.000574</td>\n",
       "      <td>0.002886</td>\n",
       "      <td>-0.001532</td>\n",
       "      <td>0.006064</td>\n",
       "      <td>0.001824</td>\n",
       "      <td>-0.003176</td>\n",
       "      <td>0.003060</td>\n",
       "      <td>-0.003545</td>\n",
       "      <td>0.000769</td>\n",
       "      <td>0.004266</td>\n",
       "    </tr>\n",
       "    <tr>\n",
       "      <td>2</td>\n",
       "      <td>-0.090797</td>\n",
       "      <td>-0.074224</td>\n",
       "      <td>0.031453</td>\n",
       "      <td>0.027766</td>\n",
       "      <td>-0.072613</td>\n",
       "      <td>0.033135</td>\n",
       "      <td>-0.166600</td>\n",
       "      <td>0.003850</td>\n",
       "      <td>-0.014339</td>\n",
       "      <td>0.029680</td>\n",
       "      <td>...</td>\n",
       "      <td>-0.019365</td>\n",
       "      <td>0.069803</td>\n",
       "      <td>0.136269</td>\n",
       "      <td>0.075035</td>\n",
       "      <td>-0.052909</td>\n",
       "      <td>-0.057482</td>\n",
       "      <td>0.052950</td>\n",
       "      <td>0.051991</td>\n",
       "      <td>0.090085</td>\n",
       "      <td>0.033742</td>\n",
       "    </tr>\n",
       "    <tr>\n",
       "      <td>3</td>\n",
       "      <td>-0.094661</td>\n",
       "      <td>-0.060435</td>\n",
       "      <td>0.034314</td>\n",
       "      <td>0.022429</td>\n",
       "      <td>-0.064252</td>\n",
       "      <td>0.033394</td>\n",
       "      <td>-0.163963</td>\n",
       "      <td>-0.005994</td>\n",
       "      <td>-0.021203</td>\n",
       "      <td>0.026608</td>\n",
       "      <td>...</td>\n",
       "      <td>-0.022947</td>\n",
       "      <td>0.074548</td>\n",
       "      <td>0.136320</td>\n",
       "      <td>0.071669</td>\n",
       "      <td>-0.044775</td>\n",
       "      <td>-0.057478</td>\n",
       "      <td>0.053035</td>\n",
       "      <td>0.054524</td>\n",
       "      <td>0.089103</td>\n",
       "      <td>0.039398</td>\n",
       "    </tr>\n",
       "    <tr>\n",
       "      <td>4</td>\n",
       "      <td>-0.069848</td>\n",
       "      <td>-0.047059</td>\n",
       "      <td>0.025222</td>\n",
       "      <td>0.024263</td>\n",
       "      <td>-0.053081</td>\n",
       "      <td>0.019989</td>\n",
       "      <td>-0.122335</td>\n",
       "      <td>0.004043</td>\n",
       "      <td>-0.018609</td>\n",
       "      <td>0.025090</td>\n",
       "      <td>...</td>\n",
       "      <td>-0.011619</td>\n",
       "      <td>0.053987</td>\n",
       "      <td>0.103898</td>\n",
       "      <td>0.058567</td>\n",
       "      <td>-0.033314</td>\n",
       "      <td>-0.044975</td>\n",
       "      <td>0.035820</td>\n",
       "      <td>0.039669</td>\n",
       "      <td>0.067841</td>\n",
       "      <td>0.019547</td>\n",
       "    </tr>\n",
       "    <tr>\n",
       "      <td>...</td>\n",
       "      <td>...</td>\n",
       "      <td>...</td>\n",
       "      <td>...</td>\n",
       "      <td>...</td>\n",
       "      <td>...</td>\n",
       "      <td>...</td>\n",
       "      <td>...</td>\n",
       "      <td>...</td>\n",
       "      <td>...</td>\n",
       "      <td>...</td>\n",
       "      <td>...</td>\n",
       "      <td>...</td>\n",
       "      <td>...</td>\n",
       "      <td>...</td>\n",
       "      <td>...</td>\n",
       "      <td>...</td>\n",
       "      <td>...</td>\n",
       "      <td>...</td>\n",
       "      <td>...</td>\n",
       "      <td>...</td>\n",
       "      <td>...</td>\n",
       "    </tr>\n",
       "    <tr>\n",
       "      <td>6822</td>\n",
       "      <td>-0.002168</td>\n",
       "      <td>-0.000209</td>\n",
       "      <td>-0.000484</td>\n",
       "      <td>0.002279</td>\n",
       "      <td>-0.000793</td>\n",
       "      <td>-0.014988</td>\n",
       "      <td>0.002322</td>\n",
       "      <td>-0.009567</td>\n",
       "      <td>0.015889</td>\n",
       "      <td>0.004932</td>\n",
       "      <td>...</td>\n",
       "      <td>0.011185</td>\n",
       "      <td>-0.004798</td>\n",
       "      <td>-0.003858</td>\n",
       "      <td>-0.004696</td>\n",
       "      <td>0.000419</td>\n",
       "      <td>-0.007506</td>\n",
       "      <td>-0.007278</td>\n",
       "      <td>-0.005591</td>\n",
       "      <td>0.005405</td>\n",
       "      <td>0.006519</td>\n",
       "    </tr>\n",
       "    <tr>\n",
       "      <td>6823</td>\n",
       "      <td>0.004208</td>\n",
       "      <td>0.003021</td>\n",
       "      <td>-0.002001</td>\n",
       "      <td>0.004101</td>\n",
       "      <td>-0.001609</td>\n",
       "      <td>-0.011579</td>\n",
       "      <td>-0.000478</td>\n",
       "      <td>-0.010427</td>\n",
       "      <td>0.011020</td>\n",
       "      <td>-0.000198</td>\n",
       "      <td>...</td>\n",
       "      <td>0.004256</td>\n",
       "      <td>-0.005231</td>\n",
       "      <td>0.004078</td>\n",
       "      <td>-0.000055</td>\n",
       "      <td>0.001020</td>\n",
       "      <td>-0.002880</td>\n",
       "      <td>0.001137</td>\n",
       "      <td>-0.002063</td>\n",
       "      <td>0.002997</td>\n",
       "      <td>0.009461</td>\n",
       "    </tr>\n",
       "    <tr>\n",
       "      <td>6824</td>\n",
       "      <td>0.002363</td>\n",
       "      <td>-0.004255</td>\n",
       "      <td>-0.001592</td>\n",
       "      <td>0.000356</td>\n",
       "      <td>-0.004535</td>\n",
       "      <td>-0.008412</td>\n",
       "      <td>0.003942</td>\n",
       "      <td>-0.000890</td>\n",
       "      <td>0.005060</td>\n",
       "      <td>0.004563</td>\n",
       "      <td>...</td>\n",
       "      <td>0.000415</td>\n",
       "      <td>-0.003282</td>\n",
       "      <td>-0.001996</td>\n",
       "      <td>0.001723</td>\n",
       "      <td>0.004560</td>\n",
       "      <td>-0.005844</td>\n",
       "      <td>-0.000416</td>\n",
       "      <td>0.001187</td>\n",
       "      <td>0.003191</td>\n",
       "      <td>-0.000146</td>\n",
       "    </tr>\n",
       "    <tr>\n",
       "      <td>6825</td>\n",
       "      <td>-0.000348</td>\n",
       "      <td>0.000295</td>\n",
       "      <td>0.001817</td>\n",
       "      <td>-0.000890</td>\n",
       "      <td>-0.004176</td>\n",
       "      <td>-0.009533</td>\n",
       "      <td>0.005809</td>\n",
       "      <td>-0.001022</td>\n",
       "      <td>0.009670</td>\n",
       "      <td>0.005552</td>\n",
       "      <td>...</td>\n",
       "      <td>0.004034</td>\n",
       "      <td>0.002128</td>\n",
       "      <td>-0.001397</td>\n",
       "      <td>-0.003559</td>\n",
       "      <td>-0.002458</td>\n",
       "      <td>0.002025</td>\n",
       "      <td>-0.001968</td>\n",
       "      <td>0.001791</td>\n",
       "      <td>0.002730</td>\n",
       "      <td>0.008238</td>\n",
       "    </tr>\n",
       "    <tr>\n",
       "      <td>6826</td>\n",
       "      <td>-0.001458</td>\n",
       "      <td>-0.003801</td>\n",
       "      <td>-0.000547</td>\n",
       "      <td>0.004080</td>\n",
       "      <td>0.001195</td>\n",
       "      <td>-0.006765</td>\n",
       "      <td>0.006222</td>\n",
       "      <td>-0.006638</td>\n",
       "      <td>0.002553</td>\n",
       "      <td>0.001610</td>\n",
       "      <td>...</td>\n",
       "      <td>0.000423</td>\n",
       "      <td>-0.003388</td>\n",
       "      <td>-0.004358</td>\n",
       "      <td>-0.001056</td>\n",
       "      <td>0.001169</td>\n",
       "      <td>-0.001952</td>\n",
       "      <td>0.002247</td>\n",
       "      <td>-0.001446</td>\n",
       "      <td>0.005357</td>\n",
       "      <td>0.001372</td>\n",
       "    </tr>\n",
       "  </tbody>\n",
       "</table>\n",
       "<p>6827 rows × 100 columns</p>\n",
       "</div>"
      ],
      "text/plain": [
       "            C1        C2        C3        C4        C5        C6        C7  \\\n",
       "0    -0.254655 -0.180008  0.079563  0.070877 -0.192541  0.077792 -0.448351   \n",
       "1    -0.004634 -0.000451 -0.002377  0.001738  0.002353 -0.002076 -0.001646   \n",
       "2    -0.090797 -0.074224  0.031453  0.027766 -0.072613  0.033135 -0.166600   \n",
       "3    -0.094661 -0.060435  0.034314  0.022429 -0.064252  0.033394 -0.163963   \n",
       "4    -0.069848 -0.047059  0.025222  0.024263 -0.053081  0.019989 -0.122335   \n",
       "...        ...       ...       ...       ...       ...       ...       ...   \n",
       "6822 -0.002168 -0.000209 -0.000484  0.002279 -0.000793 -0.014988  0.002322   \n",
       "6823  0.004208  0.003021 -0.002001  0.004101 -0.001609 -0.011579 -0.000478   \n",
       "6824  0.002363 -0.004255 -0.001592  0.000356 -0.004535 -0.008412  0.003942   \n",
       "6825 -0.000348  0.000295  0.001817 -0.000890 -0.004176 -0.009533  0.005809   \n",
       "6826 -0.001458 -0.003801 -0.000547  0.004080  0.001195 -0.006765  0.006222   \n",
       "\n",
       "            C8        C9       C10  ...       C91       C92       C93  \\\n",
       "0    -0.005136 -0.045940  0.086399  ... -0.047916  0.190063  0.362996   \n",
       "1     0.000074 -0.002536 -0.003283  ...  0.000574  0.002886 -0.001532   \n",
       "2     0.003850 -0.014339  0.029680  ... -0.019365  0.069803  0.136269   \n",
       "3    -0.005994 -0.021203  0.026608  ... -0.022947  0.074548  0.136320   \n",
       "4     0.004043 -0.018609  0.025090  ... -0.011619  0.053987  0.103898   \n",
       "...        ...       ...       ...  ...       ...       ...       ...   \n",
       "6822 -0.009567  0.015889  0.004932  ...  0.011185 -0.004798 -0.003858   \n",
       "6823 -0.010427  0.011020 -0.000198  ...  0.004256 -0.005231  0.004078   \n",
       "6824 -0.000890  0.005060  0.004563  ...  0.000415 -0.003282 -0.001996   \n",
       "6825 -0.001022  0.009670  0.005552  ...  0.004034  0.002128 -0.001397   \n",
       "6826 -0.006638  0.002553  0.001610  ...  0.000423 -0.003388 -0.004358   \n",
       "\n",
       "           C94       C95       C96       C97       C98       C99      C100  \n",
       "0     0.197608 -0.130111 -0.156364  0.134341  0.130209  0.255739  0.099466  \n",
       "1     0.006064  0.001824 -0.003176  0.003060 -0.003545  0.000769  0.004266  \n",
       "2     0.075035 -0.052909 -0.057482  0.052950  0.051991  0.090085  0.033742  \n",
       "3     0.071669 -0.044775 -0.057478  0.053035  0.054524  0.089103  0.039398  \n",
       "4     0.058567 -0.033314 -0.044975  0.035820  0.039669  0.067841  0.019547  \n",
       "...        ...       ...       ...       ...       ...       ...       ...  \n",
       "6822 -0.004696  0.000419 -0.007506 -0.007278 -0.005591  0.005405  0.006519  \n",
       "6823 -0.000055  0.001020 -0.002880  0.001137 -0.002063  0.002997  0.009461  \n",
       "6824  0.001723  0.004560 -0.005844 -0.000416  0.001187  0.003191 -0.000146  \n",
       "6825 -0.003559 -0.002458  0.002025 -0.001968  0.001791  0.002730  0.008238  \n",
       "6826 -0.001056  0.001169 -0.001952  0.002247 -0.001446  0.005357  0.001372  \n",
       "\n",
       "[6827 rows x 100 columns]"
      ]
     },
     "execution_count": 21,
     "metadata": {},
     "output_type": "execute_result"
    }
   ],
   "source": [
    "tempFrame"
   ]
  },
  {
   "cell_type": "code",
   "execution_count": 22,
   "metadata": {},
   "outputs": [],
   "source": [
    "X_test = pd.concat([tempFrame,X_test],axis=1,ignore_index=False)"
   ]
  },
  {
   "cell_type": "code",
   "execution_count": 23,
   "metadata": {
    "pycharm": {
     "name": "#%%\n"
    }
   },
   "outputs": [],
   "source": [
    "X_test = X_test.drop('raw_data', axis=1)"
   ]
  },
  {
   "cell_type": "code",
   "execution_count": 24,
   "metadata": {},
   "outputs": [
    {
     "data": {
      "text/html": [
       "<div>\n",
       "<style scoped>\n",
       "    .dataframe tbody tr th:only-of-type {\n",
       "        vertical-align: middle;\n",
       "    }\n",
       "\n",
       "    .dataframe tbody tr th {\n",
       "        vertical-align: top;\n",
       "    }\n",
       "\n",
       "    .dataframe thead th {\n",
       "        text-align: right;\n",
       "    }\n",
       "</style>\n",
       "<table border=\"1\" class=\"dataframe\">\n",
       "  <thead>\n",
       "    <tr style=\"text-align: right;\">\n",
       "      <th></th>\n",
       "      <th>C1</th>\n",
       "      <th>C2</th>\n",
       "      <th>C3</th>\n",
       "      <th>C4</th>\n",
       "      <th>C5</th>\n",
       "      <th>C6</th>\n",
       "      <th>C7</th>\n",
       "      <th>C8</th>\n",
       "      <th>C9</th>\n",
       "      <th>C10</th>\n",
       "      <th>...</th>\n",
       "      <th>C96</th>\n",
       "      <th>C97</th>\n",
       "      <th>C98</th>\n",
       "      <th>C99</th>\n",
       "      <th>C100</th>\n",
       "      <th>period</th>\n",
       "      <th>closer#</th>\n",
       "      <th>category</th>\n",
       "      <th>label</th>\n",
       "      <th>Silhouette</th>\n",
       "    </tr>\n",
       "  </thead>\n",
       "  <tbody>\n",
       "    <tr>\n",
       "      <td>0</td>\n",
       "      <td>-0.254655</td>\n",
       "      <td>-0.180008</td>\n",
       "      <td>0.079563</td>\n",
       "      <td>0.070877</td>\n",
       "      <td>-0.192541</td>\n",
       "      <td>0.077792</td>\n",
       "      <td>-0.448351</td>\n",
       "      <td>-0.005136</td>\n",
       "      <td>-0.045940</td>\n",
       "      <td>0.086399</td>\n",
       "      <td>...</td>\n",
       "      <td>-0.156364</td>\n",
       "      <td>0.134341</td>\n",
       "      <td>0.130209</td>\n",
       "      <td>0.255739</td>\n",
       "      <td>0.099466</td>\n",
       "      <td>201812</td>\n",
       "      <td>2</td>\n",
       "      <td>3</td>\n",
       "      <td>13.0</td>\n",
       "      <td>0.698785</td>\n",
       "    </tr>\n",
       "    <tr>\n",
       "      <td>1</td>\n",
       "      <td>-0.004634</td>\n",
       "      <td>-0.000451</td>\n",
       "      <td>-0.002377</td>\n",
       "      <td>0.001738</td>\n",
       "      <td>0.002353</td>\n",
       "      <td>-0.002076</td>\n",
       "      <td>-0.001646</td>\n",
       "      <td>0.000074</td>\n",
       "      <td>-0.002536</td>\n",
       "      <td>-0.003283</td>\n",
       "      <td>...</td>\n",
       "      <td>-0.003176</td>\n",
       "      <td>0.003060</td>\n",
       "      <td>-0.003545</td>\n",
       "      <td>0.000769</td>\n",
       "      <td>0.004266</td>\n",
       "      <td>201812</td>\n",
       "      <td>2</td>\n",
       "      <td>3</td>\n",
       "      <td>5.0</td>\n",
       "      <td>0.698785</td>\n",
       "    </tr>\n",
       "    <tr>\n",
       "      <td>2</td>\n",
       "      <td>-0.090797</td>\n",
       "      <td>-0.074224</td>\n",
       "      <td>0.031453</td>\n",
       "      <td>0.027766</td>\n",
       "      <td>-0.072613</td>\n",
       "      <td>0.033135</td>\n",
       "      <td>-0.166600</td>\n",
       "      <td>0.003850</td>\n",
       "      <td>-0.014339</td>\n",
       "      <td>0.029680</td>\n",
       "      <td>...</td>\n",
       "      <td>-0.057482</td>\n",
       "      <td>0.052950</td>\n",
       "      <td>0.051991</td>\n",
       "      <td>0.090085</td>\n",
       "      <td>0.033742</td>\n",
       "      <td>201812</td>\n",
       "      <td>2</td>\n",
       "      <td>3</td>\n",
       "      <td>11.0</td>\n",
       "      <td>0.698785</td>\n",
       "    </tr>\n",
       "    <tr>\n",
       "      <td>3</td>\n",
       "      <td>-0.094661</td>\n",
       "      <td>-0.060435</td>\n",
       "      <td>0.034314</td>\n",
       "      <td>0.022429</td>\n",
       "      <td>-0.064252</td>\n",
       "      <td>0.033394</td>\n",
       "      <td>-0.163963</td>\n",
       "      <td>-0.005994</td>\n",
       "      <td>-0.021203</td>\n",
       "      <td>0.026608</td>\n",
       "      <td>...</td>\n",
       "      <td>-0.057478</td>\n",
       "      <td>0.053035</td>\n",
       "      <td>0.054524</td>\n",
       "      <td>0.089103</td>\n",
       "      <td>0.039398</td>\n",
       "      <td>201812</td>\n",
       "      <td>2</td>\n",
       "      <td>3</td>\n",
       "      <td>11.0</td>\n",
       "      <td>0.698785</td>\n",
       "    </tr>\n",
       "    <tr>\n",
       "      <td>4</td>\n",
       "      <td>-0.069848</td>\n",
       "      <td>-0.047059</td>\n",
       "      <td>0.025222</td>\n",
       "      <td>0.024263</td>\n",
       "      <td>-0.053081</td>\n",
       "      <td>0.019989</td>\n",
       "      <td>-0.122335</td>\n",
       "      <td>0.004043</td>\n",
       "      <td>-0.018609</td>\n",
       "      <td>0.025090</td>\n",
       "      <td>...</td>\n",
       "      <td>-0.044975</td>\n",
       "      <td>0.035820</td>\n",
       "      <td>0.039669</td>\n",
       "      <td>0.067841</td>\n",
       "      <td>0.019547</td>\n",
       "      <td>201812</td>\n",
       "      <td>2</td>\n",
       "      <td>3</td>\n",
       "      <td>11.0</td>\n",
       "      <td>0.698785</td>\n",
       "    </tr>\n",
       "    <tr>\n",
       "      <td>...</td>\n",
       "      <td>...</td>\n",
       "      <td>...</td>\n",
       "      <td>...</td>\n",
       "      <td>...</td>\n",
       "      <td>...</td>\n",
       "      <td>...</td>\n",
       "      <td>...</td>\n",
       "      <td>...</td>\n",
       "      <td>...</td>\n",
       "      <td>...</td>\n",
       "      <td>...</td>\n",
       "      <td>...</td>\n",
       "      <td>...</td>\n",
       "      <td>...</td>\n",
       "      <td>...</td>\n",
       "      <td>...</td>\n",
       "      <td>...</td>\n",
       "      <td>...</td>\n",
       "      <td>...</td>\n",
       "      <td>...</td>\n",
       "      <td>...</td>\n",
       "    </tr>\n",
       "    <tr>\n",
       "      <td>6822</td>\n",
       "      <td>-0.002168</td>\n",
       "      <td>-0.000209</td>\n",
       "      <td>-0.000484</td>\n",
       "      <td>0.002279</td>\n",
       "      <td>-0.000793</td>\n",
       "      <td>-0.014988</td>\n",
       "      <td>0.002322</td>\n",
       "      <td>-0.009567</td>\n",
       "      <td>0.015889</td>\n",
       "      <td>0.004932</td>\n",
       "      <td>...</td>\n",
       "      <td>-0.007506</td>\n",
       "      <td>-0.007278</td>\n",
       "      <td>-0.005591</td>\n",
       "      <td>0.005405</td>\n",
       "      <td>0.006519</td>\n",
       "      <td>201811</td>\n",
       "      <td>2</td>\n",
       "      <td>3</td>\n",
       "      <td>9.0</td>\n",
       "      <td>0.666694</td>\n",
       "    </tr>\n",
       "    <tr>\n",
       "      <td>6823</td>\n",
       "      <td>0.004208</td>\n",
       "      <td>0.003021</td>\n",
       "      <td>-0.002001</td>\n",
       "      <td>0.004101</td>\n",
       "      <td>-0.001609</td>\n",
       "      <td>-0.011579</td>\n",
       "      <td>-0.000478</td>\n",
       "      <td>-0.010427</td>\n",
       "      <td>0.011020</td>\n",
       "      <td>-0.000198</td>\n",
       "      <td>...</td>\n",
       "      <td>-0.002880</td>\n",
       "      <td>0.001137</td>\n",
       "      <td>-0.002063</td>\n",
       "      <td>0.002997</td>\n",
       "      <td>0.009461</td>\n",
       "      <td>201811</td>\n",
       "      <td>2</td>\n",
       "      <td>3</td>\n",
       "      <td>9.0</td>\n",
       "      <td>0.666694</td>\n",
       "    </tr>\n",
       "    <tr>\n",
       "      <td>6824</td>\n",
       "      <td>0.002363</td>\n",
       "      <td>-0.004255</td>\n",
       "      <td>-0.001592</td>\n",
       "      <td>0.000356</td>\n",
       "      <td>-0.004535</td>\n",
       "      <td>-0.008412</td>\n",
       "      <td>0.003942</td>\n",
       "      <td>-0.000890</td>\n",
       "      <td>0.005060</td>\n",
       "      <td>0.004563</td>\n",
       "      <td>...</td>\n",
       "      <td>-0.005844</td>\n",
       "      <td>-0.000416</td>\n",
       "      <td>0.001187</td>\n",
       "      <td>0.003191</td>\n",
       "      <td>-0.000146</td>\n",
       "      <td>201811</td>\n",
       "      <td>2</td>\n",
       "      <td>3</td>\n",
       "      <td>9.0</td>\n",
       "      <td>0.666694</td>\n",
       "    </tr>\n",
       "    <tr>\n",
       "      <td>6825</td>\n",
       "      <td>-0.000348</td>\n",
       "      <td>0.000295</td>\n",
       "      <td>0.001817</td>\n",
       "      <td>-0.000890</td>\n",
       "      <td>-0.004176</td>\n",
       "      <td>-0.009533</td>\n",
       "      <td>0.005809</td>\n",
       "      <td>-0.001022</td>\n",
       "      <td>0.009670</td>\n",
       "      <td>0.005552</td>\n",
       "      <td>...</td>\n",
       "      <td>0.002025</td>\n",
       "      <td>-0.001968</td>\n",
       "      <td>0.001791</td>\n",
       "      <td>0.002730</td>\n",
       "      <td>0.008238</td>\n",
       "      <td>201811</td>\n",
       "      <td>2</td>\n",
       "      <td>3</td>\n",
       "      <td>9.0</td>\n",
       "      <td>0.666694</td>\n",
       "    </tr>\n",
       "    <tr>\n",
       "      <td>6826</td>\n",
       "      <td>-0.001458</td>\n",
       "      <td>-0.003801</td>\n",
       "      <td>-0.000547</td>\n",
       "      <td>0.004080</td>\n",
       "      <td>0.001195</td>\n",
       "      <td>-0.006765</td>\n",
       "      <td>0.006222</td>\n",
       "      <td>-0.006638</td>\n",
       "      <td>0.002553</td>\n",
       "      <td>0.001610</td>\n",
       "      <td>...</td>\n",
       "      <td>-0.001952</td>\n",
       "      <td>0.002247</td>\n",
       "      <td>-0.001446</td>\n",
       "      <td>0.005357</td>\n",
       "      <td>0.001372</td>\n",
       "      <td>201811</td>\n",
       "      <td>2</td>\n",
       "      <td>3</td>\n",
       "      <td>9.0</td>\n",
       "      <td>0.666694</td>\n",
       "    </tr>\n",
       "  </tbody>\n",
       "</table>\n",
       "<p>6827 rows × 105 columns</p>\n",
       "</div>"
      ],
      "text/plain": [
       "            C1        C2        C3        C4        C5        C6        C7  \\\n",
       "0    -0.254655 -0.180008  0.079563  0.070877 -0.192541  0.077792 -0.448351   \n",
       "1    -0.004634 -0.000451 -0.002377  0.001738  0.002353 -0.002076 -0.001646   \n",
       "2    -0.090797 -0.074224  0.031453  0.027766 -0.072613  0.033135 -0.166600   \n",
       "3    -0.094661 -0.060435  0.034314  0.022429 -0.064252  0.033394 -0.163963   \n",
       "4    -0.069848 -0.047059  0.025222  0.024263 -0.053081  0.019989 -0.122335   \n",
       "...        ...       ...       ...       ...       ...       ...       ...   \n",
       "6822 -0.002168 -0.000209 -0.000484  0.002279 -0.000793 -0.014988  0.002322   \n",
       "6823  0.004208  0.003021 -0.002001  0.004101 -0.001609 -0.011579 -0.000478   \n",
       "6824  0.002363 -0.004255 -0.001592  0.000356 -0.004535 -0.008412  0.003942   \n",
       "6825 -0.000348  0.000295  0.001817 -0.000890 -0.004176 -0.009533  0.005809   \n",
       "6826 -0.001458 -0.003801 -0.000547  0.004080  0.001195 -0.006765  0.006222   \n",
       "\n",
       "            C8        C9       C10  ...       C96       C97       C98  \\\n",
       "0    -0.005136 -0.045940  0.086399  ... -0.156364  0.134341  0.130209   \n",
       "1     0.000074 -0.002536 -0.003283  ... -0.003176  0.003060 -0.003545   \n",
       "2     0.003850 -0.014339  0.029680  ... -0.057482  0.052950  0.051991   \n",
       "3    -0.005994 -0.021203  0.026608  ... -0.057478  0.053035  0.054524   \n",
       "4     0.004043 -0.018609  0.025090  ... -0.044975  0.035820  0.039669   \n",
       "...        ...       ...       ...  ...       ...       ...       ...   \n",
       "6822 -0.009567  0.015889  0.004932  ... -0.007506 -0.007278 -0.005591   \n",
       "6823 -0.010427  0.011020 -0.000198  ... -0.002880  0.001137 -0.002063   \n",
       "6824 -0.000890  0.005060  0.004563  ... -0.005844 -0.000416  0.001187   \n",
       "6825 -0.001022  0.009670  0.005552  ...  0.002025 -0.001968  0.001791   \n",
       "6826 -0.006638  0.002553  0.001610  ... -0.001952  0.002247 -0.001446   \n",
       "\n",
       "           C99      C100  period  closer#  category  label  Silhouette  \n",
       "0     0.255739  0.099466  201812        2         3   13.0    0.698785  \n",
       "1     0.000769  0.004266  201812        2         3    5.0    0.698785  \n",
       "2     0.090085  0.033742  201812        2         3   11.0    0.698785  \n",
       "3     0.089103  0.039398  201812        2         3   11.0    0.698785  \n",
       "4     0.067841  0.019547  201812        2         3   11.0    0.698785  \n",
       "...        ...       ...     ...      ...       ...    ...         ...  \n",
       "6822  0.005405  0.006519  201811        2         3    9.0    0.666694  \n",
       "6823  0.002997  0.009461  201811        2         3    9.0    0.666694  \n",
       "6824  0.003191 -0.000146  201811        2         3    9.0    0.666694  \n",
       "6825  0.002730  0.008238  201811        2         3    9.0    0.666694  \n",
       "6826  0.005357  0.001372  201811        2         3    9.0    0.666694  \n",
       "\n",
       "[6827 rows x 105 columns]"
      ]
     },
     "execution_count": 24,
     "metadata": {},
     "output_type": "execute_result"
    }
   ],
   "source": [
    "X_test"
   ]
  },
  {
   "cell_type": "code",
   "execution_count": 25,
   "metadata": {
    "pycharm": {
     "name": "#%%\n"
    }
   },
   "outputs": [],
   "source": [
    "rf_clf = RandomForestClassifier(random_state = 11 ,n_jobs=-1) # random forest"
   ]
  },
  {
   "cell_type": "code",
   "execution_count": 26,
   "metadata": {
    "pycharm": {
     "name": "#%%\n"
    }
   },
   "outputs": [],
   "source": [
    "rf_clf.fit(X_train, y_train)\n",
    "\n",
    "y_score = rf_clf.predict_proba(X_test)\n",
    "\n"
   ]
  },
  {
   "cell_type": "code",
   "execution_count": 27,
   "metadata": {
    "pycharm": {
     "name": "#%%\n"
    }
   },
   "outputs": [],
   "source": [
    "rf_pred = rf_clf.predict(X_test)  # random forest predict"
   ]
  },
  {
   "cell_type": "code",
   "execution_count": 28,
   "metadata": {
    "pycharm": {
     "name": "#%%\n"
    }
   },
   "outputs": [
    {
     "name": "stdout",
     "output_type": "stream",
     "text": [
      "Random Forest Accuracy :   0.7525999707045554\n",
      "Random Forest Precision :   0.5664067159044976\n",
      "Random Forest Recall :   0.7525999707045554\n",
      "Random Forest f1 :   0.6463616630973682\n"
     ]
    },
    {
     "name": "stderr",
     "output_type": "stream",
     "text": [
      "/Users/hongminpyo/opt/anaconda3/lib/python3.7/site-packages/sklearn/metrics/_classification.py:1270: UserWarning: Note that pos_label (set to 'positive') is ignored when average != 'binary' (got 'weighted'). You may use labels=[pos_label] to specify a single positive class.\n",
      "  % (pos_label, average), UserWarning)\n",
      "/Users/hongminpyo/opt/anaconda3/lib/python3.7/site-packages/sklearn/metrics/_classification.py:1221: UndefinedMetricWarning: Precision is ill-defined and being set to 0.0 in labels with no predicted samples. Use `zero_division` parameter to control this behavior.\n",
      "  _warn_prf(average, modifier, msg_start, len(result))\n"
     ]
    }
   ],
   "source": [
    "print('Random Forest Accuracy :  ',accuracy_score(y_test,rf_pred))\n",
    "print('Random Forest Precision :  ',precision_score(y_test,rf_pred,pos_label='positive',average='weighted'))\n",
    "print('Random Forest Recall :  ',recall_score(y_test,rf_pred,pos_label='positive',average='weighted'))\n",
    "print('Random Forest f1 :  ',f1_score(y_test,rf_pred,pos_label='positive',average='weighted'))"
   ]
  },
  {
   "cell_type": "code",
   "execution_count": 29,
   "metadata": {
    "pycharm": {
     "name": "#%%\n"
    }
   },
   "outputs": [
    {
     "data": {
      "text/plain": [
       "array([[0.55, 0.19, 0.26],\n",
       "       [0.64, 0.21, 0.15],\n",
       "       [0.61, 0.17, 0.22],\n",
       "       ...,\n",
       "       [0.74, 0.16, 0.1 ],\n",
       "       [0.67, 0.16, 0.17],\n",
       "       [0.69, 0.18, 0.13]])"
      ]
     },
     "execution_count": 29,
     "metadata": {},
     "output_type": "execute_result"
    }
   ],
   "source": [
    "y_score"
   ]
  },
  {
   "cell_type": "code",
   "execution_count": 30,
   "metadata": {
    "pycharm": {
     "name": "#%%\n"
    }
   },
   "outputs": [
    {
     "name": "stdout",
     "output_type": "stream",
     "text": [
      "0       2\n",
      "1       2\n",
      "2       2\n",
      "3       2\n",
      "4       2\n",
      "       ..\n",
      "6822    1\n",
      "6823    1\n",
      "6824    1\n",
      "6825    1\n",
      "6826    1\n",
      "Name: result, Length: 6827, dtype: int64\n",
      "[[0 1 0]\n",
      " [0 1 0]\n",
      " [0 1 0]\n",
      " ...\n",
      " [1 0 0]\n",
      " [1 0 0]\n",
      " [1 0 0]]\n",
      "class :  0 == 0.5863203412920044\n",
      "class :  1 == 0.8829861252751472\n",
      "class :  2 == nan\n"
     ]
    },
    {
     "name": "stderr",
     "output_type": "stream",
     "text": [
      "/Users/hongminpyo/opt/anaconda3/lib/python3.7/site-packages/sklearn/metrics/_ranking.py:813: UndefinedMetricWarning: No positive samples in y_true, true positive value should be meaningless\n",
      "  UndefinedMetricWarning)\n"
     ]
    }
   ],
   "source": [
    "from sklearn.preprocessing import label_binarize\n",
    "\n",
    "# Compute ROC curve and ROC area for each class\n",
    "fpr = dict()\n",
    "tpr = dict()\n",
    "roc_auc = dict()\n",
    "\n",
    "y_test_roc =label_binarize(y_test, classes=[1, 2, 3])\n",
    "\n",
    "print(y_test)\n",
    "print(y_test_roc)\n",
    "\n",
    "for i in range(3):\n",
    "    fpr[i], tpr[i], _ = roc_curve(y_test_roc[:, i], y_score[:, i])\n",
    "    roc_auc[i] = auc(fpr[i], tpr[i])\n",
    "    print('class : ',i,'==',roc_auc[i])\n",
    "\n"
   ]
  },
  {
   "cell_type": "code",
   "execution_count": 31,
   "metadata": {
    "pycharm": {
     "name": "#%%\n"
    }
   },
   "outputs": [],
   "source": [
    "# Compute micro-average ROC curve and ROC area\n",
    "fpr[\"micro\"], tpr[\"micro\"], _ = roc_curve(y_test_roc.ravel(), y_score.ravel())\n",
    "roc_auc[\"micro\"] = auc(fpr[\"micro\"], tpr[\"micro\"])"
   ]
  },
  {
   "cell_type": "code",
   "execution_count": 32,
   "metadata": {
    "pycharm": {
     "name": "#%%\n"
    }
   },
   "outputs": [
    {
     "data": {
      "image/png": "[encoded data removed]",
      "text/plain": [
       "<Figure size 432x288 with 1 Axes>"
      ]
     },
     "metadata": {
      "needs_background": "light"
     },
     "output_type": "display_data"
    }
   ],
   "source": [
    "plt.figure()\n",
    "lw = 2\n",
    "plt.plot(fpr[0], tpr[0], color='darkorange',\n",
    "         lw=lw, label='ROC curve (area = %0.2f)' % roc_auc[2])\n",
    "plt.plot([0, 1], [0, 1], color='navy', lw=lw, linestyle='--')\n",
    "plt.xlim([0.0, 1.0])\n",
    "plt.ylim([0.0, 1.05])\n",
    "plt.xlabel('False Positive Rate')\n",
    "plt.ylabel('True Positive Rate')\n",
    "plt.title('Receiver operating characteristic example')\n",
    "plt.legend(loc=\"lower right\")\n",
    "plt.show()"
   ]
  },
  {
   "cell_type": "code",
   "execution_count": 33,
   "metadata": {
    "pycharm": {
     "name": "#%%\n"
    }
   },
   "outputs": [
    {
     "data": {
      "image/png": "[encoded data removed]",
      "text/plain": [
       "<Figure size 432x288 with 1 Axes>"
      ]
     },
     "metadata": {
      "needs_background": "light"
     },
     "output_type": "display_data"
    }
   ],
   "source": [
    "from scipy import interp\n",
    "from itertools import cycle\n",
    "\n",
    "# First aggregate all false positive rates\n",
    "all_fpr = np.unique(np.concatenate([fpr[i] for i in range(3)]))\n",
    "\n",
    "# Then interpolate all ROC curves at this points\n",
    "mean_tpr = np.zeros_like(all_fpr)\n",
    "for i in range(3):\n",
    "    mean_tpr += interp(all_fpr, fpr[i], tpr[i])\n",
    "\n",
    "# Finally average it and compute AUC\n",
    "mean_tpr /= 3\n",
    "\n",
    "fpr[\"macro\"] = all_fpr\n",
    "tpr[\"macro\"] = mean_tpr\n",
    "roc_auc[\"macro\"] = auc(fpr[\"macro\"], tpr[\"macro\"])\n",
    "\n",
    "# Plot all ROC curves\n",
    "plt.figure()\n",
    "plt.plot(fpr[\"micro\"], tpr[\"micro\"],\n",
    "         label='micro-average ROC curve (area = {0:0.2f})'\n",
    "               ''.format(roc_auc[\"micro\"]),\n",
    "         color='deeppink', linestyle=':', linewidth=4)\n",
    "\n",
    "plt.plot(fpr[\"macro\"], tpr[\"macro\"],\n",
    "         label='macro-average ROC curve (area = {0:0.2f})'\n",
    "               ''.format(roc_auc[\"macro\"]),\n",
    "         color='navy', linestyle=':', linewidth=4)\n",
    "\n",
    "colors = cycle(['aqua', 'darkorange', 'cornflowerblue'])\n",
    "for i, color in zip(range(3), colors):\n",
    "    plt.plot(fpr[i], tpr[i], color=color, lw=lw,\n",
    "             label='ROC curve of class {0} (area = {1:0.2f})'\n",
    "             ''.format(i, roc_auc[i]))\n",
    "\n",
    "plt.plot([0, 1], [0, 1], 'k--', lw=lw)\n",
    "plt.xlim([0.0, 1.0])\n",
    "plt.ylim([0.0, 1.05])\n",
    "plt.xlabel('False Positive Rate')\n",
    "plt.ylabel('True Positive Rate')\n",
    "plt.title('Some extension of Receiver operating characteristic to multi-class')\n",
    "plt.legend(loc=\"lower right\")\n",
    "plt.show()"
   ]
  },
  {
   "cell_type": "code",
   "execution_count": 34,
   "metadata": {
    "pycharm": {
     "name": "#%%\n"
    }
   },
   "outputs": [],
   "source": [
    "dt_clf = DecisionTreeClassifier(random_state = 11)\n",
    "dt_clf.fit(X_train,y_train)\n",
    "dt_pred = dt_clf.predict(X_test)"
   ]
  },
  {
   "cell_type": "code",
   "execution_count": 35,
   "metadata": {
    "pycharm": {
     "name": "#%%\n"
    }
   },
   "outputs": [
    {
     "name": "stdout",
     "output_type": "stream",
     "text": [
      "Decision Tree Accuracy :   0.7525999707045554\n",
      "Decision Tree Precision :   0.5664067159044976\n",
      "Decision Tree Recall :   0.7525999707045554\n",
      "Decision Tree f1 :   0.6463616630973682\n"
     ]
    },
    {
     "name": "stderr",
     "output_type": "stream",
     "text": [
      "/Users/hongminpyo/opt/anaconda3/lib/python3.7/site-packages/sklearn/metrics/_classification.py:1270: UserWarning: Note that pos_label (set to 'positive') is ignored when average != 'binary' (got 'weighted'). You may use labels=[pos_label] to specify a single positive class.\n",
      "  % (pos_label, average), UserWarning)\n",
      "/Users/hongminpyo/opt/anaconda3/lib/python3.7/site-packages/sklearn/metrics/_classification.py:1221: UndefinedMetricWarning: Precision is ill-defined and being set to 0.0 in labels with no predicted samples. Use `zero_division` parameter to control this behavior.\n",
      "  _warn_prf(average, modifier, msg_start, len(result))\n"
     ]
    }
   ],
   "source": [
    "print('Decision Tree Accuracy :  ',accuracy_score(y_test,dt_pred))\n",
    "print('Decision Tree Precision :  ',precision_score(y_test,dt_pred,pos_label='positive',average='weighted'))\n",
    "print('Decision Tree Recall :  ',recall_score(y_test,dt_pred,pos_label='positive',average='weighted'))\n",
    "print('Decision Tree f1 :  ',f1_score(y_test,dt_pred,pos_label='positive',average='weighted'))"
   ]
  },
  {
   "cell_type": "code",
   "execution_count": 36,
   "metadata": {},
   "outputs": [],
   "source": [
    "y_score = dt_clf.predict_proba(X_test)"
   ]
  },
  {
   "cell_type": "code",
   "execution_count": 37,
   "metadata": {},
   "outputs": [],
   "source": [
    "fpr = dict()\n",
    "tpr = dict()\n",
    "roc_auc = dict()"
   ]
  },
  {
   "cell_type": "code",
   "execution_count": 38,
   "metadata": {},
   "outputs": [
    {
     "name": "stdout",
     "output_type": "stream",
     "text": [
      "class :  0 == 0.5\n",
      "class :  1 == 0.5\n",
      "class :  2 == nan\n"
     ]
    },
    {
     "name": "stderr",
     "output_type": "stream",
     "text": [
      "/Users/hongminpyo/opt/anaconda3/lib/python3.7/site-packages/sklearn/metrics/_ranking.py:813: UndefinedMetricWarning: No positive samples in y_true, true positive value should be meaningless\n",
      "  UndefinedMetricWarning)\n"
     ]
    }
   ],
   "source": [
    "for i in range(3):\n",
    "    fpr[i], tpr[i], _ = roc_curve(y_test_roc[:, i], y_score[:, i])\n",
    "    roc_auc[i] = auc(fpr[i], tpr[i])\n",
    "    print('class : ',i,'==',roc_auc[i])"
   ]
  },
  {
   "cell_type": "code",
   "execution_count": 39,
   "metadata": {},
   "outputs": [],
   "source": [
    "# Compute micro-average ROC curve and ROC area\n",
    "fpr[\"micro\"], tpr[\"micro\"], _ = roc_curve(y_test_roc.ravel(), y_score.ravel())\n",
    "roc_auc[\"micro\"] = auc(fpr[\"micro\"], tpr[\"micro\"])"
   ]
  },
  {
   "cell_type": "code",
   "execution_count": 40,
   "metadata": {},
   "outputs": [
    {
     "data": {
      "image/png": "[encoded data removed]",
      "text/plain": [
       "<Figure size 432x288 with 1 Axes>"
      ]
     },
     "metadata": {
      "needs_background": "light"
     },
     "output_type": "display_data"
    }
   ],
   "source": [
    "# First aggregate all false positive rates\n",
    "all_fpr = np.unique(np.concatenate([fpr[i] for i in range(3)]))\n",
    "\n",
    "# Then interpolate all ROC curves at this points\n",
    "mean_tpr = np.zeros_like(all_fpr)\n",
    "for i in range(3):\n",
    "    mean_tpr += interp(all_fpr, fpr[i], tpr[i])\n",
    "\n",
    "# Finally average it and compute AUC\n",
    "mean_tpr /= 3\n",
    "\n",
    "fpr[\"macro\"] = all_fpr\n",
    "tpr[\"macro\"] = mean_tpr\n",
    "roc_auc[\"macro\"] = auc(fpr[\"macro\"], tpr[\"macro\"])\n",
    "\n",
    "# Plot all ROC curves\n",
    "plt.figure()\n",
    "plt.plot(fpr[\"micro\"], tpr[\"micro\"],\n",
    "         label='micro-average ROC curve (area = {0:0.2f})'\n",
    "               ''.format(roc_auc[\"micro\"]),\n",
    "         color='deeppink', linestyle=':', linewidth=4)\n",
    "\n",
    "plt.plot(fpr[\"macro\"], tpr[\"macro\"],\n",
    "         label='macro-average ROC curve (area = {0:0.2f})'\n",
    "               ''.format(roc_auc[\"macro\"]),\n",
    "         color='navy', linestyle=':', linewidth=4)\n",
    "\n",
    "colors = cycle(['aqua', 'darkorange', 'cornflowerblue'])\n",
    "for i, color in zip(range(3), colors):\n",
    "    plt.plot(fpr[i], tpr[i], color=color, lw=lw,\n",
    "             label='ROC curve of class {0} (area = {1:0.2f})'\n",
    "             ''.format(i, roc_auc[i]))\n",
    "\n",
    "plt.plot([0, 1], [0, 1], 'k--', lw=lw)\n",
    "plt.xlim([0.0, 1.0])\n",
    "plt.ylim([0.0, 1.05])\n",
    "plt.xlabel('False Positive Rate')\n",
    "plt.ylabel('True Positive Rate')\n",
    "plt.title('Some extension of Receiver operating characteristic to multi-class')\n",
    "plt.legend(loc=\"lower right\")\n",
    "plt.show()"
   ]
  },
  {
   "cell_type": "code",
   "execution_count": 41,
   "metadata": {
    "pycharm": {
     "name": "#%%\n"
    }
   },
   "outputs": [],
   "source": [
    "#gb_clf = GradientBoostingClassifier(random_state = 11) # random forest\n",
    "lgbm_clf =  LGBMClassifier(random_state = 11)"
   ]
  },
  {
   "cell_type": "code",
   "execution_count": 42,
   "metadata": {
    "pycharm": {
     "name": "#%%\n"
    }
   },
   "outputs": [],
   "source": [
    "#gb_clf.fit(X_train,y_train)\n",
    "#gb_pred = gb_clf.predict(X_test)\n",
    "\n",
    "lgbm_clf.fit(X_train,y_train)\n",
    "lgbm_pred = lgbm_clf.predict(X_test)"
   ]
  },
  {
   "cell_type": "code",
   "execution_count": 43,
   "metadata": {
    "pycharm": {
     "name": "#%%\n"
    }
   },
   "outputs": [
    {
     "name": "stdout",
     "output_type": "stream",
     "text": [
      "Light GBM Accuracy :   0.7525999707045554\n",
      "Light GBM Precision :   0.5664067159044976\n",
      "Light GBM Recall :   0.7525999707045554\n",
      "Light GBM f1 :   0.6463616630973682\n"
     ]
    },
    {
     "name": "stderr",
     "output_type": "stream",
     "text": [
      "/Users/hongminpyo/opt/anaconda3/lib/python3.7/site-packages/sklearn/metrics/_classification.py:1270: UserWarning: Note that pos_label (set to 'positive') is ignored when average != 'binary' (got 'weighted'). You may use labels=[pos_label] to specify a single positive class.\n",
      "  % (pos_label, average), UserWarning)\n",
      "/Users/hongminpyo/opt/anaconda3/lib/python3.7/site-packages/sklearn/metrics/_classification.py:1221: UndefinedMetricWarning: Precision is ill-defined and being set to 0.0 in labels with no predicted samples. Use `zero_division` parameter to control this behavior.\n",
      "  _warn_prf(average, modifier, msg_start, len(result))\n"
     ]
    }
   ],
   "source": [
    "#print('Gredient Boosting Accuracy :  ',accuracy_score(y_test,gb_pred))\n",
    "#print('Gredient Boosting Precision :  ',precision_score(y_test,gb_pred,pos_label='positive',average='weighted'))\n",
    "#print('Gredient Boosting Recall :  ',recall_score(y_test,gb_pred,pos_label='positive',average='weighted'))\n",
    "#print('Gredient Boosting f1 :  ',f1_score(y_test,gb_pred,pos_label='positive',average='weighted'))\n",
    "print('Light GBM Accuracy :  ',accuracy_score(y_test,lgbm_pred))\n",
    "print('Light GBM Precision :  ',precision_score(y_test,lgbm_pred,pos_label='positive',average='weighted'))\n",
    "print('Light GBM Recall :  ',recall_score(y_test,lgbm_pred,pos_label='positive',average='weighted'))\n",
    "print('Light GBM f1 :  ',f1_score(y_test,lgbm_pred,pos_label='positive',average='weighted'))"
   ]
  },
  {
   "cell_type": "code",
   "execution_count": 44,
   "metadata": {},
   "outputs": [],
   "source": [
    "y_score = lgbm_clf.predict_proba(X_test)\n",
    "\n",
    "fpr = dict()\n",
    "tpr = dict()\n",
    "roc_auc = dict()"
   ]
  },
  {
   "cell_type": "code",
   "execution_count": 45,
   "metadata": {},
   "outputs": [
    {
     "name": "stdout",
     "output_type": "stream",
     "text": [
      "class :  0 == 0.7794750614248632\n",
      "class :  1 == 0.8645151659087804\n",
      "class :  2 == nan\n"
     ]
    }
   ],
   "source": [
    "for i in range(3):\n",
    "    fpr[i], tpr[i], _ = roc_curve(y_test_roc[:, i], y_score[:, i])\n",
    "    roc_auc[i] = auc(fpr[i], tpr[i])\n",
    "    print('class : ',i,'==',roc_auc[i])"
   ]
  },
  {
   "cell_type": "code",
   "execution_count": 46,
   "metadata": {},
   "outputs": [],
   "source": [
    "# Compute micro-average ROC curve and ROC area\n",
    "fpr[\"micro\"], tpr[\"micro\"], _ = roc_curve(y_test_roc.ravel(), y_score.ravel())\n",
    "roc_auc[\"micro\"] = auc(fpr[\"micro\"], tpr[\"micro\"])"
   ]
  },
  {
   "cell_type": "code",
   "execution_count": 47,
   "metadata": {},
   "outputs": [
    {
     "data": {
      "image/png": "[encoded data removed]",
      "text/plain": [
       "<Figure size 432x288 with 1 Axes>"
      ]
     },
     "metadata": {
      "needs_background": "light"
     },
     "output_type": "display_data"
    }
   ],
   "source": [
    "# First aggregate all false positive rates\n",
    "all_fpr = np.unique(np.concatenate([fpr[i] for i in range(3)]))\n",
    "\n",
    "# Then interpolate all ROC curves at this points\n",
    "mean_tpr = np.zeros_like(all_fpr)\n",
    "for i in range(3):\n",
    "    mean_tpr += interp(all_fpr, fpr[i], tpr[i])\n",
    "\n",
    "# Finally average it and compute AUC\n",
    "mean_tpr /= 3\n",
    "\n",
    "fpr[\"macro\"] = all_fpr\n",
    "tpr[\"macro\"] = mean_tpr\n",
    "roc_auc[\"macro\"] = auc(fpr[\"macro\"], tpr[\"macro\"])\n",
    "\n",
    "# Plot all ROC curves\n",
    "plt.figure()\n",
    "plt.plot(fpr[\"micro\"], tpr[\"micro\"],\n",
    "         label='micro-average ROC curve (area = {0:0.2f})'\n",
    "               ''.format(roc_auc[\"micro\"]),\n",
    "         color='deeppink', linestyle=':', linewidth=4)\n",
    "\n",
    "plt.plot(fpr[\"macro\"], tpr[\"macro\"],\n",
    "         label='macro-average ROC curve (area = {0:0.2f})'\n",
    "               ''.format(roc_auc[\"macro\"]),\n",
    "         color='navy', linestyle=':', linewidth=4)\n",
    "\n",
    "colors = cycle(['aqua', 'darkorange', 'cornflowerblue'])\n",
    "for i, color in zip(range(3), colors):\n",
    "    plt.plot(fpr[i], tpr[i], color=color, lw=lw,\n",
    "             label='ROC curve of class {0} (area = {1:0.2f})'\n",
    "             ''.format(i, roc_auc[i]))\n",
    "\n",
    "plt.plot([0, 1], [0, 1], 'k--', lw=lw)\n",
    "plt.xlim([0.0, 1.0])\n",
    "plt.ylim([0.0, 1.05])\n",
    "plt.xlabel('False Positive Rate')\n",
    "plt.ylabel('True Positive Rate')\n",
    "plt.title('Some extension of Receiver operating characteristic to multi-class')\n",
    "plt.legend(loc=\"lower right\")\n",
    "plt.show()"
   ]
  },
  {
   "cell_type": "code",
   "execution_count": 48,
   "metadata": {
    "pycharm": {
     "name": "#%%\n"
    }
   },
   "outputs": [],
   "source": [
    "lr_clf = LogisticRegression(random_state = 11)"
   ]
  },
  {
   "cell_type": "code",
   "execution_count": 49,
   "metadata": {
    "pycharm": {
     "name": "#%%\n"
    }
   },
   "outputs": [],
   "source": [
    "lr_clf.fit(X_train,y_train)\n",
    "lr_pred = lr_clf.predict(X_test)"
   ]
  },
  {
   "cell_type": "code",
   "execution_count": 50,
   "metadata": {
    "pycharm": {
     "name": "#%%\n"
    }
   },
   "outputs": [
    {
     "name": "stdout",
     "output_type": "stream",
     "text": [
      "Logistic Regression Accuracy :   0.7525999707045554\n",
      "Logistic Regression  Precision :   0.5664067159044976\n",
      "Logistic Regression  Recall :   0.7525999707045554\n",
      "Logistic Regression  f1 :   0.6463616630973682\n"
     ]
    },
    {
     "name": "stderr",
     "output_type": "stream",
     "text": [
      "/Users/hongminpyo/opt/anaconda3/lib/python3.7/site-packages/sklearn/metrics/_classification.py:1270: UserWarning: Note that pos_label (set to 'positive') is ignored when average != 'binary' (got 'weighted'). You may use labels=[pos_label] to specify a single positive class.\n",
      "  % (pos_label, average), UserWarning)\n",
      "/Users/hongminpyo/opt/anaconda3/lib/python3.7/site-packages/sklearn/metrics/_classification.py:1221: UndefinedMetricWarning: Precision is ill-defined and being set to 0.0 in labels with no predicted samples. Use `zero_division` parameter to control this behavior.\n",
      "  _warn_prf(average, modifier, msg_start, len(result))\n"
     ]
    }
   ],
   "source": [
    "print('Logistic Regression Accuracy :  ',accuracy_score(y_test,lr_pred))\n",
    "print('Logistic Regression  Precision :  ',precision_score(y_test,lr_pred,pos_label='positive',average='weighted'))\n",
    "print('Logistic Regression  Recall :  ',recall_score(y_test,lr_pred,pos_label='positive',average='weighted'))\n",
    "print('Logistic Regression  f1 :  ',f1_score(y_test,lr_pred,pos_label='positive',average='weighted'))"
   ]
  },
  {
   "cell_type": "code",
   "execution_count": 51,
   "metadata": {
    "pycharm": {
     "name": "#%%\n"
    }
   },
   "outputs": [],
   "source": [
    "y_score = lr_clf.predict_proba(X_test)\n",
    "\n",
    "y_score = np.round(y_score,5)\n",
    "\n",
    "fpr = dict()\n",
    "tpr = dict()\n",
    "roc_auc = dict()"
   ]
  },
  {
   "cell_type": "code",
   "execution_count": 52,
   "metadata": {
    "pycharm": {
     "name": "#%%\n"
    }
   },
   "outputs": [
    {
     "name": "stdout",
     "output_type": "stream",
     "text": [
      "class :  0 == 0.5\n",
      "class :  1 == 0.5\n",
      "class :  2 == nan\n"
     ]
    },
    {
     "name": "stderr",
     "output_type": "stream",
     "text": [
      "/Users/hongminpyo/opt/anaconda3/lib/python3.7/site-packages/sklearn/metrics/_ranking.py:813: UndefinedMetricWarning: No positive samples in y_true, true positive value should be meaningless\n",
      "  UndefinedMetricWarning)\n"
     ]
    }
   ],
   "source": [
    "for i in range(3):\n",
    "    fpr[i], tpr[i], _ = roc_curve(y_test_roc[:, i], y_score[:, i])\n",
    "    roc_auc[i] = auc(fpr[i], tpr[i])\n",
    "    print('class : ',i,'==',roc_auc[i])"
   ]
  },
  {
   "cell_type": "code",
   "execution_count": 53,
   "metadata": {
    "pycharm": {
     "name": "#%%\n"
    }
   },
   "outputs": [],
   "source": [
    "# Compute micro-average ROC curve and ROC area\n",
    "fpr[\"micro\"], tpr[\"micro\"], _ = roc_curve(y_test_roc.ravel(), y_score.ravel())\n",
    "roc_auc[\"micro\"] = auc(fpr[\"micro\"], tpr[\"micro\"])"
   ]
  },
  {
   "cell_type": "code",
   "execution_count": 54,
   "metadata": {
    "pycharm": {
     "name": "#%%\n"
    }
   },
   "outputs": [
    {
     "data": {
      "image/png": "[encoded data removed]",
      "text/plain": [
       "<Figure size 432x288 with 1 Axes>"
      ]
     },
     "metadata": {
      "needs_background": "light"
     },
     "output_type": "display_data"
    }
   ],
   "source": [
    "# First aggregate all false positive rates\n",
    "all_fpr = np.unique(np.concatenate([fpr[i] for i in range(3)]))\n",
    "\n",
    "# Then interpolate all ROC curves at this points\n",
    "mean_tpr = np.zeros_like(all_fpr)\n",
    "for i in range(3):\n",
    "    mean_tpr += interp(all_fpr, fpr[i], tpr[i])\n",
    "\n",
    "# Finally average it and compute AUC\n",
    "mean_tpr /= 3\n",
    "\n",
    "fpr[\"macro\"] = all_fpr\n",
    "tpr[\"macro\"] = mean_tpr\n",
    "roc_auc[\"macro\"] = auc(fpr[\"macro\"], tpr[\"macro\"])\n",
    "\n",
    "# Plot all ROC curves\n",
    "plt.figure()\n",
    "plt.plot(fpr[\"micro\"], tpr[\"micro\"],\n",
    "         label='micro-average ROC curve (area = {0:0.2f})'\n",
    "               ''.format(roc_auc[\"micro\"]),\n",
    "         color='deeppink', linestyle=':', linewidth=4)\n",
    "\n",
    "plt.plot(fpr[\"macro\"], tpr[\"macro\"],\n",
    "         label='macro-average ROC curve (area = {0:0.2f})'\n",
    "               ''.format(roc_auc[\"macro\"]),\n",
    "         color='navy', linestyle=':', linewidth=4)\n",
    "\n",
    "colors = cycle(['aqua', 'darkorange', 'cornflowerblue'])\n",
    "for i, color in zip(range(3), colors):\n",
    "    plt.plot(fpr[i], tpr[i], color=color, lw=lw,\n",
    "             label='ROC curve of class {0} (area = {1:0.2f})'\n",
    "             ''.format(i, roc_auc[i]))\n",
    "\n",
    "plt.plot([0, 1], [0, 1], 'k--', lw=lw)\n",
    "plt.xlim([0.0, 1.0])\n",
    "plt.ylim([0.0, 1.05])\n",
    "plt.xlabel('False Positive Rate')\n",
    "plt.ylabel('True Positive Rate')\n",
    "plt.title('Some extension of Receiver operating characteristic to multi-class')\n",
    "plt.legend(loc=\"lower right\")\n",
    "plt.show()"
   ]
  },
  {
   "cell_type": "code",
   "execution_count": 55,
   "metadata": {
    "pycharm": {
     "name": "#%%\n"
    }
   },
   "outputs": [
    {
     "name": "stderr",
     "output_type": "stream",
     "text": [
      "Using TensorFlow backend.\n"
     ]
    }
   ],
   "source": [
    "from numpy import loadtxt\n",
    "from keras.models import Sequential\n",
    "from keras.layers import Dense"
   ]
  },
  {
   "cell_type": "code",
   "execution_count": 56,
   "metadata": {
    "pycharm": {
     "name": "#%%\n"
    }
   },
   "outputs": [
    {
     "data": {
      "text/html": [
       "<div>\n",
       "<style scoped>\n",
       "    .dataframe tbody tr th:only-of-type {\n",
       "        vertical-align: middle;\n",
       "    }\n",
       "\n",
       "    .dataframe tbody tr th {\n",
       "        vertical-align: top;\n",
       "    }\n",
       "\n",
       "    .dataframe thead th {\n",
       "        text-align: right;\n",
       "    }\n",
       "</style>\n",
       "<table border=\"1\" class=\"dataframe\">\n",
       "  <thead>\n",
       "    <tr style=\"text-align: right;\">\n",
       "      <th></th>\n",
       "      <th>C1</th>\n",
       "      <th>C10</th>\n",
       "      <th>C100</th>\n",
       "      <th>C11</th>\n",
       "      <th>C12</th>\n",
       "      <th>C13</th>\n",
       "      <th>C14</th>\n",
       "      <th>C15</th>\n",
       "      <th>C16</th>\n",
       "      <th>C17</th>\n",
       "      <th>...</th>\n",
       "      <th>C95</th>\n",
       "      <th>C96</th>\n",
       "      <th>C97</th>\n",
       "      <th>C98</th>\n",
       "      <th>C99</th>\n",
       "      <th>Silhouette</th>\n",
       "      <th>category</th>\n",
       "      <th>closer#</th>\n",
       "      <th>label</th>\n",
       "      <th>period</th>\n",
       "    </tr>\n",
       "  </thead>\n",
       "  <tbody>\n",
       "    <tr>\n",
       "      <td>0</td>\n",
       "      <td>-0.001495</td>\n",
       "      <td>0.002059</td>\n",
       "      <td>-0.003641</td>\n",
       "      <td>0.002519</td>\n",
       "      <td>-0.000030</td>\n",
       "      <td>-0.000061</td>\n",
       "      <td>0.000266</td>\n",
       "      <td>-0.001268</td>\n",
       "      <td>-0.005870</td>\n",
       "      <td>0.004812</td>\n",
       "      <td>...</td>\n",
       "      <td>-0.001215</td>\n",
       "      <td>-0.005617</td>\n",
       "      <td>-0.000767</td>\n",
       "      <td>0.003659</td>\n",
       "      <td>-0.001297</td>\n",
       "      <td>0.126229</td>\n",
       "      <td>3.0</td>\n",
       "      <td>2</td>\n",
       "      <td>1.0</td>\n",
       "      <td>202011</td>\n",
       "    </tr>\n",
       "    <tr>\n",
       "      <td>1</td>\n",
       "      <td>-0.021860</td>\n",
       "      <td>0.025023</td>\n",
       "      <td>-0.030539</td>\n",
       "      <td>-0.053737</td>\n",
       "      <td>-0.034043</td>\n",
       "      <td>-0.106272</td>\n",
       "      <td>0.101318</td>\n",
       "      <td>0.046353</td>\n",
       "      <td>-0.032074</td>\n",
       "      <td>0.056494</td>\n",
       "      <td>...</td>\n",
       "      <td>-0.085919</td>\n",
       "      <td>-0.086635</td>\n",
       "      <td>-0.032728</td>\n",
       "      <td>0.003305</td>\n",
       "      <td>0.029844</td>\n",
       "      <td>0.126229</td>\n",
       "      <td>3.0</td>\n",
       "      <td>2</td>\n",
       "      <td>12.0</td>\n",
       "      <td>202011</td>\n",
       "    </tr>\n",
       "    <tr>\n",
       "      <td>2</td>\n",
       "      <td>-0.006153</td>\n",
       "      <td>0.000252</td>\n",
       "      <td>-0.000431</td>\n",
       "      <td>-0.007744</td>\n",
       "      <td>-0.001371</td>\n",
       "      <td>-0.012007</td>\n",
       "      <td>0.004584</td>\n",
       "      <td>-0.001146</td>\n",
       "      <td>-0.006225</td>\n",
       "      <td>0.003439</td>\n",
       "      <td>...</td>\n",
       "      <td>-0.002505</td>\n",
       "      <td>-0.002000</td>\n",
       "      <td>-0.006141</td>\n",
       "      <td>-0.000919</td>\n",
       "      <td>0.005992</td>\n",
       "      <td>0.126229</td>\n",
       "      <td>3.0</td>\n",
       "      <td>2</td>\n",
       "      <td>13.0</td>\n",
       "      <td>202011</td>\n",
       "    </tr>\n",
       "    <tr>\n",
       "      <td>3</td>\n",
       "      <td>-0.011715</td>\n",
       "      <td>0.010112</td>\n",
       "      <td>-0.014666</td>\n",
       "      <td>-0.018584</td>\n",
       "      <td>-0.010574</td>\n",
       "      <td>-0.035928</td>\n",
       "      <td>0.037478</td>\n",
       "      <td>0.020299</td>\n",
       "      <td>-0.011364</td>\n",
       "      <td>0.024920</td>\n",
       "      <td>...</td>\n",
       "      <td>-0.035902</td>\n",
       "      <td>-0.030800</td>\n",
       "      <td>-0.010657</td>\n",
       "      <td>0.002631</td>\n",
       "      <td>0.007532</td>\n",
       "      <td>0.126229</td>\n",
       "      <td>3.0</td>\n",
       "      <td>2</td>\n",
       "      <td>12.0</td>\n",
       "      <td>202011</td>\n",
       "    </tr>\n",
       "    <tr>\n",
       "      <td>4</td>\n",
       "      <td>-0.004312</td>\n",
       "      <td>0.010082</td>\n",
       "      <td>-0.009291</td>\n",
       "      <td>-0.017374</td>\n",
       "      <td>-0.011016</td>\n",
       "      <td>-0.033451</td>\n",
       "      <td>0.031159</td>\n",
       "      <td>0.015416</td>\n",
       "      <td>-0.016344</td>\n",
       "      <td>0.022197</td>\n",
       "      <td>...</td>\n",
       "      <td>-0.027211</td>\n",
       "      <td>-0.024827</td>\n",
       "      <td>-0.013575</td>\n",
       "      <td>-0.000735</td>\n",
       "      <td>0.013313</td>\n",
       "      <td>0.126229</td>\n",
       "      <td>3.0</td>\n",
       "      <td>2</td>\n",
       "      <td>12.0</td>\n",
       "      <td>202011</td>\n",
       "    </tr>\n",
       "    <tr>\n",
       "      <td>...</td>\n",
       "      <td>...</td>\n",
       "      <td>...</td>\n",
       "      <td>...</td>\n",
       "      <td>...</td>\n",
       "      <td>...</td>\n",
       "      <td>...</td>\n",
       "      <td>...</td>\n",
       "      <td>...</td>\n",
       "      <td>...</td>\n",
       "      <td>...</td>\n",
       "      <td>...</td>\n",
       "      <td>...</td>\n",
       "      <td>...</td>\n",
       "      <td>...</td>\n",
       "      <td>...</td>\n",
       "      <td>...</td>\n",
       "      <td>...</td>\n",
       "      <td>...</td>\n",
       "      <td>...</td>\n",
       "      <td>...</td>\n",
       "      <td>...</td>\n",
       "    </tr>\n",
       "    <tr>\n",
       "      <td>112261</td>\n",
       "      <td>0.002639</td>\n",
       "      <td>-0.007745</td>\n",
       "      <td>0.015926</td>\n",
       "      <td>-0.011952</td>\n",
       "      <td>-0.002111</td>\n",
       "      <td>-0.004357</td>\n",
       "      <td>-0.000599</td>\n",
       "      <td>-0.012847</td>\n",
       "      <td>-0.000155</td>\n",
       "      <td>-0.024394</td>\n",
       "      <td>...</td>\n",
       "      <td>0.005706</td>\n",
       "      <td>0.015451</td>\n",
       "      <td>0.006023</td>\n",
       "      <td>0.001769</td>\n",
       "      <td>0.004318</td>\n",
       "      <td>0.746625</td>\n",
       "      <td>1.0</td>\n",
       "      <td>2</td>\n",
       "      <td>5.0</td>\n",
       "      <td>201924</td>\n",
       "    </tr>\n",
       "    <tr>\n",
       "      <td>112262</td>\n",
       "      <td>-0.000535</td>\n",
       "      <td>-0.008106</td>\n",
       "      <td>0.016009</td>\n",
       "      <td>-0.012102</td>\n",
       "      <td>0.005943</td>\n",
       "      <td>-0.004983</td>\n",
       "      <td>-0.004764</td>\n",
       "      <td>-0.011634</td>\n",
       "      <td>0.001370</td>\n",
       "      <td>-0.025071</td>\n",
       "      <td>...</td>\n",
       "      <td>0.004042</td>\n",
       "      <td>0.014530</td>\n",
       "      <td>-0.000182</td>\n",
       "      <td>0.002224</td>\n",
       "      <td>-0.003322</td>\n",
       "      <td>0.746625</td>\n",
       "      <td>1.0</td>\n",
       "      <td>2</td>\n",
       "      <td>5.0</td>\n",
       "      <td>201924</td>\n",
       "    </tr>\n",
       "    <tr>\n",
       "      <td>112263</td>\n",
       "      <td>0.004187</td>\n",
       "      <td>0.000229</td>\n",
       "      <td>0.007715</td>\n",
       "      <td>-0.005602</td>\n",
       "      <td>0.004873</td>\n",
       "      <td>-0.005352</td>\n",
       "      <td>-0.002468</td>\n",
       "      <td>-0.003581</td>\n",
       "      <td>0.005097</td>\n",
       "      <td>-0.003656</td>\n",
       "      <td>...</td>\n",
       "      <td>-0.003402</td>\n",
       "      <td>0.004426</td>\n",
       "      <td>-0.001443</td>\n",
       "      <td>0.001934</td>\n",
       "      <td>-0.000474</td>\n",
       "      <td>0.746625</td>\n",
       "      <td>1.0</td>\n",
       "      <td>2</td>\n",
       "      <td>5.0</td>\n",
       "      <td>201924</td>\n",
       "    </tr>\n",
       "    <tr>\n",
       "      <td>112264</td>\n",
       "      <td>-0.002951</td>\n",
       "      <td>-0.006462</td>\n",
       "      <td>0.012489</td>\n",
       "      <td>-0.003590</td>\n",
       "      <td>-0.002220</td>\n",
       "      <td>-0.002896</td>\n",
       "      <td>-0.001683</td>\n",
       "      <td>-0.016026</td>\n",
       "      <td>0.004791</td>\n",
       "      <td>-0.019189</td>\n",
       "      <td>...</td>\n",
       "      <td>0.003951</td>\n",
       "      <td>0.013484</td>\n",
       "      <td>0.002950</td>\n",
       "      <td>0.001749</td>\n",
       "      <td>0.001292</td>\n",
       "      <td>0.746625</td>\n",
       "      <td>1.0</td>\n",
       "      <td>2</td>\n",
       "      <td>5.0</td>\n",
       "      <td>201924</td>\n",
       "    </tr>\n",
       "    <tr>\n",
       "      <td>112265</td>\n",
       "      <td>-0.003125</td>\n",
       "      <td>-0.012663</td>\n",
       "      <td>0.022918</td>\n",
       "      <td>-0.014270</td>\n",
       "      <td>0.005402</td>\n",
       "      <td>-0.007583</td>\n",
       "      <td>-0.005225</td>\n",
       "      <td>-0.018943</td>\n",
       "      <td>0.003991</td>\n",
       "      <td>-0.025114</td>\n",
       "      <td>...</td>\n",
       "      <td>0.005500</td>\n",
       "      <td>0.020814</td>\n",
       "      <td>0.005761</td>\n",
       "      <td>0.011722</td>\n",
       "      <td>0.000175</td>\n",
       "      <td>0.746625</td>\n",
       "      <td>1.0</td>\n",
       "      <td>2</td>\n",
       "      <td>5.0</td>\n",
       "      <td>201924</td>\n",
       "    </tr>\n",
       "  </tbody>\n",
       "</table>\n",
       "<p>187533 rows × 105 columns</p>\n",
       "</div>"
      ],
      "text/plain": [
       "              C1       C10      C100       C11       C12       C13       C14  \\\n",
       "0      -0.001495  0.002059 -0.003641  0.002519 -0.000030 -0.000061  0.000266   \n",
       "1      -0.021860  0.025023 -0.030539 -0.053737 -0.034043 -0.106272  0.101318   \n",
       "2      -0.006153  0.000252 -0.000431 -0.007744 -0.001371 -0.012007  0.004584   \n",
       "3      -0.011715  0.010112 -0.014666 -0.018584 -0.010574 -0.035928  0.037478   \n",
       "4      -0.004312  0.010082 -0.009291 -0.017374 -0.011016 -0.033451  0.031159   \n",
       "...          ...       ...       ...       ...       ...       ...       ...   \n",
       "112261  0.002639 -0.007745  0.015926 -0.011952 -0.002111 -0.004357 -0.000599   \n",
       "112262 -0.000535 -0.008106  0.016009 -0.012102  0.005943 -0.004983 -0.004764   \n",
       "112263  0.004187  0.000229  0.007715 -0.005602  0.004873 -0.005352 -0.002468   \n",
       "112264 -0.002951 -0.006462  0.012489 -0.003590 -0.002220 -0.002896 -0.001683   \n",
       "112265 -0.003125 -0.012663  0.022918 -0.014270  0.005402 -0.007583 -0.005225   \n",
       "\n",
       "             C15       C16       C17  ...       C95       C96       C97  \\\n",
       "0      -0.001268 -0.005870  0.004812  ... -0.001215 -0.005617 -0.000767   \n",
       "1       0.046353 -0.032074  0.056494  ... -0.085919 -0.086635 -0.032728   \n",
       "2      -0.001146 -0.006225  0.003439  ... -0.002505 -0.002000 -0.006141   \n",
       "3       0.020299 -0.011364  0.024920  ... -0.035902 -0.030800 -0.010657   \n",
       "4       0.015416 -0.016344  0.022197  ... -0.027211 -0.024827 -0.013575   \n",
       "...          ...       ...       ...  ...       ...       ...       ...   \n",
       "112261 -0.012847 -0.000155 -0.024394  ...  0.005706  0.015451  0.006023   \n",
       "112262 -0.011634  0.001370 -0.025071  ...  0.004042  0.014530 -0.000182   \n",
       "112263 -0.003581  0.005097 -0.003656  ... -0.003402  0.004426 -0.001443   \n",
       "112264 -0.016026  0.004791 -0.019189  ...  0.003951  0.013484  0.002950   \n",
       "112265 -0.018943  0.003991 -0.025114  ...  0.005500  0.020814  0.005761   \n",
       "\n",
       "             C98       C99  Silhouette  category  closer#  label  period  \n",
       "0       0.003659 -0.001297    0.126229       3.0        2    1.0  202011  \n",
       "1       0.003305  0.029844    0.126229       3.0        2   12.0  202011  \n",
       "2      -0.000919  0.005992    0.126229       3.0        2   13.0  202011  \n",
       "3       0.002631  0.007532    0.126229       3.0        2   12.0  202011  \n",
       "4      -0.000735  0.013313    0.126229       3.0        2   12.0  202011  \n",
       "...          ...       ...         ...       ...      ...    ...     ...  \n",
       "112261  0.001769  0.004318    0.746625       1.0        2    5.0  201924  \n",
       "112262  0.002224 -0.003322    0.746625       1.0        2    5.0  201924  \n",
       "112263  0.001934 -0.000474    0.746625       1.0        2    5.0  201924  \n",
       "112264  0.001749  0.001292    0.746625       1.0        2    5.0  201924  \n",
       "112265  0.011722  0.000175    0.746625       1.0        2    5.0  201924  \n",
       "\n",
       "[187533 rows x 105 columns]"
      ]
     },
     "execution_count": 56,
     "metadata": {},
     "output_type": "execute_result"
    }
   ],
   "source": [
    "X_train"
   ]
  },
  {
   "cell_type": "code",
   "execution_count": 57,
   "metadata": {
    "pycharm": {
     "name": "#%%\n"
    }
   },
   "outputs": [],
   "source": [
    "model = Sequential()\n",
    "model.add(Dense(120, input_dim=105, activation='relu'))\n",
    "model.add(Dense(80, activation='relu'))\n",
    "model.add(Dense(60, activation='relu'))\n",
    "model.add(Dense(40, activation='relu'))\n",
    "model.add(Dense(20, activation='relu'))\n",
    "model.add(Dense(3, activation='softmax'))"
   ]
  },
  {
   "cell_type": "code",
   "execution_count": 58,
   "metadata": {
    "pycharm": {
     "name": "#%%\n"
    }
   },
   "outputs": [],
   "source": [
    "# compile the keras model\n",
    "#model.compile(loss='binary_crossentropy', optimizer='adam', metrics=['accuracy'])\n",
    "model.compile(loss='categorical_crossentropy', optimizer='adam', metrics=['accuracy'])"
   ]
  },
  {
   "cell_type": "code",
   "execution_count": 59,
   "metadata": {
    "pycharm": {
     "name": "#%%\n"
    }
   },
   "outputs": [],
   "source": [
    "from keras.utils import to_categorical\n",
    "\n",
    "y_train = y_train.apply(lambda x : x-1)"
   ]
  },
  {
   "cell_type": "code",
   "execution_count": 60,
   "metadata": {
    "pycharm": {
     "name": "#%%\n"
    }
   },
   "outputs": [],
   "source": [
    "y_cate_train = to_categorical(y_train , num_classes=3)\n",
    "#y_cate_train = y_train"
   ]
  },
  {
   "cell_type": "code",
   "execution_count": 61,
   "metadata": {},
   "outputs": [
    {
     "data": {
      "text/plain": [
       "array([[1., 0., 0.],\n",
       "       [1., 0., 0.],\n",
       "       [1., 0., 0.],\n",
       "       ...,\n",
       "       [0., 1., 0.],\n",
       "       [0., 1., 0.],\n",
       "       [0., 1., 0.]], dtype=float32)"
      ]
     },
     "execution_count": 61,
     "metadata": {},
     "output_type": "execute_result"
    }
   ],
   "source": [
    "y_cate_train"
   ]
  },
  {
   "cell_type": "code",
   "execution_count": 62,
   "metadata": {
    "pycharm": {
     "name": "#%%\n"
    }
   },
   "outputs": [],
   "source": [
    "#y_cate_train = list(y_train)"
   ]
  },
  {
   "cell_type": "code",
   "execution_count": 63,
   "metadata": {
    "pycharm": {
     "name": "#%%\n"
    }
   },
   "outputs": [],
   "source": [
    "#X_train"
   ]
  },
  {
   "cell_type": "code",
   "execution_count": 64,
   "metadata": {
    "pycharm": {
     "name": "#%%\n"
    }
   },
   "outputs": [
    {
     "name": "stdout",
     "output_type": "stream",
     "text": [
      "Epoch 1/30\n",
      "187533/187533 [==============================] - 1s 7us/step - loss: 38.0956 - accuracy: 0.3950\n",
      "Epoch 2/30\n",
      "187533/187533 [==============================] - 1s 6us/step - loss: 7.8463 - accuracy: 0.3991\n",
      "Epoch 3/30\n",
      "187533/187533 [==============================] - 1s 6us/step - loss: 3.0129 - accuracy: 0.4158\n",
      "Epoch 4/30\n",
      "187533/187533 [==============================] - 1s 6us/step - loss: 1.4218 - accuracy: 0.4308\n",
      "Epoch 5/30\n",
      "187533/187533 [==============================] - 1s 6us/step - loss: 1.1978 - accuracy: 0.4418\n",
      "Epoch 6/30\n",
      "187533/187533 [==============================] - 1s 6us/step - loss: 1.2145 - accuracy: 0.4413\n",
      "Epoch 7/30\n",
      "187533/187533 [==============================] - 1s 6us/step - loss: 1.1820 - accuracy: 0.4431\n",
      "Epoch 8/30\n",
      "187533/187533 [==============================] - 1s 6us/step - loss: 1.1927 - accuracy: 0.4427\n",
      "Epoch 9/30\n",
      "187533/187533 [==============================] - 1s 6us/step - loss: 5.4238 - accuracy: 0.4367\n",
      "Epoch 10/30\n",
      "187533/187533 [==============================] - 1s 6us/step - loss: 1.5993 - accuracy: 0.4385\n",
      "Epoch 11/30\n",
      "187533/187533 [==============================] - 1s 6us/step - loss: 1.0511 - accuracy: 0.4410\n",
      "Epoch 12/30\n",
      "187533/187533 [==============================] - 1s 6us/step - loss: 1.0411 - accuracy: 0.4466\n",
      "Epoch 13/30\n",
      "187533/187533 [==============================] - 1s 6us/step - loss: 1.0251 - accuracy: 0.4492\n",
      "Epoch 14/30\n",
      "187533/187533 [==============================] - 1s 6us/step - loss: 1.0543 - accuracy: 0.4430\n",
      "Epoch 15/30\n",
      "187533/187533 [==============================] - 1s 6us/step - loss: 1.0256 - accuracy: 0.4472\n",
      "Epoch 16/30\n",
      "187533/187533 [==============================] - 1s 6us/step - loss: 1.0024 - accuracy: 0.4517\n",
      "Epoch 17/30\n",
      "187533/187533 [==============================] - 1s 6us/step - loss: 1.0154 - accuracy: 0.4493\n",
      "Epoch 18/30\n",
      "187533/187533 [==============================] - 1s 6us/step - loss: 1.0048 - accuracy: 0.4499\n",
      "Epoch 19/30\n",
      "187533/187533 [==============================] - 1s 6us/step - loss: 1.0099 - accuracy: 0.4555\n",
      "Epoch 20/30\n",
      "187533/187533 [==============================] - 1s 6us/step - loss: 1.0054 - accuracy: 0.4515\n",
      "Epoch 21/30\n",
      "187533/187533 [==============================] - 1s 6us/step - loss: 1.0003 - accuracy: 0.4556\n",
      "Epoch 22/30\n",
      "187533/187533 [==============================] - 1s 6us/step - loss: 0.9893 - accuracy: 0.4569\n",
      "Epoch 23/30\n",
      "187533/187533 [==============================] - 1s 6us/step - loss: 0.9854 - accuracy: 0.4640\n",
      "Epoch 24/30\n",
      "187533/187533 [==============================] - 1s 6us/step - loss: 0.9891 - accuracy: 0.4633\n",
      "Epoch 25/30\n",
      "187533/187533 [==============================] - 1s 6us/step - loss: 0.9808 - accuracy: 0.4660\n",
      "Epoch 26/30\n",
      "187533/187533 [==============================] - 1s 6us/step - loss: 1.1895 - accuracy: 0.4183\n",
      "Epoch 27/30\n",
      "187533/187533 [==============================] - 1s 6us/step - loss: 0.9944 - accuracy: 0.4549\n",
      "Epoch 28/30\n",
      "187533/187533 [==============================] - 1s 6us/step - loss: 0.9902 - accuracy: 0.4549\n",
      "Epoch 29/30\n",
      "187533/187533 [==============================] - 1s 6us/step - loss: 0.9898 - accuracy: 0.4549\n",
      "Epoch 30/30\n",
      "187533/187533 [==============================] - 1s 6us/step - loss: 0.9897 - accuracy: 0.4549\n"
     ]
    },
    {
     "data": {
      "text/plain": [
       "<keras.callbacks.callbacks.History at 0x7fb30cb5c450>"
      ]
     },
     "execution_count": 64,
     "metadata": {},
     "output_type": "execute_result"
    }
   ],
   "source": [
    "model.fit(X_train,y_cate_train, epochs=30, batch_size=500)"
   ]
  },
  {
   "cell_type": "code",
   "execution_count": 65,
   "metadata": {
    "pycharm": {
     "name": "#%%\n"
    }
   },
   "outputs": [
    {
     "data": {
      "text/html": [
       "<div>\n",
       "<style scoped>\n",
       "    .dataframe tbody tr th:only-of-type {\n",
       "        vertical-align: middle;\n",
       "    }\n",
       "\n",
       "    .dataframe tbody tr th {\n",
       "        vertical-align: top;\n",
       "    }\n",
       "\n",
       "    .dataframe thead th {\n",
       "        text-align: right;\n",
       "    }\n",
       "</style>\n",
       "<table border=\"1\" class=\"dataframe\">\n",
       "  <thead>\n",
       "    <tr style=\"text-align: right;\">\n",
       "      <th></th>\n",
       "      <th>C1</th>\n",
       "      <th>C2</th>\n",
       "      <th>C3</th>\n",
       "      <th>C4</th>\n",
       "      <th>C5</th>\n",
       "      <th>C6</th>\n",
       "      <th>C7</th>\n",
       "      <th>C8</th>\n",
       "      <th>C9</th>\n",
       "      <th>C10</th>\n",
       "      <th>...</th>\n",
       "      <th>C96</th>\n",
       "      <th>C97</th>\n",
       "      <th>C98</th>\n",
       "      <th>C99</th>\n",
       "      <th>C100</th>\n",
       "      <th>period</th>\n",
       "      <th>closer#</th>\n",
       "      <th>category</th>\n",
       "      <th>label</th>\n",
       "      <th>Silhouette</th>\n",
       "    </tr>\n",
       "  </thead>\n",
       "  <tbody>\n",
       "    <tr>\n",
       "      <td>0</td>\n",
       "      <td>-0.254655</td>\n",
       "      <td>-0.180008</td>\n",
       "      <td>0.079563</td>\n",
       "      <td>0.070877</td>\n",
       "      <td>-0.192541</td>\n",
       "      <td>0.077792</td>\n",
       "      <td>-0.448351</td>\n",
       "      <td>-0.005136</td>\n",
       "      <td>-0.045940</td>\n",
       "      <td>0.086399</td>\n",
       "      <td>...</td>\n",
       "      <td>-0.156364</td>\n",
       "      <td>0.134341</td>\n",
       "      <td>0.130209</td>\n",
       "      <td>0.255739</td>\n",
       "      <td>0.099466</td>\n",
       "      <td>201812</td>\n",
       "      <td>2</td>\n",
       "      <td>3</td>\n",
       "      <td>13.0</td>\n",
       "      <td>0.698785</td>\n",
       "    </tr>\n",
       "    <tr>\n",
       "      <td>1</td>\n",
       "      <td>-0.004634</td>\n",
       "      <td>-0.000451</td>\n",
       "      <td>-0.002377</td>\n",
       "      <td>0.001738</td>\n",
       "      <td>0.002353</td>\n",
       "      <td>-0.002076</td>\n",
       "      <td>-0.001646</td>\n",
       "      <td>0.000074</td>\n",
       "      <td>-0.002536</td>\n",
       "      <td>-0.003283</td>\n",
       "      <td>...</td>\n",
       "      <td>-0.003176</td>\n",
       "      <td>0.003060</td>\n",
       "      <td>-0.003545</td>\n",
       "      <td>0.000769</td>\n",
       "      <td>0.004266</td>\n",
       "      <td>201812</td>\n",
       "      <td>2</td>\n",
       "      <td>3</td>\n",
       "      <td>5.0</td>\n",
       "      <td>0.698785</td>\n",
       "    </tr>\n",
       "    <tr>\n",
       "      <td>2</td>\n",
       "      <td>-0.090797</td>\n",
       "      <td>-0.074224</td>\n",
       "      <td>0.031453</td>\n",
       "      <td>0.027766</td>\n",
       "      <td>-0.072613</td>\n",
       "      <td>0.033135</td>\n",
       "      <td>-0.166600</td>\n",
       "      <td>0.003850</td>\n",
       "      <td>-0.014339</td>\n",
       "      <td>0.029680</td>\n",
       "      <td>...</td>\n",
       "      <td>-0.057482</td>\n",
       "      <td>0.052950</td>\n",
       "      <td>0.051991</td>\n",
       "      <td>0.090085</td>\n",
       "      <td>0.033742</td>\n",
       "      <td>201812</td>\n",
       "      <td>2</td>\n",
       "      <td>3</td>\n",
       "      <td>11.0</td>\n",
       "      <td>0.698785</td>\n",
       "    </tr>\n",
       "    <tr>\n",
       "      <td>3</td>\n",
       "      <td>-0.094661</td>\n",
       "      <td>-0.060435</td>\n",
       "      <td>0.034314</td>\n",
       "      <td>0.022429</td>\n",
       "      <td>-0.064252</td>\n",
       "      <td>0.033394</td>\n",
       "      <td>-0.163963</td>\n",
       "      <td>-0.005994</td>\n",
       "      <td>-0.021203</td>\n",
       "      <td>0.026608</td>\n",
       "      <td>...</td>\n",
       "      <td>-0.057478</td>\n",
       "      <td>0.053035</td>\n",
       "      <td>0.054524</td>\n",
       "      <td>0.089103</td>\n",
       "      <td>0.039398</td>\n",
       "      <td>201812</td>\n",
       "      <td>2</td>\n",
       "      <td>3</td>\n",
       "      <td>11.0</td>\n",
       "      <td>0.698785</td>\n",
       "    </tr>\n",
       "    <tr>\n",
       "      <td>4</td>\n",
       "      <td>-0.069848</td>\n",
       "      <td>-0.047059</td>\n",
       "      <td>0.025222</td>\n",
       "      <td>0.024263</td>\n",
       "      <td>-0.053081</td>\n",
       "      <td>0.019989</td>\n",
       "      <td>-0.122335</td>\n",
       "      <td>0.004043</td>\n",
       "      <td>-0.018609</td>\n",
       "      <td>0.025090</td>\n",
       "      <td>...</td>\n",
       "      <td>-0.044975</td>\n",
       "      <td>0.035820</td>\n",
       "      <td>0.039669</td>\n",
       "      <td>0.067841</td>\n",
       "      <td>0.019547</td>\n",
       "      <td>201812</td>\n",
       "      <td>2</td>\n",
       "      <td>3</td>\n",
       "      <td>11.0</td>\n",
       "      <td>0.698785</td>\n",
       "    </tr>\n",
       "    <tr>\n",
       "      <td>...</td>\n",
       "      <td>...</td>\n",
       "      <td>...</td>\n",
       "      <td>...</td>\n",
       "      <td>...</td>\n",
       "      <td>...</td>\n",
       "      <td>...</td>\n",
       "      <td>...</td>\n",
       "      <td>...</td>\n",
       "      <td>...</td>\n",
       "      <td>...</td>\n",
       "      <td>...</td>\n",
       "      <td>...</td>\n",
       "      <td>...</td>\n",
       "      <td>...</td>\n",
       "      <td>...</td>\n",
       "      <td>...</td>\n",
       "      <td>...</td>\n",
       "      <td>...</td>\n",
       "      <td>...</td>\n",
       "      <td>...</td>\n",
       "      <td>...</td>\n",
       "    </tr>\n",
       "    <tr>\n",
       "      <td>6822</td>\n",
       "      <td>-0.002168</td>\n",
       "      <td>-0.000209</td>\n",
       "      <td>-0.000484</td>\n",
       "      <td>0.002279</td>\n",
       "      <td>-0.000793</td>\n",
       "      <td>-0.014988</td>\n",
       "      <td>0.002322</td>\n",
       "      <td>-0.009567</td>\n",
       "      <td>0.015889</td>\n",
       "      <td>0.004932</td>\n",
       "      <td>...</td>\n",
       "      <td>-0.007506</td>\n",
       "      <td>-0.007278</td>\n",
       "      <td>-0.005591</td>\n",
       "      <td>0.005405</td>\n",
       "      <td>0.006519</td>\n",
       "      <td>201811</td>\n",
       "      <td>2</td>\n",
       "      <td>3</td>\n",
       "      <td>9.0</td>\n",
       "      <td>0.666694</td>\n",
       "    </tr>\n",
       "    <tr>\n",
       "      <td>6823</td>\n",
       "      <td>0.004208</td>\n",
       "      <td>0.003021</td>\n",
       "      <td>-0.002001</td>\n",
       "      <td>0.004101</td>\n",
       "      <td>-0.001609</td>\n",
       "      <td>-0.011579</td>\n",
       "      <td>-0.000478</td>\n",
       "      <td>-0.010427</td>\n",
       "      <td>0.011020</td>\n",
       "      <td>-0.000198</td>\n",
       "      <td>...</td>\n",
       "      <td>-0.002880</td>\n",
       "      <td>0.001137</td>\n",
       "      <td>-0.002063</td>\n",
       "      <td>0.002997</td>\n",
       "      <td>0.009461</td>\n",
       "      <td>201811</td>\n",
       "      <td>2</td>\n",
       "      <td>3</td>\n",
       "      <td>9.0</td>\n",
       "      <td>0.666694</td>\n",
       "    </tr>\n",
       "    <tr>\n",
       "      <td>6824</td>\n",
       "      <td>0.002363</td>\n",
       "      <td>-0.004255</td>\n",
       "      <td>-0.001592</td>\n",
       "      <td>0.000356</td>\n",
       "      <td>-0.004535</td>\n",
       "      <td>-0.008412</td>\n",
       "      <td>0.003942</td>\n",
       "      <td>-0.000890</td>\n",
       "      <td>0.005060</td>\n",
       "      <td>0.004563</td>\n",
       "      <td>...</td>\n",
       "      <td>-0.005844</td>\n",
       "      <td>-0.000416</td>\n",
       "      <td>0.001187</td>\n",
       "      <td>0.003191</td>\n",
       "      <td>-0.000146</td>\n",
       "      <td>201811</td>\n",
       "      <td>2</td>\n",
       "      <td>3</td>\n",
       "      <td>9.0</td>\n",
       "      <td>0.666694</td>\n",
       "    </tr>\n",
       "    <tr>\n",
       "      <td>6825</td>\n",
       "      <td>-0.000348</td>\n",
       "      <td>0.000295</td>\n",
       "      <td>0.001817</td>\n",
       "      <td>-0.000890</td>\n",
       "      <td>-0.004176</td>\n",
       "      <td>-0.009533</td>\n",
       "      <td>0.005809</td>\n",
       "      <td>-0.001022</td>\n",
       "      <td>0.009670</td>\n",
       "      <td>0.005552</td>\n",
       "      <td>...</td>\n",
       "      <td>0.002025</td>\n",
       "      <td>-0.001968</td>\n",
       "      <td>0.001791</td>\n",
       "      <td>0.002730</td>\n",
       "      <td>0.008238</td>\n",
       "      <td>201811</td>\n",
       "      <td>2</td>\n",
       "      <td>3</td>\n",
       "      <td>9.0</td>\n",
       "      <td>0.666694</td>\n",
       "    </tr>\n",
       "    <tr>\n",
       "      <td>6826</td>\n",
       "      <td>-0.001458</td>\n",
       "      <td>-0.003801</td>\n",
       "      <td>-0.000547</td>\n",
       "      <td>0.004080</td>\n",
       "      <td>0.001195</td>\n",
       "      <td>-0.006765</td>\n",
       "      <td>0.006222</td>\n",
       "      <td>-0.006638</td>\n",
       "      <td>0.002553</td>\n",
       "      <td>0.001610</td>\n",
       "      <td>...</td>\n",
       "      <td>-0.001952</td>\n",
       "      <td>0.002247</td>\n",
       "      <td>-0.001446</td>\n",
       "      <td>0.005357</td>\n",
       "      <td>0.001372</td>\n",
       "      <td>201811</td>\n",
       "      <td>2</td>\n",
       "      <td>3</td>\n",
       "      <td>9.0</td>\n",
       "      <td>0.666694</td>\n",
       "    </tr>\n",
       "  </tbody>\n",
       "</table>\n",
       "<p>6827 rows × 105 columns</p>\n",
       "</div>"
      ],
      "text/plain": [
       "            C1        C2        C3        C4        C5        C6        C7  \\\n",
       "0    -0.254655 -0.180008  0.079563  0.070877 -0.192541  0.077792 -0.448351   \n",
       "1    -0.004634 -0.000451 -0.002377  0.001738  0.002353 -0.002076 -0.001646   \n",
       "2    -0.090797 -0.074224  0.031453  0.027766 -0.072613  0.033135 -0.166600   \n",
       "3    -0.094661 -0.060435  0.034314  0.022429 -0.064252  0.033394 -0.163963   \n",
       "4    -0.069848 -0.047059  0.025222  0.024263 -0.053081  0.019989 -0.122335   \n",
       "...        ...       ...       ...       ...       ...       ...       ...   \n",
       "6822 -0.002168 -0.000209 -0.000484  0.002279 -0.000793 -0.014988  0.002322   \n",
       "6823  0.004208  0.003021 -0.002001  0.004101 -0.001609 -0.011579 -0.000478   \n",
       "6824  0.002363 -0.004255 -0.001592  0.000356 -0.004535 -0.008412  0.003942   \n",
       "6825 -0.000348  0.000295  0.001817 -0.000890 -0.004176 -0.009533  0.005809   \n",
       "6826 -0.001458 -0.003801 -0.000547  0.004080  0.001195 -0.006765  0.006222   \n",
       "\n",
       "            C8        C9       C10  ...       C96       C97       C98  \\\n",
       "0    -0.005136 -0.045940  0.086399  ... -0.156364  0.134341  0.130209   \n",
       "1     0.000074 -0.002536 -0.003283  ... -0.003176  0.003060 -0.003545   \n",
       "2     0.003850 -0.014339  0.029680  ... -0.057482  0.052950  0.051991   \n",
       "3    -0.005994 -0.021203  0.026608  ... -0.057478  0.053035  0.054524   \n",
       "4     0.004043 -0.018609  0.025090  ... -0.044975  0.035820  0.039669   \n",
       "...        ...       ...       ...  ...       ...       ...       ...   \n",
       "6822 -0.009567  0.015889  0.004932  ... -0.007506 -0.007278 -0.005591   \n",
       "6823 -0.010427  0.011020 -0.000198  ... -0.002880  0.001137 -0.002063   \n",
       "6824 -0.000890  0.005060  0.004563  ... -0.005844 -0.000416  0.001187   \n",
       "6825 -0.001022  0.009670  0.005552  ...  0.002025 -0.001968  0.001791   \n",
       "6826 -0.006638  0.002553  0.001610  ... -0.001952  0.002247 -0.001446   \n",
       "\n",
       "           C99      C100  period  closer#  category  label  Silhouette  \n",
       "0     0.255739  0.099466  201812        2         3   13.0    0.698785  \n",
       "1     0.000769  0.004266  201812        2         3    5.0    0.698785  \n",
       "2     0.090085  0.033742  201812        2         3   11.0    0.698785  \n",
       "3     0.089103  0.039398  201812        2         3   11.0    0.698785  \n",
       "4     0.067841  0.019547  201812        2         3   11.0    0.698785  \n",
       "...        ...       ...     ...      ...       ...    ...         ...  \n",
       "6822  0.005405  0.006519  201811        2         3    9.0    0.666694  \n",
       "6823  0.002997  0.009461  201811        2         3    9.0    0.666694  \n",
       "6824  0.003191 -0.000146  201811        2         3    9.0    0.666694  \n",
       "6825  0.002730  0.008238  201811        2         3    9.0    0.666694  \n",
       "6826  0.005357  0.001372  201811        2         3    9.0    0.666694  \n",
       "\n",
       "[6827 rows x 105 columns]"
      ]
     },
     "execution_count": 65,
     "metadata": {},
     "output_type": "execute_result"
    }
   ],
   "source": [
    "X_test"
   ]
  },
  {
   "cell_type": "code",
   "execution_count": 66,
   "metadata": {
    "pycharm": {
     "name": "#%%\n"
    }
   },
   "outputs": [],
   "source": [
    "y_test = y_test.apply(lambda x : x-1)"
   ]
  },
  {
   "cell_type": "code",
   "execution_count": 67,
   "metadata": {
    "pycharm": {
     "name": "#%%\n"
    }
   },
   "outputs": [],
   "source": [
    "y_cate_test = to_categorical(y_test , num_classes=3)"
   ]
  },
  {
   "cell_type": "code",
   "execution_count": 68,
   "metadata": {
    "pycharm": {
     "name": "#%%\n"
    }
   },
   "outputs": [
    {
     "data": {
      "text/plain": [
       "array([[0., 1., 0.],\n",
       "       [0., 1., 0.],\n",
       "       [0., 1., 0.],\n",
       "       ...,\n",
       "       [1., 0., 0.],\n",
       "       [1., 0., 0.],\n",
       "       [1., 0., 0.]], dtype=float32)"
      ]
     },
     "execution_count": 68,
     "metadata": {},
     "output_type": "execute_result"
    }
   ],
   "source": [
    "y_cate_test"
   ]
  },
  {
   "cell_type": "code",
   "execution_count": 69,
   "metadata": {},
   "outputs": [
    {
     "name": "stdout",
     "output_type": "stream",
     "text": [
      "6827/6827 [==============================] - 0s 6us/step\n"
     ]
    }
   ],
   "source": [
    "score = model.evaluate(X_test, y_cate_test, batch_size=500)"
   ]
  },
  {
   "cell_type": "code",
   "execution_count": 70,
   "metadata": {
    "pycharm": {
     "name": "#%%\n"
    }
   },
   "outputs": [],
   "source": [
    "#score = model.evaluate(X_test, y_cate_test, batch_size=500)"
   ]
  },
  {
   "cell_type": "code",
   "execution_count": 71,
   "metadata": {
    "pycharm": {
     "name": "#%%\n"
    }
   },
   "outputs": [
    {
     "data": {
      "text/plain": [
       "[537.438712352922, 0.0]"
      ]
     },
     "execution_count": 71,
     "metadata": {},
     "output_type": "execute_result"
    }
   ],
   "source": [
    "score"
   ]
  },
  {
   "cell_type": "code",
   "execution_count": 72,
   "metadata": {
    "pycharm": {
     "name": "#%%\n"
    }
   },
   "outputs": [],
   "source": [
    "yhat_probs = model.predict(X_test ,batch_size=500 )\n",
    "\n",
    "yhat_classes = model.predict_classes(X_test ,batch_size=500 )\n",
    "\n",
    "# reduce to 1d array\n",
    "#yhat_probs = yhat_probs[:, 0]\n",
    "#yhat_classes = yhat_classes[:, 0]"
   ]
  },
  {
   "cell_type": "code",
   "execution_count": 73,
   "metadata": {},
   "outputs": [
    {
     "data": {
      "text/plain": [
       "array([[0., 0., 1.],\n",
       "       [0., 0., 1.],\n",
       "       [0., 0., 1.],\n",
       "       ...,\n",
       "       [0., 0., 1.],\n",
       "       [0., 0., 1.],\n",
       "       [0., 0., 1.]], dtype=float32)"
      ]
     },
     "execution_count": 73,
     "metadata": {},
     "output_type": "execute_result"
    }
   ],
   "source": [
    "yhat_probs"
   ]
  },
  {
   "cell_type": "code",
   "execution_count": 74,
   "metadata": {
    "pycharm": {
     "name": "#%%\n"
    }
   },
   "outputs": [
    {
     "data": {
      "text/plain": [
       "array([2, 2, 2, ..., 2, 2, 2])"
      ]
     },
     "execution_count": 74,
     "metadata": {},
     "output_type": "execute_result"
    }
   ],
   "source": [
    "yhat_classes"
   ]
  },
  {
   "cell_type": "code",
   "execution_count": 75,
   "metadata": {
    "pycharm": {
     "name": "#%%\n"
    }
   },
   "outputs": [
    {
     "data": {
      "text/plain": [
       "array([[0., 1., 0.],\n",
       "       [0., 1., 0.],\n",
       "       [0., 1., 0.],\n",
       "       ...,\n",
       "       [1., 0., 0.],\n",
       "       [1., 0., 0.],\n",
       "       [1., 0., 0.]], dtype=float32)"
      ]
     },
     "execution_count": 75,
     "metadata": {},
     "output_type": "execute_result"
    }
   ],
   "source": [
    "y_cate_test"
   ]
  },
  {
   "cell_type": "code",
   "execution_count": 76,
   "metadata": {
    "pycharm": {
     "name": "#%%\n"
    }
   },
   "outputs": [
    {
     "name": "stdout",
     "output_type": "stream",
     "text": [
      "Accuracy: 0.000000\n",
      "Precision: 0.000000\n",
      "Recall: 0.000000\n",
      "F1 score: 0.000000\n"
     ]
    }
   ],
   "source": [
    "# accuracy: (tp + tn) / (p + n)\n",
    "accuracy = accuracy_score(y_test, yhat_classes )\n",
    "print('Accuracy: %f' % accuracy)\n",
    "# precision tp / (tp + fp)\n",
    "precision = precision_score(y_test, yhat_classes , average='micro')\n",
    "print('Precision: %f' % precision)\n",
    "# recall: tp / (tp + fn)\n",
    "recall = recall_score(y_test, yhat_classes , average='micro')\n",
    "print('Recall: %f' % recall)\n",
    "# f1: 2 tp / (2 tp + fp + fn)\n",
    "f1 = f1_score(y_test, yhat_classes,average='micro')\n",
    "print('F1 score: %f' % f1)"
   ]
  },
  {
   "cell_type": "code",
   "execution_count": 77,
   "metadata": {
    "pycharm": {
     "name": "#%%\n"
    }
   },
   "outputs": [
    {
     "name": "stdout",
     "output_type": "stream",
     "text": [
      "0       1\n",
      "1       1\n",
      "2       1\n",
      "3       1\n",
      "4       1\n",
      "       ..\n",
      "6822    0\n",
      "6823    0\n",
      "6824    0\n",
      "6825    0\n",
      "6826    0\n",
      "Name: result, Length: 6827, dtype: int64\n",
      "[[0 1 0]\n",
      " [0 1 0]\n",
      " [0 1 0]\n",
      " ...\n",
      " [1 0 0]\n",
      " [1 0 0]\n",
      " [1 0 0]]\n",
      "class :  0 == 0.5\n",
      "class :  1 == 0.5\n",
      "class :  2 == nan\n"
     ]
    },
    {
     "name": "stderr",
     "output_type": "stream",
     "text": [
      "/Users/hongminpyo/opt/anaconda3/lib/python3.7/site-packages/sklearn/metrics/_ranking.py:813: UndefinedMetricWarning: No positive samples in y_true, true positive value should be meaningless\n",
      "  UndefinedMetricWarning)\n"
     ]
    }
   ],
   "source": [
    "# Compute ROC curve and ROC area for each class\n",
    "fpr = dict()\n",
    "tpr = dict()\n",
    "roc_auc = dict()\n",
    "\n",
    "y_test_roc =label_binarize(y_test, classes=[0, 1, 2])\n",
    "\n",
    "print(y_test)\n",
    "print(y_test_roc)\n",
    "\n",
    "for i in range(3):\n",
    "    fpr[i], tpr[i], _ = roc_curve(y_test_roc[:, i], yhat_probs[:, i])\n",
    "    roc_auc[i] = auc(fpr[i], tpr[i])\n",
    "    print('class : ',i,'==',roc_auc[i])"
   ]
  },
  {
   "cell_type": "code",
   "execution_count": 78,
   "metadata": {
    "pycharm": {
     "name": "#%%\n"
    }
   },
   "outputs": [],
   "source": [
    "# Compute micro-average ROC curve and ROC area\n",
    "fpr[\"micro\"], tpr[\"micro\"], _ = roc_curve(y_test_roc.ravel(), yhat_probs.ravel())\n",
    "roc_auc[\"micro\"] = auc(fpr[\"micro\"], tpr[\"micro\"])"
   ]
  },
  {
   "cell_type": "code",
   "execution_count": 79,
   "metadata": {
    "pycharm": {
     "name": "#%%\n"
    }
   },
   "outputs": [
    {
     "data": {
      "image/png": "[encoded data removed]",
      "text/plain": [
       "<Figure size 432x288 with 1 Axes>"
      ]
     },
     "metadata": {
      "needs_background": "light"
     },
     "output_type": "display_data"
    }
   ],
   "source": [
    "plt.figure()\n",
    "lw = 2\n",
    "plt.plot(fpr[1], tpr[1], color='darkorange',\n",
    "         lw=lw, label='ROC curve (area = %0.2f)' % roc_auc[2])\n",
    "plt.plot([0, 1], [0, 1], color='navy', lw=lw, linestyle='--')\n",
    "plt.xlim([0.0, 1.0])\n",
    "plt.ylim([0.0, 1.05])\n",
    "plt.xlabel('False Positive Rate')\n",
    "plt.ylabel('True Positive Rate')\n",
    "plt.title('Receiver operating characteristic example')\n",
    "plt.legend(loc=\"lower right\")\n",
    "plt.show()\n"
   ]
  },
  {
   "cell_type": "code",
   "execution_count": 80,
   "metadata": {
    "pycharm": {
     "name": "#%%\n"
    }
   },
   "outputs": [
    {
     "data": {
      "image/png": "[encoded data removed]",
      "text/plain": [
       "<Figure size 432x288 with 1 Axes>"
      ]
     },
     "metadata": {
      "needs_background": "light"
     },
     "output_type": "display_data"
    }
   ],
   "source": [
    "# First aggregate all false positive rates\n",
    "all_fpr = np.unique(np.concatenate([fpr[i] for i in range(3)]))\n",
    "\n",
    "# Then interpolate all ROC curves at this points\n",
    "mean_tpr = np.zeros_like(all_fpr)\n",
    "for i in range(3):\n",
    "    mean_tpr += interp(all_fpr, fpr[i], tpr[i])\n",
    "\n",
    "# Finally average it and compute AUC\n",
    "mean_tpr /= 3\n",
    "\n",
    "fpr[\"macro\"] = all_fpr\n",
    "tpr[\"macro\"] = mean_tpr\n",
    "roc_auc[\"macro\"] = auc(fpr[\"macro\"], tpr[\"macro\"])\n",
    "\n",
    "# Plot all ROC curves\n",
    "plt.figure()\n",
    "plt.plot(fpr[\"micro\"], tpr[\"micro\"],\n",
    "         label='micro-average ROC curve (area = {0:0.2f})'\n",
    "               ''.format(roc_auc[\"micro\"]),\n",
    "         color='deeppink', linestyle=':', linewidth=4)\n",
    "\n",
    "plt.plot(fpr[\"macro\"], tpr[\"macro\"],\n",
    "         label='macro-average ROC curve (area = {0:0.2f})'\n",
    "               ''.format(roc_auc[\"macro\"]),\n",
    "         color='navy', linestyle=':', linewidth=4)\n",
    "\n",
    "colors = cycle(['aqua', 'darkorange', 'cornflowerblue'])\n",
    "for i, color in zip(range(3), colors):\n",
    "    plt.plot(fpr[i], tpr[i], color=color, lw=lw,\n",
    "             label='ROC curve of class {0} (area = {1:0.2f})'\n",
    "             ''.format(i, roc_auc[i]))\n",
    "\n",
    "plt.plot([0, 1], [0, 1], 'k--', lw=lw)\n",
    "plt.xlim([0.0, 1.0])\n",
    "plt.ylim([0.0, 1.05])\n",
    "plt.xlabel('False Positive Rate')\n",
    "plt.ylabel('True Positive Rate')\n",
    "plt.title('Some extension of Receiver operating characteristic to multi-class')\n",
    "plt.legend(loc=\"lower right\")\n",
    "plt.show()"
   ]
  },
  {
   "cell_type": "code",
   "execution_count": 81,
   "metadata": {
    "pycharm": {
     "name": "#%%\n"
    }
   },
   "outputs": [
    {
     "name": "stdout",
     "output_type": "stream",
     "text": [
      "Accuracy: 0.000000\n",
      "Precision: 0.000000\n",
      "Recall: 0.000000\n",
      "F1 score: 0.000000\n"
     ]
    }
   ],
   "source": [
    "# accuracy: (tp + tn) / (p + n)\n",
    "accuracy = accuracy_score(y_test, yhat_classes )\n",
    "print('Accuracy: %f' % accuracy)\n",
    "# precision tp / (tp + fp)\n",
    "precision = precision_score(y_test, yhat_classes , average='micro')\n",
    "print('Precision: %f' % precision)\n",
    "# recall: tp / (tp + fn)\n",
    "recall = recall_score(y_test, yhat_classes , average='micro')\n",
    "print('Recall: %f' % recall)\n",
    "# f1: 2 tp / (2 tp + fp + fn)\n",
    "f1 = f1_score(y_test, yhat_classes,average='micro')\n",
    "print('F1 score: %f' % f1)"
   ]
  },
  {
   "cell_type": "code",
   "execution_count": 82,
   "metadata": {
    "pycharm": {
     "name": "#%%\n"
    }
   },
   "outputs": [
    {
     "name": "stdout",
     "output_type": "stream",
     "text": [
      "0       1\n",
      "1       1\n",
      "2       1\n",
      "3       1\n",
      "4       1\n",
      "       ..\n",
      "6822    0\n",
      "6823    0\n",
      "6824    0\n",
      "6825    0\n",
      "6826    0\n",
      "Name: result, Length: 6827, dtype: int64\n",
      "[[0 1 0]\n",
      " [0 1 0]\n",
      " [0 1 0]\n",
      " ...\n",
      " [1 0 0]\n",
      " [1 0 0]\n",
      " [1 0 0]]\n",
      "class :  0 == 0.5\n",
      "class :  1 == 0.5\n",
      "class :  2 == nan\n"
     ]
    },
    {
     "name": "stderr",
     "output_type": "stream",
     "text": [
      "/Users/hongminpyo/opt/anaconda3/lib/python3.7/site-packages/sklearn/metrics/_ranking.py:813: UndefinedMetricWarning: No positive samples in y_true, true positive value should be meaningless\n",
      "  UndefinedMetricWarning)\n"
     ]
    }
   ],
   "source": [
    "# Compute ROC curve and ROC area for each class\n",
    "fpr = dict()\n",
    "tpr = dict()\n",
    "roc_auc = dict()\n",
    "\n",
    "y_test_roc =label_binarize(y_test, classes=[0, 1, 2])\n",
    "\n",
    "print(y_test)\n",
    "print(y_test_roc)\n",
    "\n",
    "for i in range(3):\n",
    "    fpr[i], tpr[i], _ = roc_curve(y_test_roc[:, i], yhat_probs[:, i])\n",
    "    roc_auc[i] = auc(fpr[i], tpr[i])\n",
    "    print('class : ',i,'==',roc_auc[i])"
   ]
  },
  {
   "cell_type": "code",
   "execution_count": 83,
   "metadata": {
    "pycharm": {
     "name": "#%%\n"
    }
   },
   "outputs": [],
   "source": [
    "# Compute micro-average ROC curve and ROC area\n",
    "fpr[\"micro\"], tpr[\"micro\"], _ = roc_curve(y_test_roc.ravel(), yhat_probs.ravel())\n",
    "roc_auc[\"micro\"] = auc(fpr[\"micro\"], tpr[\"micro\"])"
   ]
  },
  {
   "cell_type": "code",
   "execution_count": 84,
   "metadata": {
    "pycharm": {
     "name": "#%%\n"
    }
   },
   "outputs": [
    {
     "data": {
      "image/png": "[encoded data removed]",
      "text/plain": [
       "<Figure size 432x288 with 1 Axes>"
      ]
     },
     "metadata": {
      "needs_background": "light"
     },
     "output_type": "display_data"
    }
   ],
   "source": [
    "plt.figure()\n",
    "lw = 2\n",
    "plt.plot(fpr[1], tpr[1], color='darkorange',\n",
    "         lw=lw, label='ROC curve (area = %0.2f)' % roc_auc[2])\n",
    "plt.plot([0, 1], [0, 1], color='navy', lw=lw, linestyle='--')\n",
    "plt.xlim([0.0, 1.0])\n",
    "plt.ylim([0.0, 1.05])\n",
    "plt.xlabel('False Positive Rate')\n",
    "plt.ylabel('True Positive Rate')\n",
    "plt.title('Receiver operating characteristic example')\n",
    "plt.legend(loc=\"lower right\")\n",
    "plt.show()\n"
   ]
  },
  {
   "cell_type": "code",
   "execution_count": 85,
   "metadata": {
    "pycharm": {
     "name": "#%%\n"
    }
   },
   "outputs": [
    {
     "data": {
      "image/png": "[encoded data removed]",
      "text/plain": [
       "<Figure size 432x288 with 1 Axes>"
      ]
     },
     "metadata": {
      "needs_background": "light"
     },
     "output_type": "display_data"
    }
   ],
   "source": [
    "# First aggregate all false positive rates\n",
    "all_fpr = np.unique(np.concatenate([fpr[i] for i in range(3)]))\n",
    "\n",
    "# Then interpolate all ROC curves at this points\n",
    "mean_tpr = np.zeros_like(all_fpr)\n",
    "for i in range(3):\n",
    "    mean_tpr += interp(all_fpr, fpr[i], tpr[i])\n",
    "\n",
    "# Finally average it and compute AUC\n",
    "mean_tpr /= 3\n",
    "\n",
    "fpr[\"macro\"] = all_fpr\n",
    "tpr[\"macro\"] = mean_tpr\n",
    "roc_auc[\"macro\"] = auc(fpr[\"macro\"], tpr[\"macro\"])\n",
    "\n",
    "# Plot all ROC curves\n",
    "plt.figure()\n",
    "plt.plot(fpr[\"micro\"], tpr[\"micro\"],\n",
    "         label='micro-average ROC curve (area = {0:0.2f})'\n",
    "               ''.format(roc_auc[\"micro\"]),\n",
    "         color='deeppink', linestyle=':', linewidth=4)\n",
    "\n",
    "plt.plot(fpr[\"macro\"], tpr[\"macro\"],\n",
    "         label='macro-average ROC curve (area = {0:0.2f})'\n",
    "               ''.format(roc_auc[\"macro\"]),\n",
    "         color='navy', linestyle=':', linewidth=4)\n",
    "\n",
    "colors = cycle(['aqua', 'darkorange', 'cornflowerblue'])\n",
    "for i, color in zip(range(3), colors):\n",
    "    plt.plot(fpr[i], tpr[i], color=color, lw=lw,\n",
    "             label='ROC curve of class {0} (area = {1:0.2f})'\n",
    "             ''.format(i, roc_auc[i]))\n",
    "\n",
    "plt.plot([0, 1], [0, 1], 'k--', lw=lw)\n",
    "plt.xlim([0.0, 1.0])\n",
    "plt.ylim([0.0, 1.05])\n",
    "plt.xlabel('False Positive Rate')\n",
    "plt.ylabel('True Positive Rate')\n",
    "plt.title('Some extension of Receiver operating characteristic to multi-class')\n",
    "plt.legend(loc=\"lower right\")\n",
    "plt.show()"
   ]
  },
  {
   "cell_type": "code",
   "execution_count": null,
   "metadata": {
    "pycharm": {
     "name": "#%%\n"
    }
   },
   "outputs": [],
   "source": []
  },
  {
   "cell_type": "code",
   "execution_count": null,
   "metadata": {},
   "outputs": [],
   "source": []
  },
  {
   "cell_type": "code",
   "execution_count": null,
   "metadata": {},
   "outputs": [],
   "source": []
  }
 ],
 "metadata": {
  "kernelspec": {
   "display_name": "Python 3",
   "language": "python",
   "name": "python3"
  },
  "language_info": {
   "codemirror_mode": {
    "name": "ipython",
    "version": 3
   },
   "file_extension": ".py",
   "mimetype": "text/x-python",
   "name": "python",
   "nbconvert_exporter": "python",
   "pygments_lexer": "ipython3",
   "version": "3.7.4"
  },
  "pycharm": {
   "stem_cell": {
    "cell_type": "raw",
    "source": [],
    "metadata": {
     "collapsed": false
    }
   }
  }
 },
 "nbformat": 4,
 "nbformat_minor": 2
}
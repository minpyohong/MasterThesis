{
 "cells": [
  {
   "cell_type": "code",
   "execution_count": 1,
   "metadata": {
    "pycharm": {
     "name": "#%%\n"
    }
   },
   "outputs": [
    {
     "name": "stderr",
     "output_type": "stream",
     "text": [
      "/Users/hongminpyo/opt/anaconda3/lib/python3.7/site-packages/lightgbm/__init__.py:48: UserWarning: Starting from version 2.2.1, the library file in distribution wheels for macOS is built by the Apple Clang (Xcode_8.3.3) compiler.\n",
      "This means that in case of installing LightGBM from PyPI via the ``pip install lightgbm`` command, you don't need to install the gcc compiler anymore.\n",
      "Instead of that, you need to install the OpenMP library, which is required for running LightGBM on the system with the Apple Clang compiler.\n",
      "You can install the OpenMP library by the following command: ``brew install libomp``.\n",
      "  \"You can install the OpenMP library by the following command: ``brew install libomp``.\", UserWarning)\n"
     ]
    }
   ],
   "source": [
    "import re\n",
    "import math\n",
    "import numpy as np\n",
    "import pandas as pd\n",
    "from datetime import datetime\n",
    "from sklearn.preprocessing import StandardScaler\n",
    "from sklearn.model_selection import train_test_split\n",
    "from sklearn.tree import DecisionTreeClassifier\n",
    "from sklearn.ensemble import RandomForestClassifier\n",
    "from sklearn.ensemble import GradientBoostingClassifier\n",
    "from lightgbm import LGBMClassifier\n",
    "from sklearn.linear_model import LogisticRegression\n",
    "from sklearn.metrics import accuracy_score ,precision_score , recall_score , confusion_matrix , f1_score\n",
    "from sklearn.model_selection import GridSearchCV\n",
    "from ast import literal_eval\n",
    "from gensim.models.keyedvectors import KeyedVectors\n",
    "from sklearn.decomposition import PCA\n",
    "pca = PCA(n_components=40)\n",
    "from sklearn import datasets, metrics, model_selection\n",
    "import matplotlib.pyplot as plt\n",
    "from sklearn.metrics import roc_curve, auc\n",
    "from sklearn.metrics import roc_auc_score"
   ]
  },
  {
   "cell_type": "code",
   "execution_count": 2,
   "metadata": {
    "pycharm": {
     "name": "#%%\n"
    }
   },
   "outputs": [],
   "source": [
    "#data_train = pd.read_csv('./data/twitter_data_before_analysis.csv', error_bad_lines=False)\n",
    "data_train = pd.read_csv('./data/twitter_data_before_analysis1.csv', error_bad_lines=False)\n",
    "data_train = data_train.append(pd.read_csv('./data/ko_news_data_before_analysis.csv', error_bad_lines=False))\n",
    "data_train = data_train.append(pd.read_csv('./data/en_news_data_before_analysis.csv', error_bad_lines=False))"
   ]
  },
  {
   "cell_type": "code",
   "execution_count": 3,
   "metadata": {
    "pycharm": {
     "name": "#%%\n"
    }
   },
   "outputs": [],
   "source": [
    "data_train['period'] = pd.to_numeric(data_train['period'], errors='coerce')\n",
    "data_train['category'] = pd.to_numeric(data_train['category'], errors='coerce')\n",
    "data_train['label'] = pd.to_numeric(data_train['label'], errors='coerce')\n",
    "data_train['Silhouette'] = pd.to_numeric(data_train['Silhouette'], errors='coerce')"
   ]
  },
  {
   "cell_type": "code",
   "execution_count": 4,
   "metadata": {},
   "outputs": [
    {
     "name": "stdout",
     "output_type": "stream",
     "text": [
      "187533\n"
     ]
    }
   ],
   "source": [
    "print(len(data_train))"
   ]
  },
  {
   "cell_type": "code",
   "execution_count": 5,
   "metadata": {
    "pycharm": {
     "name": "#%%\n"
    }
   },
   "outputs": [],
   "source": [
    "X_train = data_train[data_train.columns.difference(['result'])]"
   ]
  },
  {
   "cell_type": "code",
   "execution_count": 6,
   "metadata": {
    "pycharm": {
     "name": "#%%\n"
    }
   },
   "outputs": [],
   "source": [
    "#x_data_df = data_train[['period','raw_data','closer#','category','label','Silhouette']]\n",
    "y_train = data_train['result']"
   ]
  },
  {
   "cell_type": "code",
   "execution_count": 7,
   "metadata": {
    "pycharm": {
     "name": "#%%\n"
    }
   },
   "outputs": [],
   "source": [
    "X_train = X_train.drop('Unnamed: 0', axis=1)"
   ]
  },
  {
   "cell_type": "code",
   "execution_count": 8,
   "metadata": {},
   "outputs": [],
   "source": [
    "btc_data = pd.read_csv('../../analysis/cluster/causeanalysis/BTC/after_BTC_total.csv', error_bad_lines=False)\n",
    "bch_data = pd.read_csv('../../analysis/cluster/causeanalysis/BCH/after_BCH_total.csv', error_bad_lines=False)\n",
    "eth_data = pd.read_csv('../../analysis/cluster/causeanalysis/ETH/after_ETH_total.csv', error_bad_lines=False)"
   ]
  },
  {
   "cell_type": "code",
   "execution_count": 9,
   "metadata": {
    "pycharm": {
     "name": "#%%\n"
    }
   },
   "outputs": [],
   "source": [
    "data_test = pd.concat([btc_data,bch_data,eth_data],ignore_index=True)"
   ]
  },
  {
   "cell_type": "code",
   "execution_count": 10,
   "metadata": {},
   "outputs": [],
   "source": [
    "data_test['period'] = pd.to_numeric(data_test['period'], errors='coerce')\n",
    "data_test['category'] = pd.to_numeric(data_test['category'], errors='coerce')\n",
    "data_test['label'] = pd.to_numeric(data_test['label'], errors='coerce')\n",
    "data_test['Silhouette'] = pd.to_numeric(data_test['Silhouette'], errors='coerce')"
   ]
  },
  {
   "cell_type": "code",
   "execution_count": 11,
   "metadata": {
    "pycharm": {
     "name": "#%%\n"
    }
   },
   "outputs": [],
   "source": [
    "def trans_result(x) :\n",
    "    if x==0 :\n",
    "        return 1\n",
    "    if x==1 :\n",
    "        return 2"
   ]
  },
  {
   "cell_type": "code",
   "execution_count": 12,
   "metadata": {},
   "outputs": [],
   "source": [
    "data_test['result']=data_test['result'].apply(trans_result)"
   ]
  },
  {
   "cell_type": "code",
   "execution_count": 15,
   "metadata": {
    "pycharm": {
     "name": "#%%\n"
    }
   },
   "outputs": [
    {
     "data": {
      "text/html": [
       "<div>\n",
       "<style scoped>\n",
       "    .dataframe tbody tr th:only-of-type {\n",
       "        vertical-align: middle;\n",
       "    }\n",
       "\n",
       "    .dataframe tbody tr th {\n",
       "        vertical-align: top;\n",
       "    }\n",
       "\n",
       "    .dataframe thead th {\n",
       "        text-align: right;\n",
       "    }\n",
       "</style>\n",
       "<table border=\"1\" class=\"dataframe\">\n",
       "  <thead>\n",
       "    <tr style=\"text-align: right;\">\n",
       "      <th></th>\n",
       "      <th>Unnamed: 0</th>\n",
       "      <th>C1</th>\n",
       "      <th>C2</th>\n",
       "      <th>C3</th>\n",
       "      <th>C4</th>\n",
       "      <th>C5</th>\n",
       "      <th>C6</th>\n",
       "      <th>C7</th>\n",
       "      <th>C8</th>\n",
       "      <th>C9</th>\n",
       "      <th>...</th>\n",
       "      <th>C97</th>\n",
       "      <th>C98</th>\n",
       "      <th>C99</th>\n",
       "      <th>C100</th>\n",
       "      <th>period</th>\n",
       "      <th>closer#</th>\n",
       "      <th>category</th>\n",
       "      <th>label</th>\n",
       "      <th>Silhouette</th>\n",
       "      <th>result</th>\n",
       "    </tr>\n",
       "  </thead>\n",
       "  <tbody>\n",
       "    <tr>\n",
       "      <td>0</td>\n",
       "      <td>0</td>\n",
       "      <td>0.055791</td>\n",
       "      <td>0.067201</td>\n",
       "      <td>0.036511</td>\n",
       "      <td>0.037279</td>\n",
       "      <td>-0.108456</td>\n",
       "      <td>-0.012382</td>\n",
       "      <td>0.115639</td>\n",
       "      <td>-0.036428</td>\n",
       "      <td>0.052298</td>\n",
       "      <td>...</td>\n",
       "      <td>0.011846</td>\n",
       "      <td>-0.066626</td>\n",
       "      <td>0.002210</td>\n",
       "      <td>-0.026107</td>\n",
       "      <td>201712</td>\n",
       "      <td>2</td>\n",
       "      <td>3</td>\n",
       "      <td>4.0</td>\n",
       "      <td>0.697050</td>\n",
       "      <td>2</td>\n",
       "    </tr>\n",
       "    <tr>\n",
       "      <td>1</td>\n",
       "      <td>1</td>\n",
       "      <td>0.055324</td>\n",
       "      <td>0.069414</td>\n",
       "      <td>0.050060</td>\n",
       "      <td>0.054551</td>\n",
       "      <td>-0.121273</td>\n",
       "      <td>-0.020285</td>\n",
       "      <td>0.135186</td>\n",
       "      <td>-0.043571</td>\n",
       "      <td>0.049571</td>\n",
       "      <td>...</td>\n",
       "      <td>0.004311</td>\n",
       "      <td>-0.054605</td>\n",
       "      <td>0.006341</td>\n",
       "      <td>-0.012206</td>\n",
       "      <td>201712</td>\n",
       "      <td>2</td>\n",
       "      <td>3</td>\n",
       "      <td>4.0</td>\n",
       "      <td>0.697050</td>\n",
       "      <td>2</td>\n",
       "    </tr>\n",
       "    <tr>\n",
       "      <td>2</td>\n",
       "      <td>2</td>\n",
       "      <td>0.450239</td>\n",
       "      <td>0.531251</td>\n",
       "      <td>0.211260</td>\n",
       "      <td>0.536789</td>\n",
       "      <td>-0.981408</td>\n",
       "      <td>-0.085303</td>\n",
       "      <td>1.162932</td>\n",
       "      <td>-0.695507</td>\n",
       "      <td>0.750968</td>\n",
       "      <td>...</td>\n",
       "      <td>0.147823</td>\n",
       "      <td>-0.689736</td>\n",
       "      <td>0.231391</td>\n",
       "      <td>-0.344753</td>\n",
       "      <td>201712</td>\n",
       "      <td>2</td>\n",
       "      <td>3</td>\n",
       "      <td>13.0</td>\n",
       "      <td>0.697050</td>\n",
       "      <td>2</td>\n",
       "    </tr>\n",
       "    <tr>\n",
       "      <td>3</td>\n",
       "      <td>3</td>\n",
       "      <td>0.065031</td>\n",
       "      <td>0.077390</td>\n",
       "      <td>0.049108</td>\n",
       "      <td>0.055234</td>\n",
       "      <td>-0.130415</td>\n",
       "      <td>-0.005585</td>\n",
       "      <td>0.145353</td>\n",
       "      <td>-0.043958</td>\n",
       "      <td>0.061916</td>\n",
       "      <td>...</td>\n",
       "      <td>0.018522</td>\n",
       "      <td>-0.070093</td>\n",
       "      <td>0.015097</td>\n",
       "      <td>-0.032401</td>\n",
       "      <td>201712</td>\n",
       "      <td>2</td>\n",
       "      <td>3</td>\n",
       "      <td>4.0</td>\n",
       "      <td>0.697050</td>\n",
       "      <td>2</td>\n",
       "    </tr>\n",
       "    <tr>\n",
       "      <td>4</td>\n",
       "      <td>4</td>\n",
       "      <td>0.114619</td>\n",
       "      <td>0.127246</td>\n",
       "      <td>0.063834</td>\n",
       "      <td>0.108179</td>\n",
       "      <td>-0.238480</td>\n",
       "      <td>-0.026743</td>\n",
       "      <td>0.265977</td>\n",
       "      <td>-0.139591</td>\n",
       "      <td>0.164805</td>\n",
       "      <td>...</td>\n",
       "      <td>0.028487</td>\n",
       "      <td>-0.151610</td>\n",
       "      <td>0.045337</td>\n",
       "      <td>-0.066052</td>\n",
       "      <td>201712</td>\n",
       "      <td>2</td>\n",
       "      <td>3</td>\n",
       "      <td>2.0</td>\n",
       "      <td>0.697050</td>\n",
       "      <td>2</td>\n",
       "    </tr>\n",
       "    <tr>\n",
       "      <td>...</td>\n",
       "      <td>...</td>\n",
       "      <td>...</td>\n",
       "      <td>...</td>\n",
       "      <td>...</td>\n",
       "      <td>...</td>\n",
       "      <td>...</td>\n",
       "      <td>...</td>\n",
       "      <td>...</td>\n",
       "      <td>...</td>\n",
       "      <td>...</td>\n",
       "      <td>...</td>\n",
       "      <td>...</td>\n",
       "      <td>...</td>\n",
       "      <td>...</td>\n",
       "      <td>...</td>\n",
       "      <td>...</td>\n",
       "      <td>...</td>\n",
       "      <td>...</td>\n",
       "      <td>...</td>\n",
       "      <td>...</td>\n",
       "      <td>...</td>\n",
       "    </tr>\n",
       "    <tr>\n",
       "      <td>58929</td>\n",
       "      <td>13404</td>\n",
       "      <td>0.000337</td>\n",
       "      <td>-0.005514</td>\n",
       "      <td>-0.001608</td>\n",
       "      <td>0.003084</td>\n",
       "      <td>-0.004457</td>\n",
       "      <td>-0.005445</td>\n",
       "      <td>0.000816</td>\n",
       "      <td>0.005935</td>\n",
       "      <td>0.002326</td>\n",
       "      <td>...</td>\n",
       "      <td>0.001354</td>\n",
       "      <td>-0.006086</td>\n",
       "      <td>-0.007855</td>\n",
       "      <td>-0.006233</td>\n",
       "      <td>201822</td>\n",
       "      <td>2</td>\n",
       "      <td>3</td>\n",
       "      <td>11.0</td>\n",
       "      <td>0.676748</td>\n",
       "      <td>2</td>\n",
       "    </tr>\n",
       "    <tr>\n",
       "      <td>58930</td>\n",
       "      <td>13405</td>\n",
       "      <td>-0.004633</td>\n",
       "      <td>0.000762</td>\n",
       "      <td>0.005845</td>\n",
       "      <td>0.002824</td>\n",
       "      <td>-0.004052</td>\n",
       "      <td>-0.004680</td>\n",
       "      <td>0.004581</td>\n",
       "      <td>0.003624</td>\n",
       "      <td>-0.003662</td>\n",
       "      <td>...</td>\n",
       "      <td>0.004297</td>\n",
       "      <td>-0.004271</td>\n",
       "      <td>-0.005320</td>\n",
       "      <td>-0.003989</td>\n",
       "      <td>201822</td>\n",
       "      <td>2</td>\n",
       "      <td>3</td>\n",
       "      <td>11.0</td>\n",
       "      <td>0.676748</td>\n",
       "      <td>2</td>\n",
       "    </tr>\n",
       "    <tr>\n",
       "      <td>58931</td>\n",
       "      <td>13406</td>\n",
       "      <td>-0.000073</td>\n",
       "      <td>-0.006311</td>\n",
       "      <td>-0.000139</td>\n",
       "      <td>0.011474</td>\n",
       "      <td>-0.002909</td>\n",
       "      <td>-0.006782</td>\n",
       "      <td>-0.002925</td>\n",
       "      <td>0.002916</td>\n",
       "      <td>-0.000318</td>\n",
       "      <td>...</td>\n",
       "      <td>0.012653</td>\n",
       "      <td>-0.010827</td>\n",
       "      <td>-0.006800</td>\n",
       "      <td>-0.004173</td>\n",
       "      <td>201822</td>\n",
       "      <td>2</td>\n",
       "      <td>3</td>\n",
       "      <td>11.0</td>\n",
       "      <td>0.676748</td>\n",
       "      <td>2</td>\n",
       "    </tr>\n",
       "    <tr>\n",
       "      <td>58932</td>\n",
       "      <td>13407</td>\n",
       "      <td>-0.005114</td>\n",
       "      <td>-0.000916</td>\n",
       "      <td>0.000058</td>\n",
       "      <td>0.013950</td>\n",
       "      <td>0.000576</td>\n",
       "      <td>-0.008504</td>\n",
       "      <td>-0.002621</td>\n",
       "      <td>0.004988</td>\n",
       "      <td>-0.000049</td>\n",
       "      <td>...</td>\n",
       "      <td>0.015826</td>\n",
       "      <td>-0.005062</td>\n",
       "      <td>-0.010860</td>\n",
       "      <td>-0.000379</td>\n",
       "      <td>201822</td>\n",
       "      <td>2</td>\n",
       "      <td>3</td>\n",
       "      <td>11.0</td>\n",
       "      <td>0.676748</td>\n",
       "      <td>2</td>\n",
       "    </tr>\n",
       "    <tr>\n",
       "      <td>58933</td>\n",
       "      <td>13408</td>\n",
       "      <td>0.002647</td>\n",
       "      <td>0.001667</td>\n",
       "      <td>0.003065</td>\n",
       "      <td>-0.002534</td>\n",
       "      <td>0.002721</td>\n",
       "      <td>-0.005537</td>\n",
       "      <td>0.004325</td>\n",
       "      <td>0.005571</td>\n",
       "      <td>0.000929</td>\n",
       "      <td>...</td>\n",
       "      <td>-0.001604</td>\n",
       "      <td>0.000725</td>\n",
       "      <td>-0.006180</td>\n",
       "      <td>0.003029</td>\n",
       "      <td>201822</td>\n",
       "      <td>2</td>\n",
       "      <td>3</td>\n",
       "      <td>11.0</td>\n",
       "      <td>0.676748</td>\n",
       "      <td>2</td>\n",
       "    </tr>\n",
       "  </tbody>\n",
       "</table>\n",
       "<p>27333 rows × 107 columns</p>\n",
       "</div>"
      ],
      "text/plain": [
       "       Unnamed: 0        C1        C2        C3        C4        C5        C6  \\\n",
       "0               0  0.055791  0.067201  0.036511  0.037279 -0.108456 -0.012382   \n",
       "1               1  0.055324  0.069414  0.050060  0.054551 -0.121273 -0.020285   \n",
       "2               2  0.450239  0.531251  0.211260  0.536789 -0.981408 -0.085303   \n",
       "3               3  0.065031  0.077390  0.049108  0.055234 -0.130415 -0.005585   \n",
       "4               4  0.114619  0.127246  0.063834  0.108179 -0.238480 -0.026743   \n",
       "...           ...       ...       ...       ...       ...       ...       ...   \n",
       "58929       13404  0.000337 -0.005514 -0.001608  0.003084 -0.004457 -0.005445   \n",
       "58930       13405 -0.004633  0.000762  0.005845  0.002824 -0.004052 -0.004680   \n",
       "58931       13406 -0.000073 -0.006311 -0.000139  0.011474 -0.002909 -0.006782   \n",
       "58932       13407 -0.005114 -0.000916  0.000058  0.013950  0.000576 -0.008504   \n",
       "58933       13408  0.002647  0.001667  0.003065 -0.002534  0.002721 -0.005537   \n",
       "\n",
       "             C7        C8        C9  ...       C97       C98       C99  \\\n",
       "0      0.115639 -0.036428  0.052298  ...  0.011846 -0.066626  0.002210   \n",
       "1      0.135186 -0.043571  0.049571  ...  0.004311 -0.054605  0.006341   \n",
       "2      1.162932 -0.695507  0.750968  ...  0.147823 -0.689736  0.231391   \n",
       "3      0.145353 -0.043958  0.061916  ...  0.018522 -0.070093  0.015097   \n",
       "4      0.265977 -0.139591  0.164805  ...  0.028487 -0.151610  0.045337   \n",
       "...         ...       ...       ...  ...       ...       ...       ...   \n",
       "58929  0.000816  0.005935  0.002326  ...  0.001354 -0.006086 -0.007855   \n",
       "58930  0.004581  0.003624 -0.003662  ...  0.004297 -0.004271 -0.005320   \n",
       "58931 -0.002925  0.002916 -0.000318  ...  0.012653 -0.010827 -0.006800   \n",
       "58932 -0.002621  0.004988 -0.000049  ...  0.015826 -0.005062 -0.010860   \n",
       "58933  0.004325  0.005571  0.000929  ... -0.001604  0.000725 -0.006180   \n",
       "\n",
       "           C100  period  closer#  category  label  Silhouette  result  \n",
       "0     -0.026107  201712        2         3    4.0    0.697050       2  \n",
       "1     -0.012206  201712        2         3    4.0    0.697050       2  \n",
       "2     -0.344753  201712        2         3   13.0    0.697050       2  \n",
       "3     -0.032401  201712        2         3    4.0    0.697050       2  \n",
       "4     -0.066052  201712        2         3    2.0    0.697050       2  \n",
       "...         ...     ...      ...       ...    ...         ...     ...  \n",
       "58929 -0.006233  201822        2         3   11.0    0.676748       2  \n",
       "58930 -0.003989  201822        2         3   11.0    0.676748       2  \n",
       "58931 -0.004173  201822        2         3   11.0    0.676748       2  \n",
       "58932 -0.000379  201822        2         3   11.0    0.676748       2  \n",
       "58933  0.003029  201822        2         3   11.0    0.676748       2  \n",
       "\n",
       "[27333 rows x 107 columns]"
      ]
     },
     "execution_count": 15,
     "metadata": {},
     "output_type": "execute_result"
    }
   ],
   "source": [
    "data_test[data_test['result']==2]"
   ]
  },
  {
   "cell_type": "code",
   "execution_count": 16,
   "metadata": {
    "pycharm": {
     "name": "#%%\n"
    }
   },
   "outputs": [],
   "source": [
    "y_test = data_test['result']"
   ]
  },
  {
   "cell_type": "code",
   "execution_count": 17,
   "metadata": {},
   "outputs": [],
   "source": [
    "X_test = data_test[data_test.columns.difference(['result'])]"
   ]
  },
  {
   "cell_type": "code",
   "execution_count": 18,
   "metadata": {},
   "outputs": [],
   "source": [
    "X_test = X_test.drop('Unnamed: 0', axis=1)"
   ]
  },
  {
   "cell_type": "code",
   "execution_count": 19,
   "metadata": {},
   "outputs": [
    {
     "data": {
      "text/html": [
       "<div>\n",
       "<style scoped>\n",
       "    .dataframe tbody tr th:only-of-type {\n",
       "        vertical-align: middle;\n",
       "    }\n",
       "\n",
       "    .dataframe tbody tr th {\n",
       "        vertical-align: top;\n",
       "    }\n",
       "\n",
       "    .dataframe thead th {\n",
       "        text-align: right;\n",
       "    }\n",
       "</style>\n",
       "<table border=\"1\" class=\"dataframe\">\n",
       "  <thead>\n",
       "    <tr style=\"text-align: right;\">\n",
       "      <th></th>\n",
       "      <th>C1</th>\n",
       "      <th>C10</th>\n",
       "      <th>C100</th>\n",
       "      <th>C11</th>\n",
       "      <th>C12</th>\n",
       "      <th>C13</th>\n",
       "      <th>C14</th>\n",
       "      <th>C15</th>\n",
       "      <th>C16</th>\n",
       "      <th>C17</th>\n",
       "      <th>...</th>\n",
       "      <th>C95</th>\n",
       "      <th>C96</th>\n",
       "      <th>C97</th>\n",
       "      <th>C98</th>\n",
       "      <th>C99</th>\n",
       "      <th>Silhouette</th>\n",
       "      <th>category</th>\n",
       "      <th>closer#</th>\n",
       "      <th>label</th>\n",
       "      <th>period</th>\n",
       "    </tr>\n",
       "  </thead>\n",
       "  <tbody>\n",
       "    <tr>\n",
       "      <td>0</td>\n",
       "      <td>0.055791</td>\n",
       "      <td>0.068782</td>\n",
       "      <td>-0.026107</td>\n",
       "      <td>-0.066030</td>\n",
       "      <td>0.031446</td>\n",
       "      <td>-0.051075</td>\n",
       "      <td>-0.001214</td>\n",
       "      <td>0.013288</td>\n",
       "      <td>-0.074120</td>\n",
       "      <td>-0.043237</td>\n",
       "      <td>...</td>\n",
       "      <td>-0.154494</td>\n",
       "      <td>-0.006258</td>\n",
       "      <td>0.011846</td>\n",
       "      <td>-0.066626</td>\n",
       "      <td>0.002210</td>\n",
       "      <td>0.697050</td>\n",
       "      <td>3</td>\n",
       "      <td>2</td>\n",
       "      <td>4.0</td>\n",
       "      <td>201712</td>\n",
       "    </tr>\n",
       "    <tr>\n",
       "      <td>1</td>\n",
       "      <td>0.055324</td>\n",
       "      <td>0.062319</td>\n",
       "      <td>-0.012206</td>\n",
       "      <td>-0.069865</td>\n",
       "      <td>0.027048</td>\n",
       "      <td>-0.049585</td>\n",
       "      <td>-0.009296</td>\n",
       "      <td>0.030463</td>\n",
       "      <td>-0.079925</td>\n",
       "      <td>-0.043982</td>\n",
       "      <td>...</td>\n",
       "      <td>-0.167317</td>\n",
       "      <td>-0.012893</td>\n",
       "      <td>0.004311</td>\n",
       "      <td>-0.054605</td>\n",
       "      <td>0.006341</td>\n",
       "      <td>0.697050</td>\n",
       "      <td>3</td>\n",
       "      <td>2</td>\n",
       "      <td>4.0</td>\n",
       "      <td>201712</td>\n",
       "    </tr>\n",
       "    <tr>\n",
       "      <td>2</td>\n",
       "      <td>0.450239</td>\n",
       "      <td>0.693979</td>\n",
       "      <td>-0.344753</td>\n",
       "      <td>-0.611851</td>\n",
       "      <td>0.340052</td>\n",
       "      <td>-0.439572</td>\n",
       "      <td>0.016754</td>\n",
       "      <td>0.193928</td>\n",
       "      <td>-0.866130</td>\n",
       "      <td>-0.107834</td>\n",
       "      <td>...</td>\n",
       "      <td>-1.529588</td>\n",
       "      <td>0.140587</td>\n",
       "      <td>0.147823</td>\n",
       "      <td>-0.689736</td>\n",
       "      <td>0.231391</td>\n",
       "      <td>0.697050</td>\n",
       "      <td>3</td>\n",
       "      <td>2</td>\n",
       "      <td>13.0</td>\n",
       "      <td>201712</td>\n",
       "    </tr>\n",
       "    <tr>\n",
       "      <td>3</td>\n",
       "      <td>0.065031</td>\n",
       "      <td>0.080975</td>\n",
       "      <td>-0.032401</td>\n",
       "      <td>-0.082266</td>\n",
       "      <td>0.045189</td>\n",
       "      <td>-0.053763</td>\n",
       "      <td>0.000752</td>\n",
       "      <td>0.014797</td>\n",
       "      <td>-0.091770</td>\n",
       "      <td>-0.050328</td>\n",
       "      <td>...</td>\n",
       "      <td>-0.175071</td>\n",
       "      <td>-0.011462</td>\n",
       "      <td>0.018522</td>\n",
       "      <td>-0.070093</td>\n",
       "      <td>0.015097</td>\n",
       "      <td>0.697050</td>\n",
       "      <td>3</td>\n",
       "      <td>2</td>\n",
       "      <td>4.0</td>\n",
       "      <td>201712</td>\n",
       "    </tr>\n",
       "    <tr>\n",
       "      <td>4</td>\n",
       "      <td>0.114619</td>\n",
       "      <td>0.149556</td>\n",
       "      <td>-0.066052</td>\n",
       "      <td>-0.147802</td>\n",
       "      <td>0.078769</td>\n",
       "      <td>-0.101842</td>\n",
       "      <td>0.000272</td>\n",
       "      <td>0.051071</td>\n",
       "      <td>-0.194238</td>\n",
       "      <td>-0.048906</td>\n",
       "      <td>...</td>\n",
       "      <td>-0.351923</td>\n",
       "      <td>0.008798</td>\n",
       "      <td>0.028487</td>\n",
       "      <td>-0.151610</td>\n",
       "      <td>0.045337</td>\n",
       "      <td>0.697050</td>\n",
       "      <td>3</td>\n",
       "      <td>2</td>\n",
       "      <td>2.0</td>\n",
       "      <td>201712</td>\n",
       "    </tr>\n",
       "    <tr>\n",
       "      <td>...</td>\n",
       "      <td>...</td>\n",
       "      <td>...</td>\n",
       "      <td>...</td>\n",
       "      <td>...</td>\n",
       "      <td>...</td>\n",
       "      <td>...</td>\n",
       "      <td>...</td>\n",
       "      <td>...</td>\n",
       "      <td>...</td>\n",
       "      <td>...</td>\n",
       "      <td>...</td>\n",
       "      <td>...</td>\n",
       "      <td>...</td>\n",
       "      <td>...</td>\n",
       "      <td>...</td>\n",
       "      <td>...</td>\n",
       "      <td>...</td>\n",
       "      <td>...</td>\n",
       "      <td>...</td>\n",
       "      <td>...</td>\n",
       "      <td>...</td>\n",
       "    </tr>\n",
       "    <tr>\n",
       "      <td>62592</td>\n",
       "      <td>0.007526</td>\n",
       "      <td>0.000226</td>\n",
       "      <td>0.002922</td>\n",
       "      <td>0.002423</td>\n",
       "      <td>-0.011788</td>\n",
       "      <td>-0.003523</td>\n",
       "      <td>0.008707</td>\n",
       "      <td>-0.014678</td>\n",
       "      <td>-0.006766</td>\n",
       "      <td>-0.003803</td>\n",
       "      <td>...</td>\n",
       "      <td>-0.001407</td>\n",
       "      <td>-0.002353</td>\n",
       "      <td>0.000688</td>\n",
       "      <td>-0.001124</td>\n",
       "      <td>0.003302</td>\n",
       "      <td>0.690571</td>\n",
       "      <td>3</td>\n",
       "      <td>2</td>\n",
       "      <td>6.0</td>\n",
       "      <td>201821</td>\n",
       "    </tr>\n",
       "    <tr>\n",
       "      <td>62593</td>\n",
       "      <td>0.001567</td>\n",
       "      <td>-0.000234</td>\n",
       "      <td>-0.001776</td>\n",
       "      <td>-0.000090</td>\n",
       "      <td>-0.000380</td>\n",
       "      <td>-0.007325</td>\n",
       "      <td>0.007395</td>\n",
       "      <td>-0.007073</td>\n",
       "      <td>-0.000563</td>\n",
       "      <td>-0.003848</td>\n",
       "      <td>...</td>\n",
       "      <td>-0.001786</td>\n",
       "      <td>-0.002352</td>\n",
       "      <td>0.003189</td>\n",
       "      <td>0.004044</td>\n",
       "      <td>-0.003393</td>\n",
       "      <td>0.690571</td>\n",
       "      <td>3</td>\n",
       "      <td>2</td>\n",
       "      <td>6.0</td>\n",
       "      <td>201821</td>\n",
       "    </tr>\n",
       "    <tr>\n",
       "      <td>62594</td>\n",
       "      <td>0.004602</td>\n",
       "      <td>-0.000838</td>\n",
       "      <td>0.000404</td>\n",
       "      <td>0.004663</td>\n",
       "      <td>-0.005408</td>\n",
       "      <td>-0.001684</td>\n",
       "      <td>0.000722</td>\n",
       "      <td>-0.004215</td>\n",
       "      <td>-0.002476</td>\n",
       "      <td>0.002638</td>\n",
       "      <td>...</td>\n",
       "      <td>0.004331</td>\n",
       "      <td>0.004369</td>\n",
       "      <td>0.004850</td>\n",
       "      <td>0.005045</td>\n",
       "      <td>0.000538</td>\n",
       "      <td>0.690571</td>\n",
       "      <td>3</td>\n",
       "      <td>2</td>\n",
       "      <td>6.0</td>\n",
       "      <td>201821</td>\n",
       "    </tr>\n",
       "    <tr>\n",
       "      <td>62595</td>\n",
       "      <td>0.003545</td>\n",
       "      <td>0.003096</td>\n",
       "      <td>-0.002754</td>\n",
       "      <td>0.004138</td>\n",
       "      <td>-0.005611</td>\n",
       "      <td>-0.008500</td>\n",
       "      <td>0.007488</td>\n",
       "      <td>-0.003219</td>\n",
       "      <td>-0.003871</td>\n",
       "      <td>-0.006312</td>\n",
       "      <td>...</td>\n",
       "      <td>-0.002103</td>\n",
       "      <td>-0.004665</td>\n",
       "      <td>0.003331</td>\n",
       "      <td>0.003858</td>\n",
       "      <td>-0.000033</td>\n",
       "      <td>0.690571</td>\n",
       "      <td>3</td>\n",
       "      <td>2</td>\n",
       "      <td>6.0</td>\n",
       "      <td>201821</td>\n",
       "    </tr>\n",
       "    <tr>\n",
       "      <td>62596</td>\n",
       "      <td>-0.004655</td>\n",
       "      <td>0.003612</td>\n",
       "      <td>0.003149</td>\n",
       "      <td>-0.004656</td>\n",
       "      <td>0.001668</td>\n",
       "      <td>0.004132</td>\n",
       "      <td>-0.004804</td>\n",
       "      <td>-0.002284</td>\n",
       "      <td>-0.002179</td>\n",
       "      <td>0.004529</td>\n",
       "      <td>...</td>\n",
       "      <td>0.001466</td>\n",
       "      <td>0.003067</td>\n",
       "      <td>-0.003389</td>\n",
       "      <td>-0.002557</td>\n",
       "      <td>0.001855</td>\n",
       "      <td>0.690571</td>\n",
       "      <td>3</td>\n",
       "      <td>2</td>\n",
       "      <td>6.0</td>\n",
       "      <td>201821</td>\n",
       "    </tr>\n",
       "  </tbody>\n",
       "</table>\n",
       "<p>62597 rows × 105 columns</p>\n",
       "</div>"
      ],
      "text/plain": [
       "             C1       C10      C100       C11       C12       C13       C14  \\\n",
       "0      0.055791  0.068782 -0.026107 -0.066030  0.031446 -0.051075 -0.001214   \n",
       "1      0.055324  0.062319 -0.012206 -0.069865  0.027048 -0.049585 -0.009296   \n",
       "2      0.450239  0.693979 -0.344753 -0.611851  0.340052 -0.439572  0.016754   \n",
       "3      0.065031  0.080975 -0.032401 -0.082266  0.045189 -0.053763  0.000752   \n",
       "4      0.114619  0.149556 -0.066052 -0.147802  0.078769 -0.101842  0.000272   \n",
       "...         ...       ...       ...       ...       ...       ...       ...   \n",
       "62592  0.007526  0.000226  0.002922  0.002423 -0.011788 -0.003523  0.008707   \n",
       "62593  0.001567 -0.000234 -0.001776 -0.000090 -0.000380 -0.007325  0.007395   \n",
       "62594  0.004602 -0.000838  0.000404  0.004663 -0.005408 -0.001684  0.000722   \n",
       "62595  0.003545  0.003096 -0.002754  0.004138 -0.005611 -0.008500  0.007488   \n",
       "62596 -0.004655  0.003612  0.003149 -0.004656  0.001668  0.004132 -0.004804   \n",
       "\n",
       "            C15       C16       C17  ...       C95       C96       C97  \\\n",
       "0      0.013288 -0.074120 -0.043237  ... -0.154494 -0.006258  0.011846   \n",
       "1      0.030463 -0.079925 -0.043982  ... -0.167317 -0.012893  0.004311   \n",
       "2      0.193928 -0.866130 -0.107834  ... -1.529588  0.140587  0.147823   \n",
       "3      0.014797 -0.091770 -0.050328  ... -0.175071 -0.011462  0.018522   \n",
       "4      0.051071 -0.194238 -0.048906  ... -0.351923  0.008798  0.028487   \n",
       "...         ...       ...       ...  ...       ...       ...       ...   \n",
       "62592 -0.014678 -0.006766 -0.003803  ... -0.001407 -0.002353  0.000688   \n",
       "62593 -0.007073 -0.000563 -0.003848  ... -0.001786 -0.002352  0.003189   \n",
       "62594 -0.004215 -0.002476  0.002638  ...  0.004331  0.004369  0.004850   \n",
       "62595 -0.003219 -0.003871 -0.006312  ... -0.002103 -0.004665  0.003331   \n",
       "62596 -0.002284 -0.002179  0.004529  ...  0.001466  0.003067 -0.003389   \n",
       "\n",
       "            C98       C99  Silhouette  category  closer#  label  period  \n",
       "0     -0.066626  0.002210    0.697050         3        2    4.0  201712  \n",
       "1     -0.054605  0.006341    0.697050         3        2    4.0  201712  \n",
       "2     -0.689736  0.231391    0.697050         3        2   13.0  201712  \n",
       "3     -0.070093  0.015097    0.697050         3        2    4.0  201712  \n",
       "4     -0.151610  0.045337    0.697050         3        2    2.0  201712  \n",
       "...         ...       ...         ...       ...      ...    ...     ...  \n",
       "62592 -0.001124  0.003302    0.690571         3        2    6.0  201821  \n",
       "62593  0.004044 -0.003393    0.690571         3        2    6.0  201821  \n",
       "62594  0.005045  0.000538    0.690571         3        2    6.0  201821  \n",
       "62595  0.003858 -0.000033    0.690571         3        2    6.0  201821  \n",
       "62596 -0.002557  0.001855    0.690571         3        2    6.0  201821  \n",
       "\n",
       "[62597 rows x 105 columns]"
      ]
     },
     "execution_count": 19,
     "metadata": {},
     "output_type": "execute_result"
    }
   ],
   "source": [
    "X_test"
   ]
  },
  {
   "cell_type": "code",
   "execution_count": 20,
   "metadata": {
    "pycharm": {
     "name": "#%%\n"
    }
   },
   "outputs": [],
   "source": [
    "rf_clf = RandomForestClassifier(random_state = 11 ,n_jobs=-1) # random forest"
   ]
  },
  {
   "cell_type": "code",
   "execution_count": 21,
   "metadata": {
    "pycharm": {
     "name": "#%%\n"
    }
   },
   "outputs": [],
   "source": [
    "rf_clf.fit(X_train, y_train)\n",
    "\n",
    "y_score = rf_clf.predict_proba(X_test)\n",
    "\n"
   ]
  },
  {
   "cell_type": "code",
   "execution_count": 22,
   "metadata": {
    "pycharm": {
     "name": "#%%\n"
    }
   },
   "outputs": [],
   "source": [
    "rf_pred = rf_clf.predict(X_test)  # random forest predict"
   ]
  },
  {
   "cell_type": "code",
   "execution_count": 23,
   "metadata": {
    "pycharm": {
     "name": "#%%\n"
    }
   },
   "outputs": [
    {
     "name": "stdout",
     "output_type": "stream",
     "text": [
      "Random Forest Accuracy :   0.47737112002172627\n",
      "Random Forest Precision :   0.4722482760717115\n",
      "Random Forest Recall :   0.47737112002172627\n",
      "Random Forest f1 :   0.4641079154497784\n"
     ]
    },
    {
     "name": "stderr",
     "output_type": "stream",
     "text": [
      "/Users/hongminpyo/opt/anaconda3/lib/python3.7/site-packages/sklearn/metrics/_classification.py:1270: UserWarning: Note that pos_label (set to 'positive') is ignored when average != 'binary' (got 'weighted'). You may use labels=[pos_label] to specify a single positive class.\n",
      "  % (pos_label, average), UserWarning)\n",
      "/Users/hongminpyo/opt/anaconda3/lib/python3.7/site-packages/sklearn/metrics/_classification.py:1221: UndefinedMetricWarning: Recall is ill-defined and being set to 0.0 in labels with no true samples. Use `zero_division` parameter to control this behavior.\n",
      "  _warn_prf(average, modifier, msg_start, len(result))\n"
     ]
    }
   ],
   "source": [
    "print('Random Forest Accuracy :  ',accuracy_score(y_test,rf_pred))\n",
    "print('Random Forest Precision :  ',precision_score(y_test,rf_pred,pos_label='positive',average='weighted'))\n",
    "print('Random Forest Recall :  ',recall_score(y_test,rf_pred,pos_label='positive',average='weighted'))\n",
    "print('Random Forest f1 :  ',f1_score(y_test,rf_pred,pos_label='positive',average='weighted'))"
   ]
  },
  {
   "cell_type": "code",
   "execution_count": 24,
   "metadata": {
    "pycharm": {
     "name": "#%%\n"
    }
   },
   "outputs": [
    {
     "data": {
      "text/plain": [
       "array([[0.41, 0.34, 0.25],\n",
       "       [0.42, 0.36, 0.22],\n",
       "       [0.41, 0.3 , 0.29],\n",
       "       ...,\n",
       "       [0.43, 0.32, 0.25],\n",
       "       [0.41, 0.36, 0.23],\n",
       "       [0.47, 0.35, 0.18]])"
      ]
     },
     "execution_count": 24,
     "metadata": {},
     "output_type": "execute_result"
    }
   ],
   "source": [
    "y_score"
   ]
  },
  {
   "cell_type": "code",
   "execution_count": 25,
   "metadata": {
    "pycharm": {
     "name": "#%%\n"
    }
   },
   "outputs": [
    {
     "name": "stdout",
     "output_type": "stream",
     "text": [
      "0        2\n",
      "1        2\n",
      "2        2\n",
      "3        2\n",
      "4        2\n",
      "        ..\n",
      "62592    1\n",
      "62593    1\n",
      "62594    1\n",
      "62595    1\n",
      "62596    1\n",
      "Name: result, Length: 62597, dtype: int64\n",
      "[[0 1 0]\n",
      " [0 1 0]\n",
      " [0 1 0]\n",
      " ...\n",
      " [1 0 0]\n",
      " [1 0 0]\n",
      " [1 0 0]]\n",
      "class :  0 == 0.6575325130259766\n",
      "class :  1 == 0.4574882725582241\n",
      "class :  2 == nan\n"
     ]
    },
    {
     "name": "stderr",
     "output_type": "stream",
     "text": [
      "/Users/hongminpyo/opt/anaconda3/lib/python3.7/site-packages/sklearn/metrics/_ranking.py:813: UndefinedMetricWarning: No positive samples in y_true, true positive value should be meaningless\n",
      "  UndefinedMetricWarning)\n"
     ]
    }
   ],
   "source": [
    "from sklearn.preprocessing import label_binarize\n",
    "\n",
    "# Compute ROC curve and ROC area for each class\n",
    "fpr = dict()\n",
    "tpr = dict()\n",
    "roc_auc = dict()\n",
    "\n",
    "y_test_roc =label_binarize(y_test, classes=[1, 2, 3])\n",
    "\n",
    "print(y_test)\n",
    "print(y_test_roc)\n",
    "\n",
    "for i in range(3):\n",
    "    fpr[i], tpr[i], _ = roc_curve(y_test_roc[:, i], y_score[:, i])\n",
    "    roc_auc[i] = auc(fpr[i], tpr[i])\n",
    "    print('class : ',i,'==',roc_auc[i])\n",
    "\n"
   ]
  },
  {
   "cell_type": "code",
   "execution_count": 26,
   "metadata": {
    "pycharm": {
     "name": "#%%\n"
    }
   },
   "outputs": [],
   "source": [
    "# Compute micro-average ROC curve and ROC area\n",
    "fpr[\"micro\"], tpr[\"micro\"], _ = roc_curve(y_test_roc.ravel(), y_score.ravel())\n",
    "roc_auc[\"micro\"] = auc(fpr[\"micro\"], tpr[\"micro\"])"
   ]
  },
  {
   "cell_type": "code",
   "execution_count": 27,
   "metadata": {
    "pycharm": {
     "name": "#%%\n"
    }
   },
   "outputs": [
    {
     "data": {
      "image/png": "[encoded data removed]",
      "text/plain": [
       "<Figure size 432x288 with 1 Axes>"
      ]
     },
     "metadata": {
      "needs_background": "light"
     },
     "output_type": "display_data"
    }
   ],
   "source": [
    "plt.figure()\n",
    "lw = 2\n",
    "plt.plot(fpr[0], tpr[0], color='darkorange',\n",
    "         lw=lw, label='ROC curve (area = %0.2f)' % roc_auc[2])\n",
    "plt.plot([0, 1], [0, 1], color='navy', lw=lw, linestyle='--')\n",
    "plt.xlim([0.0, 1.0])\n",
    "plt.ylim([0.0, 1.05])\n",
    "plt.xlabel('False Positive Rate')\n",
    "plt.ylabel('True Positive Rate')\n",
    "plt.title('Receiver operating characteristic example')\n",
    "plt.legend(loc=\"lower right\")\n",
    "plt.show()"
   ]
  },
  {
   "cell_type": "code",
   "execution_count": 28,
   "metadata": {
    "pycharm": {
     "name": "#%%\n"
    }
   },
   "outputs": [
    {
     "data": {
      "image/png": "[encoded data removed]",
      "text/plain": [
       "<Figure size 432x288 with 1 Axes>"
      ]
     },
     "metadata": {
      "needs_background": "light"
     },
     "output_type": "display_data"
    }
   ],
   "source": [
    "from scipy import interp\n",
    "from itertools import cycle\n",
    "\n",
    "# First aggregate all false positive rates\n",
    "all_fpr = np.unique(np.concatenate([fpr[i] for i in range(3)]))\n",
    "\n",
    "# Then interpolate all ROC curves at this points\n",
    "mean_tpr = np.zeros_like(all_fpr)\n",
    "for i in range(3):\n",
    "    mean_tpr += interp(all_fpr, fpr[i], tpr[i])\n",
    "\n",
    "# Finally average it and compute AUC\n",
    "mean_tpr /= 3\n",
    "\n",
    "fpr[\"macro\"] = all_fpr\n",
    "tpr[\"macro\"] = mean_tpr\n",
    "roc_auc[\"macro\"] = auc(fpr[\"macro\"], tpr[\"macro\"])\n",
    "\n",
    "# Plot all ROC curves\n",
    "plt.figure()\n",
    "plt.plot(fpr[\"micro\"], tpr[\"micro\"],\n",
    "         label='micro-average ROC curve (area = {0:0.2f})'\n",
    "               ''.format(roc_auc[\"micro\"]),\n",
    "         color='deeppink', linestyle=':', linewidth=4)\n",
    "\n",
    "plt.plot(fpr[\"macro\"], tpr[\"macro\"],\n",
    "         label='macro-average ROC curve (area = {0:0.2f})'\n",
    "               ''.format(roc_auc[\"macro\"]),\n",
    "         color='navy', linestyle=':', linewidth=4)\n",
    "\n",
    "colors = cycle(['aqua', 'darkorange', 'cornflowerblue'])\n",
    "for i, color in zip(range(3), colors):\n",
    "    plt.plot(fpr[i], tpr[i], color=color, lw=lw,\n",
    "             label='ROC curve of class {0} (area = {1:0.2f})'\n",
    "             ''.format(i, roc_auc[i]))\n",
    "\n",
    "plt.plot([0, 1], [0, 1], 'k--', lw=lw)\n",
    "plt.xlim([0.0, 1.0])\n",
    "plt.ylim([0.0, 1.05])\n",
    "plt.xlabel('False Positive Rate')\n",
    "plt.ylabel('True Positive Rate')\n",
    "plt.title('Some extension of Receiver operating characteristic to multi-class')\n",
    "plt.legend(loc=\"lower right\")\n",
    "plt.show()"
   ]
  },
  {
   "cell_type": "code",
   "execution_count": 29,
   "metadata": {
    "pycharm": {
     "name": "#%%\n"
    }
   },
   "outputs": [],
   "source": [
    "dt_clf = DecisionTreeClassifier(random_state = 11)\n",
    "dt_clf.fit(X_train,y_train)\n",
    "dt_pred = dt_clf.predict(X_test)"
   ]
  },
  {
   "cell_type": "code",
   "execution_count": 30,
   "metadata": {
    "pycharm": {
     "name": "#%%\n"
    }
   },
   "outputs": [
    {
     "name": "stdout",
     "output_type": "stream",
     "text": [
      "Decision Tree Accuracy :   0.657140118536032\n",
      "Decision Tree Precision :   0.7323505278593855\n",
      "Decision Tree Recall :   0.657140118536032\n",
      "Decision Tree f1 :   0.6034500464954698\n"
     ]
    },
    {
     "name": "stderr",
     "output_type": "stream",
     "text": [
      "/Users/hongminpyo/opt/anaconda3/lib/python3.7/site-packages/sklearn/metrics/_classification.py:1270: UserWarning: Note that pos_label (set to 'positive') is ignored when average != 'binary' (got 'weighted'). You may use labels=[pos_label] to specify a single positive class.\n",
      "  % (pos_label, average), UserWarning)\n",
      "/Users/hongminpyo/opt/anaconda3/lib/python3.7/site-packages/sklearn/metrics/_classification.py:1221: UndefinedMetricWarning: Recall is ill-defined and being set to 0.0 in labels with no true samples. Use `zero_division` parameter to control this behavior.\n",
      "  _warn_prf(average, modifier, msg_start, len(result))\n"
     ]
    }
   ],
   "source": [
    "print('Decision Tree Accuracy :  ',accuracy_score(y_test,dt_pred))\n",
    "print('Decision Tree Precision :  ',precision_score(y_test,dt_pred,pos_label='positive',average='weighted'))\n",
    "print('Decision Tree Recall :  ',recall_score(y_test,dt_pred,pos_label='positive',average='weighted'))\n",
    "print('Decision Tree f1 :  ',f1_score(y_test,dt_pred,pos_label='positive',average='weighted'))"
   ]
  },
  {
   "cell_type": "code",
   "execution_count": 31,
   "metadata": {},
   "outputs": [],
   "source": [
    "y_score = dt_clf.predict_proba(X_test)"
   ]
  },
  {
   "cell_type": "code",
   "execution_count": 32,
   "metadata": {},
   "outputs": [],
   "source": [
    "fpr = dict()\n",
    "tpr = dict()\n",
    "roc_auc = dict()"
   ]
  },
  {
   "cell_type": "code",
   "execution_count": 33,
   "metadata": {},
   "outputs": [
    {
     "name": "stdout",
     "output_type": "stream",
     "text": [
      "class :  0 == 0.6213577186983312\n",
      "class :  1 == 0.6120466295387075\n",
      "class :  2 == nan\n"
     ]
    },
    {
     "name": "stderr",
     "output_type": "stream",
     "text": [
      "/Users/hongminpyo/opt/anaconda3/lib/python3.7/site-packages/sklearn/metrics/_ranking.py:813: UndefinedMetricWarning: No positive samples in y_true, true positive value should be meaningless\n",
      "  UndefinedMetricWarning)\n"
     ]
    }
   ],
   "source": [
    "for i in range(3):\n",
    "    fpr[i], tpr[i], _ = roc_curve(y_test_roc[:, i], y_score[:, i])\n",
    "    roc_auc[i] = auc(fpr[i], tpr[i])\n",
    "    print('class : ',i,'==',roc_auc[i])"
   ]
  },
  {
   "cell_type": "code",
   "execution_count": 34,
   "metadata": {},
   "outputs": [],
   "source": [
    "# Compute micro-average ROC curve and ROC area\n",
    "fpr[\"micro\"], tpr[\"micro\"], _ = roc_curve(y_test_roc.ravel(), y_score.ravel())\n",
    "roc_auc[\"micro\"] = auc(fpr[\"micro\"], tpr[\"micro\"])"
   ]
  },
  {
   "cell_type": "code",
   "execution_count": 35,
   "metadata": {},
   "outputs": [
    {
     "data": {
      "image/png": "[encoded data removed]",
      "text/plain": [
       "<Figure size 432x288 with 1 Axes>"
      ]
     },
     "metadata": {
      "needs_background": "light"
     },
     "output_type": "display_data"
    }
   ],
   "source": [
    "# First aggregate all false positive rates\n",
    "all_fpr = np.unique(np.concatenate([fpr[i] for i in range(3)]))\n",
    "\n",
    "# Then interpolate all ROC curves at this points\n",
    "mean_tpr = np.zeros_like(all_fpr)\n",
    "for i in range(3):\n",
    "    mean_tpr += interp(all_fpr, fpr[i], tpr[i])\n",
    "\n",
    "# Finally average it and compute AUC\n",
    "mean_tpr /= 3\n",
    "\n",
    "fpr[\"macro\"] = all_fpr\n",
    "tpr[\"macro\"] = mean_tpr\n",
    "roc_auc[\"macro\"] = auc(fpr[\"macro\"], tpr[\"macro\"])\n",
    "\n",
    "# Plot all ROC curves\n",
    "plt.figure()\n",
    "plt.plot(fpr[\"micro\"], tpr[\"micro\"],\n",
    "         label='micro-average ROC curve (area = {0:0.2f})'\n",
    "               ''.format(roc_auc[\"micro\"]),\n",
    "         color='deeppink', linestyle=':', linewidth=4)\n",
    "\n",
    "plt.plot(fpr[\"macro\"], tpr[\"macro\"],\n",
    "         label='macro-average ROC curve (area = {0:0.2f})'\n",
    "               ''.format(roc_auc[\"macro\"]),\n",
    "         color='navy', linestyle=':', linewidth=4)\n",
    "\n",
    "colors = cycle(['aqua', 'darkorange', 'cornflowerblue'])\n",
    "for i, color in zip(range(3), colors):\n",
    "    plt.plot(fpr[i], tpr[i], color=color, lw=lw,\n",
    "             label='ROC curve of class {0} (area = {1:0.2f})'\n",
    "             ''.format(i, roc_auc[i]))\n",
    "\n",
    "plt.plot([0, 1], [0, 1], 'k--', lw=lw)\n",
    "plt.xlim([0.0, 1.0])\n",
    "plt.ylim([0.0, 1.05])\n",
    "plt.xlabel('False Positive Rate')\n",
    "plt.ylabel('True Positive Rate')\n",
    "plt.title('Some extension of Receiver operating characteristic to multi-class')\n",
    "plt.legend(loc=\"lower right\")\n",
    "plt.show()"
   ]
  },
  {
   "cell_type": "code",
   "execution_count": 36,
   "metadata": {
    "pycharm": {
     "name": "#%%\n"
    }
   },
   "outputs": [],
   "source": [
    "#gb_clf = GradientBoostingClassifier(random_state = 11) # random forest\n",
    "lgbm_clf =  LGBMClassifier(random_state = 11)"
   ]
  },
  {
   "cell_type": "code",
   "execution_count": 37,
   "metadata": {
    "pycharm": {
     "name": "#%%\n"
    }
   },
   "outputs": [],
   "source": [
    "#gb_clf.fit(X_train,y_train)\n",
    "#gb_pred = gb_clf.predict(X_test)\n",
    "\n",
    "lgbm_clf.fit(X_train,y_train)\n",
    "lgbm_pred = lgbm_clf.predict(X_test)"
   ]
  },
  {
   "cell_type": "code",
   "execution_count": 38,
   "metadata": {
    "pycharm": {
     "name": "#%%\n"
    }
   },
   "outputs": [
    {
     "name": "stdout",
     "output_type": "stream",
     "text": [
      "Light GBM Accuracy :   0.45082032685272455\n",
      "Light GBM Precision :   0.473673107373544\n",
      "Light GBM Recall :   0.45082032685272455\n",
      "Light GBM f1 :   0.4619121567743803\n"
     ]
    },
    {
     "name": "stderr",
     "output_type": "stream",
     "text": [
      "/Users/hongminpyo/opt/anaconda3/lib/python3.7/site-packages/sklearn/metrics/_classification.py:1270: UserWarning: Note that pos_label (set to 'positive') is ignored when average != 'binary' (got 'weighted'). You may use labels=[pos_label] to specify a single positive class.\n",
      "  % (pos_label, average), UserWarning)\n",
      "/Users/hongminpyo/opt/anaconda3/lib/python3.7/site-packages/sklearn/metrics/_classification.py:1221: UndefinedMetricWarning: Recall is ill-defined and being set to 0.0 in labels with no true samples. Use `zero_division` parameter to control this behavior.\n",
      "  _warn_prf(average, modifier, msg_start, len(result))\n"
     ]
    }
   ],
   "source": [
    "#print('Gredient Boosting Accuracy :  ',accuracy_score(y_test,gb_pred))\n",
    "#print('Gredient Boosting Precision :  ',precision_score(y_test,gb_pred,pos_label='positive',average='weighted'))\n",
    "#print('Gredient Boosting Recall :  ',recall_score(y_test,gb_pred,pos_label='positive',average='weighted'))\n",
    "#print('Gredient Boosting f1 :  ',f1_score(y_test,gb_pred,pos_label='positive',average='weighted'))\n",
    "print('Light GBM Accuracy :  ',accuracy_score(y_test,lgbm_pred))\n",
    "print('Light GBM Precision :  ',precision_score(y_test,lgbm_pred,pos_label='positive',average='weighted'))\n",
    "print('Light GBM Recall :  ',recall_score(y_test,lgbm_pred,pos_label='positive',average='weighted'))\n",
    "print('Light GBM f1 :  ',f1_score(y_test,lgbm_pred,pos_label='positive',average='weighted'))"
   ]
  },
  {
   "cell_type": "code",
   "execution_count": 39,
   "metadata": {},
   "outputs": [],
   "source": [
    "y_score = lgbm_clf.predict_proba(X_test)\n",
    "\n",
    "fpr = dict()\n",
    "tpr = dict()\n",
    "roc_auc = dict()"
   ]
  },
  {
   "cell_type": "code",
   "execution_count": 40,
   "metadata": {},
   "outputs": [
    {
     "name": "stdout",
     "output_type": "stream",
     "text": [
      "class :  0 == 0.43914933911814114\n",
      "class :  1 == 0.41681864241173405\n",
      "class :  2 == nan\n"
     ]
    }
   ],
   "source": [
    "for i in range(3):\n",
    "    fpr[i], tpr[i], _ = roc_curve(y_test_roc[:, i], y_score[:, i])\n",
    "    roc_auc[i] = auc(fpr[i], tpr[i])\n",
    "    print('class : ',i,'==',roc_auc[i])"
   ]
  },
  {
   "cell_type": "code",
   "execution_count": 41,
   "metadata": {},
   "outputs": [],
   "source": [
    "# Compute micro-average ROC curve and ROC area\n",
    "fpr[\"micro\"], tpr[\"micro\"], _ = roc_curve(y_test_roc.ravel(), y_score.ravel())\n",
    "roc_auc[\"micro\"] = auc(fpr[\"micro\"], tpr[\"micro\"])"
   ]
  },
  {
   "cell_type": "code",
   "execution_count": 42,
   "metadata": {},
   "outputs": [
    {
     "data": {
      "image/png": "[encoded data removed]",
      "text/plain": [
       "<Figure size 432x288 with 1 Axes>"
      ]
     },
     "metadata": {
      "needs_background": "light"
     },
     "output_type": "display_data"
    }
   ],
   "source": [
    "# First aggregate all false positive rates\n",
    "all_fpr = np.unique(np.concatenate([fpr[i] for i in range(3)]))\n",
    "\n",
    "# Then interpolate all ROC curves at this points\n",
    "mean_tpr = np.zeros_like(all_fpr)\n",
    "for i in range(3):\n",
    "    mean_tpr += interp(all_fpr, fpr[i], tpr[i])\n",
    "\n",
    "# Finally average it and compute AUC\n",
    "mean_tpr /= 3\n",
    "\n",
    "fpr[\"macro\"] = all_fpr\n",
    "tpr[\"macro\"] = mean_tpr\n",
    "roc_auc[\"macro\"] = auc(fpr[\"macro\"], tpr[\"macro\"])\n",
    "\n",
    "# Plot all ROC curves\n",
    "plt.figure()\n",
    "plt.plot(fpr[\"micro\"], tpr[\"micro\"],\n",
    "         label='micro-average ROC curve (area = {0:0.2f})'\n",
    "               ''.format(roc_auc[\"micro\"]),\n",
    "         color='deeppink', linestyle=':', linewidth=4)\n",
    "\n",
    "plt.plot(fpr[\"macro\"], tpr[\"macro\"],\n",
    "         label='macro-average ROC curve (area = {0:0.2f})'\n",
    "               ''.format(roc_auc[\"macro\"]),\n",
    "         color='navy', linestyle=':', linewidth=4)\n",
    "\n",
    "colors = cycle(['aqua', 'darkorange', 'cornflowerblue'])\n",
    "for i, color in zip(range(3), colors):\n",
    "    plt.plot(fpr[i], tpr[i], color=color, lw=lw,\n",
    "             label='ROC curve of class {0} (area = {1:0.2f})'\n",
    "             ''.format(i, roc_auc[i]))\n",
    "\n",
    "plt.plot([0, 1], [0, 1], 'k--', lw=lw)\n",
    "plt.xlim([0.0, 1.0])\n",
    "plt.ylim([0.0, 1.05])\n",
    "plt.xlabel('False Positive Rate')\n",
    "plt.ylabel('True Positive Rate')\n",
    "plt.title('Some extension of Receiver operating characteristic to multi-class')\n",
    "plt.legend(loc=\"lower right\")\n",
    "plt.show()"
   ]
  },
  {
   "cell_type": "code",
   "execution_count": 43,
   "metadata": {
    "pycharm": {
     "name": "#%%\n"
    }
   },
   "outputs": [],
   "source": [
    "lr_clf = LogisticRegression(random_state = 11)"
   ]
  },
  {
   "cell_type": "code",
   "execution_count": 44,
   "metadata": {
    "pycharm": {
     "name": "#%%\n"
    }
   },
   "outputs": [],
   "source": [
    "lr_clf.fit(X_train,y_train)\n",
    "lr_pred = lr_clf.predict(X_test)"
   ]
  },
  {
   "cell_type": "code",
   "execution_count": 45,
   "metadata": {
    "pycharm": {
     "name": "#%%\n"
    }
   },
   "outputs": [
    {
     "name": "stdout",
     "output_type": "stream",
     "text": [
      "Logistic Regression Accuracy :   0.43665031870536924\n",
      "Logistic Regression  Precision :   0.19066350082550054\n",
      "Logistic Regression  Recall :   0.43665031870536924\n",
      "Logistic Regression  f1 :   0.26542784746300135\n"
     ]
    },
    {
     "name": "stderr",
     "output_type": "stream",
     "text": [
      "/Users/hongminpyo/opt/anaconda3/lib/python3.7/site-packages/sklearn/metrics/_classification.py:1270: UserWarning: Note that pos_label (set to 'positive') is ignored when average != 'binary' (got 'weighted'). You may use labels=[pos_label] to specify a single positive class.\n",
      "  % (pos_label, average), UserWarning)\n",
      "/Users/hongminpyo/opt/anaconda3/lib/python3.7/site-packages/sklearn/metrics/_classification.py:1221: UndefinedMetricWarning: Precision is ill-defined and being set to 0.0 in labels with no predicted samples. Use `zero_division` parameter to control this behavior.\n",
      "  _warn_prf(average, modifier, msg_start, len(result))\n"
     ]
    }
   ],
   "source": [
    "print('Logistic Regression Accuracy :  ',accuracy_score(y_test,lr_pred))\n",
    "print('Logistic Regression  Precision :  ',precision_score(y_test,lr_pred,pos_label='positive',average='weighted'))\n",
    "print('Logistic Regression  Recall :  ',recall_score(y_test,lr_pred,pos_label='positive',average='weighted'))\n",
    "print('Logistic Regression  f1 :  ',f1_score(y_test,lr_pred,pos_label='positive',average='weighted'))"
   ]
  },
  {
   "cell_type": "code",
   "execution_count": 46,
   "metadata": {
    "pycharm": {
     "name": "#%%\n"
    }
   },
   "outputs": [],
   "source": [
    "y_score = lr_clf.predict_proba(X_test)\n",
    "\n",
    "y_score = np.round(y_score,5)\n",
    "\n",
    "fpr = dict()\n",
    "tpr = dict()\n",
    "roc_auc = dict()"
   ]
  },
  {
   "cell_type": "code",
   "execution_count": 47,
   "metadata": {
    "pycharm": {
     "name": "#%%\n"
    }
   },
   "outputs": [
    {
     "name": "stdout",
     "output_type": "stream",
     "text": [
      "class :  0 == 0.39823807339877487\n",
      "class :  1 == 0.48989176623269653\n",
      "class :  2 == nan\n"
     ]
    },
    {
     "name": "stderr",
     "output_type": "stream",
     "text": [
      "/Users/hongminpyo/opt/anaconda3/lib/python3.7/site-packages/sklearn/metrics/_ranking.py:813: UndefinedMetricWarning: No positive samples in y_true, true positive value should be meaningless\n",
      "  UndefinedMetricWarning)\n"
     ]
    }
   ],
   "source": [
    "for i in range(3):\n",
    "    fpr[i], tpr[i], _ = roc_curve(y_test_roc[:, i], y_score[:, i])\n",
    "    roc_auc[i] = auc(fpr[i], tpr[i])\n",
    "    print('class : ',i,'==',roc_auc[i])"
   ]
  },
  {
   "cell_type": "code",
   "execution_count": 48,
   "metadata": {
    "pycharm": {
     "name": "#%%\n"
    }
   },
   "outputs": [],
   "source": [
    "# Compute micro-average ROC curve and ROC area\n",
    "fpr[\"micro\"], tpr[\"micro\"], _ = roc_curve(y_test_roc.ravel(), y_score.ravel())\n",
    "roc_auc[\"micro\"] = auc(fpr[\"micro\"], tpr[\"micro\"])"
   ]
  },
  {
   "cell_type": "code",
   "execution_count": 49,
   "metadata": {
    "pycharm": {
     "name": "#%%\n"
    }
   },
   "outputs": [
    {
     "data": {
      "image/png": "[encoded data removed]",
      "text/plain": [
       "<Figure size 432x288 with 1 Axes>"
      ]
     },
     "metadata": {
      "needs_background": "light"
     },
     "output_type": "display_data"
    }
   ],
   "source": [
    "# First aggregate all false positive rates\n",
    "all_fpr = np.unique(np.concatenate([fpr[i] for i in range(3)]))\n",
    "\n",
    "# Then interpolate all ROC curves at this points\n",
    "mean_tpr = np.zeros_like(all_fpr)\n",
    "for i in range(3):\n",
    "    mean_tpr += interp(all_fpr, fpr[i], tpr[i])\n",
    "\n",
    "# Finally average it and compute AUC\n",
    "mean_tpr /= 3\n",
    "\n",
    "fpr[\"macro\"] = all_fpr\n",
    "tpr[\"macro\"] = mean_tpr\n",
    "roc_auc[\"macro\"] = auc(fpr[\"macro\"], tpr[\"macro\"])\n",
    "\n",
    "# Plot all ROC curves\n",
    "plt.figure()\n",
    "plt.plot(fpr[\"micro\"], tpr[\"micro\"],\n",
    "         label='micro-average ROC curve (area = {0:0.2f})'\n",
    "               ''.format(roc_auc[\"micro\"]),\n",
    "         color='deeppink', linestyle=':', linewidth=4)\n",
    "\n",
    "plt.plot(fpr[\"macro\"], tpr[\"macro\"],\n",
    "         label='macro-average ROC curve (area = {0:0.2f})'\n",
    "               ''.format(roc_auc[\"macro\"]),\n",
    "         color='navy', linestyle=':', linewidth=4)\n",
    "\n",
    "colors = cycle(['aqua', 'darkorange', 'cornflowerblue'])\n",
    "for i, color in zip(range(3), colors):\n",
    "    plt.plot(fpr[i], tpr[i], color=color, lw=lw,\n",
    "             label='ROC curve of class {0} (area = {1:0.2f})'\n",
    "             ''.format(i, roc_auc[i]))\n",
    "\n",
    "plt.plot([0, 1], [0, 1], 'k--', lw=lw)\n",
    "plt.xlim([0.0, 1.0])\n",
    "plt.ylim([0.0, 1.05])\n",
    "plt.xlabel('False Positive Rate')\n",
    "plt.ylabel('True Positive Rate')\n",
    "plt.title('Some extension of Receiver operating characteristic to multi-class')\n",
    "plt.legend(loc=\"lower right\")\n",
    "plt.show()"
   ]
  },
  {
   "cell_type": "code",
   "execution_count": 50,
   "metadata": {
    "pycharm": {
     "name": "#%%\n"
    }
   },
   "outputs": [
    {
     "name": "stderr",
     "output_type": "stream",
     "text": [
      "Using TensorFlow backend.\n"
     ]
    }
   ],
   "source": [
    "from numpy import loadtxt\n",
    "from keras.models import Sequential\n",
    "from keras.layers import Dense"
   ]
  },
  {
   "cell_type": "code",
   "execution_count": 51,
   "metadata": {
    "pycharm": {
     "name": "#%%\n"
    }
   },
   "outputs": [
    {
     "data": {
      "text/html": [
       "<div>\n",
       "<style scoped>\n",
       "    .dataframe tbody tr th:only-of-type {\n",
       "        vertical-align: middle;\n",
       "    }\n",
       "\n",
       "    .dataframe tbody tr th {\n",
       "        vertical-align: top;\n",
       "    }\n",
       "\n",
       "    .dataframe thead th {\n",
       "        text-align: right;\n",
       "    }\n",
       "</style>\n",
       "<table border=\"1\" class=\"dataframe\">\n",
       "  <thead>\n",
       "    <tr style=\"text-align: right;\">\n",
       "      <th></th>\n",
       "      <th>C1</th>\n",
       "      <th>C10</th>\n",
       "      <th>C100</th>\n",
       "      <th>C11</th>\n",
       "      <th>C12</th>\n",
       "      <th>C13</th>\n",
       "      <th>C14</th>\n",
       "      <th>C15</th>\n",
       "      <th>C16</th>\n",
       "      <th>C17</th>\n",
       "      <th>...</th>\n",
       "      <th>C95</th>\n",
       "      <th>C96</th>\n",
       "      <th>C97</th>\n",
       "      <th>C98</th>\n",
       "      <th>C99</th>\n",
       "      <th>Silhouette</th>\n",
       "      <th>category</th>\n",
       "      <th>closer#</th>\n",
       "      <th>label</th>\n",
       "      <th>period</th>\n",
       "    </tr>\n",
       "  </thead>\n",
       "  <tbody>\n",
       "    <tr>\n",
       "      <td>0</td>\n",
       "      <td>-0.001495</td>\n",
       "      <td>0.002059</td>\n",
       "      <td>-0.003641</td>\n",
       "      <td>0.002519</td>\n",
       "      <td>-0.000030</td>\n",
       "      <td>-0.000061</td>\n",
       "      <td>0.000266</td>\n",
       "      <td>-0.001268</td>\n",
       "      <td>-0.005870</td>\n",
       "      <td>0.004812</td>\n",
       "      <td>...</td>\n",
       "      <td>-0.001215</td>\n",
       "      <td>-0.005617</td>\n",
       "      <td>-0.000767</td>\n",
       "      <td>0.003659</td>\n",
       "      <td>-0.001297</td>\n",
       "      <td>0.126229</td>\n",
       "      <td>3.0</td>\n",
       "      <td>2</td>\n",
       "      <td>1.0</td>\n",
       "      <td>202011</td>\n",
       "    </tr>\n",
       "    <tr>\n",
       "      <td>1</td>\n",
       "      <td>-0.021860</td>\n",
       "      <td>0.025023</td>\n",
       "      <td>-0.030539</td>\n",
       "      <td>-0.053737</td>\n",
       "      <td>-0.034043</td>\n",
       "      <td>-0.106272</td>\n",
       "      <td>0.101318</td>\n",
       "      <td>0.046353</td>\n",
       "      <td>-0.032074</td>\n",
       "      <td>0.056494</td>\n",
       "      <td>...</td>\n",
       "      <td>-0.085919</td>\n",
       "      <td>-0.086635</td>\n",
       "      <td>-0.032728</td>\n",
       "      <td>0.003305</td>\n",
       "      <td>0.029844</td>\n",
       "      <td>0.126229</td>\n",
       "      <td>3.0</td>\n",
       "      <td>2</td>\n",
       "      <td>12.0</td>\n",
       "      <td>202011</td>\n",
       "    </tr>\n",
       "    <tr>\n",
       "      <td>2</td>\n",
       "      <td>-0.006153</td>\n",
       "      <td>0.000252</td>\n",
       "      <td>-0.000431</td>\n",
       "      <td>-0.007744</td>\n",
       "      <td>-0.001371</td>\n",
       "      <td>-0.012007</td>\n",
       "      <td>0.004584</td>\n",
       "      <td>-0.001146</td>\n",
       "      <td>-0.006225</td>\n",
       "      <td>0.003439</td>\n",
       "      <td>...</td>\n",
       "      <td>-0.002505</td>\n",
       "      <td>-0.002000</td>\n",
       "      <td>-0.006141</td>\n",
       "      <td>-0.000919</td>\n",
       "      <td>0.005992</td>\n",
       "      <td>0.126229</td>\n",
       "      <td>3.0</td>\n",
       "      <td>2</td>\n",
       "      <td>13.0</td>\n",
       "      <td>202011</td>\n",
       "    </tr>\n",
       "    <tr>\n",
       "      <td>3</td>\n",
       "      <td>-0.011715</td>\n",
       "      <td>0.010112</td>\n",
       "      <td>-0.014666</td>\n",
       "      <td>-0.018584</td>\n",
       "      <td>-0.010574</td>\n",
       "      <td>-0.035928</td>\n",
       "      <td>0.037478</td>\n",
       "      <td>0.020299</td>\n",
       "      <td>-0.011364</td>\n",
       "      <td>0.024920</td>\n",
       "      <td>...</td>\n",
       "      <td>-0.035902</td>\n",
       "      <td>-0.030800</td>\n",
       "      <td>-0.010657</td>\n",
       "      <td>0.002631</td>\n",
       "      <td>0.007532</td>\n",
       "      <td>0.126229</td>\n",
       "      <td>3.0</td>\n",
       "      <td>2</td>\n",
       "      <td>12.0</td>\n",
       "      <td>202011</td>\n",
       "    </tr>\n",
       "    <tr>\n",
       "      <td>4</td>\n",
       "      <td>-0.004312</td>\n",
       "      <td>0.010082</td>\n",
       "      <td>-0.009291</td>\n",
       "      <td>-0.017374</td>\n",
       "      <td>-0.011016</td>\n",
       "      <td>-0.033451</td>\n",
       "      <td>0.031159</td>\n",
       "      <td>0.015416</td>\n",
       "      <td>-0.016344</td>\n",
       "      <td>0.022197</td>\n",
       "      <td>...</td>\n",
       "      <td>-0.027211</td>\n",
       "      <td>-0.024827</td>\n",
       "      <td>-0.013575</td>\n",
       "      <td>-0.000735</td>\n",
       "      <td>0.013313</td>\n",
       "      <td>0.126229</td>\n",
       "      <td>3.0</td>\n",
       "      <td>2</td>\n",
       "      <td>12.0</td>\n",
       "      <td>202011</td>\n",
       "    </tr>\n",
       "    <tr>\n",
       "      <td>...</td>\n",
       "      <td>...</td>\n",
       "      <td>...</td>\n",
       "      <td>...</td>\n",
       "      <td>...</td>\n",
       "      <td>...</td>\n",
       "      <td>...</td>\n",
       "      <td>...</td>\n",
       "      <td>...</td>\n",
       "      <td>...</td>\n",
       "      <td>...</td>\n",
       "      <td>...</td>\n",
       "      <td>...</td>\n",
       "      <td>...</td>\n",
       "      <td>...</td>\n",
       "      <td>...</td>\n",
       "      <td>...</td>\n",
       "      <td>...</td>\n",
       "      <td>...</td>\n",
       "      <td>...</td>\n",
       "      <td>...</td>\n",
       "      <td>...</td>\n",
       "    </tr>\n",
       "    <tr>\n",
       "      <td>112261</td>\n",
       "      <td>0.002639</td>\n",
       "      <td>-0.007745</td>\n",
       "      <td>0.015926</td>\n",
       "      <td>-0.011952</td>\n",
       "      <td>-0.002111</td>\n",
       "      <td>-0.004357</td>\n",
       "      <td>-0.000599</td>\n",
       "      <td>-0.012847</td>\n",
       "      <td>-0.000155</td>\n",
       "      <td>-0.024394</td>\n",
       "      <td>...</td>\n",
       "      <td>0.005706</td>\n",
       "      <td>0.015451</td>\n",
       "      <td>0.006023</td>\n",
       "      <td>0.001769</td>\n",
       "      <td>0.004318</td>\n",
       "      <td>0.746625</td>\n",
       "      <td>1.0</td>\n",
       "      <td>2</td>\n",
       "      <td>5.0</td>\n",
       "      <td>201924</td>\n",
       "    </tr>\n",
       "    <tr>\n",
       "      <td>112262</td>\n",
       "      <td>-0.000535</td>\n",
       "      <td>-0.008106</td>\n",
       "      <td>0.016009</td>\n",
       "      <td>-0.012102</td>\n",
       "      <td>0.005943</td>\n",
       "      <td>-0.004983</td>\n",
       "      <td>-0.004764</td>\n",
       "      <td>-0.011634</td>\n",
       "      <td>0.001370</td>\n",
       "      <td>-0.025071</td>\n",
       "      <td>...</td>\n",
       "      <td>0.004042</td>\n",
       "      <td>0.014530</td>\n",
       "      <td>-0.000182</td>\n",
       "      <td>0.002224</td>\n",
       "      <td>-0.003322</td>\n",
       "      <td>0.746625</td>\n",
       "      <td>1.0</td>\n",
       "      <td>2</td>\n",
       "      <td>5.0</td>\n",
       "      <td>201924</td>\n",
       "    </tr>\n",
       "    <tr>\n",
       "      <td>112263</td>\n",
       "      <td>0.004187</td>\n",
       "      <td>0.000229</td>\n",
       "      <td>0.007715</td>\n",
       "      <td>-0.005602</td>\n",
       "      <td>0.004873</td>\n",
       "      <td>-0.005352</td>\n",
       "      <td>-0.002468</td>\n",
       "      <td>-0.003581</td>\n",
       "      <td>0.005097</td>\n",
       "      <td>-0.003656</td>\n",
       "      <td>...</td>\n",
       "      <td>-0.003402</td>\n",
       "      <td>0.004426</td>\n",
       "      <td>-0.001443</td>\n",
       "      <td>0.001934</td>\n",
       "      <td>-0.000474</td>\n",
       "      <td>0.746625</td>\n",
       "      <td>1.0</td>\n",
       "      <td>2</td>\n",
       "      <td>5.0</td>\n",
       "      <td>201924</td>\n",
       "    </tr>\n",
       "    <tr>\n",
       "      <td>112264</td>\n",
       "      <td>-0.002951</td>\n",
       "      <td>-0.006462</td>\n",
       "      <td>0.012489</td>\n",
       "      <td>-0.003590</td>\n",
       "      <td>-0.002220</td>\n",
       "      <td>-0.002896</td>\n",
       "      <td>-0.001683</td>\n",
       "      <td>-0.016026</td>\n",
       "      <td>0.004791</td>\n",
       "      <td>-0.019189</td>\n",
       "      <td>...</td>\n",
       "      <td>0.003951</td>\n",
       "      <td>0.013484</td>\n",
       "      <td>0.002950</td>\n",
       "      <td>0.001749</td>\n",
       "      <td>0.001292</td>\n",
       "      <td>0.746625</td>\n",
       "      <td>1.0</td>\n",
       "      <td>2</td>\n",
       "      <td>5.0</td>\n",
       "      <td>201924</td>\n",
       "    </tr>\n",
       "    <tr>\n",
       "      <td>112265</td>\n",
       "      <td>-0.003125</td>\n",
       "      <td>-0.012663</td>\n",
       "      <td>0.022918</td>\n",
       "      <td>-0.014270</td>\n",
       "      <td>0.005402</td>\n",
       "      <td>-0.007583</td>\n",
       "      <td>-0.005225</td>\n",
       "      <td>-0.018943</td>\n",
       "      <td>0.003991</td>\n",
       "      <td>-0.025114</td>\n",
       "      <td>...</td>\n",
       "      <td>0.005500</td>\n",
       "      <td>0.020814</td>\n",
       "      <td>0.005761</td>\n",
       "      <td>0.011722</td>\n",
       "      <td>0.000175</td>\n",
       "      <td>0.746625</td>\n",
       "      <td>1.0</td>\n",
       "      <td>2</td>\n",
       "      <td>5.0</td>\n",
       "      <td>201924</td>\n",
       "    </tr>\n",
       "  </tbody>\n",
       "</table>\n",
       "<p>187533 rows × 105 columns</p>\n",
       "</div>"
      ],
      "text/plain": [
       "              C1       C10      C100       C11       C12       C13       C14  \\\n",
       "0      -0.001495  0.002059 -0.003641  0.002519 -0.000030 -0.000061  0.000266   \n",
       "1      -0.021860  0.025023 -0.030539 -0.053737 -0.034043 -0.106272  0.101318   \n",
       "2      -0.006153  0.000252 -0.000431 -0.007744 -0.001371 -0.012007  0.004584   \n",
       "3      -0.011715  0.010112 -0.014666 -0.018584 -0.010574 -0.035928  0.037478   \n",
       "4      -0.004312  0.010082 -0.009291 -0.017374 -0.011016 -0.033451  0.031159   \n",
       "...          ...       ...       ...       ...       ...       ...       ...   \n",
       "112261  0.002639 -0.007745  0.015926 -0.011952 -0.002111 -0.004357 -0.000599   \n",
       "112262 -0.000535 -0.008106  0.016009 -0.012102  0.005943 -0.004983 -0.004764   \n",
       "112263  0.004187  0.000229  0.007715 -0.005602  0.004873 -0.005352 -0.002468   \n",
       "112264 -0.002951 -0.006462  0.012489 -0.003590 -0.002220 -0.002896 -0.001683   \n",
       "112265 -0.003125 -0.012663  0.022918 -0.014270  0.005402 -0.007583 -0.005225   \n",
       "\n",
       "             C15       C16       C17  ...       C95       C96       C97  \\\n",
       "0      -0.001268 -0.005870  0.004812  ... -0.001215 -0.005617 -0.000767   \n",
       "1       0.046353 -0.032074  0.056494  ... -0.085919 -0.086635 -0.032728   \n",
       "2      -0.001146 -0.006225  0.003439  ... -0.002505 -0.002000 -0.006141   \n",
       "3       0.020299 -0.011364  0.024920  ... -0.035902 -0.030800 -0.010657   \n",
       "4       0.015416 -0.016344  0.022197  ... -0.027211 -0.024827 -0.013575   \n",
       "...          ...       ...       ...  ...       ...       ...       ...   \n",
       "112261 -0.012847 -0.000155 -0.024394  ...  0.005706  0.015451  0.006023   \n",
       "112262 -0.011634  0.001370 -0.025071  ...  0.004042  0.014530 -0.000182   \n",
       "112263 -0.003581  0.005097 -0.003656  ... -0.003402  0.004426 -0.001443   \n",
       "112264 -0.016026  0.004791 -0.019189  ...  0.003951  0.013484  0.002950   \n",
       "112265 -0.018943  0.003991 -0.025114  ...  0.005500  0.020814  0.005761   \n",
       "\n",
       "             C98       C99  Silhouette  category  closer#  label  period  \n",
       "0       0.003659 -0.001297    0.126229       3.0        2    1.0  202011  \n",
       "1       0.003305  0.029844    0.126229       3.0        2   12.0  202011  \n",
       "2      -0.000919  0.005992    0.126229       3.0        2   13.0  202011  \n",
       "3       0.002631  0.007532    0.126229       3.0        2   12.0  202011  \n",
       "4      -0.000735  0.013313    0.126229       3.0        2   12.0  202011  \n",
       "...          ...       ...         ...       ...      ...    ...     ...  \n",
       "112261  0.001769  0.004318    0.746625       1.0        2    5.0  201924  \n",
       "112262  0.002224 -0.003322    0.746625       1.0        2    5.0  201924  \n",
       "112263  0.001934 -0.000474    0.746625       1.0        2    5.0  201924  \n",
       "112264  0.001749  0.001292    0.746625       1.0        2    5.0  201924  \n",
       "112265  0.011722  0.000175    0.746625       1.0        2    5.0  201924  \n",
       "\n",
       "[187533 rows x 105 columns]"
      ]
     },
     "execution_count": 51,
     "metadata": {},
     "output_type": "execute_result"
    }
   ],
   "source": [
    "X_train"
   ]
  },
  {
   "cell_type": "code",
   "execution_count": 52,
   "metadata": {
    "pycharm": {
     "name": "#%%\n"
    }
   },
   "outputs": [],
   "source": [
    "model = Sequential()\n",
    "model.add(Dense(120, input_dim=105, activation='relu'))\n",
    "model.add(Dense(80, activation='relu'))\n",
    "model.add(Dense(60, activation='relu'))\n",
    "model.add(Dense(40, activation='relu'))\n",
    "model.add(Dense(20, activation='relu'))\n",
    "model.add(Dense(3, activation='softmax'))"
   ]
  },
  {
   "cell_type": "code",
   "execution_count": 53,
   "metadata": {
    "pycharm": {
     "name": "#%%\n"
    }
   },
   "outputs": [],
   "source": [
    "# compile the keras model\n",
    "#model.compile(loss='binary_crossentropy', optimizer='adam', metrics=['accuracy'])\n",
    "model.compile(loss='categorical_crossentropy', optimizer='adam', metrics=['accuracy'])"
   ]
  },
  {
   "cell_type": "code",
   "execution_count": 54,
   "metadata": {
    "pycharm": {
     "name": "#%%\n"
    }
   },
   "outputs": [],
   "source": [
    "from keras.utils import to_categorical\n",
    "\n",
    "y_train = y_train.apply(lambda x : x-1)"
   ]
  },
  {
   "cell_type": "code",
   "execution_count": 55,
   "metadata": {
    "pycharm": {
     "name": "#%%\n"
    }
   },
   "outputs": [],
   "source": [
    "y_cate_train = to_categorical(y_train , num_classes=3)\n",
    "#y_cate_train = y_train"
   ]
  },
  {
   "cell_type": "code",
   "execution_count": 56,
   "metadata": {},
   "outputs": [
    {
     "data": {
      "text/plain": [
       "array([[1., 0., 0.],\n",
       "       [1., 0., 0.],\n",
       "       [1., 0., 0.],\n",
       "       ...,\n",
       "       [0., 1., 0.],\n",
       "       [0., 1., 0.],\n",
       "       [0., 1., 0.]], dtype=float32)"
      ]
     },
     "execution_count": 56,
     "metadata": {},
     "output_type": "execute_result"
    }
   ],
   "source": [
    "y_cate_train"
   ]
  },
  {
   "cell_type": "code",
   "execution_count": 57,
   "metadata": {
    "pycharm": {
     "name": "#%%\n"
    }
   },
   "outputs": [],
   "source": [
    "#y_cate_train = list(y_train)"
   ]
  },
  {
   "cell_type": "code",
   "execution_count": 58,
   "metadata": {
    "pycharm": {
     "name": "#%%\n"
    }
   },
   "outputs": [],
   "source": [
    "#X_train"
   ]
  },
  {
   "cell_type": "code",
   "execution_count": 59,
   "metadata": {
    "pycharm": {
     "name": "#%%\n"
    }
   },
   "outputs": [
    {
     "name": "stdout",
     "output_type": "stream",
     "text": [
      "Epoch 1/30\n",
      "187533/187533 [==============================] - 1s 7us/step - loss: 234.2979 - accuracy: 0.3946\n",
      "Epoch 2/30\n",
      "187533/187533 [==============================] - 1s 6us/step - loss: 45.3108 - accuracy: 0.3968\n",
      "Epoch 3/30\n",
      "187533/187533 [==============================] - 1s 6us/step - loss: 13.8440 - accuracy: 0.3974\n",
      "Epoch 4/30\n",
      "187533/187533 [==============================] - 1s 6us/step - loss: 15.8108 - accuracy: 0.3943\n",
      "Epoch 5/30\n",
      "187533/187533 [==============================] - 1s 6us/step - loss: 6.8643 - accuracy: 0.3977\n",
      "Epoch 6/30\n",
      "187533/187533 [==============================] - 1s 6us/step - loss: 4.7913 - accuracy: 0.3977\n",
      "Epoch 7/30\n",
      "187533/187533 [==============================] - 1s 6us/step - loss: 2.7712 - accuracy: 0.3998\n",
      "Epoch 8/30\n",
      "187533/187533 [==============================] - 1s 6us/step - loss: 2.0811 - accuracy: 0.4027\n",
      "Epoch 9/30\n",
      "187533/187533 [==============================] - 1s 6us/step - loss: 2.2841 - accuracy: 0.4034\n",
      "Epoch 10/30\n",
      "187533/187533 [==============================] - 1s 6us/step - loss: 2.1241 - accuracy: 0.4092\n",
      "Epoch 11/30\n",
      "187533/187533 [==============================] - 1s 6us/step - loss: 13.8505 - accuracy: 0.3927\n",
      "Epoch 12/30\n",
      "187533/187533 [==============================] - 1s 6us/step - loss: 5.6281 - accuracy: 0.3953\n",
      "Epoch 13/30\n",
      "187533/187533 [==============================] - 1s 6us/step - loss: 1.9558 - accuracy: 0.4150\n",
      "Epoch 14/30\n",
      "187533/187533 [==============================] - 1s 6us/step - loss: 1.1925 - accuracy: 0.4301\n",
      "Epoch 15/30\n",
      "187533/187533 [==============================] - 1s 6us/step - loss: 1.0776 - accuracy: 0.4408\n",
      "Epoch 16/30\n",
      "187533/187533 [==============================] - 1s 6us/step - loss: 1.0461 - accuracy: 0.4454\n",
      "Epoch 17/30\n",
      "187533/187533 [==============================] - 1s 6us/step - loss: 1.1110 - accuracy: 0.4353\n",
      "Epoch 18/30\n",
      "187533/187533 [==============================] - 1s 6us/step - loss: 5.9441 - accuracy: 0.4276\n",
      "Epoch 19/30\n",
      "187533/187533 [==============================] - 1s 6us/step - loss: 1.0057 - accuracy: 0.4428\n",
      "Epoch 20/30\n",
      "187533/187533 [==============================] - 1s 6us/step - loss: 1.0058 - accuracy: 0.4426\n",
      "Epoch 21/30\n",
      "187533/187533 [==============================] - 1s 6us/step - loss: 1.0056 - accuracy: 0.4461\n",
      "Epoch 22/30\n",
      "187533/187533 [==============================] - 1s 6us/step - loss: 1.0071 - accuracy: 0.4466\n",
      "Epoch 23/30\n",
      "187533/187533 [==============================] - 1s 6us/step - loss: 1.0041 - accuracy: 0.4495\n",
      "Epoch 24/30\n",
      "187533/187533 [==============================] - 1s 6us/step - loss: 1.0030 - accuracy: 0.4499\n",
      "Epoch 25/30\n",
      "187533/187533 [==============================] - 1s 6us/step - loss: 0.9989 - accuracy: 0.4511\n",
      "Epoch 26/30\n",
      "187533/187533 [==============================] - 1s 6us/step - loss: 0.9978 - accuracy: 0.4553\n",
      "Epoch 27/30\n",
      "187533/187533 [==============================] - 1s 6us/step - loss: 2.7433 - accuracy: 0.4380\n",
      "Epoch 28/30\n",
      "187533/187533 [==============================] - 1s 6us/step - loss: 5.4632 - accuracy: 0.4380\n",
      "Epoch 29/30\n",
      "187533/187533 [==============================] - 1s 6us/step - loss: 0.9913 - accuracy: 0.4472\n",
      "Epoch 30/30\n",
      "187533/187533 [==============================] - 1s 6us/step - loss: 0.9910 - accuracy: 0.4504\n"
     ]
    },
    {
     "data": {
      "text/plain": [
       "<keras.callbacks.callbacks.History at 0x7f86c0e0cdd0>"
      ]
     },
     "execution_count": 59,
     "metadata": {},
     "output_type": "execute_result"
    }
   ],
   "source": [
    "model.fit(X_train,y_cate_train, epochs=30, batch_size=500)"
   ]
  },
  {
   "cell_type": "code",
   "execution_count": 60,
   "metadata": {
    "pycharm": {
     "name": "#%%\n"
    }
   },
   "outputs": [
    {
     "data": {
      "text/html": [
       "<div>\n",
       "<style scoped>\n",
       "    .dataframe tbody tr th:only-of-type {\n",
       "        vertical-align: middle;\n",
       "    }\n",
       "\n",
       "    .dataframe tbody tr th {\n",
       "        vertical-align: top;\n",
       "    }\n",
       "\n",
       "    .dataframe thead th {\n",
       "        text-align: right;\n",
       "    }\n",
       "</style>\n",
       "<table border=\"1\" class=\"dataframe\">\n",
       "  <thead>\n",
       "    <tr style=\"text-align: right;\">\n",
       "      <th></th>\n",
       "      <th>C1</th>\n",
       "      <th>C10</th>\n",
       "      <th>C100</th>\n",
       "      <th>C11</th>\n",
       "      <th>C12</th>\n",
       "      <th>C13</th>\n",
       "      <th>C14</th>\n",
       "      <th>C15</th>\n",
       "      <th>C16</th>\n",
       "      <th>C17</th>\n",
       "      <th>...</th>\n",
       "      <th>C95</th>\n",
       "      <th>C96</th>\n",
       "      <th>C97</th>\n",
       "      <th>C98</th>\n",
       "      <th>C99</th>\n",
       "      <th>Silhouette</th>\n",
       "      <th>category</th>\n",
       "      <th>closer#</th>\n",
       "      <th>label</th>\n",
       "      <th>period</th>\n",
       "    </tr>\n",
       "  </thead>\n",
       "  <tbody>\n",
       "    <tr>\n",
       "      <td>0</td>\n",
       "      <td>0.055791</td>\n",
       "      <td>0.068782</td>\n",
       "      <td>-0.026107</td>\n",
       "      <td>-0.066030</td>\n",
       "      <td>0.031446</td>\n",
       "      <td>-0.051075</td>\n",
       "      <td>-0.001214</td>\n",
       "      <td>0.013288</td>\n",
       "      <td>-0.074120</td>\n",
       "      <td>-0.043237</td>\n",
       "      <td>...</td>\n",
       "      <td>-0.154494</td>\n",
       "      <td>-0.006258</td>\n",
       "      <td>0.011846</td>\n",
       "      <td>-0.066626</td>\n",
       "      <td>0.002210</td>\n",
       "      <td>0.697050</td>\n",
       "      <td>3</td>\n",
       "      <td>2</td>\n",
       "      <td>4.0</td>\n",
       "      <td>201712</td>\n",
       "    </tr>\n",
       "    <tr>\n",
       "      <td>1</td>\n",
       "      <td>0.055324</td>\n",
       "      <td>0.062319</td>\n",
       "      <td>-0.012206</td>\n",
       "      <td>-0.069865</td>\n",
       "      <td>0.027048</td>\n",
       "      <td>-0.049585</td>\n",
       "      <td>-0.009296</td>\n",
       "      <td>0.030463</td>\n",
       "      <td>-0.079925</td>\n",
       "      <td>-0.043982</td>\n",
       "      <td>...</td>\n",
       "      <td>-0.167317</td>\n",
       "      <td>-0.012893</td>\n",
       "      <td>0.004311</td>\n",
       "      <td>-0.054605</td>\n",
       "      <td>0.006341</td>\n",
       "      <td>0.697050</td>\n",
       "      <td>3</td>\n",
       "      <td>2</td>\n",
       "      <td>4.0</td>\n",
       "      <td>201712</td>\n",
       "    </tr>\n",
       "    <tr>\n",
       "      <td>2</td>\n",
       "      <td>0.450239</td>\n",
       "      <td>0.693979</td>\n",
       "      <td>-0.344753</td>\n",
       "      <td>-0.611851</td>\n",
       "      <td>0.340052</td>\n",
       "      <td>-0.439572</td>\n",
       "      <td>0.016754</td>\n",
       "      <td>0.193928</td>\n",
       "      <td>-0.866130</td>\n",
       "      <td>-0.107834</td>\n",
       "      <td>...</td>\n",
       "      <td>-1.529588</td>\n",
       "      <td>0.140587</td>\n",
       "      <td>0.147823</td>\n",
       "      <td>-0.689736</td>\n",
       "      <td>0.231391</td>\n",
       "      <td>0.697050</td>\n",
       "      <td>3</td>\n",
       "      <td>2</td>\n",
       "      <td>13.0</td>\n",
       "      <td>201712</td>\n",
       "    </tr>\n",
       "    <tr>\n",
       "      <td>3</td>\n",
       "      <td>0.065031</td>\n",
       "      <td>0.080975</td>\n",
       "      <td>-0.032401</td>\n",
       "      <td>-0.082266</td>\n",
       "      <td>0.045189</td>\n",
       "      <td>-0.053763</td>\n",
       "      <td>0.000752</td>\n",
       "      <td>0.014797</td>\n",
       "      <td>-0.091770</td>\n",
       "      <td>-0.050328</td>\n",
       "      <td>...</td>\n",
       "      <td>-0.175071</td>\n",
       "      <td>-0.011462</td>\n",
       "      <td>0.018522</td>\n",
       "      <td>-0.070093</td>\n",
       "      <td>0.015097</td>\n",
       "      <td>0.697050</td>\n",
       "      <td>3</td>\n",
       "      <td>2</td>\n",
       "      <td>4.0</td>\n",
       "      <td>201712</td>\n",
       "    </tr>\n",
       "    <tr>\n",
       "      <td>4</td>\n",
       "      <td>0.114619</td>\n",
       "      <td>0.149556</td>\n",
       "      <td>-0.066052</td>\n",
       "      <td>-0.147802</td>\n",
       "      <td>0.078769</td>\n",
       "      <td>-0.101842</td>\n",
       "      <td>0.000272</td>\n",
       "      <td>0.051071</td>\n",
       "      <td>-0.194238</td>\n",
       "      <td>-0.048906</td>\n",
       "      <td>...</td>\n",
       "      <td>-0.351923</td>\n",
       "      <td>0.008798</td>\n",
       "      <td>0.028487</td>\n",
       "      <td>-0.151610</td>\n",
       "      <td>0.045337</td>\n",
       "      <td>0.697050</td>\n",
       "      <td>3</td>\n",
       "      <td>2</td>\n",
       "      <td>2.0</td>\n",
       "      <td>201712</td>\n",
       "    </tr>\n",
       "    <tr>\n",
       "      <td>...</td>\n",
       "      <td>...</td>\n",
       "      <td>...</td>\n",
       "      <td>...</td>\n",
       "      <td>...</td>\n",
       "      <td>...</td>\n",
       "      <td>...</td>\n",
       "      <td>...</td>\n",
       "      <td>...</td>\n",
       "      <td>...</td>\n",
       "      <td>...</td>\n",
       "      <td>...</td>\n",
       "      <td>...</td>\n",
       "      <td>...</td>\n",
       "      <td>...</td>\n",
       "      <td>...</td>\n",
       "      <td>...</td>\n",
       "      <td>...</td>\n",
       "      <td>...</td>\n",
       "      <td>...</td>\n",
       "      <td>...</td>\n",
       "      <td>...</td>\n",
       "    </tr>\n",
       "    <tr>\n",
       "      <td>62592</td>\n",
       "      <td>0.007526</td>\n",
       "      <td>0.000226</td>\n",
       "      <td>0.002922</td>\n",
       "      <td>0.002423</td>\n",
       "      <td>-0.011788</td>\n",
       "      <td>-0.003523</td>\n",
       "      <td>0.008707</td>\n",
       "      <td>-0.014678</td>\n",
       "      <td>-0.006766</td>\n",
       "      <td>-0.003803</td>\n",
       "      <td>...</td>\n",
       "      <td>-0.001407</td>\n",
       "      <td>-0.002353</td>\n",
       "      <td>0.000688</td>\n",
       "      <td>-0.001124</td>\n",
       "      <td>0.003302</td>\n",
       "      <td>0.690571</td>\n",
       "      <td>3</td>\n",
       "      <td>2</td>\n",
       "      <td>6.0</td>\n",
       "      <td>201821</td>\n",
       "    </tr>\n",
       "    <tr>\n",
       "      <td>62593</td>\n",
       "      <td>0.001567</td>\n",
       "      <td>-0.000234</td>\n",
       "      <td>-0.001776</td>\n",
       "      <td>-0.000090</td>\n",
       "      <td>-0.000380</td>\n",
       "      <td>-0.007325</td>\n",
       "      <td>0.007395</td>\n",
       "      <td>-0.007073</td>\n",
       "      <td>-0.000563</td>\n",
       "      <td>-0.003848</td>\n",
       "      <td>...</td>\n",
       "      <td>-0.001786</td>\n",
       "      <td>-0.002352</td>\n",
       "      <td>0.003189</td>\n",
       "      <td>0.004044</td>\n",
       "      <td>-0.003393</td>\n",
       "      <td>0.690571</td>\n",
       "      <td>3</td>\n",
       "      <td>2</td>\n",
       "      <td>6.0</td>\n",
       "      <td>201821</td>\n",
       "    </tr>\n",
       "    <tr>\n",
       "      <td>62594</td>\n",
       "      <td>0.004602</td>\n",
       "      <td>-0.000838</td>\n",
       "      <td>0.000404</td>\n",
       "      <td>0.004663</td>\n",
       "      <td>-0.005408</td>\n",
       "      <td>-0.001684</td>\n",
       "      <td>0.000722</td>\n",
       "      <td>-0.004215</td>\n",
       "      <td>-0.002476</td>\n",
       "      <td>0.002638</td>\n",
       "      <td>...</td>\n",
       "      <td>0.004331</td>\n",
       "      <td>0.004369</td>\n",
       "      <td>0.004850</td>\n",
       "      <td>0.005045</td>\n",
       "      <td>0.000538</td>\n",
       "      <td>0.690571</td>\n",
       "      <td>3</td>\n",
       "      <td>2</td>\n",
       "      <td>6.0</td>\n",
       "      <td>201821</td>\n",
       "    </tr>\n",
       "    <tr>\n",
       "      <td>62595</td>\n",
       "      <td>0.003545</td>\n",
       "      <td>0.003096</td>\n",
       "      <td>-0.002754</td>\n",
       "      <td>0.004138</td>\n",
       "      <td>-0.005611</td>\n",
       "      <td>-0.008500</td>\n",
       "      <td>0.007488</td>\n",
       "      <td>-0.003219</td>\n",
       "      <td>-0.003871</td>\n",
       "      <td>-0.006312</td>\n",
       "      <td>...</td>\n",
       "      <td>-0.002103</td>\n",
       "      <td>-0.004665</td>\n",
       "      <td>0.003331</td>\n",
       "      <td>0.003858</td>\n",
       "      <td>-0.000033</td>\n",
       "      <td>0.690571</td>\n",
       "      <td>3</td>\n",
       "      <td>2</td>\n",
       "      <td>6.0</td>\n",
       "      <td>201821</td>\n",
       "    </tr>\n",
       "    <tr>\n",
       "      <td>62596</td>\n",
       "      <td>-0.004655</td>\n",
       "      <td>0.003612</td>\n",
       "      <td>0.003149</td>\n",
       "      <td>-0.004656</td>\n",
       "      <td>0.001668</td>\n",
       "      <td>0.004132</td>\n",
       "      <td>-0.004804</td>\n",
       "      <td>-0.002284</td>\n",
       "      <td>-0.002179</td>\n",
       "      <td>0.004529</td>\n",
       "      <td>...</td>\n",
       "      <td>0.001466</td>\n",
       "      <td>0.003067</td>\n",
       "      <td>-0.003389</td>\n",
       "      <td>-0.002557</td>\n",
       "      <td>0.001855</td>\n",
       "      <td>0.690571</td>\n",
       "      <td>3</td>\n",
       "      <td>2</td>\n",
       "      <td>6.0</td>\n",
       "      <td>201821</td>\n",
       "    </tr>\n",
       "  </tbody>\n",
       "</table>\n",
       "<p>62597 rows × 105 columns</p>\n",
       "</div>"
      ],
      "text/plain": [
       "             C1       C10      C100       C11       C12       C13       C14  \\\n",
       "0      0.055791  0.068782 -0.026107 -0.066030  0.031446 -0.051075 -0.001214   \n",
       "1      0.055324  0.062319 -0.012206 -0.069865  0.027048 -0.049585 -0.009296   \n",
       "2      0.450239  0.693979 -0.344753 -0.611851  0.340052 -0.439572  0.016754   \n",
       "3      0.065031  0.080975 -0.032401 -0.082266  0.045189 -0.053763  0.000752   \n",
       "4      0.114619  0.149556 -0.066052 -0.147802  0.078769 -0.101842  0.000272   \n",
       "...         ...       ...       ...       ...       ...       ...       ...   \n",
       "62592  0.007526  0.000226  0.002922  0.002423 -0.011788 -0.003523  0.008707   \n",
       "62593  0.001567 -0.000234 -0.001776 -0.000090 -0.000380 -0.007325  0.007395   \n",
       "62594  0.004602 -0.000838  0.000404  0.004663 -0.005408 -0.001684  0.000722   \n",
       "62595  0.003545  0.003096 -0.002754  0.004138 -0.005611 -0.008500  0.007488   \n",
       "62596 -0.004655  0.003612  0.003149 -0.004656  0.001668  0.004132 -0.004804   \n",
       "\n",
       "            C15       C16       C17  ...       C95       C96       C97  \\\n",
       "0      0.013288 -0.074120 -0.043237  ... -0.154494 -0.006258  0.011846   \n",
       "1      0.030463 -0.079925 -0.043982  ... -0.167317 -0.012893  0.004311   \n",
       "2      0.193928 -0.866130 -0.107834  ... -1.529588  0.140587  0.147823   \n",
       "3      0.014797 -0.091770 -0.050328  ... -0.175071 -0.011462  0.018522   \n",
       "4      0.051071 -0.194238 -0.048906  ... -0.351923  0.008798  0.028487   \n",
       "...         ...       ...       ...  ...       ...       ...       ...   \n",
       "62592 -0.014678 -0.006766 -0.003803  ... -0.001407 -0.002353  0.000688   \n",
       "62593 -0.007073 -0.000563 -0.003848  ... -0.001786 -0.002352  0.003189   \n",
       "62594 -0.004215 -0.002476  0.002638  ...  0.004331  0.004369  0.004850   \n",
       "62595 -0.003219 -0.003871 -0.006312  ... -0.002103 -0.004665  0.003331   \n",
       "62596 -0.002284 -0.002179  0.004529  ...  0.001466  0.003067 -0.003389   \n",
       "\n",
       "            C98       C99  Silhouette  category  closer#  label  period  \n",
       "0     -0.066626  0.002210    0.697050         3        2    4.0  201712  \n",
       "1     -0.054605  0.006341    0.697050         3        2    4.0  201712  \n",
       "2     -0.689736  0.231391    0.697050         3        2   13.0  201712  \n",
       "3     -0.070093  0.015097    0.697050         3        2    4.0  201712  \n",
       "4     -0.151610  0.045337    0.697050         3        2    2.0  201712  \n",
       "...         ...       ...         ...       ...      ...    ...     ...  \n",
       "62592 -0.001124  0.003302    0.690571         3        2    6.0  201821  \n",
       "62593  0.004044 -0.003393    0.690571         3        2    6.0  201821  \n",
       "62594  0.005045  0.000538    0.690571         3        2    6.0  201821  \n",
       "62595  0.003858 -0.000033    0.690571         3        2    6.0  201821  \n",
       "62596 -0.002557  0.001855    0.690571         3        2    6.0  201821  \n",
       "\n",
       "[62597 rows x 105 columns]"
      ]
     },
     "execution_count": 60,
     "metadata": {},
     "output_type": "execute_result"
    }
   ],
   "source": [
    "X_test"
   ]
  },
  {
   "cell_type": "code",
   "execution_count": 61,
   "metadata": {
    "pycharm": {
     "name": "#%%\n"
    }
   },
   "outputs": [],
   "source": [
    "y_test = y_test.apply(lambda x : x-1)"
   ]
  },
  {
   "cell_type": "code",
   "execution_count": 62,
   "metadata": {
    "pycharm": {
     "name": "#%%\n"
    }
   },
   "outputs": [],
   "source": [
    "y_cate_test = to_categorical(y_test , num_classes=3)"
   ]
  },
  {
   "cell_type": "code",
   "execution_count": 63,
   "metadata": {
    "pycharm": {
     "name": "#%%\n"
    }
   },
   "outputs": [
    {
     "data": {
      "text/plain": [
       "array([[0., 1., 0.],\n",
       "       [0., 1., 0.],\n",
       "       [0., 1., 0.],\n",
       "       ...,\n",
       "       [1., 0., 0.],\n",
       "       [1., 0., 0.],\n",
       "       [1., 0., 0.]], dtype=float32)"
      ]
     },
     "execution_count": 63,
     "metadata": {},
     "output_type": "execute_result"
    }
   ],
   "source": [
    "y_cate_test"
   ]
  },
  {
   "cell_type": "code",
   "execution_count": 64,
   "metadata": {},
   "outputs": [
    {
     "name": "stdout",
     "output_type": "stream",
     "text": [
      "62597/62597 [==============================] - 0s 3us/step\n"
     ]
    }
   ],
   "source": [
    "score = model.evaluate(X_test, y_cate_test, batch_size=500)"
   ]
  },
  {
   "cell_type": "code",
   "execution_count": 65,
   "metadata": {
    "pycharm": {
     "name": "#%%\n"
    }
   },
   "outputs": [],
   "source": [
    "#score = model.evaluate(X_test, y_cate_test, batch_size=500)"
   ]
  },
  {
   "cell_type": "code",
   "execution_count": 66,
   "metadata": {
    "pycharm": {
     "name": "#%%\n"
    }
   },
   "outputs": [
    {
     "data": {
      "text/plain": [
       "[0.8473300686495325, 0.4366503059864044]"
      ]
     },
     "execution_count": 66,
     "metadata": {},
     "output_type": "execute_result"
    }
   ],
   "source": [
    "score"
   ]
  },
  {
   "cell_type": "code",
   "execution_count": 67,
   "metadata": {
    "pycharm": {
     "name": "#%%\n"
    }
   },
   "outputs": [],
   "source": [
    "yhat_probs = model.predict(X_test ,batch_size=500 )\n",
    "\n",
    "yhat_classes = model.predict_classes(X_test ,batch_size=500 )\n",
    "\n",
    "# reduce to 1d array\n",
    "#yhat_probs = yhat_probs[:, 0]\n",
    "#yhat_classes = yhat_classes[:, 0]"
   ]
  },
  {
   "cell_type": "code",
   "execution_count": 68,
   "metadata": {},
   "outputs": [
    {
     "data": {
      "text/plain": [
       "array([[0.37624416, 0.5068919 , 0.11686399],\n",
       "       [0.37624454, 0.5068905 , 0.11686499],\n",
       "       [0.37624815, 0.50682575, 0.11692609],\n",
       "       ...,\n",
       "       [0.3762384 , 0.50698274, 0.11677885],\n",
       "       [0.37623864, 0.5069831 , 0.11677827],\n",
       "       [0.37623918, 0.5069819 , 0.11677889]], dtype=float32)"
      ]
     },
     "execution_count": 68,
     "metadata": {},
     "output_type": "execute_result"
    }
   ],
   "source": [
    "yhat_probs"
   ]
  },
  {
   "cell_type": "code",
   "execution_count": 69,
   "metadata": {
    "pycharm": {
     "name": "#%%\n"
    }
   },
   "outputs": [
    {
     "data": {
      "text/plain": [
       "array([1, 1, 1, ..., 1, 1, 1])"
      ]
     },
     "execution_count": 69,
     "metadata": {},
     "output_type": "execute_result"
    }
   ],
   "source": [
    "yhat_classes"
   ]
  },
  {
   "cell_type": "code",
   "execution_count": 70,
   "metadata": {
    "pycharm": {
     "name": "#%%\n"
    }
   },
   "outputs": [
    {
     "data": {
      "text/plain": [
       "array([[0., 1., 0.],\n",
       "       [0., 1., 0.],\n",
       "       [0., 1., 0.],\n",
       "       ...,\n",
       "       [1., 0., 0.],\n",
       "       [1., 0., 0.],\n",
       "       [1., 0., 0.]], dtype=float32)"
      ]
     },
     "execution_count": 70,
     "metadata": {},
     "output_type": "execute_result"
    }
   ],
   "source": [
    "y_cate_test"
   ]
  },
  {
   "cell_type": "code",
   "execution_count": 71,
   "metadata": {
    "pycharm": {
     "name": "#%%\n"
    }
   },
   "outputs": [
    {
     "name": "stdout",
     "output_type": "stream",
     "text": [
      "Accuracy: 0.436650\n",
      "Precision: 0.436650\n",
      "Recall: 0.436650\n",
      "F1 score: 0.436650\n"
     ]
    }
   ],
   "source": [
    "# accuracy: (tp + tn) / (p + n)\n",
    "accuracy = accuracy_score(y_test, yhat_classes )\n",
    "print('Accuracy: %f' % accuracy)\n",
    "# precision tp / (tp + fp)\n",
    "precision = precision_score(y_test, yhat_classes , average='micro')\n",
    "print('Precision: %f' % precision)\n",
    "# recall: tp / (tp + fn)\n",
    "recall = recall_score(y_test, yhat_classes , average='micro')\n",
    "print('Recall: %f' % recall)\n",
    "# f1: 2 tp / (2 tp + fp + fn)\n",
    "f1 = f1_score(y_test, yhat_classes,average='micro')\n",
    "print('F1 score: %f' % f1)"
   ]
  },
  {
   "cell_type": "code",
   "execution_count": 72,
   "metadata": {
    "pycharm": {
     "name": "#%%\n"
    }
   },
   "outputs": [
    {
     "name": "stdout",
     "output_type": "stream",
     "text": [
      "0        1\n",
      "1        1\n",
      "2        1\n",
      "3        1\n",
      "4        1\n",
      "        ..\n",
      "62592    0\n",
      "62593    0\n",
      "62594    0\n",
      "62595    0\n",
      "62596    0\n",
      "Name: result, Length: 62597, dtype: int64\n",
      "[[0 1 0]\n",
      " [0 1 0]\n",
      " [0 1 0]\n",
      " ...\n",
      " [1 0 0]\n",
      " [1 0 0]\n",
      " [1 0 0]]\n",
      "class :  0 == 0.5186283414889483\n",
      "class :  1 == 0.5389967723188227\n",
      "class :  2 == nan\n"
     ]
    },
    {
     "name": "stderr",
     "output_type": "stream",
     "text": [
      "/Users/hongminpyo/opt/anaconda3/lib/python3.7/site-packages/sklearn/metrics/_ranking.py:813: UndefinedMetricWarning: No positive samples in y_true, true positive value should be meaningless\n",
      "  UndefinedMetricWarning)\n"
     ]
    }
   ],
   "source": [
    "# Compute ROC curve and ROC area for each class\n",
    "fpr = dict()\n",
    "tpr = dict()\n",
    "roc_auc = dict()\n",
    "\n",
    "y_test_roc =label_binarize(y_test, classes=[0, 1, 2])\n",
    "\n",
    "print(y_test)\n",
    "print(y_test_roc)\n",
    "\n",
    "for i in range(3):\n",
    "    fpr[i], tpr[i], _ = roc_curve(y_test_roc[:, i], yhat_probs[:, i])\n",
    "    roc_auc[i] = auc(fpr[i], tpr[i])\n",
    "    print('class : ',i,'==',roc_auc[i])"
   ]
  },
  {
   "cell_type": "code",
   "execution_count": 73,
   "metadata": {
    "pycharm": {
     "name": "#%%\n"
    }
   },
   "outputs": [],
   "source": [
    "# Compute micro-average ROC curve and ROC area\n",
    "fpr[\"micro\"], tpr[\"micro\"], _ = roc_curve(y_test_roc.ravel(), yhat_probs.ravel())\n",
    "roc_auc[\"micro\"] = auc(fpr[\"micro\"], tpr[\"micro\"])"
   ]
  },
  {
   "cell_type": "code",
   "execution_count": 74,
   "metadata": {
    "pycharm": {
     "name": "#%%\n"
    }
   },
   "outputs": [
    {
     "data": {
      "image/png": "[encoded data removed]",
      "text/plain": [
       "<Figure size 432x288 with 1 Axes>"
      ]
     },
     "metadata": {
      "needs_background": "light"
     },
     "output_type": "display_data"
    }
   ],
   "source": [
    "plt.figure()\n",
    "lw = 2\n",
    "plt.plot(fpr[1], tpr[1], color='darkorange',\n",
    "         lw=lw, label='ROC curve (area = %0.2f)' % roc_auc[2])\n",
    "plt.plot([0, 1], [0, 1], color='navy', lw=lw, linestyle='--')\n",
    "plt.xlim([0.0, 1.0])\n",
    "plt.ylim([0.0, 1.05])\n",
    "plt.xlabel('False Positive Rate')\n",
    "plt.ylabel('True Positive Rate')\n",
    "plt.title('Receiver operating characteristic example')\n",
    "plt.legend(loc=\"lower right\")\n",
    "plt.show()\n"
   ]
  },
  {
   "cell_type": "code",
   "execution_count": 75,
   "metadata": {
    "pycharm": {
     "name": "#%%\n"
    }
   },
   "outputs": [
    {
     "data": {
      "image/png": "[encoded data removed]",
      "text/plain": [
       "<Figure size 432x288 with 1 Axes>"
      ]
     },
     "metadata": {
      "needs_background": "light"
     },
     "output_type": "display_data"
    }
   ],
   "source": [
    "# First aggregate all false positive rates\n",
    "all_fpr = np.unique(np.concatenate([fpr[i] for i in range(3)]))\n",
    "\n",
    "# Then interpolate all ROC curves at this points\n",
    "mean_tpr = np.zeros_like(all_fpr)\n",
    "for i in range(3):\n",
    "    mean_tpr += interp(all_fpr, fpr[i], tpr[i])\n",
    "\n",
    "# Finally average it and compute AUC\n",
    "mean_tpr /= 3\n",
    "\n",
    "fpr[\"macro\"] = all_fpr\n",
    "tpr[\"macro\"] = mean_tpr\n",
    "roc_auc[\"macro\"] = auc(fpr[\"macro\"], tpr[\"macro\"])\n",
    "\n",
    "# Plot all ROC curves\n",
    "plt.figure()\n",
    "plt.plot(fpr[\"micro\"], tpr[\"micro\"],\n",
    "         label='micro-average ROC curve (area = {0:0.2f})'\n",
    "               ''.format(roc_auc[\"micro\"]),\n",
    "         color='deeppink', linestyle=':', linewidth=4)\n",
    "\n",
    "plt.plot(fpr[\"macro\"], tpr[\"macro\"],\n",
    "         label='macro-average ROC curve (area = {0:0.2f})'\n",
    "               ''.format(roc_auc[\"macro\"]),\n",
    "         color='navy', linestyle=':', linewidth=4)\n",
    "\n",
    "colors = cycle(['aqua', 'darkorange', 'cornflowerblue'])\n",
    "for i, color in zip(range(3), colors):\n",
    "    plt.plot(fpr[i], tpr[i], color=color, lw=lw,\n",
    "             label='ROC curve of class {0} (area = {1:0.2f})'\n",
    "             ''.format(i, roc_auc[i]))\n",
    "\n",
    "plt.plot([0, 1], [0, 1], 'k--', lw=lw)\n",
    "plt.xlim([0.0, 1.0])\n",
    "plt.ylim([0.0, 1.05])\n",
    "plt.xlabel('False Positive Rate')\n",
    "plt.ylabel('True Positive Rate')\n",
    "plt.title('Some extension of Receiver operating characteristic to multi-class')\n",
    "plt.legend(loc=\"lower right\")\n",
    "plt.show()"
   ]
  },
  {
   "cell_type": "code",
   "execution_count": 76,
   "metadata": {
    "pycharm": {
     "name": "#%%\n"
    }
   },
   "outputs": [
    {
     "name": "stdout",
     "output_type": "stream",
     "text": [
      "Accuracy: 0.436650\n",
      "Precision: 0.436650\n",
      "Recall: 0.436650\n",
      "F1 score: 0.436650\n"
     ]
    }
   ],
   "source": [
    "# accuracy: (tp + tn) / (p + n)\n",
    "accuracy = accuracy_score(y_test, yhat_classes )\n",
    "print('Accuracy: %f' % accuracy)\n",
    "# precision tp / (tp + fp)\n",
    "precision = precision_score(y_test, yhat_classes , average='micro')\n",
    "print('Precision: %f' % precision)\n",
    "# recall: tp / (tp + fn)\n",
    "recall = recall_score(y_test, yhat_classes , average='micro')\n",
    "print('Recall: %f' % recall)\n",
    "# f1: 2 tp / (2 tp + fp + fn)\n",
    "f1 = f1_score(y_test, yhat_classes,average='micro')\n",
    "print('F1 score: %f' % f1)"
   ]
  },
  {
   "cell_type": "code",
   "execution_count": 77,
   "metadata": {
    "pycharm": {
     "name": "#%%\n"
    }
   },
   "outputs": [
    {
     "name": "stdout",
     "output_type": "stream",
     "text": [
      "0        1\n",
      "1        1\n",
      "2        1\n",
      "3        1\n",
      "4        1\n",
      "        ..\n",
      "62592    0\n",
      "62593    0\n",
      "62594    0\n",
      "62595    0\n",
      "62596    0\n",
      "Name: result, Length: 62597, dtype: int64\n",
      "[[0 1 0]\n",
      " [0 1 0]\n",
      " [0 1 0]\n",
      " ...\n",
      " [1 0 0]\n",
      " [1 0 0]\n",
      " [1 0 0]]\n",
      "class :  0 == 0.5186283414889483\n",
      "class :  1 == 0.5389967723188227\n",
      "class :  2 == nan\n"
     ]
    },
    {
     "name": "stderr",
     "output_type": "stream",
     "text": [
      "/Users/hongminpyo/opt/anaconda3/lib/python3.7/site-packages/sklearn/metrics/_ranking.py:813: UndefinedMetricWarning: No positive samples in y_true, true positive value should be meaningless\n",
      "  UndefinedMetricWarning)\n"
     ]
    }
   ],
   "source": [
    "# Compute ROC curve and ROC area for each class\n",
    "fpr = dict()\n",
    "tpr = dict()\n",
    "roc_auc = dict()\n",
    "\n",
    "y_test_roc =label_binarize(y_test, classes=[0, 1, 2])\n",
    "\n",
    "print(y_test)\n",
    "print(y_test_roc)\n",
    "\n",
    "for i in range(3):\n",
    "    fpr[i], tpr[i], _ = roc_curve(y_test_roc[:, i], yhat_probs[:, i])\n",
    "    roc_auc[i] = auc(fpr[i], tpr[i])\n",
    "    print('class : ',i,'==',roc_auc[i])"
   ]
  },
  {
   "cell_type": "code",
   "execution_count": 78,
   "metadata": {
    "pycharm": {
     "name": "#%%\n"
    }
   },
   "outputs": [],
   "source": [
    "# Compute micro-average ROC curve and ROC area\n",
    "fpr[\"micro\"], tpr[\"micro\"], _ = roc_curve(y_test_roc.ravel(), yhat_probs.ravel())\n",
    "roc_auc[\"micro\"] = auc(fpr[\"micro\"], tpr[\"micro\"])"
   ]
  },
  {
   "cell_type": "code",
   "execution_count": 79,
   "metadata": {
    "pycharm": {
     "name": "#%%\n"
    }
   },
   "outputs": [
    {
     "data": {
      "image/png": "[encoded data removed]",
      "text/plain": [
       "<Figure size 432x288 with 1 Axes>"
      ]
     },
     "metadata": {
      "needs_background": "light"
     },
     "output_type": "display_data"
    }
   ],
   "source": [
    "plt.figure()\n",
    "lw = 2\n",
    "plt.plot(fpr[1], tpr[1], color='darkorange',\n",
    "         lw=lw, label='ROC curve (area = %0.2f)' % roc_auc[2])\n",
    "plt.plot([0, 1], [0, 1], color='navy', lw=lw, linestyle='--')\n",
    "plt.xlim([0.0, 1.0])\n",
    "plt.ylim([0.0, 1.05])\n",
    "plt.xlabel('False Positive Rate')\n",
    "plt.ylabel('True Positive Rate')\n",
    "plt.title('Receiver operating characteristic example')\n",
    "plt.legend(loc=\"lower right\")\n",
    "plt.show()\n"
   ]
  },
  {
   "cell_type": "code",
   "execution_count": 80,
   "metadata": {
    "pycharm": {
     "name": "#%%\n"
    }
   },
   "outputs": [
    {
     "data": {
      "image/png": "[encoded data removed]",
      "text/plain": [
       "<Figure size 432x288 with 1 Axes>"
      ]
     },
     "metadata": {
      "needs_background": "light"
     },
     "output_type": "display_data"
    }
   ],
   "source": [
    "# First aggregate all false positive rates\n",
    "all_fpr = np.unique(np.concatenate([fpr[i] for i in range(3)]))\n",
    "\n",
    "# Then interpolate all ROC curves at this points\n",
    "mean_tpr = np.zeros_like(all_fpr)\n",
    "for i in range(3):\n",
    "    mean_tpr += interp(all_fpr, fpr[i], tpr[i])\n",
    "\n",
    "# Finally average it and compute AUC\n",
    "mean_tpr /= 3\n",
    "\n",
    "fpr[\"macro\"] = all_fpr\n",
    "tpr[\"macro\"] = mean_tpr\n",
    "roc_auc[\"macro\"] = auc(fpr[\"macro\"], tpr[\"macro\"])\n",
    "\n",
    "# Plot all ROC curves\n",
    "plt.figure()\n",
    "plt.plot(fpr[\"micro\"], tpr[\"micro\"],\n",
    "         label='micro-average ROC curve (area = {0:0.2f})'\n",
    "               ''.format(roc_auc[\"micro\"]),\n",
    "         color='deeppink', linestyle=':', linewidth=4)\n",
    "\n",
    "plt.plot(fpr[\"macro\"], tpr[\"macro\"],\n",
    "         label='macro-average ROC curve (area = {0:0.2f})'\n",
    "               ''.format(roc_auc[\"macro\"]),\n",
    "         color='navy', linestyle=':', linewidth=4)\n",
    "\n",
    "colors = cycle(['aqua', 'darkorange', 'cornflowerblue'])\n",
    "for i, color in zip(range(3), colors):\n",
    "    plt.plot(fpr[i], tpr[i], color=color, lw=lw,\n",
    "             label='ROC curve of class {0} (area = {1:0.2f})'\n",
    "             ''.format(i, roc_auc[i]))\n",
    "\n",
    "plt.plot([0, 1], [0, 1], 'k--', lw=lw)\n",
    "plt.xlim([0.0, 1.0])\n",
    "plt.ylim([0.0, 1.05])\n",
    "plt.xlabel('False Positive Rate')\n",
    "plt.ylabel('True Positive Rate')\n",
    "plt.title('Some extension of Receiver operating characteristic to multi-class')\n",
    "plt.legend(loc=\"lower right\")\n",
    "plt.show()"
   ]
  },
  {
   "cell_type": "code",
   "execution_count": null,
   "metadata": {
    "pycharm": {
     "name": "#%%\n"
    }
   },
   "outputs": [],
   "source": []
  },
  {
   "cell_type": "code",
   "execution_count": null,
   "metadata": {},
   "outputs": [],
   "source": []
  },
  {
   "cell_type": "code",
   "execution_count": null,
   "metadata": {},
   "outputs": [],
   "source": []
  }
 ],
 "metadata": {
  "kernelspec": {
   "display_name": "Python 3",
   "language": "python",
   "name": "python3"
  },
  "language_info": {
   "codemirror_mode": {
    "name": "ipython",
    "version": 3
   },
   "file_extension": ".py",
   "mimetype": "text/x-python",
   "name": "python",
   "nbconvert_exporter": "python",
   "pygments_lexer": "ipython3",
   "version": "3.7.4"
  },
  "pycharm": {
   "stem_cell": {
    "cell_type": "raw",
    "metadata": {
     "collapsed": false
    },
    "source": []
   }
  }
 },
 "nbformat": 4,
 "nbformat_minor": 2
}

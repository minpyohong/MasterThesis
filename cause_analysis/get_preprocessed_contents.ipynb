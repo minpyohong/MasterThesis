{
 "cells": [
  {
   "cell_type": "code",
   "execution_count": 1,
   "metadata": {},
   "outputs": [],
   "source": [
    "import ast\n",
    "from datetime import datetime , timedelta\n",
    "import time\n",
    "import pandas as pd\n",
    "import numpy as np\n",
    "\n",
    "\n",
    "header = ['crypto','gubun','datetime','username','retweets','favorites','hashtags','text']\n",
    "\n",
    "before_tweetSet = pd.DataFrame(columns=header)\n",
    "after_tweetSet = pd.DataFrame(columns=header)\n",
    "\n",
    "# up down은 한번씩 돌려줘야 함 \n",
    "\n",
    "#data = pd.read_csv('./data/BTC_up_period.csv', error_bad_lines=False)\n",
    "#data = pd.read_csv('./data/BTC_down_period.csv', error_bad_lines=False)\n",
    "#data = pd.read_csv('./data/period/ETH_up_period.csv', error_bad_lines=False)\n",
    "#data = pd.read_csv('./data/period/ETH_down_period.csv', error_bad_lines=False)\n",
    "#data = pd.read_csv('./data/period/BCH_up_period.csv', error_bad_lines=False)\n",
    "#data = pd.read_csv('./data/period/BCH_down_period.csv', error_bad_lines=False)\n",
    "#data = pd.read_csv('./data/period/BTC_down_period.csv', error_bad_lines=False)\n",
    "data = pd.read_csv('./data/period/BTC_up_period.csv', error_bad_lines=False)\n",
    "\n"
   ]
  },
  {
   "cell_type": "code",
   "execution_count": 2,
   "metadata": {},
   "outputs": [
    {
     "name": "stdout",
     "output_type": "stream",
     "text": [
      "0\n",
      "2017-01-04 14:00:00\n",
      "2017-01-04 20:00:00\n",
      "2017-01-05 02:00:00\n",
      "1\n",
      "2017-07-20 14:00:00\n",
      "2017-07-20 20:00:00\n",
      "2017-07-21 02:00:00\n",
      "2\n",
      "2018-04-12 14:00:00\n",
      "2018-04-12 20:00:00\n",
      "2018-04-13 02:00:00\n",
      "3\n",
      "2018-12-20 11:00:00\n",
      "2018-12-20 17:00:00\n",
      "2018-12-20 23:00:00\n",
      "4\n",
      "2019-04-02 07:00:00\n",
      "2019-04-02 13:00:00\n",
      "2019-04-02 19:00:00\n",
      "5\n",
      "2019-10-25 13:00:00\n",
      "2019-10-25 19:00:00\n",
      "2019-10-26 01:00:00\n",
      "6\n",
      "2020-03-13 05:00:00\n",
      "2020-03-13 11:00:00\n",
      "2020-03-13 17:00:00\n"
     ]
    }
   ],
   "source": [
    "for i in data.index :\n",
    "    print(i)\n",
    "    before_time = datetime.strptime(data.loc[i,'from_time'],\"%Y-%m-%d %H:%M:%S\")\n",
    "    event_time = datetime.strptime(data.loc[i,'time'],\"%Y-%m-%d %H:%M:%S\")\n",
    "    after_time = datetime.strptime(data.loc[i,'to_time'],\"%Y-%m-%d %H:%M:%S\")\n",
    "    print(before_time)\n",
    "    print(event_time)\n",
    "    print(after_time)\n",
    "    \n",
    "    #tweet_up_ETHset = pd.read_csv('./data/raw_data/tweet_up_ETH'+str(i)+'.csv', error_bad_lines=False) \n",
    "    #tweet_up_BTCset = pd.read_csv('./data/raw_data/tweet_down_ETH'+str(i)+'.csv', error_bad_lines=False) \n",
    "    #tweet_up_BTCset = pd.read_csv('./data/raw_data/tweet_up_BCH'+str(i)+'.csv', error_bad_lines=False) \n",
    "    #tweet_up_BTCset = pd.read_csv('./data/raw_data/tweet_down_BCH'+str(i)+'.csv', error_bad_lines=False) \n",
    "    tweet_up_BTCset = pd.read_csv('./data/raw_data/tweet_up_BTC'+str(i)+'.csv', error_bad_lines=False) \n",
    "    \n",
    "    \n",
    "    tweet_up_BTCset['datetime'] = tweet_up_BTCset['datetime'].apply(lambda x : x.replace(\"+00:00\",\"\"))\n",
    "    tweet_up_BTCset['datetime'] = tweet_up_BTCset['datetime'].apply(lambda x : datetime.strptime(x,\"%Y-%m-%d %H:%M:%S\"))\n",
    "    \n",
    "    \n",
    "    BTSet_index = 0\n",
    "    ATSet_index = 0\n",
    "\n",
    "\n",
    "    for j in tweet_up_BTCset.index :\n",
    "\n",
    "        ethset_date = tweet_up_BTCset.loc[j,'datetime']\n",
    "\n",
    "\n",
    "        if before_time <= ethset_date and event_time > ethset_date :\n",
    "\n",
    "            #print('before ::',ethset_date)\n",
    "            before_tweetSet.loc[BTSet_index] = tweet_up_BTCset.loc[j]\n",
    "            BTSet_index = BTSet_index + 1\n",
    "\n",
    "        elif event_time <= ethset_date and after_time > ethset_date :\n",
    "\n",
    "            #print('after ::',ethset_date)\n",
    "            after_tweetSet.loc[ATSet_index] = tweet_up_BTCset.loc[j]   \n",
    "            ATSet_index = ATSet_index + 1\n",
    "        \n",
    "    #print\n",
    "    \n",
    "    #before_tweetSet.to_csv('./data/split/before_up_ETH'+str(i)+'.csv')\n",
    "    #after_tweetSet.to_csv('./data/split/after_up_ETH'+str(i)+'.csv')\n",
    "    #before_tweetSet.to_csv('./data/split/before_down_ETH'+str(i)+'.csv')\n",
    "    #after_tweetSet.to_csv('./data/split/after_down_ETH'+str(i)+'.csv')\n",
    "    #before_tweetSet.to_csv('./data/split/before_up_BCH'+str(i)+'.csv')\n",
    "    #after_tweetSet.to_csv('./data/split/after_up_BCH'+str(i)+'.csv')\n",
    "    before_tweetSet.to_csv('./data/split/before_up_BTC'+str(i)+'.csv')\n",
    "    after_tweetSet.to_csv('./data/split/after_up_BTC'+str(i)+'.csv')\n",
    "    \n",
    "    before_tweetSet = before_tweetSet.iloc[0:0]\n",
    "    after_tweetSet = after_tweetSet.iloc[0:0]\n",
    "    tweet_up_BTCset = tweet_up_BTCset.iloc[0:0]\n"
   ]
  },
  {
   "cell_type": "code",
   "execution_count": 3,
   "metadata": {},
   "outputs": [],
   "source": [
    "#test_ETHset = pd.read_csv('./data/raw_data/tweet_up_ETH4.csv', error_bad_lines=False) "
   ]
  },
  {
   "cell_type": "code",
   "execution_count": null,
   "outputs": [],
   "source": [
    "#test_ETHset"
   ],
   "metadata": {
    "collapsed": false,
    "pycharm": {
     "name": "#%%\n"
    }
   }
  },
  {
   "cell_type": "code",
   "execution_count": null,
   "outputs": [],
   "source": [
    "#test_ETHset['datetime'] = test_ETHset['datetime'].apply(lambda x : x.replace(\"+00:00\",\"\"))\n",
    "#test_ETHset['datetime'] = test_ETHset['datetime'].apply(lambda x : datetime.strptime(x,\"%Y-%m-%d %H:%M:%S\"))"
   ],
   "metadata": {
    "collapsed": false,
    "pycharm": {
     "name": "#%%\n"
    }
   }
  },
  {
   "cell_type": "code",
   "execution_count": null,
   "outputs": [],
   "source": [
    "# 2019-04-02 07:00:00\n",
    "# 2019-04-02 13:00:00\n",
    "\n",
    "#test_ETHset"
   ],
   "metadata": {
    "collapsed": false,
    "pycharm": {
     "name": "#%%\n"
    }
   }
  },
  {
   "cell_type": "code",
   "execution_count": null,
   "outputs": [],
   "source": [
    "# drop bch4 down"
   ],
   "metadata": {
    "collapsed": false,
    "pycharm": {
     "name": "#%%\n"
    }
   }
  },
  {
   "cell_type": "code",
   "execution_count": 4,
   "metadata": {},
   "outputs": [],
   "source": [
    "# drop bch4 down"
   ]
  },
  {
   "cell_type": "code",
   "execution_count": 5,
   "metadata": {},
   "outputs": [],
   "source": [
    "#test_ETHset['datetime'] = test_ETHset['datetime'].apply(lambda x : x.replace(\"+00:00\",\"\"))\n",
    "#test_ETHset['datetime'] = test_ETHset['datetime'].apply(lambda x : datetime.strptime(x,\"%Y-%m-%d %H:%M:%S\"))"
   ]
  },
  {
   "cell_type": "code",
   "execution_count": 6,
   "metadata": {},
   "outputs": [],
   "source": [
    "# 2019-04-02 07:00:00\n",
    "# 2019-04-02 13:00:00\n",
    "\n",
    "#test_ETHset"
   ]
  },
  {
   "cell_type": "code",
   "execution_count": 7,
   "metadata": {},
   "outputs": [],
   "source": [
    "# drop bch4 down"
   ]
  }
 ],
 "metadata": {
  "kernelspec": {
   "display_name": "Python 3",
   "language": "python",
   "name": "python3"
  },
  "language_info": {
   "codemirror_mode": {
    "name": "ipython",
    "version": 3
   },
   "file_extension": ".py",
   "mimetype": "text/x-python",
   "name": "python",
   "nbconvert_exporter": "python",
   "pygments_lexer": "ipython3",
   "version": "3.7.4"
  },
  "pycharm": {
   "stem_cell": {
    "cell_type": "raw",
    "source": [],
    "metadata": {
     "collapsed": false
    }
   }
  }
 },
 "nbformat": 4,
 "nbformat_minor": 2
}
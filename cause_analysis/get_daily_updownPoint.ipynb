{
 "cells": [
  {
   "cell_type": "code",
   "execution_count": 150,
   "metadata": {},
   "outputs": [
    {
     "name": "stdout",
     "output_type": "stream",
     "text": [
      "<class 'str'>\n"
     ]
    }
   ],
   "source": [
    "import ast\n",
    "import requests\n",
    "import json\n",
    "from datetime import datetime , timedelta\n",
    "import time\n",
    "import pandas as pd\n",
    "import numpy as np\n",
    "\n",
    "headername = ['crypto','date','time','high','low','open','close','gap','from_time','to_time']\n",
    "\n",
    "\n",
    "cryptoprice_set = pd.DataFrame(columns=headername)\n",
    "\n",
    "total_cryptoprice_set = pd.DataFrame(columns=headername)\n",
    "\n",
    "newHeaders = {'Content-type': 'application/json', 'Accept': 'text/plain'}\n",
    "\n",
    "crypto = 'BCH'\n",
    "\n",
    "datestr = '2018-12-20'\n",
    "\n",
    "print(type(datestr))\n",
    "\n"
   ]
  },
  {
   "cell_type": "code",
   "execution_count": 151,
   "metadata": {},
   "outputs": [
    {
     "name": "stdout",
     "output_type": "stream",
     "text": [
      "2018\n",
      "12\n",
      "20\n"
     ]
    }
   ],
   "source": [
    "yyyy = int(datestr[0:4])\n",
    "\n",
    "mm = int(datestr[5:7])\n",
    "\n",
    "dd = int(datestr[8:10])\n",
    "\n",
    "#datestr = str(yyyy)+'-'+str(mm)+'-'+'dd'\n",
    "\n",
    "print(yyyy)\n",
    "print(mm)\n",
    "print(dd)"
   ]
  },
  {
   "cell_type": "code",
   "execution_count": 152,
   "metadata": {},
   "outputs": [
    {
     "name": "stdout",
     "output_type": "stream",
     "text": [
      "Unix Timestamp:  1545315780.0\n"
     ]
    }
   ],
   "source": [
    "dt = datetime(yyyy, mm, dd, 23, 23)\n",
    "print(\"Unix Timestamp: \",(time.mktime(dt.timetuple())))\n",
    "targetTime = (time.mktime(dt.timetuple()))\n"
   ]
  },
  {
   "cell_type": "code",
   "execution_count": 153,
   "metadata": {},
   "outputs": [
    {
     "name": "stdout",
     "output_type": "stream",
     "text": [
      "https://min-api.cryptocompare.com/data/v2/histohour?fsym=BCH&tsym=USD&limit=24&aggregate=1&toTs=1545315780.0\n"
     ]
    }
   ],
   "source": [
    "url = \"https://min-api.cryptocompare.com/data/v2/histohour?fsym=\"+crypto+\"&tsym=USD&limit=24&aggregate=1&toTs=\"+str(targetTime)\n",
    "\n",
    "print(url)\n",
    "\n",
    "response_Json = requests.get(url=url,headers=newHeaders)"
   ]
  },
  {
   "cell_type": "code",
   "execution_count": 154,
   "metadata": {},
   "outputs": [],
   "source": [
    "jsonFile = response_Json.json()"
   ]
  },
  {
   "cell_type": "code",
   "execution_count": 155,
   "metadata": {},
   "outputs": [],
   "source": [
    "jsonData = jsonFile['Data']['Data']"
   ]
  },
  {
   "cell_type": "code",
   "execution_count": 156,
   "metadata": {},
   "outputs": [
    {
     "ename": "TypeError",
     "evalue": "append() takes exactly one argument (0 given)",
     "output_type": "error",
     "traceback": [
      "\u001b[0;31m---------------------------------------------------------------------------\u001b[0m",
      "\u001b[0;31mTypeError\u001b[0m                                 Traceback (most recent call last)",
      "\u001b[0;32m<ipython-input-156-76f6e35b987a>\u001b[0m in \u001b[0;36m<module>\u001b[0;34m\u001b[0m\n\u001b[1;32m     28\u001b[0m     \u001b[0mdatarow\u001b[0m\u001b[0;34m.\u001b[0m\u001b[0mappend\u001b[0m\u001b[0;34m(\u001b[0m\u001b[0mpclose\u001b[0m\u001b[0;34m)\u001b[0m\u001b[0;34m\u001b[0m\u001b[0;34m\u001b[0m\u001b[0m\n\u001b[1;32m     29\u001b[0m     \u001b[0mdatarow\u001b[0m\u001b[0;34m.\u001b[0m\u001b[0mappend\u001b[0m\u001b[0;34m(\u001b[0m \u001b[0;34m(\u001b[0m\u001b[0;34m(\u001b[0m\u001b[0mpclose\u001b[0m\u001b[0;34m-\u001b[0m\u001b[0mpopen\u001b[0m\u001b[0;34m)\u001b[0m\u001b[0;34m/\u001b[0m\u001b[0mpopen\u001b[0m\u001b[0;34m)\u001b[0m \u001b[0;34m*\u001b[0m \u001b[0;36m100\u001b[0m \u001b[0;34m)\u001b[0m\u001b[0;34m\u001b[0m\u001b[0;34m\u001b[0m\u001b[0m\n\u001b[0;32m---> 30\u001b[0;31m     \u001b[0mdatarow\u001b[0m\u001b[0;34m.\u001b[0m\u001b[0mappend\u001b[0m\u001b[0;34m(\u001b[0m\u001b[0;34m)\u001b[0m\u001b[0;34m\u001b[0m\u001b[0;34m\u001b[0m\u001b[0m\n\u001b[0m\u001b[1;32m     31\u001b[0m     \u001b[0mdatarow\u001b[0m\u001b[0;34m.\u001b[0m\u001b[0mappend\u001b[0m\u001b[0;34m(\u001b[0m\u001b[0;34m)\u001b[0m\u001b[0;34m\u001b[0m\u001b[0;34m\u001b[0m\u001b[0m\n\u001b[1;32m     32\u001b[0m \u001b[0;34m\u001b[0m\u001b[0m\n",
      "\u001b[0;31mTypeError\u001b[0m: append() takes exactly one argument (0 given)"
     ]
    }
   ],
   "source": [
    "\n",
    "\n",
    "datarow = []\n",
    "\n",
    "for entry in jsonData : \n",
    "    ptime = entry.pop('time')\n",
    "    \n",
    "    ptime = datetime.fromtimestamp(\n",
    "        int(ptime)\n",
    "    ).strftime('%Y-%m-%d %H:%M:%S')\n",
    "    \n",
    "    phigh = entry.pop('high')\n",
    "    plow = entry.pop('low')\n",
    "    popen = entry.pop('open')\n",
    "    pclose = entry.pop('close')\n",
    "\n",
    "    # pvolumefrom = entry.pop('volumefrom')\n",
    "    # pvolumeto = entry.pop('volumeto')\n",
    "\n",
    "    #pconversionType = entry.pop('conversionType')\n",
    "    #pconversionSymbol = entry.pop('conversionSymbol')\n",
    "\n",
    "    datarow.append(crypto)\n",
    "    datarow.append(datestr)\n",
    "\n",
    "    datarow.append(ptime)\n",
    "    datarow.append(phigh)\n",
    "    datarow.append(plow)\n",
    "    datarow.append(popen)\n",
    "    datarow.append(pclose)\n",
    "    datarow.append( ((pclose-popen)/popen) * 100 )\n",
    "    datarow.append()\n",
    "    datarow.append()\n",
    "\n",
    "    # datarow.append(pconversionType)\n",
    "    # datarow.append(pconversionSymbol)\n",
    "\n",
    "    cryptoprice_set = cryptoprice_set.append(pd.Series(datarow,index=headername),ignore_index=True)\n",
    "    datarow = []\n",
    "    \n",
    "#for key,val in jsonData.items() :\n",
    "#    print(key ,' : ',val)"
   ]
  },
  {
   "cell_type": "code",
   "execution_count": null,
   "metadata": {},
   "outputs": [],
   "source": [
    "#cryptoprice_set"
   ]
  },
  {
   "cell_type": "code",
   "execution_count": null,
   "metadata": {},
   "outputs": [],
   "source": [
    "maxgap_set = cryptoprice_set[cryptoprice_set['gap']==cryptoprice_set['gap'].max()]"
   ]
  },
  {
   "cell_type": "code",
   "execution_count": null,
   "metadata": {},
   "outputs": [],
   "source": [
    "maxgap_set['time'].values\n"
   ]
  },
  {
   "cell_type": "code",
   "execution_count": null,
   "metadata": {},
   "outputs": [],
   "source": [
    "from_time = datetime.strptime(maxgap_set.iloc[0]['time'],'%Y-%m-%d %H:%M:%S') + timedelta(hours=-6)"
   ]
  },
  {
   "cell_type": "code",
   "execution_count": 157,
   "metadata": {},
   "outputs": [],
   "source": [
    "maxgap_set['from_time'] =  from_time"
   ]
  },
  {
   "cell_type": "code",
   "execution_count": 158,
   "metadata": {},
   "outputs": [
    {
     "data": {
      "text/html": [
       "<div>\n",
       "<style scoped>\n",
       "    .dataframe tbody tr th:only-of-type {\n",
       "        vertical-align: middle;\n",
       "    }\n",
       "\n",
       "    .dataframe tbody tr th {\n",
       "        vertical-align: top;\n",
       "    }\n",
       "\n",
       "    .dataframe thead th {\n",
       "        text-align: right;\n",
       "    }\n",
       "</style>\n",
       "<table border=\"1\" class=\"dataframe\">\n",
       "  <thead>\n",
       "    <tr style=\"text-align: right;\">\n",
       "      <th></th>\n",
       "      <th>crypto</th>\n",
       "      <th>date</th>\n",
       "      <th>time</th>\n",
       "      <th>high</th>\n",
       "      <th>low</th>\n",
       "      <th>open</th>\n",
       "      <th>close</th>\n",
       "      <th>gap</th>\n",
       "      <th>from_time</th>\n",
       "      <th>to_time</th>\n",
       "    </tr>\n",
       "  </thead>\n",
       "  <tbody>\n",
       "    <tr>\n",
       "      <td>18</td>\n",
       "      <td>BCH</td>\n",
       "      <td>2018-12-20</td>\n",
       "      <td>2018-12-20 17:00:00</td>\n",
       "      <td>154.01</td>\n",
       "      <td>148.37</td>\n",
       "      <td>140.25</td>\n",
       "      <td>153.08</td>\n",
       "      <td>9.14795</td>\n",
       "      <td>2018-12-20 11:00:00</td>\n",
       "      <td>2018-12-20 23:00:00</td>\n",
       "    </tr>\n",
       "  </tbody>\n",
       "</table>\n",
       "</div>"
      ],
      "text/plain": [
       "   crypto        date                 time    high     low    open   close  \\\n",
       "18    BCH  2018-12-20  2018-12-20 17:00:00  154.01  148.37  140.25  153.08   \n",
       "\n",
       "        gap           from_time             to_time  \n",
       "18  9.14795 2018-12-20 11:00:00 2018-12-20 23:00:00  "
      ]
     },
     "execution_count": 158,
     "metadata": {},
     "output_type": "execute_result"
    }
   ],
   "source": [
    "maxgap_set"
   ]
  },
  {
   "cell_type": "code",
   "execution_count": 159,
   "metadata": {},
   "outputs": [],
   "source": [
    "maxgap_set['to_time'] = datetime.strptime(maxgap_set.iloc[0]['time'],'%Y-%m-%d %H:%M:%S') + timedelta(hours=+6)"
   ]
  },
  {
   "cell_type": "code",
   "execution_count": 160,
   "metadata": {},
   "outputs": [
    {
     "data": {
      "text/html": [
       "<div>\n",
       "<style scoped>\n",
       "    .dataframe tbody tr th:only-of-type {\n",
       "        vertical-align: middle;\n",
       "    }\n",
       "\n",
       "    .dataframe tbody tr th {\n",
       "        vertical-align: top;\n",
       "    }\n",
       "\n",
       "    .dataframe thead th {\n",
       "        text-align: right;\n",
       "    }\n",
       "</style>\n",
       "<table border=\"1\" class=\"dataframe\">\n",
       "  <thead>\n",
       "    <tr style=\"text-align: right;\">\n",
       "      <th></th>\n",
       "      <th>crypto</th>\n",
       "      <th>date</th>\n",
       "      <th>time</th>\n",
       "      <th>high</th>\n",
       "      <th>low</th>\n",
       "      <th>open</th>\n",
       "      <th>close</th>\n",
       "      <th>gap</th>\n",
       "      <th>from_time</th>\n",
       "      <th>to_time</th>\n",
       "    </tr>\n",
       "  </thead>\n",
       "  <tbody>\n",
       "    <tr>\n",
       "      <td>18</td>\n",
       "      <td>BCH</td>\n",
       "      <td>2018-12-20</td>\n",
       "      <td>2018-12-20 17:00:00</td>\n",
       "      <td>154.01</td>\n",
       "      <td>148.37</td>\n",
       "      <td>140.25</td>\n",
       "      <td>153.08</td>\n",
       "      <td>9.14795</td>\n",
       "      <td>2018-12-20 11:00:00</td>\n",
       "      <td>2018-12-20 23:00:00</td>\n",
       "    </tr>\n",
       "  </tbody>\n",
       "</table>\n",
       "</div>"
      ],
      "text/plain": [
       "   crypto        date                 time    high     low    open   close  \\\n",
       "18    BCH  2018-12-20  2018-12-20 17:00:00  154.01  148.37  140.25  153.08   \n",
       "\n",
       "        gap           from_time             to_time  \n",
       "18  9.14795 2018-12-20 11:00:00 2018-12-20 23:00:00  "
      ]
     },
     "execution_count": 160,
     "metadata": {},
     "output_type": "execute_result"
    }
   ],
   "source": [
    "maxgap_set"
   ]
  },
  {
   "cell_type": "code",
   "execution_count": 161,
   "metadata": {},
   "outputs": [],
   "source": [
    "total_cryptoprice_set = pd.concat([total_cryptoprice_set,maxgap_set], axis=0, ignore_index=False)"
   ]
  },
  {
   "cell_type": "code",
   "execution_count": 162,
   "metadata": {},
   "outputs": [
    {
     "data": {
      "text/html": [
       "<div>\n",
       "<style scoped>\n",
       "    .dataframe tbody tr th:only-of-type {\n",
       "        vertical-align: middle;\n",
       "    }\n",
       "\n",
       "    .dataframe tbody tr th {\n",
       "        vertical-align: top;\n",
       "    }\n",
       "\n",
       "    .dataframe thead th {\n",
       "        text-align: right;\n",
       "    }\n",
       "</style>\n",
       "<table border=\"1\" class=\"dataframe\">\n",
       "  <thead>\n",
       "    <tr style=\"text-align: right;\">\n",
       "      <th></th>\n",
       "      <th>crypto</th>\n",
       "      <th>date</th>\n",
       "      <th>time</th>\n",
       "      <th>high</th>\n",
       "      <th>low</th>\n",
       "      <th>open</th>\n",
       "      <th>close</th>\n",
       "      <th>gap</th>\n",
       "      <th>from_time</th>\n",
       "      <th>to_time</th>\n",
       "    </tr>\n",
       "  </thead>\n",
       "  <tbody>\n",
       "    <tr>\n",
       "      <td>18</td>\n",
       "      <td>BCH</td>\n",
       "      <td>2018-12-20</td>\n",
       "      <td>2018-12-20 17:00:00</td>\n",
       "      <td>154.01</td>\n",
       "      <td>148.37</td>\n",
       "      <td>140.25</td>\n",
       "      <td>153.08</td>\n",
       "      <td>9.14795</td>\n",
       "      <td>2018-12-20 11:00:00</td>\n",
       "      <td>2018-12-20 23:00:00</td>\n",
       "    </tr>\n",
       "  </tbody>\n",
       "</table>\n",
       "</div>"
      ],
      "text/plain": [
       "   crypto        date                 time    high     low    open   close  \\\n",
       "18    BCH  2018-12-20  2018-12-20 17:00:00  154.01  148.37  140.25  153.08   \n",
       "\n",
       "        gap           from_time             to_time  \n",
       "18  9.14795 2018-12-20 11:00:00 2018-12-20 23:00:00  "
      ]
     },
     "execution_count": 162,
     "metadata": {},
     "output_type": "execute_result"
    }
   ],
   "source": [
    "total_cryptoprice_set"
   ]
  },
  {
   "cell_type": "code",
   "execution_count": null,
   "metadata": {},
   "outputs": [],
   "source": []
  },
  {
   "cell_type": "code",
   "execution_count": null,
   "metadata": {},
   "outputs": [],
   "source": []
  }
 ],
 "metadata": {
  "kernelspec": {
   "display_name": "Python 3",
   "language": "python",
   "name": "python3"
  },
  "language_info": {
   "codemirror_mode": {
    "name": "ipython",
    "version": 3
   },
   "file_extension": ".py",
   "mimetype": "text/x-python",
   "name": "python",
   "nbconvert_exporter": "python",
   "pygments_lexer": "ipython3",
   "version": "3.7.4"
  }
 },
 "nbformat": 4,
 "nbformat_minor": 2
}

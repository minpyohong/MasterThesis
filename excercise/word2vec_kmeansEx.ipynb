{
 "cells": [
  {
   "cell_type": "code",
   "execution_count": 57,
   "metadata": {},
   "outputs": [],
   "source": [
    "from gensim.models import Word2Vec\n",
    "sentences = [['this', 'is', 'the', 'good', 'machine', 'learning', 'book'],\n",
    "            ['this', 'is',  'another', 'book'],\n",
    "            ['one', 'more', 'book'],\n",
    "            ['this', 'is', 'the', 'new', 'post'],\n",
    "                        ['this', 'is', 'about', 'machine', 'learning', 'post'],  \n",
    "            ['and', 'this', 'is', 'the', 'last', 'post']]"
   ]
  },
  {
   "cell_type": "code",
   "execution_count": 58,
   "metadata": {},
   "outputs": [],
   "source": [
    "model = Word2Vec(sentences, min_count=1)"
   ]
  },
  {
   "cell_type": "code",
   "execution_count": 59,
   "metadata": {},
   "outputs": [
    {
     "name": "stdout",
     "output_type": "stream",
     "text": [
      "-0.07161511\n",
      "0.07225639\n"
     ]
    },
    {
     "name": "stderr",
     "output_type": "stream",
     "text": [
      "/Users/hongminpyo/opt/anaconda3/lib/python3.7/site-packages/ipykernel_launcher.py:1: DeprecationWarning: Call to deprecated `similarity` (Method will be removed in 4.0.0, use self.wv.similarity() instead).\n",
      "  \"\"\"Entry point for launching an IPython kernel.\n",
      "/Users/hongminpyo/opt/anaconda3/lib/python3.7/site-packages/ipykernel_launcher.py:2: DeprecationWarning: Call to deprecated `similarity` (Method will be removed in 4.0.0, use self.wv.similarity() instead).\n",
      "  \n"
     ]
    }
   ],
   "source": [
    "print (model.similarity('this', 'is'))\n",
    "print (model.similarity('post', 'book'))"
   ]
  },
  {
   "cell_type": "code",
   "execution_count": 60,
   "metadata": {},
   "outputs": [
    {
     "name": "stdout",
     "output_type": "stream",
     "text": [
      "[('is', 0.1328774094581604), ('the', 0.09724082052707672)]\n"
     ]
    },
    {
     "name": "stderr",
     "output_type": "stream",
     "text": [
      "/Users/hongminpyo/opt/anaconda3/lib/python3.7/site-packages/ipykernel_launcher.py:1: DeprecationWarning: Call to deprecated `most_similar` (Method will be removed in 4.0.0, use self.wv.most_similar() instead).\n",
      "  \"\"\"Entry point for launching an IPython kernel.\n"
     ]
    }
   ],
   "source": [
    "print(model.most_similar(positive=['machine'], negative=[], topn=2))"
   ]
  },
  {
   "cell_type": "code",
   "execution_count": 61,
   "metadata": {},
   "outputs": [
    {
     "name": "stdout",
     "output_type": "stream",
     "text": [
      "[-2.8292744e-03 -1.4823861e-03  3.6923396e-03  3.1893898e-03\n",
      " -4.0421668e-03  1.6356577e-03  3.1081351e-04 -2.9887152e-03\n",
      " -3.8710148e-03  3.6801016e-03 -4.6402121e-07  3.2084463e-03\n",
      " -9.9575857e-04 -2.3488300e-03  2.5680338e-03  4.2600683e-03\n",
      " -4.7708284e-03 -2.8578236e-03 -2.5015981e-03 -7.1268500e-05\n",
      " -1.5579674e-03  3.2802948e-04 -1.9888212e-03  1.1244254e-03\n",
      "  3.1297777e-03 -2.7870219e-03 -1.6483221e-03 -3.6543766e-03\n",
      "  1.0266524e-03  8.5655350e-04  1.7500062e-03  1.8703372e-03\n",
      "  3.7466867e-03  1.7998886e-04  5.4835255e-04 -2.3481550e-03\n",
      "  3.2236363e-04  4.1147768e-03  4.5022410e-03  3.2631541e-03\n",
      "  1.6037627e-03  3.8759641e-03 -8.2252896e-04 -1.8424911e-03\n",
      " -2.4837928e-03  2.9514891e-03  2.0161185e-03  2.6532488e-03\n",
      " -2.4105271e-03  8.6248474e-04 -1.7983491e-03 -1.0564849e-03\n",
      " -2.8425020e-03  1.6369530e-03  3.9695790e-03  2.9481220e-04\n",
      "  1.5220476e-03 -2.8519512e-03 -7.4902712e-04  4.1571124e-03\n",
      " -4.9998448e-03  1.1128037e-03  2.8499558e-03  3.3599588e-03\n",
      "  4.2505385e-03  4.2573726e-03  3.2399362e-03 -1.5183848e-03\n",
      "  2.8472079e-03 -2.1606840e-03 -3.3519897e-03 -1.9205066e-03\n",
      " -2.3074623e-03 -1.8036939e-03 -3.8317571e-04 -2.9396375e-03\n",
      " -3.5158398e-03 -4.8298342e-03  1.1131885e-03  2.0739862e-03\n",
      "  2.8903969e-03 -8.8712305e-04 -3.2019394e-03  5.0057168e-04\n",
      "  4.8469533e-03 -1.9133394e-03 -3.8794226e-03  2.1879480e-04\n",
      "  2.1256509e-03  4.9287840e-03  3.2342982e-04  1.7205348e-03\n",
      "  3.2356451e-03 -1.6727953e-03 -4.6930774e-03 -1.5480080e-04\n",
      "  5.1045639e-04  2.5442746e-03  2.4481337e-03  2.5033676e-03]\n"
     ]
    },
    {
     "name": "stderr",
     "output_type": "stream",
     "text": [
      "/Users/hongminpyo/opt/anaconda3/lib/python3.7/site-packages/ipykernel_launcher.py:1: DeprecationWarning: Call to deprecated `__getitem__` (Method will be removed in 4.0.0, use self.wv.__getitem__() instead).\n",
      "  \"\"\"Entry point for launching an IPython kernel.\n"
     ]
    }
   ],
   "source": [
    "print(model['the'])"
   ]
  },
  {
   "cell_type": "code",
   "execution_count": 62,
   "metadata": {},
   "outputs": [
    {
     "name": "stdout",
     "output_type": "stream",
     "text": [
      "['this', 'is', 'the', 'good', 'machine', 'learning', 'book', 'another', 'one', 'more', 'new', 'post', 'about', 'and', 'last']\n"
     ]
    }
   ],
   "source": [
    "print(list(model.wv.vocab))"
   ]
  },
  {
   "cell_type": "code",
   "execution_count": 63,
   "metadata": {},
   "outputs": [
    {
     "name": "stdout",
     "output_type": "stream",
     "text": [
      "15\n"
     ]
    }
   ],
   "source": [
    "print(len(list(model.wv.vocab)))"
   ]
  },
  {
   "cell_type": "code",
   "execution_count": 64,
   "metadata": {},
   "outputs": [
    {
     "name": "stderr",
     "output_type": "stream",
     "text": [
      "/Users/hongminpyo/opt/anaconda3/lib/python3.7/site-packages/ipykernel_launcher.py:1: DeprecationWarning: Call to deprecated `__getitem__` (Method will be removed in 4.0.0, use self.wv.__getitem__() instead).\n",
      "  \"\"\"Entry point for launching an IPython kernel.\n"
     ]
    }
   ],
   "source": [
    "X = model[model.wv.vocab]"
   ]
  },
  {
   "cell_type": "code",
   "execution_count": 65,
   "metadata": {},
   "outputs": [
    {
     "data": {
      "text/plain": [
       "array([[ 2.5351953e-03,  1.4299485e-03,  2.6563238e-03, ...,\n",
       "         1.5152147e-03, -3.6343150e-03, -1.8284625e-03],\n",
       "       [-3.1568285e-03, -1.9812649e-03, -4.3853763e-03, ...,\n",
       "         3.8578273e-03,  9.3657618e-05, -3.4113855e-03],\n",
       "       [-2.8292744e-03, -1.4823861e-03,  3.6923396e-03, ...,\n",
       "         2.5442746e-03,  2.4481337e-03,  2.5033676e-03],\n",
       "       ...,\n",
       "       [-3.0070052e-05, -4.6785371e-03,  1.8964130e-03, ...,\n",
       "        -2.0406756e-04, -3.7880202e-03, -2.7899821e-03],\n",
       "       [ 4.2501525e-03, -3.8578790e-03,  1.6380018e-03, ...,\n",
       "         4.0801838e-03,  1.7965217e-06,  3.3381237e-03],\n",
       "       [ 4.6454494e-05,  1.6821682e-03,  2.9048244e-03, ...,\n",
       "        -5.9642375e-04, -3.8903810e-03, -2.8932423e-03]], dtype=float32)"
      ]
     },
     "execution_count": 65,
     "metadata": {},
     "output_type": "execute_result"
    }
   ],
   "source": [
    "X"
   ]
  },
  {
   "cell_type": "code",
   "execution_count": 66,
   "metadata": {},
   "outputs": [
    {
     "name": "stderr",
     "output_type": "stream",
     "text": [
      "No handles with labels found to put in legend.\n"
     ]
    },
    {
     "name": "stdout",
     "output_type": "stream",
     "text": [
      "[[ 2.5351953e-03  1.4299485e-03  2.6563238e-03 ...  1.5152147e-03\n",
      "  -3.6343150e-03 -1.8284625e-03]\n",
      " [-3.1568285e-03 -1.9812649e-03 -4.3853763e-03 ...  3.8578273e-03\n",
      "   9.3657618e-05 -3.4113855e-03]\n",
      " [-2.8292744e-03 -1.4823861e-03  3.6923396e-03 ...  2.5442746e-03\n",
      "   2.4481337e-03  2.5033676e-03]\n",
      " ...\n",
      " [-3.0070052e-05 -4.6785371e-03  1.8964130e-03 ... -2.0406756e-04\n",
      "  -3.7880202e-03 -2.7899821e-03]\n",
      " [ 4.2501525e-03 -3.8578790e-03  1.6380018e-03 ...  4.0801838e-03\n",
      "   1.7965217e-06  3.3381237e-03]\n",
      " [ 4.6454494e-05  1.6821682e-03  2.9048244e-03 ... -5.9642375e-04\n",
      "  -3.8903810e-03 -2.8932423e-03]]\n",
      "[2, 2, 2, 0, 2, 1, 1, 1, 1, 0, 0, 2, 1, 0, 1]\n"
     ]
    },
    {
     "data": {
      "image/png": "[encoded data removed]",
      "text/plain": [
       "<Figure size 432x288 with 1 Axes>"
      ]
     },
     "metadata": {
      "needs_background": "light"
     },
     "output_type": "display_data"
    }
   ],
   "source": [
    "from nltk.cluster import KMeansClusterer\n",
    "import nltk\n",
    "NUM_CLUSTERS=3\n",
    "kclusterer = KMeansClusterer(NUM_CLUSTERS, distance=nltk.cluster.util.cosine_distance, repeats=25)\n",
    "assigned_clusters = kclusterer.cluster(X, assign_clusters=True)\n",
    "print(X)\n",
    "print(assigned_clusters)\n",
    "#s = [str(i) for i in assigned_clusters] \n",
    "#temp = ' '.join(s)\n",
    "#print(temp)\n",
    "#y_km1 = []\n",
    "#y_km1.append(int(temp))\n",
    "#print(y_km1)\n",
    "\n",
    "# output: [0, 2, 1, 2, 2, 1, 2, 2, 0, 1, 0, 1, 2, 1, 2]\n",
    "\n",
    "plt.scatter(X[:,0],X[:,1])\n",
    "#plt.scatter(X[y_km1==0,0],X[y_km1==0,1],c='lightgreen',marker='s',s=60 , label='cluster1')\n",
    "#plt.scatter(X[assigned_clusters==1,0],X[assigned_clusters==1,1],c='orange',marker='o',s=60 , label='cluster2')\n",
    "#plt.scatter(X[assigned_clusters==2,0],X[assigned_clusters==2,1],c='lightblue',marker='v',s=60 , label='cluster3')\n",
    "#plt.scatter(kmeans.cluster_centers_[:,0],kmeans.cluster_centers_[:,1],c='red',marker='*',s=60 , label='center cluster')\n",
    "\n",
    "plt.legend()\n",
    "plt.grid(True)\n",
    "plt.show()"
   ]
  },
  {
   "cell_type": "code",
   "execution_count": 67,
   "metadata": {},
   "outputs": [
    {
     "name": "stdout",
     "output_type": "stream",
     "text": [
      "this:2\n",
      "is:2\n",
      "the:2\n",
      "good:0\n",
      "machine:2\n",
      "learning:1\n",
      "book:1\n",
      "another:1\n",
      "one:1\n",
      "more:0\n",
      "new:0\n",
      "post:2\n",
      "about:1\n",
      "and:0\n",
      "last:1\n"
     ]
    }
   ],
   "source": [
    "words = list(model.wv.vocab)\n",
    "for i, word in enumerate(words):  \n",
    "    print (word + \":\" + str(assigned_clusters[i]))"
   ]
  },
  {
   "cell_type": "code",
   "execution_count": 68,
   "metadata": {},
   "outputs": [
    {
     "name": "stdout",
     "output_type": "stream",
     "text": [
      "[[ 2.5351953e-03  1.4299485e-03  2.6563238e-03 ...  1.5152147e-03\n",
      "  -3.6343150e-03 -1.8284625e-03]\n",
      " [-3.1568285e-03 -1.9812649e-03 -4.3853763e-03 ...  3.8578273e-03\n",
      "   9.3657618e-05 -3.4113855e-03]\n",
      " [-2.8292744e-03 -1.4823861e-03  3.6923396e-03 ...  2.5442746e-03\n",
      "   2.4481337e-03  2.5033676e-03]\n",
      " ...\n",
      " [-3.0070052e-05 -4.6785371e-03  1.8964130e-03 ... -2.0406756e-04\n",
      "  -3.7880202e-03 -2.7899821e-03]\n",
      " [ 4.2501525e-03 -3.8578790e-03  1.6380018e-03 ...  4.0801838e-03\n",
      "   1.7965217e-06  3.3381237e-03]\n",
      " [ 4.6454494e-05  1.6821682e-03  2.9048244e-03 ... -5.9642375e-04\n",
      "  -3.8903810e-03 -2.8932423e-03]]\n",
      "[0 2 2 1 2 0 2 2 1 2 2 0 1 1 0]\n"
     ]
    },
    {
     "data": {
      "image/png": "[encoded data removed]",
      "text/plain": [
       "<Figure size 432x288 with 1 Axes>"
      ]
     },
     "metadata": {
      "needs_background": "light"
     },
     "output_type": "display_data"
    }
   ],
   "source": [
    "from sklearn import cluster\n",
    "from sklearn import metrics\n",
    "import matplotlib\n",
    "import matplotlib.pyplot as plt\n",
    "from matplotlib import style\n",
    "kmeans = cluster.KMeans(n_clusters=NUM_CLUSTERS, init='k-means++', random_state=0)\n",
    "kmeans.fit(X)\n",
    " \n",
    "labels = kmeans.labels_\n",
    "centroids = kmeans.cluster_centers_\n",
    "\n",
    "y_km = kmeans.fit_predict(X)\n",
    "\n",
    "print(X)\n",
    "print(y_km)\n",
    "\n",
    "plt.scatter(X[y_km==0,0],X[y_km==0,1],c='lightgreen',marker='s',s=10 , label='cluster1')\n",
    "plt.scatter(X[y_km==1,0],X[y_km==1,1],c='orange',marker='o',s=10 , label='cluster2')\n",
    "plt.scatter(X[y_km==2,0],X[y_km==2,1],c='lightblue',marker='v',s=10 , label='cluster3')\n",
    "plt.scatter(kmeans.cluster_centers_[:,0],kmeans.cluster_centers_[:,1],c='red',marker='*',s=30 , label='center cluster')\n",
    "\n",
    "plt.legend()\n",
    "plt.grid(True)\n",
    "plt.show()\n",
    "    "
   ]
  },
  {
   "cell_type": "code",
   "execution_count": 69,
   "metadata": {},
   "outputs": [
    {
     "data": {
      "text/plain": [
       "numpy.ndarray"
      ]
     },
     "execution_count": 69,
     "metadata": {},
     "output_type": "execute_result"
    }
   ],
   "source": [
    "type(y_km)"
   ]
  },
  {
   "cell_type": "code",
   "execution_count": null,
   "metadata": {},
   "outputs": [],
   "source": []
  }
 ],
 "metadata": {
  "kernelspec": {
   "display_name": "Python 3",
   "language": "python",
   "name": "python3"
  },
  "language_info": {
   "codemirror_mode": {
    "name": "ipython",
    "version": 3
   },
   "file_extension": ".py",
   "mimetype": "text/x-python",
   "name": "python",
   "nbconvert_exporter": "python",
   "pygments_lexer": "ipython3",
   "version": "3.7.4"
  }
 },
 "nbformat": 4,
 "nbformat_minor": 2
}
